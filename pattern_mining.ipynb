{
 "cells": [
  {
   "cell_type": "markdown",
   "id": "2cfa218c",
   "metadata": {},
   "source": [
    "# PATTERN MINING"
   ]
  },
  {
   "cell_type": "code",
   "execution_count": 1,
   "id": "76c01c86",
   "metadata": {},
   "outputs": [],
   "source": [
    "import pandas as pd\n",
    "import seaborn as sns\n",
    "import matplotlib.pyplot as plt\n",
    "from mlxtend.preprocessing import TransactionEncoder\n",
    "from mlxtend.frequent_patterns import apriori, association_rules\n",
    "import numpy as np\n",
    "from mlxtend.frequent_patterns import fpgrowth"
   ]
  },
  {
   "cell_type": "code",
   "execution_count": null,
   "id": "a576fa9f",
   "metadata": {},
   "outputs": [],
   "source": [
    "train = pd.read_csv('pp_train.csv')\n",
    "test = pd.read_csv('pp_test.csv')\n",
    "df = pd.concat([train, test], axis=0, ignore_index=True) #abbiamo unito train e test\n",
    "#df = train"
   ]
  },
  {
   "cell_type": "code",
   "execution_count": 3,
   "id": "5d4b04ba",
   "metadata": {},
   "outputs": [
    {
     "name": "stdout",
     "output_type": "stream",
     "text": [
      "<class 'pandas.core.frame.DataFrame'>\n",
      "RangeIndex: 16172 entries, 0 to 16171\n",
      "Data columns (total 65 columns):\n",
      " #   Column                       Non-Null Count  Dtype  \n",
      "---  ------                       --------------  -----  \n",
      " 0   originalTitle                16172 non-null  object \n",
      " 1   rating                       16172 non-null  int64  \n",
      " 2   startYear                    16172 non-null  int64  \n",
      " 3   endYear                      15387 non-null  float64\n",
      " 4   runtimeMinutes               11577 non-null  float64\n",
      " 5   awardWins                    16172 non-null  float64\n",
      " 6   numVotes                     16172 non-null  int64  \n",
      " 7   totalImages                  16172 non-null  int64  \n",
      " 8   totalVideos                  16172 non-null  int64  \n",
      " 9   totalCredits                 16172 non-null  int64  \n",
      " 10  criticReviewsTotal           16172 non-null  int64  \n",
      " 11  titleType                    16172 non-null  object \n",
      " 12  awardNominationsExcludeWins  16172 non-null  int64  \n",
      " 13  canHaveEpisodes              16172 non-null  bool   \n",
      " 14  isAdult                      16172 non-null  int64  \n",
      " 15  numRegions                   16172 non-null  int64  \n",
      " 16  userReviewsTotal             16172 non-null  int64  \n",
      " 17  is_Documentary               16172 non-null  int64  \n",
      " 18  is_History                   16172 non-null  int64  \n",
      " 19  is_Adventure                 16172 non-null  int64  \n",
      " 20  is_Thriller                  16172 non-null  int64  \n",
      " 21  is_Game-Show                 16172 non-null  int64  \n",
      " 22  is_Comedy                    16172 non-null  int64  \n",
      " 23  is_Sci-Fi                    16172 non-null  int64  \n",
      " 24  is_Romance                   16172 non-null  int64  \n",
      " 25  is_Biography                 16172 non-null  int64  \n",
      " 26  is_Musical                   16172 non-null  int64  \n",
      " 27  is_Western                   16172 non-null  int64  \n",
      " 28  is_Music                     16172 non-null  int64  \n",
      " 29  is_Film-Noir                 16172 non-null  int64  \n",
      " 30  is_Adult                     16172 non-null  int64  \n",
      " 31  is_Reality-TV                16172 non-null  int64  \n",
      " 32  is_News                      16172 non-null  int64  \n",
      " 33  is_Action                    16172 non-null  int64  \n",
      " 34  is_Crime                     16172 non-null  int64  \n",
      " 35  is_Short                     16172 non-null  int64  \n",
      " 36  is_Fantasy                   16172 non-null  int64  \n",
      " 37  is_Family                    16172 non-null  int64  \n",
      " 38  is_Mystery                   16172 non-null  int64  \n",
      " 39  is_Talk-Show                 16172 non-null  int64  \n",
      " 40  is_Drama                     16172 non-null  int64  \n",
      " 41  is_Sport                     16172 non-null  int64  \n",
      " 42  is_War                       16172 non-null  int64  \n",
      " 43  is_Horror                    16172 non-null  int64  \n",
      " 44  is_Animation                 16172 non-null  int64  \n",
      " 45  fill_runtimeMinutes          16172 non-null  float64\n",
      " 46  is_from_Oceania              16172 non-null  int64  \n",
      " 47  is_from_North America        16172 non-null  int64  \n",
      " 48  is_from_South America        16172 non-null  int64  \n",
      " 49  is_from_Asia                 16172 non-null  int64  \n",
      " 50  is_from_Africa               16172 non-null  int64  \n",
      " 51  is_from_Europe               16172 non-null  int64  \n",
      " 52  countryOfOrigin              16172 non-null  object \n",
      " 53  countryOfOrigin_freq_enc     16172 non-null  float64\n",
      " 54  countryOfOrigin_NA           16172 non-null  int64  \n",
      " 55  countryOfOrigin_AF           16172 non-null  int64  \n",
      " 56  countryOfOrigin_AS           16172 non-null  int64  \n",
      " 57  countryOfOrigin_EU           16172 non-null  int64  \n",
      " 58  countryOfOrigin_OC           16172 non-null  int64  \n",
      " 59  countryOfOrigin_SA           16172 non-null  int64  \n",
      " 60  countryOfOrigin_UNK          16172 non-null  int64  \n",
      " 61  fill_runtimeMinutes_Bruno    16172 non-null  float64\n",
      " 62  totalNominations             16172 non-null  float64\n",
      " 63  totalMedia                   16172 non-null  int64  \n",
      " 64  runtimeMinutes_notitletype   16172 non-null  float64\n",
      "dtypes: bool(1), float64(8), int64(53), object(3)\n",
      "memory usage: 7.9+ MB\n"
     ]
    }
   ],
   "source": [
    "df.info()"
   ]
  },
  {
   "cell_type": "code",
   "execution_count": 4,
   "id": "9f754901",
   "metadata": {},
   "outputs": [
    {
     "data": {
      "text/plain": [
       "Index(['originalTitle', 'rating', 'startYear', 'endYear', 'runtimeMinutes',\n",
       "       'awardWins', 'numVotes', 'totalImages', 'totalVideos', 'totalCredits',\n",
       "       'criticReviewsTotal', 'titleType', 'awardNominationsExcludeWins',\n",
       "       'canHaveEpisodes', 'isAdult', 'numRegions', 'userReviewsTotal',\n",
       "       'is_Documentary', 'is_History', 'is_Adventure', 'is_Thriller',\n",
       "       'is_Game-Show', 'is_Comedy', 'is_Sci-Fi', 'is_Romance', 'is_Biography',\n",
       "       'is_Musical', 'is_Western', 'is_Music', 'is_Film-Noir', 'is_Adult',\n",
       "       'is_Reality-TV', 'is_News', 'is_Action', 'is_Crime', 'is_Short',\n",
       "       'is_Fantasy', 'is_Family', 'is_Mystery', 'is_Talk-Show', 'is_Drama',\n",
       "       'is_Sport', 'is_War', 'is_Horror', 'is_Animation',\n",
       "       'fill_runtimeMinutes', 'is_from_Oceania', 'is_from_North America',\n",
       "       'is_from_South America', 'is_from_Asia', 'is_from_Africa',\n",
       "       'is_from_Europe', 'countryOfOrigin', 'countryOfOrigin_freq_enc',\n",
       "       'countryOfOrigin_NA', 'countryOfOrigin_AF', 'countryOfOrigin_AS',\n",
       "       'countryOfOrigin_EU', 'countryOfOrigin_OC', 'countryOfOrigin_SA',\n",
       "       'countryOfOrigin_UNK', 'fill_runtimeMinutes_Bruno', 'totalNominations',\n",
       "       'totalMedia', 'runtimeMinutes_notitletype'],\n",
       "      dtype='object')"
      ]
     },
     "execution_count": 4,
     "metadata": {},
     "output_type": "execute_result"
    }
   ],
   "source": [
    "df.columns"
   ]
  },
  {
   "cell_type": "markdown",
   "id": "8ed22a68",
   "metadata": {},
   "source": [
    "## Gestione variabili "
   ]
  },
  {
   "cell_type": "markdown",
   "id": "3163d36b",
   "metadata": {},
   "source": [
    "### Osservare la distribuzione delle numeriche per binning"
   ]
  },
  {
   "cell_type": "code",
   "execution_count": 5,
   "id": "55f69ccf",
   "metadata": {},
   "outputs": [
    {
     "data": {
      "text/plain": [
       "totalNominations\n",
       "0.0      13468\n",
       "1.0       1000\n",
       "2.0        500\n",
       "3.0        250\n",
       "4.0        211\n",
       "         ...  \n",
       "152.0        1\n",
       "160.0        1\n",
       "170.0        1\n",
       "172.0        2\n",
       "306.0        1\n",
       "Name: count, Length: 78, dtype: int64"
      ]
     },
     "execution_count": 5,
     "metadata": {},
     "output_type": "execute_result"
    }
   ],
   "source": [
    "df['totalNominations'].value_counts().sort_index()"
   ]
  },
  {
   "cell_type": "code",
   "execution_count": 6,
   "id": "02f30fd7",
   "metadata": {},
   "outputs": [
    {
     "name": "stdout",
     "output_type": "stream",
     "text": [
      "count    16172.000000\n",
      "mean         0.974895\n",
      "std          6.199345\n",
      "min          0.000000\n",
      "25%          0.000000\n",
      "50%          0.000000\n",
      "75%          0.000000\n",
      "max        306.000000\n",
      "Name: totalNominations, dtype: float64\n"
     ]
    },
    {
     "data": {
      "image/png": "[encoded data removed]",
      "text/plain": [
       "<Figure size 1000x500 with 1 Axes>"
      ]
     },
     "metadata": {},
     "output_type": "display_data"
    }
   ],
   "source": [
    "# Statistiche descrittive\n",
    "print(df['totalNominations'].describe())\n",
    "\n",
    "# Istogramma + KDE (curva di densità)\n",
    "plt.figure(figsize=(10, 5))\n",
    "sns.histplot(df['totalNominations'].dropna(), bins=30, kde=True, color='skyblue')\n",
    "plt.title('Distribuzione di totalNomination')\n",
    "plt.xlabel('totalNomination')\n",
    "plt.ylabel('Frequenza')\n",
    "plt.grid(True)\n",
    "# plt.yscale(\"log\")\n",
    "plt.show()"
   ]
  },
  {
   "cell_type": "code",
   "execution_count": 7,
   "id": "79e5c52d",
   "metadata": {},
   "outputs": [
    {
     "data": {
      "text/plain": [
       "startYear\n",
       "1878      1\n",
       "1891      1\n",
       "1893      1\n",
       "1894      5\n",
       "1895      5\n",
       "       ... \n",
       "2020    386\n",
       "2021    387\n",
       "2022    353\n",
       "2023    312\n",
       "2024    126\n",
       "Name: count, Length: 133, dtype: int64"
      ]
     },
     "execution_count": 7,
     "metadata": {},
     "output_type": "execute_result"
    }
   ],
   "source": [
    "df['startYear'].value_counts().sort_index()\n",
    "# df['fill_runtimeMinutes_Bruno'].value_counts().sort_index()\n",
    "# df['totalMedia'].value_counts().sort_index()\n",
    "# df['numVotes'].value_counts().sort_index()\n",
    "# df['totalCredits'].value_counts().sort_index()\n",
    "# df['criticReviewsTotal'].value_counts().sort_index()\n",
    "# df['numRegions'].value_counts().sort_index()\n",
    "# df['userReviewsTotal'].value_counts().sort_index()\n",
    "# df['rating'].value_counts().sort_index()"
   ]
  },
  {
   "cell_type": "markdown",
   "id": "cc7cc7be",
   "metadata": {},
   "source": [
    "### Trasformazione binaria con valori semanticamente significativi"
   ]
  },
  {
   "cell_type": "code",
   "execution_count": 8,
   "id": "e042ef05",
   "metadata": {},
   "outputs": [
    {
     "data": {
      "text/plain": [
       "0        cant_have_episodes\n",
       "1        cant_have_episodes\n",
       "2         can_have_episodes\n",
       "3         can_have_episodes\n",
       "4        cant_have_episodes\n",
       "                ...        \n",
       "16167    cant_have_episodes\n",
       "16168    cant_have_episodes\n",
       "16169    cant_have_episodes\n",
       "16170    cant_have_episodes\n",
       "16171    cant_have_episodes\n",
       "Name: canHaveEpisodes, Length: 16172, dtype: object"
      ]
     },
     "execution_count": 8,
     "metadata": {},
     "output_type": "execute_result"
    }
   ],
   "source": [
    "df[\"canHaveEpisodes\"] = df[\"canHaveEpisodes\"].astype(int)\n",
    "canhaveeps_dict = {0: \"cant_have_episodes\", 1: \"can_have_episodes\"}\n",
    "df[\"canHaveEpisodes\"] = df[\"canHaveEpisodes\"].map(canhaveeps_dict)\n",
    "df[\"canHaveEpisodes\"]"
   ]
  },
  {
   "cell_type": "code",
   "execution_count": 9,
   "id": "7fc9d917",
   "metadata": {},
   "outputs": [
    {
     "data": {
      "text/plain": [
       "0        is_not_adult\n",
       "1        is_not_adult\n",
       "2        is_not_adult\n",
       "3        is_not_adult\n",
       "4        is_not_adult\n",
       "             ...     \n",
       "16167    is_not_adult\n",
       "16168    is_not_adult\n",
       "16169    is_not_adult\n",
       "16170    is_not_adult\n",
       "16171    is_not_adult\n",
       "Name: isAdult, Length: 16172, dtype: object"
      ]
     },
     "execution_count": 9,
     "metadata": {},
     "output_type": "execute_result"
    }
   ],
   "source": [
    "df[\"isAdult\"] = df[\"isAdult\"].astype(int)\n",
    "canhaveeps_dict = {0: \"is_not_adult\", 1: \"is_adult\"}\n",
    "df[\"isAdult\"] = df[\"isAdult\"].map(canhaveeps_dict)\n",
    "df[\"isAdult\"]"
   ]
  },
  {
   "cell_type": "markdown",
   "id": "60d775da",
   "metadata": {},
   "source": [
    "### Handling of numerical attributes\n",
    "Delle seguenti variabili: 'rating', 'startYear', 'numVotes', 'totalCredits', 'criticReviewsTotal', 'numRegions', 'userReviewsTotal',\n",
    "    'countryOfOrigin_freq_enc',\n",
    "       'countryOfOrigin_NA', 'countryOfOrigin_AF', 'countryOfOrigin_AS',\n",
    "       'countryOfOrigin_EU', 'countryOfOrigin_OC', 'countryOfOrigin_SA',\n",
    "       'countryOfOrigin_UNK'\n",
    "       'fill_runtimeMinutes_Bruno', 'totalNominations',\n",
    "       'totalMedia'"
   ]
  },
  {
   "cell_type": "code",
   "execution_count": 10,
   "id": "696a72e4",
   "metadata": {},
   "outputs": [],
   "source": [
    "df_copy = df.copy()"
   ]
  },
  {
   "cell_type": "markdown",
   "id": "8f306dc5",
   "metadata": {},
   "source": [
    "##### TotalNominations"
   ]
  },
  {
   "cell_type": "code",
   "execution_count": 11,
   "id": "5a0bf0ae",
   "metadata": {},
   "outputs": [],
   "source": [
    "df_copy[\"log_totalNominations\"] = np.log1p(df[\"totalNominations\"])"
   ]
  },
  {
   "cell_type": "code",
   "execution_count": 12,
   "id": "d4effb5f",
   "metadata": {},
   "outputs": [
    {
     "name": "stdout",
     "output_type": "stream",
     "text": [
      "                   count       mean        std   min   25%   50%    75%    max\n",
      "log_nom_bin_cut                                                               \n",
      "ZeroNom          13468.0   0.000000   0.000000   0.0   0.0   0.0   0.00    0.0\n",
      "LowNom            1961.0   1.832738   1.019989   1.0   1.0   1.0   2.00    4.0\n",
      "MediumNom          608.0   9.000000   3.818364   5.0   6.0   8.0  11.25   19.0\n",
      "VeryHighNom        135.0  49.629630  42.109442  20.0  25.0  32.0  58.50  306.0\n"
     ]
    }
   ],
   "source": [
    "#TOTALNOMINATIONS LOG-TRANSFORMED\n",
    "log_bins = [-0.01, 0, np.log(5), np.log(20), df_copy['log_totalNominations'].max()]\n",
    "labels = ['ZeroNom', 'LowNom', 'MediumNom', 'VeryHighNom']\n",
    "\n",
    "df_copy['log_nom_bin_cut'] = pd.cut(df_copy['log_totalNominations'], \n",
    "                                bins=log_bins, \n",
    "                                labels=labels)\n",
    "\n",
    "print(df_copy.groupby('log_nom_bin_cut')['totalNominations'].describe())"
   ]
  },
  {
   "cell_type": "code",
   "execution_count": 13,
   "id": "0247510d",
   "metadata": {},
   "outputs": [
    {
     "name": "stdout",
     "output_type": "stream",
     "text": [
      "                        count       mean        std   min   25%   50%   75%  \\\n",
      "totalNominations_bin                                                          \n",
      "ZeroNom               13468.0   0.000000   0.000000   0.0   0.0   0.0   0.0   \n",
      "LowNom                 1500.0   1.333333   0.471562   1.0   1.0   1.0   2.0   \n",
      "MediumNom               889.0   5.092238   2.047421   3.0   3.0   4.0   6.0   \n",
      "VeryHighNom             315.0  29.330159  32.716484  11.0  13.0  18.0  29.0   \n",
      "\n",
      "                        max  \n",
      "totalNominations_bin         \n",
      "ZeroNom                 0.0  \n",
      "LowNom                  2.0  \n",
      "MediumNom              10.0  \n",
      "VeryHighNom           306.0  \n"
     ]
    }
   ],
   "source": [
    "#TOTALNOMINATIONS NON LOG-TRANSFORMED   \n",
    "bins = [-1, 0, 2, 10, df_copy['totalNominations'].max()]\n",
    "labels = ['ZeroNom', 'LowNom', 'MediumNom', 'VeryHighNom']\n",
    "\n",
    "df_copy['totalNominations_bin'] = pd.cut(df_copy['totalNominations'], \n",
    "                                bins=bins, \n",
    "                                labels=labels)\n",
    "\n",
    "print(df_copy.groupby('totalNominations_bin')['totalNominations'].describe())"
   ]
  },
  {
   "cell_type": "markdown",
   "id": "c833fae1",
   "metadata": {},
   "source": [
    "##### TotalMedia"
   ]
  },
  {
   "cell_type": "code",
   "execution_count": 14,
   "id": "b90d9794",
   "metadata": {},
   "outputs": [],
   "source": [
    "df_copy[\"log_totalMedia\"] = np.log1p(df[\"totalMedia\"])"
   ]
  },
  {
   "cell_type": "code",
   "execution_count": 15,
   "id": "e4fbb6e7",
   "metadata": {},
   "outputs": [
    {
     "name": "stdout",
     "output_type": "stream",
     "text": [
      "                count        mean         std   min   25%   50%    75%     max\n",
      "media_bin                                                                     \n",
      "ZeroMedia      3244.0    0.000000    0.000000   0.0   0.0   0.0    0.0     0.0\n",
      "LowMedia       4718.0    1.000000    0.000000   1.0   1.0   1.0    1.0     1.0\n",
      "MediumMedia    5036.0    3.853058    1.916388   2.0   2.0   3.0    5.0     8.0\n",
      "HighMedia      2491.0   19.391811   10.393224   9.0  11.0  16.0   25.0    50.0\n",
      "VeryHighMedia   683.0  172.879941  324.980243  51.0  67.0  91.0  145.0  3516.0\n"
     ]
    }
   ],
   "source": [
    "#TOTALMEDIA NON LOG-TRANSFORMED\n",
    "bins = [-1, 0, 1, 8, 50, df_copy['totalMedia'].max()]\n",
    "labels = ['ZeroMedia', 'LowMedia', 'MediumMedia', 'HighMedia', 'VeryHighMedia']\n",
    "df_copy['media_bin'] = pd.cut(df_copy['totalMedia'], bins=bins, labels=labels)\n",
    "\n",
    "print(df_copy.groupby('media_bin')['totalMedia'].describe())"
   ]
  },
  {
   "cell_type": "code",
   "execution_count": 16,
   "id": "d92d6f02",
   "metadata": {},
   "outputs": [
    {
     "name": "stdout",
     "output_type": "stream",
     "text": [
      "                count      mean       std  min  25%  50%  75%  max\n",
      "log_media_bin                                                     \n",
      "ZeroMedia      3244.0  0.000000  0.000000  0.0  0.0  0.0  0.0  0.0\n",
      "LowMedia       4718.0  1.000000  0.000000  1.0  1.0  1.0  1.0  1.0\n",
      "MediumMedia    2704.0  2.345414  0.475591  2.0  2.0  2.0  3.0  3.0\n",
      "HighMedia       708.0  4.000000  0.000000  4.0  4.0  4.0  4.0  4.0\n",
      "VeryHighMedia  1624.0  6.299261  1.110239  5.0  5.0  6.0  7.0  8.0\n"
     ]
    }
   ],
   "source": [
    "#TOTALMEDIA LOG-TRANSFORMED\n",
    "log_bins = [-1, 0, 1.61, 3.1, 4.0, np.log(df_copy['totalMedia'].max())]\n",
    "labels = ['ZeroMedia', 'LowMedia', 'MediumMedia', 'HighMedia', 'VeryHighMedia']\n",
    "df_copy['log_media_bin'] = pd.cut(df_copy['totalMedia'], bins=log_bins, labels=labels)\n",
    "\n",
    "print(df_copy.groupby('log_media_bin')['totalMedia'].describe())"
   ]
  },
  {
   "cell_type": "markdown",
   "id": "1d7742b9",
   "metadata": {},
   "source": [
    "##### fill_runtimeMinutes_Bruno"
   ]
  },
  {
   "cell_type": "code",
   "execution_count": 17,
   "id": "6cde13a3",
   "metadata": {},
   "outputs": [],
   "source": [
    "df_copy[\"log_fill_runtimeMinutes_Bruno\"] = np.log1p(df[\"fill_runtimeMinutes_Bruno\"])"
   ]
  },
  {
   "cell_type": "code",
   "execution_count": 18,
   "id": "0b5a0207",
   "metadata": {},
   "outputs": [
    {
     "name": "stdout",
     "output_type": "stream",
     "text": [
      "                  count        mean         std    min    25%    50%    75%  \\\n",
      "runtime_bin                                                                   \n",
      "VeryLowRuntime   3785.0   14.903303    7.492149    0.0    8.0   15.0   22.0   \n",
      "LowRuntime       5560.0   42.296223   11.042357   26.0   30.0   43.0   50.0   \n",
      "MediumRuntime    6194.0   89.693252   12.032890   61.0   83.0   90.0   97.0   \n",
      "HighRuntime       524.0  142.404580   16.687101  121.0  129.0  138.0  152.0   \n",
      "VeryHighRuntime   109.0  296.715596  294.919483  181.0  199.0  225.0  309.0   \n",
      "\n",
      "                    max  \n",
      "runtime_bin              \n",
      "VeryLowRuntime     25.0  \n",
      "LowRuntime         60.0  \n",
      "MediumRuntime     120.0  \n",
      "HighRuntime       180.0  \n",
      "VeryHighRuntime  3000.0  \n"
     ]
    }
   ],
   "source": [
    "#FILL_RUNTIMEMINS_BRUNO NON LOG-TRANSFORMED\n",
    "bins = [-1, 25, 60, 120, 180, df_copy['fill_runtimeMinutes_Bruno'].max()]\n",
    "labels = ['VeryLowRuntime', 'LowRuntime', 'MediumRuntime', 'HighRuntime', \"VeryHighRuntime\"]\n",
    "\n",
    "df_copy['runtime_bin'] = pd.cut(df_copy['fill_runtimeMinutes_Bruno'], bins=bins, labels=labels)\n",
    "print(df_copy.groupby('runtime_bin')['fill_runtimeMinutes_Bruno'].describe())"
   ]
  },
  {
   "cell_type": "code",
   "execution_count": 19,
   "id": "8940dcae",
   "metadata": {},
   "outputs": [
    {
     "name": "stdout",
     "output_type": "stream",
     "text": [
      "                  count        mean         std    min    25%    50%    75%  \\\n",
      "log_runtime_bin                                                               \n",
      "VeryLowRuntime    557.0    3.847397    1.731027    0.0    3.0    4.0    5.0   \n",
      "LowRuntime       5157.0   21.527438    7.949552    7.0   14.0   24.0   30.0   \n",
      "MediumRuntime    6460.0   62.572910   16.917661   33.0   46.0   60.0   80.0   \n",
      "HighRuntime      3957.0  105.715694   22.297381   90.0   92.0   98.0  109.0   \n",
      "VeryHighRuntime    41.0  448.780488  443.042465  247.0  291.0  352.0  420.0   \n",
      "\n",
      "                    max  \n",
      "log_runtime_bin          \n",
      "VeryLowRuntime      6.0  \n",
      "LowRuntime         32.0  \n",
      "MediumRuntime      89.0  \n",
      "HighRuntime       241.0  \n",
      "VeryHighRuntime  3000.0  \n"
     ]
    }
   ],
   "source": [
    "#FILL_RUNTIMEMINS_BRUNO LOG-TRANSFORMED\n",
    "bins = [-np.inf, 2.0, 3.5, 4.5, 5.5, np.inf]\n",
    "labels = ['VeryLowRuntime', 'LowRuntime', 'MediumRuntime', 'HighRuntime', 'VeryHighRuntime']\n",
    "\n",
    "df_copy['log_runtime_bin'] = pd.cut(\n",
    "    df_copy['log_fill_runtimeMinutes_Bruno'],\n",
    "    bins=bins,\n",
    "    labels=labels,\n",
    "    ordered=True)\n",
    "\n",
    "print(df_copy.groupby('log_runtime_bin')['fill_runtimeMinutes_Bruno'].describe())"
   ]
  },
  {
   "cell_type": "markdown",
   "id": "7118ec87",
   "metadata": {},
   "source": [
    "##### rating"
   ]
  },
  {
   "cell_type": "code",
   "execution_count": 20,
   "id": "75d4b05e",
   "metadata": {},
   "outputs": [
    {
     "name": "stdout",
     "output_type": "stream",
     "text": [
      "rating_bin\n",
      "HighRating        4743\n",
      "MediumRating      4493\n",
      "LowRating         4336\n",
      "VeryHighRating    2380\n",
      "VeryLowRating      220\n",
      "Name: count, dtype: int64\n",
      "                 count      mean       std  min  25%  50%  75%   max\n",
      "rating_bin                                                          \n",
      "VeryLowRating    220.0  2.677273  0.515009  1.0  2.0  3.0  3.0   3.0\n",
      "LowRating       4336.0  5.526522  0.679397  4.0  5.0  6.0  6.0   6.0\n",
      "MediumRating    4493.0  7.000000  0.000000  7.0  7.0  7.0  7.0   7.0\n",
      "HighRating      4743.0  8.000000  0.000000  8.0  8.0  8.0  8.0   8.0\n",
      "VeryHighRating  2380.0  9.144538  0.351708  9.0  9.0  9.0  9.0  10.0\n"
     ]
    }
   ],
   "source": [
    "#RATING \n",
    "bins = [-1, 3, 6, 7, 8, df_copy['rating'].max()]\n",
    "labels = ['VeryLowRating', 'LowRating', 'MediumRating', 'HighRating', \"VeryHighRating\"]\n",
    "df_copy['rating_bin'] = pd.cut(df_copy['rating'], bins=bins, labels=labels)\n",
    "\n",
    "print(df_copy['rating_bin'].value_counts())\n",
    "print(df_copy.groupby('rating_bin')['rating'].describe())"
   ]
  },
  {
   "cell_type": "markdown",
   "id": "ad7cfcac",
   "metadata": {},
   "source": [
    "##### numVotes"
   ]
  },
  {
   "cell_type": "code",
   "execution_count": 21,
   "id": "23c1a18c",
   "metadata": {},
   "outputs": [],
   "source": [
    "df_copy[\"log_numVotes\"] = np.log1p(df[\"numVotes\"])"
   ]
  },
  {
   "cell_type": "code",
   "execution_count": 22,
   "id": "85b5da11",
   "metadata": {},
   "outputs": [
    {
     "name": "stdout",
     "output_type": "stream",
     "text": [
      "                   count          mean            std     min      25%  \\\n",
      "log_numvotes_bin                                                         \n",
      "VeryLowVotes      3666.0      9.181124       2.338580     5.0     7.00   \n",
      "LowVotes          5413.0     26.096250       9.584849    14.0    18.00   \n",
      "MediumVotes       3038.0     87.668203      27.553615    49.0    64.00   \n",
      "HighVotes         3484.0    624.902985     586.882406   148.0   228.75   \n",
      "VeryHighVotes      571.0  38164.800350  101425.457222  2980.0  4124.50   \n",
      "\n",
      "                     50%      75%       max  \n",
      "log_numvotes_bin                             \n",
      "VeryLowVotes         9.0     11.0      13.0  \n",
      "LowVotes            24.0     33.0      48.0  \n",
      "MediumVotes         83.0    109.0     147.0  \n",
      "HighVotes          390.0    783.0    2973.0  \n",
      "VeryHighVotes     6905.0  21639.0  966565.0  \n"
     ]
    }
   ],
   "source": [
    "#NUMVOTES LOG-TRANSFORMED\n",
    "bins = [-np.inf, 2.7, 3.9, 5.0, 8.0, np.inf]\n",
    "labels = ['VeryLowVotes', 'LowVotes', 'MediumVotes', 'HighVotes', 'VeryHighVotes']\n",
    "\n",
    "# Applicazione\n",
    "df_copy['log_numvotes_bin'] = pd.cut(\n",
    "    df_copy['log_numVotes'],\n",
    "    bins=bins,\n",
    "    labels=labels\n",
    ")\n",
    "\n",
    "print(df_copy.groupby('log_numvotes_bin')['numVotes'].describe())"
   ]
  },
  {
   "cell_type": "code",
   "execution_count": 23,
   "id": "1eef9d03",
   "metadata": {},
   "outputs": [
    {
     "name": "stdout",
     "output_type": "stream",
     "text": [
      "                count          mean           std     min     25%     50%  \\\n",
      "numVotes_bin                                                                \n",
      "VeryLowVotes   4342.0     10.011055      2.896966     5.0     8.0    10.0   \n",
      "LowVotes       4858.0     28.290860      9.616359    16.0    20.0    26.0   \n",
      "MediumVotes    2962.0     90.160027     27.750907    51.0    66.0    85.0   \n",
      "HighVotes      2811.0    394.016364    221.960919   151.0   214.0   324.0   \n",
      "VeryHighVotes  1199.0  19061.698916  72296.465442  1001.0  1542.0  2802.0   \n",
      "\n",
      "                  75%       max  \n",
      "numVotes_bin                     \n",
      "VeryLowVotes     12.0      15.0  \n",
      "LowVotes         35.0      50.0  \n",
      "MediumVotes     111.0     150.0  \n",
      "HighVotes       521.0     997.0  \n",
      "VeryHighVotes  6440.5  966565.0  \n"
     ]
    }
   ],
   "source": [
    "#NUMVOTES NON LOG-TRANSFORMED\n",
    "labels = ['VeryLowVotes', 'LowVotes', 'MediumVotes', 'HighVotes', 'VeryHighVotes']\n",
    "bins = [4, 15, 50, 150, 1000, float('inf')]  # include il min=5 e max=1.071.372\n",
    "\n",
    "df_copy['numVotes_bin'] = pd.cut(df['numVotes'], bins=bins, labels=labels, include_lowest=True)\n",
    "print(df_copy.groupby('numVotes_bin')['numVotes'].describe())"
   ]
  },
  {
   "cell_type": "markdown",
   "id": "acb00d92",
   "metadata": {},
   "source": [
    "##### StartYear"
   ]
  },
  {
   "cell_type": "code",
   "execution_count": 24,
   "id": "6cd220b5",
   "metadata": {},
   "outputs": [
    {
     "name": "stdout",
     "output_type": "stream",
     "text": [
      "                count         mean        std     min      25%     50%  \\\n",
      "startYear_bin                                                            \n",
      "pre-1930        528.0  1914.831439  11.311025  1891.0  1905.75  1916.0   \n",
      "1930-1954      1054.0  1943.922201   7.444484  1931.0  1937.00  1944.0   \n",
      "1955-1979      2948.0  1969.436906   6.904980  1956.0  1964.00  1970.0   \n",
      "1980-1999      4394.0  1991.327720   5.392791  1981.0  1987.00  1992.0   \n",
      "2000-2019      4064.0  2008.979085   4.125022  2001.0  2006.00  2009.0   \n",
      "post-2020      3183.0  2019.513981   2.389949  2016.0  2017.00  2019.0   \n",
      "\n",
      "                  75%     max  \n",
      "startYear_bin                  \n",
      "pre-1930       1925.0  1930.0  \n",
      "1930-1954      1951.0  1955.0  \n",
      "1955-1979      1975.0  1980.0  \n",
      "1980-1999      1996.0  1999.0  \n",
      "2000-2019      2012.0  2015.0  \n",
      "post-2020      2021.0  2024.0  \n"
     ]
    }
   ],
   "source": [
    "#STARTYEAR\n",
    "bins =[\n",
    "    1878,  # Cinema delle origini e muto\n",
    "    1930,  # Cinema sonoro classico e radio\n",
    "    1955,  # TV B/N e colore, cinema widescreen\n",
    "    1980,  # Video domestico e media transazionali\n",
    "    2000,  # DVD, internet e mobile\n",
    "    2015,  # Streaming integrato e nuovi media\n",
    "    df_copy['startYear'].max()] #era corrente\n",
    "labels = ['pre-1930', '1930-1954', '1955-1979', '1980-1999', '2000-2019', 'post-2020']\n",
    "df_copy['startYear_bin'] = pd.cut(df_copy['startYear'], bins=bins, labels=labels)\n",
    "\n",
    "print(df_copy.groupby('startYear_bin')['startYear'].describe())"
   ]
  },
  {
   "cell_type": "markdown",
   "id": "7171b585",
   "metadata": {},
   "source": [
    "##### totalCredits"
   ]
  },
  {
   "cell_type": "code",
   "execution_count": 25,
   "id": "0335fa18",
   "metadata": {},
   "outputs": [],
   "source": [
    "df_copy[\"log_totalCredits\"] = np.log1p(df[\"totalCredits\"])"
   ]
  },
  {
   "cell_type": "code",
   "execution_count": 26,
   "id": "2a648f87",
   "metadata": {},
   "outputs": [],
   "source": [
    "#TOTALCREDITS LOG-TRANSFORMED\n",
    "bins = [-np.inf, 2.0, 3.0, 4.2, 6.0, np.inf]\n",
    "labels = ['VeryLowCredits', 'LowCredits', 'MediumCredits', 'HighCredits', 'VeryHighCredits']\n",
    "\n",
    "df_copy['log_totalCredits_bin'] = pd.cut(df_copy['log_totalCredits'], bins=bins, labels=labels)"
   ]
  },
  {
   "cell_type": "code",
   "execution_count": 27,
   "id": "d922877a",
   "metadata": {},
   "outputs": [
    {
     "name": "stdout",
     "output_type": "stream",
     "text": [
      "                       count        mean          std    min    25%    50%  \\\n",
      "log_totalCredits_bin                                                         \n",
      "VeryLowCredits        1369.0    3.424397     1.916462    0.0    2.0    4.0   \n",
      "LowCredits            3488.0   12.847764     3.717982    7.0   10.0   13.0   \n",
      "MediumCredits         7273.0   38.512856    12.718871   20.0   27.0   37.0   \n",
      "HighCredits           3854.0  129.102750    67.472930   66.0   80.0  106.0   \n",
      "VeryHighCredits        188.0  912.569149  1281.549009  403.0  499.0  619.5   \n",
      "\n",
      "                         75%      max  \n",
      "log_totalCredits_bin                   \n",
      "VeryLowCredits          5.00      6.0  \n",
      "LowCredits             16.00     19.0  \n",
      "MediumCredits          48.00     65.0  \n",
      "HighCredits           153.00    402.0  \n",
      "VeryHighCredits       893.75  15742.0  \n"
     ]
    }
   ],
   "source": [
    "print(df_copy.groupby('log_totalCredits_bin')['totalCredits'].describe())"
   ]
  },
  {
   "cell_type": "code",
   "execution_count": 28,
   "id": "f2ddb706",
   "metadata": {},
   "outputs": [],
   "source": [
    "#TOTALCREDITS NON LOG-TRANSFORMED\n",
    "labels = ['VeryLowCredits', 'LowCredits', 'MediumCredits', 'HighCredits', 'VeryHighCredits']\n",
    "bins = [-1, 15, 35, 65, 200, float('inf')]\n",
    "\n",
    "df_copy['totalCredits_bin'] = pd.cut(df['totalCredits'], bins=bins, labels=labels, include_lowest=True)"
   ]
  },
  {
   "cell_type": "code",
   "execution_count": 29,
   "id": "26b87880",
   "metadata": {},
   "outputs": [
    {
     "name": "stdout",
     "output_type": "stream",
     "text": [
      "                   count        mean         std    min    25%    50%    75%  \\\n",
      "totalCredits_bin                                                               \n",
      "VeryLowCredits    3849.0    8.286568    4.323488    0.0    5.0    8.0   12.0   \n",
      "LowCredits        4395.0   24.857793    5.734295   16.0   20.0   25.0   30.0   \n",
      "MediumCredits     3886.0   48.497169    8.379934   36.0   41.0   48.0   55.0   \n",
      "HighCredits       3336.0  107.252098   35.102074   66.0   78.0   98.0  130.0   \n",
      "VeryHighCredits    706.0  440.980170  720.213857  201.0  234.0  288.0  419.5   \n",
      "\n",
      "                      max  \n",
      "totalCredits_bin           \n",
      "VeryLowCredits       15.0  \n",
      "LowCredits           35.0  \n",
      "MediumCredits        65.0  \n",
      "HighCredits         200.0  \n",
      "VeryHighCredits   15742.0  \n"
     ]
    }
   ],
   "source": [
    "print(df_copy.groupby('totalCredits_bin')['totalCredits'].describe())"
   ]
  },
  {
   "cell_type": "markdown",
   "id": "d763024d",
   "metadata": {},
   "source": [
    "##### criticReviewsTotal"
   ]
  },
  {
   "cell_type": "code",
   "execution_count": 30,
   "id": "a236ddc9",
   "metadata": {},
   "outputs": [],
   "source": [
    "df_copy[\"log_criticReviewsTotal\"] = np.log1p(df[\"criticReviewsTotal\"])"
   ]
  },
  {
   "cell_type": "code",
   "execution_count": 31,
   "id": "63c52e95",
   "metadata": {},
   "outputs": [],
   "source": [
    "#CRITICREVIEWS LOG-TRANSFORMED\n",
    "bins = [-0.01, 0.0, 1.4, 2.3, 3.4, 4.6, np.inf]\n",
    "labels = [\n",
    "    'NoCriticReviews',\n",
    "    'FewCriticReviews',\n",
    "    'ModerateCriticReviews',\n",
    "    'ManyCriticReviews',\n",
    "    'VeryHighCriticReviews',\n",
    "    'ExtensiveCriticReviews'\n",
    "]\n",
    "\n",
    "df_copy['log_criticReviewsTotal_bin'] = pd.cut(\n",
    "    df_copy['log_criticReviewsTotal'],\n",
    "    bins=bins,\n",
    "    labels=labels\n",
    ")"
   ]
  },
  {
   "cell_type": "code",
   "execution_count": 32,
   "id": "af978484",
   "metadata": {},
   "outputs": [
    {
     "name": "stdout",
     "output_type": "stream",
     "text": [
      "                              count        mean        std   min    25%  \\\n",
      "log_criticReviewsTotal_bin                                                \n",
      "NoCriticReviews             11241.0    0.000000   0.000000   0.0    0.0   \n",
      "FewCriticReviews             3085.0    1.521880   0.722928   1.0    1.0   \n",
      "ModerateCriticReviews         880.0    5.435227   1.332327   4.0    4.0   \n",
      "ManyCriticReviews             642.0   14.981308   5.414745   9.0   10.0   \n",
      "VeryHighCriticReviews         249.0   51.445783  18.713407  29.0   35.0   \n",
      "ExtensiveCriticReviews         75.0  181.946667  89.882039  99.0  119.0   \n",
      "\n",
      "                              50%    75%    max  \n",
      "log_criticReviewsTotal_bin                       \n",
      "NoCriticReviews               0.0    0.0    0.0  \n",
      "FewCriticReviews              1.0    2.0    3.0  \n",
      "ModerateCriticReviews         5.0    6.0    8.0  \n",
      "ManyCriticReviews            13.0   18.0   28.0  \n",
      "VeryHighCriticReviews        47.0   63.0   98.0  \n",
      "ExtensiveCriticReviews      147.0  225.5  533.0  \n"
     ]
    }
   ],
   "source": [
    "print(df_copy.groupby('log_criticReviewsTotal_bin')['criticReviewsTotal'].describe())"
   ]
  },
  {
   "cell_type": "code",
   "execution_count": 33,
   "id": "4f1725d0",
   "metadata": {},
   "outputs": [
    {
     "name": "stdout",
     "output_type": "stream",
     "text": [
      "                          count        mean        std   min   25%   50%  \\\n",
      "criticReviewsTotal_bin                                                     \n",
      "NoCriticReviews         11241.0    0.000000   0.000000   0.0   0.0   0.0   \n",
      "FewCriticReviews         1896.0    1.000000   0.000000   1.0   1.0   1.0   \n",
      "ModerateCriticReviews    1690.0    2.966864   1.060666   2.0   2.0   3.0   \n",
      "ManyCriticReviews         898.0   10.263920   3.900726   6.0   7.0   9.0   \n",
      "VeryHighCriticReviews     239.0   29.665272   6.770308  21.0  24.0  28.0   \n",
      "ExtensiveCriticReviews    208.0  107.379808  78.612761  46.0  56.0  79.5   \n",
      "\n",
      "                           75%    max  \n",
      "criticReviewsTotal_bin                 \n",
      "NoCriticReviews           0.00    0.0  \n",
      "FewCriticReviews          1.00    1.0  \n",
      "ModerateCriticReviews     4.00    5.0  \n",
      "ManyCriticReviews        13.00   20.0  \n",
      "VeryHighCriticReviews    35.00   45.0  \n",
      "ExtensiveCriticReviews  125.25  533.0  \n"
     ]
    }
   ],
   "source": [
    "#CRITICREVIEWS NON LOG-TRANSFORMED\n",
    "labels = [\n",
    "    'NoCriticReviews',\n",
    "    'FewCriticReviews',\n",
    "    'ModerateCriticReviews',\n",
    "    'ManyCriticReviews',\n",
    "    'VeryHighCriticReviews',\n",
    "    'ExtensiveCriticReviews'\n",
    "]\n",
    "bins = [-1, 0, 1, 5, 20, 45, float('inf')]\n",
    "\n",
    "df_copy['criticReviewsTotal_bin'] = pd.cut(df['criticReviewsTotal'], bins=bins, labels=labels, include_lowest=True)\n",
    "print(df_copy.groupby('criticReviewsTotal_bin')['criticReviewsTotal'].describe())"
   ]
  },
  {
   "cell_type": "markdown",
   "id": "52fbb1cf",
   "metadata": {},
   "source": [
    "##### numRegions"
   ]
  },
  {
   "cell_type": "code",
   "execution_count": 34,
   "id": "80325e95",
   "metadata": {},
   "outputs": [],
   "source": [
    "df_copy[\"log_numRegions\"] = np.log1p(df[\"numRegions\"])"
   ]
  },
  {
   "cell_type": "code",
   "execution_count": 35,
   "id": "69c6699e",
   "metadata": {},
   "outputs": [],
   "source": [
    "#NUMREGIONS LOG-TRANSFORMED\n",
    "bins = [-np.inf, 1.2, 2.0, 3.2, np.inf]\n",
    "labels = ['VeryFewRegions', 'ModerateRegions', 'ManyRegions', 'GlobalRegions']\n",
    "\n",
    "# Applicazione\n",
    "df_copy['log_numRegions_bin'] = pd.cut(\n",
    "    df_copy['log_numRegions'],\n",
    "    bins=bins,\n",
    "    labels=labels\n",
    ")"
   ]
  },
  {
   "cell_type": "code",
   "execution_count": 36,
   "id": "9283a408",
   "metadata": {},
   "outputs": [
    {
     "name": "stdout",
     "output_type": "stream",
     "text": [
      "                      count       mean       std   min   25%   50%   75%   max\n",
      "log_numRegions_bin                                                            \n",
      "VeryFewRegions      11268.0   1.164892  0.371099   1.0   1.0   1.0   1.0   2.0\n",
      "ModerateRegions      2437.0   4.144850  1.068636   3.0   3.0   4.0   5.0   6.0\n",
      "ManyRegions          2124.0  10.867702  4.483277   7.0   7.0   9.0  13.0  23.0\n",
      "GlobalRegions         343.0  33.571429  8.855566  24.0  27.0  31.0  38.5  69.0\n"
     ]
    }
   ],
   "source": [
    "print(df_copy.groupby('log_numRegions_bin')['numRegions'].describe())"
   ]
  },
  {
   "cell_type": "code",
   "execution_count": 37,
   "id": "074d6c2f",
   "metadata": {},
   "outputs": [
    {
     "name": "stdout",
     "output_type": "stream",
     "text": [
      "                  count       mean       std  min   25%   50%   75%   max\n",
      "numRegions_bin                                                           \n",
      "VeryFewRegions   9410.0   1.000000  0.000000  1.0   1.0   1.0   1.0   1.0\n",
      "ModerateRegions  2731.0   2.319663  0.466431  2.0   2.0   2.0   3.0   3.0\n",
      "ManyRegions      2514.0   5.701671  1.359445  4.0   4.0   6.0   7.0   8.0\n",
      "GlobalRegions    1517.0  18.290046  9.942791  9.0  11.0  15.0  22.0  69.0\n"
     ]
    }
   ],
   "source": [
    "#NUMREGIONS NON LOG-TRANSFORMED\n",
    "labels = ['VeryFewRegions', 'ModerateRegions', 'ManyRegions', 'GlobalRegions']\n",
    "bins = [0, 1, 3, 8, float('inf')]\n",
    "\n",
    "df_copy['numRegions_bin'] = pd.cut(df['numRegions'], bins=bins, labels=labels, include_lowest=True)\n",
    "print(df_copy.groupby('numRegions_bin')['numRegions'].describe())\n"
   ]
  },
  {
   "cell_type": "markdown",
   "id": "2c04a4d8",
   "metadata": {},
   "source": [
    "##### userReviewsTotal"
   ]
  },
  {
   "cell_type": "code",
   "execution_count": 38,
   "id": "9adc0297",
   "metadata": {},
   "outputs": [],
   "source": [
    "df_copy[\"log_userReviewsTotal\"] = np.log1p(df[\"userReviewsTotal\"])"
   ]
  },
  {
   "cell_type": "code",
   "execution_count": 39,
   "id": "93fd2435",
   "metadata": {},
   "outputs": [],
   "source": [
    "#USERREVIEWSTOTAL LOG-TRANSFORMED\n",
    "bins = [-0.01, 0.0, 2.8, 5.0, np.inf]\n",
    "labels = ['NoUserReviews', 'FewUserReviews', 'ModerateUserReviews', 'ManyUserReviews']\n",
    "\n",
    "# Applicazione\n",
    "df_copy['log_userReviewsTotal_bin'] = pd.cut(\n",
    "    df_copy['log_userReviewsTotal'],\n",
    "    bins=bins,\n",
    "    labels=labels)"
   ]
  },
  {
   "cell_type": "code",
   "execution_count": 40,
   "id": "ec5badb6",
   "metadata": {},
   "outputs": [
    {
     "name": "stdout",
     "output_type": "stream",
     "text": [
      "                           count        mean         std    min    25%    50%  \\\n",
      "log_userReviewsTotal_bin                                                        \n",
      "NoUserReviews             9072.0    0.000000    0.000000    0.0    0.0    0.0   \n",
      "FewUserReviews            6121.0    3.373142    3.281453    1.0    1.0    2.0   \n",
      "ModerateUserReviews        840.0   41.333333   28.784652   16.0   21.0   30.0   \n",
      "ManyUserReviews            139.0  452.179856  556.943018  148.0  192.0  290.0   \n",
      "\n",
      "                            75%     max  \n",
      "log_userReviewsTotal_bin                 \n",
      "NoUserReviews               0.0     0.0  \n",
      "FewUserReviews              4.0    15.0  \n",
      "ModerateUserReviews        51.0   145.0  \n",
      "ManyUserReviews           509.0  5727.0  \n"
     ]
    }
   ],
   "source": [
    "print(df_copy.groupby('log_userReviewsTotal_bin')['userReviewsTotal'].describe())"
   ]
  },
  {
   "cell_type": "code",
   "execution_count": 41,
   "id": "66ee3e54",
   "metadata": {},
   "outputs": [],
   "source": [
    "#USERREVIEWSTOTAL NON LOG-TRANSFORMED\n",
    "labels = ['NoUserReviews', 'FewUserReviews', 'ModerateUserReviews', 'ManyUserReviews']\n",
    "bins = [-1, 0, 3, 30, float('inf')]\n",
    "\n",
    "df_copy['userReviewsTotal_bin'] = pd.cut(df['userReviewsTotal'], bins=bins, labels=labels, include_lowest=True)"
   ]
  },
  {
   "cell_type": "code",
   "execution_count": 42,
   "id": "31dec078",
   "metadata": {},
   "outputs": [
    {
     "name": "stdout",
     "output_type": "stream",
     "text": [
      "                       count        mean         std   min   25%   50%    75%  \\\n",
      "userReviewsTotal_bin                                                            \n",
      "NoUserReviews         9072.0    0.000000    0.000000   0.0   0.0   0.0    0.0   \n",
      "FewUserReviews        4220.0    1.563270    0.737398   1.0   1.0   1.0    2.0   \n",
      "ModerateUserReviews   2335.0   10.084368    6.596212   4.0   5.0   8.0   13.0   \n",
      "ManyUserReviews        545.0  161.607339  329.066516  31.0  43.0  67.0  149.0   \n",
      "\n",
      "                         max  \n",
      "userReviewsTotal_bin          \n",
      "NoUserReviews            0.0  \n",
      "FewUserReviews           3.0  \n",
      "ModerateUserReviews     30.0  \n",
      "ManyUserReviews       5727.0  \n"
     ]
    }
   ],
   "source": [
    "print(df_copy.groupby('userReviewsTotal_bin')['userReviewsTotal'].describe())"
   ]
  },
  {
   "cell_type": "markdown",
   "id": "f2ad8c29",
   "metadata": {},
   "source": [
    "##### countryOfOrigin_freqenc"
   ]
  },
  {
   "cell_type": "code",
   "execution_count": 43,
   "id": "6f835407",
   "metadata": {},
   "outputs": [
    {
     "data": {
      "text/plain": [
       "count    16172.000000\n",
       "mean         0.193976\n",
       "std          0.182497\n",
       "min          0.000056\n",
       "25%          0.018089\n",
       "50%          0.098792\n",
       "75%          0.397061\n",
       "max          0.658429\n",
       "Name: countryOfOrigin_freq_enc, dtype: float64"
      ]
     },
     "execution_count": 43,
     "metadata": {},
     "output_type": "execute_result"
    }
   ],
   "source": [
    "df_copy[\"countryOfOrigin_freq_enc\"].describe()"
   ]
  },
  {
   "cell_type": "code",
   "execution_count": 44,
   "id": "cf6cbbe6",
   "metadata": {},
   "outputs": [],
   "source": [
    "bins = [-0.01, 0.03, 0.3, 1.0]\n",
    "labels = ['bassa_COFE', 'media_COFE', 'alta_COFE']\n",
    "\n",
    "df_copy[\"country_freq_bin\"] = pd.cut(\n",
    "    df_copy[\"countryOfOrigin_freq_enc\"],\n",
    "    bins=bins,\n",
    "    labels=labels\n",
    ")"
   ]
  },
  {
   "cell_type": "code",
   "execution_count": 45,
   "id": "3ae6192d",
   "metadata": {},
   "outputs": [
    {
     "name": "stdout",
     "output_type": "stream",
     "text": [
      "                   count      mean       std       min       25%       50%  \\\n",
      "country_freq_bin                                                             \n",
      "bassa_COFE        4915.0  0.011203  0.007729  0.000056  0.005510  0.009406   \n",
      "media_COFE        4254.0  0.065469  0.029882  0.030556  0.037012  0.047086   \n",
      "alta_COFE         7003.0  0.400315  0.016402  0.397061  0.397061  0.397061   \n",
      "\n",
      "                       75%       max  \n",
      "country_freq_bin                      \n",
      "bassa_COFE        0.017532  0.029888  \n",
      "media_COFE        0.098792  0.204931  \n",
      "alta_COFE         0.397061  0.658429  \n"
     ]
    }
   ],
   "source": [
    "print(df_copy.groupby('country_freq_bin')['countryOfOrigin_freq_enc'].describe())"
   ]
  },
  {
   "cell_type": "markdown",
   "id": "2ea49eee",
   "metadata": {},
   "source": [
    "### Handling of categorical attributes"
   ]
  },
  {
   "cell_type": "markdown",
   "id": "faf86f48",
   "metadata": {},
   "source": [
    "##### countryOfOrigin"
   ]
  },
  {
   "cell_type": "code",
   "execution_count": 46,
   "id": "5799fa78",
   "metadata": {},
   "outputs": [],
   "source": [
    "# # BINARIZZAZIONE -  ONE HOT ENCODING \n",
    "# df_copy['from_Europe_bin'] = (df_copy['countryOfOrigin_EU'] > 0).astype(int)\n",
    "# df_copy['from_NorthAmerica_bin'] = (df_copy['countryOfOrigin_NA'] > 0).astype(int)\n",
    "# df_copy['from_SouthAmerica_bin'] = (df_copy['countryOfOrigin_SA'] > 0).astype(int)\n",
    "# df_copy['from_Asia_bin'] = (df_copy['countryOfOrigin_SA'] > 0).astype(int)\n",
    "# df_copy['from_Oceania_bin'] = (df_copy['countryOfOrigin_OC'] > 0).astype(int)\n",
    "# df_copy['from_Africa_bin'] = (df_copy['countryOfOrigin_AF'] > 0).astype(int)\n",
    "# df_copy['from_Unknown_bin'] = (df_copy['countryOfOrigin_UNK'] > 0).astype(int)\n"
   ]
  },
  {
   "cell_type": "code",
   "execution_count": 47,
   "id": "ce207c84",
   "metadata": {},
   "outputs": [],
   "source": [
    "# DISCRETIZZAZIONE A PIù LIVELLI\n",
    "def discretize_continent_count(df, col_name, cont):\n",
    "    new_col = f'{cont }_bin'\n",
    "    \n",
    "    def label(value):\n",
    "        if value == 0:\n",
    "            return f'not_{cont}'\n",
    "       # elif value == 1:\n",
    "        #    return f'one_{cont}'\n",
    "        else:\n",
    "            return f'is_{cont}'\n",
    "    \n",
    "    df[new_col] = df[col_name].apply(label)\n",
    "\n",
    "# applico funzione\n",
    "discretize_continent_count(df_copy, \"countryOfOrigin_NA\", \"from_NorthAmerica\")\n",
    "discretize_continent_count(df_copy, \"countryOfOrigin_EU\", \"from_Europe\")\n",
    "discretize_continent_count(df_copy, \"countryOfOrigin_SA\", \"from_SouthAmerica\")\n",
    "discretize_continent_count(df_copy, \"countryOfOrigin_AS\", \"from_Asia\")\n",
    "discretize_continent_count(df_copy, \"countryOfOrigin_OC\", \"from_Oceania\")\n",
    "discretize_continent_count(df_copy, \"countryOfOrigin_AF\", \"from_Africa\")\n",
    "discretize_continent_count(df_copy, \"countryOfOrigin_UNK\", \"from_Unknown\")"
   ]
  },
  {
   "cell_type": "code",
   "execution_count": 48,
   "id": "44735b7a",
   "metadata": {},
   "outputs": [
    {
     "data": {
      "text/html": [
       "<div>\n",
       "<style scoped>\n",
       "    .dataframe tbody tr th:only-of-type {\n",
       "        vertical-align: middle;\n",
       "    }\n",
       "\n",
       "    .dataframe tbody tr th {\n",
       "        vertical-align: top;\n",
       "    }\n",
       "\n",
       "    .dataframe thead th {\n",
       "        text-align: right;\n",
       "    }\n",
       "</style>\n",
       "<table border=\"1\" class=\"dataframe\">\n",
       "  <thead>\n",
       "    <tr style=\"text-align: right;\">\n",
       "      <th></th>\n",
       "      <th>originalTitle</th>\n",
       "      <th>rating</th>\n",
       "      <th>startYear</th>\n",
       "      <th>endYear</th>\n",
       "      <th>runtimeMinutes</th>\n",
       "      <th>awardWins</th>\n",
       "      <th>numVotes</th>\n",
       "      <th>totalImages</th>\n",
       "      <th>totalVideos</th>\n",
       "      <th>totalCredits</th>\n",
       "      <th>...</th>\n",
       "      <th>log_userReviewsTotal_bin</th>\n",
       "      <th>userReviewsTotal_bin</th>\n",
       "      <th>country_freq_bin</th>\n",
       "      <th>from_NorthAmerica_bin</th>\n",
       "      <th>from_Europe_bin</th>\n",
       "      <th>from_SouthAmerica_bin</th>\n",
       "      <th>from_Asia_bin</th>\n",
       "      <th>from_Oceania_bin</th>\n",
       "      <th>from_Africa_bin</th>\n",
       "      <th>from_Unknown_bin</th>\n",
       "    </tr>\n",
       "  </thead>\n",
       "  <tbody>\n",
       "    <tr>\n",
       "      <th>0</th>\n",
       "      <td>Neogenic Nightmare Chapter 3: Hydro-Man</td>\n",
       "      <td>8</td>\n",
       "      <td>1995</td>\n",
       "      <td>1995.0</td>\n",
       "      <td>NaN</td>\n",
       "      <td>0.0</td>\n",
       "      <td>779</td>\n",
       "      <td>1</td>\n",
       "      <td>0</td>\n",
       "      <td>21</td>\n",
       "      <td>...</td>\n",
       "      <td>NoUserReviews</td>\n",
       "      <td>NoUserReviews</td>\n",
       "      <td>alta_COFE</td>\n",
       "      <td>is_from_NorthAmerica</td>\n",
       "      <td>not_from_Europe</td>\n",
       "      <td>not_from_SouthAmerica</td>\n",
       "      <td>not_from_Asia</td>\n",
       "      <td>not_from_Oceania</td>\n",
       "      <td>not_from_Africa</td>\n",
       "      <td>not_from_Unknown</td>\n",
       "    </tr>\n",
       "    <tr>\n",
       "      <th>1</th>\n",
       "      <td>Idealnaya para</td>\n",
       "      <td>6</td>\n",
       "      <td>1992</td>\n",
       "      <td>1992.0</td>\n",
       "      <td>NaN</td>\n",
       "      <td>0.0</td>\n",
       "      <td>38</td>\n",
       "      <td>1</td>\n",
       "      <td>0</td>\n",
       "      <td>24</td>\n",
       "      <td>...</td>\n",
       "      <td>FewUserReviews</td>\n",
       "      <td>FewUserReviews</td>\n",
       "      <td>bassa_COFE</td>\n",
       "      <td>not_from_NorthAmerica</td>\n",
       "      <td>is_from_Europe</td>\n",
       "      <td>not_from_SouthAmerica</td>\n",
       "      <td>not_from_Asia</td>\n",
       "      <td>not_from_Oceania</td>\n",
       "      <td>not_from_Africa</td>\n",
       "      <td>not_from_Unknown</td>\n",
       "    </tr>\n",
       "    <tr>\n",
       "      <th>2</th>\n",
       "      <td>MasterChef Celebrity México</td>\n",
       "      <td>6</td>\n",
       "      <td>2021</td>\n",
       "      <td>NaN</td>\n",
       "      <td>NaN</td>\n",
       "      <td>0.0</td>\n",
       "      <td>15</td>\n",
       "      <td>22</td>\n",
       "      <td>0</td>\n",
       "      <td>56</td>\n",
       "      <td>...</td>\n",
       "      <td>NoUserReviews</td>\n",
       "      <td>NoUserReviews</td>\n",
       "      <td>bassa_COFE</td>\n",
       "      <td>is_from_NorthAmerica</td>\n",
       "      <td>not_from_Europe</td>\n",
       "      <td>not_from_SouthAmerica</td>\n",
       "      <td>not_from_Asia</td>\n",
       "      <td>not_from_Oceania</td>\n",
       "      <td>not_from_Africa</td>\n",
       "      <td>not_from_Unknown</td>\n",
       "    </tr>\n",
       "    <tr>\n",
       "      <th>3</th>\n",
       "      <td>Seutateueob</td>\n",
       "      <td>8</td>\n",
       "      <td>2020</td>\n",
       "      <td>2020.0</td>\n",
       "      <td>80.0</td>\n",
       "      <td>1.0</td>\n",
       "      <td>15718</td>\n",
       "      <td>347</td>\n",
       "      <td>2</td>\n",
       "      <td>47</td>\n",
       "      <td>...</td>\n",
       "      <td>ManyUserReviews</td>\n",
       "      <td>ManyUserReviews</td>\n",
       "      <td>bassa_COFE</td>\n",
       "      <td>not_from_NorthAmerica</td>\n",
       "      <td>not_from_Europe</td>\n",
       "      <td>not_from_SouthAmerica</td>\n",
       "      <td>is_from_Asia</td>\n",
       "      <td>not_from_Oceania</td>\n",
       "      <td>not_from_Africa</td>\n",
       "      <td>not_from_Unknown</td>\n",
       "    </tr>\n",
       "    <tr>\n",
       "      <th>4</th>\n",
       "      <td>Lightdance</td>\n",
       "      <td>9</td>\n",
       "      <td>1995</td>\n",
       "      <td>1995.0</td>\n",
       "      <td>34.0</td>\n",
       "      <td>0.0</td>\n",
       "      <td>14</td>\n",
       "      <td>1</td>\n",
       "      <td>0</td>\n",
       "      <td>0</td>\n",
       "      <td>...</td>\n",
       "      <td>FewUserReviews</td>\n",
       "      <td>FewUserReviews</td>\n",
       "      <td>alta_COFE</td>\n",
       "      <td>is_from_NorthAmerica</td>\n",
       "      <td>not_from_Europe</td>\n",
       "      <td>not_from_SouthAmerica</td>\n",
       "      <td>not_from_Asia</td>\n",
       "      <td>not_from_Oceania</td>\n",
       "      <td>not_from_Africa</td>\n",
       "      <td>not_from_Unknown</td>\n",
       "    </tr>\n",
       "  </tbody>\n",
       "</table>\n",
       "<p>5 rows × 99 columns</p>\n",
       "</div>"
      ],
      "text/plain": [
       "                             originalTitle  rating  startYear  endYear  \\\n",
       "0  Neogenic Nightmare Chapter 3: Hydro-Man       8       1995   1995.0   \n",
       "1                           Idealnaya para       6       1992   1992.0   \n",
       "2              MasterChef Celebrity México       6       2021      NaN   \n",
       "3                              Seutateueob       8       2020   2020.0   \n",
       "4                               Lightdance       9       1995   1995.0   \n",
       "\n",
       "   runtimeMinutes  awardWins  numVotes  totalImages  totalVideos  \\\n",
       "0             NaN        0.0       779            1            0   \n",
       "1             NaN        0.0        38            1            0   \n",
       "2             NaN        0.0        15           22            0   \n",
       "3            80.0        1.0     15718          347            2   \n",
       "4            34.0        0.0        14            1            0   \n",
       "\n",
       "   totalCredits  ...  log_userReviewsTotal_bin userReviewsTotal_bin  \\\n",
       "0            21  ...             NoUserReviews        NoUserReviews   \n",
       "1            24  ...            FewUserReviews       FewUserReviews   \n",
       "2            56  ...             NoUserReviews        NoUserReviews   \n",
       "3            47  ...           ManyUserReviews      ManyUserReviews   \n",
       "4             0  ...            FewUserReviews       FewUserReviews   \n",
       "\n",
       "   country_freq_bin  from_NorthAmerica_bin  from_Europe_bin  \\\n",
       "0         alta_COFE   is_from_NorthAmerica  not_from_Europe   \n",
       "1        bassa_COFE  not_from_NorthAmerica   is_from_Europe   \n",
       "2        bassa_COFE   is_from_NorthAmerica  not_from_Europe   \n",
       "3        bassa_COFE  not_from_NorthAmerica  not_from_Europe   \n",
       "4         alta_COFE   is_from_NorthAmerica  not_from_Europe   \n",
       "\n",
       "   from_SouthAmerica_bin  from_Asia_bin  from_Oceania_bin  from_Africa_bin  \\\n",
       "0  not_from_SouthAmerica  not_from_Asia  not_from_Oceania  not_from_Africa   \n",
       "1  not_from_SouthAmerica  not_from_Asia  not_from_Oceania  not_from_Africa   \n",
       "2  not_from_SouthAmerica  not_from_Asia  not_from_Oceania  not_from_Africa   \n",
       "3  not_from_SouthAmerica   is_from_Asia  not_from_Oceania  not_from_Africa   \n",
       "4  not_from_SouthAmerica  not_from_Asia  not_from_Oceania  not_from_Africa   \n",
       "\n",
       "   from_Unknown_bin  \n",
       "0  not_from_Unknown  \n",
       "1  not_from_Unknown  \n",
       "2  not_from_Unknown  \n",
       "3  not_from_Unknown  \n",
       "4  not_from_Unknown  \n",
       "\n",
       "[5 rows x 99 columns]"
      ]
     },
     "execution_count": 48,
     "metadata": {},
     "output_type": "execute_result"
    }
   ],
   "source": [
    "df_copy.head()"
   ]
  },
  {
   "cell_type": "markdown",
   "id": "ba5d8aeb",
   "metadata": {},
   "source": [
    "## Pattern Mining"
   ]
  },
  {
   "cell_type": "markdown",
   "id": "a2f3276b",
   "metadata": {},
   "source": [
    "### Transactions Creation"
   ]
  },
  {
   "cell_type": "code",
   "execution_count": 49,
   "id": "96e1bdd6",
   "metadata": {},
   "outputs": [
    {
     "data": {
      "text/plain": [
       "Index(['originalTitle', 'rating', 'startYear', 'endYear', 'runtimeMinutes',\n",
       "       'awardWins', 'numVotes', 'totalImages', 'totalVideos', 'totalCredits',\n",
       "       'criticReviewsTotal', 'titleType', 'awardNominationsExcludeWins',\n",
       "       'canHaveEpisodes', 'isAdult', 'numRegions', 'userReviewsTotal',\n",
       "       'is_Documentary', 'is_History', 'is_Adventure', 'is_Thriller',\n",
       "       'is_Game-Show', 'is_Comedy', 'is_Sci-Fi', 'is_Romance', 'is_Biography',\n",
       "       'is_Musical', 'is_Western', 'is_Music', 'is_Film-Noir', 'is_Adult',\n",
       "       'is_Reality-TV', 'is_News', 'is_Action', 'is_Crime', 'is_Short',\n",
       "       'is_Fantasy', 'is_Family', 'is_Mystery', 'is_Talk-Show', 'is_Drama',\n",
       "       'is_Sport', 'is_War', 'is_Horror', 'is_Animation',\n",
       "       'fill_runtimeMinutes', 'is_from_Oceania', 'is_from_North America',\n",
       "       'is_from_South America', 'is_from_Asia', 'is_from_Africa',\n",
       "       'is_from_Europe', 'countryOfOrigin', 'countryOfOrigin_freq_enc',\n",
       "       'countryOfOrigin_NA', 'countryOfOrigin_AF', 'countryOfOrigin_AS',\n",
       "       'countryOfOrigin_EU', 'countryOfOrigin_OC', 'countryOfOrigin_SA',\n",
       "       'countryOfOrigin_UNK', 'fill_runtimeMinutes_Bruno', 'totalNominations',\n",
       "       'totalMedia', 'runtimeMinutes_notitletype', 'log_totalNominations',\n",
       "       'log_nom_bin_cut', 'totalNominations_bin', 'log_totalMedia',\n",
       "       'media_bin', 'log_media_bin', 'log_fill_runtimeMinutes_Bruno',\n",
       "       'runtime_bin', 'log_runtime_bin', 'rating_bin', 'log_numVotes',\n",
       "       'log_numvotes_bin', 'numVotes_bin', 'startYear_bin', 'log_totalCredits',\n",
       "       'log_totalCredits_bin', 'totalCredits_bin', 'log_criticReviewsTotal',\n",
       "       'log_criticReviewsTotal_bin', 'criticReviewsTotal_bin',\n",
       "       'log_numRegions', 'log_numRegions_bin', 'numRegions_bin',\n",
       "       'log_userReviewsTotal', 'log_userReviewsTotal_bin',\n",
       "       'userReviewsTotal_bin', 'country_freq_bin', 'from_NorthAmerica_bin',\n",
       "       'from_Europe_bin', 'from_SouthAmerica_bin', 'from_Asia_bin',\n",
       "       'from_Oceania_bin', 'from_Africa_bin', 'from_Unknown_bin'],\n",
       "      dtype='object')"
      ]
     },
     "execution_count": 49,
     "metadata": {},
     "output_type": "execute_result"
    }
   ],
   "source": [
    "df_copy.columns"
   ]
  },
  {
   "cell_type": "code",
   "execution_count": 50,
   "id": "fc1bbf48",
   "metadata": {},
   "outputs": [],
   "source": [
    "cols = [\n",
    "        #\"canHaveEpisodes\", \n",
    "        #\"isAdult\",\n",
    "        #\"totalNominations_bin\", \n",
    "        #\"media_bin\",\n",
    "        \"rating_bin\", \"runtime_bin\", \"numVotes_bin\", \n",
    "        #\"startYear_bin\",\n",
    "        \"totalCredits_bin\", \n",
    "         \"criticReviewsTotal_bin\", \n",
    "         \"country_freq_bin\",\n",
    "        # \"numRegions_bin\", \n",
    "        # \"userReviewsTotal_bin\"\n",
    "        \"titleType\",\n",
    "        'from_NorthAmerica_bin','from_Europe_bin' , 'from_SouthAmerica_bin', 'from_Asia_bin', 'from_Oceania_bin', 'from_Africa_bin', 'from_Unknown_bin'\n",
    "]\n",
    "\n",
    "\n",
    "# #FUNZIONANTI COME BASE\n",
    "#     #     \"canHaveEpisodes\", \"isAdult\",\n",
    "#     #     \"totalNominations_bin\", \"media_bin\"\n",
    "#           \"rating_bin\", \"runtime_bin\", \"numVotes_bin\", \"startYear_bin\",\n",
    "#     #     \"totalCredits_bin\", \"criticReviewsTotal_bin\", \"numRegions_bin\", \"userReviewsTotal_bin\"\n",
    "#           \"titleType\",\n",
    "#           'from_NorthAmerica_bin', 'from_Europe_bin' ,'from_SouthAmerica_bin', 'from_Asia_bin', 'from_Oceania_bin', 'from_Africa_bin', 'from_Unknown_bin'\n",
    "\n",
    "#TUTTE\n",
    "    #     \"canHaveEpisodes\", \"isAdult\",\n",
    "    #     \"totalNominations_bin\", \"media_bin\"\n",
    "    #     \"rating_bin\", \"runtime_bin\", \"numVotes_bin\", \"startYear_bin\",\n",
    "    #     \"totalCredits_bin\", \"criticReviewsTotal_bin\", \"numRegions_bin\", \"userReviewsTotal_bin\"\n",
    "    #     \"titleType\",\n",
    "    #      'from_NorthAmerica_bin', 'from_Europe_bin' ,'from_SouthAmerica_bin', 'from_Asia_bin', 'from_Oceania_bin', 'from_Africa_bin', 'from_Unknown_bin'\n",
    "\n",
    "\n"
   ]
  },
  {
   "cell_type": "code",
   "execution_count": 51,
   "id": "87dc31d3",
   "metadata": {},
   "outputs": [
    {
     "name": "stdout",
     "output_type": "stream",
     "text": [
      "16172\n",
      "[['VeryHighRating', 'LowRuntime', 'VeryLowVotes', 'HighCredits', 'NoCriticReviews', 'alta_COFE', 'tvSpecial', 'is_from_NorthAmerica'], ['MediumRating', 'LowRuntime', 'LowVotes', 'MediumCredits', 'NoCriticReviews', 'bassa_COFE', 'movie', 'is_from_Unknown'], ['VeryLowRating', 'MediumRuntime', 'HighVotes', 'HighCredits', 'FewCriticReviews', 'alta_COFE', 'movie', 'is_from_NorthAmerica'], ['MediumRating', 'MediumRuntime', 'HighVotes', 'HighCredits', 'FewCriticReviews', 'media_COFE', 'movie', 'is_from_Europe'], ['VeryHighRating', 'VeryLowRuntime', 'VeryHighVotes', 'HighCredits', 'ModerateCriticReviews', 'alta_COFE', 'tvEpisode', 'is_from_NorthAmerica']]\n"
     ]
    }
   ],
   "source": [
    "transactions = []\n",
    "\n",
    "for index, row in df_copy[cols].iterrows():\n",
    "    transaction = []\n",
    "    for col in cols:\n",
    "        value = str(row[col])\n",
    "        if not value.startswith('not_'):  # Ignora 'none_from_*'\n",
    "            transaction.append(value)\n",
    "    transactions.append(transaction)\n",
    "\n",
    "# Verifica risultato\n",
    "print(len(transactions))\n",
    "print(transactions[10:15])\n"
   ]
  },
  {
   "cell_type": "code",
   "execution_count": 52,
   "id": "cee7c7d2",
   "metadata": {},
   "outputs": [
    {
     "name": "stdout",
     "output_type": "stream",
     "text": [
      "   ExtensiveCriticReviews  FewCriticReviews  HighCredits  HighRating  \\\n",
      "0                   False              True        False        True   \n",
      "1                   False             False        False       False   \n",
      "2                   False             False        False       False   \n",
      "3                   False             False        False        True   \n",
      "4                   False             False        False       False   \n",
      "\n",
      "   HighRuntime  HighVotes  LowCredits  LowRating  LowRuntime  LowVotes  ...  \\\n",
      "0        False       True        True      False        True     False  ...   \n",
      "1        False      False        True       True       False      True  ...   \n",
      "2        False      False       False       True        True     False  ...   \n",
      "3        False      False       False      False       False     False  ...   \n",
      "4        False      False       False      False        True     False  ...   \n",
      "\n",
      "   media_COFE  movie  short  tvEpisode  tvMiniSeries  tvMovie  tvSeries  \\\n",
      "0       False  False  False       True         False    False     False   \n",
      "1       False   True  False      False         False    False     False   \n",
      "2       False  False  False      False         False    False      True   \n",
      "3       False  False  False      False         False    False      True   \n",
      "4       False  False  False      False         False    False     False   \n",
      "\n",
      "   tvShort  tvSpecial  video  \n",
      "0    False      False  False  \n",
      "1    False      False  False  \n",
      "2    False      False  False  \n",
      "3    False      False  False  \n",
      "4    False      False   True  \n",
      "\n",
      "[5 rows x 45 columns]\n"
     ]
    }
   ],
   "source": [
    "# Let's utilize TransactionEncoder\n",
    "te = TransactionEncoder()\n",
    "te_array = te.fit(transactions).transform(transactions)\n",
    "df_apriori = pd.DataFrame(te_array, columns=te.columns_)\n",
    "\n",
    "# Visualizza le prime righe per assicurarti che la trasformazione sia corretta\n",
    "print(df_apriori.head())"
   ]
  },
  {
   "cell_type": "markdown",
   "id": "6a39fceb",
   "metadata": {},
   "source": []
  },
  {
   "cell_type": "markdown",
   "id": "8292a043",
   "metadata": {},
   "source": [
    "### Confronto itemset per support"
   ]
  },
  {
   "cell_type": "code",
   "execution_count": 53,
   "id": "a85a1e19",
   "metadata": {},
   "outputs": [
    {
     "data": {
      "image/png": "[encoded data removed]",
      "text/plain": [
       "<Figure size 1000x600 with 1 Axes>"
      ]
     },
     "metadata": {},
     "output_type": "display_data"
    }
   ],
   "source": [
    "# Genera una lista di min_sup da testare\n",
    "min_sups = [round(x, 2) for x in list(np.arange(0.01, 0.3, 0.01))]\n",
    "\n",
    "# Lista per salvare il numero di itemset per ciascun supporto\n",
    "num_itemsets = []\n",
    "\n",
    "# Calcolo degli itemset frequenti per ogni min_sup\n",
    "for min_sup in min_sups:\n",
    "    frequent_itemsets = apriori(df_apriori, min_support=min_sup, use_colnames=True)\n",
    "    num_itemsets.append(len(frequent_itemsets))\n",
    "\n",
    "# Plot\n",
    "plt.figure(figsize=(10,6))\n",
    "plt.plot(min_sups, num_itemsets, marker='o')\n",
    "plt.title('Number of frequent itemsets vs. min_support')\n",
    "plt.xlabel('min_support')\n",
    "plt.ylabel('Number of frequent itemsets')\n",
    "plt.grid(True)\n",
    "plt.show()\n"
   ]
  },
  {
   "cell_type": "markdown",
   "id": "96bb122a",
   "metadata": {},
   "source": [
    "### Apriori"
   ]
  },
  {
   "cell_type": "code",
   "execution_count": 54,
   "id": "7b2d1872",
   "metadata": {},
   "outputs": [
    {
     "name": "stdout",
     "output_type": "stream",
     "text": [
      "<class 'pandas.core.frame.DataFrame'>\n",
      "RangeIndex: 226 entries, 0 to 225\n",
      "Data columns (total 2 columns):\n",
      " #   Column    Non-Null Count  Dtype  \n",
      "---  ------    --------------  -----  \n",
      " 0   support   226 non-null    float64\n",
      " 1   itemsets  226 non-null    object \n",
      "dtypes: float64(1), object(1)\n",
      "memory usage: 3.7+ KB\n",
      "None\n",
      "     support                             itemsets\n",
      "0   0.117240                   (FewCriticReviews)\n",
      "1   0.206282                        (HighCredits)\n",
      "2   0.293285                         (HighRating)\n",
      "3   0.173819                          (HighVotes)\n",
      "4   0.271766                         (LowCredits)\n",
      "5   0.268118                          (LowRating)\n",
      "6   0.343804                         (LowRuntime)\n",
      "7   0.300396                           (LowVotes)\n",
      "8   0.240292                      (MediumCredits)\n",
      "9   0.277826                       (MediumRating)\n",
      "10  0.383008                      (MediumRuntime)\n",
      "11  0.183156                        (MediumVotes)\n",
      "12  0.104502              (ModerateCriticReviews)\n",
      "13  0.695090                    (NoCriticReviews)\n",
      "14  0.147168                     (VeryHighRating)\n",
      "15  0.238004                     (VeryLowCredits)\n",
      "16  0.234047                     (VeryLowRuntime)\n",
      "17  0.268489                       (VeryLowVotes)\n",
      "18  0.433032                          (alta_COFE)\n",
      "19  0.303920                         (bassa_COFE)\n",
      "20  0.151744                       (is_from_Asia)\n",
      "21  0.316040                     (is_from_Europe)\n",
      "22  0.477306               (is_from_NorthAmerica)\n",
      "23  0.263047                         (media_COFE)\n",
      "24  0.342258                              (movie)\n",
      "25  0.152980                              (short)\n",
      "26  0.290502                          (tvEpisode)\n",
      "27  0.085023                           (tvSeries)\n",
      "28  0.086137            (HighCredits, LowRuntime)\n",
      "29  0.080448         (MediumRuntime, HighCredits)\n",
      "30  0.110314       (NoCriticReviews, HighCredits)\n",
      "31  0.110500             (alta_COFE, HighCredits)\n",
      "32  0.122558  (HighCredits, is_from_NorthAmerica)\n",
      "33  0.087930             (tvEpisode, HighCredits)\n",
      "34  0.138140             (HighRating, LowRuntime)\n",
      "35  0.084776               (HighRating, LowVotes)\n",
      "36  0.208880        (NoCriticReviews, HighRating)\n",
      "37  0.135976              (HighRating, alta_COFE)\n",
      "38  0.089105         (HighRating, is_from_Europe)\n",
      "39  0.149456   (HighRating, is_from_NorthAmerica)\n",
      "40  0.083849             (media_COFE, HighRating)\n",
      "41  0.136718              (tvEpisode, HighRating)\n",
      "42  0.092938               (alta_COFE, HighVotes)\n",
      "43  0.099431    (is_from_NorthAmerica, HighVotes)\n",
      "44  0.081313             (LowCredits, LowRuntime)\n",
      "45  0.099678               (LowCredits, LowVotes)\n",
      "46  0.116188          (LowCredits, MediumRuntime)\n",
      "47  0.206282        (NoCriticReviews, LowCredits)\n",
      "48  0.088795           (VeryLowVotes, LowCredits)\n",
      "49  0.100359              (LowCredits, alta_COFE)\n",
      "50  0.093804             (bassa_COFE, LowCredits)\n"
     ]
    }
   ],
   "source": [
    "min_support = 0.08  # 10% supporto minimo\n",
    "min_confidence = 0.6  # 60% confidenza minima --> serve dopo nella fase di rules extraction\n",
    "\n",
    "# Apriori\n",
    "frequent_itemsets_apriori = apriori(df_apriori, min_support=min_support, use_colnames=True)\n",
    "\n",
    "# FRA -< Filtra gli itemset con almeno 2 item (lunghezza >= 2)\n",
    "    #frequent_itemsets_apriori = frequent_itemsets_apriori[frequent_itemsets_apriori['itemsets'].apply(lambda x: len(x) >= 2)]\n",
    "    #frequent_itemsets_apriori.reset_index(drop=True, inplace=True)\n",
    "\n",
    "print(frequent_itemsets_apriori.info())\n",
    "print(frequent_itemsets_apriori.head(51))"
   ]
  },
  {
   "cell_type": "markdown",
   "id": "29f0b50e",
   "metadata": {},
   "source": [
    "### maximal itemset"
   ]
  },
  {
   "cell_type": "code",
   "execution_count": 55,
   "id": "59583179",
   "metadata": {},
   "outputs": [
    {
     "name": "stdout",
     "output_type": "stream",
     "text": [
      "<class 'pandas.core.frame.DataFrame'>\n",
      "Index: 85 entries, 0 to 225\n",
      "Data columns (total 2 columns):\n",
      " #   Column    Non-Null Count  Dtype  \n",
      "---  ------    --------------  -----  \n",
      " 0   support   85 non-null     float64\n",
      " 1   itemsets  85 non-null     object \n",
      "dtypes: float64(1), object(1)\n",
      "memory usage: 2.0+ KB\n",
      "None\n",
      "     support                        itemsets\n",
      "0   0.117240              (FewCriticReviews)\n",
      "12  0.104502         (ModerateCriticReviews)\n",
      "27  0.085023                      (tvSeries)\n",
      "28  0.086137       (HighCredits, LowRuntime)\n",
      "29  0.080448    (MediumRuntime, HighCredits)\n",
      "30  0.110314  (NoCriticReviews, HighCredits)\n",
      "33  0.087930        (tvEpisode, HighCredits)\n",
      "35  0.084776          (HighRating, LowVotes)\n",
      "38  0.089105    (HighRating, is_from_Europe)\n",
      "40  0.083849        (media_COFE, HighRating)\n",
      "44  0.081313        (LowCredits, LowRuntime)\n",
      "50  0.093804        (bassa_COFE, LowCredits)\n",
      "51  0.083910    (LowCredits, is_from_Europe)\n",
      "54  0.083849           (LowRating, LowVotes)\n",
      "58  0.096772         (bassa_COFE, LowRating)\n"
     ]
    }
   ],
   "source": [
    "# Find maximal itemsets (those that are not subsets of any other itemsets)\n",
    "maximal_itemsets_apriori = frequent_itemsets_apriori[frequent_itemsets_apriori['itemsets'].apply(lambda x: not any(x < y for y in frequent_itemsets_apriori['itemsets']))]\n",
    "\n",
    "# Display the results\n",
    "print(maximal_itemsets_apriori.info())\n",
    "print(maximal_itemsets_apriori.head(15))"
   ]
  },
  {
   "cell_type": "markdown",
   "id": "214165b2",
   "metadata": {},
   "source": [
    "### Association Rules"
   ]
  },
  {
   "cell_type": "code",
   "execution_count": 56,
   "id": "2554301a",
   "metadata": {},
   "outputs": [
    {
     "name": "stdout",
     "output_type": "stream",
     "text": [
      "<class 'pandas.core.frame.DataFrame'>\n",
      "RangeIndex: 197 entries, 0 to 196\n",
      "Data columns (total 14 columns):\n",
      " #   Column              Non-Null Count  Dtype  \n",
      "---  ------              --------------  -----  \n",
      " 0   antecedents         197 non-null    object \n",
      " 1   consequents         197 non-null    object \n",
      " 2   antecedent support  197 non-null    float64\n",
      " 3   consequent support  197 non-null    float64\n",
      " 4   support             197 non-null    float64\n",
      " 5   confidence          197 non-null    float64\n",
      " 6   lift                197 non-null    float64\n",
      " 7   representativity    197 non-null    float64\n",
      " 8   leverage            197 non-null    float64\n",
      " 9   conviction          197 non-null    float64\n",
      " 10  zhangs_metric       197 non-null    float64\n",
      " 11  jaccard             197 non-null    float64\n",
      " 12  certainty           197 non-null    float64\n",
      " 13  kulczynski          197 non-null    float64\n",
      "dtypes: float64(12), object(2)\n",
      "memory usage: 21.7+ KB\n"
     ]
    },
    {
     "data": {
      "text/html": [
       "<div>\n",
       "<style scoped>\n",
       "    .dataframe tbody tr th:only-of-type {\n",
       "        vertical-align: middle;\n",
       "    }\n",
       "\n",
       "    .dataframe tbody tr th {\n",
       "        vertical-align: top;\n",
       "    }\n",
       "\n",
       "    .dataframe thead th {\n",
       "        text-align: right;\n",
       "    }\n",
       "</style>\n",
       "<table border=\"1\" class=\"dataframe\">\n",
       "  <thead>\n",
       "    <tr style=\"text-align: right;\">\n",
       "      <th></th>\n",
       "      <th>antecedents</th>\n",
       "      <th>consequents</th>\n",
       "      <th>antecedent support</th>\n",
       "      <th>consequent support</th>\n",
       "      <th>support</th>\n",
       "      <th>confidence</th>\n",
       "      <th>lift</th>\n",
       "      <th>representativity</th>\n",
       "      <th>leverage</th>\n",
       "      <th>conviction</th>\n",
       "      <th>zhangs_metric</th>\n",
       "      <th>jaccard</th>\n",
       "      <th>certainty</th>\n",
       "      <th>kulczynski</th>\n",
       "    </tr>\n",
       "  </thead>\n",
       "  <tbody>\n",
       "    <tr>\n",
       "      <th>0</th>\n",
       "      <td>(HighRating)</td>\n",
       "      <td>(NoCriticReviews)</td>\n",
       "      <td>0.293285</td>\n",
       "      <td>0.695090</td>\n",
       "      <td>0.208880</td>\n",
       "      <td>0.712207</td>\n",
       "      <td>1.024626</td>\n",
       "      <td>1.0</td>\n",
       "      <td>0.005020</td>\n",
       "      <td>1.059478</td>\n",
       "      <td>0.034008</td>\n",
       "      <td>0.267968</td>\n",
       "      <td>0.056139</td>\n",
       "      <td>0.506357</td>\n",
       "    </tr>\n",
       "    <tr>\n",
       "      <th>1</th>\n",
       "      <td>(LowCredits)</td>\n",
       "      <td>(NoCriticReviews)</td>\n",
       "      <td>0.271766</td>\n",
       "      <td>0.695090</td>\n",
       "      <td>0.206282</td>\n",
       "      <td>0.759044</td>\n",
       "      <td>1.092008</td>\n",
       "      <td>1.0</td>\n",
       "      <td>0.017381</td>\n",
       "      <td>1.265419</td>\n",
       "      <td>0.115699</td>\n",
       "      <td>0.271220</td>\n",
       "      <td>0.209748</td>\n",
       "      <td>0.527908</td>\n",
       "    </tr>\n",
       "    <tr>\n",
       "      <th>2</th>\n",
       "      <td>(LowRating)</td>\n",
       "      <td>(NoCriticReviews)</td>\n",
       "      <td>0.268118</td>\n",
       "      <td>0.695090</td>\n",
       "      <td>0.176045</td>\n",
       "      <td>0.656596</td>\n",
       "      <td>0.944620</td>\n",
       "      <td>1.0</td>\n",
       "      <td>-0.010321</td>\n",
       "      <td>0.887904</td>\n",
       "      <td>-0.074164</td>\n",
       "      <td>0.223645</td>\n",
       "      <td>-0.126248</td>\n",
       "      <td>0.454933</td>\n",
       "    </tr>\n",
       "    <tr>\n",
       "      <th>3</th>\n",
       "      <td>(LowRuntime)</td>\n",
       "      <td>(NoCriticReviews)</td>\n",
       "      <td>0.343804</td>\n",
       "      <td>0.695090</td>\n",
       "      <td>0.270467</td>\n",
       "      <td>0.786691</td>\n",
       "      <td>1.131782</td>\n",
       "      <td>1.0</td>\n",
       "      <td>0.031493</td>\n",
       "      <td>1.429425</td>\n",
       "      <td>0.177443</td>\n",
       "      <td>0.351976</td>\n",
       "      <td>0.300418</td>\n",
       "      <td>0.587901</td>\n",
       "    </tr>\n",
       "    <tr>\n",
       "      <th>4</th>\n",
       "      <td>(tvEpisode)</td>\n",
       "      <td>(LowRuntime)</td>\n",
       "      <td>0.290502</td>\n",
       "      <td>0.343804</td>\n",
       "      <td>0.200099</td>\n",
       "      <td>0.688804</td>\n",
       "      <td>2.003477</td>\n",
       "      <td>1.0</td>\n",
       "      <td>0.100223</td>\n",
       "      <td>2.108624</td>\n",
       "      <td>0.705947</td>\n",
       "      <td>0.460837</td>\n",
       "      <td>0.525757</td>\n",
       "      <td>0.635409</td>\n",
       "    </tr>\n",
       "    <tr>\n",
       "      <th>5</th>\n",
       "      <td>(LowVotes)</td>\n",
       "      <td>(NoCriticReviews)</td>\n",
       "      <td>0.300396</td>\n",
       "      <td>0.695090</td>\n",
       "      <td>0.253092</td>\n",
       "      <td>0.842528</td>\n",
       "      <td>1.212113</td>\n",
       "      <td>1.0</td>\n",
       "      <td>0.044290</td>\n",
       "      <td>1.936276</td>\n",
       "      <td>0.250133</td>\n",
       "      <td>0.340913</td>\n",
       "      <td>0.483545</td>\n",
       "      <td>0.603321</td>\n",
       "    </tr>\n",
       "    <tr>\n",
       "      <th>6</th>\n",
       "      <td>(MediumCredits)</td>\n",
       "      <td>(NoCriticReviews)</td>\n",
       "      <td>0.240292</td>\n",
       "      <td>0.695090</td>\n",
       "      <td>0.159968</td>\n",
       "      <td>0.665723</td>\n",
       "      <td>0.957751</td>\n",
       "      <td>1.0</td>\n",
       "      <td>-0.007057</td>\n",
       "      <td>0.912147</td>\n",
       "      <td>-0.054879</td>\n",
       "      <td>0.206300</td>\n",
       "      <td>-0.096314</td>\n",
       "      <td>0.447931</td>\n",
       "    </tr>\n",
       "    <tr>\n",
       "      <th>7</th>\n",
       "      <td>(MediumRating)</td>\n",
       "      <td>(NoCriticReviews)</td>\n",
       "      <td>0.277826</td>\n",
       "      <td>0.695090</td>\n",
       "      <td>0.184826</td>\n",
       "      <td>0.665257</td>\n",
       "      <td>0.957080</td>\n",
       "      <td>1.0</td>\n",
       "      <td>-0.008288</td>\n",
       "      <td>0.910877</td>\n",
       "      <td>-0.058466</td>\n",
       "      <td>0.234523</td>\n",
       "      <td>-0.097843</td>\n",
       "      <td>0.465579</td>\n",
       "    </tr>\n",
       "    <tr>\n",
       "      <th>8</th>\n",
       "      <td>(movie)</td>\n",
       "      <td>(MediumRuntime)</td>\n",
       "      <td>0.342258</td>\n",
       "      <td>0.383008</td>\n",
       "      <td>0.295882</td>\n",
       "      <td>0.864499</td>\n",
       "      <td>2.257131</td>\n",
       "      <td>1.0</td>\n",
       "      <td>0.164794</td>\n",
       "      <td>4.553403</td>\n",
       "      <td>0.846776</td>\n",
       "      <td>0.689084</td>\n",
       "      <td>0.780384</td>\n",
       "      <td>0.818510</td>\n",
       "    </tr>\n",
       "    <tr>\n",
       "      <th>9</th>\n",
       "      <td>(MediumRuntime)</td>\n",
       "      <td>(movie)</td>\n",
       "      <td>0.383008</td>\n",
       "      <td>0.342258</td>\n",
       "      <td>0.295882</td>\n",
       "      <td>0.772522</td>\n",
       "      <td>2.257131</td>\n",
       "      <td>1.0</td>\n",
       "      <td>0.164794</td>\n",
       "      <td>2.891450</td>\n",
       "      <td>0.902701</td>\n",
       "      <td>0.689084</td>\n",
       "      <td>0.654153</td>\n",
       "      <td>0.818510</td>\n",
       "    </tr>\n",
       "  </tbody>\n",
       "</table>\n",
       "</div>"
      ],
      "text/plain": [
       "       antecedents        consequents  antecedent support  consequent support  \\\n",
       "0     (HighRating)  (NoCriticReviews)            0.293285            0.695090   \n",
       "1     (LowCredits)  (NoCriticReviews)            0.271766            0.695090   \n",
       "2      (LowRating)  (NoCriticReviews)            0.268118            0.695090   \n",
       "3     (LowRuntime)  (NoCriticReviews)            0.343804            0.695090   \n",
       "4      (tvEpisode)       (LowRuntime)            0.290502            0.343804   \n",
       "5       (LowVotes)  (NoCriticReviews)            0.300396            0.695090   \n",
       "6  (MediumCredits)  (NoCriticReviews)            0.240292            0.695090   \n",
       "7   (MediumRating)  (NoCriticReviews)            0.277826            0.695090   \n",
       "8          (movie)    (MediumRuntime)            0.342258            0.383008   \n",
       "9  (MediumRuntime)            (movie)            0.383008            0.342258   \n",
       "\n",
       "    support  confidence      lift  representativity  leverage  conviction  \\\n",
       "0  0.208880    0.712207  1.024626               1.0  0.005020    1.059478   \n",
       "1  0.206282    0.759044  1.092008               1.0  0.017381    1.265419   \n",
       "2  0.176045    0.656596  0.944620               1.0 -0.010321    0.887904   \n",
       "3  0.270467    0.786691  1.131782               1.0  0.031493    1.429425   \n",
       "4  0.200099    0.688804  2.003477               1.0  0.100223    2.108624   \n",
       "5  0.253092    0.842528  1.212113               1.0  0.044290    1.936276   \n",
       "6  0.159968    0.665723  0.957751               1.0 -0.007057    0.912147   \n",
       "7  0.184826    0.665257  0.957080               1.0 -0.008288    0.910877   \n",
       "8  0.295882    0.864499  2.257131               1.0  0.164794    4.553403   \n",
       "9  0.295882    0.772522  2.257131               1.0  0.164794    2.891450   \n",
       "\n",
       "   zhangs_metric   jaccard  certainty  kulczynski  \n",
       "0       0.034008  0.267968   0.056139    0.506357  \n",
       "1       0.115699  0.271220   0.209748    0.527908  \n",
       "2      -0.074164  0.223645  -0.126248    0.454933  \n",
       "3       0.177443  0.351976   0.300418    0.587901  \n",
       "4       0.705947  0.460837   0.525757    0.635409  \n",
       "5       0.250133  0.340913   0.483545    0.603321  \n",
       "6      -0.054879  0.206300  -0.096314    0.447931  \n",
       "7      -0.058466  0.234523  -0.097843    0.465579  \n",
       "8       0.846776  0.689084   0.780384    0.818510  \n",
       "9       0.902701  0.689084   0.654153    0.818510  "
      ]
     },
     "execution_count": 56,
     "metadata": {},
     "output_type": "execute_result"
    }
   ],
   "source": [
    "#Apriori\n",
    "rules_apriori = association_rules(frequent_itemsets_apriori, metric=\"confidence\", min_threshold=min_confidence)\n",
    "rules_apriori.info()\n",
    "rules_apriori.head(10)"
   ]
  },
  {
   "cell_type": "markdown",
   "id": "81a58645",
   "metadata": {},
   "source": [
    "### Scelta valori confidence"
   ]
  },
  {
   "cell_type": "code",
   "execution_count": 57,
   "id": "71dfaefe",
   "metadata": {},
   "outputs": [
    {
     "name": "stdout",
     "output_type": "stream",
     "text": [
      "min_confidence=0.4: 371 regole trovate, lift medio = 1.84\n",
      "min_confidence=0.5: 257 regole trovate, lift medio = 1.95\n",
      "min_confidence=0.6: 197 regole trovate, lift medio = 2.01\n",
      "min_confidence=0.7: 146 regole trovate, lift medio = 1.99\n"
     ]
    }
   ],
   "source": [
    "from mlxtend.frequent_patterns import association_rules\n",
    "\n",
    "conf_values = [0.4, 0.5, 0.6, 0.7]\n",
    "for c in conf_values:\n",
    "    rules = association_rules(frequent_itemsets_apriori, metric=\"confidence\", min_threshold=c)\n",
    "    print(f\"min_confidence={c}: {len(rules)} regole trovate, lift medio = {rules['lift'].mean():.2f}\")\n"
   ]
  },
  {
   "cell_type": "code",
   "execution_count": 58,
   "id": "afee199e",
   "metadata": {},
   "outputs": [
    {
     "data": {
      "text/html": [
       "<div>\n",
       "<style scoped>\n",
       "    .dataframe tbody tr th:only-of-type {\n",
       "        vertical-align: middle;\n",
       "    }\n",
       "\n",
       "    .dataframe tbody tr th {\n",
       "        vertical-align: top;\n",
       "    }\n",
       "\n",
       "    .dataframe thead th {\n",
       "        text-align: right;\n",
       "    }\n",
       "</style>\n",
       "<table border=\"1\" class=\"dataframe\">\n",
       "  <thead>\n",
       "    <tr style=\"text-align: right;\">\n",
       "      <th></th>\n",
       "      <th>antecedents</th>\n",
       "      <th>consequents</th>\n",
       "      <th>antecedent support</th>\n",
       "      <th>consequent support</th>\n",
       "      <th>support</th>\n",
       "      <th>confidence</th>\n",
       "      <th>lift</th>\n",
       "      <th>representativity</th>\n",
       "      <th>leverage</th>\n",
       "      <th>conviction</th>\n",
       "      <th>zhangs_metric</th>\n",
       "      <th>jaccard</th>\n",
       "      <th>certainty</th>\n",
       "      <th>kulczynski</th>\n",
       "    </tr>\n",
       "  </thead>\n",
       "  <tbody>\n",
       "    <tr>\n",
       "      <th>173</th>\n",
       "      <td>(movie, alta_COFE)</td>\n",
       "      <td>(MediumRuntime, is_from_NorthAmerica)</td>\n",
       "      <td>0.104254</td>\n",
       "      <td>0.150940</td>\n",
       "      <td>0.088919</td>\n",
       "      <td>0.852906</td>\n",
       "      <td>5.650635</td>\n",
       "      <td>1.0</td>\n",
       "      <td>0.073183</td>\n",
       "      <td>5.772239</td>\n",
       "      <td>0.918820</td>\n",
       "      <td>0.534771</td>\n",
       "      <td>0.826757</td>\n",
       "      <td>0.721005</td>\n",
       "    </tr>\n",
       "    <tr>\n",
       "      <th>175</th>\n",
       "      <td>(MediumRuntime, alta_COFE)</td>\n",
       "      <td>(movie, is_from_NorthAmerica)</td>\n",
       "      <td>0.131585</td>\n",
       "      <td>0.122063</td>\n",
       "      <td>0.088919</td>\n",
       "      <td>0.675752</td>\n",
       "      <td>5.536099</td>\n",
       "      <td>1.0</td>\n",
       "      <td>0.072857</td>\n",
       "      <td>2.707609</td>\n",
       "      <td>0.943521</td>\n",
       "      <td>0.539790</td>\n",
       "      <td>0.630670</td>\n",
       "      <td>0.702111</td>\n",
       "    </tr>\n",
       "    <tr>\n",
       "      <th>174</th>\n",
       "      <td>(movie, is_from_NorthAmerica)</td>\n",
       "      <td>(MediumRuntime, alta_COFE)</td>\n",
       "      <td>0.122063</td>\n",
       "      <td>0.131585</td>\n",
       "      <td>0.088919</td>\n",
       "      <td>0.728470</td>\n",
       "      <td>5.536099</td>\n",
       "      <td>1.0</td>\n",
       "      <td>0.072857</td>\n",
       "      <td>3.198228</td>\n",
       "      <td>0.933287</td>\n",
       "      <td>0.539790</td>\n",
       "      <td>0.687327</td>\n",
       "      <td>0.702111</td>\n",
       "    </tr>\n",
       "    <tr>\n",
       "      <th>119</th>\n",
       "      <td>(VeryLowCredits, VeryLowRuntime)</td>\n",
       "      <td>(short)</td>\n",
       "      <td>0.101348</td>\n",
       "      <td>0.152980</td>\n",
       "      <td>0.083168</td>\n",
       "      <td>0.820622</td>\n",
       "      <td>5.364230</td>\n",
       "      <td>1.0</td>\n",
       "      <td>0.067664</td>\n",
       "      <td>4.721990</td>\n",
       "      <td>0.905334</td>\n",
       "      <td>0.485910</td>\n",
       "      <td>0.788225</td>\n",
       "      <td>0.682138</td>\n",
       "    </tr>\n",
       "    <tr>\n",
       "      <th>120</th>\n",
       "      <td>(VeryLowCredits, short)</td>\n",
       "      <td>(VeryLowRuntime)</td>\n",
       "      <td>0.089537</td>\n",
       "      <td>0.234047</td>\n",
       "      <td>0.083168</td>\n",
       "      <td>0.928867</td>\n",
       "      <td>3.968730</td>\n",
       "      <td>1.0</td>\n",
       "      <td>0.062213</td>\n",
       "      <td>10.767968</td>\n",
       "      <td>0.821594</td>\n",
       "      <td>0.345936</td>\n",
       "      <td>0.907132</td>\n",
       "      <td>0.642109</td>\n",
       "    </tr>\n",
       "    <tr>\n",
       "      <th>...</th>\n",
       "      <td>...</td>\n",
       "      <td>...</td>\n",
       "      <td>...</td>\n",
       "      <td>...</td>\n",
       "      <td>...</td>\n",
       "      <td>...</td>\n",
       "      <td>...</td>\n",
       "      <td>...</td>\n",
       "      <td>...</td>\n",
       "      <td>...</td>\n",
       "      <td>...</td>\n",
       "      <td>...</td>\n",
       "      <td>...</td>\n",
       "      <td>...</td>\n",
       "    </tr>\n",
       "    <tr>\n",
       "      <th>167</th>\n",
       "      <td>(movie, MediumRuntime, bassa_COFE)</td>\n",
       "      <td>(NoCriticReviews)</td>\n",
       "      <td>0.132575</td>\n",
       "      <td>0.695090</td>\n",
       "      <td>0.086322</td>\n",
       "      <td>0.651119</td>\n",
       "      <td>0.936741</td>\n",
       "      <td>1.0</td>\n",
       "      <td>-0.005829</td>\n",
       "      <td>0.873966</td>\n",
       "      <td>-0.072229</td>\n",
       "      <td>0.116440</td>\n",
       "      <td>-0.144209</td>\n",
       "      <td>0.387654</td>\n",
       "    </tr>\n",
       "    <tr>\n",
       "      <th>19</th>\n",
       "      <td>(is_from_NorthAmerica)</td>\n",
       "      <td>(NoCriticReviews)</td>\n",
       "      <td>0.477306</td>\n",
       "      <td>0.695090</td>\n",
       "      <td>0.310537</td>\n",
       "      <td>0.650602</td>\n",
       "      <td>0.935997</td>\n",
       "      <td>1.0</td>\n",
       "      <td>-0.021234</td>\n",
       "      <td>0.872673</td>\n",
       "      <td>-0.115687</td>\n",
       "      <td>0.360310</td>\n",
       "      <td>-0.145905</td>\n",
       "      <td>0.548680</td>\n",
       "    </tr>\n",
       "    <tr>\n",
       "      <th>116</th>\n",
       "      <td>(movie, bassa_COFE)</td>\n",
       "      <td>(NoCriticReviews)</td>\n",
       "      <td>0.143396</td>\n",
       "      <td>0.695090</td>\n",
       "      <td>0.092629</td>\n",
       "      <td>0.645968</td>\n",
       "      <td>0.929330</td>\n",
       "      <td>1.0</td>\n",
       "      <td>-0.007044</td>\n",
       "      <td>0.861249</td>\n",
       "      <td>-0.081536</td>\n",
       "      <td>0.124192</td>\n",
       "      <td>-0.161104</td>\n",
       "      <td>0.389615</td>\n",
       "    </tr>\n",
       "    <tr>\n",
       "      <th>112</th>\n",
       "      <td>(alta_COFE, is_from_NorthAmerica)</td>\n",
       "      <td>(NoCriticReviews)</td>\n",
       "      <td>0.433032</td>\n",
       "      <td>0.695090</td>\n",
       "      <td>0.277764</td>\n",
       "      <td>0.641439</td>\n",
       "      <td>0.922814</td>\n",
       "      <td>1.0</td>\n",
       "      <td>-0.023233</td>\n",
       "      <td>0.850371</td>\n",
       "      <td>-0.128559</td>\n",
       "      <td>0.326643</td>\n",
       "      <td>-0.175957</td>\n",
       "      <td>0.520524</td>\n",
       "    </tr>\n",
       "    <tr>\n",
       "      <th>15</th>\n",
       "      <td>(alta_COFE)</td>\n",
       "      <td>(NoCriticReviews)</td>\n",
       "      <td>0.433032</td>\n",
       "      <td>0.695090</td>\n",
       "      <td>0.277764</td>\n",
       "      <td>0.641439</td>\n",
       "      <td>0.922814</td>\n",
       "      <td>1.0</td>\n",
       "      <td>-0.023233</td>\n",
       "      <td>0.850371</td>\n",
       "      <td>-0.128559</td>\n",
       "      <td>0.326643</td>\n",
       "      <td>-0.175957</td>\n",
       "      <td>0.520524</td>\n",
       "    </tr>\n",
       "  </tbody>\n",
       "</table>\n",
       "<p>197 rows × 14 columns</p>\n",
       "</div>"
      ],
      "text/plain": [
       "                            antecedents  \\\n",
       "173                  (movie, alta_COFE)   \n",
       "175          (MediumRuntime, alta_COFE)   \n",
       "174       (movie, is_from_NorthAmerica)   \n",
       "119    (VeryLowCredits, VeryLowRuntime)   \n",
       "120             (VeryLowCredits, short)   \n",
       "..                                  ...   \n",
       "167  (movie, MediumRuntime, bassa_COFE)   \n",
       "19               (is_from_NorthAmerica)   \n",
       "116                 (movie, bassa_COFE)   \n",
       "112   (alta_COFE, is_from_NorthAmerica)   \n",
       "15                          (alta_COFE)   \n",
       "\n",
       "                               consequents  antecedent support  \\\n",
       "173  (MediumRuntime, is_from_NorthAmerica)            0.104254   \n",
       "175          (movie, is_from_NorthAmerica)            0.131585   \n",
       "174             (MediumRuntime, alta_COFE)            0.122063   \n",
       "119                                (short)            0.101348   \n",
       "120                       (VeryLowRuntime)            0.089537   \n",
       "..                                     ...                 ...   \n",
       "167                      (NoCriticReviews)            0.132575   \n",
       "19                       (NoCriticReviews)            0.477306   \n",
       "116                      (NoCriticReviews)            0.143396   \n",
       "112                      (NoCriticReviews)            0.433032   \n",
       "15                       (NoCriticReviews)            0.433032   \n",
       "\n",
       "     consequent support   support  confidence      lift  representativity  \\\n",
       "173            0.150940  0.088919    0.852906  5.650635               1.0   \n",
       "175            0.122063  0.088919    0.675752  5.536099               1.0   \n",
       "174            0.131585  0.088919    0.728470  5.536099               1.0   \n",
       "119            0.152980  0.083168    0.820622  5.364230               1.0   \n",
       "120            0.234047  0.083168    0.928867  3.968730               1.0   \n",
       "..                  ...       ...         ...       ...               ...   \n",
       "167            0.695090  0.086322    0.651119  0.936741               1.0   \n",
       "19             0.695090  0.310537    0.650602  0.935997               1.0   \n",
       "116            0.695090  0.092629    0.645968  0.929330               1.0   \n",
       "112            0.695090  0.277764    0.641439  0.922814               1.0   \n",
       "15             0.695090  0.277764    0.641439  0.922814               1.0   \n",
       "\n",
       "     leverage  conviction  zhangs_metric   jaccard  certainty  kulczynski  \n",
       "173  0.073183    5.772239       0.918820  0.534771   0.826757    0.721005  \n",
       "175  0.072857    2.707609       0.943521  0.539790   0.630670    0.702111  \n",
       "174  0.072857    3.198228       0.933287  0.539790   0.687327    0.702111  \n",
       "119  0.067664    4.721990       0.905334  0.485910   0.788225    0.682138  \n",
       "120  0.062213   10.767968       0.821594  0.345936   0.907132    0.642109  \n",
       "..        ...         ...            ...       ...        ...         ...  \n",
       "167 -0.005829    0.873966      -0.072229  0.116440  -0.144209    0.387654  \n",
       "19  -0.021234    0.872673      -0.115687  0.360310  -0.145905    0.548680  \n",
       "116 -0.007044    0.861249      -0.081536  0.124192  -0.161104    0.389615  \n",
       "112 -0.023233    0.850371      -0.128559  0.326643  -0.175957    0.520524  \n",
       "15  -0.023233    0.850371      -0.128559  0.326643  -0.175957    0.520524  \n",
       "\n",
       "[197 rows x 14 columns]"
      ]
     },
     "execution_count": 58,
     "metadata": {},
     "output_type": "execute_result"
    }
   ],
   "source": [
    "rules_apriori.sort_values(by=\"lift\", axis=0, ascending=False)"
   ]
  },
  {
   "cell_type": "markdown",
   "id": "2a1feaec",
   "metadata": {},
   "source": [
    "### Target Prediction: various attempts (find the most informative one)"
   ]
  },
  {
   "cell_type": "code",
   "execution_count": 59,
   "id": "47410a0a",
   "metadata": {},
   "outputs": [
    {
     "name": "stdout",
     "output_type": "stream",
     "text": [
      "                                           antecedents  \\\n",
      "24                                         (alta_COFE)   \n",
      "96                            (MediumVotes, alta_COFE)   \n",
      "181            (tvEpisode, NoCriticReviews, alta_COFE)   \n",
      "177       (NoCriticReviews, VeryLowRuntime, alta_COFE)   \n",
      "169                  (movie, MediumRuntime, alta_COFE)   \n",
      "160             (NoCriticReviews, LowVotes, alta_COFE)   \n",
      "152                 (tvEpisode, LowRuntime, alta_COFE)   \n",
      "141           (NoCriticReviews, LowRuntime, alta_COFE)   \n",
      "136                 (tvEpisode, HighRating, alta_COFE)   \n",
      "131           (NoCriticReviews, HighRating, alta_COFE)   \n",
      "129                             (tvEpisode, alta_COFE)   \n",
      "127                                 (movie, alta_COFE)   \n",
      "125                          (VeryLowVotes, alta_COFE)   \n",
      "123                        (VeryLowRuntime, alta_COFE)   \n",
      "121                        (VeryLowCredits, alta_COFE)   \n",
      "110                       (NoCriticReviews, alta_COFE)   \n",
      "86                          (MediumRuntime, alta_COFE)   \n",
      "81                           (MediumRating, alta_COFE)   \n",
      "77                          (MediumCredits, alta_COFE)   \n",
      "73                               (LowVotes, alta_COFE)   \n",
      "60                             (LowRuntime, alta_COFE)   \n",
      "51                              (LowRating, alta_COFE)   \n",
      "47                             (LowCredits, alta_COFE)   \n",
      "41                              (alta_COFE, HighVotes)   \n",
      "36                             (HighRating, alta_COFE)   \n",
      "27                            (HighCredits, alta_COFE)   \n",
      "189  (tvEpisode, alta_COFE, NoCriticReviews, LowRun...   \n",
      "39                             (tvEpisode, HighRating)   \n",
      "64                             (tvEpisode, LowRuntime)   \n",
      "148           (tvEpisode, NoCriticReviews, LowRuntime)   \n",
      "26                                         (tvEpisode)   \n",
      "30                            (HighRating, LowRuntime)   \n",
      "\n",
      "                consequents  antecedent support  consequent support   support  \\\n",
      "24   (is_from_NorthAmerica)            0.433032            0.477306  0.433032   \n",
      "96   (is_from_NorthAmerica)            0.091454            0.477306  0.091454   \n",
      "181  (is_from_NorthAmerica)            0.121259            0.477306  0.121259   \n",
      "177  (is_from_NorthAmerica)            0.092629            0.477306  0.092629   \n",
      "169  (is_from_NorthAmerica)            0.088919            0.477306  0.088919   \n",
      "160  (is_from_NorthAmerica)            0.101348            0.477306  0.101348   \n",
      "152  (is_from_NorthAmerica)            0.119280            0.477306  0.119280   \n",
      "141  (is_from_NorthAmerica)            0.129792            0.477306  0.129792   \n",
      "136  (is_from_NorthAmerica)            0.081623            0.477306  0.081623   \n",
      "131  (is_from_NorthAmerica)            0.092506            0.477306  0.092506   \n",
      "129  (is_from_NorthAmerica)            0.165533            0.477306  0.165533   \n",
      "127  (is_from_NorthAmerica)            0.104254            0.477306  0.104254   \n",
      "125  (is_from_NorthAmerica)            0.082117            0.477306  0.082117   \n",
      "123  (is_from_NorthAmerica)            0.115385            0.477306  0.115385   \n",
      "121  (is_from_NorthAmerica)            0.089228            0.477306  0.089228   \n",
      "110  (is_from_NorthAmerica)            0.277764            0.477306  0.277764   \n",
      "86   (is_from_NorthAmerica)            0.131585            0.477306  0.131585   \n",
      "81   (is_from_NorthAmerica)            0.112231            0.477306  0.112231   \n",
      "77   (is_from_NorthAmerica)            0.104192            0.477306  0.104192   \n",
      "73   (is_from_NorthAmerica)            0.121197            0.477306  0.121197   \n",
      "60   (is_from_NorthAmerica)            0.176540            0.477306  0.176540   \n",
      "51   (is_from_NorthAmerica)            0.105924            0.477306  0.105924   \n",
      "47   (is_from_NorthAmerica)            0.100359            0.477306  0.100359   \n",
      "41   (is_from_NorthAmerica)            0.092938            0.477306  0.092938   \n",
      "36   (is_from_NorthAmerica)            0.135976            0.477306  0.135976   \n",
      "27   (is_from_NorthAmerica)            0.110500            0.477306  0.110500   \n",
      "189  (is_from_NorthAmerica)            0.087064            0.477306  0.087064   \n",
      "39   (is_from_NorthAmerica)            0.136718            0.477306  0.086693   \n",
      "64   (is_from_NorthAmerica)            0.200099            0.477306  0.126082   \n",
      "148  (is_from_NorthAmerica)            0.153351            0.477306  0.093000   \n",
      "26   (is_from_NorthAmerica)            0.290502            0.477306  0.175921   \n",
      "30   (is_from_NorthAmerica)            0.138140            0.477306  0.082983   \n",
      "\n",
      "     confidence      lift  representativity  leverage  conviction  \\\n",
      "24     1.000000  2.095090               1.0  0.226343         inf   \n",
      "96     1.000000  2.095090               1.0  0.047803         inf   \n",
      "181    1.000000  2.095090               1.0  0.063381         inf   \n",
      "177    1.000000  2.095090               1.0  0.048417         inf   \n",
      "169    1.000000  2.095090               1.0  0.046477         inf   \n",
      "160    1.000000  2.095090               1.0  0.052974         inf   \n",
      "152    1.000000  2.095090               1.0  0.062347         inf   \n",
      "141    1.000000  2.095090               1.0  0.067842         inf   \n",
      "136    1.000000  2.095090               1.0  0.042664         inf   \n",
      "131    1.000000  2.095090               1.0  0.048352         inf   \n",
      "129    1.000000  2.095090               1.0  0.086523         inf   \n",
      "127    1.000000  2.095090               1.0  0.054493         inf   \n",
      "125    1.000000  2.095090               1.0  0.042922         inf   \n",
      "123    1.000000  2.095090               1.0  0.060311         inf   \n",
      "121    1.000000  2.095090               1.0  0.046639         inf   \n",
      "110    1.000000  2.095090               1.0  0.145185         inf   \n",
      "86     1.000000  2.095090               1.0  0.068779         inf   \n",
      "81     1.000000  2.095090               1.0  0.058662         inf   \n",
      "77     1.000000  2.095090               1.0  0.054461         inf   \n",
      "73     1.000000  2.095090               1.0  0.063349         inf   \n",
      "60     1.000000  2.095090               1.0  0.092276         inf   \n",
      "51     1.000000  2.095090               1.0  0.055366         inf   \n",
      "47     1.000000  2.095090               1.0  0.052457         inf   \n",
      "41     1.000000  2.095090               1.0  0.048578         inf   \n",
      "36     1.000000  2.095090               1.0  0.071074         inf   \n",
      "27     1.000000  2.095090               1.0  0.057757         inf   \n",
      "189    1.000000  2.095090               1.0  0.045508         inf   \n",
      "39     0.634102  1.328501               1.0  0.021437    1.428523   \n",
      "64     0.630099  1.320114               1.0  0.030574    1.413063   \n",
      "148    0.606452  1.270571               1.0  0.019805    1.328156   \n",
      "26     0.605577  1.268738               1.0  0.037263    1.325210   \n",
      "30     0.600716  1.258555               1.0  0.017048    1.309078   \n",
      "\n",
      "     zhangs_metric   jaccard  certainty  kulczynski  \n",
      "24        0.921911  0.907242   1.000000    0.953621  \n",
      "96        0.575308  0.191605   1.000000    0.595803  \n",
      "181       0.594821  0.254048   1.000000    0.627024  \n",
      "177       0.576053  0.194067   1.000000    0.597033  \n",
      "169       0.573707  0.186294   1.000000    0.593147  \n",
      "160       0.581642  0.212333   1.000000    0.606167  \n",
      "152       0.593485  0.249903   1.000000    0.624951  \n",
      "141       0.600654  0.271926   1.000000    0.635963  \n",
      "136       0.569149  0.171007   1.000000    0.585503  \n",
      "131       0.575974  0.193807   1.000000    0.596904  \n",
      "129       0.626380  0.346807   1.000000    0.673403  \n",
      "127       0.583529  0.218422   1.000000    0.609211  \n",
      "125       0.569456  0.172043   1.000000    0.586022  \n",
      "123       0.590871  0.241741   1.000000    0.620871  \n",
      "121       0.573902  0.186941   1.000000    0.593471  \n",
      "110       0.723716  0.581941   1.000000    0.790970  \n",
      "86        0.601894  0.275683   1.000000    0.637842  \n",
      "81        0.588772  0.235134   1.000000    0.617567  \n",
      "77        0.583489  0.218293   1.000000    0.609146  \n",
      "73        0.594779  0.253919   1.000000    0.626959  \n",
      "60        0.634753  0.369867   1.000000    0.684933  \n",
      "51        0.584619  0.221920   1.000000    0.610960  \n",
      "47        0.581002  0.210260   1.000000    0.605130  \n",
      "41        0.576249  0.194714   1.000000    0.597357  \n",
      "36        0.604952  0.284881   1.000000    0.642441  \n",
      "27        0.587626  0.231507   1.000000    0.615753  \n",
      "189       0.572541  0.182407   1.000000    0.591204  \n",
      "39        0.286432  0.164400   0.299976    0.407866  \n",
      "64        0.303150  0.228690   0.292317    0.447126  \n",
      "148       0.251524  0.172973   0.247076    0.400648  \n",
      "26        0.298542  0.297221   0.245403    0.487074  \n",
      "30        0.238365  0.155847   0.236103    0.387286  \n"
     ]
    }
   ],
   "source": [
    "# Filtro le regole con \"nord america\" nei consequents\n",
    "rules_north_am = rules_apriori[rules_apriori['consequents'] == frozenset({'is_from_NorthAmerica'})]\n",
    "\n",
    "\n",
    "# Ordina le regole per lift in ordine decrescente\n",
    "rules_north_am_sorted = rules_north_am.sort_values(by='lift', ascending=False)\n",
    "\n",
    "print(rules_north_am_sorted)"
   ]
  },
  {
   "cell_type": "code",
   "execution_count": 60,
   "id": "c0f5a1bc",
   "metadata": {},
   "outputs": [
    {
     "name": "stdout",
     "output_type": "stream",
     "text": [
      "To predict: is_from_NorthAmerica\n",
      "How? alta_COFE\n"
     ]
    }
   ],
   "source": [
    "# Filter the rule where the consequent contains \"is_from_NorthAmerica\"\n",
    "rule_for_highrated = [r for r in rules_apriori.iterrows() if 'is_from_NorthAmerica' in r[1]['consequents']]\n",
    "\n",
    "# Extract rule details (antecedents and consequents)\n",
    "if len(rule_for_highrated) > 0:\n",
    "    selected_rule = rule_for_highrated[0][1]  # Take the first matching rule\n",
    "    to_predict = \", \".join(selected_rule['consequents'])  # Convert frozenset to string\n",
    "    how = \", \".join(selected_rule['antecedents'])  # Convert frozenset to string\n",
    "\n",
    "    print(\"To predict:\", to_predict)\n",
    "    print(\"How?\", how)\n",
    "else:\n",
    "    print(\"No rules found with 'is_from_NorthAmerica' in the consequents.\")\n"
   ]
  },
  {
   "cell_type": "code",
   "execution_count": 61,
   "id": "455100af",
   "metadata": {},
   "outputs": [
    {
     "name": "stdout",
     "output_type": "stream",
     "text": [
      "Empty DataFrame\n",
      "Columns: [antecedents, consequents, antecedent support, consequent support, support, confidence, lift, representativity, leverage, conviction, zhangs_metric, jaccard, certainty, kulczynski]\n",
      "Index: []\n"
     ]
    }
   ],
   "source": [
    "# Filtro le regole con \"VeryFewRegions\" nei consequents\n",
    "rules_north_am = rules_apriori[rules_apriori['consequents'] == frozenset({'VeryFewRegions'})]\n",
    "\n",
    "# Ordina le regole per lift in ordine decrescente\n",
    "rules_north_am_sorted = rules_north_am.sort_values(by='lift', ascending=False)\n",
    "\n",
    "print(rules_north_am_sorted)"
   ]
  },
  {
   "cell_type": "code",
   "execution_count": 62,
   "id": "e2b5a125",
   "metadata": {},
   "outputs": [
    {
     "name": "stdout",
     "output_type": "stream",
     "text": [
      "                                           antecedents   consequents  \\\n",
      "62                              (tvEpisode, alta_COFE)  (LowRuntime)   \n",
      "153       (tvEpisode, alta_COFE, is_from_NorthAmerica)  (LowRuntime)   \n",
      "145            (tvEpisode, NoCriticReviews, alta_COFE)  (LowRuntime)   \n",
      "190  (tvEpisode, NoCriticReviews, alta_COFE, is_fro...  (LowRuntime)   \n",
      "65                   (tvEpisode, is_from_NorthAmerica)  (LowRuntime)   \n",
      "149  (tvEpisode, NoCriticReviews, is_from_NorthAmer...  (LowRuntime)   \n",
      "4                                          (tvEpisode)  (LowRuntime)   \n",
      "58                        (tvEpisode, NoCriticReviews)  (LowRuntime)   \n",
      "31                             (tvEpisode, HighRating)  (LowRuntime)   \n",
      "\n",
      "     antecedent support  consequent support   support  confidence      lift  \\\n",
      "62             0.165533            0.343804  0.119280    0.720583  2.095911   \n",
      "153            0.165533            0.343804  0.119280    0.720583  2.095911   \n",
      "145            0.121259            0.343804  0.087064    0.718001  2.088402   \n",
      "190            0.121259            0.343804  0.087064    0.718001  2.088402   \n",
      "65             0.175921            0.343804  0.126082    0.716696  2.084606   \n",
      "149            0.130472            0.343804  0.093000    0.712796  2.073263   \n",
      "4              0.290502            0.343804  0.200099    0.688804  2.003477   \n",
      "58             0.222731            0.343804  0.153351    0.688506  2.002612   \n",
      "31             0.136718            0.343804  0.093742    0.685663  1.994341   \n",
      "\n",
      "     representativity  leverage  conviction  zhangs_metric   jaccard  \\\n",
      "62                1.0  0.062369    2.348444       0.626604  0.305802   \n",
      "153               1.0  0.062369    2.348444       0.626604  0.305802   \n",
      "145               1.0  0.045375    2.326944       0.593081  0.230329   \n",
      "190               1.0  0.045375    2.326944       0.593081  0.230329   \n",
      "65                1.0  0.065600    2.316225       0.631363  0.320295   \n",
      "149               1.0  0.048143    2.284774       0.595344  0.243918   \n",
      "4                 1.0  0.100223    2.108624       0.705947  0.460837   \n",
      "58                1.0  0.076776    2.106611       0.644117  0.371146   \n",
      "31                1.0  0.046738    2.087553       0.577541  0.242366   \n",
      "\n",
      "     certainty  kulczynski  \n",
      "62    0.574186    0.533763  \n",
      "153   0.574186    0.533763  \n",
      "145   0.570252    0.485619  \n",
      "190   0.570252    0.485619  \n",
      "65    0.568263    0.541711  \n",
      "149   0.562320    0.491650  \n",
      "4     0.525757    0.635409  \n",
      "58    0.525304    0.567275  \n",
      "31    0.520970    0.479162  \n"
     ]
    }
   ],
   "source": [
    "# Filtro le regole con \"low runtime\" nei consequents\n",
    "rules_north_am = rules_apriori[rules_apriori['consequents'] == frozenset({'LowRuntime'})]\n",
    "\n",
    "# Ordina le regole per lift in ordine decrescente\n",
    "rules_north_am_sorted = rules_north_am.sort_values(by='lift', ascending=False)\n",
    "\n",
    "print(rules_north_am_sorted)"
   ]
  },
  {
   "cell_type": "code",
   "execution_count": 63,
   "id": "e201bf81",
   "metadata": {},
   "outputs": [
    {
     "name": "stdout",
     "output_type": "stream",
     "text": [
      "To predict: LowRuntime\n",
      "How? tvEpisode\n"
     ]
    }
   ],
   "source": [
    "# Filter the rule where the consequent contains \"HighRated\"\n",
    "rule_for_highrated = [r for r in rules_apriori.iterrows() if 'LowRuntime' in r[1]['consequents']]\n",
    "\n",
    "# Extract rule details (antecedents and consequents)\n",
    "if len(rule_for_highrated) > 0:\n",
    "    selected_rule = rule_for_highrated[0][1]  # Take the first matching rule\n",
    "    to_predict = \", \".join(selected_rule['consequents'])  # Convert frozenset to string\n",
    "    how = \", \".join(selected_rule['antecedents'])  # Convert frozenset to string\n",
    "\n",
    "    print(\"To predict:\", to_predict)\n",
    "    print(\"How?\", how)\n",
    "else:\n",
    "    print(\"No rules found with 'LowRuntime' in the consequents.\")\n"
   ]
  }
 ],
 "metadata": {
  "kernelspec": {
   "display_name": "Python 3",
   "language": "python",
   "name": "python3"
  },
  "language_info": {
   "codemirror_mode": {
    "name": "ipython",
    "version": 3
   },
   "file_extension": ".py",
   "mimetype": "text/x-python",
   "name": "python",
   "nbconvert_exporter": "python",
   "pygments_lexer": "ipython3",
   "version": "3.8.2"
  }
 },
 "nbformat": 4,
 "nbformat_minor": 5
}
