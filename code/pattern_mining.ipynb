{
 "cells": [
  {
   "cell_type": "markdown",
   "id": "2cfa218c",
   "metadata": {},
   "source": [
    "# PATTERN MINING"
   ]
  },
  {
   "cell_type": "code",
   "execution_count": 266,
   "id": "76c01c86",
   "metadata": {},
   "outputs": [],
   "source": [
    "import pandas as pd\n",
    "import seaborn as sns\n",
    "import matplotlib.pyplot as plt\n",
    "from mlxtend.preprocessing import TransactionEncoder\n",
    "from mlxtend.frequent_patterns import apriori, association_rules\n",
    "import numpy as np\n",
    "from mlxtend.frequent_patterns import fpgrowth"
   ]
  },
  {
   "cell_type": "code",
   "execution_count": 267,
   "id": "a576fa9f",
   "metadata": {},
   "outputs": [],
   "source": [
    "train = pd.read_csv('pp_train.csv')\n",
    "test = pd.read_csv('pp_test.csv') \n",
    "#df = pd.concat([train, test], axis=0, ignore_index=True) #abbiamo unito train e test\n",
    "df = train"
   ]
  },
  {
   "cell_type": "code",
   "execution_count": 268,
   "id": "5d4b04ba",
   "metadata": {},
   "outputs": [],
   "source": [
    "#df.info()"
   ]
  },
  {
   "cell_type": "code",
   "execution_count": 269,
   "id": "9f754901",
   "metadata": {},
   "outputs": [
    {
     "data": {
      "text/plain": [
       "Index(['originalTitle', 'rating', 'startYear', 'endYear', 'runtimeMinutes',\n",
       "       'awardWins', 'numVotes', 'totalImages', 'totalVideos', 'totalCredits',\n",
       "       'criticReviewsTotal', 'titleType', 'awardNominationsExcludeWins',\n",
       "       'canHaveEpisodes', 'numRegions', 'userReviewsTotal', 'is_Documentary',\n",
       "       'is_History', 'is_Adventure', 'is_Thriller', 'is_Game-Show',\n",
       "       'is_Comedy', 'is_Sci-Fi', 'is_Romance', 'is_Biography', 'is_Musical',\n",
       "       'is_Western', 'is_Music', 'is_Film-Noir', 'is_Adult', 'is_Reality-TV',\n",
       "       'is_News', 'is_Action', 'is_Crime', 'is_Short', 'is_Fantasy',\n",
       "       'is_Family', 'is_Mystery', 'is_Talk-Show', 'is_Drama', 'is_Sport',\n",
       "       'is_War', 'is_Horror', 'is_Animation', 'is_from_Oceania',\n",
       "       'is_from_North America', 'is_from_South America', 'is_from_Asia',\n",
       "       'is_from_Africa', 'is_from_Europe', 'countryOfOrigin',\n",
       "       'countryOfOrigin_freq_enc', 'countryOfOrigin_NA', 'countryOfOrigin_AF',\n",
       "       'countryOfOrigin_AS', 'countryOfOrigin_EU', 'countryOfOrigin_OC',\n",
       "       'countryOfOrigin_SA', 'countryOfOrigin_UNK',\n",
       "       'fill_runtimeMinutes_Bruno', 'totalNominations', 'totalMedia',\n",
       "       'runtimeMinutes_notitletype', 'outlier_no_type', 'outlier_w_type'],\n",
       "      dtype='object')"
      ]
     },
     "execution_count": 269,
     "metadata": {},
     "output_type": "execute_result"
    }
   ],
   "source": [
    "df.columns"
   ]
  },
  {
   "cell_type": "code",
   "execution_count": 270,
   "id": "f2c236e3",
   "metadata": {},
   "outputs": [],
   "source": [
    "df = df[df[\"outlier_w_type\"] != True]"
   ]
  },
  {
   "cell_type": "code",
   "execution_count": 271,
   "id": "d7ddece6",
   "metadata": {},
   "outputs": [
    {
     "name": "stdout",
     "output_type": "stream",
     "text": [
      "<class 'pandas.core.frame.DataFrame'>\n",
      "Index: 14955 entries, 0 to 16130\n",
      "Data columns (total 65 columns):\n",
      " #   Column                       Non-Null Count  Dtype  \n",
      "---  ------                       --------------  -----  \n",
      " 0   originalTitle                14955 non-null  object \n",
      " 1   rating                       14955 non-null  int64  \n",
      " 2   startYear                    14955 non-null  int64  \n",
      " 3   endYear                      14214 non-null  float64\n",
      " 4   runtimeMinutes               10361 non-null  float64\n",
      " 5   awardWins                    14955 non-null  float64\n",
      " 6   numVotes                     14955 non-null  int64  \n",
      " 7   totalImages                  14955 non-null  int64  \n",
      " 8   totalVideos                  14955 non-null  int64  \n",
      " 9   totalCredits                 14955 non-null  int64  \n",
      " 10  criticReviewsTotal           14955 non-null  int64  \n",
      " 11  titleType                    14955 non-null  object \n",
      " 12  awardNominationsExcludeWins  14955 non-null  int64  \n",
      " 13  canHaveEpisodes              14955 non-null  bool   \n",
      " 14  numRegions                   14955 non-null  int64  \n",
      " 15  userReviewsTotal             14955 non-null  int64  \n",
      " 16  is_Documentary               14955 non-null  int64  \n",
      " 17  is_History                   14955 non-null  int64  \n",
      " 18  is_Adventure                 14955 non-null  int64  \n",
      " 19  is_Thriller                  14955 non-null  int64  \n",
      " 20  is_Game-Show                 14955 non-null  int64  \n",
      " 21  is_Comedy                    14955 non-null  int64  \n",
      " 22  is_Sci-Fi                    14955 non-null  int64  \n",
      " 23  is_Romance                   14955 non-null  int64  \n",
      " 24  is_Biography                 14955 non-null  int64  \n",
      " 25  is_Musical                   14955 non-null  int64  \n",
      " 26  is_Western                   14955 non-null  int64  \n",
      " 27  is_Music                     14955 non-null  int64  \n",
      " 28  is_Film-Noir                 14955 non-null  int64  \n",
      " 29  is_Adult                     14955 non-null  int64  \n",
      " 30  is_Reality-TV                14955 non-null  int64  \n",
      " 31  is_News                      14955 non-null  int64  \n",
      " 32  is_Action                    14955 non-null  int64  \n",
      " 33  is_Crime                     14955 non-null  int64  \n",
      " 34  is_Short                     14955 non-null  int64  \n",
      " 35  is_Fantasy                   14955 non-null  int64  \n",
      " 36  is_Family                    14955 non-null  int64  \n",
      " 37  is_Mystery                   14955 non-null  int64  \n",
      " 38  is_Talk-Show                 14955 non-null  int64  \n",
      " 39  is_Drama                     14955 non-null  int64  \n",
      " 40  is_Sport                     14955 non-null  int64  \n",
      " 41  is_War                       14955 non-null  int64  \n",
      " 42  is_Horror                    14955 non-null  int64  \n",
      " 43  is_Animation                 14955 non-null  int64  \n",
      " 44  is_from_Oceania              14955 non-null  int64  \n",
      " 45  is_from_North America        14955 non-null  int64  \n",
      " 46  is_from_South America        14955 non-null  int64  \n",
      " 47  is_from_Asia                 14955 non-null  int64  \n",
      " 48  is_from_Africa               14955 non-null  int64  \n",
      " 49  is_from_Europe               14955 non-null  int64  \n",
      " 50  countryOfOrigin              14955 non-null  object \n",
      " 51  countryOfOrigin_freq_enc     14955 non-null  float64\n",
      " 52  countryOfOrigin_NA           14955 non-null  int64  \n",
      " 53  countryOfOrigin_AF           14955 non-null  int64  \n",
      " 54  countryOfOrigin_AS           14955 non-null  int64  \n",
      " 55  countryOfOrigin_EU           14955 non-null  int64  \n",
      " 56  countryOfOrigin_OC           14955 non-null  int64  \n",
      " 57  countryOfOrigin_SA           14955 non-null  int64  \n",
      " 58  countryOfOrigin_UNK          14955 non-null  int64  \n",
      " 59  fill_runtimeMinutes_Bruno    14955 non-null  float64\n",
      " 60  totalNominations             14955 non-null  float64\n",
      " 61  totalMedia                   14955 non-null  int64  \n",
      " 62  runtimeMinutes_notitletype   14955 non-null  float64\n",
      " 63  outlier_no_type              14955 non-null  bool   \n",
      " 64  outlier_w_type               14955 non-null  bool   \n",
      "dtypes: bool(3), float64(7), int64(52), object(3)\n",
      "memory usage: 7.2+ MB\n"
     ]
    }
   ],
   "source": [
    "df.info()"
   ]
  },
  {
   "cell_type": "markdown",
   "id": "8ed22a68",
   "metadata": {},
   "source": [
    "## Gestione variabili "
   ]
  },
  {
   "cell_type": "markdown",
   "id": "3163d36b",
   "metadata": {},
   "source": [
    "### Osservare la distribuzione delle numeriche per binning"
   ]
  },
  {
   "cell_type": "code",
   "execution_count": 272,
   "id": "79e5c52d",
   "metadata": {},
   "outputs": [
    {
     "data": {
      "text/plain": [
       "count    14955.000000\n",
       "mean        54.833969\n",
       "std         33.295746\n",
       "min          1.000000\n",
       "25%         26.000000\n",
       "50%         48.000000\n",
       "75%         88.000000\n",
       "max        220.000000\n",
       "Name: fill_runtimeMinutes_Bruno, dtype: float64"
      ]
     },
     "execution_count": 272,
     "metadata": {},
     "output_type": "execute_result"
    }
   ],
   "source": [
    "# df['startYear'].describe()\n",
    "#df['totalNominations'].describe()\n",
    "df['fill_runtimeMinutes_Bruno'].describe()\n",
    "# df['totalMedia'].describe()\n",
    "#df['numVotes'].describe()\n",
    "# df['totalCredits'].describe()\n",
    "# df['criticReviewsTotal'].describe()\n",
    "#df['numRegions'].describe()\n",
    "# df['userReviewsTotal'].describe()\n",
    "# df['rating'].describe()"
   ]
  },
  {
   "cell_type": "markdown",
   "id": "cc7cc7be",
   "metadata": {},
   "source": [
    "### Trasformazione binaria con valori semanticamente significativi\n",
    "#### episodes"
   ]
  },
  {
   "cell_type": "code",
   "execution_count": 273,
   "id": "e042ef05",
   "metadata": {},
   "outputs": [
    {
     "name": "stderr",
     "output_type": "stream",
     "text": [
      "C:\\Users\\noemi\\AppData\\Local\\Temp\\ipykernel_17796\\2497733362.py:1: SettingWithCopyWarning: \n",
      "A value is trying to be set on a copy of a slice from a DataFrame.\n",
      "Try using .loc[row_indexer,col_indexer] = value instead\n",
      "\n",
      "See the caveats in the documentation: https://pandas.pydata.org/pandas-docs/stable/user_guide/indexing.html#returning-a-view-versus-a-copy\n",
      "  df[\"canHaveEpisodes\"] = df[\"canHaveEpisodes\"].astype(int)\n",
      "C:\\Users\\noemi\\AppData\\Local\\Temp\\ipykernel_17796\\2497733362.py:3: SettingWithCopyWarning: \n",
      "A value is trying to be set on a copy of a slice from a DataFrame.\n",
      "Try using .loc[row_indexer,col_indexer] = value instead\n",
      "\n",
      "See the caveats in the documentation: https://pandas.pydata.org/pandas-docs/stable/user_guide/indexing.html#returning-a-view-versus-a-copy\n",
      "  df[\"canHaveEpisodes\"] = df[\"canHaveEpisodes\"].map(canhaveeps_dict)\n"
     ]
    },
    {
     "data": {
      "text/plain": [
       "0        cant_have_episodes\n",
       "1        cant_have_episodes\n",
       "2         can_have_episodes\n",
       "4        cant_have_episodes\n",
       "5        cant_have_episodes\n",
       "                ...        \n",
       "16125     can_have_episodes\n",
       "16126    cant_have_episodes\n",
       "16127    cant_have_episodes\n",
       "16129    cant_have_episodes\n",
       "16130    cant_have_episodes\n",
       "Name: canHaveEpisodes, Length: 14955, dtype: object"
      ]
     },
     "execution_count": 273,
     "metadata": {},
     "output_type": "execute_result"
    }
   ],
   "source": [
    "df[\"canHaveEpisodes\"] = df[\"canHaveEpisodes\"].astype(int)\n",
    "canhaveeps_dict = {0: \"cant_have_episodes\", 1: \"can_have_episodes\"}\n",
    "df[\"canHaveEpisodes\"] = df[\"canHaveEpisodes\"].map(canhaveeps_dict)\n",
    "df[\"canHaveEpisodes\"]"
   ]
  },
  {
   "cell_type": "markdown",
   "id": "60d775da",
   "metadata": {},
   "source": [
    "### Handling of numerical attributes\n",
    "Delle seguenti variabili: 'rating', 'startYear', 'numVotes', 'totalCredits', 'criticReviewsTotal', 'numRegions', 'userReviewsTotal',\n",
    "    'countryOfOrigin_freq_enc',\n",
    "       'countryOfOrigin_NA', 'countryOfOrigin_AF', 'countryOfOrigin_AS',\n",
    "       'countryOfOrigin_EU', 'countryOfOrigin_OC', 'countryOfOrigin_SA',\n",
    "       'countryOfOrigin_UNK'\n",
    "       'fill_runtimeMinutes_Bruno', 'totalNominations',\n",
    "       'totalMedia'"
   ]
  },
  {
   "cell_type": "code",
   "execution_count": 274,
   "id": "696a72e4",
   "metadata": {},
   "outputs": [],
   "source": [
    "df_copy = df.copy()"
   ]
  },
  {
   "cell_type": "markdown",
   "id": "8f306dc5",
   "metadata": {},
   "source": [
    "##### TotalNominations"
   ]
  },
  {
   "cell_type": "code",
   "execution_count": 275,
   "id": "5a0bf0ae",
   "metadata": {},
   "outputs": [],
   "source": [
    "# df_copy[\"log_totalNominations\"] = np.log1p(df[\"totalNominations\"])"
   ]
  },
  {
   "cell_type": "code",
   "execution_count": 276,
   "id": "d4effb5f",
   "metadata": {},
   "outputs": [],
   "source": [
    "# #TOTALNOMINATIONS LOG-TRANSFORMED\n",
    "# log_bins = [-0.01, 0, np.log(5), np.log(20), df_copy['log_totalNominations'].max()]\n",
    "# labels = ['ZeroNom', 'LowNom', 'MediumNom', 'VeryHighNom']\n",
    "\n",
    "# df_copy['log_nom_bin_cut'] = pd.cut(df_copy['log_totalNominations'], \n",
    "#                                 bins=log_bins, \n",
    "#                                 labels=labels)\n",
    "\n",
    "# print(df_copy.groupby('log_nom_bin_cut')['totalNominations'].describe())"
   ]
  },
  {
   "cell_type": "code",
   "execution_count": 277,
   "id": "0247510d",
   "metadata": {},
   "outputs": [
    {
     "name": "stdout",
     "output_type": "stream",
     "text": [
      "                        count       mean        std   min   25%   50%   75%  \\\n",
      "totalNominations_bin                                                          \n",
      "ZeroNom               12521.0   0.000000   0.000000   0.0   0.0   0.0   0.0   \n",
      "LowNom                 1372.0   1.333819   0.471748   1.0   1.0   1.0   2.0   \n",
      "MediumNom               805.0   5.080745   2.041166   3.0   3.0   4.0   6.0   \n",
      "VeryHighNom             257.0  27.988327  31.506136  11.0  13.0  17.0  28.0   \n",
      "\n",
      "                        max  \n",
      "totalNominations_bin         \n",
      "ZeroNom                 0.0  \n",
      "LowNom                  2.0  \n",
      "MediumNom              10.0  \n",
      "VeryHighNom           306.0  \n"
     ]
    }
   ],
   "source": [
    "#TOTALNOMINATIONS NON LOG-TRANSFORMED   \n",
    "bins = [-1, 0, 2, 10, df_copy['totalNominations'].max()]\n",
    "labels = ['ZeroNom', 'LowNom', 'MediumNom', 'VeryHighNom']\n",
    "\n",
    "df_copy['totalNominations_bin'] = pd.cut(df_copy['totalNominations'], \n",
    "                                bins=bins, \n",
    "                                labels=labels)\n",
    "\n",
    "print(df_copy.groupby('totalNominations_bin')['totalNominations'].describe())"
   ]
  },
  {
   "cell_type": "markdown",
   "id": "c833fae1",
   "metadata": {},
   "source": [
    "##### TotalMedia"
   ]
  },
  {
   "cell_type": "code",
   "execution_count": 278,
   "id": "b90d9794",
   "metadata": {},
   "outputs": [],
   "source": [
    "# df_copy[\"log_totalMedia\"] = np.log1p(df[\"totalMedia\"])"
   ]
  },
  {
   "cell_type": "code",
   "execution_count": 279,
   "id": "e4fbb6e7",
   "metadata": {},
   "outputs": [
    {
     "name": "stdout",
     "output_type": "stream",
     "text": [
      "                count        mean         std   min   25%   50%    75%     max\n",
      "media_bin                                                                     \n",
      "ZeroMedia      3066.0    0.000000    0.000000   0.0   0.0   0.0    0.0     0.0\n",
      "LowMedia       4378.0    1.000000    0.000000   1.0   1.0   1.0    1.0     1.0\n",
      "MediumMedia    4608.0    3.853733    1.918766   2.0   2.0   3.0    5.0     8.0\n",
      "HighMedia      2292.0   19.359948   10.357639   9.0  11.0  16.0   25.0    50.0\n",
      "VeryHighMedia   611.0  172.929624  339.162580  51.0  66.0  90.0  141.0  3516.0\n"
     ]
    }
   ],
   "source": [
    "#TOTALMEDIA NON LOG-TRANSFORMED\n",
    "bins = [-1, 0, 1, 8, 50, df_copy['totalMedia'].max()]\n",
    "labels = ['ZeroMedia', 'LowMedia', 'MediumMedia', 'HighMedia', 'VeryHighMedia']\n",
    "df_copy['media_bin'] = pd.cut(df_copy['totalMedia'], bins=bins, labels=labels)\n",
    "\n",
    "print(df_copy.groupby('media_bin')['totalMedia'].describe())"
   ]
  },
  {
   "cell_type": "code",
   "execution_count": 280,
   "id": "d92d6f02",
   "metadata": {},
   "outputs": [],
   "source": [
    "# #TOTALMEDIA LOG-TRANSFORMED\n",
    "# log_bins = [-1, 0, 1.61, 3.1, 4.0, np.log(df_copy['totalMedia'].max())]\n",
    "# labels = ['ZeroMedia', 'LowMedia', 'MediumMedia', 'HighMedia', 'VeryHighMedia']\n",
    "# df_copy['log_media_bin'] = pd.cut(df_copy['totalMedia'], bins=log_bins, labels=labels)\n",
    "\n",
    "# print(df_copy.groupby('log_media_bin')['totalMedia'].describe())"
   ]
  },
  {
   "cell_type": "markdown",
   "id": "1d7742b9",
   "metadata": {},
   "source": [
    "##### fill_runtimeMinutes_Bruno - chiamato nel report runtimeMinutes_titletype"
   ]
  },
  {
   "cell_type": "code",
   "execution_count": 281,
   "id": "6cde13a3",
   "metadata": {},
   "outputs": [],
   "source": [
    "# df_copy[\"log_fill_runtimeMinutes_Bruno\"] = np.log1p(df[\"fill_runtimeMinutes_Bruno\"])"
   ]
  },
  {
   "cell_type": "code",
   "execution_count": 282,
   "id": "0b5a0207",
   "metadata": {},
   "outputs": [
    {
     "name": "stdout",
     "output_type": "stream",
     "text": [
      "                 count        mean        std   min   25%   50%    75%    max\n",
      "runtime_bin                                                                  \n",
      "VeryLowRuntime  5607.0   19.798823   9.151547   1.0  11.0  22.0   29.0   30.0\n",
      "LowRuntime      3270.0   48.596330   7.265013  31.0  43.0  47.0   55.0   60.0\n",
      "MediumRuntime   3426.0   81.906888   7.812311  61.0  77.0  85.0   89.0   90.0\n",
      "HighRuntime     2652.0  101.624057  12.288163  91.0  94.0  98.0  105.0  220.0\n"
     ]
    }
   ],
   "source": [
    "#FILL_RUNTIMEMINS_BRUNO NON LOG-TRANSFORMED\n",
    "bins = [0, 30, 60, 90, df_copy['fill_runtimeMinutes_Bruno'].max()]\n",
    "labels = ['VeryLowRuntime', 'LowRuntime', 'MediumRuntime', 'HighRuntime']\n",
    "\n",
    "df_copy['runtime_bin'] = pd.cut(df_copy['fill_runtimeMinutes_Bruno'], bins=bins, labels=labels)\n",
    "print(df_copy.groupby('runtime_bin')['fill_runtimeMinutes_Bruno'].describe())"
   ]
  },
  {
   "cell_type": "code",
   "execution_count": 283,
   "id": "8940dcae",
   "metadata": {},
   "outputs": [],
   "source": [
    "# #FILL_RUNTIMEMINS_BRUNO LOG-TRANSFORMED\n",
    "# bins = [-np.inf, 2.0, 3.5, 4.5, 5.5, np.inf]\n",
    "# labels = ['VeryLowRuntime', 'LowRuntime', 'MediumRuntime', 'HighRuntime', 'VeryHighRuntime']\n",
    "\n",
    "# df_copy['log_runtime_bin'] = pd.cut(\n",
    "#     df_copy['log_fill_runtimeMinutes_Bruno'],\n",
    "#     bins=bins,\n",
    "#     labels=labels,\n",
    "#     ordered=True)\n",
    "\n",
    "# print(df_copy.groupby('log_runtime_bin')['fill_runtimeMinutes_Bruno'].describe())"
   ]
  },
  {
   "cell_type": "markdown",
   "id": "7118ec87",
   "metadata": {},
   "source": [
    "##### rating"
   ]
  },
  {
   "cell_type": "code",
   "execution_count": 284,
   "id": "75d4b05e",
   "metadata": {},
   "outputs": [
    {
     "name": "stdout",
     "output_type": "stream",
     "text": [
      "rating_bin\n",
      "HighRating        4378\n",
      "MediumRating      4127\n",
      "LowRating         4021\n",
      "VeryHighRating    2224\n",
      "VeryLowRating      205\n",
      "Name: count, dtype: int64\n",
      "                 count      mean       std  min  25%  50%  75%   max\n",
      "rating_bin                                                          \n",
      "VeryLowRating    205.0  2.682927  0.516351  1.0  2.0  3.0  3.0   3.0\n",
      "LowRating       4021.0  5.521761  0.681187  4.0  5.0  6.0  6.0   6.0\n",
      "MediumRating    4127.0  7.000000  0.000000  7.0  7.0  7.0  7.0   7.0\n",
      "HighRating      4378.0  8.000000  0.000000  8.0  8.0  8.0  8.0   8.0\n",
      "VeryHighRating  2224.0  9.142986  0.350137  9.0  9.0  9.0  9.0  10.0\n"
     ]
    }
   ],
   "source": [
    "#RATING \n",
    "bins = [-1, 3, 6, 7, 8, df_copy['rating'].max()]\n",
    "labels = ['VeryLowRating', 'LowRating', 'MediumRating', 'HighRating', \"VeryHighRating\"]\n",
    "df_copy['rating_bin'] = pd.cut(df_copy['rating'], bins=bins, labels=labels)\n",
    "\n",
    "print(df_copy['rating_bin'].value_counts())\n",
    "print(df_copy.groupby('rating_bin')['rating'].describe())"
   ]
  },
  {
   "cell_type": "markdown",
   "id": "ad7cfcac",
   "metadata": {},
   "source": [
    "##### numVotes   >>> max è sgravato"
   ]
  },
  {
   "cell_type": "code",
   "execution_count": 285,
   "id": "23c1a18c",
   "metadata": {},
   "outputs": [],
   "source": [
    "# df_copy[\"log_numVotes\"] = np.log1p(df[\"numVotes\"])"
   ]
  },
  {
   "cell_type": "code",
   "execution_count": 286,
   "id": "85b5da11",
   "metadata": {},
   "outputs": [],
   "source": [
    "# #NUMVOTES LOG-TRANSFORMED\n",
    "# bins = [-np.inf, 2.7, 3.9, 5.0, 8.0, np.inf]\n",
    "# labels = ['VeryLowVotes', 'LowVotes', 'MediumVotes', 'HighVotes', 'VeryHighVotes']\n",
    "\n",
    "# # Applicazione\n",
    "# df_copy['log_numvotes_bin'] = pd.cut(\n",
    "#     df_copy['log_numVotes'],\n",
    "#     bins=bins,\n",
    "#     labels=labels\n",
    "# )\n",
    "\n",
    "# print(df_copy.groupby('log_numvotes_bin')['numVotes'].describe())"
   ]
  },
  {
   "cell_type": "code",
   "execution_count": 287,
   "id": "1eef9d03",
   "metadata": {},
   "outputs": [
    {
     "name": "stdout",
     "output_type": "stream",
     "text": [
      "                count          mean           std     min     25%     50%  \\\n",
      "numVotes_bin                                                                \n",
      "VeryLowVotes   4049.0      9.990121      2.890868     5.0     8.0    10.0   \n",
      "LowVotes       4477.0     28.241233      9.580983    16.0    20.0    26.0   \n",
      "MediumVotes    2736.0     90.189693     27.724992    51.0    66.0    85.0   \n",
      "HighVotes      2618.0    394.624905    221.316024   151.0   214.0   327.0   \n",
      "VeryHighVotes  1075.0  14603.161860  54851.447378  1001.0  1511.5  2622.0   \n",
      "\n",
      "                   75%       max  \n",
      "numVotes_bin                      \n",
      "VeryLowVotes     12.00      15.0  \n",
      "LowVotes         35.00      50.0  \n",
      "MediumVotes     111.00     150.0  \n",
      "HighVotes       521.75     997.0  \n",
      "VeryHighVotes  5629.00  803146.0  \n"
     ]
    }
   ],
   "source": [
    "#NUMVOTES NON LOG-TRANSFORMED\n",
    "labels = ['VeryLowVotes', 'LowVotes', 'MediumVotes', 'HighVotes', 'VeryHighVotes']\n",
    "bins = [4, 15, 50, 150, 1000, float('inf')]  # include il min=5 e max=1.071.372\n",
    "\n",
    "df_copy['numVotes_bin'] = pd.cut(df['numVotes'], bins=bins, labels=labels, include_lowest=True)\n",
    "print(df_copy.groupby('numVotes_bin')['numVotes'].describe())"
   ]
  },
  {
   "cell_type": "markdown",
   "id": "acb00d92",
   "metadata": {},
   "source": [
    "##### StartYear"
   ]
  },
  {
   "cell_type": "code",
   "execution_count": 288,
   "id": "6cd220b5",
   "metadata": {},
   "outputs": [
    {
     "name": "stdout",
     "output_type": "stream",
     "text": [
      "                count         mean        std     min     25%     50%     75%  \\\n",
      "startYear_bin                                                                   \n",
      "pre-1930        459.0  1913.736383  11.594787  1891.0  1904.0  1913.0  1925.0   \n",
      "1930-1954       951.0  1944.112513   7.463382  1931.0  1938.0  1944.0  1951.0   \n",
      "1955-1979      2762.0  1969.340333   6.908679  1956.0  1964.0  1970.0  1975.0   \n",
      "1980-1999      4047.0  1991.322708   5.401675  1981.0  1987.0  1992.0  1996.0   \n",
      "2000-2019      3775.0  2008.991523   4.115185  2001.0  2006.0  2009.0  2012.0   \n",
      "post-2020      2960.0  2019.500338   2.379648  2016.0  2017.0  2019.0  2021.0   \n",
      "\n",
      "                  max  \n",
      "startYear_bin          \n",
      "pre-1930       1930.0  \n",
      "1930-1954      1955.0  \n",
      "1955-1979      1980.0  \n",
      "1980-1999      1999.0  \n",
      "2000-2019      2015.0  \n",
      "post-2020      2024.0  \n"
     ]
    }
   ],
   "source": [
    "#STARTYEAR\n",
    "bins =[\n",
    "    1878,  # Cinema delle origini e muto\n",
    "    1930,  # Cinema sonoro classico e radio\n",
    "    1955,  # TV B/N e colore, cinema widescreen\n",
    "    1980,  # Video domestico e media transazionali\n",
    "    2000,  # DVD, internet e mobile\n",
    "    2015,  # Streaming integrato e nuovi media\n",
    "    df_copy['startYear'].max()] #era corrente\n",
    "labels = ['pre-1930', '1930-1954', '1955-1979', '1980-1999', '2000-2019', 'post-2020']\n",
    "df_copy['startYear_bin'] = pd.cut(df_copy['startYear'], bins=bins, labels=labels)\n",
    "\n",
    "print(df_copy.groupby('startYear_bin')['startYear'].describe())"
   ]
  },
  {
   "cell_type": "markdown",
   "id": "7171b585",
   "metadata": {},
   "source": [
    "##### totalCredits"
   ]
  },
  {
   "cell_type": "code",
   "execution_count": 289,
   "id": "0335fa18",
   "metadata": {},
   "outputs": [],
   "source": [
    "# df_copy[\"log_totalCredits\"] = np.log1p(df[\"totalCredits\"])"
   ]
  },
  {
   "cell_type": "code",
   "execution_count": 290,
   "id": "2a648f87",
   "metadata": {},
   "outputs": [],
   "source": [
    "# #TOTALCREDITS LOG-TRANSFORMED\n",
    "# bins = [-np.inf, 2.0, 3.0, 4.2, 6.0, np.inf]\n",
    "# labels = ['VeryLowCredits', 'LowCredits', 'MediumCredits', 'HighCredits', 'VeryHighCredits']\n",
    "\n",
    "# df_copy['log_totalCredits_bin'] = pd.cut(df_copy['log_totalCredits'], bins=bins, labels=labels)"
   ]
  },
  {
   "cell_type": "code",
   "execution_count": 291,
   "id": "d922877a",
   "metadata": {},
   "outputs": [],
   "source": [
    "# print(df_copy.groupby('log_totalCredits_bin')['totalCredits'].describe())"
   ]
  },
  {
   "cell_type": "code",
   "execution_count": 292,
   "id": "f2ddb706",
   "metadata": {},
   "outputs": [],
   "source": [
    "#TOTALCREDITS NON LOG-TRANSFORMED\n",
    "# labels = ['VeryLowCredits', 'LowCredits', 'MediumCredits', 'HighCredits', 'VeryHighCredits']\n",
    "# bins = [-1, 15, 35, 65, 200, float('inf')]\n",
    "\n",
    "labels = ['VeryLowCredits', 'LowCredits', 'MediumCredits', 'HighCredits']\n",
    "bins = [-1, 15, 35, 65, float('inf')]\n",
    "\n",
    "df_copy['totalCredits_bin'] = pd.cut(df['totalCredits'], bins=bins, labels=labels, include_lowest=True)"
   ]
  },
  {
   "cell_type": "code",
   "execution_count": 293,
   "id": "26b87880",
   "metadata": {},
   "outputs": [
    {
     "name": "stdout",
     "output_type": "stream",
     "text": [
      "                   count        mean         std   min   25%    50%    75%  \\\n",
      "totalCredits_bin                                                             \n",
      "VeryLowCredits    3497.0    8.180440    4.345661   0.0   5.0    8.0   12.0   \n",
      "LowCredits        4031.0   24.828330    5.718656  16.0  20.0   25.0   30.0   \n",
      "MediumCredits     3659.0   48.495491    8.396748  36.0  41.0   48.0   55.0   \n",
      "HighCredits       3768.0  163.411624  326.609445  66.0  81.0  108.0  165.0   \n",
      "\n",
      "                      max  \n",
      "totalCredits_bin           \n",
      "VeryLowCredits       15.0  \n",
      "LowCredits           35.0  \n",
      "MediumCredits        65.0  \n",
      "HighCredits       15742.0  \n"
     ]
    }
   ],
   "source": [
    "print(df_copy.groupby('totalCredits_bin')['totalCredits'].describe())"
   ]
  },
  {
   "cell_type": "markdown",
   "id": "d763024d",
   "metadata": {},
   "source": [
    "##### criticReviewsTotal"
   ]
  },
  {
   "cell_type": "code",
   "execution_count": 294,
   "id": "a236ddc9",
   "metadata": {},
   "outputs": [],
   "source": [
    "# df_copy[\"log_criticReviewsTotal\"] = np.log1p(df[\"criticReviewsTotal\"])"
   ]
  },
  {
   "cell_type": "code",
   "execution_count": 295,
   "id": "63c52e95",
   "metadata": {},
   "outputs": [],
   "source": [
    "# #CRITICREVIEWS LOG-TRANSFORMED\n",
    "# bins = [-0.01, 0.0, 1.4, 2.3, 3.4, 4.6, np.inf]\n",
    "# labels = [\n",
    "#     'NoCriticReviews',\n",
    "#     'FewCriticReviews',\n",
    "#     'ModerateCriticReviews',\n",
    "#     'ManyCriticReviews',\n",
    "#     'VeryHighCriticReviews',\n",
    "#     'ExtensiveCriticReviews'\n",
    "# ]\n",
    "\n",
    "# df_copy['log_criticReviewsTotal_bin'] = pd.cut(\n",
    "#     df_copy['log_criticReviewsTotal'],\n",
    "#     bins=bins,\n",
    "#     labels=labels\n",
    "# )"
   ]
  },
  {
   "cell_type": "code",
   "execution_count": 296,
   "id": "af978484",
   "metadata": {},
   "outputs": [],
   "source": [
    "# print(df_copy.groupby('log_criticReviewsTotal_bin')['criticReviewsTotal'].describe())"
   ]
  },
  {
   "cell_type": "code",
   "execution_count": 297,
   "id": "4f1725d0",
   "metadata": {},
   "outputs": [
    {
     "name": "stdout",
     "output_type": "stream",
     "text": [
      "                          count       mean        std   min   25%   50%  \\\n",
      "criticReviewsTotal_bin                                                    \n",
      "NoCriticReviews         10435.0   0.000000   0.000000   0.0   0.0   0.0   \n",
      "FewCriticReviews         1730.0   1.000000   0.000000   1.0   1.0   1.0   \n",
      "ModerateCriticReviews    1560.0   2.983333   1.070799   2.0   2.0   3.0   \n",
      "ManyCriticReviews         841.0  10.172414   3.863135   6.0   7.0   9.0   \n",
      "VeryHighCriticReviews     213.0  29.582160   6.739006  21.0  24.0  28.0   \n",
      "ExtensiveCriticReviews    176.0  97.215909  63.665097  46.0  56.0  75.0   \n",
      "\n",
      "                          75%    max  \n",
      "criticReviewsTotal_bin                \n",
      "NoCriticReviews           0.0    0.0  \n",
      "FewCriticReviews          1.0    1.0  \n",
      "ModerateCriticReviews     4.0    5.0  \n",
      "ManyCriticReviews        13.0   20.0  \n",
      "VeryHighCriticReviews    35.0   45.0  \n",
      "ExtensiveCriticReviews  108.5  439.0  \n"
     ]
    }
   ],
   "source": [
    "#CRITICREVIEWS NON LOG-TRANSFORMED\n",
    "labels = [\n",
    "    'NoCriticReviews',\n",
    "    'FewCriticReviews',\n",
    "    'ModerateCriticReviews',\n",
    "    'ManyCriticReviews',\n",
    "    'VeryHighCriticReviews',\n",
    "    'ExtensiveCriticReviews'\n",
    "]\n",
    "bins = [-1, 0, 1, 5, 20, 45, float('inf')]\n",
    "\n",
    "df_copy['criticReviewsTotal_bin'] = pd.cut(df['criticReviewsTotal'], bins=bins, labels=labels, include_lowest=True)\n",
    "print(df_copy.groupby('criticReviewsTotal_bin')['criticReviewsTotal'].describe())"
   ]
  },
  {
   "cell_type": "markdown",
   "id": "52fbb1cf",
   "metadata": {},
   "source": [
    "##### numRegions"
   ]
  },
  {
   "cell_type": "code",
   "execution_count": 298,
   "id": "80325e95",
   "metadata": {},
   "outputs": [],
   "source": [
    "# df_copy[\"log_numRegions\"] = np.log1p(df[\"numRegions\"])"
   ]
  },
  {
   "cell_type": "code",
   "execution_count": 299,
   "id": "69c6699e",
   "metadata": {},
   "outputs": [],
   "source": [
    "# #NUMREGIONS LOG-TRANSFORMED\n",
    "# bins = [-np.inf, 1.2, 2.0, 3.2, np.inf]\n",
    "# labels = ['VeryFewRegions', 'ModerateRegions', 'ManyRegions', 'GlobalRegions']\n",
    "\n",
    "# # Applicazione\n",
    "# df_copy['log_numRegions_bin'] = pd.cut(\n",
    "#     df_copy['log_numRegions'],\n",
    "#     bins=bins,\n",
    "#     labels=labels\n",
    "# )"
   ]
  },
  {
   "cell_type": "code",
   "execution_count": 300,
   "id": "9283a408",
   "metadata": {},
   "outputs": [],
   "source": [
    "# print(df_copy.groupby('log_numRegions_bin')['numRegions'].describe())"
   ]
  },
  {
   "cell_type": "code",
   "execution_count": 301,
   "id": "074d6c2f",
   "metadata": {},
   "outputs": [
    {
     "name": "stdout",
     "output_type": "stream",
     "text": [
      "                  count       mean       std  min   25%   50%   75%   max\n",
      "numRegions_bin                                                           \n",
      "FewRegions       8829.0   1.000000  0.000000  1.0   1.0   1.0   1.0   1.0\n",
      "ModerateRegions  4748.0   3.974726  1.978554  2.0   2.0   3.0   6.0   8.0\n",
      "ManyRegions      1378.0  17.775036  9.186373  9.0  11.0  15.0  22.0  62.0\n"
     ]
    }
   ],
   "source": [
    "#NUMREGIONS NON LOG-TRANSFORMED\n",
    "labels = ['FewRegions', 'ModerateRegions', 'ManyRegions']\n",
    "bins = [0, 1, 8, float('inf')]\n",
    "\n",
    "df_copy['numRegions_bin'] = pd.cut(df['numRegions'], bins=bins, labels=labels, include_lowest=True)\n",
    "print(df_copy.groupby('numRegions_bin')['numRegions'].describe())\n"
   ]
  },
  {
   "cell_type": "markdown",
   "id": "2c04a4d8",
   "metadata": {},
   "source": [
    "##### userReviewsTotal"
   ]
  },
  {
   "cell_type": "code",
   "execution_count": 302,
   "id": "9adc0297",
   "metadata": {},
   "outputs": [],
   "source": [
    "# df_copy[\"log_userReviewsTotal\"] = np.log1p(df[\"userReviewsTotal\"])"
   ]
  },
  {
   "cell_type": "code",
   "execution_count": 303,
   "id": "93fd2435",
   "metadata": {},
   "outputs": [],
   "source": [
    "# #USERREVIEWSTOTAL LOG-TRANSFORMED\n",
    "# bins = [-0.01, 0.0, 2.8, 5.0, np.inf]\n",
    "# labels = ['NoUserReviews', 'FewUserReviews', 'ManyUserReviews', 'VeryManyUserReviews']\n",
    "\n",
    "# # Applicazione\n",
    "# df_copy['log_userReviewsTotal_bin'] = pd.cut(\n",
    "#     df_copy['log_userReviewsTotal'],\n",
    "#     bins=bins,\n",
    "#     labels=labels)"
   ]
  },
  {
   "cell_type": "code",
   "execution_count": 304,
   "id": "ec5badb6",
   "metadata": {},
   "outputs": [],
   "source": [
    "# print(df_copy.groupby('log_userReviewsTotal_bin')['userReviewsTotal'].describe())"
   ]
  },
  {
   "cell_type": "code",
   "execution_count": 305,
   "id": "66ee3e54",
   "metadata": {},
   "outputs": [],
   "source": [
    "#USERREVIEWSTOTAL NON LOG-TRANSFORMED\n",
    "labels = ['NoUserReviews', 'FewUserReviews', 'ManyUserReviews', 'VeryManyUserReviews']\n",
    "bins = [-1, 0, 3, 30, float('inf')]\n",
    "\n",
    "df_copy['userReviewsTotal_bin'] = pd.cut(df['userReviewsTotal'], bins=bins, labels=labels, include_lowest=True)"
   ]
  },
  {
   "cell_type": "code",
   "execution_count": 306,
   "id": "31dec078",
   "metadata": {},
   "outputs": [
    {
     "name": "stdout",
     "output_type": "stream",
     "text": [
      "                       count        mean         std   min    25%   50%  \\\n",
      "userReviewsTotal_bin                                                      \n",
      "NoUserReviews         8454.0    0.000000    0.000000   0.0   0.00   0.0   \n",
      "FewUserReviews        3875.0    1.566452    0.739343   1.0   1.00   1.0   \n",
      "ManyUserReviews       2162.0   10.129972    6.613494   4.0   5.00   8.0   \n",
      "VeryManyUserReviews    464.0  145.540948  324.193737  31.0  41.75  63.0   \n",
      "\n",
      "                         75%     max  \n",
      "userReviewsTotal_bin                  \n",
      "NoUserReviews           0.00     0.0  \n",
      "FewUserReviews          2.00     3.0  \n",
      "ManyUserReviews        13.00    30.0  \n",
      "VeryManyUserReviews   129.25  5727.0  \n"
     ]
    }
   ],
   "source": [
    "print(df_copy.groupby('userReviewsTotal_bin')['userReviewsTotal'].describe())"
   ]
  },
  {
   "cell_type": "markdown",
   "id": "f2ad8c29",
   "metadata": {},
   "source": [
    "##### countryOfOrigin_freqenc"
   ]
  },
  {
   "cell_type": "code",
   "execution_count": 307,
   "id": "6f835407",
   "metadata": {},
   "outputs": [
    {
     "data": {
      "text/plain": [
       "count    14955.000000\n",
       "mean         0.196614\n",
       "std          0.182731\n",
       "min          0.000056\n",
       "25%          0.018089\n",
       "50%          0.098792\n",
       "75%          0.397061\n",
       "max          0.658429\n",
       "Name: countryOfOrigin_freq_enc, dtype: float64"
      ]
     },
     "execution_count": 307,
     "metadata": {},
     "output_type": "execute_result"
    }
   ],
   "source": [
    "df_copy[\"countryOfOrigin_freq_enc\"].describe()"
   ]
  },
  {
   "cell_type": "code",
   "execution_count": 308,
   "id": "cf6cbbe6",
   "metadata": {},
   "outputs": [],
   "source": [
    "bins = [-0.01, 0.03, 0.3, 1.0]\n",
    "labels = ['LowFreqCountries', 'MediumFreqCountries', 'HighFreqCountries']\n",
    "\n",
    "df_copy[\"country_freq_bin\"] = pd.cut(\n",
    "    df_copy[\"countryOfOrigin_freq_enc\"],\n",
    "    bins=bins,\n",
    "    labels=labels\n",
    ")"
   ]
  },
  {
   "cell_type": "code",
   "execution_count": 309,
   "id": "3ae6192d",
   "metadata": {},
   "outputs": [
    {
     "name": "stdout",
     "output_type": "stream",
     "text": [
      "                      count      mean       std       min       25%       50%  \\\n",
      "country_freq_bin                                                                \n",
      "LowFreqCountries     4559.0  0.011128  0.007641  0.000056  0.005510  0.009406   \n",
      "MediumFreqCountries  3816.0  0.067012  0.029802  0.030556  0.045973  0.047086   \n",
      "HighFreqCountries    6580.0  0.400291  0.016326  0.397061  0.397061  0.397061   \n",
      "\n",
      "                          75%       max  \n",
      "country_freq_bin                         \n",
      "LowFreqCountries     0.017532  0.029888  \n",
      "MediumFreqCountries  0.098792  0.204931  \n",
      "HighFreqCountries    0.397061  0.658429  \n"
     ]
    }
   ],
   "source": [
    "print(df_copy.groupby('country_freq_bin')['countryOfOrigin_freq_enc'].describe())"
   ]
  },
  {
   "cell_type": "markdown",
   "id": "2ea49eee",
   "metadata": {},
   "source": [
    "### Handling of categorical attributes"
   ]
  },
  {
   "cell_type": "markdown",
   "id": "faf86f48",
   "metadata": {},
   "source": [
    "##### countryOfOrigin"
   ]
  },
  {
   "cell_type": "code",
   "execution_count": 310,
   "id": "5799fa78",
   "metadata": {},
   "outputs": [],
   "source": [
    "# # BINARIZZAZIONE -  ONE HOT ENCODING \n",
    "# df_copy['from_Europe_bin'] = (df_copy['countryOfOrigin_EU'] > 0).astype(int)\n",
    "# df_copy['from_NorthAmerica_bin'] = (df_copy['countryOfOrigin_NA'] > 0).astype(int)\n",
    "# df_copy['from_SouthAmerica_bin'] = (df_copy['countryOfOrigin_SA'] > 0).astype(int)\n",
    "# df_copy['from_Asia_bin'] = (df_copy['countryOfOrigin_SA'] > 0).astype(int)\n",
    "# df_copy['from_Oceania_bin'] = (df_copy['countryOfOrigin_OC'] > 0).astype(int)\n",
    "# df_copy['from_Africa_bin'] = (df_copy['countryOfOrigin_AF'] > 0).astype(int)\n",
    "# df_copy['from_Unknown_bin'] = (df_copy['countryOfOrigin_UNK'] > 0).astype(int)\n"
   ]
  },
  {
   "cell_type": "code",
   "execution_count": 311,
   "id": "ce207c84",
   "metadata": {},
   "outputs": [],
   "source": [
    "# BINARIZZAZIONE \n",
    "def discretize_continent_count(df, col_name, cont):\n",
    "    new_col = f'{cont }_bin'\n",
    "    \n",
    "    def label(value):\n",
    "        if value == 0:\n",
    "            return f'not_{cont}'\n",
    "       # elif value == 1:\n",
    "        #    return f'one_{cont}'\n",
    "        else:\n",
    "            return f'is_{cont}'\n",
    "    \n",
    "    df[new_col] = df[col_name].apply(label)\n",
    "\n",
    "# applico funzione\n",
    "discretize_continent_count(df_copy, \"countryOfOrigin_NA\", \"from_NorthAmerica\")\n",
    "discretize_continent_count(df_copy, \"countryOfOrigin_EU\", \"from_Europe\")\n",
    "discretize_continent_count(df_copy, \"countryOfOrigin_SA\", \"from_SouthAmerica\")\n",
    "discretize_continent_count(df_copy, \"countryOfOrigin_AS\", \"from_Asia\")\n",
    "discretize_continent_count(df_copy, \"countryOfOrigin_OC\", \"from_Oceania\")\n",
    "discretize_continent_count(df_copy, \"countryOfOrigin_AF\", \"from_Africa\")\n",
    "discretize_continent_count(df_copy, \"countryOfOrigin_UNK\", \"from_Unknown\")"
   ]
  },
  {
   "cell_type": "markdown",
   "id": "a864a003",
   "metadata": {},
   "source": [
    "#### generi"
   ]
  },
  {
   "cell_type": "code",
   "execution_count": 312,
   "id": "2bff60b7",
   "metadata": {},
   "outputs": [],
   "source": [
    "# BINARIZZAZIONE \n",
    "def genre_column(df, col_name, genre):\n",
    "    new_col = f'{genre}_bin'\n",
    "    \n",
    "    def label(value):\n",
    "        if value == 0:\n",
    "            return f'not_{genre}_genre'\n",
    "       # elif value == 1:\n",
    "        #    return f'one_{genre}'\n",
    "        else:\n",
    "            return f'is_{genre}_genre'\n",
    "    \n",
    "    df[new_col] = df[col_name].apply(label)\n",
    "\n",
    "# applico funzione\n",
    "genre_column(df_copy, \"is_Documentary\", \"documentary\")\n",
    "genre_column(df_copy, \"is_History\", \"history\")\n",
    "genre_column(df_copy, \"is_Adventure\", \"adventure\")\n",
    "genre_column(df_copy, \"is_Thriller\", \"thriller\")\n",
    "genre_column(df_copy, \"is_Game-Show\", \"game-show\")\n",
    "genre_column(df_copy, \"is_Comedy\", \"comedy\")\n",
    "genre_column(df_copy, \"is_Sci-Fi\", \"sci-fi\")\n",
    "genre_column(df_copy, \"is_Romance\", \"romance\")\n",
    "genre_column(df_copy, \"is_Biography\", \"biography\")\n",
    "genre_column(df_copy, \"is_Musical\", \"musical\")\n",
    "genre_column(df_copy, \"is_Western\", \"western\")\n",
    "genre_column(df_copy, \"is_Music\", \"music\")\n",
    "genre_column(df_copy, \"is_Film-Noir\", \"film-noir\")\n",
    "genre_column(df_copy, \"is_Adult\", \"adult\")\n",
    "genre_column(df_copy, \"is_Reality-TV\", \"reality-tv\")\n",
    "genre_column(df_copy, \"is_News\", \"news\")\n",
    "genre_column(df_copy, \"is_Action\", \"action\")\n",
    "genre_column(df_copy, \"is_Crime\", \"crime\")\n",
    "genre_column(df_copy, \"is_Short\", \"short\")\n",
    "genre_column(df_copy, \"is_Fantasy\", \"fantasy\")\n",
    "genre_column(df_copy, \"is_Family\", \"family\")\n",
    "genre_column(df_copy, \"is_Mystery\", \"mystery\")\n",
    "genre_column(df_copy, \"is_Talk-Show\", \"talk-show\")\n",
    "genre_column(df_copy, \"is_Drama\", \"drama\")\n",
    "genre_column(df_copy, \"is_Sport\", \"sport\")\n",
    "genre_column(df_copy, \"is_War\", \"war\")\n",
    "genre_column(df_copy, \"is_Horror\", \"horror\")\n",
    "genre_column(df_copy, \"is_Animation\", \"animation\")\n"
   ]
  },
  {
   "cell_type": "code",
   "execution_count": 313,
   "id": "44735b7a",
   "metadata": {},
   "outputs": [
    {
     "data": {
      "text/html": [
       "<div>\n",
       "<style scoped>\n",
       "    .dataframe tbody tr th:only-of-type {\n",
       "        vertical-align: middle;\n",
       "    }\n",
       "\n",
       "    .dataframe tbody tr th {\n",
       "        vertical-align: top;\n",
       "    }\n",
       "\n",
       "    .dataframe thead th {\n",
       "        text-align: right;\n",
       "    }\n",
       "</style>\n",
       "<table border=\"1\" class=\"dataframe\">\n",
       "  <thead>\n",
       "    <tr style=\"text-align: right;\">\n",
       "      <th></th>\n",
       "      <th>originalTitle</th>\n",
       "      <th>rating</th>\n",
       "      <th>startYear</th>\n",
       "      <th>endYear</th>\n",
       "      <th>runtimeMinutes</th>\n",
       "      <th>awardWins</th>\n",
       "      <th>numVotes</th>\n",
       "      <th>totalImages</th>\n",
       "      <th>totalVideos</th>\n",
       "      <th>totalCredits</th>\n",
       "      <th>...</th>\n",
       "      <th>short_bin</th>\n",
       "      <th>fantasy_bin</th>\n",
       "      <th>family_bin</th>\n",
       "      <th>mystery_bin</th>\n",
       "      <th>talk-show_bin</th>\n",
       "      <th>drama_bin</th>\n",
       "      <th>sport_bin</th>\n",
       "      <th>war_bin</th>\n",
       "      <th>horror_bin</th>\n",
       "      <th>animation_bin</th>\n",
       "    </tr>\n",
       "  </thead>\n",
       "  <tbody>\n",
       "    <tr>\n",
       "      <th>0</th>\n",
       "      <td>Neogenic Nightmare Chapter 3: Hydro-Man</td>\n",
       "      <td>8</td>\n",
       "      <td>1995</td>\n",
       "      <td>1995.0</td>\n",
       "      <td>NaN</td>\n",
       "      <td>0.0</td>\n",
       "      <td>779</td>\n",
       "      <td>1</td>\n",
       "      <td>0</td>\n",
       "      <td>21</td>\n",
       "      <td>...</td>\n",
       "      <td>not_short_genre</td>\n",
       "      <td>not_fantasy_genre</td>\n",
       "      <td>not_family_genre</td>\n",
       "      <td>not_mystery_genre</td>\n",
       "      <td>not_talk-show_genre</td>\n",
       "      <td>not_drama_genre</td>\n",
       "      <td>not_sport_genre</td>\n",
       "      <td>not_war_genre</td>\n",
       "      <td>not_horror_genre</td>\n",
       "      <td>is_animation_genre</td>\n",
       "    </tr>\n",
       "    <tr>\n",
       "      <th>1</th>\n",
       "      <td>Idealnaya para</td>\n",
       "      <td>6</td>\n",
       "      <td>1992</td>\n",
       "      <td>1992.0</td>\n",
       "      <td>NaN</td>\n",
       "      <td>0.0</td>\n",
       "      <td>38</td>\n",
       "      <td>1</td>\n",
       "      <td>0</td>\n",
       "      <td>24</td>\n",
       "      <td>...</td>\n",
       "      <td>not_short_genre</td>\n",
       "      <td>not_fantasy_genre</td>\n",
       "      <td>not_family_genre</td>\n",
       "      <td>not_mystery_genre</td>\n",
       "      <td>not_talk-show_genre</td>\n",
       "      <td>not_drama_genre</td>\n",
       "      <td>not_sport_genre</td>\n",
       "      <td>not_war_genre</td>\n",
       "      <td>not_horror_genre</td>\n",
       "      <td>not_animation_genre</td>\n",
       "    </tr>\n",
       "    <tr>\n",
       "      <th>2</th>\n",
       "      <td>MasterChef Celebrity México</td>\n",
       "      <td>6</td>\n",
       "      <td>2021</td>\n",
       "      <td>NaN</td>\n",
       "      <td>NaN</td>\n",
       "      <td>0.0</td>\n",
       "      <td>15</td>\n",
       "      <td>22</td>\n",
       "      <td>0</td>\n",
       "      <td>56</td>\n",
       "      <td>...</td>\n",
       "      <td>not_short_genre</td>\n",
       "      <td>not_fantasy_genre</td>\n",
       "      <td>not_family_genre</td>\n",
       "      <td>not_mystery_genre</td>\n",
       "      <td>not_talk-show_genre</td>\n",
       "      <td>not_drama_genre</td>\n",
       "      <td>not_sport_genre</td>\n",
       "      <td>not_war_genre</td>\n",
       "      <td>not_horror_genre</td>\n",
       "      <td>not_animation_genre</td>\n",
       "    </tr>\n",
       "    <tr>\n",
       "      <th>4</th>\n",
       "      <td>Lightdance</td>\n",
       "      <td>9</td>\n",
       "      <td>1995</td>\n",
       "      <td>1995.0</td>\n",
       "      <td>34.0</td>\n",
       "      <td>0.0</td>\n",
       "      <td>14</td>\n",
       "      <td>1</td>\n",
       "      <td>0</td>\n",
       "      <td>0</td>\n",
       "      <td>...</td>\n",
       "      <td>is_short_genre</td>\n",
       "      <td>not_fantasy_genre</td>\n",
       "      <td>not_family_genre</td>\n",
       "      <td>not_mystery_genre</td>\n",
       "      <td>not_talk-show_genre</td>\n",
       "      <td>not_drama_genre</td>\n",
       "      <td>not_sport_genre</td>\n",
       "      <td>not_war_genre</td>\n",
       "      <td>not_horror_genre</td>\n",
       "      <td>not_animation_genre</td>\n",
       "    </tr>\n",
       "    <tr>\n",
       "      <th>5</th>\n",
       "      <td>Kiss, Kiss Bang, Bang</td>\n",
       "      <td>8</td>\n",
       "      <td>1995</td>\n",
       "      <td>1995.0</td>\n",
       "      <td>45.0</td>\n",
       "      <td>0.0</td>\n",
       "      <td>96</td>\n",
       "      <td>5</td>\n",
       "      <td>0</td>\n",
       "      <td>110</td>\n",
       "      <td>...</td>\n",
       "      <td>not_short_genre</td>\n",
       "      <td>not_fantasy_genre</td>\n",
       "      <td>not_family_genre</td>\n",
       "      <td>not_mystery_genre</td>\n",
       "      <td>not_talk-show_genre</td>\n",
       "      <td>is_drama_genre</td>\n",
       "      <td>not_sport_genre</td>\n",
       "      <td>not_war_genre</td>\n",
       "      <td>not_horror_genre</td>\n",
       "      <td>not_animation_genre</td>\n",
       "    </tr>\n",
       "  </tbody>\n",
       "</table>\n",
       "<p>5 rows × 111 columns</p>\n",
       "</div>"
      ],
      "text/plain": [
       "                             originalTitle  rating  startYear  endYear  \\\n",
       "0  Neogenic Nightmare Chapter 3: Hydro-Man       8       1995   1995.0   \n",
       "1                           Idealnaya para       6       1992   1992.0   \n",
       "2              MasterChef Celebrity México       6       2021      NaN   \n",
       "4                               Lightdance       9       1995   1995.0   \n",
       "5                    Kiss, Kiss Bang, Bang       8       1995   1995.0   \n",
       "\n",
       "   runtimeMinutes  awardWins  numVotes  totalImages  totalVideos  \\\n",
       "0             NaN        0.0       779            1            0   \n",
       "1             NaN        0.0        38            1            0   \n",
       "2             NaN        0.0        15           22            0   \n",
       "4            34.0        0.0        14            1            0   \n",
       "5            45.0        0.0        96            5            0   \n",
       "\n",
       "   totalCredits  ...        short_bin        fantasy_bin        family_bin  \\\n",
       "0            21  ...  not_short_genre  not_fantasy_genre  not_family_genre   \n",
       "1            24  ...  not_short_genre  not_fantasy_genre  not_family_genre   \n",
       "2            56  ...  not_short_genre  not_fantasy_genre  not_family_genre   \n",
       "4             0  ...   is_short_genre  not_fantasy_genre  not_family_genre   \n",
       "5           110  ...  not_short_genre  not_fantasy_genre  not_family_genre   \n",
       "\n",
       "         mystery_bin        talk-show_bin        drama_bin        sport_bin  \\\n",
       "0  not_mystery_genre  not_talk-show_genre  not_drama_genre  not_sport_genre   \n",
       "1  not_mystery_genre  not_talk-show_genre  not_drama_genre  not_sport_genre   \n",
       "2  not_mystery_genre  not_talk-show_genre  not_drama_genre  not_sport_genre   \n",
       "4  not_mystery_genre  not_talk-show_genre  not_drama_genre  not_sport_genre   \n",
       "5  not_mystery_genre  not_talk-show_genre   is_drama_genre  not_sport_genre   \n",
       "\n",
       "         war_bin        horror_bin        animation_bin  \n",
       "0  not_war_genre  not_horror_genre   is_animation_genre  \n",
       "1  not_war_genre  not_horror_genre  not_animation_genre  \n",
       "2  not_war_genre  not_horror_genre  not_animation_genre  \n",
       "4  not_war_genre  not_horror_genre  not_animation_genre  \n",
       "5  not_war_genre  not_horror_genre  not_animation_genre  \n",
       "\n",
       "[5 rows x 111 columns]"
      ]
     },
     "execution_count": 313,
     "metadata": {},
     "output_type": "execute_result"
    }
   ],
   "source": [
    "df_copy.head()"
   ]
  },
  {
   "cell_type": "markdown",
   "id": "ba5d8aeb",
   "metadata": {},
   "source": [
    "## Pattern Mining"
   ]
  },
  {
   "cell_type": "markdown",
   "id": "a2f3276b",
   "metadata": {},
   "source": [
    "### Transactions Creation"
   ]
  },
  {
   "cell_type": "code",
   "execution_count": 314,
   "id": "96e1bdd6",
   "metadata": {},
   "outputs": [
    {
     "data": {
      "text/plain": [
       "Index(['from_Oceania_bin', 'from_Africa_bin', 'from_Unknown_bin',\n",
       "       'documentary_bin', 'history_bin', 'adventure_bin', 'thriller_bin',\n",
       "       'game-show_bin', 'comedy_bin', 'sci-fi_bin', 'romance_bin',\n",
       "       'biography_bin', 'musical_bin', 'western_bin', 'music_bin',\n",
       "       'film-noir_bin', 'adult_bin', 'reality-tv_bin', 'news_bin',\n",
       "       'action_bin', 'crime_bin', 'short_bin', 'fantasy_bin', 'family_bin',\n",
       "       'mystery_bin', 'talk-show_bin', 'drama_bin', 'sport_bin', 'war_bin',\n",
       "       'horror_bin', 'animation_bin'],\n",
       "      dtype='object')"
      ]
     },
     "execution_count": 314,
     "metadata": {},
     "output_type": "execute_result"
    }
   ],
   "source": [
    "df_copy.columns[80:111]"
   ]
  },
  {
   "cell_type": "code",
   "execution_count": 315,
   "id": "fc1bbf48",
   "metadata": {},
   "outputs": [],
   "source": [
    "cols = [\n",
    "        \"rating_bin\", \n",
    "        \"runtime_bin\", \n",
    "        \"totalCredits_bin\", \n",
    "        \"titleType\",\n",
    "        'from_NorthAmerica_bin','from_Europe_bin' , 'from_SouthAmerica_bin', \n",
    "        'from_Asia_bin', 'from_Oceania_bin', 'from_Africa_bin', \n",
    "        'from_Unknown_bin'\n",
    "]\n",
    "\n",
    "\n",
    "# cols = [\n",
    "#         #\"canHaveEpisodes\", \n",
    "#         #\"totalNominations_bin\", \n",
    "#         #\"media_bin\",\n",
    "#         \"rating_bin\", # appena aggiunto\n",
    "#         \"runtime_bin\", \n",
    "#        ### \"numVotes_bin\", \n",
    "#         #\"startYear_bin\", # appena aggiunto\n",
    "#         \"totalCredits_bin\", \n",
    "#         #\"criticReviewsTotal_bin\",  # alza il support in generale ma ce n'è tante con NO quindi forse non va bene\n",
    "#         # \"country_freq_bin\",\n",
    "#         #\"numRegions_bin\",  # trova + regole per NA ma non so se senso\n",
    "#         ####\"userReviewsTotal_bin\", # appena tolta provaaaa\n",
    "#         \"titleType\",\n",
    "#         'from_NorthAmerica_bin',\n",
    "#         'from_Europe_bin' , \n",
    "#          'from_SouthAmerica_bin', 'from_Asia_bin', 'from_Oceania_bin', 'from_Africa_bin', \n",
    "#         'from_Unknown_bin'\n",
    "#   # GENERI\n",
    "#       #   'documentary_bin', 'history_bin', 'adventure_bin', 'thriller_bin', 'comedy_bin', 'sci-fi_bin', 'romance_bin', 'action_bin', 'crime_bin',  'fantasy_bin', 'reality-tv_bin' , 'horror_bin', 'animation_bin' 'biography_bin', 'musical_bin', 'western_bin', 'music_bin',\n",
    "#      #  'film-noir_bin', 'adult_bin', 'talk-show_bin', 'news_bin',\n",
    "#             #'game-show_bin', \n",
    "#        #'short_bin',\n",
    "#           # 'family_bin',\n",
    "#        #'mystery_bin',\n",
    "#         # 'drama_bin', 'sport_bin', 'war_bin',\n",
    "      \n",
    "# ]\n",
    "\n",
    "\n",
    "\n"
   ]
  },
  {
   "cell_type": "code",
   "execution_count": 316,
   "id": "87dc31d3",
   "metadata": {},
   "outputs": [
    {
     "name": "stdout",
     "output_type": "stream",
     "text": [
      "14955\n",
      "[['VeryLowRating', 'MediumRuntime', 'HighCredits', 'movie', 'is_from_NorthAmerica'], ['MediumRating', 'MediumRuntime', 'HighCredits', 'movie', 'is_from_Europe'], ['VeryHighRating', 'VeryLowRuntime', 'HighCredits', 'tvEpisode', 'is_from_NorthAmerica'], ['VeryHighRating', 'LowRuntime', 'LowCredits', 'tvEpisode', 'is_from_Asia'], ['MediumRating', 'VeryLowRuntime', 'VeryLowCredits', 'short', 'is_from_Europe']]\n"
     ]
    }
   ],
   "source": [
    "transactions = []\n",
    "\n",
    "for index, row in df_copy[cols].iterrows():\n",
    "    transaction = []\n",
    "    for col in cols:\n",
    "        value = str(row[col])\n",
    "        if not value.startswith('not_'):  # Ignora 'none_from_*'\n",
    "            transaction.append(value)\n",
    "    transactions.append(transaction)\n",
    "\n",
    "# Verifica risultato\n",
    "print(len(transactions))\n",
    "print(transactions[10:15])\n"
   ]
  },
  {
   "cell_type": "code",
   "execution_count": 317,
   "id": "cee7c7d2",
   "metadata": {},
   "outputs": [
    {
     "name": "stdout",
     "output_type": "stream",
     "text": [
      "   HighCredits  HighRating  HighRuntime  LowCredits  LowRating  LowRuntime  \\\n",
      "0        False        True        False        True      False       False   \n",
      "1        False       False         True        True       True       False   \n",
      "2        False       False        False       False       True       False   \n",
      "3        False       False        False       False      False        True   \n",
      "4         True        True        False       False      False        True   \n",
      "\n",
      "   MediumCredits  MediumRating  MediumRuntime  VeryHighRating  ...  \\\n",
      "0          False         False          False           False  ...   \n",
      "1          False         False          False           False  ...   \n",
      "2           True         False          False           False  ...   \n",
      "3          False         False          False            True  ...   \n",
      "4          False         False          False           False  ...   \n",
      "\n",
      "   is_from_SouthAmerica  is_from_Unknown  movie  short  tvEpisode  \\\n",
      "0                 False            False  False  False       True   \n",
      "1                 False            False   True  False      False   \n",
      "2                 False            False  False  False      False   \n",
      "3                 False            False  False  False      False   \n",
      "4                 False            False  False  False       True   \n",
      "\n",
      "   tvMiniSeries  tvMovie  tvSeries  tvSpecial  video  \n",
      "0         False    False     False      False  False  \n",
      "1         False    False     False      False  False  \n",
      "2         False    False      True      False  False  \n",
      "3         False    False     False      False   True  \n",
      "4         False    False     False      False  False  \n",
      "\n",
      "[5 rows x 28 columns]\n"
     ]
    }
   ],
   "source": [
    "# Let's utilize TransactionEncoder\n",
    "te = TransactionEncoder()\n",
    "te_array = te.fit(transactions).transform(transactions)\n",
    "df_apriori = pd.DataFrame(te_array, columns=te.columns_)\n",
    "\n",
    "# Visualizza le prime righe per assicurarti che la trasformazione sia corretta\n",
    "print(df_apriori.head())"
   ]
  },
  {
   "cell_type": "markdown",
   "id": "6a39fceb",
   "metadata": {},
   "source": []
  },
  {
   "cell_type": "markdown",
   "id": "8292a043",
   "metadata": {},
   "source": [
    "### Confronto itemset per support"
   ]
  },
  {
   "cell_type": "code",
   "execution_count": 339,
   "id": "a85a1e19",
   "metadata": {},
   "outputs": [
    {
     "data": {
      "image/png": "[encoded data removed]",
      "text/plain": [
       "<Figure size 1000x600 with 1 Axes>"
      ]
     },
     "metadata": {},
     "output_type": "display_data"
    }
   ],
   "source": [
    "# Genera una lista di min_sup da testare\n",
    "min_sups = [round(x, 2) for x in list(np.arange(0.01, 0.18, 0.01))]\n",
    "\n",
    "# Lista per salvare il numero di itemset per ciascun supporto\n",
    "num_itemsets = []\n",
    "\n",
    "# Calcolo degli itemset frequenti per ogni min_sup\n",
    "for min_sup in min_sups:\n",
    "    frequent_itemsets = apriori(df_apriori, min_support=min_sup, use_colnames=True)\n",
    "    num_itemsets.append(len(frequent_itemsets))\n",
    "\n",
    "# Plot\n",
    "plt.figure(figsize=(10,6))\n",
    "plt.plot(min_sups, num_itemsets, marker='o')\n",
    "plt.title('Number of frequent itemsets vs. min_support')\n",
    "plt.xlabel('min_support')\n",
    "plt.ylabel('Number of frequent itemsets')\n",
    "plt.grid(axis='y')\n",
    "plt.show()\n"
   ]
  },
  {
   "cell_type": "code",
   "execution_count": 319,
   "id": "615409d7",
   "metadata": {},
   "outputs": [],
   "source": [
    "# <!-- The plot above shows how the number of frequent itemsets changes as you increase the minimum support (`min_support`) threshold in the Apriori algorithm.\n",
    "\n",
    "# **How to interpret the plot:**\n",
    "# - **X-axis:** Minimum support threshold (from 0.01 to 0.29).\n",
    "# - **Y-axis:** Number of frequent itemsets found at each support value.\n",
    "# - As `min_support` increases, the number of frequent itemsets decreases. This is expected: higher support means fewer itemsets meet the threshold.\n",
    "\n",
    "# **How to choose the best support:**\n",
    "# - **Too low support:** You get too many itemsets, many of which may be uninteresting or spurious.\n",
    "# - **Too high support:** You get very few itemsets, possibly missing interesting patterns.\n",
    "# - **Best practice:** Choose a support where the curve starts to flatten out (the \"elbow\" point), balancing between too many and too few itemsets.\n",
    "\n",
    "# **In your case:**\n",
    "# - The curve drops quickly at first, then flattens around `min_support ≈ 0.07`–`0.10`.\n",
    "# - At `min_support = 0.07`, you have 202 itemsets (see your variable `num_itemsets`).\n",
    "# - This is a reasonable trade-off: enough itemsets for analysis, but not so many as to be overwhelming.\n",
    "\n",
    "# **Recommendation:**  \n",
    "# Set `min_support` between **0.07 and 0.10** for your further analysis. This will give you a manageable number of meaningful patterns. -->"
   ]
  },
  {
   "cell_type": "code",
   "execution_count": 320,
   "id": "4df52054",
   "metadata": {},
   "outputs": [],
   "source": [
    "# # Print the top 3 itemsets for each support in fine_min_sups\n",
    "# for min_sup in fine_min_sups:\n",
    "#     frequent_itemsets = apriori(df_apriori, min_support=min_sup, use_colnames=True)\n",
    "#     print(f\"\\nTop 3 itemsets for min_support={min_sup:.3f}:\")\n",
    "#     display(frequent_itemsets.sort_values(by=\"support\", ascending=False).head(3))\n",
    "\n",
    "# # Plot the average support of itemsets at each threshold\n",
    "# avg_supports = []\n",
    "# for min_sup in fine_min_sups:\n",
    "#     frequent_itemsets = apriori(df_apriori, min_support=min_sup, use_colnames=True)\n",
    "#     avg_supports.append(frequent_itemsets['support'].mean())\n",
    "\n",
    "# plt.figure(figsize=(8, 5))\n",
    "# plt.plot(fine_min_sups, avg_supports, marker='o')\n",
    "# plt.title('Average Support of Frequent Itemsets vs. min_support')\n",
    "# plt.xlabel('min_support')\n",
    "# plt.ylabel('Average support of itemsets')\n",
    "# plt.grid(True)\n",
    "# plt.show()"
   ]
  },
  {
   "cell_type": "markdown",
   "id": "96bb122a",
   "metadata": {},
   "source": [
    "### Apriori - frequent pattern analysis"
   ]
  },
  {
   "cell_type": "code",
   "execution_count": 321,
   "id": "7b2d1872",
   "metadata": {},
   "outputs": [
    {
     "name": "stdout",
     "output_type": "stream",
     "text": [
      "<class 'pandas.core.frame.DataFrame'>\n",
      "RangeIndex: 66 entries, 0 to 65\n",
      "Data columns (total 2 columns):\n",
      " #   Column    Non-Null Count  Dtype  \n",
      "---  ------    --------------  -----  \n",
      " 0   support   66 non-null     float64\n",
      " 1   itemsets  66 non-null     object \n",
      "dtypes: float64(1), object(1)\n",
      "memory usage: 1.2+ KB\n",
      "None\n",
      "     support                               itemsets\n",
      "0   0.251956                          (HighCredits)\n",
      "1   0.292745                           (HighRating)\n",
      "2   0.177332                          (HighRuntime)\n",
      "3   0.269542                           (LowCredits)\n",
      "4   0.268873                            (LowRating)\n",
      "5   0.218656                           (LowRuntime)\n",
      "6   0.244667                        (MediumCredits)\n",
      "7   0.275961                         (MediumRating)\n",
      "8   0.229087                        (MediumRuntime)\n",
      "9   0.148713                       (VeryHighRating)\n",
      "10  0.233835                       (VeryLowCredits)\n",
      "11  0.374925                       (VeryLowRuntime)\n",
      "12  0.142561                         (is_from_Asia)\n",
      "13  0.317085                       (is_from_Europe)\n",
      "14  0.485323                 (is_from_NorthAmerica)\n",
      "15  0.318556                                (movie)\n",
      "16  0.160013                                (short)\n",
      "17  0.303310                            (tvEpisode)\n",
      "18  0.087997                             (tvSeries)\n",
      "19  0.083517              (HighRating, HighCredits)\n",
      "20  0.083718              (HighCredits, LowRuntime)\n",
      "21  0.158007    (is_from_NorthAmerica, HighCredits)\n",
      "22  0.081110                   (movie, HighCredits)\n",
      "23  0.105650               (tvEpisode, HighCredits)\n",
      "24  0.093949               (HighRating, LowRuntime)\n",
      "25  0.124908           (HighRating, VeryLowRuntime)\n",
      "26  0.088399           (HighRating, is_from_Europe)\n",
      "27  0.152524     (HighRating, is_from_NorthAmerica)\n",
      "28  0.143765                (HighRating, tvEpisode)\n",
      "29  0.153594                   (movie, HighRuntime)\n",
      "30  0.100033           (VeryLowRuntime, LowCredits)\n",
      "31  0.084520           (is_from_Europe, LowCredits)\n",
      "32  0.112136     (LowCredits, is_from_NorthAmerica)\n",
      "33  0.097894                    (LowCredits, movie)\n",
      "34  0.094149             (MediumRuntime, LowRating)\n",
      "35  0.094751            (is_from_Europe, LowRating)\n",
      "36  0.119893      (LowRating, is_from_NorthAmerica)\n",
      "37  0.140020                     (movie, LowRating)\n",
      "38  0.120829     (is_from_NorthAmerica, LowRuntime)\n",
      "39  0.143765                (tvEpisode, LowRuntime)\n",
      "40  0.119291  (MediumCredits, is_from_NorthAmerica)\n",
      "41  0.089870                 (MediumCredits, movie)\n",
      "42  0.097894             (MediumCredits, tvEpisode)\n",
      "43  0.098161         (MediumRating, VeryLowRuntime)\n",
      "44  0.094417         (MediumRating, is_from_Europe)\n",
      "45  0.125644   (MediumRating, is_from_NorthAmerica)\n",
      "46  0.103711                  (MediumRating, movie)\n",
      "47  0.097693  (MediumRuntime, is_from_NorthAmerica)\n",
      "48  0.164962                 (MediumRuntime, movie)\n",
      "49  0.127716       (VeryLowCredits, VeryLowRuntime)\n",
      "50  0.080843       (VeryLowCredits, is_from_Europe)\n"
     ]
    }
   ],
   "source": [
    "min_support = 0.08  # % supporto minimo  0.11 con numregions\n",
    "min_confidence = 0.55  # 60% confidenza minima --> serve dopo nella fase di rules extraction\n",
    "\n",
    "# Apriori\n",
    "frequent_itemsets_apriori = apriori(df_apriori, min_support=min_support, use_colnames=True)\n",
    "\n",
    "# FRA -< Filtra gli itemset con almeno 2 item (lunghezza >= 2)\n",
    "    #frequent_itemsets_apriori = frequent_itemsets_apriori[frequent_itemsets_apriori['itemsets'].apply(lambda x: len(x) >= 2)]\n",
    "    #frequent_itemsets_apriori.reset_index(drop=True, inplace=True)\n",
    "\n",
    "print(frequent_itemsets_apriori.info())\n",
    "print(frequent_itemsets_apriori.head(51))"
   ]
  },
  {
   "cell_type": "code",
   "execution_count": 322,
   "id": "7a7281af",
   "metadata": {},
   "outputs": [
    {
     "name": "stdout",
     "output_type": "stream",
     "text": [
      "     support                                       itemsets\n",
      "14  0.485323                         (is_from_NorthAmerica)\n",
      "11  0.374925                               (VeryLowRuntime)\n",
      "15  0.318556                                        (movie)\n",
      "13  0.317085                               (is_from_Europe)\n",
      "17  0.303310                                    (tvEpisode)\n",
      "..       ...                                            ...\n",
      "19  0.083517                      (HighRating, HighCredits)\n",
      "59  0.082247                  (short, is_from_NorthAmerica)\n",
      "64  0.081846  (short, VeryLowRuntime, is_from_NorthAmerica)\n",
      "22  0.081110                           (movie, HighCredits)\n",
      "50  0.080843               (VeryLowCredits, is_from_Europe)\n",
      "\n",
      "[66 rows x 2 columns]\n"
     ]
    }
   ],
   "source": [
    "frequent_patterns_sorted = frequent_itemsets_apriori.sort_values(by='support', ascending=False)\n",
    "print(frequent_patterns_sorted)"
   ]
  },
  {
   "cell_type": "code",
   "execution_count": 323,
   "id": "1b03d23f",
   "metadata": {},
   "outputs": [
    {
     "name": "stdout",
     "output_type": "stream",
     "text": [
      "\n",
      "Top itemsets of size 1 (support=0.4853226345703778):\n",
      "     support                itemsets\n",
      "14  0.485323  (is_from_NorthAmerica)\n",
      "\n",
      "Top itemsets of size 2 (support=0.20421263791374122):\n",
      "     support                                itemsets\n",
      "54  0.204213  (VeryLowRuntime, is_from_NorthAmerica)\n",
      "\n",
      "Top itemsets of size 3 (support=0.09354730859244399):\n",
      "     support                                           itemsets\n",
      "65  0.093547  (tvEpisode, VeryLowRuntime, is_from_NorthAmerica)\n"
     ]
    }
   ],
   "source": [
    "# Extract itemsets with highest support for size 2, 3, and 4\n",
    "result = {}\n",
    "\n",
    "for k in [1, 2, 3]:\n",
    "    # Filter itemsets of length k\n",
    "    itemsets_k = frequent_itemsets_apriori[frequent_itemsets_apriori['itemsets'].apply(lambda x: len(x) == k)]\n",
    "    if not itemsets_k.empty:\n",
    "        max_support = itemsets_k['support'].max()\n",
    "        top_itemsets = itemsets_k[itemsets_k['support'] == max_support]\n",
    "        result[k] = top_itemsets\n",
    "        print(f\"\\nTop itemsets of size {k} (support={max_support}):\")\n",
    "        print(top_itemsets)\n",
    "    else:\n",
    "        print(f\"\\nNo itemsets of size {k} found.\")"
   ]
  },
  {
   "cell_type": "markdown",
   "id": "29f0b50e",
   "metadata": {},
   "source": [
    "### maximal itemset"
   ]
  },
  {
   "cell_type": "code",
   "execution_count": 324,
   "id": "59583179",
   "metadata": {},
   "outputs": [
    {
     "name": "stdout",
     "output_type": "stream",
     "text": [
      "<class 'pandas.core.frame.DataFrame'>\n",
      "Index: 39 entries, 9 to 65\n",
      "Data columns (total 2 columns):\n",
      " #   Column    Non-Null Count  Dtype  \n",
      "---  ------    --------------  -----  \n",
      " 0   support   39 non-null     float64\n",
      " 1   itemsets  39 non-null     object \n",
      "dtypes: float64(1), object(1)\n",
      "memory usage: 936.0+ bytes\n",
      "None\n",
      "     support                             itemsets\n",
      "9   0.148713                     (VeryHighRating)\n",
      "12  0.142561                       (is_from_Asia)\n",
      "18  0.087997                           (tvSeries)\n",
      "19  0.083517            (HighRating, HighCredits)\n",
      "20  0.083718            (HighCredits, LowRuntime)\n",
      "21  0.158007  (is_from_NorthAmerica, HighCredits)\n",
      "22  0.081110                 (movie, HighCredits)\n",
      "23  0.105650             (tvEpisode, HighCredits)\n",
      "24  0.093949             (HighRating, LowRuntime)\n",
      "25  0.124908         (HighRating, VeryLowRuntime)\n",
      "26  0.088399         (HighRating, is_from_Europe)\n",
      "29  0.153594                 (movie, HighRuntime)\n",
      "30  0.100033         (VeryLowRuntime, LowCredits)\n",
      "31  0.084520         (is_from_Europe, LowCredits)\n",
      "32  0.112136   (LowCredits, is_from_NorthAmerica)\n"
     ]
    }
   ],
   "source": [
    "# Find maximal itemsets (those that are not subsets of any other itemsets)\n",
    "maximal_itemsets_apriori = frequent_itemsets_apriori[frequent_itemsets_apriori['itemsets'].apply(lambda x: not any(x < y for y in frequent_itemsets_apriori['itemsets']))]\n",
    "\n",
    "# Display the results\n",
    "print(maximal_itemsets_apriori.info())\n",
    "print(maximal_itemsets_apriori.head(15))"
   ]
  },
  {
   "cell_type": "markdown",
   "id": "214165b2",
   "metadata": {},
   "source": [
    "### Association Rules"
   ]
  },
  {
   "cell_type": "code",
   "execution_count": 325,
   "id": "2554301a",
   "metadata": {},
   "outputs": [
    {
     "name": "stdout",
     "output_type": "stream",
     "text": [
      "<class 'pandas.core.frame.DataFrame'>\n",
      "RangeIndex: 18 entries, 0 to 17\n",
      "Data columns (total 14 columns):\n",
      " #   Column              Non-Null Count  Dtype  \n",
      "---  ------              --------------  -----  \n",
      " 0   antecedents         18 non-null     object \n",
      " 1   consequents         18 non-null     object \n",
      " 2   antecedent support  18 non-null     float64\n",
      " 3   consequent support  18 non-null     float64\n",
      " 4   support             18 non-null     float64\n",
      " 5   confidence          18 non-null     float64\n",
      " 6   lift                18 non-null     float64\n",
      " 7   representativity    18 non-null     float64\n",
      " 8   leverage            18 non-null     float64\n",
      " 9   conviction          18 non-null     float64\n",
      " 10  zhangs_metric       18 non-null     float64\n",
      " 11  jaccard             18 non-null     float64\n",
      " 12  certainty           18 non-null     float64\n",
      " 13  kulczynski          18 non-null     float64\n",
      "dtypes: float64(12), object(2)\n",
      "memory usage: 2.1+ KB\n"
     ]
    },
    {
     "data": {
      "text/html": [
       "<div>\n",
       "<style scoped>\n",
       "    .dataframe tbody tr th:only-of-type {\n",
       "        vertical-align: middle;\n",
       "    }\n",
       "\n",
       "    .dataframe tbody tr th {\n",
       "        vertical-align: top;\n",
       "    }\n",
       "\n",
       "    .dataframe thead th {\n",
       "        text-align: right;\n",
       "    }\n",
       "</style>\n",
       "<table border=\"1\" class=\"dataframe\">\n",
       "  <thead>\n",
       "    <tr style=\"text-align: right;\">\n",
       "      <th></th>\n",
       "      <th>antecedents</th>\n",
       "      <th>consequents</th>\n",
       "      <th>antecedent support</th>\n",
       "      <th>consequent support</th>\n",
       "      <th>support</th>\n",
       "      <th>confidence</th>\n",
       "      <th>lift</th>\n",
       "      <th>representativity</th>\n",
       "      <th>leverage</th>\n",
       "      <th>conviction</th>\n",
       "      <th>zhangs_metric</th>\n",
       "      <th>jaccard</th>\n",
       "      <th>certainty</th>\n",
       "      <th>kulczynski</th>\n",
       "    </tr>\n",
       "  </thead>\n",
       "  <tbody>\n",
       "    <tr>\n",
       "      <th>0</th>\n",
       "      <td>(HighCredits)</td>\n",
       "      <td>(is_from_NorthAmerica)</td>\n",
       "      <td>0.251956</td>\n",
       "      <td>0.485323</td>\n",
       "      <td>0.158007</td>\n",
       "      <td>0.627123</td>\n",
       "      <td>1.292178</td>\n",
       "      <td>1.0</td>\n",
       "      <td>0.035727</td>\n",
       "      <td>1.380288</td>\n",
       "      <td>0.302272</td>\n",
       "      <td>0.272769</td>\n",
       "      <td>0.275513</td>\n",
       "      <td>0.476347</td>\n",
       "    </tr>\n",
       "    <tr>\n",
       "      <th>1</th>\n",
       "      <td>(HighRuntime)</td>\n",
       "      <td>(movie)</td>\n",
       "      <td>0.177332</td>\n",
       "      <td>0.318556</td>\n",
       "      <td>0.153594</td>\n",
       "      <td>0.866139</td>\n",
       "      <td>2.718956</td>\n",
       "      <td>1.0</td>\n",
       "      <td>0.097104</td>\n",
       "      <td>5.090677</td>\n",
       "      <td>0.768490</td>\n",
       "      <td>0.448720</td>\n",
       "      <td>0.803562</td>\n",
       "      <td>0.674148</td>\n",
       "    </tr>\n",
       "    <tr>\n",
       "      <th>2</th>\n",
       "      <td>(LowRuntime)</td>\n",
       "      <td>(is_from_NorthAmerica)</td>\n",
       "      <td>0.218656</td>\n",
       "      <td>0.485323</td>\n",
       "      <td>0.120829</td>\n",
       "      <td>0.552599</td>\n",
       "      <td>1.138623</td>\n",
       "      <td>1.0</td>\n",
       "      <td>0.014710</td>\n",
       "      <td>1.150373</td>\n",
       "      <td>0.155816</td>\n",
       "      <td>0.207201</td>\n",
       "      <td>0.130716</td>\n",
       "      <td>0.400783</td>\n",
       "    </tr>\n",
       "    <tr>\n",
       "      <th>3</th>\n",
       "      <td>(LowRuntime)</td>\n",
       "      <td>(tvEpisode)</td>\n",
       "      <td>0.218656</td>\n",
       "      <td>0.303310</td>\n",
       "      <td>0.143765</td>\n",
       "      <td>0.657492</td>\n",
       "      <td>2.167724</td>\n",
       "      <td>1.0</td>\n",
       "      <td>0.077444</td>\n",
       "      <td>2.034086</td>\n",
       "      <td>0.689436</td>\n",
       "      <td>0.380127</td>\n",
       "      <td>0.508379</td>\n",
       "      <td>0.565739</td>\n",
       "    </tr>\n",
       "    <tr>\n",
       "      <th>4</th>\n",
       "      <td>(MediumRuntime)</td>\n",
       "      <td>(movie)</td>\n",
       "      <td>0.229087</td>\n",
       "      <td>0.318556</td>\n",
       "      <td>0.164962</td>\n",
       "      <td>0.720082</td>\n",
       "      <td>2.260458</td>\n",
       "      <td>1.0</td>\n",
       "      <td>0.091985</td>\n",
       "      <td>2.434440</td>\n",
       "      <td>0.723314</td>\n",
       "      <td>0.431068</td>\n",
       "      <td>0.589228</td>\n",
       "      <td>0.618962</td>\n",
       "    </tr>\n",
       "    <tr>\n",
       "      <th>5</th>\n",
       "      <td>(short)</td>\n",
       "      <td>(VeryLowCredits)</td>\n",
       "      <td>0.160013</td>\n",
       "      <td>0.233835</td>\n",
       "      <td>0.093949</td>\n",
       "      <td>0.587129</td>\n",
       "      <td>2.510871</td>\n",
       "      <td>1.0</td>\n",
       "      <td>0.056532</td>\n",
       "      <td>1.855702</td>\n",
       "      <td>0.716359</td>\n",
       "      <td>0.313266</td>\n",
       "      <td>0.461120</td>\n",
       "      <td>0.494451</td>\n",
       "    </tr>\n",
       "    <tr>\n",
       "      <th>6</th>\n",
       "      <td>(short)</td>\n",
       "      <td>(VeryLowRuntime)</td>\n",
       "      <td>0.160013</td>\n",
       "      <td>0.374925</td>\n",
       "      <td>0.158877</td>\n",
       "      <td>0.992896</td>\n",
       "      <td>2.648254</td>\n",
       "      <td>1.0</td>\n",
       "      <td>0.098884</td>\n",
       "      <td>87.988530</td>\n",
       "      <td>0.740955</td>\n",
       "      <td>0.422475</td>\n",
       "      <td>0.988635</td>\n",
       "      <td>0.708326</td>\n",
       "    </tr>\n",
       "    <tr>\n",
       "      <th>7</th>\n",
       "      <td>(tvEpisode)</td>\n",
       "      <td>(is_from_NorthAmerica)</td>\n",
       "      <td>0.303310</td>\n",
       "      <td>0.485323</td>\n",
       "      <td>0.185690</td>\n",
       "      <td>0.612213</td>\n",
       "      <td>1.261457</td>\n",
       "      <td>1.0</td>\n",
       "      <td>0.038487</td>\n",
       "      <td>1.327218</td>\n",
       "      <td>0.297500</td>\n",
       "      <td>0.307974</td>\n",
       "      <td>0.246544</td>\n",
       "      <td>0.497413</td>\n",
       "    </tr>\n",
       "    <tr>\n",
       "      <th>8</th>\n",
       "      <td>(HighRating, tvEpisode)</td>\n",
       "      <td>(is_from_NorthAmerica)</td>\n",
       "      <td>0.143765</td>\n",
       "      <td>0.485323</td>\n",
       "      <td>0.091876</td>\n",
       "      <td>0.639070</td>\n",
       "      <td>1.316794</td>\n",
       "      <td>1.0</td>\n",
       "      <td>0.022103</td>\n",
       "      <td>1.425975</td>\n",
       "      <td>0.280974</td>\n",
       "      <td>0.171023</td>\n",
       "      <td>0.298725</td>\n",
       "      <td>0.414189</td>\n",
       "    </tr>\n",
       "    <tr>\n",
       "      <th>9</th>\n",
       "      <td>(HighRating, is_from_NorthAmerica)</td>\n",
       "      <td>(tvEpisode)</td>\n",
       "      <td>0.152524</td>\n",
       "      <td>0.303310</td>\n",
       "      <td>0.091876</td>\n",
       "      <td>0.602367</td>\n",
       "      <td>1.985980</td>\n",
       "      <td>1.0</td>\n",
       "      <td>0.045614</td>\n",
       "      <td>1.752095</td>\n",
       "      <td>0.585822</td>\n",
       "      <td>0.252434</td>\n",
       "      <td>0.429255</td>\n",
       "      <td>0.452639</td>\n",
       "    </tr>\n",
       "  </tbody>\n",
       "</table>\n",
       "</div>"
      ],
      "text/plain": [
       "                          antecedents             consequents  \\\n",
       "0                       (HighCredits)  (is_from_NorthAmerica)   \n",
       "1                       (HighRuntime)                 (movie)   \n",
       "2                        (LowRuntime)  (is_from_NorthAmerica)   \n",
       "3                        (LowRuntime)             (tvEpisode)   \n",
       "4                     (MediumRuntime)                 (movie)   \n",
       "5                             (short)        (VeryLowCredits)   \n",
       "6                             (short)        (VeryLowRuntime)   \n",
       "7                         (tvEpisode)  (is_from_NorthAmerica)   \n",
       "8             (HighRating, tvEpisode)  (is_from_NorthAmerica)   \n",
       "9  (HighRating, is_from_NorthAmerica)             (tvEpisode)   \n",
       "\n",
       "   antecedent support  consequent support   support  confidence      lift  \\\n",
       "0            0.251956            0.485323  0.158007    0.627123  1.292178   \n",
       "1            0.177332            0.318556  0.153594    0.866139  2.718956   \n",
       "2            0.218656            0.485323  0.120829    0.552599  1.138623   \n",
       "3            0.218656            0.303310  0.143765    0.657492  2.167724   \n",
       "4            0.229087            0.318556  0.164962    0.720082  2.260458   \n",
       "5            0.160013            0.233835  0.093949    0.587129  2.510871   \n",
       "6            0.160013            0.374925  0.158877    0.992896  2.648254   \n",
       "7            0.303310            0.485323  0.185690    0.612213  1.261457   \n",
       "8            0.143765            0.485323  0.091876    0.639070  1.316794   \n",
       "9            0.152524            0.303310  0.091876    0.602367  1.985980   \n",
       "\n",
       "   representativity  leverage  conviction  zhangs_metric   jaccard  certainty  \\\n",
       "0               1.0  0.035727    1.380288       0.302272  0.272769   0.275513   \n",
       "1               1.0  0.097104    5.090677       0.768490  0.448720   0.803562   \n",
       "2               1.0  0.014710    1.150373       0.155816  0.207201   0.130716   \n",
       "3               1.0  0.077444    2.034086       0.689436  0.380127   0.508379   \n",
       "4               1.0  0.091985    2.434440       0.723314  0.431068   0.589228   \n",
       "5               1.0  0.056532    1.855702       0.716359  0.313266   0.461120   \n",
       "6               1.0  0.098884   87.988530       0.740955  0.422475   0.988635   \n",
       "7               1.0  0.038487    1.327218       0.297500  0.307974   0.246544   \n",
       "8               1.0  0.022103    1.425975       0.280974  0.171023   0.298725   \n",
       "9               1.0  0.045614    1.752095       0.585822  0.252434   0.429255   \n",
       "\n",
       "   kulczynski  \n",
       "0    0.476347  \n",
       "1    0.674148  \n",
       "2    0.400783  \n",
       "3    0.565739  \n",
       "4    0.618962  \n",
       "5    0.494451  \n",
       "6    0.708326  \n",
       "7    0.497413  \n",
       "8    0.414189  \n",
       "9    0.452639  "
      ]
     },
     "execution_count": 325,
     "metadata": {},
     "output_type": "execute_result"
    }
   ],
   "source": [
    "#Apriori\n",
    "rules_apriori = association_rules(frequent_itemsets_apriori, metric=\"confidence\", min_threshold=min_confidence)\n",
    "rules_apriori.info()\n",
    "rules_apriori.head(10)"
   ]
  },
  {
   "cell_type": "markdown",
   "id": "81a58645",
   "metadata": {},
   "source": [
    "### Scelta valori confidence"
   ]
  },
  {
   "cell_type": "code",
   "execution_count": 338,
   "id": "71dfaefe",
   "metadata": {},
   "outputs": [
    {
     "data": {
      "image/png": "[encoded data removed]",
      "text/plain": [
       "<Figure size 800x500 with 2 Axes>"
      ]
     },
     "metadata": {},
     "output_type": "display_data"
    }
   ],
   "source": [
    "# Collect number of rules and average lift for each confidence value\n",
    "from mlxtend.frequent_patterns import association_rules\n",
    "# conf_values = [0.4, 0.5, 0.6, 0.7]\n",
    "# for c in conf_values:\n",
    "#     rules = association_rules(frequent_itemsets_apriori, metric=\"confidence\", min_threshold=c)\n",
    "#     print(f\"min_confidence={c}: {len(rules)} regole trovate, lift medio = {rules['lift'].mean():.2f}\")\n",
    "\n",
    "\n",
    "conf_values = [0.4, 0.45, 0.5, 0.55, 0.6, 0.65, 0.7]\n",
    "#conf_values = [0.4, 0.5, 0.6, 0.7]\n",
    "num_rules = []\n",
    "avg_lifts = []\n",
    "\n",
    "for c in conf_values:\n",
    "    rules = association_rules(frequent_itemsets_apriori, metric=\"confidence\", min_threshold=c)\n",
    "    num_rules.append(len(rules))\n",
    "    avg_lifts.append(rules['lift'].mean())\n",
    "\n",
    "# Plotting\n",
    "fig, ax1 = plt.subplots(figsize=(8, 5))\n",
    "\n",
    "color = 'tab:blue'\n",
    "ax1.set_xlabel('min_confidence')\n",
    "ax1.set_ylabel('Number of Rules', color=color)\n",
    "ax1.plot(conf_values, num_rules, marker='o', color=color, label='Number of Rules')\n",
    "ax1.tick_params(axis='y', labelcolor=color)\n",
    "ax1.set_xticks(conf_values)\n",
    "\n",
    "ax2 = ax1.twinx()\n",
    "color = 'tab:red'\n",
    "ax2.set_ylabel('Average Lift', color=color)\n",
    "ax2.plot(conf_values, avg_lifts, marker='s', color=color, label='Average Lift')\n",
    "ax2.tick_params(axis='y', labelcolor=color)\n",
    "\n",
    "plt.title('Number of Rules and Average Lift vs. min_confidence')\n",
    "fig.tight_layout()\n",
    "plt.grid(True)\n",
    "plt.show() "
   ]
  },
  {
   "cell_type": "code",
   "execution_count": 327,
   "id": "1cf97f72",
   "metadata": {},
   "outputs": [],
   "source": [
    "# You can extract several insights from the plot in `fig` (Number of Rules and Average Lift vs. min_confidence):\n",
    "\n",
    "# - **Number of Rules**: Shows how the number of association rules found changes as you increase the minimum confidence threshold. Typically, as confidence increases, the number of rules decreases.\n",
    "# - **Average Lift**: Indicates the average strength of the rules (how much more likely the consequent is given the antecedent, compared to random chance) for each confidence threshold.\n",
    "# - **Trade-off Visualization**: The plot helps you choose a good confidence threshold by balancing the number of rules (coverage) and their average lift (quality).\n",
    "# - **Optimal Confidence**: You can visually select a confidence value where the number of rules is reasonable and the average lift is high, optimizing both interpretability and rule strength.\n",
    "\n",
    "# This plot is useful for tuning your association rule mining parameters."
   ]
  },
  {
   "cell_type": "code",
   "execution_count": 328,
   "id": "afee199e",
   "metadata": {},
   "outputs": [
    {
     "data": {
      "text/html": [
       "<div>\n",
       "<style scoped>\n",
       "    .dataframe tbody tr th:only-of-type {\n",
       "        vertical-align: middle;\n",
       "    }\n",
       "\n",
       "    .dataframe tbody tr th {\n",
       "        vertical-align: top;\n",
       "    }\n",
       "\n",
       "    .dataframe thead th {\n",
       "        text-align: right;\n",
       "    }\n",
       "</style>\n",
       "<table border=\"1\" class=\"dataframe\">\n",
       "  <thead>\n",
       "    <tr style=\"text-align: right;\">\n",
       "      <th></th>\n",
       "      <th>antecedents</th>\n",
       "      <th>consequents</th>\n",
       "      <th>antecedent support</th>\n",
       "      <th>consequent support</th>\n",
       "      <th>support</th>\n",
       "      <th>confidence</th>\n",
       "      <th>lift</th>\n",
       "      <th>representativity</th>\n",
       "      <th>leverage</th>\n",
       "      <th>conviction</th>\n",
       "      <th>zhangs_metric</th>\n",
       "      <th>jaccard</th>\n",
       "      <th>certainty</th>\n",
       "      <th>kulczynski</th>\n",
       "    </tr>\n",
       "  </thead>\n",
       "  <tbody>\n",
       "    <tr>\n",
       "      <th>15</th>\n",
       "      <td>(short)</td>\n",
       "      <td>(VeryLowCredits, VeryLowRuntime)</td>\n",
       "      <td>0.160013</td>\n",
       "      <td>0.127716</td>\n",
       "      <td>0.093347</td>\n",
       "      <td>0.583368</td>\n",
       "      <td>4.567681</td>\n",
       "      <td>1.0</td>\n",
       "      <td>0.072910</td>\n",
       "      <td>2.093655</td>\n",
       "      <td>0.929861</td>\n",
       "      <td>0.480220</td>\n",
       "      <td>0.522366</td>\n",
       "      <td>0.657129</td>\n",
       "    </tr>\n",
       "    <tr>\n",
       "      <th>12</th>\n",
       "      <td>(VeryLowCredits, VeryLowRuntime)</td>\n",
       "      <td>(short)</td>\n",
       "      <td>0.127716</td>\n",
       "      <td>0.160013</td>\n",
       "      <td>0.093347</td>\n",
       "      <td>0.730890</td>\n",
       "      <td>4.567681</td>\n",
       "      <td>1.0</td>\n",
       "      <td>0.072910</td>\n",
       "      <td>3.121351</td>\n",
       "      <td>0.895432</td>\n",
       "      <td>0.480220</td>\n",
       "      <td>0.679626</td>\n",
       "      <td>0.657129</td>\n",
       "    </tr>\n",
       "    <tr>\n",
       "      <th>1</th>\n",
       "      <td>(HighRuntime)</td>\n",
       "      <td>(movie)</td>\n",
       "      <td>0.177332</td>\n",
       "      <td>0.318556</td>\n",
       "      <td>0.153594</td>\n",
       "      <td>0.866139</td>\n",
       "      <td>2.718956</td>\n",
       "      <td>1.0</td>\n",
       "      <td>0.097104</td>\n",
       "      <td>5.090677</td>\n",
       "      <td>0.768490</td>\n",
       "      <td>0.448720</td>\n",
       "      <td>0.803562</td>\n",
       "      <td>0.674148</td>\n",
       "    </tr>\n",
       "    <tr>\n",
       "      <th>16</th>\n",
       "      <td>(is_from_NorthAmerica, short)</td>\n",
       "      <td>(VeryLowRuntime)</td>\n",
       "      <td>0.082247</td>\n",
       "      <td>0.374925</td>\n",
       "      <td>0.081846</td>\n",
       "      <td>0.995122</td>\n",
       "      <td>2.654191</td>\n",
       "      <td>1.0</td>\n",
       "      <td>0.051009</td>\n",
       "      <td>128.140421</td>\n",
       "      <td>0.679090</td>\n",
       "      <td>0.218065</td>\n",
       "      <td>0.992196</td>\n",
       "      <td>0.606710</td>\n",
       "    </tr>\n",
       "    <tr>\n",
       "      <th>13</th>\n",
       "      <td>(VeryLowCredits, short)</td>\n",
       "      <td>(VeryLowRuntime)</td>\n",
       "      <td>0.093949</td>\n",
       "      <td>0.374925</td>\n",
       "      <td>0.093347</td>\n",
       "      <td>0.993594</td>\n",
       "      <td>2.650116</td>\n",
       "      <td>1.0</td>\n",
       "      <td>0.058123</td>\n",
       "      <td>97.581188</td>\n",
       "      <td>0.687222</td>\n",
       "      <td>0.248575</td>\n",
       "      <td>0.989752</td>\n",
       "      <td>0.621284</td>\n",
       "    </tr>\n",
       "    <tr>\n",
       "      <th>6</th>\n",
       "      <td>(short)</td>\n",
       "      <td>(VeryLowRuntime)</td>\n",
       "      <td>0.160013</td>\n",
       "      <td>0.374925</td>\n",
       "      <td>0.158877</td>\n",
       "      <td>0.992896</td>\n",
       "      <td>2.648254</td>\n",
       "      <td>1.0</td>\n",
       "      <td>0.098884</td>\n",
       "      <td>87.988530</td>\n",
       "      <td>0.740955</td>\n",
       "      <td>0.422475</td>\n",
       "      <td>0.988635</td>\n",
       "      <td>0.708326</td>\n",
       "    </tr>\n",
       "    <tr>\n",
       "      <th>14</th>\n",
       "      <td>(VeryLowRuntime, short)</td>\n",
       "      <td>(VeryLowCredits)</td>\n",
       "      <td>0.158877</td>\n",
       "      <td>0.233835</td>\n",
       "      <td>0.093347</td>\n",
       "      <td>0.587542</td>\n",
       "      <td>2.512637</td>\n",
       "      <td>1.0</td>\n",
       "      <td>0.056196</td>\n",
       "      <td>1.857560</td>\n",
       "      <td>0.715724</td>\n",
       "      <td>0.311816</td>\n",
       "      <td>0.461659</td>\n",
       "      <td>0.493371</td>\n",
       "    </tr>\n",
       "    <tr>\n",
       "      <th>5</th>\n",
       "      <td>(short)</td>\n",
       "      <td>(VeryLowCredits)</td>\n",
       "      <td>0.160013</td>\n",
       "      <td>0.233835</td>\n",
       "      <td>0.093949</td>\n",
       "      <td>0.587129</td>\n",
       "      <td>2.510871</td>\n",
       "      <td>1.0</td>\n",
       "      <td>0.056532</td>\n",
       "      <td>1.855702</td>\n",
       "      <td>0.716359</td>\n",
       "      <td>0.313266</td>\n",
       "      <td>0.461120</td>\n",
       "      <td>0.494451</td>\n",
       "    </tr>\n",
       "    <tr>\n",
       "      <th>11</th>\n",
       "      <td>(is_from_NorthAmerica, LowRuntime)</td>\n",
       "      <td>(tvEpisode)</td>\n",
       "      <td>0.120829</td>\n",
       "      <td>0.303310</td>\n",
       "      <td>0.089669</td>\n",
       "      <td>0.742114</td>\n",
       "      <td>2.446718</td>\n",
       "      <td>1.0</td>\n",
       "      <td>0.053020</td>\n",
       "      <td>2.701543</td>\n",
       "      <td>0.672553</td>\n",
       "      <td>0.268093</td>\n",
       "      <td>0.629841</td>\n",
       "      <td>0.518874</td>\n",
       "    </tr>\n",
       "    <tr>\n",
       "      <th>4</th>\n",
       "      <td>(MediumRuntime)</td>\n",
       "      <td>(movie)</td>\n",
       "      <td>0.229087</td>\n",
       "      <td>0.318556</td>\n",
       "      <td>0.164962</td>\n",
       "      <td>0.720082</td>\n",
       "      <td>2.260458</td>\n",
       "      <td>1.0</td>\n",
       "      <td>0.091985</td>\n",
       "      <td>2.434440</td>\n",
       "      <td>0.723314</td>\n",
       "      <td>0.431068</td>\n",
       "      <td>0.589228</td>\n",
       "      <td>0.618962</td>\n",
       "    </tr>\n",
       "    <tr>\n",
       "      <th>3</th>\n",
       "      <td>(LowRuntime)</td>\n",
       "      <td>(tvEpisode)</td>\n",
       "      <td>0.218656</td>\n",
       "      <td>0.303310</td>\n",
       "      <td>0.143765</td>\n",
       "      <td>0.657492</td>\n",
       "      <td>2.167724</td>\n",
       "      <td>1.0</td>\n",
       "      <td>0.077444</td>\n",
       "      <td>2.034086</td>\n",
       "      <td>0.689436</td>\n",
       "      <td>0.380127</td>\n",
       "      <td>0.508379</td>\n",
       "      <td>0.565739</td>\n",
       "    </tr>\n",
       "    <tr>\n",
       "      <th>9</th>\n",
       "      <td>(HighRating, is_from_NorthAmerica)</td>\n",
       "      <td>(tvEpisode)</td>\n",
       "      <td>0.152524</td>\n",
       "      <td>0.303310</td>\n",
       "      <td>0.091876</td>\n",
       "      <td>0.602367</td>\n",
       "      <td>1.985980</td>\n",
       "      <td>1.0</td>\n",
       "      <td>0.045614</td>\n",
       "      <td>1.752095</td>\n",
       "      <td>0.585822</td>\n",
       "      <td>0.252434</td>\n",
       "      <td>0.429255</td>\n",
       "      <td>0.452639</td>\n",
       "    </tr>\n",
       "    <tr>\n",
       "      <th>8</th>\n",
       "      <td>(HighRating, tvEpisode)</td>\n",
       "      <td>(is_from_NorthAmerica)</td>\n",
       "      <td>0.143765</td>\n",
       "      <td>0.485323</td>\n",
       "      <td>0.091876</td>\n",
       "      <td>0.639070</td>\n",
       "      <td>1.316794</td>\n",
       "      <td>1.0</td>\n",
       "      <td>0.022103</td>\n",
       "      <td>1.425975</td>\n",
       "      <td>0.280974</td>\n",
       "      <td>0.171023</td>\n",
       "      <td>0.298725</td>\n",
       "      <td>0.414189</td>\n",
       "    </tr>\n",
       "    <tr>\n",
       "      <th>0</th>\n",
       "      <td>(HighCredits)</td>\n",
       "      <td>(is_from_NorthAmerica)</td>\n",
       "      <td>0.251956</td>\n",
       "      <td>0.485323</td>\n",
       "      <td>0.158007</td>\n",
       "      <td>0.627123</td>\n",
       "      <td>1.292178</td>\n",
       "      <td>1.0</td>\n",
       "      <td>0.035727</td>\n",
       "      <td>1.380288</td>\n",
       "      <td>0.302272</td>\n",
       "      <td>0.272769</td>\n",
       "      <td>0.275513</td>\n",
       "      <td>0.476347</td>\n",
       "    </tr>\n",
       "    <tr>\n",
       "      <th>10</th>\n",
       "      <td>(tvEpisode, LowRuntime)</td>\n",
       "      <td>(is_from_NorthAmerica)</td>\n",
       "      <td>0.143765</td>\n",
       "      <td>0.485323</td>\n",
       "      <td>0.089669</td>\n",
       "      <td>0.623721</td>\n",
       "      <td>1.285168</td>\n",
       "      <td>1.0</td>\n",
       "      <td>0.019897</td>\n",
       "      <td>1.367808</td>\n",
       "      <td>0.259148</td>\n",
       "      <td>0.166233</td>\n",
       "      <td>0.268903</td>\n",
       "      <td>0.404241</td>\n",
       "    </tr>\n",
       "    <tr>\n",
       "      <th>7</th>\n",
       "      <td>(tvEpisode)</td>\n",
       "      <td>(is_from_NorthAmerica)</td>\n",
       "      <td>0.303310</td>\n",
       "      <td>0.485323</td>\n",
       "      <td>0.185690</td>\n",
       "      <td>0.612213</td>\n",
       "      <td>1.261457</td>\n",
       "      <td>1.0</td>\n",
       "      <td>0.038487</td>\n",
       "      <td>1.327218</td>\n",
       "      <td>0.297500</td>\n",
       "      <td>0.307974</td>\n",
       "      <td>0.246544</td>\n",
       "      <td>0.497413</td>\n",
       "    </tr>\n",
       "    <tr>\n",
       "      <th>17</th>\n",
       "      <td>(tvEpisode, VeryLowRuntime)</td>\n",
       "      <td>(is_from_NorthAmerica)</td>\n",
       "      <td>0.153059</td>\n",
       "      <td>0.485323</td>\n",
       "      <td>0.093547</td>\n",
       "      <td>0.611184</td>\n",
       "      <td>1.259335</td>\n",
       "      <td>1.0</td>\n",
       "      <td>0.019264</td>\n",
       "      <td>1.323704</td>\n",
       "      <td>0.243146</td>\n",
       "      <td>0.171699</td>\n",
       "      <td>0.244544</td>\n",
       "      <td>0.401968</td>\n",
       "    </tr>\n",
       "    <tr>\n",
       "      <th>2</th>\n",
       "      <td>(LowRuntime)</td>\n",
       "      <td>(is_from_NorthAmerica)</td>\n",
       "      <td>0.218656</td>\n",
       "      <td>0.485323</td>\n",
       "      <td>0.120829</td>\n",
       "      <td>0.552599</td>\n",
       "      <td>1.138623</td>\n",
       "      <td>1.0</td>\n",
       "      <td>0.014710</td>\n",
       "      <td>1.150373</td>\n",
       "      <td>0.155816</td>\n",
       "      <td>0.207201</td>\n",
       "      <td>0.130716</td>\n",
       "      <td>0.400783</td>\n",
       "    </tr>\n",
       "  </tbody>\n",
       "</table>\n",
       "</div>"
      ],
      "text/plain": [
       "                           antecedents                       consequents  \\\n",
       "15                             (short)  (VeryLowCredits, VeryLowRuntime)   \n",
       "12    (VeryLowCredits, VeryLowRuntime)                           (short)   \n",
       "1                        (HighRuntime)                           (movie)   \n",
       "16       (is_from_NorthAmerica, short)                  (VeryLowRuntime)   \n",
       "13             (VeryLowCredits, short)                  (VeryLowRuntime)   \n",
       "6                              (short)                  (VeryLowRuntime)   \n",
       "14             (VeryLowRuntime, short)                  (VeryLowCredits)   \n",
       "5                              (short)                  (VeryLowCredits)   \n",
       "11  (is_from_NorthAmerica, LowRuntime)                       (tvEpisode)   \n",
       "4                      (MediumRuntime)                           (movie)   \n",
       "3                         (LowRuntime)                       (tvEpisode)   \n",
       "9   (HighRating, is_from_NorthAmerica)                       (tvEpisode)   \n",
       "8              (HighRating, tvEpisode)            (is_from_NorthAmerica)   \n",
       "0                        (HighCredits)            (is_from_NorthAmerica)   \n",
       "10             (tvEpisode, LowRuntime)            (is_from_NorthAmerica)   \n",
       "7                          (tvEpisode)            (is_from_NorthAmerica)   \n",
       "17         (tvEpisode, VeryLowRuntime)            (is_from_NorthAmerica)   \n",
       "2                         (LowRuntime)            (is_from_NorthAmerica)   \n",
       "\n",
       "    antecedent support  consequent support   support  confidence      lift  \\\n",
       "15            0.160013            0.127716  0.093347    0.583368  4.567681   \n",
       "12            0.127716            0.160013  0.093347    0.730890  4.567681   \n",
       "1             0.177332            0.318556  0.153594    0.866139  2.718956   \n",
       "16            0.082247            0.374925  0.081846    0.995122  2.654191   \n",
       "13            0.093949            0.374925  0.093347    0.993594  2.650116   \n",
       "6             0.160013            0.374925  0.158877    0.992896  2.648254   \n",
       "14            0.158877            0.233835  0.093347    0.587542  2.512637   \n",
       "5             0.160013            0.233835  0.093949    0.587129  2.510871   \n",
       "11            0.120829            0.303310  0.089669    0.742114  2.446718   \n",
       "4             0.229087            0.318556  0.164962    0.720082  2.260458   \n",
       "3             0.218656            0.303310  0.143765    0.657492  2.167724   \n",
       "9             0.152524            0.303310  0.091876    0.602367  1.985980   \n",
       "8             0.143765            0.485323  0.091876    0.639070  1.316794   \n",
       "0             0.251956            0.485323  0.158007    0.627123  1.292178   \n",
       "10            0.143765            0.485323  0.089669    0.623721  1.285168   \n",
       "7             0.303310            0.485323  0.185690    0.612213  1.261457   \n",
       "17            0.153059            0.485323  0.093547    0.611184  1.259335   \n",
       "2             0.218656            0.485323  0.120829    0.552599  1.138623   \n",
       "\n",
       "    representativity  leverage  conviction  zhangs_metric   jaccard  \\\n",
       "15               1.0  0.072910    2.093655       0.929861  0.480220   \n",
       "12               1.0  0.072910    3.121351       0.895432  0.480220   \n",
       "1                1.0  0.097104    5.090677       0.768490  0.448720   \n",
       "16               1.0  0.051009  128.140421       0.679090  0.218065   \n",
       "13               1.0  0.058123   97.581188       0.687222  0.248575   \n",
       "6                1.0  0.098884   87.988530       0.740955  0.422475   \n",
       "14               1.0  0.056196    1.857560       0.715724  0.311816   \n",
       "5                1.0  0.056532    1.855702       0.716359  0.313266   \n",
       "11               1.0  0.053020    2.701543       0.672553  0.268093   \n",
       "4                1.0  0.091985    2.434440       0.723314  0.431068   \n",
       "3                1.0  0.077444    2.034086       0.689436  0.380127   \n",
       "9                1.0  0.045614    1.752095       0.585822  0.252434   \n",
       "8                1.0  0.022103    1.425975       0.280974  0.171023   \n",
       "0                1.0  0.035727    1.380288       0.302272  0.272769   \n",
       "10               1.0  0.019897    1.367808       0.259148  0.166233   \n",
       "7                1.0  0.038487    1.327218       0.297500  0.307974   \n",
       "17               1.0  0.019264    1.323704       0.243146  0.171699   \n",
       "2                1.0  0.014710    1.150373       0.155816  0.207201   \n",
       "\n",
       "    certainty  kulczynski  \n",
       "15   0.522366    0.657129  \n",
       "12   0.679626    0.657129  \n",
       "1    0.803562    0.674148  \n",
       "16   0.992196    0.606710  \n",
       "13   0.989752    0.621284  \n",
       "6    0.988635    0.708326  \n",
       "14   0.461659    0.493371  \n",
       "5    0.461120    0.494451  \n",
       "11   0.629841    0.518874  \n",
       "4    0.589228    0.618962  \n",
       "3    0.508379    0.565739  \n",
       "9    0.429255    0.452639  \n",
       "8    0.298725    0.414189  \n",
       "0    0.275513    0.476347  \n",
       "10   0.268903    0.404241  \n",
       "7    0.246544    0.497413  \n",
       "17   0.244544    0.401968  \n",
       "2    0.130716    0.400783  "
      ]
     },
     "execution_count": 328,
     "metadata": {},
     "output_type": "execute_result"
    }
   ],
   "source": [
    "rules_apriori.sort_values(by=\"lift\", axis=0, ascending=False)"
   ]
  },
  {
   "cell_type": "markdown",
   "id": "2a1feaec",
   "metadata": {},
   "source": [
    "### Target Prediction: various attempts (find the most informative one)"
   ]
  },
  {
   "cell_type": "code",
   "execution_count": 329,
   "id": "47410a0a",
   "metadata": {},
   "outputs": [
    {
     "name": "stdout",
     "output_type": "stream",
     "text": [
      "                    antecedents             consequents  antecedent support  \\\n",
      "8       (HighRating, tvEpisode)  (is_from_NorthAmerica)            0.143765   \n",
      "0                 (HighCredits)  (is_from_NorthAmerica)            0.251956   \n",
      "10      (tvEpisode, LowRuntime)  (is_from_NorthAmerica)            0.143765   \n",
      "7                   (tvEpisode)  (is_from_NorthAmerica)            0.303310   \n",
      "17  (tvEpisode, VeryLowRuntime)  (is_from_NorthAmerica)            0.153059   \n",
      "2                  (LowRuntime)  (is_from_NorthAmerica)            0.218656   \n",
      "\n",
      "    consequent support   support  confidence      lift  representativity  \\\n",
      "8             0.485323  0.091876    0.639070  1.316794               1.0   \n",
      "0             0.485323  0.158007    0.627123  1.292178               1.0   \n",
      "10            0.485323  0.089669    0.623721  1.285168               1.0   \n",
      "7             0.485323  0.185690    0.612213  1.261457               1.0   \n",
      "17            0.485323  0.093547    0.611184  1.259335               1.0   \n",
      "2             0.485323  0.120829    0.552599  1.138623               1.0   \n",
      "\n",
      "    leverage  conviction  zhangs_metric   jaccard  certainty  kulczynski  \n",
      "8   0.022103    1.425975       0.280974  0.171023   0.298725    0.414189  \n",
      "0   0.035727    1.380288       0.302272  0.272769   0.275513    0.476347  \n",
      "10  0.019897    1.367808       0.259148  0.166233   0.268903    0.404241  \n",
      "7   0.038487    1.327218       0.297500  0.307974   0.246544    0.497413  \n",
      "17  0.019264    1.323704       0.243146  0.171699   0.244544    0.401968  \n",
      "2   0.014710    1.150373       0.155816  0.207201   0.130716    0.400783  \n"
     ]
    }
   ],
   "source": [
    "# Filtro le regole con \"nord america\" nei consequents\n",
    "rules_north_am = rules_apriori[rules_apriori['consequents'] == frozenset({'is_from_NorthAmerica'})]\n",
    "\n",
    "\n",
    "# Ordina le regole per lift in ordine decrescente\n",
    "rules_north_am_sorted = rules_north_am.sort_values(by='lift', ascending=False)\n",
    "\n",
    "print(rules_north_am_sorted)"
   ]
  },
  {
   "cell_type": "code",
   "execution_count": 330,
   "id": "e2b5a125",
   "metadata": {},
   "outputs": [
    {
     "name": "stdout",
     "output_type": "stream",
     "text": [
      "                antecedents       consequents  antecedent support  \\\n",
      "14  (VeryLowRuntime, short)  (VeryLowCredits)            0.158877   \n",
      "5                   (short)  (VeryLowCredits)            0.160013   \n",
      "\n",
      "    consequent support   support  confidence      lift  representativity  \\\n",
      "14            0.233835  0.093347    0.587542  2.512637               1.0   \n",
      "5             0.233835  0.093949    0.587129  2.510871               1.0   \n",
      "\n",
      "    leverage  conviction  zhangs_metric   jaccard  certainty  kulczynski  \n",
      "14  0.056196    1.857560       0.715724  0.311816   0.461659    0.493371  \n",
      "5   0.056532    1.855702       0.716359  0.313266   0.461120    0.494451  \n"
     ]
    }
   ],
   "source": [
    "# Filtro le regole con \"low runtime\" nei consequents\n",
    "rules_north_am = rules_apriori[rules_apriori['consequents'] == frozenset({'VeryLowCredits'})]\n",
    "\n",
    "# Ordina le regole per lift in ordine decrescente\n",
    "rules_north_am_sorted = rules_north_am.sort_values(by='lift', ascending=False)\n",
    "\n",
    "print(rules_north_am_sorted)"
   ]
  },
  {
   "cell_type": "code",
   "execution_count": 331,
   "id": "6992a3f5",
   "metadata": {},
   "outputs": [
    {
     "name": "stdout",
     "output_type": "stream",
     "text": [
      "                           antecedents  consequents  antecedent support  \\\n",
      "11  (is_from_NorthAmerica, LowRuntime)  (tvEpisode)            0.120829   \n",
      "3                         (LowRuntime)  (tvEpisode)            0.218656   \n",
      "9   (HighRating, is_from_NorthAmerica)  (tvEpisode)            0.152524   \n",
      "\n",
      "    consequent support   support  confidence      lift  representativity  \\\n",
      "11             0.30331  0.089669    0.742114  2.446718               1.0   \n",
      "3              0.30331  0.143765    0.657492  2.167724               1.0   \n",
      "9              0.30331  0.091876    0.602367  1.985980               1.0   \n",
      "\n",
      "    leverage  conviction  zhangs_metric   jaccard  certainty  kulczynski  \n",
      "11  0.053020    2.701543       0.672553  0.268093   0.629841    0.518874  \n",
      "3   0.077444    2.034086       0.689436  0.380127   0.508379    0.565739  \n",
      "9   0.045614    1.752095       0.585822  0.252434   0.429255    0.452639  \n"
     ]
    }
   ],
   "source": [
    "# Filtro le regole con \"low runtime\" nei consequents\n",
    "rules_north_am = rules_apriori[rules_apriori['consequents'] == frozenset({'tvEpisode'})]\n",
    "\n",
    "# Ordina le regole per lift in ordine decrescente\n",
    "rules_north_am_sorted = rules_north_am.sort_values(by='lift', ascending=False)\n",
    "\n",
    "print(rules_north_am_sorted)"
   ]
  },
  {
   "cell_type": "code",
   "execution_count": null,
   "id": "148dabfe",
   "metadata": {},
   "outputs": [],
   "source": []
  }
 ],
 "metadata": {
  "kernelspec": {
   "display_name": "Python 3",
   "language": "python",
   "name": "python3"
  },
  "language_info": {
   "codemirror_mode": {
    "name": "ipython",
    "version": 3
   },
   "file_extension": ".py",
   "mimetype": "text/x-python",
   "name": "python",
   "nbconvert_exporter": "python",
   "pygments_lexer": "ipython3",
   "version": "3.8.2"
  }
 },
 "nbformat": 4,
 "nbformat_minor": 5
}
