{
 "cells": [
  {
   "cell_type": "markdown",
   "id": "2cfa218c",
   "metadata": {},
   "source": [
    "# PATTERN MINING"
   ]
  },
  {
   "cell_type": "code",
   "execution_count": 273,
   "id": "76c01c86",
   "metadata": {},
   "outputs": [],
   "source": [
    "import pandas as pd\n",
    "import seaborn as sns\n",
    "import matplotlib.pyplot as plt\n",
    "from mlxtend.preprocessing import TransactionEncoder\n",
    "from mlxtend.frequent_patterns import apriori, association_rules\n",
    "import numpy as np\n",
    "from mlxtend.frequent_patterns import fpgrowth"
   ]
  },
  {
   "cell_type": "code",
   "execution_count": 274,
   "id": "a576fa9f",
   "metadata": {},
   "outputs": [],
   "source": [
    "train = pd.read_csv('pp_train.csv')\n",
    "test = pd.read_csv('pp_test.csv') \n",
    "#df = pd.concat([train, test], axis=0, ignore_index=True) #abbiamo unito train e test\n",
    "df = train"
   ]
  },
  {
   "cell_type": "code",
   "execution_count": 275,
   "id": "5d4b04ba",
   "metadata": {},
   "outputs": [],
   "source": [
    "#df.info()"
   ]
  },
  {
   "cell_type": "code",
   "execution_count": 276,
   "id": "9f754901",
   "metadata": {},
   "outputs": [
    {
     "data": {
      "text/plain": [
       "Index(['originalTitle', 'rating', 'startYear', 'endYear', 'runtimeMinutes',\n",
       "       'awardWins', 'numVotes', 'totalImages', 'totalVideos', 'totalCredits',\n",
       "       'criticReviewsTotal', 'titleType', 'awardNominationsExcludeWins',\n",
       "       'canHaveEpisodes', 'numRegions', 'userReviewsTotal', 'is_Documentary',\n",
       "       'is_History', 'is_Adventure', 'is_Thriller', 'is_Game-Show',\n",
       "       'is_Comedy', 'is_Sci-Fi', 'is_Romance', 'is_Biography', 'is_Musical',\n",
       "       'is_Western', 'is_Music', 'is_Film-Noir', 'is_Adult', 'is_Reality-TV',\n",
       "       'is_News', 'is_Action', 'is_Crime', 'is_Short', 'is_Fantasy',\n",
       "       'is_Family', 'is_Mystery', 'is_Talk-Show', 'is_Drama', 'is_Sport',\n",
       "       'is_War', 'is_Horror', 'is_Animation', 'fill_runtimeMinutes',\n",
       "       'is_from_Oceania', 'is_from_North America', 'is_from_South America',\n",
       "       'is_from_Asia', 'is_from_Africa', 'is_from_Europe', 'countryOfOrigin',\n",
       "       'countryOfOrigin_freq_enc', 'countryOfOrigin_NA', 'countryOfOrigin_AF',\n",
       "       'countryOfOrigin_AS', 'countryOfOrigin_EU', 'countryOfOrigin_OC',\n",
       "       'countryOfOrigin_SA', 'countryOfOrigin_UNK',\n",
       "       'fill_runtimeMinutes_Bruno', 'totalNominations', 'totalMedia',\n",
       "       'runtimeMinutes_notitletype', 'outlier_no_type',\n",
       "       'runtimeMinutes_notitletype_imputed_no_type', 'outlier_w_type',\n",
       "       'fill_runtimeMinutes_Bruno_imputed_w_type'],\n",
       "      dtype='object')"
      ]
     },
     "execution_count": 276,
     "metadata": {},
     "output_type": "execute_result"
    }
   ],
   "source": [
    "df.columns"
   ]
  },
  {
   "cell_type": "code",
   "execution_count": 277,
   "id": "f2c236e3",
   "metadata": {},
   "outputs": [],
   "source": [
    "df = df[df[\"outlier_w_type\"] != True]"
   ]
  },
  {
   "cell_type": "code",
   "execution_count": 278,
   "id": "d7ddece6",
   "metadata": {},
   "outputs": [
    {
     "name": "stdout",
     "output_type": "stream",
     "text": [
      "<class 'pandas.core.frame.DataFrame'>\n",
      "Index: 15835 entries, 0 to 16130\n",
      "Data columns (total 68 columns):\n",
      " #   Column                                      Non-Null Count  Dtype  \n",
      "---  ------                                      --------------  -----  \n",
      " 0   originalTitle                               15835 non-null  object \n",
      " 1   rating                                      15835 non-null  int64  \n",
      " 2   startYear                                   15835 non-null  int64  \n",
      " 3   endYear                                     15085 non-null  float64\n",
      " 4   runtimeMinutes                              11251 non-null  float64\n",
      " 5   awardWins                                   15835 non-null  float64\n",
      " 6   numVotes                                    15835 non-null  int64  \n",
      " 7   totalImages                                 15835 non-null  int64  \n",
      " 8   totalVideos                                 15835 non-null  int64  \n",
      " 9   totalCredits                                15835 non-null  int64  \n",
      " 10  criticReviewsTotal                          15835 non-null  int64  \n",
      " 11  titleType                                   15835 non-null  object \n",
      " 12  awardNominationsExcludeWins                 15835 non-null  int64  \n",
      " 13  canHaveEpisodes                             15835 non-null  bool   \n",
      " 14  numRegions                                  15835 non-null  int64  \n",
      " 15  userReviewsTotal                            15835 non-null  int64  \n",
      " 16  is_Documentary                              15835 non-null  int64  \n",
      " 17  is_History                                  15835 non-null  int64  \n",
      " 18  is_Adventure                                15835 non-null  int64  \n",
      " 19  is_Thriller                                 15835 non-null  int64  \n",
      " 20  is_Game-Show                                15835 non-null  int64  \n",
      " 21  is_Comedy                                   15835 non-null  int64  \n",
      " 22  is_Sci-Fi                                   15835 non-null  int64  \n",
      " 23  is_Romance                                  15835 non-null  int64  \n",
      " 24  is_Biography                                15835 non-null  int64  \n",
      " 25  is_Musical                                  15835 non-null  int64  \n",
      " 26  is_Western                                  15835 non-null  int64  \n",
      " 27  is_Music                                    15835 non-null  int64  \n",
      " 28  is_Film-Noir                                15835 non-null  int64  \n",
      " 29  is_Adult                                    15835 non-null  int64  \n",
      " 30  is_Reality-TV                               15835 non-null  int64  \n",
      " 31  is_News                                     15835 non-null  int64  \n",
      " 32  is_Action                                   15835 non-null  int64  \n",
      " 33  is_Crime                                    15835 non-null  int64  \n",
      " 34  is_Short                                    15835 non-null  int64  \n",
      " 35  is_Fantasy                                  15835 non-null  int64  \n",
      " 36  is_Family                                   15835 non-null  int64  \n",
      " 37  is_Mystery                                  15835 non-null  int64  \n",
      " 38  is_Talk-Show                                15835 non-null  int64  \n",
      " 39  is_Drama                                    15835 non-null  int64  \n",
      " 40  is_Sport                                    15835 non-null  int64  \n",
      " 41  is_War                                      15835 non-null  int64  \n",
      " 42  is_Horror                                   15835 non-null  int64  \n",
      " 43  is_Animation                                15835 non-null  int64  \n",
      " 44  fill_runtimeMinutes                         15835 non-null  float64\n",
      " 45  is_from_Oceania                             15835 non-null  int64  \n",
      " 46  is_from_North America                       15835 non-null  int64  \n",
      " 47  is_from_South America                       15835 non-null  int64  \n",
      " 48  is_from_Asia                                15835 non-null  int64  \n",
      " 49  is_from_Africa                              15835 non-null  int64  \n",
      " 50  is_from_Europe                              15835 non-null  int64  \n",
      " 51  countryOfOrigin                             15835 non-null  object \n",
      " 52  countryOfOrigin_freq_enc                    15835 non-null  float64\n",
      " 53  countryOfOrigin_NA                          15835 non-null  int64  \n",
      " 54  countryOfOrigin_AF                          15835 non-null  int64  \n",
      " 55  countryOfOrigin_AS                          15835 non-null  int64  \n",
      " 56  countryOfOrigin_EU                          15835 non-null  int64  \n",
      " 57  countryOfOrigin_OC                          15835 non-null  int64  \n",
      " 58  countryOfOrigin_SA                          15835 non-null  int64  \n",
      " 59  countryOfOrigin_UNK                         15835 non-null  int64  \n",
      " 60  fill_runtimeMinutes_Bruno                   15835 non-null  float64\n",
      " 61  totalNominations                            15835 non-null  float64\n",
      " 62  totalMedia                                  15835 non-null  int64  \n",
      " 63  runtimeMinutes_notitletype                  15835 non-null  float64\n",
      " 64  outlier_no_type                             15835 non-null  bool   \n",
      " 65  runtimeMinutes_notitletype_imputed_no_type  15835 non-null  float64\n",
      " 66  outlier_w_type                              15835 non-null  bool   \n",
      " 67  fill_runtimeMinutes_Bruno_imputed_w_type    15835 non-null  float64\n",
      "dtypes: bool(3), float64(10), int64(52), object(3)\n",
      "memory usage: 8.0+ MB\n"
     ]
    }
   ],
   "source": [
    "df.info()"
   ]
  },
  {
   "cell_type": "markdown",
   "id": "8ed22a68",
   "metadata": {},
   "source": [
    "## Gestione variabili "
   ]
  },
  {
   "cell_type": "markdown",
   "id": "3163d36b",
   "metadata": {},
   "source": [
    "### Osservare la distribuzione delle numeriche per binning"
   ]
  },
  {
   "cell_type": "code",
   "execution_count": null,
   "id": "79e5c52d",
   "metadata": {},
   "outputs": [
    {
     "data": {
      "text/plain": [
       "count     15835.000000\n",
       "mean       1436.807010\n",
       "std       19140.692605\n",
       "min           5.000000\n",
       "25%          15.000000\n",
       "50%          36.000000\n",
       "75%         149.000000\n",
       "max      966565.000000\n",
       "Name: numVotes, dtype: float64"
      ]
     },
     "execution_count": 279,
     "metadata": {},
     "output_type": "execute_result"
    }
   ],
   "source": [
    "# df['startYear'].describe()\n",
    "#df['totalNominations'].describe()\n",
    "#df['fill_runtimeMinutes_Bruno'].describe()\n",
    "# df['totalMedia'].describe()\n",
    "#df['numVotes'].describe()\n",
    "# df['totalCredits'].describe()\n",
    "# df['criticReviewsTotal'].describe()\n",
    "# df['numRegions'].describe()\n",
    "# df['userReviewsTotal'].describe()\n",
    "# df['rating'].describe()"
   ]
  },
  {
   "cell_type": "markdown",
   "id": "cc7cc7be",
   "metadata": {},
   "source": [
    "### Trasformazione binaria con valori semanticamente significativi\n",
    "#### episodes"
   ]
  },
  {
   "cell_type": "code",
   "execution_count": 280,
   "id": "e042ef05",
   "metadata": {},
   "outputs": [
    {
     "name": "stderr",
     "output_type": "stream",
     "text": [
      "C:\\Users\\Gagia\\AppData\\Local\\Temp\\ipykernel_11580\\2497733362.py:1: SettingWithCopyWarning: \n",
      "A value is trying to be set on a copy of a slice from a DataFrame.\n",
      "Try using .loc[row_indexer,col_indexer] = value instead\n",
      "\n",
      "See the caveats in the documentation: https://pandas.pydata.org/pandas-docs/stable/user_guide/indexing.html#returning-a-view-versus-a-copy\n",
      "  df[\"canHaveEpisodes\"] = df[\"canHaveEpisodes\"].astype(int)\n",
      "C:\\Users\\Gagia\\AppData\\Local\\Temp\\ipykernel_11580\\2497733362.py:3: SettingWithCopyWarning: \n",
      "A value is trying to be set on a copy of a slice from a DataFrame.\n",
      "Try using .loc[row_indexer,col_indexer] = value instead\n",
      "\n",
      "See the caveats in the documentation: https://pandas.pydata.org/pandas-docs/stable/user_guide/indexing.html#returning-a-view-versus-a-copy\n",
      "  df[\"canHaveEpisodes\"] = df[\"canHaveEpisodes\"].map(canhaveeps_dict)\n"
     ]
    },
    {
     "data": {
      "text/plain": [
       "0        cant_have_episodes\n",
       "1        cant_have_episodes\n",
       "2         can_have_episodes\n",
       "3         can_have_episodes\n",
       "4        cant_have_episodes\n",
       "                ...        \n",
       "16126    cant_have_episodes\n",
       "16127    cant_have_episodes\n",
       "16128    cant_have_episodes\n",
       "16129    cant_have_episodes\n",
       "16130    cant_have_episodes\n",
       "Name: canHaveEpisodes, Length: 15835, dtype: object"
      ]
     },
     "execution_count": 280,
     "metadata": {},
     "output_type": "execute_result"
    }
   ],
   "source": [
    "df[\"canHaveEpisodes\"] = df[\"canHaveEpisodes\"].astype(int)\n",
    "canhaveeps_dict = {0: \"cant_have_episodes\", 1: \"can_have_episodes\"}\n",
    "df[\"canHaveEpisodes\"] = df[\"canHaveEpisodes\"].map(canhaveeps_dict)\n",
    "df[\"canHaveEpisodes\"]"
   ]
  },
  {
   "cell_type": "markdown",
   "id": "60d775da",
   "metadata": {},
   "source": [
    "### Handling of numerical attributes\n",
    "Delle seguenti variabili: 'rating', 'startYear', 'numVotes', 'totalCredits', 'criticReviewsTotal', 'numRegions', 'userReviewsTotal',\n",
    "    'countryOfOrigin_freq_enc',\n",
    "       'countryOfOrigin_NA', 'countryOfOrigin_AF', 'countryOfOrigin_AS',\n",
    "       'countryOfOrigin_EU', 'countryOfOrigin_OC', 'countryOfOrigin_SA',\n",
    "       'countryOfOrigin_UNK'\n",
    "       'fill_runtimeMinutes_Bruno', 'totalNominations',\n",
    "       'totalMedia'"
   ]
  },
  {
   "cell_type": "code",
   "execution_count": 281,
   "id": "696a72e4",
   "metadata": {},
   "outputs": [],
   "source": [
    "df_copy = df.copy()"
   ]
  },
  {
   "cell_type": "markdown",
   "id": "8f306dc5",
   "metadata": {},
   "source": [
    "##### TotalNominations"
   ]
  },
  {
   "cell_type": "code",
   "execution_count": 282,
   "id": "5a0bf0ae",
   "metadata": {},
   "outputs": [],
   "source": [
    "# df_copy[\"log_totalNominations\"] = np.log1p(df[\"totalNominations\"])"
   ]
  },
  {
   "cell_type": "code",
   "execution_count": 283,
   "id": "d4effb5f",
   "metadata": {},
   "outputs": [],
   "source": [
    "# #TOTALNOMINATIONS LOG-TRANSFORMED\n",
    "# log_bins = [-0.01, 0, np.log(5), np.log(20), df_copy['log_totalNominations'].max()]\n",
    "# labels = ['ZeroNom', 'LowNom', 'MediumNom', 'VeryHighNom']\n",
    "\n",
    "# df_copy['log_nom_bin_cut'] = pd.cut(df_copy['log_totalNominations'], \n",
    "#                                 bins=log_bins, \n",
    "#                                 labels=labels)\n",
    "\n",
    "# print(df_copy.groupby('log_nom_bin_cut')['totalNominations'].describe())"
   ]
  },
  {
   "cell_type": "code",
   "execution_count": 284,
   "id": "0247510d",
   "metadata": {},
   "outputs": [
    {
     "name": "stdout",
     "output_type": "stream",
     "text": [
      "                        count       mean        std   min   25%   50%   75%  \\\n",
      "totalNominations_bin                                                          \n",
      "ZeroNom               13177.0   0.000000   0.000000   0.0   0.0   0.0   0.0   \n",
      "LowNom                 1477.0   1.335816   0.472435   1.0   1.0   1.0   2.0   \n",
      "MediumNom               874.0   5.099542   2.054342   3.0   3.0   4.0   6.0   \n",
      "VeryHighNom             307.0  29.231270  32.890320  11.0  13.0  17.0  29.0   \n",
      "\n",
      "                        max  \n",
      "totalNominations_bin         \n",
      "ZeroNom                 0.0  \n",
      "LowNom                  2.0  \n",
      "MediumNom              10.0  \n",
      "VeryHighNom           306.0  \n"
     ]
    }
   ],
   "source": [
    "#TOTALNOMINATIONS NON LOG-TRANSFORMED   \n",
    "bins = [-1, 0, 2, 10, df_copy['totalNominations'].max()]\n",
    "labels = ['ZeroNom', 'LowNom', 'MediumNom', 'VeryHighNom']\n",
    "\n",
    "df_copy['totalNominations_bin'] = pd.cut(df_copy['totalNominations'], \n",
    "                                bins=bins, \n",
    "                                labels=labels)\n",
    "\n",
    "print(df_copy.groupby('totalNominations_bin')['totalNominations'].describe())"
   ]
  },
  {
   "cell_type": "markdown",
   "id": "c833fae1",
   "metadata": {},
   "source": [
    "##### TotalMedia"
   ]
  },
  {
   "cell_type": "code",
   "execution_count": 285,
   "id": "b90d9794",
   "metadata": {},
   "outputs": [],
   "source": [
    "# df_copy[\"log_totalMedia\"] = np.log1p(df[\"totalMedia\"])"
   ]
  },
  {
   "cell_type": "code",
   "execution_count": 286,
   "id": "e4fbb6e7",
   "metadata": {},
   "outputs": [
    {
     "name": "stdout",
     "output_type": "stream",
     "text": [
      "                count        mean         std   min   25%   50%    75%     max\n",
      "media_bin                                                                     \n",
      "ZeroMedia      3167.0    0.000000    0.000000   0.0   0.0   0.0    0.0     0.0\n",
      "LowMedia       4607.0    1.000000    0.000000   1.0   1.0   1.0    1.0     1.0\n",
      "MediumMedia    4940.0    3.861134    1.920507   2.0   2.0   3.0    5.0     8.0\n",
      "HighMedia      2455.0   19.383299   10.381405   9.0  11.0  16.0   25.0    50.0\n",
      "VeryHighMedia   666.0  173.623123  328.760704  51.0  67.0  90.0  145.0  3516.0\n"
     ]
    }
   ],
   "source": [
    "#TOTALMEDIA NON LOG-TRANSFORMED\n",
    "bins = [-1, 0, 1, 8, 50, df_copy['totalMedia'].max()]\n",
    "labels = ['ZeroMedia', 'LowMedia', 'MediumMedia', 'HighMedia', 'VeryHighMedia']\n",
    "df_copy['media_bin'] = pd.cut(df_copy['totalMedia'], bins=bins, labels=labels)\n",
    "\n",
    "print(df_copy.groupby('media_bin')['totalMedia'].describe())"
   ]
  },
  {
   "cell_type": "code",
   "execution_count": 287,
   "id": "d92d6f02",
   "metadata": {},
   "outputs": [],
   "source": [
    "# #TOTALMEDIA LOG-TRANSFORMED\n",
    "# log_bins = [-1, 0, 1.61, 3.1, 4.0, np.log(df_copy['totalMedia'].max())]\n",
    "# labels = ['ZeroMedia', 'LowMedia', 'MediumMedia', 'HighMedia', 'VeryHighMedia']\n",
    "# df_copy['log_media_bin'] = pd.cut(df_copy['totalMedia'], bins=log_bins, labels=labels)\n",
    "\n",
    "# print(df_copy.groupby('log_media_bin')['totalMedia'].describe())"
   ]
  },
  {
   "cell_type": "markdown",
   "id": "1d7742b9",
   "metadata": {},
   "source": [
    "##### fill_runtimeMinutes_Bruno"
   ]
  },
  {
   "cell_type": "code",
   "execution_count": 288,
   "id": "6cde13a3",
   "metadata": {},
   "outputs": [],
   "source": [
    "# df_copy[\"log_fill_runtimeMinutes_Bruno\"] = np.log1p(df[\"fill_runtimeMinutes_Bruno\"])"
   ]
  },
  {
   "cell_type": "code",
   "execution_count": 289,
   "id": "0b5a0207",
   "metadata": {},
   "outputs": [
    {
     "name": "stdout",
     "output_type": "stream",
     "text": [
      "                 count        mean        std   min   25%    50%    75%    max\n",
      "runtime_bin                                                                   \n",
      "VeryLowRuntime  5486.0   20.228582   8.803987   3.0  12.0   23.0   30.0   30.0\n",
      "LowRuntime      3683.0   48.884605   7.397754  31.0  43.0   47.0   55.5   60.0\n",
      "MediumRuntime   3559.0   81.906434   7.984489  61.0  77.0   85.0   89.0   90.0\n",
      "HighRuntime     3107.0  106.042807  16.336640  91.0  95.0  100.0  111.0  170.0\n"
     ]
    }
   ],
   "source": [
    "#FILL_RUNTIMEMINS_BRUNO NON LOG-TRANSFORMED\n",
    "bins = [0, 30, 60, 90, df_copy['fill_runtimeMinutes_Bruno'].max()]\n",
    "labels = ['VeryLowRuntime', 'LowRuntime', 'MediumRuntime', 'HighRuntime']\n",
    "\n",
    "df_copy['runtime_bin'] = pd.cut(df_copy['fill_runtimeMinutes_Bruno'], bins=bins, labels=labels)\n",
    "print(df_copy.groupby('runtime_bin')['fill_runtimeMinutes_Bruno'].describe())"
   ]
  },
  {
   "cell_type": "code",
   "execution_count": 290,
   "id": "8940dcae",
   "metadata": {},
   "outputs": [],
   "source": [
    "# #FILL_RUNTIMEMINS_BRUNO LOG-TRANSFORMED\n",
    "# bins = [-np.inf, 2.0, 3.5, 4.5, 5.5, np.inf]\n",
    "# labels = ['VeryLowRuntime', 'LowRuntime', 'MediumRuntime', 'HighRuntime', 'VeryHighRuntime']\n",
    "\n",
    "# df_copy['log_runtime_bin'] = pd.cut(\n",
    "#     df_copy['log_fill_runtimeMinutes_Bruno'],\n",
    "#     bins=bins,\n",
    "#     labels=labels,\n",
    "#     ordered=True)\n",
    "\n",
    "# print(df_copy.groupby('log_runtime_bin')['fill_runtimeMinutes_Bruno'].describe())"
   ]
  },
  {
   "cell_type": "markdown",
   "id": "7118ec87",
   "metadata": {},
   "source": [
    "##### rating"
   ]
  },
  {
   "cell_type": "code",
   "execution_count": 291,
   "id": "75d4b05e",
   "metadata": {},
   "outputs": [
    {
     "name": "stdout",
     "output_type": "stream",
     "text": [
      "rating_bin\n",
      "HighRating        4649\n",
      "MediumRating      4407\n",
      "LowRating         4227\n",
      "VeryHighRating    2336\n",
      "VeryLowRating      216\n",
      "Name: count, dtype: int64\n",
      "                 count      mean       std  min  25%  50%  75%   max\n",
      "rating_bin                                                          \n",
      "VeryLowRating    216.0  2.675926  0.516314  1.0  2.0  3.0  3.0   3.0\n",
      "LowRating       4227.0  5.526851  0.680278  4.0  5.0  6.0  6.0   6.0\n",
      "MediumRating    4407.0  7.000000  0.000000  7.0  7.0  7.0  7.0   7.0\n",
      "HighRating      4649.0  8.000000  0.000000  8.0  8.0  8.0  8.0   8.0\n",
      "VeryHighRating  2336.0  9.143836  0.350998  9.0  9.0  9.0  9.0  10.0\n"
     ]
    }
   ],
   "source": [
    "#RATING \n",
    "bins = [-1, 3, 6, 7, 8, df_copy['rating'].max()]\n",
    "labels = ['VeryLowRating', 'LowRating', 'MediumRating', 'HighRating', \"VeryHighRating\"]\n",
    "df_copy['rating_bin'] = pd.cut(df_copy['rating'], bins=bins, labels=labels)\n",
    "\n",
    "print(df_copy['rating_bin'].value_counts())\n",
    "print(df_copy.groupby('rating_bin')['rating'].describe())"
   ]
  },
  {
   "cell_type": "markdown",
   "id": "ad7cfcac",
   "metadata": {},
   "source": [
    "##### numVotes   >>> max è sgravato"
   ]
  },
  {
   "cell_type": "code",
   "execution_count": 292,
   "id": "23c1a18c",
   "metadata": {},
   "outputs": [],
   "source": [
    "# df_copy[\"log_numVotes\"] = np.log1p(df[\"numVotes\"])"
   ]
  },
  {
   "cell_type": "code",
   "execution_count": 293,
   "id": "85b5da11",
   "metadata": {},
   "outputs": [],
   "source": [
    "# #NUMVOTES LOG-TRANSFORMED\n",
    "# bins = [-np.inf, 2.7, 3.9, 5.0, 8.0, np.inf]\n",
    "# labels = ['VeryLowVotes', 'LowVotes', 'MediumVotes', 'HighVotes', 'VeryHighVotes']\n",
    "\n",
    "# # Applicazione\n",
    "# df_copy['log_numvotes_bin'] = pd.cut(\n",
    "#     df_copy['log_numVotes'],\n",
    "#     bins=bins,\n",
    "#     labels=labels\n",
    "# )\n",
    "\n",
    "# print(df_copy.groupby('log_numvotes_bin')['numVotes'].describe())"
   ]
  },
  {
   "cell_type": "code",
   "execution_count": 294,
   "id": "1eef9d03",
   "metadata": {},
   "outputs": [
    {
     "name": "stdout",
     "output_type": "stream",
     "text": [
      "                count          mean           std     min      25%     50%  \\\n",
      "numVotes_bin                                                                 \n",
      "VeryLowVotes   4245.0     10.015077      2.894510     5.0     8.00    10.0   \n",
      "LowVotes       4758.0     28.292140      9.617380    16.0    20.00    26.0   \n",
      "MediumVotes    2895.0     90.075648     27.659511    51.0    66.00    85.0   \n",
      "HighVotes      2755.0    394.178221    221.811792   151.0   214.00   324.0   \n",
      "VeryHighVotes  1182.0  17959.374788  67943.642291  1001.0  1544.25  2793.0   \n",
      "\n",
      "                   75%       max  \n",
      "numVotes_bin                      \n",
      "VeryLowVotes     12.00      15.0  \n",
      "LowVotes         35.00      50.0  \n",
      "MediumVotes     111.00     150.0  \n",
      "HighVotes       523.00     997.0  \n",
      "VeryHighVotes  6395.75  966565.0  \n"
     ]
    }
   ],
   "source": [
    "#NUMVOTES NON LOG-TRANSFORMED\n",
    "labels = ['VeryLowVotes', 'LowVotes', 'MediumVotes', 'HighVotes', 'VeryHighVotes']\n",
    "bins = [4, 15, 50, 150, 1000, float('inf')]  # include il min=5 e max=1.071.372\n",
    "\n",
    "df_copy['numVotes_bin'] = pd.cut(df['numVotes'], bins=bins, labels=labels, include_lowest=True)\n",
    "print(df_copy.groupby('numVotes_bin')['numVotes'].describe())"
   ]
  },
  {
   "cell_type": "markdown",
   "id": "acb00d92",
   "metadata": {},
   "source": [
    "##### StartYear"
   ]
  },
  {
   "cell_type": "code",
   "execution_count": 295,
   "id": "6cd220b5",
   "metadata": {},
   "outputs": [
    {
     "name": "stdout",
     "output_type": "stream",
     "text": [
      "                count         mean        std     min     25%     50%     75%  \\\n",
      "startYear_bin                                                                   \n",
      "pre-1930        470.0  1916.208511  10.673040  1894.0  1909.0  1918.0  1926.0   \n",
      "1930-1954      1045.0  1943.941627   7.456736  1931.0  1937.0  1944.0  1951.0   \n",
      "1955-1979      2902.0  1969.411440   6.916470  1956.0  1964.0  1970.0  1975.0   \n",
      "1980-1999      4306.0  1991.333953   5.386475  1981.0  1987.0  1992.0  1996.0   \n",
      "2000-2019      3981.0  2008.988948   4.125528  2001.0  2006.0  2009.0  2012.0   \n",
      "post-2020      3130.0  2019.530990   2.390557  2016.0  2017.0  2019.0  2022.0   \n",
      "\n",
      "                  max  \n",
      "startYear_bin          \n",
      "pre-1930       1930.0  \n",
      "1930-1954      1955.0  \n",
      "1955-1979      1980.0  \n",
      "1980-1999      1999.0  \n",
      "2000-2019      2015.0  \n",
      "post-2020      2024.0  \n"
     ]
    }
   ],
   "source": [
    "#STARTYEAR\n",
    "bins =[\n",
    "    1878,  # Cinema delle origini e muto\n",
    "    1930,  # Cinema sonoro classico e radio\n",
    "    1955,  # TV B/N e colore, cinema widescreen\n",
    "    1980,  # Video domestico e media transazionali\n",
    "    2000,  # DVD, internet e mobile\n",
    "    2015,  # Streaming integrato e nuovi media\n",
    "    df_copy['startYear'].max()] #era corrente\n",
    "labels = ['pre-1930', '1930-1954', '1955-1979', '1980-1999', '2000-2019', 'post-2020']\n",
    "df_copy['startYear_bin'] = pd.cut(df_copy['startYear'], bins=bins, labels=labels)\n",
    "\n",
    "print(df_copy.groupby('startYear_bin')['startYear'].describe())"
   ]
  },
  {
   "cell_type": "markdown",
   "id": "7171b585",
   "metadata": {},
   "source": [
    "##### totalCredits"
   ]
  },
  {
   "cell_type": "code",
   "execution_count": 296,
   "id": "0335fa18",
   "metadata": {},
   "outputs": [],
   "source": [
    "# df_copy[\"log_totalCredits\"] = np.log1p(df[\"totalCredits\"])"
   ]
  },
  {
   "cell_type": "code",
   "execution_count": 297,
   "id": "2a648f87",
   "metadata": {},
   "outputs": [],
   "source": [
    "# #TOTALCREDITS LOG-TRANSFORMED\n",
    "# bins = [-np.inf, 2.0, 3.0, 4.2, 6.0, np.inf]\n",
    "# labels = ['VeryLowCredits', 'LowCredits', 'MediumCredits', 'HighCredits', 'VeryHighCredits']\n",
    "\n",
    "# df_copy['log_totalCredits_bin'] = pd.cut(df_copy['log_totalCredits'], bins=bins, labels=labels)"
   ]
  },
  {
   "cell_type": "code",
   "execution_count": 298,
   "id": "d922877a",
   "metadata": {},
   "outputs": [],
   "source": [
    "# print(df_copy.groupby('log_totalCredits_bin')['totalCredits'].describe())"
   ]
  },
  {
   "cell_type": "code",
   "execution_count": 299,
   "id": "f2ddb706",
   "metadata": {},
   "outputs": [],
   "source": [
    "#TOTALCREDITS NON LOG-TRANSFORMED\n",
    "labels = ['VeryLowCredits', 'LowCredits', 'MediumCredits', 'HighCredits', 'VeryHighCredits']\n",
    "bins = [-1, 15, 35, 65, 200, float('inf')]\n",
    "\n",
    "df_copy['totalCredits_bin'] = pd.cut(df['totalCredits'], bins=bins, labels=labels, include_lowest=True)"
   ]
  },
  {
   "cell_type": "code",
   "execution_count": 300,
   "id": "26b87880",
   "metadata": {},
   "outputs": [
    {
     "name": "stdout",
     "output_type": "stream",
     "text": [
      "                   count        mean         std    min    25%    50%    75%  \\\n",
      "totalCredits_bin                                                               \n",
      "VeryLowCredits    3668.0    8.383860    4.285984    0.0    5.0    9.0   12.0   \n",
      "LowCredits        4337.0   24.867189    5.740336   16.0   20.0   25.0   30.0   \n",
      "MediumCredits     3842.0   48.485424    8.376578   36.0   41.0   48.0   55.0   \n",
      "HighCredits       3292.0  107.223876   35.110417   66.0   78.0   98.0  130.0   \n",
      "VeryHighCredits    696.0  440.159483  724.402767  201.0  234.0  287.5  418.0   \n",
      "\n",
      "                      max  \n",
      "totalCredits_bin           \n",
      "VeryLowCredits       15.0  \n",
      "LowCredits           35.0  \n",
      "MediumCredits        65.0  \n",
      "HighCredits         200.0  \n",
      "VeryHighCredits   15742.0  \n"
     ]
    }
   ],
   "source": [
    "print(df_copy.groupby('totalCredits_bin')['totalCredits'].describe())"
   ]
  },
  {
   "cell_type": "markdown",
   "id": "d763024d",
   "metadata": {},
   "source": [
    "##### criticReviewsTotal"
   ]
  },
  {
   "cell_type": "code",
   "execution_count": 301,
   "id": "a236ddc9",
   "metadata": {},
   "outputs": [],
   "source": [
    "# df_copy[\"log_criticReviewsTotal\"] = np.log1p(df[\"criticReviewsTotal\"])"
   ]
  },
  {
   "cell_type": "code",
   "execution_count": 302,
   "id": "63c52e95",
   "metadata": {},
   "outputs": [],
   "source": [
    "# #CRITICREVIEWS LOG-TRANSFORMED\n",
    "# bins = [-0.01, 0.0, 1.4, 2.3, 3.4, 4.6, np.inf]\n",
    "# labels = [\n",
    "#     'NoCriticReviews',\n",
    "#     'FewCriticReviews',\n",
    "#     'ModerateCriticReviews',\n",
    "#     'ManyCriticReviews',\n",
    "#     'VeryHighCriticReviews',\n",
    "#     'ExtensiveCriticReviews'\n",
    "# ]\n",
    "\n",
    "# df_copy['log_criticReviewsTotal_bin'] = pd.cut(\n",
    "#     df_copy['log_criticReviewsTotal'],\n",
    "#     bins=bins,\n",
    "#     labels=labels\n",
    "# )"
   ]
  },
  {
   "cell_type": "code",
   "execution_count": 303,
   "id": "af978484",
   "metadata": {},
   "outputs": [],
   "source": [
    "# print(df_copy.groupby('log_criticReviewsTotal_bin')['criticReviewsTotal'].describe())"
   ]
  },
  {
   "cell_type": "code",
   "execution_count": 304,
   "id": "4f1725d0",
   "metadata": {},
   "outputs": [
    {
     "name": "stdout",
     "output_type": "stream",
     "text": [
      "                          count        mean        std   min   25%   50%  \\\n",
      "criticReviewsTotal_bin                                                     \n",
      "NoCriticReviews         10985.0    0.000000   0.000000   0.0   0.0   0.0   \n",
      "FewCriticReviews         1858.0    1.000000   0.000000   1.0   1.0   1.0   \n",
      "ModerateCriticReviews    1665.0    2.974775   1.063190   2.0   2.0   3.0   \n",
      "ManyCriticReviews         889.0   10.268841   3.909844   6.0   7.0   9.0   \n",
      "VeryHighCriticReviews     235.0   29.676596   6.809816  21.0  24.0  28.0   \n",
      "ExtensiveCriticReviews    203.0  106.783251  79.406538  46.0  56.0  78.0   \n",
      "\n",
      "                          75%    max  \n",
      "criticReviewsTotal_bin                \n",
      "NoCriticReviews           0.0    0.0  \n",
      "FewCriticReviews          1.0    1.0  \n",
      "ModerateCriticReviews     4.0    5.0  \n",
      "ManyCriticReviews        13.0   20.0  \n",
      "VeryHighCriticReviews    35.0   45.0  \n",
      "ExtensiveCriticReviews  122.5  533.0  \n"
     ]
    }
   ],
   "source": [
    "#CRITICREVIEWS NON LOG-TRANSFORMED\n",
    "labels = [\n",
    "    'NoCriticReviews',\n",
    "    'FewCriticReviews',\n",
    "    'ModerateCriticReviews',\n",
    "    'ManyCriticReviews',\n",
    "    'VeryHighCriticReviews',\n",
    "    'ExtensiveCriticReviews'\n",
    "]\n",
    "bins = [-1, 0, 1, 5, 20, 45, float('inf')]\n",
    "\n",
    "df_copy['criticReviewsTotal_bin'] = pd.cut(df['criticReviewsTotal'], bins=bins, labels=labels, include_lowest=True)\n",
    "print(df_copy.groupby('criticReviewsTotal_bin')['criticReviewsTotal'].describe())"
   ]
  },
  {
   "cell_type": "markdown",
   "id": "52fbb1cf",
   "metadata": {},
   "source": [
    "##### numRegions"
   ]
  },
  {
   "cell_type": "code",
   "execution_count": 305,
   "id": "80325e95",
   "metadata": {},
   "outputs": [],
   "source": [
    "# df_copy[\"log_numRegions\"] = np.log1p(df[\"numRegions\"])"
   ]
  },
  {
   "cell_type": "code",
   "execution_count": 306,
   "id": "69c6699e",
   "metadata": {},
   "outputs": [],
   "source": [
    "# #NUMREGIONS LOG-TRANSFORMED\n",
    "# bins = [-np.inf, 1.2, 2.0, 3.2, np.inf]\n",
    "# labels = ['VeryFewRegions', 'ModerateRegions', 'ManyRegions', 'GlobalRegions']\n",
    "\n",
    "# # Applicazione\n",
    "# df_copy['log_numRegions_bin'] = pd.cut(\n",
    "#     df_copy['log_numRegions'],\n",
    "#     bins=bins,\n",
    "#     labels=labels\n",
    "# )"
   ]
  },
  {
   "cell_type": "code",
   "execution_count": 307,
   "id": "9283a408",
   "metadata": {},
   "outputs": [],
   "source": [
    "# print(df_copy.groupby('log_numRegions_bin')['numRegions'].describe())"
   ]
  },
  {
   "cell_type": "code",
   "execution_count": 308,
   "id": "074d6c2f",
   "metadata": {},
   "outputs": [
    {
     "name": "stdout",
     "output_type": "stream",
     "text": [
      "                  count       mean       std  min   25%   50%   75%   max\n",
      "numRegions_bin                                                           \n",
      "VeryFewRegions   9221.0   1.000000  0.000000  1.0   1.0   1.0   1.0   1.0\n",
      "ModerateRegions  2653.0   2.318884  0.466132  2.0   2.0   2.0   3.0   3.0\n",
      "ManyRegions      2468.0   5.702188  1.361660  4.0   4.0   6.0   7.0   8.0\n",
      "GlobalRegions    1493.0  18.230409  9.805711  9.0  11.0  15.0  22.0  62.0\n"
     ]
    }
   ],
   "source": [
    "#NUMREGIONS NON LOG-TRANSFORMED\n",
    "labels = ['VeryFewRegions', 'ModerateRegions', 'ManyRegions', 'GlobalRegions']\n",
    "bins = [0, 1, 3, 8, float('inf')]\n",
    "\n",
    "df_copy['numRegions_bin'] = pd.cut(df['numRegions'], bins=bins, labels=labels, include_lowest=True)\n",
    "print(df_copy.groupby('numRegions_bin')['numRegions'].describe())\n"
   ]
  },
  {
   "cell_type": "markdown",
   "id": "2c04a4d8",
   "metadata": {},
   "source": [
    "##### userReviewsTotal"
   ]
  },
  {
   "cell_type": "code",
   "execution_count": 309,
   "id": "9adc0297",
   "metadata": {},
   "outputs": [],
   "source": [
    "# df_copy[\"log_userReviewsTotal\"] = np.log1p(df[\"userReviewsTotal\"])"
   ]
  },
  {
   "cell_type": "code",
   "execution_count": 310,
   "id": "93fd2435",
   "metadata": {},
   "outputs": [],
   "source": [
    "# #USERREVIEWSTOTAL LOG-TRANSFORMED\n",
    "# bins = [-0.01, 0.0, 2.8, 5.0, np.inf]\n",
    "# labels = ['NoUserReviews', 'FewUserReviews', 'ManyUserReviews', 'VeryManyUserReviews']\n",
    "\n",
    "# # Applicazione\n",
    "# df_copy['log_userReviewsTotal_bin'] = pd.cut(\n",
    "#     df_copy['log_userReviewsTotal'],\n",
    "#     bins=bins,\n",
    "#     labels=labels)"
   ]
  },
  {
   "cell_type": "code",
   "execution_count": 311,
   "id": "ec5badb6",
   "metadata": {},
   "outputs": [],
   "source": [
    "# print(df_copy.groupby('log_userReviewsTotal_bin')['userReviewsTotal'].describe())"
   ]
  },
  {
   "cell_type": "code",
   "execution_count": 312,
   "id": "66ee3e54",
   "metadata": {},
   "outputs": [],
   "source": [
    "#USERREVIEWSTOTAL NON LOG-TRANSFORMED\n",
    "labels = ['NoUserReviews', 'FewUserReviews', 'ManyUserReviews', 'VeryManyUserReviews']\n",
    "bins = [-1, 0, 3, 30, float('inf')]\n",
    "\n",
    "df_copy['userReviewsTotal_bin'] = pd.cut(df['userReviewsTotal'], bins=bins, labels=labels, include_lowest=True)"
   ]
  },
  {
   "cell_type": "code",
   "execution_count": 313,
   "id": "31dec078",
   "metadata": {},
   "outputs": [
    {
     "name": "stdout",
     "output_type": "stream",
     "text": [
      "                       count        mean         std   min   25%   50%    75%  \\\n",
      "userReviewsTotal_bin                                                            \n",
      "NoUserReviews         8893.0    0.000000    0.000000   0.0   0.0   0.0    0.0   \n",
      "FewUserReviews        4114.0    1.566116    0.738065   1.0   1.0   1.0    2.0   \n",
      "ManyUserReviews       2291.0   10.115234    6.617681   4.0   5.0   8.0   13.0   \n",
      "VeryManyUserReviews    537.0  156.096834  320.647767  31.0  43.0  67.0  145.0   \n",
      "\n",
      "                         max  \n",
      "userReviewsTotal_bin          \n",
      "NoUserReviews            0.0  \n",
      "FewUserReviews           3.0  \n",
      "ManyUserReviews         30.0  \n",
      "VeryManyUserReviews   5727.0  \n"
     ]
    }
   ],
   "source": [
    "print(df_copy.groupby('userReviewsTotal_bin')['userReviewsTotal'].describe())"
   ]
  },
  {
   "cell_type": "markdown",
   "id": "f2ad8c29",
   "metadata": {},
   "source": [
    "##### countryOfOrigin_freqenc"
   ]
  },
  {
   "cell_type": "code",
   "execution_count": 335,
   "id": "6f835407",
   "metadata": {},
   "outputs": [
    {
     "data": {
      "text/plain": [
       "count    15835.000000\n",
       "mean         0.194401\n",
       "std          0.182575\n",
       "min          0.000056\n",
       "25%          0.018089\n",
       "50%          0.098792\n",
       "75%          0.397061\n",
       "max          0.658429\n",
       "Name: countryOfOrigin_freq_enc, dtype: float64"
      ]
     },
     "execution_count": 335,
     "metadata": {},
     "output_type": "execute_result"
    }
   ],
   "source": [
    "df_copy[\"countryOfOrigin_freq_enc\"].describe()"
   ]
  },
  {
   "cell_type": "code",
   "execution_count": 315,
   "id": "cf6cbbe6",
   "metadata": {},
   "outputs": [],
   "source": [
    "bins = [-0.01, 0.03, 0.3, 1.0]\n",
    "labels = ['LowFreqCountries', 'MediumFreqCountries', 'HighFreqCountries']\n",
    "\n",
    "df_copy[\"country_freq_bin\"] = pd.cut(\n",
    "    df_copy[\"countryOfOrigin_freq_enc\"],\n",
    "    bins=bins,\n",
    "    labels=labels\n",
    ")"
   ]
  },
  {
   "cell_type": "code",
   "execution_count": 316,
   "id": "3ae6192d",
   "metadata": {},
   "outputs": [
    {
     "name": "stdout",
     "output_type": "stream",
     "text": [
      "                      count      mean       std       min       25%       50%  \\\n",
      "country_freq_bin                                                                \n",
      "LowFreqCountries     4811.0  0.011205  0.007740  0.000056  0.005510  0.009406   \n",
      "MediumFreqCountries  4147.0  0.065466  0.029856  0.030556  0.036233  0.047086   \n",
      "HighFreqCountries    6877.0  0.400311  0.016378  0.397061  0.397061  0.397061   \n",
      "\n",
      "                          75%       max  \n",
      "country_freq_bin                         \n",
      "LowFreqCountries     0.017532  0.029888  \n",
      "MediumFreqCountries  0.098792  0.204931  \n",
      "HighFreqCountries    0.397061  0.658429  \n"
     ]
    }
   ],
   "source": [
    "print(df_copy.groupby('country_freq_bin')['countryOfOrigin_freq_enc'].describe())"
   ]
  },
  {
   "cell_type": "markdown",
   "id": "2ea49eee",
   "metadata": {},
   "source": [
    "### Handling of categorical attributes"
   ]
  },
  {
   "cell_type": "markdown",
   "id": "faf86f48",
   "metadata": {},
   "source": [
    "##### countryOfOrigin"
   ]
  },
  {
   "cell_type": "code",
   "execution_count": 317,
   "id": "5799fa78",
   "metadata": {},
   "outputs": [],
   "source": [
    "# # BINARIZZAZIONE -  ONE HOT ENCODING \n",
    "# df_copy['from_Europe_bin'] = (df_copy['countryOfOrigin_EU'] > 0).astype(int)\n",
    "# df_copy['from_NorthAmerica_bin'] = (df_copy['countryOfOrigin_NA'] > 0).astype(int)\n",
    "# df_copy['from_SouthAmerica_bin'] = (df_copy['countryOfOrigin_SA'] > 0).astype(int)\n",
    "# df_copy['from_Asia_bin'] = (df_copy['countryOfOrigin_SA'] > 0).astype(int)\n",
    "# df_copy['from_Oceania_bin'] = (df_copy['countryOfOrigin_OC'] > 0).astype(int)\n",
    "# df_copy['from_Africa_bin'] = (df_copy['countryOfOrigin_AF'] > 0).astype(int)\n",
    "# df_copy['from_Unknown_bin'] = (df_copy['countryOfOrigin_UNK'] > 0).astype(int)\n"
   ]
  },
  {
   "cell_type": "code",
   "execution_count": 318,
   "id": "ce207c84",
   "metadata": {},
   "outputs": [],
   "source": [
    "# BINARIZZAZIONE \n",
    "def discretize_continent_count(df, col_name, cont):\n",
    "    new_col = f'{cont }_bin'\n",
    "    \n",
    "    def label(value):\n",
    "        if value == 0:\n",
    "            return f'not_{cont}'\n",
    "       # elif value == 1:\n",
    "        #    return f'one_{cont}'\n",
    "        else:\n",
    "            return f'is_{cont}'\n",
    "    \n",
    "    df[new_col] = df[col_name].apply(label)\n",
    "\n",
    "# applico funzione\n",
    "discretize_continent_count(df_copy, \"countryOfOrigin_NA\", \"from_NorthAmerica\")\n",
    "discretize_continent_count(df_copy, \"countryOfOrigin_EU\", \"from_Europe\")\n",
    "discretize_continent_count(df_copy, \"countryOfOrigin_SA\", \"from_SouthAmerica\")\n",
    "discretize_continent_count(df_copy, \"countryOfOrigin_AS\", \"from_Asia\")\n",
    "discretize_continent_count(df_copy, \"countryOfOrigin_OC\", \"from_Oceania\")\n",
    "discretize_continent_count(df_copy, \"countryOfOrigin_AF\", \"from_Africa\")\n",
    "discretize_continent_count(df_copy, \"countryOfOrigin_UNK\", \"from_Unknown\")"
   ]
  },
  {
   "cell_type": "code",
   "execution_count": 319,
   "id": "44735b7a",
   "metadata": {},
   "outputs": [
    {
     "data": {
      "text/html": [
       "<div>\n",
       "<style scoped>\n",
       "    .dataframe tbody tr th:only-of-type {\n",
       "        vertical-align: middle;\n",
       "    }\n",
       "\n",
       "    .dataframe tbody tr th {\n",
       "        vertical-align: top;\n",
       "    }\n",
       "\n",
       "    .dataframe thead th {\n",
       "        text-align: right;\n",
       "    }\n",
       "</style>\n",
       "<table border=\"1\" class=\"dataframe\">\n",
       "  <thead>\n",
       "    <tr style=\"text-align: right;\">\n",
       "      <th></th>\n",
       "      <th>originalTitle</th>\n",
       "      <th>rating</th>\n",
       "      <th>startYear</th>\n",
       "      <th>endYear</th>\n",
       "      <th>runtimeMinutes</th>\n",
       "      <th>awardWins</th>\n",
       "      <th>numVotes</th>\n",
       "      <th>totalImages</th>\n",
       "      <th>totalVideos</th>\n",
       "      <th>totalCredits</th>\n",
       "      <th>...</th>\n",
       "      <th>numRegions_bin</th>\n",
       "      <th>userReviewsTotal_bin</th>\n",
       "      <th>country_freq_bin</th>\n",
       "      <th>from_NorthAmerica_bin</th>\n",
       "      <th>from_Europe_bin</th>\n",
       "      <th>from_SouthAmerica_bin</th>\n",
       "      <th>from_Asia_bin</th>\n",
       "      <th>from_Oceania_bin</th>\n",
       "      <th>from_Africa_bin</th>\n",
       "      <th>from_Unknown_bin</th>\n",
       "    </tr>\n",
       "  </thead>\n",
       "  <tbody>\n",
       "    <tr>\n",
       "      <th>0</th>\n",
       "      <td>Neogenic Nightmare Chapter 3: Hydro-Man</td>\n",
       "      <td>8</td>\n",
       "      <td>1995</td>\n",
       "      <td>1995.0</td>\n",
       "      <td>NaN</td>\n",
       "      <td>0.0</td>\n",
       "      <td>779</td>\n",
       "      <td>1</td>\n",
       "      <td>0</td>\n",
       "      <td>21</td>\n",
       "      <td>...</td>\n",
       "      <td>VeryFewRegions</td>\n",
       "      <td>NoUserReviews</td>\n",
       "      <td>HighFreqCountries</td>\n",
       "      <td>is_from_NorthAmerica</td>\n",
       "      <td>not_from_Europe</td>\n",
       "      <td>not_from_SouthAmerica</td>\n",
       "      <td>not_from_Asia</td>\n",
       "      <td>not_from_Oceania</td>\n",
       "      <td>not_from_Africa</td>\n",
       "      <td>not_from_Unknown</td>\n",
       "    </tr>\n",
       "    <tr>\n",
       "      <th>1</th>\n",
       "      <td>Idealnaya para</td>\n",
       "      <td>6</td>\n",
       "      <td>1992</td>\n",
       "      <td>1992.0</td>\n",
       "      <td>NaN</td>\n",
       "      <td>0.0</td>\n",
       "      <td>38</td>\n",
       "      <td>1</td>\n",
       "      <td>0</td>\n",
       "      <td>24</td>\n",
       "      <td>...</td>\n",
       "      <td>VeryFewRegions</td>\n",
       "      <td>FewUserReviews</td>\n",
       "      <td>LowFreqCountries</td>\n",
       "      <td>not_from_NorthAmerica</td>\n",
       "      <td>is_from_Europe</td>\n",
       "      <td>not_from_SouthAmerica</td>\n",
       "      <td>not_from_Asia</td>\n",
       "      <td>not_from_Oceania</td>\n",
       "      <td>not_from_Africa</td>\n",
       "      <td>not_from_Unknown</td>\n",
       "    </tr>\n",
       "    <tr>\n",
       "      <th>2</th>\n",
       "      <td>MasterChef Celebrity México</td>\n",
       "      <td>6</td>\n",
       "      <td>2021</td>\n",
       "      <td>NaN</td>\n",
       "      <td>NaN</td>\n",
       "      <td>0.0</td>\n",
       "      <td>15</td>\n",
       "      <td>22</td>\n",
       "      <td>0</td>\n",
       "      <td>56</td>\n",
       "      <td>...</td>\n",
       "      <td>VeryFewRegions</td>\n",
       "      <td>NoUserReviews</td>\n",
       "      <td>LowFreqCountries</td>\n",
       "      <td>is_from_NorthAmerica</td>\n",
       "      <td>not_from_Europe</td>\n",
       "      <td>not_from_SouthAmerica</td>\n",
       "      <td>not_from_Asia</td>\n",
       "      <td>not_from_Oceania</td>\n",
       "      <td>not_from_Africa</td>\n",
       "      <td>not_from_Unknown</td>\n",
       "    </tr>\n",
       "    <tr>\n",
       "      <th>3</th>\n",
       "      <td>Seutateueob</td>\n",
       "      <td>8</td>\n",
       "      <td>2020</td>\n",
       "      <td>2020.0</td>\n",
       "      <td>80.0</td>\n",
       "      <td>1.0</td>\n",
       "      <td>15718</td>\n",
       "      <td>347</td>\n",
       "      <td>2</td>\n",
       "      <td>47</td>\n",
       "      <td>...</td>\n",
       "      <td>GlobalRegions</td>\n",
       "      <td>VeryManyUserReviews</td>\n",
       "      <td>LowFreqCountries</td>\n",
       "      <td>not_from_NorthAmerica</td>\n",
       "      <td>not_from_Europe</td>\n",
       "      <td>not_from_SouthAmerica</td>\n",
       "      <td>is_from_Asia</td>\n",
       "      <td>not_from_Oceania</td>\n",
       "      <td>not_from_Africa</td>\n",
       "      <td>not_from_Unknown</td>\n",
       "    </tr>\n",
       "    <tr>\n",
       "      <th>4</th>\n",
       "      <td>Lightdance</td>\n",
       "      <td>9</td>\n",
       "      <td>1995</td>\n",
       "      <td>1995.0</td>\n",
       "      <td>34.0</td>\n",
       "      <td>0.0</td>\n",
       "      <td>14</td>\n",
       "      <td>1</td>\n",
       "      <td>0</td>\n",
       "      <td>0</td>\n",
       "      <td>...</td>\n",
       "      <td>VeryFewRegions</td>\n",
       "      <td>FewUserReviews</td>\n",
       "      <td>HighFreqCountries</td>\n",
       "      <td>is_from_NorthAmerica</td>\n",
       "      <td>not_from_Europe</td>\n",
       "      <td>not_from_SouthAmerica</td>\n",
       "      <td>not_from_Asia</td>\n",
       "      <td>not_from_Oceania</td>\n",
       "      <td>not_from_Africa</td>\n",
       "      <td>not_from_Unknown</td>\n",
       "    </tr>\n",
       "  </tbody>\n",
       "</table>\n",
       "<p>5 rows × 86 columns</p>\n",
       "</div>"
      ],
      "text/plain": [
       "                             originalTitle  rating  startYear  endYear  \\\n",
       "0  Neogenic Nightmare Chapter 3: Hydro-Man       8       1995   1995.0   \n",
       "1                           Idealnaya para       6       1992   1992.0   \n",
       "2              MasterChef Celebrity México       6       2021      NaN   \n",
       "3                              Seutateueob       8       2020   2020.0   \n",
       "4                               Lightdance       9       1995   1995.0   \n",
       "\n",
       "   runtimeMinutes  awardWins  numVotes  totalImages  totalVideos  \\\n",
       "0             NaN        0.0       779            1            0   \n",
       "1             NaN        0.0        38            1            0   \n",
       "2             NaN        0.0        15           22            0   \n",
       "3            80.0        1.0     15718          347            2   \n",
       "4            34.0        0.0        14            1            0   \n",
       "\n",
       "   totalCredits  ...  numRegions_bin userReviewsTotal_bin   country_freq_bin  \\\n",
       "0            21  ...  VeryFewRegions        NoUserReviews  HighFreqCountries   \n",
       "1            24  ...  VeryFewRegions       FewUserReviews   LowFreqCountries   \n",
       "2            56  ...  VeryFewRegions        NoUserReviews   LowFreqCountries   \n",
       "3            47  ...   GlobalRegions  VeryManyUserReviews   LowFreqCountries   \n",
       "4             0  ...  VeryFewRegions       FewUserReviews  HighFreqCountries   \n",
       "\n",
       "   from_NorthAmerica_bin  from_Europe_bin  from_SouthAmerica_bin  \\\n",
       "0   is_from_NorthAmerica  not_from_Europe  not_from_SouthAmerica   \n",
       "1  not_from_NorthAmerica   is_from_Europe  not_from_SouthAmerica   \n",
       "2   is_from_NorthAmerica  not_from_Europe  not_from_SouthAmerica   \n",
       "3  not_from_NorthAmerica  not_from_Europe  not_from_SouthAmerica   \n",
       "4   is_from_NorthAmerica  not_from_Europe  not_from_SouthAmerica   \n",
       "\n",
       "   from_Asia_bin  from_Oceania_bin  from_Africa_bin  from_Unknown_bin  \n",
       "0  not_from_Asia  not_from_Oceania  not_from_Africa  not_from_Unknown  \n",
       "1  not_from_Asia  not_from_Oceania  not_from_Africa  not_from_Unknown  \n",
       "2  not_from_Asia  not_from_Oceania  not_from_Africa  not_from_Unknown  \n",
       "3   is_from_Asia  not_from_Oceania  not_from_Africa  not_from_Unknown  \n",
       "4  not_from_Asia  not_from_Oceania  not_from_Africa  not_from_Unknown  \n",
       "\n",
       "[5 rows x 86 columns]"
      ]
     },
     "execution_count": 319,
     "metadata": {},
     "output_type": "execute_result"
    }
   ],
   "source": [
    "df_copy.head()"
   ]
  },
  {
   "cell_type": "markdown",
   "id": "ba5d8aeb",
   "metadata": {},
   "source": [
    "## Pattern Mining"
   ]
  },
  {
   "cell_type": "markdown",
   "id": "a2f3276b",
   "metadata": {},
   "source": [
    "### Transactions Creation"
   ]
  },
  {
   "cell_type": "code",
   "execution_count": 320,
   "id": "96e1bdd6",
   "metadata": {},
   "outputs": [
    {
     "data": {
      "text/plain": [
       "Index(['originalTitle', 'rating', 'startYear', 'endYear', 'runtimeMinutes',\n",
       "       'awardWins', 'numVotes', 'totalImages', 'totalVideos', 'totalCredits',\n",
       "       'criticReviewsTotal', 'titleType', 'awardNominationsExcludeWins',\n",
       "       'canHaveEpisodes', 'numRegions', 'userReviewsTotal', 'is_Documentary',\n",
       "       'is_History', 'is_Adventure', 'is_Thriller', 'is_Game-Show',\n",
       "       'is_Comedy', 'is_Sci-Fi', 'is_Romance', 'is_Biography', 'is_Musical',\n",
       "       'is_Western', 'is_Music', 'is_Film-Noir', 'is_Adult', 'is_Reality-TV',\n",
       "       'is_News', 'is_Action', 'is_Crime', 'is_Short', 'is_Fantasy',\n",
       "       'is_Family', 'is_Mystery', 'is_Talk-Show', 'is_Drama', 'is_Sport',\n",
       "       'is_War', 'is_Horror', 'is_Animation', 'fill_runtimeMinutes',\n",
       "       'is_from_Oceania', 'is_from_North America', 'is_from_South America',\n",
       "       'is_from_Asia', 'is_from_Africa', 'is_from_Europe', 'countryOfOrigin',\n",
       "       'countryOfOrigin_freq_enc', 'countryOfOrigin_NA', 'countryOfOrigin_AF',\n",
       "       'countryOfOrigin_AS', 'countryOfOrigin_EU', 'countryOfOrigin_OC',\n",
       "       'countryOfOrigin_SA', 'countryOfOrigin_UNK',\n",
       "       'fill_runtimeMinutes_Bruno', 'totalNominations', 'totalMedia',\n",
       "       'runtimeMinutes_notitletype', 'outlier_no_type',\n",
       "       'runtimeMinutes_notitletype_imputed_no_type', 'outlier_w_type',\n",
       "       'fill_runtimeMinutes_Bruno_imputed_w_type', 'totalNominations_bin',\n",
       "       'media_bin', 'runtime_bin', 'rating_bin', 'numVotes_bin',\n",
       "       'startYear_bin', 'totalCredits_bin', 'criticReviewsTotal_bin',\n",
       "       'numRegions_bin', 'userReviewsTotal_bin', 'country_freq_bin',\n",
       "       'from_NorthAmerica_bin', 'from_Europe_bin', 'from_SouthAmerica_bin',\n",
       "       'from_Asia_bin', 'from_Oceania_bin', 'from_Africa_bin',\n",
       "       'from_Unknown_bin'],\n",
       "      dtype='object')"
      ]
     },
     "execution_count": 320,
     "metadata": {},
     "output_type": "execute_result"
    }
   ],
   "source": [
    "df_copy.columns"
   ]
  },
  {
   "cell_type": "code",
   "execution_count": 321,
   "id": "fc1bbf48",
   "metadata": {},
   "outputs": [],
   "source": [
    "cols = [\n",
    "        #\"canHaveEpisodes\", \n",
    "        #\"isAdult\",\n",
    "        #\"totalNominations_bin\", \n",
    "        #\"media_bin\",\n",
    "        \"rating_bin\", \"runtime_bin\", \"numVotes_bin\", \n",
    "        #\"startYear_bin\",\n",
    "        \"totalCredits_bin\", \n",
    "        \"criticReviewsTotal_bin\", \n",
    "        # \"country_freq_bin\",\n",
    "        # \"numRegions_bin\", \n",
    "        \"userReviewsTotal_bin\",\n",
    "        \"titleType\",\n",
    "        'from_NorthAmerica_bin','from_Europe_bin' , 'from_SouthAmerica_bin', 'from_Asia_bin', 'from_Oceania_bin', 'from_Africa_bin', \n",
    "        #'from_Unknown_bin'\n",
    "]\n",
    "\n",
    "\n",
    "# #FUNZIONANTI COME BASE\n",
    "#     #     \"canHaveEpisodes\", \"isAdult\",\n",
    "#     #     \"totalNominations_bin\", \"media_bin\"\n",
    "#           \"rating_bin\", \"runtime_bin\", \"numVotes_bin\", \"startYear_bin\",\n",
    "#     #     \"totalCredits_bin\", \"criticReviewsTotal_bin\", \"numRegions_bin\", \"userReviewsTotal_bin\"\n",
    "#           \"titleType\",\n",
    "#           'from_NorthAmerica_bin', 'from_Europe_bin' ,'from_SouthAmerica_bin', 'from_Asia_bin', 'from_Oceania_bin', 'from_Africa_bin', 'from_Unknown_bin'\n",
    "\n",
    "#TUTTE\n",
    "    #     \"canHaveEpisodes\", \"isAdult\",\n",
    "    #     \"totalNominations_bin\", \"media_bin\"\n",
    "    #     \"rating_bin\", \"runtime_bin\", \"numVotes_bin\", \"startYear_bin\",\n",
    "    #     \"totalCredits_bin\", \"criticReviewsTotal_bin\", \"numRegions_bin\", \"userReviewsTotal_bin\"\n",
    "    #     \"titleType\",\n",
    "    #      'from_NorthAmerica_bin', 'from_Europe_bin' ,'from_SouthAmerica_bin', 'from_Asia_bin', 'from_Oceania_bin', 'from_Africa_bin', 'from_Unknown_bin'\n",
    "\n",
    "\n"
   ]
  },
  {
   "cell_type": "code",
   "execution_count": 322,
   "id": "87dc31d3",
   "metadata": {},
   "outputs": [
    {
     "name": "stdout",
     "output_type": "stream",
     "text": [
      "15835\n",
      "[['VeryHighRating', 'LowRuntime', 'VeryLowVotes', 'HighCredits', 'NoCriticReviews', 'NoUserReviews', 'tvSpecial', 'is_from_NorthAmerica'], ['MediumRating', 'LowRuntime', 'LowVotes', 'MediumCredits', 'NoCriticReviews', 'NoUserReviews', 'movie'], ['VeryLowRating', 'MediumRuntime', 'HighVotes', 'HighCredits', 'FewCriticReviews', 'ManyUserReviews', 'movie', 'is_from_NorthAmerica'], ['MediumRating', 'MediumRuntime', 'HighVotes', 'HighCredits', 'FewCriticReviews', 'FewUserReviews', 'movie', 'is_from_Europe'], ['VeryHighRating', 'VeryLowRuntime', 'VeryHighVotes', 'HighCredits', 'ModerateCriticReviews', 'ManyUserReviews', 'tvEpisode', 'is_from_NorthAmerica']]\n"
     ]
    }
   ],
   "source": [
    "transactions = []\n",
    "\n",
    "for index, row in df_copy[cols].iterrows():\n",
    "    transaction = []\n",
    "    for col in cols:\n",
    "        value = str(row[col])\n",
    "        if not value.startswith('not_'):  # Ignora 'none_from_*'\n",
    "            transaction.append(value)\n",
    "    transactions.append(transaction)\n",
    "\n",
    "# Verifica risultato\n",
    "print(len(transactions))\n",
    "print(transactions[10:15])\n"
   ]
  },
  {
   "cell_type": "code",
   "execution_count": 323,
   "id": "cee7c7d2",
   "metadata": {},
   "outputs": [
    {
     "name": "stdout",
     "output_type": "stream",
     "text": [
      "   ExtensiveCriticReviews  FewCriticReviews  FewUserReviews  HighCredits  \\\n",
      "0                   False              True           False        False   \n",
      "1                   False             False            True        False   \n",
      "2                   False             False           False        False   \n",
      "3                   False             False           False        False   \n",
      "4                   False             False            True        False   \n",
      "\n",
      "   HighRating  HighRuntime  HighVotes  LowCredits  LowRating  LowRuntime  ...  \\\n",
      "0        True        False       True        True      False       False  ...   \n",
      "1       False         True      False        True       True       False  ...   \n",
      "2       False        False      False       False       True       False  ...   \n",
      "3        True        False      False       False      False       False  ...   \n",
      "4       False        False      False       False      False        True  ...   \n",
      "\n",
      "   is_from_Oceania  is_from_SouthAmerica  movie  short  tvEpisode  \\\n",
      "0            False                 False  False  False       True   \n",
      "1            False                 False   True  False      False   \n",
      "2            False                 False  False  False      False   \n",
      "3            False                 False  False  False      False   \n",
      "4            False                 False  False  False      False   \n",
      "\n",
      "   tvMiniSeries  tvMovie  tvSeries  tvSpecial  video  \n",
      "0         False    False     False      False  False  \n",
      "1         False    False     False      False  False  \n",
      "2         False    False      True      False  False  \n",
      "3         False    False      True      False  False  \n",
      "4         False    False     False      False   True  \n",
      "\n",
      "[5 rows x 43 columns]\n"
     ]
    }
   ],
   "source": [
    "# Let's utilize TransactionEncoder\n",
    "te = TransactionEncoder()\n",
    "te_array = te.fit(transactions).transform(transactions)\n",
    "df_apriori = pd.DataFrame(te_array, columns=te.columns_)\n",
    "\n",
    "# Visualizza le prime righe per assicurarti che la trasformazione sia corretta\n",
    "print(df_apriori.head())"
   ]
  },
  {
   "cell_type": "markdown",
   "id": "6a39fceb",
   "metadata": {},
   "source": []
  },
  {
   "cell_type": "markdown",
   "id": "8292a043",
   "metadata": {},
   "source": [
    "### Confronto itemset per support"
   ]
  },
  {
   "cell_type": "code",
   "execution_count": 324,
   "id": "a85a1e19",
   "metadata": {},
   "outputs": [
    {
     "data": {
      "image/png": "[encoded data removed]",
      "text/plain": [
       "<Figure size 1000x600 with 1 Axes>"
      ]
     },
     "metadata": {},
     "output_type": "display_data"
    }
   ],
   "source": [
    "# Genera una lista di min_sup da testare\n",
    "min_sups = [round(x, 2) for x in list(np.arange(0.01, 0.3, 0.01))]\n",
    "\n",
    "# Lista per salvare il numero di itemset per ciascun supporto\n",
    "num_itemsets = []\n",
    "\n",
    "# Calcolo degli itemset frequenti per ogni min_sup\n",
    "for min_sup in min_sups:\n",
    "    frequent_itemsets = apriori(df_apriori, min_support=min_sup, use_colnames=True)\n",
    "    num_itemsets.append(len(frequent_itemsets))\n",
    "\n",
    "# Plot\n",
    "plt.figure(figsize=(10,6))\n",
    "plt.plot(min_sups, num_itemsets, marker='o')\n",
    "plt.title('Number of frequent itemsets vs. min_support')\n",
    "plt.xlabel('min_support')\n",
    "plt.ylabel('Number of frequent itemsets')\n",
    "plt.grid(True)\n",
    "plt.show()\n"
   ]
  },
  {
   "cell_type": "markdown",
   "id": "96bb122a",
   "metadata": {},
   "source": [
    "### Apriori"
   ]
  },
  {
   "cell_type": "code",
   "execution_count": 325,
   "id": "7b2d1872",
   "metadata": {},
   "outputs": [
    {
     "name": "stdout",
     "output_type": "stream",
     "text": [
      "<class 'pandas.core.frame.DataFrame'>\n",
      "RangeIndex: 199 entries, 0 to 198\n",
      "Data columns (total 2 columns):\n",
      " #   Column    Non-Null Count  Dtype  \n",
      "---  ------    --------------  -----  \n",
      " 0   support   199 non-null    float64\n",
      " 1   itemsets  199 non-null    object \n",
      "dtypes: float64(1), object(1)\n",
      "memory usage: 3.2+ KB\n",
      "None\n",
      "     support                                itemsets\n",
      "0   0.117335                      (FewCriticReviews)\n",
      "1   0.259804                        (FewUserReviews)\n",
      "2   0.207894                           (HighCredits)\n",
      "3   0.293590                            (HighRating)\n",
      "4   0.196211                           (HighRuntime)\n",
      "5   0.173982                             (HighVotes)\n",
      "6   0.273887                            (LowCredits)\n",
      "7   0.266940                             (LowRating)\n",
      "8   0.232586                            (LowRuntime)\n",
      "9   0.300474                              (LowVotes)\n",
      "10  0.144680                       (ManyUserReviews)\n",
      "11  0.242627                         (MediumCredits)\n",
      "12  0.278308                          (MediumRating)\n",
      "13  0.224755                         (MediumRuntime)\n",
      "14  0.182823                           (MediumVotes)\n",
      "15  0.105147                 (ModerateCriticReviews)\n",
      "16  0.693716                       (NoCriticReviews)\n",
      "17  0.561604                         (NoUserReviews)\n",
      "18  0.147521                        (VeryHighRating)\n",
      "19  0.231639                        (VeryLowCredits)\n",
      "20  0.346448                        (VeryLowRuntime)\n",
      "21  0.268077                          (VeryLowVotes)\n",
      "22  0.153205                          (is_from_Asia)\n",
      "23  0.313546                        (is_from_Europe)\n",
      "24  0.479002                  (is_from_NorthAmerica)\n",
      "25  0.346763                                 (movie)\n",
      "26  0.149542                                 (short)\n",
      "27  0.295674                             (tvEpisode)\n",
      "28  0.085380                              (tvSeries)\n",
      "29  0.082791            (FewUserReviews, HighRating)\n",
      "30  0.080770              (FewUserReviews, LowVotes)\n",
      "31  0.165835       (FewUserReviews, NoCriticReviews)\n",
      "32  0.091190        (FewUserReviews, VeryLowRuntime)\n",
      "33  0.082160        (is_from_Europe, FewUserReviews)\n",
      "34  0.136280  (FewUserReviews, is_from_NorthAmerica)\n",
      "35  0.091759                 (FewUserReviews, movie)\n",
      "36  0.110957          (HighCredits, NoCriticReviews)\n",
      "37  0.086959            (HighCredits, NoUserReviews)\n",
      "38  0.124471     (HighCredits, is_from_NorthAmerica)\n",
      "39  0.089675                (HighCredits, tvEpisode)\n",
      "40  0.095422                (HighRating, LowRuntime)\n",
      "41  0.084875                  (HighRating, LowVotes)\n",
      "42  0.209346           (HighRating, NoCriticReviews)\n",
      "43  0.168172             (NoUserReviews, HighRating)\n",
      "44  0.117146            (HighRating, VeryLowRuntime)\n",
      "45  0.088538            (is_from_Europe, HighRating)\n",
      "46  0.150489      (HighRating, is_from_NorthAmerica)\n",
      "47  0.139185                 (tvEpisode, HighRating)\n",
      "48  0.098200          (NoCriticReviews, HighRuntime)\n",
      "49  0.080518            (NoUserReviews, HighRuntime)\n",
      "50  0.167793                    (movie, HighRuntime)\n"
     ]
    }
   ],
   "source": [
    "min_support = 0.08  # % supporto minimo\n",
    "min_confidence = 0.6  # 60% confidenza minima --> serve dopo nella fase di rules extraction\n",
    "\n",
    "# Apriori\n",
    "frequent_itemsets_apriori = apriori(df_apriori, min_support=min_support, use_colnames=True)\n",
    "\n",
    "# FRA -< Filtra gli itemset con almeno 2 item (lunghezza >= 2)\n",
    "    #frequent_itemsets_apriori = frequent_itemsets_apriori[frequent_itemsets_apriori['itemsets'].apply(lambda x: len(x) >= 2)]\n",
    "    #frequent_itemsets_apriori.reset_index(drop=True, inplace=True)\n",
    "\n",
    "print(frequent_itemsets_apriori.info())\n",
    "print(frequent_itemsets_apriori.head(51))"
   ]
  },
  {
   "cell_type": "markdown",
   "id": "29f0b50e",
   "metadata": {},
   "source": [
    "### maximal itemset"
   ]
  },
  {
   "cell_type": "code",
   "execution_count": 326,
   "id": "59583179",
   "metadata": {},
   "outputs": [
    {
     "name": "stdout",
     "output_type": "stream",
     "text": [
      "<class 'pandas.core.frame.DataFrame'>\n",
      "Index: 90 entries, 0 to 198\n",
      "Data columns (total 2 columns):\n",
      " #   Column    Non-Null Count  Dtype  \n",
      "---  ------    --------------  -----  \n",
      " 0   support   90 non-null     float64\n",
      " 1   itemsets  90 non-null     object \n",
      "dtypes: float64(1), object(1)\n",
      "memory usage: 2.1+ KB\n",
      "None\n",
      "     support                             itemsets\n",
      "0   0.117335                   (FewCriticReviews)\n",
      "15  0.105147              (ModerateCriticReviews)\n",
      "28  0.085380                           (tvSeries)\n",
      "29  0.082791         (FewUserReviews, HighRating)\n",
      "30  0.080770           (FewUserReviews, LowVotes)\n",
      "32  0.091190     (FewUserReviews, VeryLowRuntime)\n",
      "33  0.082160     (is_from_Europe, FewUserReviews)\n",
      "35  0.091759              (FewUserReviews, movie)\n",
      "36  0.110957       (HighCredits, NoCriticReviews)\n",
      "37  0.086959         (HighCredits, NoUserReviews)\n",
      "38  0.124471  (HighCredits, is_from_NorthAmerica)\n",
      "39  0.089675             (HighCredits, tvEpisode)\n",
      "40  0.095422             (HighRating, LowRuntime)\n",
      "41  0.084875               (HighRating, LowVotes)\n",
      "45  0.088538         (is_from_Europe, HighRating)\n"
     ]
    }
   ],
   "source": [
    "# Find maximal itemsets (those that are not subsets of any other itemsets)\n",
    "maximal_itemsets_apriori = frequent_itemsets_apriori[frequent_itemsets_apriori['itemsets'].apply(lambda x: not any(x < y for y in frequent_itemsets_apriori['itemsets']))]\n",
    "\n",
    "# Display the results\n",
    "print(maximal_itemsets_apriori.info())\n",
    "print(maximal_itemsets_apriori.head(15))"
   ]
  },
  {
   "cell_type": "markdown",
   "id": "214165b2",
   "metadata": {},
   "source": [
    "### Association Rules"
   ]
  },
  {
   "cell_type": "code",
   "execution_count": 327,
   "id": "2554301a",
   "metadata": {},
   "outputs": [
    {
     "name": "stdout",
     "output_type": "stream",
     "text": [
      "<class 'pandas.core.frame.DataFrame'>\n",
      "RangeIndex: 137 entries, 0 to 136\n",
      "Data columns (total 14 columns):\n",
      " #   Column              Non-Null Count  Dtype  \n",
      "---  ------              --------------  -----  \n",
      " 0   antecedents         137 non-null    object \n",
      " 1   consequents         137 non-null    object \n",
      " 2   antecedent support  137 non-null    float64\n",
      " 3   consequent support  137 non-null    float64\n",
      " 4   support             137 non-null    float64\n",
      " 5   confidence          137 non-null    float64\n",
      " 6   lift                137 non-null    float64\n",
      " 7   representativity    137 non-null    float64\n",
      " 8   leverage            137 non-null    float64\n",
      " 9   conviction          137 non-null    float64\n",
      " 10  zhangs_metric       137 non-null    float64\n",
      " 11  jaccard             137 non-null    float64\n",
      " 12  certainty           137 non-null    float64\n",
      " 13  kulczynski          137 non-null    float64\n",
      "dtypes: float64(12), object(2)\n",
      "memory usage: 15.1+ KB\n"
     ]
    },
    {
     "data": {
      "text/html": [
       "<div>\n",
       "<style scoped>\n",
       "    .dataframe tbody tr th:only-of-type {\n",
       "        vertical-align: middle;\n",
       "    }\n",
       "\n",
       "    .dataframe tbody tr th {\n",
       "        vertical-align: top;\n",
       "    }\n",
       "\n",
       "    .dataframe thead th {\n",
       "        text-align: right;\n",
       "    }\n",
       "</style>\n",
       "<table border=\"1\" class=\"dataframe\">\n",
       "  <thead>\n",
       "    <tr style=\"text-align: right;\">\n",
       "      <th></th>\n",
       "      <th>antecedents</th>\n",
       "      <th>consequents</th>\n",
       "      <th>antecedent support</th>\n",
       "      <th>consequent support</th>\n",
       "      <th>support</th>\n",
       "      <th>confidence</th>\n",
       "      <th>lift</th>\n",
       "      <th>representativity</th>\n",
       "      <th>leverage</th>\n",
       "      <th>conviction</th>\n",
       "      <th>zhangs_metric</th>\n",
       "      <th>jaccard</th>\n",
       "      <th>certainty</th>\n",
       "      <th>kulczynski</th>\n",
       "    </tr>\n",
       "  </thead>\n",
       "  <tbody>\n",
       "    <tr>\n",
       "      <th>0</th>\n",
       "      <td>(FewUserReviews)</td>\n",
       "      <td>(NoCriticReviews)</td>\n",
       "      <td>0.259804</td>\n",
       "      <td>0.693716</td>\n",
       "      <td>0.165835</td>\n",
       "      <td>0.638308</td>\n",
       "      <td>0.920128</td>\n",
       "      <td>1.0</td>\n",
       "      <td>-0.014395</td>\n",
       "      <td>0.846808</td>\n",
       "      <td>-0.104963</td>\n",
       "      <td>0.210535</td>\n",
       "      <td>-0.180905</td>\n",
       "      <td>0.438681</td>\n",
       "    </tr>\n",
       "    <tr>\n",
       "      <th>1</th>\n",
       "      <td>(HighRating)</td>\n",
       "      <td>(NoCriticReviews)</td>\n",
       "      <td>0.293590</td>\n",
       "      <td>0.693716</td>\n",
       "      <td>0.209346</td>\n",
       "      <td>0.713057</td>\n",
       "      <td>1.027879</td>\n",
       "      <td>1.0</td>\n",
       "      <td>0.005678</td>\n",
       "      <td>1.067400</td>\n",
       "      <td>0.038395</td>\n",
       "      <td>0.269097</td>\n",
       "      <td>0.063144</td>\n",
       "      <td>0.507416</td>\n",
       "    </tr>\n",
       "    <tr>\n",
       "      <th>2</th>\n",
       "      <td>(HighRuntime)</td>\n",
       "      <td>(movie)</td>\n",
       "      <td>0.196211</td>\n",
       "      <td>0.346763</td>\n",
       "      <td>0.167793</td>\n",
       "      <td>0.855166</td>\n",
       "      <td>2.466135</td>\n",
       "      <td>1.0</td>\n",
       "      <td>0.099754</td>\n",
       "      <td>4.510235</td>\n",
       "      <td>0.739631</td>\n",
       "      <td>0.447231</td>\n",
       "      <td>0.778282</td>\n",
       "      <td>0.669524</td>\n",
       "    </tr>\n",
       "    <tr>\n",
       "      <th>3</th>\n",
       "      <td>(LowCredits)</td>\n",
       "      <td>(NoCriticReviews)</td>\n",
       "      <td>0.273887</td>\n",
       "      <td>0.693716</td>\n",
       "      <td>0.207515</td>\n",
       "      <td>0.757667</td>\n",
       "      <td>1.092185</td>\n",
       "      <td>1.0</td>\n",
       "      <td>0.017515</td>\n",
       "      <td>1.263893</td>\n",
       "      <td>0.116241</td>\n",
       "      <td>0.273014</td>\n",
       "      <td>0.208794</td>\n",
       "      <td>0.528401</td>\n",
       "    </tr>\n",
       "    <tr>\n",
       "      <th>4</th>\n",
       "      <td>(LowCredits)</td>\n",
       "      <td>(NoUserReviews)</td>\n",
       "      <td>0.273887</td>\n",
       "      <td>0.561604</td>\n",
       "      <td>0.171392</td>\n",
       "      <td>0.625778</td>\n",
       "      <td>1.114269</td>\n",
       "      <td>1.0</td>\n",
       "      <td>0.017576</td>\n",
       "      <td>1.171487</td>\n",
       "      <td>0.141233</td>\n",
       "      <td>0.258083</td>\n",
       "      <td>0.146384</td>\n",
       "      <td>0.465481</td>\n",
       "    </tr>\n",
       "    <tr>\n",
       "      <th>5</th>\n",
       "      <td>(LowRating)</td>\n",
       "      <td>(NoCriticReviews)</td>\n",
       "      <td>0.266940</td>\n",
       "      <td>0.693716</td>\n",
       "      <td>0.174361</td>\n",
       "      <td>0.653182</td>\n",
       "      <td>0.941569</td>\n",
       "      <td>1.0</td>\n",
       "      <td>-0.010820</td>\n",
       "      <td>0.883125</td>\n",
       "      <td>-0.078048</td>\n",
       "      <td>0.221749</td>\n",
       "      <td>-0.132343</td>\n",
       "      <td>0.452262</td>\n",
       "    </tr>\n",
       "    <tr>\n",
       "      <th>6</th>\n",
       "      <td>(LowRuntime)</td>\n",
       "      <td>(NoCriticReviews)</td>\n",
       "      <td>0.232586</td>\n",
       "      <td>0.693716</td>\n",
       "      <td>0.180044</td>\n",
       "      <td>0.774097</td>\n",
       "      <td>1.115870</td>\n",
       "      <td>1.0</td>\n",
       "      <td>0.018695</td>\n",
       "      <td>1.355820</td>\n",
       "      <td>0.135309</td>\n",
       "      <td>0.241263</td>\n",
       "      <td>0.262439</td>\n",
       "      <td>0.516816</td>\n",
       "    </tr>\n",
       "    <tr>\n",
       "      <th>7</th>\n",
       "      <td>(LowRuntime)</td>\n",
       "      <td>(NoUserReviews)</td>\n",
       "      <td>0.232586</td>\n",
       "      <td>0.561604</td>\n",
       "      <td>0.143795</td>\n",
       "      <td>0.618246</td>\n",
       "      <td>1.100857</td>\n",
       "      <td>1.0</td>\n",
       "      <td>0.013174</td>\n",
       "      <td>1.148373</td>\n",
       "      <td>0.119384</td>\n",
       "      <td>0.221089</td>\n",
       "      <td>0.129203</td>\n",
       "      <td>0.437145</td>\n",
       "    </tr>\n",
       "    <tr>\n",
       "      <th>8</th>\n",
       "      <td>(LowVotes)</td>\n",
       "      <td>(NoCriticReviews)</td>\n",
       "      <td>0.300474</td>\n",
       "      <td>0.693716</td>\n",
       "      <td>0.252921</td>\n",
       "      <td>0.841740</td>\n",
       "      <td>1.213378</td>\n",
       "      <td>1.0</td>\n",
       "      <td>0.044477</td>\n",
       "      <td>1.935322</td>\n",
       "      <td>0.251391</td>\n",
       "      <td>0.341200</td>\n",
       "      <td>0.483290</td>\n",
       "      <td>0.603164</td>\n",
       "    </tr>\n",
       "    <tr>\n",
       "      <th>9</th>\n",
       "      <td>(LowVotes)</td>\n",
       "      <td>(NoUserReviews)</td>\n",
       "      <td>0.300474</td>\n",
       "      <td>0.561604</td>\n",
       "      <td>0.213956</td>\n",
       "      <td>0.712064</td>\n",
       "      <td>1.267911</td>\n",
       "      <td>1.0</td>\n",
       "      <td>0.045209</td>\n",
       "      <td>1.522546</td>\n",
       "      <td>0.302063</td>\n",
       "      <td>0.330118</td>\n",
       "      <td>0.343205</td>\n",
       "      <td>0.546519</td>\n",
       "    </tr>\n",
       "  </tbody>\n",
       "</table>\n",
       "</div>"
      ],
      "text/plain": [
       "        antecedents        consequents  antecedent support  \\\n",
       "0  (FewUserReviews)  (NoCriticReviews)            0.259804   \n",
       "1      (HighRating)  (NoCriticReviews)            0.293590   \n",
       "2     (HighRuntime)            (movie)            0.196211   \n",
       "3      (LowCredits)  (NoCriticReviews)            0.273887   \n",
       "4      (LowCredits)    (NoUserReviews)            0.273887   \n",
       "5       (LowRating)  (NoCriticReviews)            0.266940   \n",
       "6      (LowRuntime)  (NoCriticReviews)            0.232586   \n",
       "7      (LowRuntime)    (NoUserReviews)            0.232586   \n",
       "8        (LowVotes)  (NoCriticReviews)            0.300474   \n",
       "9        (LowVotes)    (NoUserReviews)            0.300474   \n",
       "\n",
       "   consequent support   support  confidence      lift  representativity  \\\n",
       "0            0.693716  0.165835    0.638308  0.920128               1.0   \n",
       "1            0.693716  0.209346    0.713057  1.027879               1.0   \n",
       "2            0.346763  0.167793    0.855166  2.466135               1.0   \n",
       "3            0.693716  0.207515    0.757667  1.092185               1.0   \n",
       "4            0.561604  0.171392    0.625778  1.114269               1.0   \n",
       "5            0.693716  0.174361    0.653182  0.941569               1.0   \n",
       "6            0.693716  0.180044    0.774097  1.115870               1.0   \n",
       "7            0.561604  0.143795    0.618246  1.100857               1.0   \n",
       "8            0.693716  0.252921    0.841740  1.213378               1.0   \n",
       "9            0.561604  0.213956    0.712064  1.267911               1.0   \n",
       "\n",
       "   leverage  conviction  zhangs_metric   jaccard  certainty  kulczynski  \n",
       "0 -0.014395    0.846808      -0.104963  0.210535  -0.180905    0.438681  \n",
       "1  0.005678    1.067400       0.038395  0.269097   0.063144    0.507416  \n",
       "2  0.099754    4.510235       0.739631  0.447231   0.778282    0.669524  \n",
       "3  0.017515    1.263893       0.116241  0.273014   0.208794    0.528401  \n",
       "4  0.017576    1.171487       0.141233  0.258083   0.146384    0.465481  \n",
       "5 -0.010820    0.883125      -0.078048  0.221749  -0.132343    0.452262  \n",
       "6  0.018695    1.355820       0.135309  0.241263   0.262439    0.516816  \n",
       "7  0.013174    1.148373       0.119384  0.221089   0.129203    0.437145  \n",
       "8  0.044477    1.935322       0.251391  0.341200   0.483290    0.603164  \n",
       "9  0.045209    1.522546       0.302063  0.330118   0.343205    0.546519  "
      ]
     },
     "execution_count": 327,
     "metadata": {},
     "output_type": "execute_result"
    }
   ],
   "source": [
    "#Apriori\n",
    "rules_apriori = association_rules(frequent_itemsets_apriori, metric=\"confidence\", min_threshold=min_confidence)\n",
    "rules_apriori.info()\n",
    "rules_apriori.head(10)"
   ]
  },
  {
   "cell_type": "markdown",
   "id": "81a58645",
   "metadata": {},
   "source": [
    "### Scelta valori confidence"
   ]
  },
  {
   "cell_type": "code",
   "execution_count": 328,
   "id": "71dfaefe",
   "metadata": {},
   "outputs": [
    {
     "name": "stdout",
     "output_type": "stream",
     "text": [
      "min_confidence=0.4: 292 regole trovate, lift medio = 1.43\n",
      "min_confidence=0.5: 194 regole trovate, lift medio = 1.41\n",
      "min_confidence=0.6: 137 regole trovate, lift medio = 1.41\n",
      "min_confidence=0.7: 98 regole trovate, lift medio = 1.46\n"
     ]
    }
   ],
   "source": [
    "from mlxtend.frequent_patterns import association_rules\n",
    "\n",
    "conf_values = [0.4, 0.5, 0.6, 0.7]\n",
    "for c in conf_values:\n",
    "    rules = association_rules(frequent_itemsets_apriori, metric=\"confidence\", min_threshold=c)\n",
    "    print(f\"min_confidence={c}: {len(rules)} regole trovate, lift medio = {rules['lift'].mean():.2f}\")\n"
   ]
  },
  {
   "cell_type": "code",
   "execution_count": 329,
   "id": "afee199e",
   "metadata": {},
   "outputs": [
    {
     "data": {
      "text/html": [
       "<div>\n",
       "<style scoped>\n",
       "    .dataframe tbody tr th:only-of-type {\n",
       "        vertical-align: middle;\n",
       "    }\n",
       "\n",
       "    .dataframe tbody tr th {\n",
       "        vertical-align: top;\n",
       "    }\n",
       "\n",
       "    .dataframe thead th {\n",
       "        text-align: right;\n",
       "    }\n",
       "</style>\n",
       "<table border=\"1\" class=\"dataframe\">\n",
       "  <thead>\n",
       "    <tr style=\"text-align: right;\">\n",
       "      <th></th>\n",
       "      <th>antecedents</th>\n",
       "      <th>consequents</th>\n",
       "      <th>antecedent support</th>\n",
       "      <th>consequent support</th>\n",
       "      <th>support</th>\n",
       "      <th>confidence</th>\n",
       "      <th>lift</th>\n",
       "      <th>representativity</th>\n",
       "      <th>leverage</th>\n",
       "      <th>conviction</th>\n",
       "      <th>zhangs_metric</th>\n",
       "      <th>jaccard</th>\n",
       "      <th>certainty</th>\n",
       "      <th>kulczynski</th>\n",
       "    </tr>\n",
       "  </thead>\n",
       "  <tbody>\n",
       "    <tr>\n",
       "      <th>115</th>\n",
       "      <td>(VeryLowRuntime, VeryLowCredits)</td>\n",
       "      <td>(short)</td>\n",
       "      <td>0.113735</td>\n",
       "      <td>0.149542</td>\n",
       "      <td>0.081907</td>\n",
       "      <td>0.720155</td>\n",
       "      <td>4.815736</td>\n",
       "      <td>1.0</td>\n",
       "      <td>0.064899</td>\n",
       "      <td>3.039037</td>\n",
       "      <td>0.894030</td>\n",
       "      <td>0.451602</td>\n",
       "      <td>0.670948</td>\n",
       "      <td>0.633938</td>\n",
       "    </tr>\n",
       "    <tr>\n",
       "      <th>129</th>\n",
       "      <td>(NoUserReviews, short)</td>\n",
       "      <td>(VeryLowRuntime, NoCriticReviews)</td>\n",
       "      <td>0.095422</td>\n",
       "      <td>0.281655</td>\n",
       "      <td>0.082728</td>\n",
       "      <td>0.866976</td>\n",
       "      <td>3.078152</td>\n",
       "      <td>1.0</td>\n",
       "      <td>0.055852</td>\n",
       "      <td>5.400099</td>\n",
       "      <td>0.746347</td>\n",
       "      <td>0.281056</td>\n",
       "      <td>0.814818</td>\n",
       "      <td>0.580349</td>\n",
       "    </tr>\n",
       "    <tr>\n",
       "      <th>128</th>\n",
       "      <td>(short, NoCriticReviews)</td>\n",
       "      <td>(NoUserReviews, VeryLowRuntime)</td>\n",
       "      <td>0.123524</td>\n",
       "      <td>0.221345</td>\n",
       "      <td>0.082728</td>\n",
       "      <td>0.669734</td>\n",
       "      <td>3.025746</td>\n",
       "      <td>1.0</td>\n",
       "      <td>0.055387</td>\n",
       "      <td>2.357661</td>\n",
       "      <td>0.763858</td>\n",
       "      <td>0.315587</td>\n",
       "      <td>0.575851</td>\n",
       "      <td>0.521743</td>\n",
       "    </tr>\n",
       "    <tr>\n",
       "      <th>100</th>\n",
       "      <td>(short)</td>\n",
       "      <td>(NoCriticReviews, VeryLowRuntime)</td>\n",
       "      <td>0.149542</td>\n",
       "      <td>0.281655</td>\n",
       "      <td>0.118724</td>\n",
       "      <td>0.793919</td>\n",
       "      <td>2.818768</td>\n",
       "      <td>1.0</td>\n",
       "      <td>0.076605</td>\n",
       "      <td>3.485742</td>\n",
       "      <td>0.758691</td>\n",
       "      <td>0.379951</td>\n",
       "      <td>0.713117</td>\n",
       "      <td>0.607722</td>\n",
       "    </tr>\n",
       "    <tr>\n",
       "      <th>114</th>\n",
       "      <td>(short, VeryLowCredits)</td>\n",
       "      <td>(VeryLowRuntime)</td>\n",
       "      <td>0.085128</td>\n",
       "      <td>0.346448</td>\n",
       "      <td>0.081907</td>\n",
       "      <td>0.962166</td>\n",
       "      <td>2.777233</td>\n",
       "      <td>1.0</td>\n",
       "      <td>0.052415</td>\n",
       "      <td>17.274283</td>\n",
       "      <td>0.699474</td>\n",
       "      <td>0.234242</td>\n",
       "      <td>0.942110</td>\n",
       "      <td>0.599293</td>\n",
       "    </tr>\n",
       "    <tr>\n",
       "      <th>...</th>\n",
       "      <td>...</td>\n",
       "      <td>...</td>\n",
       "      <td>...</td>\n",
       "      <td>...</td>\n",
       "      <td>...</td>\n",
       "      <td>...</td>\n",
       "      <td>...</td>\n",
       "      <td>...</td>\n",
       "      <td>...</td>\n",
       "      <td>...</td>\n",
       "      <td>...</td>\n",
       "      <td>...</td>\n",
       "      <td>...</td>\n",
       "      <td>...</td>\n",
       "    </tr>\n",
       "    <tr>\n",
       "      <th>14</th>\n",
       "      <td>(MediumVotes)</td>\n",
       "      <td>(NoCriticReviews)</td>\n",
       "      <td>0.182823</td>\n",
       "      <td>0.693716</td>\n",
       "      <td>0.121124</td>\n",
       "      <td>0.662522</td>\n",
       "      <td>0.955032</td>\n",
       "      <td>1.0</td>\n",
       "      <td>-0.005703</td>\n",
       "      <td>0.907565</td>\n",
       "      <td>-0.054480</td>\n",
       "      <td>0.160341</td>\n",
       "      <td>-0.101850</td>\n",
       "      <td>0.418562</td>\n",
       "    </tr>\n",
       "    <tr>\n",
       "      <th>5</th>\n",
       "      <td>(LowRating)</td>\n",
       "      <td>(NoCriticReviews)</td>\n",
       "      <td>0.266940</td>\n",
       "      <td>0.693716</td>\n",
       "      <td>0.174361</td>\n",
       "      <td>0.653182</td>\n",
       "      <td>0.941569</td>\n",
       "      <td>1.0</td>\n",
       "      <td>-0.010820</td>\n",
       "      <td>0.883125</td>\n",
       "      <td>-0.078048</td>\n",
       "      <td>0.221749</td>\n",
       "      <td>-0.132343</td>\n",
       "      <td>0.452262</td>\n",
       "    </tr>\n",
       "    <tr>\n",
       "      <th>35</th>\n",
       "      <td>(FewUserReviews, is_from_NorthAmerica)</td>\n",
       "      <td>(NoCriticReviews)</td>\n",
       "      <td>0.136280</td>\n",
       "      <td>0.693716</td>\n",
       "      <td>0.088664</td>\n",
       "      <td>0.650602</td>\n",
       "      <td>0.937851</td>\n",
       "      <td>1.0</td>\n",
       "      <td>-0.005876</td>\n",
       "      <td>0.876605</td>\n",
       "      <td>-0.071257</td>\n",
       "      <td>0.119601</td>\n",
       "      <td>-0.140765</td>\n",
       "      <td>0.389207</td>\n",
       "    </tr>\n",
       "    <tr>\n",
       "      <th>23</th>\n",
       "      <td>(is_from_NorthAmerica)</td>\n",
       "      <td>(NoCriticReviews)</td>\n",
       "      <td>0.479002</td>\n",
       "      <td>0.693716</td>\n",
       "      <td>0.310767</td>\n",
       "      <td>0.648780</td>\n",
       "      <td>0.935224</td>\n",
       "      <td>1.0</td>\n",
       "      <td>-0.021524</td>\n",
       "      <td>0.872057</td>\n",
       "      <td>-0.117342</td>\n",
       "      <td>0.360539</td>\n",
       "      <td>-0.146714</td>\n",
       "      <td>0.548377</td>\n",
       "    </tr>\n",
       "    <tr>\n",
       "      <th>0</th>\n",
       "      <td>(FewUserReviews)</td>\n",
       "      <td>(NoCriticReviews)</td>\n",
       "      <td>0.259804</td>\n",
       "      <td>0.693716</td>\n",
       "      <td>0.165835</td>\n",
       "      <td>0.638308</td>\n",
       "      <td>0.920128</td>\n",
       "      <td>1.0</td>\n",
       "      <td>-0.014395</td>\n",
       "      <td>0.846808</td>\n",
       "      <td>-0.104963</td>\n",
       "      <td>0.210535</td>\n",
       "      <td>-0.180905</td>\n",
       "      <td>0.438681</td>\n",
       "    </tr>\n",
       "  </tbody>\n",
       "</table>\n",
       "<p>137 rows × 14 columns</p>\n",
       "</div>"
      ],
      "text/plain": [
       "                                antecedents  \\\n",
       "115        (VeryLowRuntime, VeryLowCredits)   \n",
       "129                  (NoUserReviews, short)   \n",
       "128                (short, NoCriticReviews)   \n",
       "100                                 (short)   \n",
       "114                 (short, VeryLowCredits)   \n",
       "..                                      ...   \n",
       "14                            (MediumVotes)   \n",
       "5                               (LowRating)   \n",
       "35   (FewUserReviews, is_from_NorthAmerica)   \n",
       "23                   (is_from_NorthAmerica)   \n",
       "0                          (FewUserReviews)   \n",
       "\n",
       "                           consequents  antecedent support  \\\n",
       "115                            (short)            0.113735   \n",
       "129  (VeryLowRuntime, NoCriticReviews)            0.095422   \n",
       "128    (NoUserReviews, VeryLowRuntime)            0.123524   \n",
       "100  (NoCriticReviews, VeryLowRuntime)            0.149542   \n",
       "114                   (VeryLowRuntime)            0.085128   \n",
       "..                                 ...                 ...   \n",
       "14                   (NoCriticReviews)            0.182823   \n",
       "5                    (NoCriticReviews)            0.266940   \n",
       "35                   (NoCriticReviews)            0.136280   \n",
       "23                   (NoCriticReviews)            0.479002   \n",
       "0                    (NoCriticReviews)            0.259804   \n",
       "\n",
       "     consequent support   support  confidence      lift  representativity  \\\n",
       "115            0.149542  0.081907    0.720155  4.815736               1.0   \n",
       "129            0.281655  0.082728    0.866976  3.078152               1.0   \n",
       "128            0.221345  0.082728    0.669734  3.025746               1.0   \n",
       "100            0.281655  0.118724    0.793919  2.818768               1.0   \n",
       "114            0.346448  0.081907    0.962166  2.777233               1.0   \n",
       "..                  ...       ...         ...       ...               ...   \n",
       "14             0.693716  0.121124    0.662522  0.955032               1.0   \n",
       "5              0.693716  0.174361    0.653182  0.941569               1.0   \n",
       "35             0.693716  0.088664    0.650602  0.937851               1.0   \n",
       "23             0.693716  0.310767    0.648780  0.935224               1.0   \n",
       "0              0.693716  0.165835    0.638308  0.920128               1.0   \n",
       "\n",
       "     leverage  conviction  zhangs_metric   jaccard  certainty  kulczynski  \n",
       "115  0.064899    3.039037       0.894030  0.451602   0.670948    0.633938  \n",
       "129  0.055852    5.400099       0.746347  0.281056   0.814818    0.580349  \n",
       "128  0.055387    2.357661       0.763858  0.315587   0.575851    0.521743  \n",
       "100  0.076605    3.485742       0.758691  0.379951   0.713117    0.607722  \n",
       "114  0.052415   17.274283       0.699474  0.234242   0.942110    0.599293  \n",
       "..        ...         ...            ...       ...        ...         ...  \n",
       "14  -0.005703    0.907565      -0.054480  0.160341  -0.101850    0.418562  \n",
       "5   -0.010820    0.883125      -0.078048  0.221749  -0.132343    0.452262  \n",
       "35  -0.005876    0.876605      -0.071257  0.119601  -0.140765    0.389207  \n",
       "23  -0.021524    0.872057      -0.117342  0.360539  -0.146714    0.548377  \n",
       "0   -0.014395    0.846808      -0.104963  0.210535  -0.180905    0.438681  \n",
       "\n",
       "[137 rows x 14 columns]"
      ]
     },
     "execution_count": 329,
     "metadata": {},
     "output_type": "execute_result"
    }
   ],
   "source": [
    "rules_apriori.sort_values(by=\"lift\", axis=0, ascending=False)"
   ]
  },
  {
   "cell_type": "markdown",
   "id": "2a1feaec",
   "metadata": {},
   "source": [
    "### Target Prediction: various attempts (find the most informative one)"
   ]
  },
  {
   "cell_type": "code",
   "execution_count": 330,
   "id": "47410a0a",
   "metadata": {},
   "outputs": [
    {
     "name": "stdout",
     "output_type": "stream",
     "text": [
      "                     antecedents             consequents  antecedent support  \\\n",
      "10             (ManyUserReviews)  (is_from_NorthAmerica)            0.144680   \n",
      "41       (tvEpisode, HighRating)  (is_from_NorthAmerica)            0.139185   \n",
      "54       (tvEpisode, LowRuntime)  (is_from_NorthAmerica)            0.135775   \n",
      "116  (tvEpisode, VeryLowRuntime)  (is_from_NorthAmerica)            0.143985   \n",
      "34                   (tvEpisode)  (is_from_NorthAmerica)            0.295674   \n",
      "\n",
      "     consequent support   support  confidence      lift  representativity  \\\n",
      "10             0.479002  0.093716    0.647752  1.352295               1.0   \n",
      "41             0.479002  0.088349    0.634755  1.325161               1.0   \n",
      "54             0.479002  0.084686    0.623721  1.302125               1.0   \n",
      "116            0.479002  0.088159    0.612281  1.278242               1.0   \n",
      "34             0.479002  0.179034    0.605510  1.264108               1.0   \n",
      "\n",
      "     leverage  conviction  zhangs_metric   jaccard  certainty  kulczynski  \n",
      "10   0.024415    1.479066       0.304583  0.176835   0.323897    0.421701  \n",
      "41   0.021679    1.426434       0.285049  0.166746   0.298951    0.409599  \n",
      "54   0.019649    1.384605       0.268477  0.159757   0.277772    0.400259  \n",
      "116  0.019190    1.343750       0.254289  0.164836   0.255814    0.398164  \n",
      "34   0.037405    1.320688       0.296636  0.300573   0.242819    0.489637  \n"
     ]
    }
   ],
   "source": [
    "# Filtro le regole con \"nord america\" nei consequents\n",
    "rules_north_am = rules_apriori[rules_apriori['consequents'] == frozenset({'is_from_NorthAmerica'})]\n",
    "\n",
    "\n",
    "# Ordina le regole per lift in ordine decrescente\n",
    "rules_north_am_sorted = rules_north_am.sort_values(by='lift', ascending=False)\n",
    "\n",
    "print(rules_north_am_sorted)"
   ]
  },
  {
   "cell_type": "code",
   "execution_count": 331,
   "id": "c0f5a1bc",
   "metadata": {},
   "outputs": [
    {
     "name": "stdout",
     "output_type": "stream",
     "text": [
      "To predict: is_from_NorthAmerica\n",
      "How? ManyUserReviews\n"
     ]
    }
   ],
   "source": [
    "# Filter the rule where the consequent contains \"is_from_NorthAmerica\"\n",
    "rule_for_highrated = [r for r in rules_apriori.iterrows() if 'is_from_NorthAmerica' in r[1]['consequents']]\n",
    "\n",
    "# Extract rule details (antecedents and consequents)\n",
    "if len(rule_for_highrated) > 0:\n",
    "    selected_rule = rule_for_highrated[0][1]  # Take the first matching rule\n",
    "    to_predict = \", \".join(selected_rule['consequents'])  # Convert frozenset to string\n",
    "    how = \", \".join(selected_rule['antecedents'])  # Convert frozenset to string\n",
    "\n",
    "    print(\"To predict:\", to_predict)\n",
    "    print(\"How?\", how)\n",
    "else:\n",
    "    print(\"No rules found with 'is_from_NorthAmerica' in the consequents.\")\n"
   ]
  },
  {
   "cell_type": "code",
   "execution_count": 332,
   "id": "e2b5a125",
   "metadata": {},
   "outputs": [
    {
     "name": "stdout",
     "output_type": "stream",
     "text": [
      "Empty DataFrame\n",
      "Columns: [antecedents, consequents, antecedent support, consequent support, support, confidence, lift, representativity, leverage, conviction, zhangs_metric, jaccard, certainty, kulczynski]\n",
      "Index: []\n"
     ]
    }
   ],
   "source": [
    "# Filtro le regole con \"low runtime\" nei consequents\n",
    "rules_north_am = rules_apriori[rules_apriori['consequents'] == frozenset({'ManyUserReviews'})]\n",
    "\n",
    "# Ordina le regole per lift in ordine decrescente\n",
    "rules_north_am_sorted = rules_north_am.sort_values(by='lift', ascending=False)\n",
    "\n",
    "print(rules_north_am_sorted)"
   ]
  },
  {
   "cell_type": "code",
   "execution_count": 333,
   "id": "e201bf81",
   "metadata": {},
   "outputs": [
    {
     "name": "stdout",
     "output_type": "stream",
     "text": [
      "No rules found with 'LowRuntime' in the consequents.\n"
     ]
    }
   ],
   "source": [
    "# Filter the rule where the consequent contains \"HighRated\"\n",
    "rule_for_highrated = [r for r in rules_apriori.iterrows() if 'ManyUserReviews' in r[1]['consequents']]\n",
    "\n",
    "# Extract rule details (antecedents and consequents)\n",
    "if len(rule_for_highrated) > 0:\n",
    "    selected_rule = rule_for_highrated[0][1]  # Take the first matching rule\n",
    "    to_predict = \", \".join(selected_rule['consequents'])  # Convert frozenset to string\n",
    "    how = \", \".join(selected_rule['antecedents'])  # Convert frozenset to string\n",
    "\n",
    "    print(\"To predict:\", to_predict)\n",
    "    print(\"How?\", how)\n",
    "else:\n",
    "    print(\"No rules found with 'LowRuntime' in the consequents.\")\n"
   ]
  }
 ],
 "metadata": {
  "kernelspec": {
   "display_name": "Python 3",
   "language": "python",
   "name": "python3"
  },
  "language_info": {
   "codemirror_mode": {
    "name": "ipython",
    "version": 3
   },
   "file_extension": ".py",
   "mimetype": "text/x-python",
   "name": "python",
   "nbconvert_exporter": "python",
   "pygments_lexer": "ipython3",
   "version": "3.8.2"
  }
 },
 "nbformat": 4,
 "nbformat_minor": 5
}
