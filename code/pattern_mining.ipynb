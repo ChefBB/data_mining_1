{
 "cells": [
  {
   "cell_type": "markdown",
   "id": "2cfa218c",
   "metadata": {},
   "source": [
    "# PATTERN MINING"
   ]
  },
  {
   "cell_type": "code",
   "execution_count": 385,
   "id": "76c01c86",
   "metadata": {},
   "outputs": [],
   "source": [
    "import pandas as pd\n",
    "import seaborn as sns\n",
    "import matplotlib.pyplot as plt\n",
    "from mlxtend.preprocessing import TransactionEncoder\n",
    "from mlxtend.frequent_patterns import apriori, association_rules\n",
    "import numpy as np\n",
    "from mlxtend.frequent_patterns import fpgrowth"
   ]
  },
  {
   "cell_type": "code",
   "execution_count": 386,
   "id": "a576fa9f",
   "metadata": {},
   "outputs": [],
   "source": [
    "train = pd.read_csv('pp_train.csv')\n",
    "test = pd.read_csv('pp_test.csv')\n",
    "df = pd.concat([train, test], axis=0, ignore_index=True)"
   ]
  },
  {
   "cell_type": "code",
   "execution_count": 387,
   "id": "5d4b04ba",
   "metadata": {},
   "outputs": [
    {
     "name": "stdout",
     "output_type": "stream",
     "text": [
      "<class 'pandas.core.frame.DataFrame'>\n",
      "RangeIndex: 21556 entries, 0 to 21555\n",
      "Data columns (total 65 columns):\n",
      " #   Column                       Non-Null Count  Dtype  \n",
      "---  ------                       --------------  -----  \n",
      " 0   originalTitle                21556 non-null  object \n",
      " 1   rating                       21556 non-null  int64  \n",
      " 2   startYear                    21556 non-null  int64  \n",
      " 3   endYear                      20516 non-null  float64\n",
      " 4   runtimeMinutes               15393 non-null  float64\n",
      " 5   awardWins                    21556 non-null  float64\n",
      " 6   numVotes                     21556 non-null  int64  \n",
      " 7   totalImages                  21556 non-null  int64  \n",
      " 8   totalVideos                  21556 non-null  int64  \n",
      " 9   totalCredits                 21556 non-null  int64  \n",
      " 10  criticReviewsTotal           21556 non-null  int64  \n",
      " 11  titleType                    21556 non-null  object \n",
      " 12  awardNominationsExcludeWins  21556 non-null  int64  \n",
      " 13  canHaveEpisodes              21556 non-null  bool   \n",
      " 14  isAdult                      21556 non-null  int64  \n",
      " 15  numRegions                   21556 non-null  int64  \n",
      " 16  userReviewsTotal             21556 non-null  int64  \n",
      " 17  is_Documentary               21556 non-null  int64  \n",
      " 18  is_History                   21556 non-null  int64  \n",
      " 19  is_Adventure                 21556 non-null  int64  \n",
      " 20  is_Thriller                  21556 non-null  int64  \n",
      " 21  is_Game-Show                 21556 non-null  int64  \n",
      " 22  is_Comedy                    21556 non-null  int64  \n",
      " 23  is_Sci-Fi                    21556 non-null  int64  \n",
      " 24  is_Romance                   21556 non-null  int64  \n",
      " 25  is_Biography                 21556 non-null  int64  \n",
      " 26  is_Musical                   21556 non-null  int64  \n",
      " 27  is_Western                   21556 non-null  int64  \n",
      " 28  is_Music                     21556 non-null  int64  \n",
      " 29  is_Film-Noir                 21556 non-null  int64  \n",
      " 30  is_Adult                     21556 non-null  int64  \n",
      " 31  is_Reality-TV                21556 non-null  int64  \n",
      " 32  is_News                      21556 non-null  int64  \n",
      " 33  is_Action                    21556 non-null  int64  \n",
      " 34  is_Crime                     21556 non-null  int64  \n",
      " 35  is_Short                     21556 non-null  int64  \n",
      " 36  is_Fantasy                   21556 non-null  int64  \n",
      " 37  is_Family                    21556 non-null  int64  \n",
      " 38  is_Mystery                   21556 non-null  int64  \n",
      " 39  is_Talk-Show                 21556 non-null  int64  \n",
      " 40  is_Drama                     21556 non-null  int64  \n",
      " 41  is_Sport                     21556 non-null  int64  \n",
      " 42  is_War                       21556 non-null  int64  \n",
      " 43  is_Horror                    21556 non-null  int64  \n",
      " 44  is_Animation                 21556 non-null  int64  \n",
      " 45  fill_runtimeMinutes          21556 non-null  float64\n",
      " 46  is_from_Oceania              21556 non-null  int64  \n",
      " 47  is_from_North America        21556 non-null  int64  \n",
      " 48  is_from_South America        21556 non-null  int64  \n",
      " 49  is_from_Asia                 21556 non-null  int64  \n",
      " 50  is_from_Africa               21556 non-null  int64  \n",
      " 51  is_from_Europe               21556 non-null  int64  \n",
      " 52  countryOfOrigin              21556 non-null  object \n",
      " 53  countryOfOrigin_freq_enc     21556 non-null  float64\n",
      " 54  countryOfOrigin_NA           21556 non-null  int64  \n",
      " 55  countryOfOrigin_AF           21556 non-null  int64  \n",
      " 56  countryOfOrigin_AS           21556 non-null  int64  \n",
      " 57  countryOfOrigin_EU           21556 non-null  int64  \n",
      " 58  countryOfOrigin_OC           21556 non-null  int64  \n",
      " 59  countryOfOrigin_SA           21556 non-null  int64  \n",
      " 60  countryOfOrigin_UNK          21556 non-null  int64  \n",
      " 61  fill_runtimeMinutes_Bruno    21556 non-null  float64\n",
      " 62  totalNominations             21556 non-null  float64\n",
      " 63  totalMedia                   21556 non-null  int64  \n",
      " 64  runtimeMinutes_notitletype   21556 non-null  float64\n",
      "dtypes: bool(1), float64(8), int64(53), object(3)\n",
      "memory usage: 10.5+ MB\n"
     ]
    }
   ],
   "source": [
    "df.info()"
   ]
  },
  {
   "cell_type": "code",
   "execution_count": 388,
   "id": "9f754901",
   "metadata": {},
   "outputs": [
    {
     "data": {
      "text/plain": [
       "Index(['originalTitle', 'rating', 'startYear', 'endYear', 'runtimeMinutes',\n",
       "       'awardWins', 'numVotes', 'totalImages', 'totalVideos', 'totalCredits',\n",
       "       'criticReviewsTotal', 'titleType', 'awardNominationsExcludeWins',\n",
       "       'canHaveEpisodes', 'isAdult', 'numRegions', 'userReviewsTotal',\n",
       "       'is_Documentary', 'is_History', 'is_Adventure', 'is_Thriller',\n",
       "       'is_Game-Show', 'is_Comedy', 'is_Sci-Fi', 'is_Romance', 'is_Biography',\n",
       "       'is_Musical', 'is_Western', 'is_Music', 'is_Film-Noir', 'is_Adult',\n",
       "       'is_Reality-TV', 'is_News', 'is_Action', 'is_Crime', 'is_Short',\n",
       "       'is_Fantasy', 'is_Family', 'is_Mystery', 'is_Talk-Show', 'is_Drama',\n",
       "       'is_Sport', 'is_War', 'is_Horror', 'is_Animation',\n",
       "       'fill_runtimeMinutes', 'is_from_Oceania', 'is_from_North America',\n",
       "       'is_from_South America', 'is_from_Asia', 'is_from_Africa',\n",
       "       'is_from_Europe', 'countryOfOrigin', 'countryOfOrigin_freq_enc',\n",
       "       'countryOfOrigin_NA', 'countryOfOrigin_AF', 'countryOfOrigin_AS',\n",
       "       'countryOfOrigin_EU', 'countryOfOrigin_OC', 'countryOfOrigin_SA',\n",
       "       'countryOfOrigin_UNK', 'fill_runtimeMinutes_Bruno', 'totalNominations',\n",
       "       'totalMedia', 'runtimeMinutes_notitletype'],\n",
       "      dtype='object')"
      ]
     },
     "execution_count": 388,
     "metadata": {},
     "output_type": "execute_result"
    }
   ],
   "source": [
    "df.columns"
   ]
  },
  {
   "cell_type": "markdown",
   "id": "8ed22a68",
   "metadata": {},
   "source": [
    "## Gestione variabili "
   ]
  },
  {
   "cell_type": "markdown",
   "id": "3163d36b",
   "metadata": {},
   "source": [
    "### Osservare la distribuzione delle numeriche per binning"
   ]
  },
  {
   "cell_type": "code",
   "execution_count": 389,
   "id": "55f69ccf",
   "metadata": {},
   "outputs": [
    {
     "data": {
      "text/plain": [
       "totalNominations\n",
       "25.0    7\n",
       "26.0    7\n",
       "27.0    7\n",
       "28.0    8\n",
       "29.0    5\n",
       "30.0    7\n",
       "31.0    4\n",
       "32.0    2\n",
       "33.0    1\n",
       "34.0    3\n",
       "35.0    4\n",
       "36.0    1\n",
       "37.0    4\n",
       "38.0    2\n",
       "39.0    4\n",
       "40.0    3\n",
       "41.0    2\n",
       "42.0    1\n",
       "43.0    2\n",
       "44.0    1\n",
       "45.0    4\n",
       "46.0    3\n",
       "47.0    1\n",
       "49.0    2\n",
       "50.0    1\n",
       "Name: count, dtype: int64"
      ]
     },
     "execution_count": 389,
     "metadata": {},
     "output_type": "execute_result"
    }
   ],
   "source": [
    "df['totalNominations'].value_counts().sort_index()[25:50]"
   ]
  },
  {
   "cell_type": "code",
   "execution_count": 390,
   "id": "02f30fd7",
   "metadata": {},
   "outputs": [
    {
     "name": "stdout",
     "output_type": "stream",
     "text": [
      "count    21556.000000\n",
      "mean         0.975135\n",
      "std          6.750601\n",
      "min          0.000000\n",
      "25%          0.000000\n",
      "50%          0.000000\n",
      "75%          0.000000\n",
      "max        409.000000\n",
      "Name: totalNominations, dtype: float64\n"
     ]
    },
    {
     "data": {
      "image/png": "[encoded data removed]",
      "text/plain": [
       "<Figure size 1000x500 with 1 Axes>"
      ]
     },
     "metadata": {},
     "output_type": "display_data"
    }
   ],
   "source": [
    "# Statistiche descrittive\n",
    "print(df['totalNominations'].describe())\n",
    "\n",
    "# Istogramma + KDE (curva di densità)\n",
    "plt.figure(figsize=(10, 5))\n",
    "sns.histplot(df['totalNominations'].dropna(), bins=30, kde=True, color='skyblue')\n",
    "plt.title('Distribuzione di totalNomination')\n",
    "plt.xlabel('totalNomination')\n",
    "plt.ylabel('Frequenza')\n",
    "plt.grid(True)\n",
    "plt.show()"
   ]
  },
  {
   "cell_type": "code",
   "execution_count": 391,
   "id": "79e5c52d",
   "metadata": {},
   "outputs": [
    {
     "data": {
      "text/plain": [
       "startYear\n",
       "1878      1\n",
       "1891      1\n",
       "1893      1\n",
       "1894      7\n",
       "1895      7\n",
       "       ... \n",
       "2020    522\n",
       "2021    520\n",
       "2022    476\n",
       "2023    418\n",
       "2024    167\n",
       "Name: count, Length: 133, dtype: int64"
      ]
     },
     "execution_count": 391,
     "metadata": {},
     "output_type": "execute_result"
    }
   ],
   "source": [
    "df['startYear'].value_counts().sort_index()"
   ]
  },
  {
   "cell_type": "code",
   "execution_count": 392,
   "id": "96241eeb",
   "metadata": {},
   "outputs": [
    {
     "data": {
      "text/plain": [
       "fill_runtimeMinutes_Bruno\n",
       "0.0         1\n",
       "1.0       107\n",
       "2.0        65\n",
       "3.0       117\n",
       "4.0       113\n",
       "         ... \n",
       "570.0       1\n",
       "600.0       1\n",
       "1050.0      1\n",
       "1290.0      1\n",
       "3000.0      1\n",
       "Name: count, Length: 253, dtype: int64"
      ]
     },
     "execution_count": 392,
     "metadata": {},
     "output_type": "execute_result"
    }
   ],
   "source": [
    "df['fill_runtimeMinutes_Bruno'].value_counts().sort_index()"
   ]
  },
  {
   "cell_type": "code",
   "execution_count": 393,
   "id": "49b62ec7",
   "metadata": {},
   "outputs": [
    {
     "data": {
      "text/plain": [
       "totalMedia\n",
       "0       4296\n",
       "1       6296\n",
       "2       2351\n",
       "3       1211\n",
       "4        946\n",
       "        ... \n",
       "2652       1\n",
       "2767       1\n",
       "3108       1\n",
       "3350       1\n",
       "3516       1\n",
       "Name: count, Length: 297, dtype: int64"
      ]
     },
     "execution_count": 393,
     "metadata": {},
     "output_type": "execute_result"
    }
   ],
   "source": [
    "df['totalMedia'].value_counts().sort_index()"
   ]
  },
  {
   "cell_type": "code",
   "execution_count": 394,
   "id": "57732de0",
   "metadata": {},
   "outputs": [
    {
     "data": {
      "text/plain": [
       "numVotes\n",
       "5          262\n",
       "6          472\n",
       "7          638\n",
       "8          684\n",
       "9          649\n",
       "          ... \n",
       "737343       1\n",
       "803146       1\n",
       "825934       1\n",
       "966565       1\n",
       "1071372      1\n",
       "Name: count, Length: 2299, dtype: int64"
      ]
     },
     "execution_count": 394,
     "metadata": {},
     "output_type": "execute_result"
    }
   ],
   "source": [
    "df['numVotes'].value_counts().sort_index()"
   ]
  },
  {
   "cell_type": "code",
   "execution_count": 395,
   "id": "93a4fd2c",
   "metadata": {},
   "outputs": [
    {
     "data": {
      "text/plain": [
       "totalCredits\n",
       "0        109\n",
       "1        282\n",
       "2        222\n",
       "3        236\n",
       "4        312\n",
       "        ... \n",
       "3925       1\n",
       "4404       1\n",
       "4443       1\n",
       "4973       1\n",
       "15742      1\n",
       "Name: count, Length: 596, dtype: int64"
      ]
     },
     "execution_count": 395,
     "metadata": {},
     "output_type": "execute_result"
    }
   ],
   "source": [
    "df['totalCredits'].value_counts().sort_index()"
   ]
  },
  {
   "cell_type": "code",
   "execution_count": 396,
   "id": "81909407",
   "metadata": {},
   "outputs": [
    {
     "data": {
      "text/plain": [
       "criticReviewsTotal\n",
       "0      14982\n",
       "1       2511\n",
       "2       1006\n",
       "3        586\n",
       "4        406\n",
       "       ...  \n",
       "418        1\n",
       "439        1\n",
       "491        1\n",
       "533        1\n",
       "567        1\n",
       "Name: count, Length: 178, dtype: int64"
      ]
     },
     "execution_count": 396,
     "metadata": {},
     "output_type": "execute_result"
    }
   ],
   "source": [
    "df['criticReviewsTotal'].value_counts().sort_index()"
   ]
  },
  {
   "cell_type": "code",
   "execution_count": 397,
   "id": "7fd3d2f5",
   "metadata": {},
   "outputs": [
    {
     "data": {
      "text/plain": [
       "numRegions\n",
       "1     12505\n",
       "2      2484\n",
       "3      1174\n",
       "4       946\n",
       "5       656\n",
       "      ...  \n",
       "58        2\n",
       "60        1\n",
       "62        1\n",
       "63        1\n",
       "69        1\n",
       "Name: count, Length: 62, dtype: int64"
      ]
     },
     "execution_count": 397,
     "metadata": {},
     "output_type": "execute_result"
    }
   ],
   "source": [
    "df['numRegions'].value_counts().sort_index()"
   ]
  },
  {
   "cell_type": "code",
   "execution_count": 398,
   "id": "0ceebbb1",
   "metadata": {},
   "outputs": [
    {
     "data": {
      "text/plain": [
       "userReviewsTotal\n",
       "0       12080\n",
       "1        3290\n",
       "2        1490\n",
       "3         863\n",
       "4         551\n",
       "        ...  \n",
       "1604        1\n",
       "1663        1\n",
       "1821        1\n",
       "2423        1\n",
       "5727        1\n",
       "Name: count, Length: 284, dtype: int64"
      ]
     },
     "execution_count": 398,
     "metadata": {},
     "output_type": "execute_result"
    }
   ],
   "source": [
    "df['userReviewsTotal'].value_counts().sort_index()"
   ]
  },
  {
   "cell_type": "code",
   "execution_count": 399,
   "id": "df74e9d1",
   "metadata": {},
   "outputs": [
    {
     "data": {
      "text/plain": [
       "rating\n",
       "1        6\n",
       "2       81\n",
       "3      205\n",
       "4      614\n",
       "5     1512\n",
       "6     3658\n",
       "7     5985\n",
       "8     6322\n",
       "9     2713\n",
       "10     460\n",
       "Name: count, dtype: int64"
      ]
     },
     "execution_count": 399,
     "metadata": {},
     "output_type": "execute_result"
    }
   ],
   "source": [
    "df['rating'].value_counts().sort_index()"
   ]
  },
  {
   "cell_type": "markdown",
   "id": "cc7cc7be",
   "metadata": {},
   "source": [
    "### Trasformazione binaria con valori semanticamente significativi"
   ]
  },
  {
   "cell_type": "code",
   "execution_count": 400,
   "id": "e042ef05",
   "metadata": {},
   "outputs": [
    {
     "data": {
      "text/plain": [
       "0        cant_have_episodes\n",
       "1        cant_have_episodes\n",
       "2         can_have_episodes\n",
       "3         can_have_episodes\n",
       "4        cant_have_episodes\n",
       "                ...        \n",
       "21551    cant_have_episodes\n",
       "21552    cant_have_episodes\n",
       "21553    cant_have_episodes\n",
       "21554     can_have_episodes\n",
       "21555     can_have_episodes\n",
       "Name: canHaveEpisodes, Length: 21556, dtype: object"
      ]
     },
     "execution_count": 400,
     "metadata": {},
     "output_type": "execute_result"
    }
   ],
   "source": [
    "df[\"canHaveEpisodes\"] = df[\"canHaveEpisodes\"].astype(int)\n",
    "canhaveeps_dict = {0: \"cant_have_episodes\", 1: \"can_have_episodes\"}\n",
    "df[\"canHaveEpisodes\"] = df[\"canHaveEpisodes\"].map(canhaveeps_dict)\n",
    "df[\"canHaveEpisodes\"]"
   ]
  },
  {
   "cell_type": "code",
   "execution_count": 401,
   "id": "7fc9d917",
   "metadata": {},
   "outputs": [
    {
     "data": {
      "text/plain": [
       "0        is_not_adult\n",
       "1        is_not_adult\n",
       "2        is_not_adult\n",
       "3        is_not_adult\n",
       "4        is_not_adult\n",
       "             ...     \n",
       "21551    is_not_adult\n",
       "21552    is_not_adult\n",
       "21553    is_not_adult\n",
       "21554    is_not_adult\n",
       "21555    is_not_adult\n",
       "Name: isAdult, Length: 21556, dtype: object"
      ]
     },
     "execution_count": 401,
     "metadata": {},
     "output_type": "execute_result"
    }
   ],
   "source": [
    "df[\"isAdult\"] = df[\"isAdult\"].astype(int)\n",
    "canhaveeps_dict = {0: \"is_not_adult\", 1: \"is_adult\"}\n",
    "df[\"isAdult\"] = df[\"isAdult\"].map(canhaveeps_dict)\n",
    "df[\"isAdult\"]"
   ]
  },
  {
   "cell_type": "markdown",
   "id": "b7b3c3cb",
   "metadata": {},
   "source": [
    "### Gestione outliers --> altimenti rischiamo di avere dei bin sfasati (LASCIATO IN SOSPESO)"
   ]
  },
  {
   "cell_type": "code",
   "execution_count": 402,
   "id": "3b4b618d",
   "metadata": {},
   "outputs": [
    {
     "name": "stdout",
     "output_type": "stream",
     "text": [
      "\n",
      "Columns with potential outliers detected by IQR:\n",
      "['fill_runtimeMinutes_Bruno', 'numVotes', 'numRegions', 'totalMedia', 'totalCredits', 'criticReviewsTotal', 'userReviewsTotal', 'totalNominations']\n"
     ]
    }
   ],
   "source": [
    "def detect_outliers(data, columns_to_check, threshold_std_dev=2.0, threshold_iqr=1.5):\n",
    "    \"\"\"\n",
    "    Identifies potential outliers in the specified columns of a DataFrame using two methods:\n",
    "    1. Standard deviation.\n",
    "    2. Interquartile range (IQR).\n",
    "\n",
    "    Args:\n",
    "        data (pd.DataFrame): The input DataFrame.\n",
    "        columns_to_check (list): List of column names to check for outliers.\n",
    "        threshold_std_dev (float): Multiplier for standard deviation threshold.\n",
    "        threshold_iqr (float): Multiplier for IQR threshold.\n",
    "\n",
    "    Returns:\n",
    "        dict: A dictionary with the following keys:\n",
    "            - \"columns_with_outliers_std_dev\": Columns with outliers detected by standard deviation.\n",
    "            - \"columns_with_outliers_iqr\": Columns with outliers detected by IQR.\n",
    "            - \"common_outlier_columns\": Columns with outliers detected by both methods.\n",
    "    \"\"\"\n",
    "    # Select only the specified columns\n",
    "    numeric_columns = data[columns_to_check]\n",
    "\n",
    "    # Calculate quartiles and IQR\n",
    "    quartiles = numeric_columns.quantile([0.25, 0.75])\n",
    "    lower_quartile = quartiles.loc[0.25]\n",
    "    upper_quartile = quartiles.loc[0.75]\n",
    "    interquartile_range = upper_quartile - lower_quartile\n",
    "\n",
    "    # Identify outliers using the standard deviation method\n",
    "    outliers_std_dev = (numeric_columns - numeric_columns.mean()).abs() > threshold_std_dev * numeric_columns.std()\n",
    "\n",
    "    # Identify outliers using the IQR method\n",
    "    outliers_iqr = (numeric_columns < lower_quartile - threshold_iqr * interquartile_range) | \\\n",
    "                   (numeric_columns > upper_quartile + threshold_iqr * interquartile_range)\n",
    "\n",
    "    # Determine columns with outliers for each method\n",
    "    columns_with_outliers_std_dev = numeric_columns.columns[outliers_std_dev.any()]\n",
    "    columns_with_outliers_iqr = numeric_columns.columns[outliers_iqr.any()]\n",
    "\n",
    "    # Find common columns with outliers detected by both methods\n",
    "    common_outlier_columns = columns_with_outliers_std_dev.intersection(columns_with_outliers_iqr)\n",
    "\n",
    "    return {\n",
    "        \"columns_with_outliers_std_dev\": columns_with_outliers_std_dev.tolist(),\n",
    "        \"columns_with_outliers_iqr\": columns_with_outliers_iqr.tolist(),\n",
    "        \"common_outlier_columns\": common_outlier_columns.tolist()\n",
    "    }\n",
    "\n",
    "# Example usage:\n",
    "columns_to_check = [\n",
    "    \"fill_runtimeMinutes_Bruno\",  \n",
    "    \"numVotes\", \n",
    "    \"numRegions\", \n",
    "    \"totalMedia\", \n",
    "    \"totalCredits\", \n",
    "    \"criticReviewsTotal\",\n",
    "    \"userReviewsTotal\",  \n",
    "    \"totalNominations\", \n",
    "]\n",
    "\n",
    "outliers_info = detect_outliers(df, columns_to_check)\n",
    "print(\"\\nColumns with potential outliers detected by IQR:\")\n",
    "print(outliers_info[\"columns_with_outliers_iqr\"])"
   ]
  },
  {
   "cell_type": "markdown",
   "id": "60d775da",
   "metadata": {},
   "source": [
    "### Realizzazione bin (qcut o cut?)"
   ]
  },
  {
   "cell_type": "code",
   "execution_count": 403,
   "id": "05576074",
   "metadata": {},
   "outputs": [],
   "source": [
    "# bins_nomination = [0, 1, 10, float('inf')]\n",
    "# labels_awards = [0, 1, 2]  # Mantengo valori numerici per compatibilità con algoritmi\n",
    "# df['awardWins_bin'] = pd.cut(df['awardWins'], bins=df, labels=labels_awards, right=False)\n",
    "# ## pp_test_class['awardWins_bin'] = pd.cut(pp_test_class['awardWins'], bins=bins_awards, labels=labels_awards, right=False)"
   ]
  },
  {
   "cell_type": "code",
   "execution_count": 404,
   "id": "96c2664d",
   "metadata": {},
   "outputs": [],
   "source": [
    "import pandas as pd\n",
    "\n",
    "# Crea una copia del DataFrame per evitare modifiche indesiderate\n",
    "df_copy = df.copy()\n",
    "\n",
    "# Inizializza la colonna 'nom_bin' con il valore 'zero'\n",
    "df_copy['nom_bin'] = 'zero'\n",
    "\n",
    "# Crea una maschera per i valori maggiori di zero\n",
    "mask_nonzero = df_copy['totalNominations'] > 0\n",
    "\n",
    "# Applica pd.qcut ai valori positivi\n",
    "df_copy.loc[mask_nonzero, 'nom_bin'] = pd.qcut(\n",
    "    df_copy.loc[mask_nonzero, 'totalNominations'],\n",
    "    q=4,\n",
    "    labels=['basso', \"medio\" ,'alto'],\n",
    "    duplicates='drop'  # Gestisce eventuali bordi duplicati\n",
    ")"
   ]
  },
  {
   "cell_type": "code",
   "execution_count": 406,
   "id": "6c3578f6",
   "metadata": {},
   "outputs": [
    {
     "name": "stdout",
     "output_type": "stream",
     "text": [
      "           count       mean        std  min  25%   50%   75%    max\n",
      "nom_bin                                                            \n",
      "alto       865.0  18.027746  28.601617  6.0  7.0  10.0  17.0  409.0\n",
      "basso     1983.0   1.323752   0.468025  1.0  1.0   1.0   2.0    2.0\n",
      "medio      747.0   3.749665   0.766409  3.0  3.0   4.0   4.0    5.0\n",
      "zero     17961.0   0.000000   0.000000  0.0  0.0   0.0   0.0    0.0\n"
     ]
    }
   ],
   "source": [
    "# Riepilogo del dataset con la colonna 'nom_bin'\n",
    "print(df_copy.groupby('nom_bin')['totalNominations'].describe())"
   ]
  },
  {
   "cell_type": "code",
   "execution_count": 407,
   "id": "9642e973",
   "metadata": {},
   "outputs": [],
   "source": [
    "# df['nom_bin'] = 'zero_nominations'\n",
    "# mask_nonzero = df['totalNominations'] > 0\n",
    "# df.loc[mask_nonzero, 'nom_bin'] = pd.qcut(df.loc[mask_nonzero, 'totalNominations'], q=3, labels=['low', 'medium', 'high'], duplicates='drop')"
   ]
  },
  {
   "cell_type": "code",
   "execution_count": 408,
   "id": "c794c2a1",
   "metadata": {},
   "outputs": [],
   "source": [
    "# df[\"totalNominations_bin\"] = pd.qcut(df['totalNominations'], q=4, )"
   ]
  },
  {
   "cell_type": "code",
   "execution_count": 409,
   "id": "1418f66a",
   "metadata": {},
   "outputs": [],
   "source": [
    "# df[\"AgeBin\"] = pd.qcut(df[\"Age\"], 4) #we define the number of bins and the result is just the bin where that specific value fits in\n",
    "# df[\"FareBin\"] = pd.qcut(df[\"Fare\"], 4)\n",
    "\n",
    "# df[\"AgeBin\"] = df[\"AgeBin\"].astype(str) + \"_Age\" #this is the way to reference the value of the feature\n",
    "# df[\"FareBin\"] = df[\"FareBin\"].astype(str) + \"_Fare\"\n",
    "\n",
    "# df[\"Embarked\"] = df[\"Embarked\"] + \"_Port\""
   ]
  }
 ],
 "metadata": {
  "kernelspec": {
   "display_name": "Python 3",
   "language": "python",
   "name": "python3"
  },
  "language_info": {
   "codemirror_mode": {
    "name": "ipython",
    "version": 3
   },
   "file_extension": ".py",
   "mimetype": "text/x-python",
   "name": "python",
   "nbconvert_exporter": "python",
   "pygments_lexer": "ipython3",
   "version": "3.8.2"
  }
 },
 "nbformat": 4,
 "nbformat_minor": 5
}
