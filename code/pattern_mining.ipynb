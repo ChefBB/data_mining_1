{
 "cells": [
  {
   "cell_type": "markdown",
   "id": "2cfa218c",
   "metadata": {},
   "source": [
    "# PATTERN MINING"
   ]
  },
  {
   "cell_type": "code",
   "execution_count": 273,
   "id": "76c01c86",
   "metadata": {},
   "outputs": [],
   "source": [
    "import pandas as pd\n",
    "import seaborn as sns\n",
    "import matplotlib.pyplot as plt\n",
    "from mlxtend.preprocessing import TransactionEncoder\n",
    "from mlxtend.frequent_patterns import apriori, association_rules\n",
    "import numpy as np\n",
    "from mlxtend.frequent_patterns import fpgrowth"
   ]
  },
  {
   "cell_type": "code",
   "execution_count": 274,
   "id": "a576fa9f",
   "metadata": {},
   "outputs": [],
   "source": [
    "train = pd.read_csv('pp_train.csv')\n",
    "test = pd.read_csv('pp_test.csv')\n",
    "df = pd.concat([train, test], axis=0, ignore_index=True) #abbiamo unito train e test"
   ]
  },
  {
   "cell_type": "code",
   "execution_count": 275,
   "id": "5d4b04ba",
   "metadata": {},
   "outputs": [
    {
     "name": "stdout",
     "output_type": "stream",
     "text": [
      "<class 'pandas.core.frame.DataFrame'>\n",
      "RangeIndex: 21556 entries, 0 to 21555\n",
      "Data columns (total 65 columns):\n",
      " #   Column                       Non-Null Count  Dtype  \n",
      "---  ------                       --------------  -----  \n",
      " 0   originalTitle                21556 non-null  object \n",
      " 1   rating                       21556 non-null  int64  \n",
      " 2   startYear                    21556 non-null  int64  \n",
      " 3   endYear                      20516 non-null  float64\n",
      " 4   runtimeMinutes               15393 non-null  float64\n",
      " 5   awardWins                    21556 non-null  float64\n",
      " 6   numVotes                     21556 non-null  int64  \n",
      " 7   totalImages                  21556 non-null  int64  \n",
      " 8   totalVideos                  21556 non-null  int64  \n",
      " 9   totalCredits                 21556 non-null  int64  \n",
      " 10  criticReviewsTotal           21556 non-null  int64  \n",
      " 11  titleType                    21556 non-null  object \n",
      " 12  awardNominationsExcludeWins  21556 non-null  int64  \n",
      " 13  canHaveEpisodes              21556 non-null  bool   \n",
      " 14  isAdult                      21556 non-null  int64  \n",
      " 15  numRegions                   21556 non-null  int64  \n",
      " 16  userReviewsTotal             21556 non-null  int64  \n",
      " 17  is_Documentary               21556 non-null  int64  \n",
      " 18  is_History                   21556 non-null  int64  \n",
      " 19  is_Adventure                 21556 non-null  int64  \n",
      " 20  is_Thriller                  21556 non-null  int64  \n",
      " 21  is_Game-Show                 21556 non-null  int64  \n",
      " 22  is_Comedy                    21556 non-null  int64  \n",
      " 23  is_Sci-Fi                    21556 non-null  int64  \n",
      " 24  is_Romance                   21556 non-null  int64  \n",
      " 25  is_Biography                 21556 non-null  int64  \n",
      " 26  is_Musical                   21556 non-null  int64  \n",
      " 27  is_Western                   21556 non-null  int64  \n",
      " 28  is_Music                     21556 non-null  int64  \n",
      " 29  is_Film-Noir                 21556 non-null  int64  \n",
      " 30  is_Adult                     21556 non-null  int64  \n",
      " 31  is_Reality-TV                21556 non-null  int64  \n",
      " 32  is_News                      21556 non-null  int64  \n",
      " 33  is_Action                    21556 non-null  int64  \n",
      " 34  is_Crime                     21556 non-null  int64  \n",
      " 35  is_Short                     21556 non-null  int64  \n",
      " 36  is_Fantasy                   21556 non-null  int64  \n",
      " 37  is_Family                    21556 non-null  int64  \n",
      " 38  is_Mystery                   21556 non-null  int64  \n",
      " 39  is_Talk-Show                 21556 non-null  int64  \n",
      " 40  is_Drama                     21556 non-null  int64  \n",
      " 41  is_Sport                     21556 non-null  int64  \n",
      " 42  is_War                       21556 non-null  int64  \n",
      " 43  is_Horror                    21556 non-null  int64  \n",
      " 44  is_Animation                 21556 non-null  int64  \n",
      " 45  fill_runtimeMinutes          21556 non-null  float64\n",
      " 46  is_from_Oceania              21556 non-null  int64  \n",
      " 47  is_from_North America        21556 non-null  int64  \n",
      " 48  is_from_South America        21556 non-null  int64  \n",
      " 49  is_from_Asia                 21556 non-null  int64  \n",
      " 50  is_from_Africa               21556 non-null  int64  \n",
      " 51  is_from_Europe               21556 non-null  int64  \n",
      " 52  countryOfOrigin              21556 non-null  object \n",
      " 53  countryOfOrigin_freq_enc     21556 non-null  float64\n",
      " 54  countryOfOrigin_NA           21556 non-null  int64  \n",
      " 55  countryOfOrigin_AF           21556 non-null  int64  \n",
      " 56  countryOfOrigin_AS           21556 non-null  int64  \n",
      " 57  countryOfOrigin_EU           21556 non-null  int64  \n",
      " 58  countryOfOrigin_OC           21556 non-null  int64  \n",
      " 59  countryOfOrigin_SA           21556 non-null  int64  \n",
      " 60  countryOfOrigin_UNK          21556 non-null  int64  \n",
      " 61  fill_runtimeMinutes_Bruno    21556 non-null  float64\n",
      " 62  totalNominations             21556 non-null  float64\n",
      " 63  totalMedia                   21556 non-null  int64  \n",
      " 64  runtimeMinutes_notitletype   21556 non-null  float64\n",
      "dtypes: bool(1), float64(8), int64(53), object(3)\n",
      "memory usage: 10.5+ MB\n"
     ]
    }
   ],
   "source": [
    "df.info()"
   ]
  },
  {
   "cell_type": "code",
   "execution_count": 276,
   "id": "9f754901",
   "metadata": {},
   "outputs": [
    {
     "data": {
      "text/plain": [
       "Index(['originalTitle', 'rating', 'startYear', 'endYear', 'runtimeMinutes',\n",
       "       'awardWins', 'numVotes', 'totalImages', 'totalVideos', 'totalCredits',\n",
       "       'criticReviewsTotal', 'titleType', 'awardNominationsExcludeWins',\n",
       "       'canHaveEpisodes', 'isAdult', 'numRegions', 'userReviewsTotal',\n",
       "       'is_Documentary', 'is_History', 'is_Adventure', 'is_Thriller',\n",
       "       'is_Game-Show', 'is_Comedy', 'is_Sci-Fi', 'is_Romance', 'is_Biography',\n",
       "       'is_Musical', 'is_Western', 'is_Music', 'is_Film-Noir', 'is_Adult',\n",
       "       'is_Reality-TV', 'is_News', 'is_Action', 'is_Crime', 'is_Short',\n",
       "       'is_Fantasy', 'is_Family', 'is_Mystery', 'is_Talk-Show', 'is_Drama',\n",
       "       'is_Sport', 'is_War', 'is_Horror', 'is_Animation',\n",
       "       'fill_runtimeMinutes', 'is_from_Oceania', 'is_from_North America',\n",
       "       'is_from_South America', 'is_from_Asia', 'is_from_Africa',\n",
       "       'is_from_Europe', 'countryOfOrigin', 'countryOfOrigin_freq_enc',\n",
       "       'countryOfOrigin_NA', 'countryOfOrigin_AF', 'countryOfOrigin_AS',\n",
       "       'countryOfOrigin_EU', 'countryOfOrigin_OC', 'countryOfOrigin_SA',\n",
       "       'countryOfOrigin_UNK', 'fill_runtimeMinutes_Bruno', 'totalNominations',\n",
       "       'totalMedia', 'runtimeMinutes_notitletype'],\n",
       "      dtype='object')"
      ]
     },
     "execution_count": 276,
     "metadata": {},
     "output_type": "execute_result"
    }
   ],
   "source": [
    "df.columns"
   ]
  },
  {
   "cell_type": "markdown",
   "id": "8ed22a68",
   "metadata": {},
   "source": [
    "## Gestione variabili "
   ]
  },
  {
   "cell_type": "markdown",
   "id": "3163d36b",
   "metadata": {},
   "source": [
    "### Osservare la distribuzione delle numeriche per binning"
   ]
  },
  {
   "cell_type": "code",
   "execution_count": 277,
   "id": "55f69ccf",
   "metadata": {},
   "outputs": [
    {
     "data": {
      "text/plain": [
       "totalNominations\n",
       "0.0      17961\n",
       "1.0       1341\n",
       "2.0        642\n",
       "3.0        336\n",
       "4.0        262\n",
       "         ...  \n",
       "170.0        1\n",
       "172.0        2\n",
       "306.0        1\n",
       "339.0        1\n",
       "409.0        1\n",
       "Name: count, Length: 87, dtype: int64"
      ]
     },
     "execution_count": 277,
     "metadata": {},
     "output_type": "execute_result"
    }
   ],
   "source": [
    "df['totalNominations'].value_counts().sort_index()"
   ]
  },
  {
   "cell_type": "code",
   "execution_count": 278,
   "id": "02f30fd7",
   "metadata": {},
   "outputs": [
    {
     "name": "stdout",
     "output_type": "stream",
     "text": [
      "count    21556.000000\n",
      "mean         0.975135\n",
      "std          6.750601\n",
      "min          0.000000\n",
      "25%          0.000000\n",
      "50%          0.000000\n",
      "75%          0.000000\n",
      "max        409.000000\n",
      "Name: totalNominations, dtype: float64\n"
     ]
    },
    {
     "data": {
      "image/png": "[encoded data removed]",
      "text/plain": [
       "<Figure size 1000x500 with 1 Axes>"
      ]
     },
     "metadata": {},
     "output_type": "display_data"
    }
   ],
   "source": [
    "# Statistiche descrittive\n",
    "print(df['totalNominations'].describe())\n",
    "\n",
    "# Istogramma + KDE (curva di densità)\n",
    "plt.figure(figsize=(10, 5))\n",
    "sns.histplot(df['totalNominations'].dropna(), bins=30, kde=True, color='skyblue')\n",
    "plt.title('Distribuzione di totalNomination')\n",
    "plt.xlabel('totalNomination')\n",
    "plt.ylabel('Frequenza')\n",
    "plt.grid(True)\n",
    "# plt.yscale(\"log\")\n",
    "plt.show()"
   ]
  },
  {
   "cell_type": "code",
   "execution_count": 279,
   "id": "79e5c52d",
   "metadata": {},
   "outputs": [
    {
     "data": {
      "text/plain": [
       "startYear\n",
       "1878      1\n",
       "1891      1\n",
       "1893      1\n",
       "1894      7\n",
       "1895      7\n",
       "       ... \n",
       "2020    522\n",
       "2021    520\n",
       "2022    476\n",
       "2023    418\n",
       "2024    167\n",
       "Name: count, Length: 133, dtype: int64"
      ]
     },
     "execution_count": 279,
     "metadata": {},
     "output_type": "execute_result"
    }
   ],
   "source": [
    "df['startYear'].value_counts().sort_index()\n",
    "# df['fill_runtimeMinutes_Bruno'].value_counts().sort_index()\n",
    "# df['totalMedia'].value_counts().sort_index()\n",
    "# df['numVotes'].value_counts().sort_index()\n",
    "# df['totalCredits'].value_counts().sort_index()\n",
    "# df['criticReviewsTotal'].value_counts().sort_index()\n",
    "# df['numRegions'].value_counts().sort_index()\n",
    "# df['userReviewsTotal'].value_counts().sort_index()\n",
    "# df['rating'].value_counts().sort_index()"
   ]
  },
  {
   "cell_type": "markdown",
   "id": "cc7cc7be",
   "metadata": {},
   "source": [
    "### Trasformazione binaria con valori semanticamente significativi"
   ]
  },
  {
   "cell_type": "code",
   "execution_count": 280,
   "id": "e042ef05",
   "metadata": {},
   "outputs": [
    {
     "data": {
      "text/plain": [
       "0        cant_have_episodes\n",
       "1        cant_have_episodes\n",
       "2         can_have_episodes\n",
       "3         can_have_episodes\n",
       "4        cant_have_episodes\n",
       "                ...        \n",
       "21551    cant_have_episodes\n",
       "21552    cant_have_episodes\n",
       "21553    cant_have_episodes\n",
       "21554     can_have_episodes\n",
       "21555     can_have_episodes\n",
       "Name: canHaveEpisodes, Length: 21556, dtype: object"
      ]
     },
     "execution_count": 280,
     "metadata": {},
     "output_type": "execute_result"
    }
   ],
   "source": [
    "df[\"canHaveEpisodes\"] = df[\"canHaveEpisodes\"].astype(int)\n",
    "canhaveeps_dict = {0: \"cant_have_episodes\", 1: \"can_have_episodes\"}\n",
    "df[\"canHaveEpisodes\"] = df[\"canHaveEpisodes\"].map(canhaveeps_dict)\n",
    "df[\"canHaveEpisodes\"]"
   ]
  },
  {
   "cell_type": "code",
   "execution_count": 281,
   "id": "7fc9d917",
   "metadata": {},
   "outputs": [
    {
     "data": {
      "text/plain": [
       "0        is_not_adult\n",
       "1        is_not_adult\n",
       "2        is_not_adult\n",
       "3        is_not_adult\n",
       "4        is_not_adult\n",
       "             ...     \n",
       "21551    is_not_adult\n",
       "21552    is_not_adult\n",
       "21553    is_not_adult\n",
       "21554    is_not_adult\n",
       "21555    is_not_adult\n",
       "Name: isAdult, Length: 21556, dtype: object"
      ]
     },
     "execution_count": 281,
     "metadata": {},
     "output_type": "execute_result"
    }
   ],
   "source": [
    "df[\"isAdult\"] = df[\"isAdult\"].astype(int)\n",
    "canhaveeps_dict = {0: \"is_not_adult\", 1: \"is_adult\"}\n",
    "df[\"isAdult\"] = df[\"isAdult\"].map(canhaveeps_dict)\n",
    "df[\"isAdult\"]"
   ]
  },
  {
   "cell_type": "markdown",
   "id": "60d775da",
   "metadata": {},
   "source": [
    "### Realizzazione bin\n",
    "Delle seguenti variabili: 'rating', 'startYear', 'numVotes', 'totalCredits', 'criticReviewsTotal', 'numRegions', 'userReviewsTotal',\n",
    "    'countryOfOrigin_freq_enc',\n",
    "       'countryOfOrigin_NA', 'countryOfOrigin_AF', 'countryOfOrigin_AS',\n",
    "       'countryOfOrigin_EU', 'countryOfOrigin_OC', 'countryOfOrigin_SA',\n",
    "       'countryOfOrigin_UNK'\n",
    "       'fill_runtimeMinutes_Bruno', 'totalNominations',\n",
    "       'totalMedia'"
   ]
  },
  {
   "cell_type": "code",
   "execution_count": 282,
   "id": "696a72e4",
   "metadata": {},
   "outputs": [],
   "source": [
    "df_copy = df.copy()"
   ]
  },
  {
   "cell_type": "markdown",
   "id": "8f306dc5",
   "metadata": {},
   "source": [
    "##### TotalNominations"
   ]
  },
  {
   "cell_type": "code",
   "execution_count": 283,
   "id": "5a0bf0ae",
   "metadata": {},
   "outputs": [],
   "source": [
    "df_copy[\"log_totalNominations\"] = np.log1p(df[\"totalNominations\"])"
   ]
  },
  {
   "cell_type": "code",
   "execution_count": 284,
   "id": "d4effb5f",
   "metadata": {},
   "outputs": [
    {
     "name": "stdout",
     "output_type": "stream",
     "text": [
      "                   count       mean        std   min   25%   50%   75%    max\n",
      "log_nom_bin_cut                                                              \n",
      "ZeroNom          17961.0   0.000000   0.000000   0.0   0.0   0.0   0.0    0.0\n",
      "LowNom            2581.0   1.813638   1.010672   1.0   1.0   1.0   2.0    4.0\n",
      "MediumNom          838.0   8.984487   3.835133   5.0   6.0   8.0  11.0   19.0\n",
      "VeryHighNom        176.0  50.056818  51.861983  20.0  24.0  31.0  51.5  409.0\n"
     ]
    }
   ],
   "source": [
    "#TOTALNOMINATIONS LOG-TRANSFORMED\n",
    "log_bins = [-0.01, 0, np.log(5), np.log(20), df_copy['log_totalNominations'].max()]\n",
    "labels = ['ZeroNom', 'LowNom', 'MediumNom', 'VeryHighNom']\n",
    "\n",
    "df_copy['log_nom_bin_cut'] = pd.cut(df_copy['log_totalNominations'], \n",
    "                                bins=log_bins, \n",
    "                                labels=labels)\n",
    "\n",
    "print(df_copy.groupby('log_nom_bin_cut')['totalNominations'].describe())"
   ]
  },
  {
   "cell_type": "code",
   "execution_count": 322,
   "id": "0247510d",
   "metadata": {},
   "outputs": [
    {
     "name": "stdout",
     "output_type": "stream",
     "text": [
      "               count       mean        std   min   25%   50%   75%    max\n",
      "nom_bin_cut                                                              \n",
      "ZeroNom      17961.0   0.000000   0.000000   0.0   0.0   0.0   0.0    0.0\n",
      "LowNom        1983.0   1.323752   0.468025   1.0   1.0   1.0   2.0    2.0\n",
      "MediumNom     1191.0   5.133501   2.072179   3.0   3.0   4.0   6.0   10.0\n",
      "VeryHighNom    421.0  29.171021  37.925920  11.0  13.0  17.0  28.0  409.0\n"
     ]
    }
   ],
   "source": [
    "#TOTALNOMINATIONS NON LOG-TRANSFORMED   \n",
    "bins = [-1, 0, 2, 10, df_copy['totalNominations'].max()]\n",
    "labels = ['ZeroNom', 'LowNom', 'MediumNom', 'VeryHighNom']\n",
    "\n",
    "df_copy['nom_bin_cut'] = pd.cut(df_copy['totalNominations'], \n",
    "                                bins=bins, \n",
    "                                labels=labels)\n",
    "\n",
    "print(df_copy.groupby('nom_bin_cut')['totalNominations'].describe())"
   ]
  },
  {
   "cell_type": "markdown",
   "id": "c833fae1",
   "metadata": {},
   "source": [
    "##### TotalMedia"
   ]
  },
  {
   "cell_type": "code",
   "execution_count": 286,
   "id": "b90d9794",
   "metadata": {},
   "outputs": [],
   "source": [
    "df_copy[\"log_totalMedia\"] = np.log1p(df[\"totalMedia\"])"
   ]
  },
  {
   "cell_type": "code",
   "execution_count": 329,
   "id": "e4fbb6e7",
   "metadata": {},
   "outputs": [
    {
     "name": "stdout",
     "output_type": "stream",
     "text": [
      "                count        mean         std   min   25%   50%    75%     max\n",
      "media_bin                                                                     \n",
      "ZeroMedia      4296.0    0.000000    0.000000   0.0   0.0   0.0    0.0     0.0\n",
      "LowMedia       6296.0    1.000000    0.000000   1.0   1.0   1.0    1.0     1.0\n",
      "MediumMedia    6697.0    3.859041    1.910362   2.0   2.0   3.0    5.0     8.0\n",
      "HighMedia      3353.0   19.623024   10.535930   9.0  11.0  16.0   25.0    50.0\n",
      "VeryHighMedia   914.0  166.155361  306.398912  51.0  67.0  90.0  145.0  3516.0\n"
     ]
    }
   ],
   "source": [
    "#TOTALMEDIA NON LOG-TRANSFORMED\n",
    "bins = [-1, 0, 1, 8, 50, df_copy['totalMedia'].max()]\n",
    "labels = ['ZeroMedia', 'LowMedia', 'MediumMedia', 'HighMedia', 'VeryHighMedia']\n",
    "df_copy['media_bin'] = pd.cut(df_copy['totalMedia'], bins=bins, labels=labels)\n",
    "\n",
    "print(df_copy.groupby('media_bin')['totalMedia'].describe())"
   ]
  },
  {
   "cell_type": "code",
   "execution_count": 288,
   "id": "d92d6f02",
   "metadata": {},
   "outputs": [
    {
     "name": "stdout",
     "output_type": "stream",
     "text": [
      "                count      mean       std  min  25%  50%  75%  max\n",
      "log_media_bin                                                     \n",
      "ZeroMedia      4296.0  0.000000  0.000000  0.0  0.0  0.0  0.0  0.0\n",
      "LowMedia       6296.0  1.000000  0.000000  1.0  1.0  1.0  1.0  1.0\n",
      "MediumMedia    3562.0  2.339978  0.473768  2.0  2.0  2.0  3.0  3.0\n",
      "HighMedia       946.0  4.000000  0.000000  4.0  4.0  4.0  4.0  4.0\n",
      "VeryHighMedia  2189.0  6.269986  1.105793  5.0  5.0  6.0  7.0  8.0\n"
     ]
    }
   ],
   "source": [
    "#TOTALMEDIA LOG-TRANSFORMED\n",
    "log_bins = [-1, 0, 1.61, 3.1, 4.0, np.log(df_copy['totalMedia'].max())]\n",
    "labels = ['ZeroMedia', 'LowMedia', 'MediumMedia', 'HighMedia', 'VeryHighMedia']\n",
    "df_copy['log_media_bin'] = pd.cut(df_copy['totalMedia'], bins=log_bins, labels=labels)\n",
    "\n",
    "print(df_copy.groupby('log_media_bin')['totalMedia'].describe())"
   ]
  },
  {
   "cell_type": "markdown",
   "id": "1d7742b9",
   "metadata": {},
   "source": [
    "##### fill_runtimeMinutes_Bruno"
   ]
  },
  {
   "cell_type": "code",
   "execution_count": 289,
   "id": "6cde13a3",
   "metadata": {},
   "outputs": [],
   "source": [
    "df_copy[\"log_fill_runtimeMinutes_Bruno\"] = np.log1p(df[\"fill_runtimeMinutes_Bruno\"])"
   ]
  },
  {
   "cell_type": "code",
   "execution_count": 330,
   "id": "0b5a0207",
   "metadata": {},
   "outputs": [
    {
     "name": "stdout",
     "output_type": "stream",
     "text": [
      "                  count        mean         std    min    25%    50%    75%  \\\n",
      "runtime_bin                                                                   \n",
      "VeryLowRuntime   5001.0   15.005799    7.459153    0.0    8.0   15.0   22.0   \n",
      "LowRuntime       7384.0   42.204902   11.093113   26.0   30.0   43.0   50.0   \n",
      "MediumRuntime    8334.0   89.792057   12.058264   61.0   83.0   90.0   97.0   \n",
      "HighRuntime       692.0  142.810694   17.188333  121.0  129.0  138.0  153.0   \n",
      "VeryHighRuntime   145.0  299.117241  267.701443  181.0  200.0  225.0  310.0   \n",
      "\n",
      "                    max  \n",
      "runtime_bin              \n",
      "VeryLowRuntime     25.0  \n",
      "LowRuntime         60.0  \n",
      "MediumRuntime     120.0  \n",
      "HighRuntime       180.0  \n",
      "VeryHighRuntime  3000.0  \n"
     ]
    }
   ],
   "source": [
    "#FILL_RUNTIMEMINS_BRUNO NON LOG-TRANSFORMED\n",
    "bins = [-1, 25, 60, 120, 180, df_copy['fill_runtimeMinutes_Bruno'].max()]\n",
    "labels = ['VeryLowRuntime', 'LowRuntime', 'MediumRuntime', 'HighRuntime', \"VeryHighRuntime\"]\n",
    "\n",
    "df_copy['runtime_bin'] = pd.cut(df_copy['fill_runtimeMinutes_Bruno'], bins=bins, labels=labels)\n",
    "print(df_copy.groupby('runtime_bin')['fill_runtimeMinutes_Bruno'].describe())"
   ]
  },
  {
   "cell_type": "code",
   "execution_count": 291,
   "id": "8940dcae",
   "metadata": {},
   "outputs": [
    {
     "name": "stdout",
     "output_type": "stream",
     "text": [
      "                  count        mean         std    min    25%    50%    75%  \\\n",
      "log_runtime_bin                                                               \n",
      "VeryLowRuntime    720.0    3.866667    1.724083    0.0    3.0    4.0    5.0   \n",
      "LowRuntime       6889.0   21.639280    7.917499    7.0   15.0   24.0   30.0   \n",
      "MediumRuntime    8547.0   62.682579   16.934379   33.0   46.0   60.0   80.0   \n",
      "HighRuntime      5340.0  105.555993   22.033086   90.0   92.0   98.0  109.0   \n",
      "VeryHighRuntime    60.0  432.250000  379.052236  247.0  300.0  350.0  420.0   \n",
      "\n",
      "                    max  \n",
      "log_runtime_bin          \n",
      "VeryLowRuntime      6.0  \n",
      "LowRuntime         32.0  \n",
      "MediumRuntime      89.0  \n",
      "HighRuntime       241.0  \n",
      "VeryHighRuntime  3000.0  \n"
     ]
    }
   ],
   "source": [
    "#FILL_RUNTIMEMINS_BRUNO LOG-TRANSFORMED\n",
    "bins = [-np.inf, 2.0, 3.5, 4.5, 5.5, np.inf]\n",
    "labels = ['VeryLowRuntime', 'LowRuntime', 'MediumRuntime', 'HighRuntime', 'VeryHighRuntime']\n",
    "\n",
    "df_copy['log_runtime_bin'] = pd.cut(\n",
    "    df_copy['log_fill_runtimeMinutes_Bruno'],\n",
    "    bins=bins,\n",
    "    labels=labels,\n",
    "    ordered=True)\n",
    "\n",
    "print(df_copy.groupby('log_runtime_bin')['fill_runtimeMinutes_Bruno'].describe())"
   ]
  },
  {
   "cell_type": "markdown",
   "id": "7118ec87",
   "metadata": {},
   "source": [
    "##### rating"
   ]
  },
  {
   "cell_type": "code",
   "execution_count": null,
   "id": "75d4b05e",
   "metadata": {},
   "outputs": [
    {
     "name": "stdout",
     "output_type": "stream",
     "text": [
      "rating_bin\n",
      "HighRating        6322\n",
      "MediumRating      5985\n",
      "LowRating         5784\n",
      "VeryHighRating    3173\n",
      "VeryLowRating      292\n",
      "Name: count, dtype: int64\n",
      "                 count      mean       std  min  25%  50%  75%   max\n",
      "rating_bin                                                          \n",
      "VeryLowRating    292.0  2.681507  0.508958  1.0  2.0  3.0  3.0   3.0\n",
      "LowRating       5784.0  5.526279  0.679484  4.0  5.0  6.0  6.0   6.0\n",
      "MediumRating    5985.0  7.000000  0.000000  7.0  7.0  7.0  7.0   7.0\n",
      "HighRating      6322.0  8.000000  0.000000  8.0  8.0  8.0  8.0   8.0\n",
      "VeryHighRating  3173.0  9.144973  0.352129  9.0  9.0  9.0  9.0  10.0\n"
     ]
    }
   ],
   "source": [
    "#RATING \n",
    "bins = [-1, 3, 6, 7, 8, df_copy['rating'].max()]\n",
    "labels = ['VeryLowRating', 'LowRating', 'MediumRating', 'HighRating', \"VeryHighRating\"]\n",
    "df_copy['rating_bin'] = pd.cut(df_copy['rating'], bins=bins, labels=labels)\n",
    "\n",
    "print(df_copy['rating_bin'].value_counts())\n",
    "print(df_copy.groupby('rating_bin')['rating'].describe())"
   ]
  },
  {
   "cell_type": "markdown",
   "id": "ad7cfcac",
   "metadata": {},
   "source": [
    "##### numVotes"
   ]
  },
  {
   "cell_type": "code",
   "execution_count": 294,
   "id": "23c1a18c",
   "metadata": {},
   "outputs": [],
   "source": [
    "df_copy[\"log_numVotes\"] = np.log1p(df[\"numVotes\"])"
   ]
  },
  {
   "cell_type": "code",
   "execution_count": 295,
   "id": "85b5da11",
   "metadata": {},
   "outputs": [
    {
     "name": "stdout",
     "output_type": "stream",
     "text": [
      "                   count          mean            std     min      25%  \\\n",
      "log_numvotes_bin                                                         \n",
      "VeryLowVotes      4918.0      9.177918       2.342771     5.0     7.00   \n",
      "LowVotes          7126.0     26.137946       9.577997    14.0    18.00   \n",
      "MediumVotes       4126.0     87.547988      27.756307    49.0    64.00   \n",
      "HighVotes         4636.0    627.911346     587.550972   148.0   230.00   \n",
      "VeryHighVotes      750.0  38960.374667  105652.794274  2980.0  4247.25   \n",
      "\n",
      "                     50%       75%        max  \n",
      "log_numvotes_bin                               \n",
      "VeryLowVotes         9.0     11.00       13.0  \n",
      "LowVotes            24.0     33.00       48.0  \n",
      "MediumVotes         82.0    109.00      147.0  \n",
      "HighVotes          391.0    783.25     2976.0  \n",
      "VeryHighVotes     7430.5  21480.00  1071372.0  \n"
     ]
    }
   ],
   "source": [
    "#NUMVOTES LOG-TRANSFORMED\n",
    "bins = [-np.inf, 2.7, 3.9, 5.0, 8.0, np.inf]\n",
    "labels = ['VeryLowVotes', 'LowVotes', 'MediumVotes', 'HighVotes', 'VeryHighVotes']\n",
    "\n",
    "# Applicazione\n",
    "df_copy['log_numvotes_bin'] = pd.cut(\n",
    "    df_copy['log_numVotes'],\n",
    "    bins=bins,\n",
    "    labels=labels\n",
    ")\n",
    "\n",
    "print(df_copy.groupby('log_numvotes_bin')['numVotes'].describe())"
   ]
  },
  {
   "cell_type": "code",
   "execution_count": 333,
   "id": "1eef9d03",
   "metadata": {},
   "outputs": [
    {
     "name": "stdout",
     "output_type": "stream",
     "text": [
      "                count          mean           std     min     25%     50%  \\\n",
      "numVotes_bin                                                                \n",
      "VeryLowVotes   5799.0      9.986377      2.888222     5.0     8.0    10.0   \n",
      "LowVotes       6409.0     28.334842      9.615432    16.0    20.0    26.0   \n",
      "MediumVotes    4017.0     89.944486     27.895216    51.0    66.0    85.0   \n",
      "HighVotes      3728.0    392.828326    220.154820   151.0   214.0   323.0   \n",
      "VeryHighVotes  1603.0  19125.774797  74600.292618  1001.0  1512.0  2664.0   \n",
      "\n",
      "                  75%        max  \n",
      "numVotes_bin                      \n",
      "VeryLowVotes     12.0       15.0  \n",
      "LowVotes         35.0       50.0  \n",
      "MediumVotes     111.0      150.0  \n",
      "HighVotes       519.0     1000.0  \n",
      "VeryHighVotes  6628.5  1071372.0  \n"
     ]
    }
   ],
   "source": [
    "#NUMVOTES NON LOG-TRANSFORMED\n",
    "labels = ['VeryLowVotes', 'LowVotes', 'MediumVotes', 'HighVotes', 'VeryHighVotes']\n",
    "bins = [4, 15, 50, 150, 1000, float('inf')]  # include il min=5 e max=1.071.372\n",
    "\n",
    "df_copy['numVotes_bin'] = pd.cut(df['numVotes'], bins=bins, labels=labels, include_lowest=True)\n",
    "print(df_copy.groupby('numVotes_bin')['numVotes'].describe())"
   ]
  },
  {
   "cell_type": "markdown",
   "id": "acb00d92",
   "metadata": {},
   "source": [
    "##### StartYear"
   ]
  },
  {
   "cell_type": "code",
   "execution_count": 300,
   "id": "6cd220b5",
   "metadata": {},
   "outputs": [
    {
     "name": "stdout",
     "output_type": "stream",
     "text": [
      "            count         mean        std     min      25%     50%     75%  \\\n",
      "media_bin                                                                    \n",
      "pre-1930    698.0  1914.626074  11.211889  1891.0  1906.00  1916.0  1925.0   \n",
      "1930-1954  1402.0  1943.766762   7.466448  1931.0  1937.00  1944.0  1951.0   \n",
      "1955-1979  3975.0  1969.576855   6.876806  1956.0  1964.00  1970.0  1975.0   \n",
      "1980-1999  5851.0  1991.319774   5.390506  1981.0  1987.00  1992.0  1996.0   \n",
      "2000-2019  5415.0  2008.950323   4.146951  2001.0  2006.00  2009.0  2012.0   \n",
      "post-2020  4214.0  2019.557190   2.376487  2016.0  2017.25  2019.0  2022.0   \n",
      "\n",
      "              max  \n",
      "media_bin          \n",
      "pre-1930   1930.0  \n",
      "1930-1954  1955.0  \n",
      "1955-1979  1980.0  \n",
      "1980-1999  1999.0  \n",
      "2000-2019  2015.0  \n",
      "post-2020  2024.0  \n"
     ]
    }
   ],
   "source": [
    "#STARTYEAR\n",
    "bins =[\n",
    "    1878,  # Cinema delle origini e muto\n",
    "    1930,  # Cinema sonoro classico e radio\n",
    "    1955,  # TV B/N e colore, cinema widescreen\n",
    "    1980,  # Video domestico e media transazionali\n",
    "    2000,  # DVD, internet e mobile\n",
    "    2015,  # Streaming integrato e nuovi media\n",
    "    df_copy['startYear'].max()] #era corrente\n",
    "labels = ['pre-1930', '1930-1954', '1955-1979', '1980-1999', '2000-2019', 'post-2020']\n",
    "df_copy['media_bin'] = pd.cut(df_copy['startYear'], bins=bins, labels=labels)\n",
    "\n",
    "print(df_copy.groupby('media_bin')['startYear'].describe())"
   ]
  },
  {
   "cell_type": "markdown",
   "id": "7171b585",
   "metadata": {},
   "source": [
    "##### totalCredits"
   ]
  },
  {
   "cell_type": "code",
   "execution_count": 301,
   "id": "0335fa18",
   "metadata": {},
   "outputs": [],
   "source": [
    "df_copy[\"log_totalCredits\"] = np.log1p(df[\"totalCredits\"])"
   ]
  },
  {
   "cell_type": "code",
   "execution_count": 302,
   "id": "2a648f87",
   "metadata": {},
   "outputs": [],
   "source": [
    "#TOTALCREDITS LOG-TRANSFORMED\n",
    "bins = [-np.inf, 2.0, 3.0, 4.2, 6.0, np.inf]\n",
    "labels = ['VeryLowCredits', 'LowCredits', 'MediumCredits', 'HighCredits', 'VeryHighCredits']\n",
    "\n",
    "df_copy['log_totalCredits_bin'] = pd.cut(df_copy['log_totalCredits'], bins=bins, labels=labels)"
   ]
  },
  {
   "cell_type": "code",
   "execution_count": 303,
   "id": "d922877a",
   "metadata": {},
   "outputs": [
    {
     "name": "stdout",
     "output_type": "stream",
     "text": [
      "                       count        mean          std    min     25%    50%  \\\n",
      "log_totalCredits_bin                                                          \n",
      "VeryLowCredits        1812.0    3.462472     1.900979    0.0    2.00    4.0   \n",
      "LowCredits            4628.0   12.907303     3.696248    7.0   10.00   13.0   \n",
      "MediumCredits         9744.0   38.596470    12.728129   20.0   28.00   37.0   \n",
      "HighCredits           5122.0  129.601913    67.895409   66.0   80.00  106.0   \n",
      "VeryHighCredits        250.0  877.252000  1141.473298  403.0  478.25  604.5   \n",
      "\n",
      "                         75%      max  \n",
      "log_totalCredits_bin                   \n",
      "VeryLowCredits          5.00      6.0  \n",
      "LowCredits             16.00     19.0  \n",
      "MediumCredits          49.00     65.0  \n",
      "HighCredits           154.00    402.0  \n",
      "VeryHighCredits       903.25  15742.0  \n"
     ]
    }
   ],
   "source": [
    "print(df_copy.groupby('log_totalCredits_bin')['totalCredits'].describe())"
   ]
  },
  {
   "cell_type": "code",
   "execution_count": 304,
   "id": "f2ddb706",
   "metadata": {},
   "outputs": [],
   "source": [
    "#TOTALCREDITS NON LOG-TRANSFORMED\n",
    "labels = ['VeryLowCredits', 'LowCredits', 'MediumCredits', 'HighCredits', 'VeryHighCredits']\n",
    "bins = [-1, 15, 35, 65, 200, float('inf')]\n",
    "\n",
    "df_copy['totalCredits_bin'] = pd.cut(df['totalCredits'], bins=bins, labels=labels, include_lowest=True)"
   ]
  },
  {
   "cell_type": "code",
   "execution_count": 305,
   "id": "26b87880",
   "metadata": {},
   "outputs": [
    {
     "name": "stdout",
     "output_type": "stream",
     "text": [
      "                   count        mean         std    min    25%    50%     75%  \\\n",
      "totalCredits_bin                                                                \n",
      "VeryLowCredits    5088.0    8.332351    4.322715    0.0    5.0    9.0   12.00   \n",
      "LowCredits        5871.0   24.884858    5.756800   16.0   20.0   25.0   30.00   \n",
      "MediumCredits     5225.0   48.535694    8.408315   36.0   41.0   48.0   55.00   \n",
      "HighCredits       4412.0  107.169764   35.115568   66.0   78.0   97.0  129.00   \n",
      "VeryHighCredits    960.0  427.396875  641.780739  201.0  232.0  286.0  412.75   \n",
      "\n",
      "                      max  \n",
      "totalCredits_bin           \n",
      "VeryLowCredits       15.0  \n",
      "LowCredits           35.0  \n",
      "MediumCredits        65.0  \n",
      "HighCredits         200.0  \n",
      "VeryHighCredits   15742.0  \n"
     ]
    }
   ],
   "source": [
    "print(df_copy.groupby('totalCredits_bin')['totalCredits'].describe())"
   ]
  },
  {
   "cell_type": "markdown",
   "id": "d763024d",
   "metadata": {},
   "source": [
    "##### criticReviewsTotal"
   ]
  },
  {
   "cell_type": "code",
   "execution_count": 306,
   "id": "a236ddc9",
   "metadata": {},
   "outputs": [],
   "source": [
    "df_copy[\"log_criticReviewsTotal\"] = np.log1p(df[\"criticReviewsTotal\"])"
   ]
  },
  {
   "cell_type": "code",
   "execution_count": 307,
   "id": "63c52e95",
   "metadata": {},
   "outputs": [],
   "source": [
    "#CRITICREVIEWS LOG-TRANSFORMED\n",
    "bins = [-0.01, 0.0, 1.4, 2.3, 3.4, 4.6, np.inf]\n",
    "labels = [\n",
    "    'NoCriticReviews',\n",
    "    'FewCriticReviews',\n",
    "    'ModerateCriticReviews',\n",
    "    'ManyCriticReviews',\n",
    "    'VeryHighCriticReviews',\n",
    "    'ExtensiveCriticReviews'\n",
    "]\n",
    "\n",
    "df_copy['log_criticReviewsTotal_bin'] = pd.cut(\n",
    "    df_copy['log_criticReviewsTotal'],\n",
    "    bins=bins,\n",
    "    labels=labels\n",
    ")"
   ]
  },
  {
   "cell_type": "code",
   "execution_count": 308,
   "id": "af978484",
   "metadata": {},
   "outputs": [
    {
     "name": "stdout",
     "output_type": "stream",
     "text": [
      "                              count        mean        std   min     25%  \\\n",
      "log_criticReviewsTotal_bin                                                 \n",
      "NoCriticReviews             14982.0    0.000000   0.000000   0.0    0.00   \n",
      "FewCriticReviews             4103.0    1.530831   0.731317   1.0    1.00   \n",
      "ModerateCriticReviews        1163.0    5.405847   1.347031   4.0    4.00   \n",
      "ManyCriticReviews             876.0   15.043379   5.460335   9.0   10.00   \n",
      "VeryHighCriticReviews         324.0   51.706790  18.817450  29.0   35.75   \n",
      "ExtensiveCriticReviews        108.0  185.175926  96.204691  99.0  120.00   \n",
      "\n",
      "                              50%     75%    max  \n",
      "log_criticReviewsTotal_bin                        \n",
      "NoCriticReviews               0.0    0.00    0.0  \n",
      "FewCriticReviews              1.0    2.00    3.0  \n",
      "ModerateCriticReviews         5.0    6.00    8.0  \n",
      "ManyCriticReviews            13.0   19.00   28.0  \n",
      "VeryHighCriticReviews        47.0   64.00   98.0  \n",
      "ExtensiveCriticReviews      148.5  222.25  567.0  \n"
     ]
    }
   ],
   "source": [
    "print(df_copy.groupby('log_criticReviewsTotal_bin')['criticReviewsTotal'].describe())"
   ]
  },
  {
   "cell_type": "code",
   "execution_count": 341,
   "id": "4f1725d0",
   "metadata": {},
   "outputs": [
    {
     "name": "stdout",
     "output_type": "stream",
     "text": [
      "                          count        mean        std   min   25%   50%  \\\n",
      "criticReviewsTotal_bin                                                     \n",
      "NoCriticReviews         14982.0    0.000000   0.000000   0.0   0.0   0.0   \n",
      "FewCriticReviews         2511.0    1.000000   0.000000   1.0   1.0   1.0   \n",
      "ModerateCriticReviews    2267.0    2.972651   1.047484   2.0   2.0   3.0   \n",
      "ManyCriticReviews        1194.0   10.369347   3.925342   6.0   7.0   9.0   \n",
      "VeryHighCriticReviews     319.0   29.498433   6.729675  21.0  24.0  28.0   \n",
      "ExtensiveCriticReviews    283.0  111.155477  83.922270  46.0  57.0  83.0   \n",
      "\n",
      "                          75%    max  \n",
      "criticReviewsTotal_bin                \n",
      "NoCriticReviews           0.0    0.0  \n",
      "FewCriticReviews          1.0    1.0  \n",
      "ModerateCriticReviews     4.0    5.0  \n",
      "ManyCriticReviews        13.0   20.0  \n",
      "VeryHighCriticReviews    35.0   45.0  \n",
      "ExtensiveCriticReviews  131.0  567.0  \n"
     ]
    }
   ],
   "source": [
    "#CRITICREVIEWS NON LOG-TRANSFORMED\n",
    "labels = [\n",
    "    'NoCriticReviews',\n",
    "    'FewCriticReviews',\n",
    "    'ModerateCriticReviews',\n",
    "    'ManyCriticReviews',\n",
    "    'VeryHighCriticReviews',\n",
    "    'ExtensiveCriticReviews'\n",
    "]\n",
    "bins = [-1, 0, 1, 5, 20, 45, float('inf')]\n",
    "\n",
    "df_copy['criticReviewsTotal_bin'] = pd.cut(df['criticReviewsTotal'], bins=bins, labels=labels, include_lowest=True)\n",
    "print(df_copy.groupby('criticReviewsTotal_bin')['criticReviewsTotal'].describe())"
   ]
  },
  {
   "cell_type": "markdown",
   "id": "52fbb1cf",
   "metadata": {},
   "source": [
    "##### numRegions"
   ]
  },
  {
   "cell_type": "code",
   "execution_count": 311,
   "id": "80325e95",
   "metadata": {},
   "outputs": [],
   "source": [
    "df_copy[\"log_numRegions\"] = np.log1p(df[\"numRegions\"])"
   ]
  },
  {
   "cell_type": "code",
   "execution_count": 312,
   "id": "69c6699e",
   "metadata": {},
   "outputs": [],
   "source": [
    "#NUMREGIONS LOG-TRANSFORMED\n",
    "bins = [-np.inf, 1.2, 2.0, 3.2, np.inf]\n",
    "labels = ['VeryFewRegions', 'ModerateRegions', 'ManyRegions', 'GlobalRegions']\n",
    "\n",
    "# Applicazione\n",
    "df_copy['log_numRegions_bin'] = pd.cut(\n",
    "    df_copy['log_numRegions'],\n",
    "    bins=bins,\n",
    "    labels=labels\n",
    ")"
   ]
  },
  {
   "cell_type": "code",
   "execution_count": 313,
   "id": "9283a408",
   "metadata": {},
   "outputs": [
    {
     "name": "stdout",
     "output_type": "stream",
     "text": [
      "                      count       mean       std   min   25%   50%   75%   max\n",
      "log_numRegions_bin                                                            \n",
      "VeryFewRegions      14989.0   1.165722  0.371843   1.0   1.0   1.0   1.0   2.0\n",
      "ModerateRegions      3253.0   4.134030  1.063709   3.0   3.0   4.0   5.0   6.0\n",
      "ManyRegions          2854.0  10.862649  4.449670   7.0   7.0   9.0  13.0  23.0\n",
      "GlobalRegions         460.0  33.486957  8.802718  24.0  27.0  31.0  38.0  69.0\n"
     ]
    }
   ],
   "source": [
    "print(df_copy.groupby('log_numRegions_bin')['numRegions'].describe())"
   ]
  },
  {
   "cell_type": "code",
   "execution_count": 344,
   "id": "074d6c2f",
   "metadata": {},
   "outputs": [
    {
     "name": "stdout",
     "output_type": "stream",
     "text": [
      "                   count       mean       std  min   25%   50%   75%   max\n",
      "numRegions_bin                                                            \n",
      "VeryFewRegions   12505.0   1.000000  0.000000  1.0   1.0   1.0   1.0   1.0\n",
      "ModerateRegions   3658.0   2.320940  0.466902  2.0   2.0   2.0   3.0   3.0\n",
      "ManyRegions       3348.0   5.699522  1.363851  4.0   4.0   6.0   7.0   8.0\n",
      "GlobalRegions     2045.0  18.215159  9.888353  9.0  11.0  15.0  22.0  69.0\n"
     ]
    }
   ],
   "source": [
    "#NUMREGIONS NON LOG-TRANSFORMED\n",
    "labels = ['VeryFewRegions', 'ModerateRegions', 'ManyRegions', 'GlobalRegions']\n",
    "bins = [0, 1, 3, 8, float('inf')]\n",
    "\n",
    "df_copy['numRegions_bin'] = pd.cut(df['numRegions'], bins=bins, labels=labels, include_lowest=True)\n",
    "print(df_copy.groupby('numRegions_bin')['numRegions'].describe())\n"
   ]
  },
  {
   "cell_type": "markdown",
   "id": "2c04a4d8",
   "metadata": {},
   "source": [
    "##### userReviewsTotal"
   ]
  },
  {
   "cell_type": "code",
   "execution_count": 316,
   "id": "9adc0297",
   "metadata": {},
   "outputs": [],
   "source": [
    "df_copy[\"log_userReviewsTotal\"] = np.log1p(df[\"userReviewsTotal\"])"
   ]
  },
  {
   "cell_type": "code",
   "execution_count": 317,
   "id": "93fd2435",
   "metadata": {},
   "outputs": [],
   "source": [
    "#USERREVIEWSTOTAL LOG-TRANSFORMED\n",
    "bins = [-0.01, 0.0, 2.8, 5.0, np.inf]\n",
    "labels = ['NoUserReviews', 'FewUserReviews', 'ModerateUserReviews', 'ManyUserReviews']\n",
    "\n",
    "# Applicazione\n",
    "df_copy['log_userReviewsTotal_bin'] = pd.cut(\n",
    "    df_copy['log_userReviewsTotal'],\n",
    "    bins=bins,\n",
    "    labels=labels)"
   ]
  },
  {
   "cell_type": "code",
   "execution_count": 318,
   "id": "ec5badb6",
   "metadata": {},
   "outputs": [
    {
     "name": "stdout",
     "output_type": "stream",
     "text": [
      "                            count        mean         std    min     25%  \\\n",
      "log_userReviewsTotal_bin                                                   \n",
      "NoUserReviews             12080.0    0.000000    0.000000    0.0    0.00   \n",
      "FewUserReviews             8177.0    3.352330    3.237348    1.0    1.00   \n",
      "ModerateUserReviews        1113.0   41.222821   28.389454   16.0   21.00   \n",
      "ManyUserReviews             186.0  459.930108  530.678780  148.0  195.75   \n",
      "\n",
      "                            50%    75%     max  \n",
      "log_userReviewsTotal_bin                        \n",
      "NoUserReviews               0.0    0.0     0.0  \n",
      "FewUserReviews              2.0    4.0    15.0  \n",
      "ModerateUserReviews        30.0   51.0   147.0  \n",
      "ManyUserReviews           303.0  517.5  5727.0  \n"
     ]
    }
   ],
   "source": [
    "print(df_copy.groupby('log_userReviewsTotal_bin')['userReviewsTotal'].describe())"
   ]
  },
  {
   "cell_type": "code",
   "execution_count": 355,
   "id": "66ee3e54",
   "metadata": {},
   "outputs": [],
   "source": [
    "#USERREVIEWSTOTAL NON LOG-TRANSFORMED\n",
    "labels = ['NoUserReviews', 'FewUserReviews', 'ModerateUserReviews', 'ManyUserReviews']\n",
    "bins = [-1, 0, 3, 30, float('inf')]\n",
    "\n",
    "df_copy['userReviewsTotal_bin'] = pd.cut(df['userReviewsTotal'], bins=bins, labels=labels, include_lowest=True)"
   ]
  },
  {
   "cell_type": "code",
   "execution_count": 356,
   "id": "31dec078",
   "metadata": {},
   "outputs": [
    {
     "name": "stdout",
     "output_type": "stream",
     "text": [
      "                        count        mean         std   min   25%   50%  \\\n",
      "userReviewsTotal_bin                                                      \n",
      "NoUserReviews         12080.0    0.000000    0.000000   0.0   0.0   0.0   \n",
      "FewUserReviews         5643.0    1.569910    0.742345   1.0   1.0   1.0   \n",
      "ModerateUserReviews    3104.0   10.004510    6.593436   4.0   5.0   8.0   \n",
      "ManyUserReviews         729.0  163.137174  319.998455  31.0  43.0  67.0   \n",
      "\n",
      "                        75%     max  \n",
      "userReviewsTotal_bin                 \n",
      "NoUserReviews           0.0     0.0  \n",
      "FewUserReviews          2.0     3.0  \n",
      "ModerateUserReviews    13.0    30.0  \n",
      "ManyUserReviews       149.0  5727.0  \n"
     ]
    }
   ],
   "source": [
    "print(df_copy.groupby('userReviewsTotal_bin')['userReviewsTotal'].describe())"
   ]
  },
  {
   "cell_type": "markdown",
   "id": "6a39fceb",
   "metadata": {},
   "source": []
  }
 ],
 "metadata": {
  "kernelspec": {
   "display_name": "Python 3",
   "language": "python",
   "name": "python3"
  },
  "language_info": {
   "codemirror_mode": {
    "name": "ipython",
    "version": 3
   },
   "file_extension": ".py",
   "mimetype": "text/x-python",
   "name": "python",
   "nbconvert_exporter": "python",
   "pygments_lexer": "ipython3",
   "version": "3.8.2"
  }
 },
 "nbformat": 4,
 "nbformat_minor": 5
}
