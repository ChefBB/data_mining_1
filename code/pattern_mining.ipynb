{
 "cells": [
  {
   "cell_type": "markdown",
   "id": "2cfa218c",
   "metadata": {},
   "source": [
    "# PATTERN MINING"
   ]
  },
  {
   "cell_type": "code",
   "execution_count": 1186,
   "id": "76c01c86",
   "metadata": {},
   "outputs": [],
   "source": [
    "import pandas as pd\n",
    "import seaborn as sns\n",
    "import matplotlib.pyplot as plt\n",
    "from mlxtend.preprocessing import TransactionEncoder\n",
    "from mlxtend.frequent_patterns import apriori, association_rules\n",
    "import numpy as np\n",
    "from mlxtend.frequent_patterns import fpgrowth"
   ]
  },
  {
   "cell_type": "code",
   "execution_count": 1187,
   "id": "a576fa9f",
   "metadata": {},
   "outputs": [],
   "source": [
    "train = pd.read_csv('pp_train.csv')\n",
    "test = pd.read_csv('pp_test.csv') \n",
    "#df = pd.concat([train, test], axis=0, ignore_index=True) #abbiamo unito train e test\n",
    "df = train"
   ]
  },
  {
   "cell_type": "code",
   "execution_count": 1188,
   "id": "5d4b04ba",
   "metadata": {},
   "outputs": [],
   "source": [
    "#df.info()"
   ]
  },
  {
   "cell_type": "code",
   "execution_count": 1189,
   "id": "9f754901",
   "metadata": {},
   "outputs": [
    {
     "data": {
      "text/plain": [
       "Index(['originalTitle', 'rating', 'startYear', 'endYear', 'runtimeMinutes',\n",
       "       'awardWins', 'numVotes', 'totalImages', 'totalVideos', 'totalCredits',\n",
       "       'criticReviewsTotal', 'titleType', 'awardNominationsExcludeWins',\n",
       "       'canHaveEpisodes', 'numRegions', 'userReviewsTotal', 'is_Documentary',\n",
       "       'is_History', 'is_Adventure', 'is_Thriller', 'is_Game-Show',\n",
       "       'is_Comedy', 'is_Sci-Fi', 'is_Romance', 'is_Biography', 'is_Musical',\n",
       "       'is_Western', 'is_Music', 'is_Film-Noir', 'is_Adult', 'is_Reality-TV',\n",
       "       'is_News', 'is_Action', 'is_Crime', 'is_Short', 'is_Fantasy',\n",
       "       'is_Family', 'is_Mystery', 'is_Talk-Show', 'is_Drama', 'is_Sport',\n",
       "       'is_War', 'is_Horror', 'is_Animation', 'is_from_Oceania',\n",
       "       'is_from_North America', 'is_from_South America', 'is_from_Asia',\n",
       "       'is_from_Africa', 'is_from_Europe', 'countryOfOrigin',\n",
       "       'countryOfOrigin_freq_enc', 'countryOfOrigin_NA', 'countryOfOrigin_AF',\n",
       "       'countryOfOrigin_AS', 'countryOfOrigin_EU', 'countryOfOrigin_OC',\n",
       "       'countryOfOrigin_SA', 'countryOfOrigin_UNK',\n",
       "       'fill_runtimeMinutes_Bruno', 'totalNominations', 'totalMedia',\n",
       "       'runtimeMinutes_notitletype', 'outlier_no_type', 'outlier_w_type'],\n",
       "      dtype='object')"
      ]
     },
     "execution_count": 1189,
     "metadata": {},
     "output_type": "execute_result"
    }
   ],
   "source": [
    "df.columns"
   ]
  },
  {
   "cell_type": "code",
   "execution_count": 1190,
   "id": "f2c236e3",
   "metadata": {},
   "outputs": [],
   "source": [
    "df = df[df[\"outlier_w_type\"] != True]"
   ]
  },
  {
   "cell_type": "code",
   "execution_count": 1191,
   "id": "d7ddece6",
   "metadata": {},
   "outputs": [
    {
     "name": "stdout",
     "output_type": "stream",
     "text": [
      "<class 'pandas.core.frame.DataFrame'>\n",
      "Index: 14955 entries, 0 to 16130\n",
      "Data columns (total 65 columns):\n",
      " #   Column                       Non-Null Count  Dtype  \n",
      "---  ------                       --------------  -----  \n",
      " 0   originalTitle                14955 non-null  object \n",
      " 1   rating                       14955 non-null  int64  \n",
      " 2   startYear                    14955 non-null  int64  \n",
      " 3   endYear                      14214 non-null  float64\n",
      " 4   runtimeMinutes               10361 non-null  float64\n",
      " 5   awardWins                    14955 non-null  float64\n",
      " 6   numVotes                     14955 non-null  int64  \n",
      " 7   totalImages                  14955 non-null  int64  \n",
      " 8   totalVideos                  14955 non-null  int64  \n",
      " 9   totalCredits                 14955 non-null  int64  \n",
      " 10  criticReviewsTotal           14955 non-null  int64  \n",
      " 11  titleType                    14955 non-null  object \n",
      " 12  awardNominationsExcludeWins  14955 non-null  int64  \n",
      " 13  canHaveEpisodes              14955 non-null  bool   \n",
      " 14  numRegions                   14955 non-null  int64  \n",
      " 15  userReviewsTotal             14955 non-null  int64  \n",
      " 16  is_Documentary               14955 non-null  int64  \n",
      " 17  is_History                   14955 non-null  int64  \n",
      " 18  is_Adventure                 14955 non-null  int64  \n",
      " 19  is_Thriller                  14955 non-null  int64  \n",
      " 20  is_Game-Show                 14955 non-null  int64  \n",
      " 21  is_Comedy                    14955 non-null  int64  \n",
      " 22  is_Sci-Fi                    14955 non-null  int64  \n",
      " 23  is_Romance                   14955 non-null  int64  \n",
      " 24  is_Biography                 14955 non-null  int64  \n",
      " 25  is_Musical                   14955 non-null  int64  \n",
      " 26  is_Western                   14955 non-null  int64  \n",
      " 27  is_Music                     14955 non-null  int64  \n",
      " 28  is_Film-Noir                 14955 non-null  int64  \n",
      " 29  is_Adult                     14955 non-null  int64  \n",
      " 30  is_Reality-TV                14955 non-null  int64  \n",
      " 31  is_News                      14955 non-null  int64  \n",
      " 32  is_Action                    14955 non-null  int64  \n",
      " 33  is_Crime                     14955 non-null  int64  \n",
      " 34  is_Short                     14955 non-null  int64  \n",
      " 35  is_Fantasy                   14955 non-null  int64  \n",
      " 36  is_Family                    14955 non-null  int64  \n",
      " 37  is_Mystery                   14955 non-null  int64  \n",
      " 38  is_Talk-Show                 14955 non-null  int64  \n",
      " 39  is_Drama                     14955 non-null  int64  \n",
      " 40  is_Sport                     14955 non-null  int64  \n",
      " 41  is_War                       14955 non-null  int64  \n",
      " 42  is_Horror                    14955 non-null  int64  \n",
      " 43  is_Animation                 14955 non-null  int64  \n",
      " 44  is_from_Oceania              14955 non-null  int64  \n",
      " 45  is_from_North America        14955 non-null  int64  \n",
      " 46  is_from_South America        14955 non-null  int64  \n",
      " 47  is_from_Asia                 14955 non-null  int64  \n",
      " 48  is_from_Africa               14955 non-null  int64  \n",
      " 49  is_from_Europe               14955 non-null  int64  \n",
      " 50  countryOfOrigin              14955 non-null  object \n",
      " 51  countryOfOrigin_freq_enc     14955 non-null  float64\n",
      " 52  countryOfOrigin_NA           14955 non-null  int64  \n",
      " 53  countryOfOrigin_AF           14955 non-null  int64  \n",
      " 54  countryOfOrigin_AS           14955 non-null  int64  \n",
      " 55  countryOfOrigin_EU           14955 non-null  int64  \n",
      " 56  countryOfOrigin_OC           14955 non-null  int64  \n",
      " 57  countryOfOrigin_SA           14955 non-null  int64  \n",
      " 58  countryOfOrigin_UNK          14955 non-null  int64  \n",
      " 59  fill_runtimeMinutes_Bruno    14955 non-null  float64\n",
      " 60  totalNominations             14955 non-null  float64\n",
      " 61  totalMedia                   14955 non-null  int64  \n",
      " 62  runtimeMinutes_notitletype   14955 non-null  float64\n",
      " 63  outlier_no_type              14955 non-null  bool   \n",
      " 64  outlier_w_type               14955 non-null  bool   \n",
      "dtypes: bool(3), float64(7), int64(52), object(3)\n",
      "memory usage: 7.2+ MB\n"
     ]
    }
   ],
   "source": [
    "df.info()"
   ]
  },
  {
   "cell_type": "markdown",
   "id": "8ed22a68",
   "metadata": {},
   "source": [
    "## Gestione variabili "
   ]
  },
  {
   "cell_type": "markdown",
   "id": "3163d36b",
   "metadata": {},
   "source": [
    "### Osservare la distribuzione delle numeriche per binning"
   ]
  },
  {
   "cell_type": "code",
   "execution_count": 1192,
   "id": "79e5c52d",
   "metadata": {},
   "outputs": [],
   "source": [
    "# df['startYear'].describe()\n",
    "#df['totalNominations'].describe()\n",
    "#df['fill_runtimeMinutes_Bruno'].describe()\n",
    "# df['totalMedia'].describe()\n",
    "#df['numVotes'].describe()\n",
    "# df['totalCredits'].describe()\n",
    "# df['criticReviewsTotal'].describe()\n",
    "# df['numRegions'].describe()\n",
    "# df['userReviewsTotal'].describe()\n",
    "# df['rating'].describe()"
   ]
  },
  {
   "cell_type": "markdown",
   "id": "cc7cc7be",
   "metadata": {},
   "source": [
    "### Trasformazione binaria con valori semanticamente significativi\n",
    "#### episodes"
   ]
  },
  {
   "cell_type": "code",
   "execution_count": 1193,
   "id": "e042ef05",
   "metadata": {},
   "outputs": [
    {
     "name": "stderr",
     "output_type": "stream",
     "text": [
      "C:\\Users\\noemi\\AppData\\Local\\Temp\\ipykernel_12872\\2497733362.py:1: SettingWithCopyWarning: \n",
      "A value is trying to be set on a copy of a slice from a DataFrame.\n",
      "Try using .loc[row_indexer,col_indexer] = value instead\n",
      "\n",
      "See the caveats in the documentation: https://pandas.pydata.org/pandas-docs/stable/user_guide/indexing.html#returning-a-view-versus-a-copy\n",
      "  df[\"canHaveEpisodes\"] = df[\"canHaveEpisodes\"].astype(int)\n",
      "C:\\Users\\noemi\\AppData\\Local\\Temp\\ipykernel_12872\\2497733362.py:3: SettingWithCopyWarning: \n",
      "A value is trying to be set on a copy of a slice from a DataFrame.\n",
      "Try using .loc[row_indexer,col_indexer] = value instead\n",
      "\n",
      "See the caveats in the documentation: https://pandas.pydata.org/pandas-docs/stable/user_guide/indexing.html#returning-a-view-versus-a-copy\n",
      "  df[\"canHaveEpisodes\"] = df[\"canHaveEpisodes\"].map(canhaveeps_dict)\n"
     ]
    },
    {
     "data": {
      "text/plain": [
       "0        cant_have_episodes\n",
       "1        cant_have_episodes\n",
       "2         can_have_episodes\n",
       "4        cant_have_episodes\n",
       "5        cant_have_episodes\n",
       "                ...        \n",
       "16125     can_have_episodes\n",
       "16126    cant_have_episodes\n",
       "16127    cant_have_episodes\n",
       "16129    cant_have_episodes\n",
       "16130    cant_have_episodes\n",
       "Name: canHaveEpisodes, Length: 14955, dtype: object"
      ]
     },
     "execution_count": 1193,
     "metadata": {},
     "output_type": "execute_result"
    }
   ],
   "source": [
    "df[\"canHaveEpisodes\"] = df[\"canHaveEpisodes\"].astype(int)\n",
    "canhaveeps_dict = {0: \"cant_have_episodes\", 1: \"can_have_episodes\"}\n",
    "df[\"canHaveEpisodes\"] = df[\"canHaveEpisodes\"].map(canhaveeps_dict)\n",
    "df[\"canHaveEpisodes\"]"
   ]
  },
  {
   "cell_type": "markdown",
   "id": "60d775da",
   "metadata": {},
   "source": [
    "### Handling of numerical attributes\n",
    "Delle seguenti variabili: 'rating', 'startYear', 'numVotes', 'totalCredits', 'criticReviewsTotal', 'numRegions', 'userReviewsTotal',\n",
    "    'countryOfOrigin_freq_enc',\n",
    "       'countryOfOrigin_NA', 'countryOfOrigin_AF', 'countryOfOrigin_AS',\n",
    "       'countryOfOrigin_EU', 'countryOfOrigin_OC', 'countryOfOrigin_SA',\n",
    "       'countryOfOrigin_UNK'\n",
    "       'fill_runtimeMinutes_Bruno', 'totalNominations',\n",
    "       'totalMedia'"
   ]
  },
  {
   "cell_type": "code",
   "execution_count": 1194,
   "id": "696a72e4",
   "metadata": {},
   "outputs": [],
   "source": [
    "df_copy = df.copy()"
   ]
  },
  {
   "cell_type": "markdown",
   "id": "8f306dc5",
   "metadata": {},
   "source": [
    "##### TotalNominations"
   ]
  },
  {
   "cell_type": "code",
   "execution_count": 1195,
   "id": "5a0bf0ae",
   "metadata": {},
   "outputs": [],
   "source": [
    "# df_copy[\"log_totalNominations\"] = np.log1p(df[\"totalNominations\"])"
   ]
  },
  {
   "cell_type": "code",
   "execution_count": 1196,
   "id": "d4effb5f",
   "metadata": {},
   "outputs": [],
   "source": [
    "# #TOTALNOMINATIONS LOG-TRANSFORMED\n",
    "# log_bins = [-0.01, 0, np.log(5), np.log(20), df_copy['log_totalNominations'].max()]\n",
    "# labels = ['ZeroNom', 'LowNom', 'MediumNom', 'VeryHighNom']\n",
    "\n",
    "# df_copy['log_nom_bin_cut'] = pd.cut(df_copy['log_totalNominations'], \n",
    "#                                 bins=log_bins, \n",
    "#                                 labels=labels)\n",
    "\n",
    "# print(df_copy.groupby('log_nom_bin_cut')['totalNominations'].describe())"
   ]
  },
  {
   "cell_type": "code",
   "execution_count": 1197,
   "id": "0247510d",
   "metadata": {},
   "outputs": [
    {
     "name": "stdout",
     "output_type": "stream",
     "text": [
      "                        count       mean        std   min   25%   50%   75%  \\\n",
      "totalNominations_bin                                                          \n",
      "ZeroNom               12521.0   0.000000   0.000000   0.0   0.0   0.0   0.0   \n",
      "LowNom                 1372.0   1.333819   0.471748   1.0   1.0   1.0   2.0   \n",
      "MediumNom               805.0   5.080745   2.041166   3.0   3.0   4.0   6.0   \n",
      "VeryHighNom             257.0  27.988327  31.506136  11.0  13.0  17.0  28.0   \n",
      "\n",
      "                        max  \n",
      "totalNominations_bin         \n",
      "ZeroNom                 0.0  \n",
      "LowNom                  2.0  \n",
      "MediumNom              10.0  \n",
      "VeryHighNom           306.0  \n"
     ]
    }
   ],
   "source": [
    "#TOTALNOMINATIONS NON LOG-TRANSFORMED   \n",
    "bins = [-1, 0, 2, 10, df_copy['totalNominations'].max()]\n",
    "labels = ['ZeroNom', 'LowNom', 'MediumNom', 'VeryHighNom']\n",
    "\n",
    "df_copy['totalNominations_bin'] = pd.cut(df_copy['totalNominations'], \n",
    "                                bins=bins, \n",
    "                                labels=labels)\n",
    "\n",
    "print(df_copy.groupby('totalNominations_bin')['totalNominations'].describe())"
   ]
  },
  {
   "cell_type": "markdown",
   "id": "c833fae1",
   "metadata": {},
   "source": [
    "##### TotalMedia"
   ]
  },
  {
   "cell_type": "code",
   "execution_count": 1198,
   "id": "b90d9794",
   "metadata": {},
   "outputs": [],
   "source": [
    "# df_copy[\"log_totalMedia\"] = np.log1p(df[\"totalMedia\"])"
   ]
  },
  {
   "cell_type": "code",
   "execution_count": 1199,
   "id": "e4fbb6e7",
   "metadata": {},
   "outputs": [
    {
     "name": "stdout",
     "output_type": "stream",
     "text": [
      "                count        mean         std   min   25%   50%    75%     max\n",
      "media_bin                                                                     \n",
      "ZeroMedia      3066.0    0.000000    0.000000   0.0   0.0   0.0    0.0     0.0\n",
      "LowMedia       4378.0    1.000000    0.000000   1.0   1.0   1.0    1.0     1.0\n",
      "MediumMedia    4608.0    3.853733    1.918766   2.0   2.0   3.0    5.0     8.0\n",
      "HighMedia      2292.0   19.359948   10.357639   9.0  11.0  16.0   25.0    50.0\n",
      "VeryHighMedia   611.0  172.929624  339.162580  51.0  66.0  90.0  141.0  3516.0\n"
     ]
    }
   ],
   "source": [
    "#TOTALMEDIA NON LOG-TRANSFORMED\n",
    "bins = [-1, 0, 1, 8, 50, df_copy['totalMedia'].max()]\n",
    "labels = ['ZeroMedia', 'LowMedia', 'MediumMedia', 'HighMedia', 'VeryHighMedia']\n",
    "df_copy['media_bin'] = pd.cut(df_copy['totalMedia'], bins=bins, labels=labels)\n",
    "\n",
    "print(df_copy.groupby('media_bin')['totalMedia'].describe())"
   ]
  },
  {
   "cell_type": "code",
   "execution_count": 1200,
   "id": "d92d6f02",
   "metadata": {},
   "outputs": [],
   "source": [
    "# #TOTALMEDIA LOG-TRANSFORMED\n",
    "# log_bins = [-1, 0, 1.61, 3.1, 4.0, np.log(df_copy['totalMedia'].max())]\n",
    "# labels = ['ZeroMedia', 'LowMedia', 'MediumMedia', 'HighMedia', 'VeryHighMedia']\n",
    "# df_copy['log_media_bin'] = pd.cut(df_copy['totalMedia'], bins=log_bins, labels=labels)\n",
    "\n",
    "# print(df_copy.groupby('log_media_bin')['totalMedia'].describe())"
   ]
  },
  {
   "cell_type": "markdown",
   "id": "1d7742b9",
   "metadata": {},
   "source": [
    "##### fill_runtimeMinutes_Bruno"
   ]
  },
  {
   "cell_type": "code",
   "execution_count": 1201,
   "id": "6cde13a3",
   "metadata": {},
   "outputs": [],
   "source": [
    "# df_copy[\"log_fill_runtimeMinutes_Bruno\"] = np.log1p(df[\"fill_runtimeMinutes_Bruno\"])"
   ]
  },
  {
   "cell_type": "code",
   "execution_count": 1202,
   "id": "0b5a0207",
   "metadata": {},
   "outputs": [
    {
     "name": "stdout",
     "output_type": "stream",
     "text": [
      "                 count        mean        std   min   25%   50%    75%    max\n",
      "runtime_bin                                                                  \n",
      "VeryLowRuntime  5607.0   19.798823   9.151547   1.0  11.0  22.0   29.0   30.0\n",
      "LowRuntime      3270.0   48.596330   7.265013  31.0  43.0  47.0   55.0   60.0\n",
      "MediumRuntime   3426.0   81.906888   7.812311  61.0  77.0  85.0   89.0   90.0\n",
      "HighRuntime     2652.0  101.624057  12.288163  91.0  94.0  98.0  105.0  220.0\n"
     ]
    }
   ],
   "source": [
    "#FILL_RUNTIMEMINS_BRUNO NON LOG-TRANSFORMED\n",
    "bins = [0, 30, 60, 90, df_copy['fill_runtimeMinutes_Bruno'].max()]\n",
    "labels = ['VeryLowRuntime', 'LowRuntime', 'MediumRuntime', 'HighRuntime']\n",
    "\n",
    "df_copy['runtime_bin'] = pd.cut(df_copy['fill_runtimeMinutes_Bruno'], bins=bins, labels=labels)\n",
    "print(df_copy.groupby('runtime_bin')['fill_runtimeMinutes_Bruno'].describe())"
   ]
  },
  {
   "cell_type": "code",
   "execution_count": 1203,
   "id": "8940dcae",
   "metadata": {},
   "outputs": [],
   "source": [
    "# #FILL_RUNTIMEMINS_BRUNO LOG-TRANSFORMED\n",
    "# bins = [-np.inf, 2.0, 3.5, 4.5, 5.5, np.inf]\n",
    "# labels = ['VeryLowRuntime', 'LowRuntime', 'MediumRuntime', 'HighRuntime', 'VeryHighRuntime']\n",
    "\n",
    "# df_copy['log_runtime_bin'] = pd.cut(\n",
    "#     df_copy['log_fill_runtimeMinutes_Bruno'],\n",
    "#     bins=bins,\n",
    "#     labels=labels,\n",
    "#     ordered=True)\n",
    "\n",
    "# print(df_copy.groupby('log_runtime_bin')['fill_runtimeMinutes_Bruno'].describe())"
   ]
  },
  {
   "cell_type": "markdown",
   "id": "7118ec87",
   "metadata": {},
   "source": [
    "##### rating"
   ]
  },
  {
   "cell_type": "code",
   "execution_count": 1204,
   "id": "75d4b05e",
   "metadata": {},
   "outputs": [
    {
     "name": "stdout",
     "output_type": "stream",
     "text": [
      "rating_bin\n",
      "HighRating        4378\n",
      "MediumRating      4127\n",
      "LowRating         4021\n",
      "VeryHighRating    2224\n",
      "VeryLowRating      205\n",
      "Name: count, dtype: int64\n",
      "                 count      mean       std  min  25%  50%  75%   max\n",
      "rating_bin                                                          \n",
      "VeryLowRating    205.0  2.682927  0.516351  1.0  2.0  3.0  3.0   3.0\n",
      "LowRating       4021.0  5.521761  0.681187  4.0  5.0  6.0  6.0   6.0\n",
      "MediumRating    4127.0  7.000000  0.000000  7.0  7.0  7.0  7.0   7.0\n",
      "HighRating      4378.0  8.000000  0.000000  8.0  8.0  8.0  8.0   8.0\n",
      "VeryHighRating  2224.0  9.142986  0.350137  9.0  9.0  9.0  9.0  10.0\n"
     ]
    }
   ],
   "source": [
    "#RATING \n",
    "bins = [-1, 3, 6, 7, 8, df_copy['rating'].max()]\n",
    "labels = ['VeryLowRating', 'LowRating', 'MediumRating', 'HighRating', \"VeryHighRating\"]\n",
    "df_copy['rating_bin'] = pd.cut(df_copy['rating'], bins=bins, labels=labels)\n",
    "\n",
    "print(df_copy['rating_bin'].value_counts())\n",
    "print(df_copy.groupby('rating_bin')['rating'].describe())"
   ]
  },
  {
   "cell_type": "markdown",
   "id": "ad7cfcac",
   "metadata": {},
   "source": [
    "##### numVotes   >>> max è sgravato"
   ]
  },
  {
   "cell_type": "code",
   "execution_count": 1205,
   "id": "23c1a18c",
   "metadata": {},
   "outputs": [],
   "source": [
    "# df_copy[\"log_numVotes\"] = np.log1p(df[\"numVotes\"])"
   ]
  },
  {
   "cell_type": "code",
   "execution_count": 1206,
   "id": "85b5da11",
   "metadata": {},
   "outputs": [],
   "source": [
    "# #NUMVOTES LOG-TRANSFORMED\n",
    "# bins = [-np.inf, 2.7, 3.9, 5.0, 8.0, np.inf]\n",
    "# labels = ['VeryLowVotes', 'LowVotes', 'MediumVotes', 'HighVotes', 'VeryHighVotes']\n",
    "\n",
    "# # Applicazione\n",
    "# df_copy['log_numvotes_bin'] = pd.cut(\n",
    "#     df_copy['log_numVotes'],\n",
    "#     bins=bins,\n",
    "#     labels=labels\n",
    "# )\n",
    "\n",
    "# print(df_copy.groupby('log_numvotes_bin')['numVotes'].describe())"
   ]
  },
  {
   "cell_type": "code",
   "execution_count": 1207,
   "id": "1eef9d03",
   "metadata": {},
   "outputs": [
    {
     "name": "stdout",
     "output_type": "stream",
     "text": [
      "                count          mean           std     min     25%     50%  \\\n",
      "numVotes_bin                                                                \n",
      "VeryLowVotes   4049.0      9.990121      2.890868     5.0     8.0    10.0   \n",
      "LowVotes       4477.0     28.241233      9.580983    16.0    20.0    26.0   \n",
      "MediumVotes    2736.0     90.189693     27.724992    51.0    66.0    85.0   \n",
      "HighVotes      2618.0    394.624905    221.316024   151.0   214.0   327.0   \n",
      "VeryHighVotes  1075.0  14603.161860  54851.447378  1001.0  1511.5  2622.0   \n",
      "\n",
      "                   75%       max  \n",
      "numVotes_bin                      \n",
      "VeryLowVotes     12.00      15.0  \n",
      "LowVotes         35.00      50.0  \n",
      "MediumVotes     111.00     150.0  \n",
      "HighVotes       521.75     997.0  \n",
      "VeryHighVotes  5629.00  803146.0  \n"
     ]
    }
   ],
   "source": [
    "#NUMVOTES NON LOG-TRANSFORMED\n",
    "labels = ['VeryLowVotes', 'LowVotes', 'MediumVotes', 'HighVotes', 'VeryHighVotes']\n",
    "bins = [4, 15, 50, 150, 1000, float('inf')]  # include il min=5 e max=1.071.372\n",
    "\n",
    "df_copy['numVotes_bin'] = pd.cut(df['numVotes'], bins=bins, labels=labels, include_lowest=True)\n",
    "print(df_copy.groupby('numVotes_bin')['numVotes'].describe())"
   ]
  },
  {
   "cell_type": "markdown",
   "id": "acb00d92",
   "metadata": {},
   "source": [
    "##### StartYear"
   ]
  },
  {
   "cell_type": "code",
   "execution_count": 1208,
   "id": "6cd220b5",
   "metadata": {},
   "outputs": [
    {
     "name": "stdout",
     "output_type": "stream",
     "text": [
      "                count         mean        std     min     25%     50%     75%  \\\n",
      "startYear_bin                                                                   \n",
      "pre-1930        459.0  1913.736383  11.594787  1891.0  1904.0  1913.0  1925.0   \n",
      "1930-1954       951.0  1944.112513   7.463382  1931.0  1938.0  1944.0  1951.0   \n",
      "1955-1979      2762.0  1969.340333   6.908679  1956.0  1964.0  1970.0  1975.0   \n",
      "1980-1999      4047.0  1991.322708   5.401675  1981.0  1987.0  1992.0  1996.0   \n",
      "2000-2019      3775.0  2008.991523   4.115185  2001.0  2006.0  2009.0  2012.0   \n",
      "post-2020      2960.0  2019.500338   2.379648  2016.0  2017.0  2019.0  2021.0   \n",
      "\n",
      "                  max  \n",
      "startYear_bin          \n",
      "pre-1930       1930.0  \n",
      "1930-1954      1955.0  \n",
      "1955-1979      1980.0  \n",
      "1980-1999      1999.0  \n",
      "2000-2019      2015.0  \n",
      "post-2020      2024.0  \n"
     ]
    }
   ],
   "source": [
    "#STARTYEAR\n",
    "bins =[\n",
    "    1878,  # Cinema delle origini e muto\n",
    "    1930,  # Cinema sonoro classico e radio\n",
    "    1955,  # TV B/N e colore, cinema widescreen\n",
    "    1980,  # Video domestico e media transazionali\n",
    "    2000,  # DVD, internet e mobile\n",
    "    2015,  # Streaming integrato e nuovi media\n",
    "    df_copy['startYear'].max()] #era corrente\n",
    "labels = ['pre-1930', '1930-1954', '1955-1979', '1980-1999', '2000-2019', 'post-2020']\n",
    "df_copy['startYear_bin'] = pd.cut(df_copy['startYear'], bins=bins, labels=labels)\n",
    "\n",
    "print(df_copy.groupby('startYear_bin')['startYear'].describe())"
   ]
  },
  {
   "cell_type": "markdown",
   "id": "7171b585",
   "metadata": {},
   "source": [
    "##### totalCredits"
   ]
  },
  {
   "cell_type": "code",
   "execution_count": 1209,
   "id": "0335fa18",
   "metadata": {},
   "outputs": [],
   "source": [
    "# df_copy[\"log_totalCredits\"] = np.log1p(df[\"totalCredits\"])"
   ]
  },
  {
   "cell_type": "code",
   "execution_count": 1210,
   "id": "2a648f87",
   "metadata": {},
   "outputs": [],
   "source": [
    "# #TOTALCREDITS LOG-TRANSFORMED\n",
    "# bins = [-np.inf, 2.0, 3.0, 4.2, 6.0, np.inf]\n",
    "# labels = ['VeryLowCredits', 'LowCredits', 'MediumCredits', 'HighCredits', 'VeryHighCredits']\n",
    "\n",
    "# df_copy['log_totalCredits_bin'] = pd.cut(df_copy['log_totalCredits'], bins=bins, labels=labels)"
   ]
  },
  {
   "cell_type": "code",
   "execution_count": 1211,
   "id": "d922877a",
   "metadata": {},
   "outputs": [],
   "source": [
    "# print(df_copy.groupby('log_totalCredits_bin')['totalCredits'].describe())"
   ]
  },
  {
   "cell_type": "code",
   "execution_count": 1212,
   "id": "f2ddb706",
   "metadata": {},
   "outputs": [],
   "source": [
    "#TOTALCREDITS NON LOG-TRANSFORMED\n",
    "labels = ['VeryLowCredits', 'LowCredits', 'MediumCredits', 'HighCredits', 'VeryHighCredits']\n",
    "bins = [-1, 15, 35, 65, 200, float('inf')]\n",
    "\n",
    "df_copy['totalCredits_bin'] = pd.cut(df['totalCredits'], bins=bins, labels=labels, include_lowest=True)"
   ]
  },
  {
   "cell_type": "code",
   "execution_count": 1213,
   "id": "26b87880",
   "metadata": {},
   "outputs": [
    {
     "name": "stdout",
     "output_type": "stream",
     "text": [
      "                   count        mean         std    min    25%    50%    75%  \\\n",
      "totalCredits_bin                                                               \n",
      "VeryLowCredits    3497.0    8.180440    4.345661    0.0    5.0    8.0   12.0   \n",
      "LowCredits        4031.0   24.828330    5.718656   16.0   20.0   25.0   30.0   \n",
      "MediumCredits     3659.0   48.495491    8.396748   36.0   41.0   48.0   55.0   \n",
      "HighCredits       3117.0  107.148540   35.211921   66.0   78.0   97.0  130.0   \n",
      "VeryHighCredits    651.0  432.800307  724.161331  201.0  233.5  285.0  409.5   \n",
      "\n",
      "                      max  \n",
      "totalCredits_bin           \n",
      "VeryLowCredits       15.0  \n",
      "LowCredits           35.0  \n",
      "MediumCredits        65.0  \n",
      "HighCredits         200.0  \n",
      "VeryHighCredits   15742.0  \n"
     ]
    }
   ],
   "source": [
    "print(df_copy.groupby('totalCredits_bin')['totalCredits'].describe())"
   ]
  },
  {
   "cell_type": "markdown",
   "id": "d763024d",
   "metadata": {},
   "source": [
    "##### criticReviewsTotal"
   ]
  },
  {
   "cell_type": "code",
   "execution_count": 1214,
   "id": "a236ddc9",
   "metadata": {},
   "outputs": [],
   "source": [
    "# df_copy[\"log_criticReviewsTotal\"] = np.log1p(df[\"criticReviewsTotal\"])"
   ]
  },
  {
   "cell_type": "code",
   "execution_count": 1215,
   "id": "63c52e95",
   "metadata": {},
   "outputs": [],
   "source": [
    "# #CRITICREVIEWS LOG-TRANSFORMED\n",
    "# bins = [-0.01, 0.0, 1.4, 2.3, 3.4, 4.6, np.inf]\n",
    "# labels = [\n",
    "#     'NoCriticReviews',\n",
    "#     'FewCriticReviews',\n",
    "#     'ModerateCriticReviews',\n",
    "#     'ManyCriticReviews',\n",
    "#     'VeryHighCriticReviews',\n",
    "#     'ExtensiveCriticReviews'\n",
    "# ]\n",
    "\n",
    "# df_copy['log_criticReviewsTotal_bin'] = pd.cut(\n",
    "#     df_copy['log_criticReviewsTotal'],\n",
    "#     bins=bins,\n",
    "#     labels=labels\n",
    "# )"
   ]
  },
  {
   "cell_type": "code",
   "execution_count": 1216,
   "id": "af978484",
   "metadata": {},
   "outputs": [],
   "source": [
    "# print(df_copy.groupby('log_criticReviewsTotal_bin')['criticReviewsTotal'].describe())"
   ]
  },
  {
   "cell_type": "code",
   "execution_count": 1217,
   "id": "4f1725d0",
   "metadata": {},
   "outputs": [
    {
     "name": "stdout",
     "output_type": "stream",
     "text": [
      "                          count       mean        std   min   25%   50%  \\\n",
      "criticReviewsTotal_bin                                                    \n",
      "NoCriticReviews         10435.0   0.000000   0.000000   0.0   0.0   0.0   \n",
      "FewCriticReviews         1730.0   1.000000   0.000000   1.0   1.0   1.0   \n",
      "ModerateCriticReviews    1560.0   2.983333   1.070799   2.0   2.0   3.0   \n",
      "ManyCriticReviews         841.0  10.172414   3.863135   6.0   7.0   9.0   \n",
      "VeryHighCriticReviews     213.0  29.582160   6.739006  21.0  24.0  28.0   \n",
      "ExtensiveCriticReviews    176.0  97.215909  63.665097  46.0  56.0  75.0   \n",
      "\n",
      "                          75%    max  \n",
      "criticReviewsTotal_bin                \n",
      "NoCriticReviews           0.0    0.0  \n",
      "FewCriticReviews          1.0    1.0  \n",
      "ModerateCriticReviews     4.0    5.0  \n",
      "ManyCriticReviews        13.0   20.0  \n",
      "VeryHighCriticReviews    35.0   45.0  \n",
      "ExtensiveCriticReviews  108.5  439.0  \n"
     ]
    }
   ],
   "source": [
    "#CRITICREVIEWS NON LOG-TRANSFORMED\n",
    "labels = [\n",
    "    'NoCriticReviews',\n",
    "    'FewCriticReviews',\n",
    "    'ModerateCriticReviews',\n",
    "    'ManyCriticReviews',\n",
    "    'VeryHighCriticReviews',\n",
    "    'ExtensiveCriticReviews'\n",
    "]\n",
    "bins = [-1, 0, 1, 5, 20, 45, float('inf')]\n",
    "\n",
    "df_copy['criticReviewsTotal_bin'] = pd.cut(df['criticReviewsTotal'], bins=bins, labels=labels, include_lowest=True)\n",
    "print(df_copy.groupby('criticReviewsTotal_bin')['criticReviewsTotal'].describe())"
   ]
  },
  {
   "cell_type": "markdown",
   "id": "52fbb1cf",
   "metadata": {},
   "source": [
    "##### numRegions"
   ]
  },
  {
   "cell_type": "code",
   "execution_count": 1218,
   "id": "80325e95",
   "metadata": {},
   "outputs": [],
   "source": [
    "# df_copy[\"log_numRegions\"] = np.log1p(df[\"numRegions\"])"
   ]
  },
  {
   "cell_type": "code",
   "execution_count": 1219,
   "id": "69c6699e",
   "metadata": {},
   "outputs": [],
   "source": [
    "# #NUMREGIONS LOG-TRANSFORMED\n",
    "# bins = [-np.inf, 1.2, 2.0, 3.2, np.inf]\n",
    "# labels = ['VeryFewRegions', 'ModerateRegions', 'ManyRegions', 'GlobalRegions']\n",
    "\n",
    "# # Applicazione\n",
    "# df_copy['log_numRegions_bin'] = pd.cut(\n",
    "#     df_copy['log_numRegions'],\n",
    "#     bins=bins,\n",
    "#     labels=labels\n",
    "# )"
   ]
  },
  {
   "cell_type": "code",
   "execution_count": 1220,
   "id": "9283a408",
   "metadata": {},
   "outputs": [],
   "source": [
    "# print(df_copy.groupby('log_numRegions_bin')['numRegions'].describe())"
   ]
  },
  {
   "cell_type": "code",
   "execution_count": 1221,
   "id": "074d6c2f",
   "metadata": {},
   "outputs": [
    {
     "name": "stdout",
     "output_type": "stream",
     "text": [
      "                  count       mean       std  min   25%   50%   75%   max\n",
      "numRegions_bin                                                           \n",
      "VeryFewRegions   8829.0   1.000000  0.000000  1.0   1.0   1.0   1.0   1.0\n",
      "ModerateRegions  2434.0   2.315530  0.464822  2.0   2.0   2.0   3.0   3.0\n",
      "ManyRegions      2314.0   5.719965  1.364825  4.0   4.0   6.0   7.0   8.0\n",
      "GlobalRegions    1378.0  17.775036  9.186373  9.0  11.0  15.0  22.0  62.0\n"
     ]
    }
   ],
   "source": [
    "#NUMREGIONS NON LOG-TRANSFORMED\n",
    "labels = ['VeryFewRegions', 'ModerateRegions', 'ManyRegions', 'GlobalRegions']\n",
    "bins = [0, 1, 3, 8, float('inf')]\n",
    "\n",
    "df_copy['numRegions_bin'] = pd.cut(df['numRegions'], bins=bins, labels=labels, include_lowest=True)\n",
    "print(df_copy.groupby('numRegions_bin')['numRegions'].describe())\n"
   ]
  },
  {
   "cell_type": "markdown",
   "id": "2c04a4d8",
   "metadata": {},
   "source": [
    "##### userReviewsTotal"
   ]
  },
  {
   "cell_type": "code",
   "execution_count": 1222,
   "id": "9adc0297",
   "metadata": {},
   "outputs": [],
   "source": [
    "# df_copy[\"log_userReviewsTotal\"] = np.log1p(df[\"userReviewsTotal\"])"
   ]
  },
  {
   "cell_type": "code",
   "execution_count": 1223,
   "id": "93fd2435",
   "metadata": {},
   "outputs": [],
   "source": [
    "# #USERREVIEWSTOTAL LOG-TRANSFORMED\n",
    "# bins = [-0.01, 0.0, 2.8, 5.0, np.inf]\n",
    "# labels = ['NoUserReviews', 'FewUserReviews', 'ManyUserReviews', 'VeryManyUserReviews']\n",
    "\n",
    "# # Applicazione\n",
    "# df_copy['log_userReviewsTotal_bin'] = pd.cut(\n",
    "#     df_copy['log_userReviewsTotal'],\n",
    "#     bins=bins,\n",
    "#     labels=labels)"
   ]
  },
  {
   "cell_type": "code",
   "execution_count": 1224,
   "id": "ec5badb6",
   "metadata": {},
   "outputs": [],
   "source": [
    "# print(df_copy.groupby('log_userReviewsTotal_bin')['userReviewsTotal'].describe())"
   ]
  },
  {
   "cell_type": "code",
   "execution_count": 1225,
   "id": "66ee3e54",
   "metadata": {},
   "outputs": [],
   "source": [
    "#USERREVIEWSTOTAL NON LOG-TRANSFORMED\n",
    "labels = ['NoUserReviews', 'FewUserReviews', 'ManyUserReviews', 'VeryManyUserReviews']\n",
    "bins = [-1, 0, 3, 30, float('inf')]\n",
    "\n",
    "df_copy['userReviewsTotal_bin'] = pd.cut(df['userReviewsTotal'], bins=bins, labels=labels, include_lowest=True)"
   ]
  },
  {
   "cell_type": "code",
   "execution_count": 1226,
   "id": "31dec078",
   "metadata": {},
   "outputs": [
    {
     "name": "stdout",
     "output_type": "stream",
     "text": [
      "                       count        mean         std   min    25%   50%  \\\n",
      "userReviewsTotal_bin                                                      \n",
      "NoUserReviews         8454.0    0.000000    0.000000   0.0   0.00   0.0   \n",
      "FewUserReviews        3875.0    1.566452    0.739343   1.0   1.00   1.0   \n",
      "ManyUserReviews       2162.0   10.129972    6.613494   4.0   5.00   8.0   \n",
      "VeryManyUserReviews    464.0  145.540948  324.193737  31.0  41.75  63.0   \n",
      "\n",
      "                         75%     max  \n",
      "userReviewsTotal_bin                  \n",
      "NoUserReviews           0.00     0.0  \n",
      "FewUserReviews          2.00     3.0  \n",
      "ManyUserReviews        13.00    30.0  \n",
      "VeryManyUserReviews   129.25  5727.0  \n"
     ]
    }
   ],
   "source": [
    "print(df_copy.groupby('userReviewsTotal_bin')['userReviewsTotal'].describe())"
   ]
  },
  {
   "cell_type": "markdown",
   "id": "f2ad8c29",
   "metadata": {},
   "source": [
    "##### countryOfOrigin_freqenc"
   ]
  },
  {
   "cell_type": "code",
   "execution_count": 1227,
   "id": "6f835407",
   "metadata": {},
   "outputs": [
    {
     "data": {
      "text/plain": [
       "count    14955.000000\n",
       "mean         0.196614\n",
       "std          0.182731\n",
       "min          0.000056\n",
       "25%          0.018089\n",
       "50%          0.098792\n",
       "75%          0.397061\n",
       "max          0.658429\n",
       "Name: countryOfOrigin_freq_enc, dtype: float64"
      ]
     },
     "execution_count": 1227,
     "metadata": {},
     "output_type": "execute_result"
    }
   ],
   "source": [
    "df_copy[\"countryOfOrigin_freq_enc\"].describe()"
   ]
  },
  {
   "cell_type": "code",
   "execution_count": 1228,
   "id": "cf6cbbe6",
   "metadata": {},
   "outputs": [],
   "source": [
    "bins = [-0.01, 0.03, 0.3, 1.0]\n",
    "labels = ['LowFreqCountries', 'MediumFreqCountries', 'HighFreqCountries']\n",
    "\n",
    "df_copy[\"country_freq_bin\"] = pd.cut(\n",
    "    df_copy[\"countryOfOrigin_freq_enc\"],\n",
    "    bins=bins,\n",
    "    labels=labels\n",
    ")"
   ]
  },
  {
   "cell_type": "code",
   "execution_count": 1229,
   "id": "3ae6192d",
   "metadata": {},
   "outputs": [
    {
     "name": "stdout",
     "output_type": "stream",
     "text": [
      "                      count      mean       std       min       25%       50%  \\\n",
      "country_freq_bin                                                                \n",
      "LowFreqCountries     4559.0  0.011128  0.007641  0.000056  0.005510  0.009406   \n",
      "MediumFreqCountries  3816.0  0.067012  0.029802  0.030556  0.045973  0.047086   \n",
      "HighFreqCountries    6580.0  0.400291  0.016326  0.397061  0.397061  0.397061   \n",
      "\n",
      "                          75%       max  \n",
      "country_freq_bin                         \n",
      "LowFreqCountries     0.017532  0.029888  \n",
      "MediumFreqCountries  0.098792  0.204931  \n",
      "HighFreqCountries    0.397061  0.658429  \n"
     ]
    }
   ],
   "source": [
    "print(df_copy.groupby('country_freq_bin')['countryOfOrigin_freq_enc'].describe())"
   ]
  },
  {
   "cell_type": "markdown",
   "id": "2ea49eee",
   "metadata": {},
   "source": [
    "### Handling of categorical attributes"
   ]
  },
  {
   "cell_type": "markdown",
   "id": "faf86f48",
   "metadata": {},
   "source": [
    "##### countryOfOrigin"
   ]
  },
  {
   "cell_type": "code",
   "execution_count": 1230,
   "id": "5799fa78",
   "metadata": {},
   "outputs": [],
   "source": [
    "# # BINARIZZAZIONE -  ONE HOT ENCODING \n",
    "# df_copy['from_Europe_bin'] = (df_copy['countryOfOrigin_EU'] > 0).astype(int)\n",
    "# df_copy['from_NorthAmerica_bin'] = (df_copy['countryOfOrigin_NA'] > 0).astype(int)\n",
    "# df_copy['from_SouthAmerica_bin'] = (df_copy['countryOfOrigin_SA'] > 0).astype(int)\n",
    "# df_copy['from_Asia_bin'] = (df_copy['countryOfOrigin_SA'] > 0).astype(int)\n",
    "# df_copy['from_Oceania_bin'] = (df_copy['countryOfOrigin_OC'] > 0).astype(int)\n",
    "# df_copy['from_Africa_bin'] = (df_copy['countryOfOrigin_AF'] > 0).astype(int)\n",
    "# df_copy['from_Unknown_bin'] = (df_copy['countryOfOrigin_UNK'] > 0).astype(int)\n"
   ]
  },
  {
   "cell_type": "code",
   "execution_count": 1231,
   "id": "ce207c84",
   "metadata": {},
   "outputs": [],
   "source": [
    "# BINARIZZAZIONE \n",
    "def discretize_continent_count(df, col_name, cont):\n",
    "    new_col = f'{cont }_bin'\n",
    "    \n",
    "    def label(value):\n",
    "        if value == 0:\n",
    "            return f'not_{cont}'\n",
    "       # elif value == 1:\n",
    "        #    return f'one_{cont}'\n",
    "        else:\n",
    "            return f'is_{cont}'\n",
    "    \n",
    "    df[new_col] = df[col_name].apply(label)\n",
    "\n",
    "# applico funzione\n",
    "discretize_continent_count(df_copy, \"countryOfOrigin_NA\", \"from_NorthAmerica\")\n",
    "discretize_continent_count(df_copy, \"countryOfOrigin_EU\", \"from_Europe\")\n",
    "discretize_continent_count(df_copy, \"countryOfOrigin_SA\", \"from_SouthAmerica\")\n",
    "discretize_continent_count(df_copy, \"countryOfOrigin_AS\", \"from_Asia\")\n",
    "discretize_continent_count(df_copy, \"countryOfOrigin_OC\", \"from_Oceania\")\n",
    "discretize_continent_count(df_copy, \"countryOfOrigin_AF\", \"from_Africa\")\n",
    "discretize_continent_count(df_copy, \"countryOfOrigin_UNK\", \"from_Unknown\")"
   ]
  },
  {
   "cell_type": "code",
   "execution_count": 1232,
   "id": "44735b7a",
   "metadata": {},
   "outputs": [
    {
     "data": {
      "text/html": [
       "<div>\n",
       "<style scoped>\n",
       "    .dataframe tbody tr th:only-of-type {\n",
       "        vertical-align: middle;\n",
       "    }\n",
       "\n",
       "    .dataframe tbody tr th {\n",
       "        vertical-align: top;\n",
       "    }\n",
       "\n",
       "    .dataframe thead th {\n",
       "        text-align: right;\n",
       "    }\n",
       "</style>\n",
       "<table border=\"1\" class=\"dataframe\">\n",
       "  <thead>\n",
       "    <tr style=\"text-align: right;\">\n",
       "      <th></th>\n",
       "      <th>originalTitle</th>\n",
       "      <th>rating</th>\n",
       "      <th>startYear</th>\n",
       "      <th>endYear</th>\n",
       "      <th>runtimeMinutes</th>\n",
       "      <th>awardWins</th>\n",
       "      <th>numVotes</th>\n",
       "      <th>totalImages</th>\n",
       "      <th>totalVideos</th>\n",
       "      <th>totalCredits</th>\n",
       "      <th>...</th>\n",
       "      <th>numRegions_bin</th>\n",
       "      <th>userReviewsTotal_bin</th>\n",
       "      <th>country_freq_bin</th>\n",
       "      <th>from_NorthAmerica_bin</th>\n",
       "      <th>from_Europe_bin</th>\n",
       "      <th>from_SouthAmerica_bin</th>\n",
       "      <th>from_Asia_bin</th>\n",
       "      <th>from_Oceania_bin</th>\n",
       "      <th>from_Africa_bin</th>\n",
       "      <th>from_Unknown_bin</th>\n",
       "    </tr>\n",
       "  </thead>\n",
       "  <tbody>\n",
       "    <tr>\n",
       "      <th>0</th>\n",
       "      <td>Neogenic Nightmare Chapter 3: Hydro-Man</td>\n",
       "      <td>8</td>\n",
       "      <td>1995</td>\n",
       "      <td>1995.0</td>\n",
       "      <td>NaN</td>\n",
       "      <td>0.0</td>\n",
       "      <td>779</td>\n",
       "      <td>1</td>\n",
       "      <td>0</td>\n",
       "      <td>21</td>\n",
       "      <td>...</td>\n",
       "      <td>VeryFewRegions</td>\n",
       "      <td>NoUserReviews</td>\n",
       "      <td>HighFreqCountries</td>\n",
       "      <td>is_from_NorthAmerica</td>\n",
       "      <td>not_from_Europe</td>\n",
       "      <td>not_from_SouthAmerica</td>\n",
       "      <td>not_from_Asia</td>\n",
       "      <td>not_from_Oceania</td>\n",
       "      <td>not_from_Africa</td>\n",
       "      <td>not_from_Unknown</td>\n",
       "    </tr>\n",
       "    <tr>\n",
       "      <th>1</th>\n",
       "      <td>Idealnaya para</td>\n",
       "      <td>6</td>\n",
       "      <td>1992</td>\n",
       "      <td>1992.0</td>\n",
       "      <td>NaN</td>\n",
       "      <td>0.0</td>\n",
       "      <td>38</td>\n",
       "      <td>1</td>\n",
       "      <td>0</td>\n",
       "      <td>24</td>\n",
       "      <td>...</td>\n",
       "      <td>VeryFewRegions</td>\n",
       "      <td>FewUserReviews</td>\n",
       "      <td>LowFreqCountries</td>\n",
       "      <td>not_from_NorthAmerica</td>\n",
       "      <td>is_from_Europe</td>\n",
       "      <td>not_from_SouthAmerica</td>\n",
       "      <td>not_from_Asia</td>\n",
       "      <td>not_from_Oceania</td>\n",
       "      <td>not_from_Africa</td>\n",
       "      <td>not_from_Unknown</td>\n",
       "    </tr>\n",
       "    <tr>\n",
       "      <th>2</th>\n",
       "      <td>MasterChef Celebrity México</td>\n",
       "      <td>6</td>\n",
       "      <td>2021</td>\n",
       "      <td>NaN</td>\n",
       "      <td>NaN</td>\n",
       "      <td>0.0</td>\n",
       "      <td>15</td>\n",
       "      <td>22</td>\n",
       "      <td>0</td>\n",
       "      <td>56</td>\n",
       "      <td>...</td>\n",
       "      <td>VeryFewRegions</td>\n",
       "      <td>NoUserReviews</td>\n",
       "      <td>LowFreqCountries</td>\n",
       "      <td>is_from_NorthAmerica</td>\n",
       "      <td>not_from_Europe</td>\n",
       "      <td>not_from_SouthAmerica</td>\n",
       "      <td>not_from_Asia</td>\n",
       "      <td>not_from_Oceania</td>\n",
       "      <td>not_from_Africa</td>\n",
       "      <td>not_from_Unknown</td>\n",
       "    </tr>\n",
       "    <tr>\n",
       "      <th>4</th>\n",
       "      <td>Lightdance</td>\n",
       "      <td>9</td>\n",
       "      <td>1995</td>\n",
       "      <td>1995.0</td>\n",
       "      <td>34.0</td>\n",
       "      <td>0.0</td>\n",
       "      <td>14</td>\n",
       "      <td>1</td>\n",
       "      <td>0</td>\n",
       "      <td>0</td>\n",
       "      <td>...</td>\n",
       "      <td>VeryFewRegions</td>\n",
       "      <td>FewUserReviews</td>\n",
       "      <td>HighFreqCountries</td>\n",
       "      <td>is_from_NorthAmerica</td>\n",
       "      <td>not_from_Europe</td>\n",
       "      <td>not_from_SouthAmerica</td>\n",
       "      <td>not_from_Asia</td>\n",
       "      <td>not_from_Oceania</td>\n",
       "      <td>not_from_Africa</td>\n",
       "      <td>not_from_Unknown</td>\n",
       "    </tr>\n",
       "    <tr>\n",
       "      <th>5</th>\n",
       "      <td>Kiss, Kiss Bang, Bang</td>\n",
       "      <td>8</td>\n",
       "      <td>1995</td>\n",
       "      <td>1995.0</td>\n",
       "      <td>45.0</td>\n",
       "      <td>0.0</td>\n",
       "      <td>96</td>\n",
       "      <td>5</td>\n",
       "      <td>0</td>\n",
       "      <td>110</td>\n",
       "      <td>...</td>\n",
       "      <td>VeryFewRegions</td>\n",
       "      <td>NoUserReviews</td>\n",
       "      <td>HighFreqCountries</td>\n",
       "      <td>is_from_NorthAmerica</td>\n",
       "      <td>not_from_Europe</td>\n",
       "      <td>not_from_SouthAmerica</td>\n",
       "      <td>not_from_Asia</td>\n",
       "      <td>not_from_Oceania</td>\n",
       "      <td>not_from_Africa</td>\n",
       "      <td>not_from_Unknown</td>\n",
       "    </tr>\n",
       "  </tbody>\n",
       "</table>\n",
       "<p>5 rows × 83 columns</p>\n",
       "</div>"
      ],
      "text/plain": [
       "                             originalTitle  rating  startYear  endYear  \\\n",
       "0  Neogenic Nightmare Chapter 3: Hydro-Man       8       1995   1995.0   \n",
       "1                           Idealnaya para       6       1992   1992.0   \n",
       "2              MasterChef Celebrity México       6       2021      NaN   \n",
       "4                               Lightdance       9       1995   1995.0   \n",
       "5                    Kiss, Kiss Bang, Bang       8       1995   1995.0   \n",
       "\n",
       "   runtimeMinutes  awardWins  numVotes  totalImages  totalVideos  \\\n",
       "0             NaN        0.0       779            1            0   \n",
       "1             NaN        0.0        38            1            0   \n",
       "2             NaN        0.0        15           22            0   \n",
       "4            34.0        0.0        14            1            0   \n",
       "5            45.0        0.0        96            5            0   \n",
       "\n",
       "   totalCredits  ...  numRegions_bin userReviewsTotal_bin   country_freq_bin  \\\n",
       "0            21  ...  VeryFewRegions        NoUserReviews  HighFreqCountries   \n",
       "1            24  ...  VeryFewRegions       FewUserReviews   LowFreqCountries   \n",
       "2            56  ...  VeryFewRegions        NoUserReviews   LowFreqCountries   \n",
       "4             0  ...  VeryFewRegions       FewUserReviews  HighFreqCountries   \n",
       "5           110  ...  VeryFewRegions        NoUserReviews  HighFreqCountries   \n",
       "\n",
       "   from_NorthAmerica_bin  from_Europe_bin  from_SouthAmerica_bin  \\\n",
       "0   is_from_NorthAmerica  not_from_Europe  not_from_SouthAmerica   \n",
       "1  not_from_NorthAmerica   is_from_Europe  not_from_SouthAmerica   \n",
       "2   is_from_NorthAmerica  not_from_Europe  not_from_SouthAmerica   \n",
       "4   is_from_NorthAmerica  not_from_Europe  not_from_SouthAmerica   \n",
       "5   is_from_NorthAmerica  not_from_Europe  not_from_SouthAmerica   \n",
       "\n",
       "   from_Asia_bin  from_Oceania_bin  from_Africa_bin  from_Unknown_bin  \n",
       "0  not_from_Asia  not_from_Oceania  not_from_Africa  not_from_Unknown  \n",
       "1  not_from_Asia  not_from_Oceania  not_from_Africa  not_from_Unknown  \n",
       "2  not_from_Asia  not_from_Oceania  not_from_Africa  not_from_Unknown  \n",
       "4  not_from_Asia  not_from_Oceania  not_from_Africa  not_from_Unknown  \n",
       "5  not_from_Asia  not_from_Oceania  not_from_Africa  not_from_Unknown  \n",
       "\n",
       "[5 rows x 83 columns]"
      ]
     },
     "execution_count": 1232,
     "metadata": {},
     "output_type": "execute_result"
    }
   ],
   "source": [
    "df_copy.head()"
   ]
  },
  {
   "cell_type": "markdown",
   "id": "ba5d8aeb",
   "metadata": {},
   "source": [
    "## Pattern Mining"
   ]
  },
  {
   "cell_type": "markdown",
   "id": "a2f3276b",
   "metadata": {},
   "source": [
    "### Transactions Creation"
   ]
  },
  {
   "cell_type": "code",
   "execution_count": 1233,
   "id": "96e1bdd6",
   "metadata": {},
   "outputs": [
    {
     "data": {
      "text/plain": [
       "Index(['originalTitle', 'rating', 'startYear', 'endYear', 'runtimeMinutes',\n",
       "       'awardWins', 'numVotes', 'totalImages', 'totalVideos', 'totalCredits',\n",
       "       'criticReviewsTotal', 'titleType', 'awardNominationsExcludeWins',\n",
       "       'canHaveEpisodes', 'numRegions', 'userReviewsTotal', 'is_Documentary',\n",
       "       'is_History', 'is_Adventure', 'is_Thriller', 'is_Game-Show',\n",
       "       'is_Comedy', 'is_Sci-Fi', 'is_Romance', 'is_Biography', 'is_Musical',\n",
       "       'is_Western', 'is_Music', 'is_Film-Noir', 'is_Adult', 'is_Reality-TV',\n",
       "       'is_News', 'is_Action', 'is_Crime', 'is_Short', 'is_Fantasy',\n",
       "       'is_Family', 'is_Mystery', 'is_Talk-Show', 'is_Drama', 'is_Sport',\n",
       "       'is_War', 'is_Horror', 'is_Animation', 'is_from_Oceania',\n",
       "       'is_from_North America', 'is_from_South America', 'is_from_Asia',\n",
       "       'is_from_Africa', 'is_from_Europe', 'countryOfOrigin',\n",
       "       'countryOfOrigin_freq_enc', 'countryOfOrigin_NA', 'countryOfOrigin_AF',\n",
       "       'countryOfOrigin_AS', 'countryOfOrigin_EU', 'countryOfOrigin_OC',\n",
       "       'countryOfOrigin_SA', 'countryOfOrigin_UNK',\n",
       "       'fill_runtimeMinutes_Bruno', 'totalNominations', 'totalMedia',\n",
       "       'runtimeMinutes_notitletype', 'outlier_no_type', 'outlier_w_type',\n",
       "       'totalNominations_bin', 'media_bin', 'runtime_bin', 'rating_bin',\n",
       "       'numVotes_bin', 'startYear_bin', 'totalCredits_bin',\n",
       "       'criticReviewsTotal_bin', 'numRegions_bin', 'userReviewsTotal_bin',\n",
       "       'country_freq_bin', 'from_NorthAmerica_bin', 'from_Europe_bin',\n",
       "       'from_SouthAmerica_bin', 'from_Asia_bin', 'from_Oceania_bin',\n",
       "       'from_Africa_bin', 'from_Unknown_bin'],\n",
       "      dtype='object')"
      ]
     },
     "execution_count": 1233,
     "metadata": {},
     "output_type": "execute_result"
    }
   ],
   "source": [
    "df_copy.columns"
   ]
  },
  {
   "cell_type": "code",
   "execution_count": 1234,
   "id": "fc1bbf48",
   "metadata": {},
   "outputs": [],
   "source": [
    "cols = [\n",
    "        #\"canHaveEpisodes\", \n",
    "        #\"totalNominations_bin\", \n",
    "        #\"media_bin\",\n",
    "        #\"rating_bin\",\n",
    "        \"runtime_bin\", \n",
    "        \"numVotes_bin\", \n",
    "        #\"startYear_bin\",\n",
    "        \"totalCredits_bin\", \n",
    "        \"criticReviewsTotal_bin\", \n",
    "        # \"country_freq_bin\",\n",
    "        # \"numRegions_bin\",  # migliora per lift del NA ma tante regole\n",
    "        \"userReviewsTotal_bin\",\n",
    "        \"titleType\",\n",
    "        'from_NorthAmerica_bin',\n",
    "        'from_Europe_bin' , \n",
    "        # 'from_SouthAmerica_bin', 'from_Asia_bin', 'from_Oceania_bin', 'from_Africa_bin', \n",
    "        #'from_Unknown_bin'\n",
    "]\n",
    "\n",
    "\n",
    "# #FUNZIONANTI COME BASE\n",
    "#     #     \"canHaveEpisodes\", \"isAdult\",\n",
    "#     #     \"totalNominations_bin\", \"media_bin\"\n",
    "#           \"rating_bin\", \"runtime_bin\", \"numVotes_bin\", \"startYear_bin\",\n",
    "#     #     \"totalCredits_bin\", \"criticReviewsTotal_bin\", \"numRegions_bin\", \"userReviewsTotal_bin\"\n",
    "#           \"titleType\",\n",
    "#           'from_NorthAmerica_bin', 'from_Europe_bin' ,'from_SouthAmerica_bin', 'from_Asia_bin', 'from_Oceania_bin', 'from_Africa_bin', 'from_Unknown_bin'\n",
    "\n",
    "#TUTTE\n",
    "    #     \"canHaveEpisodes\", \"isAdult\",\n",
    "    #     \"totalNominations_bin\", \"media_bin\"\n",
    "    #     \"rating_bin\", \"runtime_bin\", \"numVotes_bin\", \"startYear_bin\",\n",
    "    #     \"totalCredits_bin\", \"criticReviewsTotal_bin\", \"numRegions_bin\", \"userReviewsTotal_bin\"\n",
    "    #     \"titleType\",\n",
    "    #      'from_NorthAmerica_bin', 'from_Europe_bin' ,'from_SouthAmerica_bin', 'from_Asia_bin', 'from_Oceania_bin', 'from_Africa_bin', 'from_Unknown_bin'\n",
    "\n",
    "\n"
   ]
  },
  {
   "cell_type": "code",
   "execution_count": 1235,
   "id": "87dc31d3",
   "metadata": {},
   "outputs": [
    {
     "name": "stdout",
     "output_type": "stream",
     "text": [
      "14955\n",
      "[['MediumRuntime', 'HighVotes', 'HighCredits', 'FewCriticReviews', 'ManyUserReviews', 'movie', 'is_from_NorthAmerica'], ['MediumRuntime', 'HighVotes', 'HighCredits', 'FewCriticReviews', 'FewUserReviews', 'movie', 'is_from_Europe'], ['VeryLowRuntime', 'VeryHighVotes', 'HighCredits', 'ModerateCriticReviews', 'ManyUserReviews', 'tvEpisode', 'is_from_NorthAmerica'], ['LowRuntime', 'VeryLowVotes', 'LowCredits', 'NoCriticReviews', 'NoUserReviews', 'tvEpisode'], ['VeryLowRuntime', 'VeryLowVotes', 'VeryLowCredits', 'NoCriticReviews', 'NoUserReviews', 'short', 'is_from_Europe']]\n"
     ]
    }
   ],
   "source": [
    "transactions = []\n",
    "\n",
    "for index, row in df_copy[cols].iterrows():\n",
    "    transaction = []\n",
    "    for col in cols:\n",
    "        value = str(row[col])\n",
    "        if not value.startswith('not_'):  # Ignora 'none_from_*'\n",
    "            transaction.append(value)\n",
    "    transactions.append(transaction)\n",
    "\n",
    "# Verifica risultato\n",
    "print(len(transactions))\n",
    "print(transactions[10:15])\n"
   ]
  },
  {
   "cell_type": "code",
   "execution_count": 1236,
   "id": "cee7c7d2",
   "metadata": {},
   "outputs": [
    {
     "name": "stdout",
     "output_type": "stream",
     "text": [
      "   ExtensiveCriticReviews  FewCriticReviews  FewUserReviews  HighCredits  \\\n",
      "0                   False              True           False        False   \n",
      "1                   False             False            True        False   \n",
      "2                   False             False           False        False   \n",
      "3                   False             False            True        False   \n",
      "4                   False             False           False         True   \n",
      "\n",
      "   HighRuntime  HighVotes  LowCredits  LowRuntime  LowVotes  \\\n",
      "0        False       True        True       False     False   \n",
      "1         True      False        True       False      True   \n",
      "2        False      False       False       False     False   \n",
      "3        False      False       False        True     False   \n",
      "4        False      False       False        True     False   \n",
      "\n",
      "   ManyCriticReviews  ...  is_from_Europe  is_from_NorthAmerica  movie  short  \\\n",
      "0              False  ...           False                  True  False  False   \n",
      "1              False  ...            True                 False   True  False   \n",
      "2              False  ...           False                  True  False  False   \n",
      "3              False  ...           False                  True  False  False   \n",
      "4              False  ...           False                  True  False  False   \n",
      "\n",
      "   tvEpisode  tvMiniSeries  tvMovie  tvSeries  tvSpecial  video  \n",
      "0       True         False    False     False      False  False  \n",
      "1      False         False    False     False      False  False  \n",
      "2      False         False    False      True      False  False  \n",
      "3      False         False    False     False      False   True  \n",
      "4       True         False    False     False      False  False  \n",
      "\n",
      "[5 rows x 34 columns]\n"
     ]
    }
   ],
   "source": [
    "# Let's utilize TransactionEncoder\n",
    "te = TransactionEncoder()\n",
    "te_array = te.fit(transactions).transform(transactions)\n",
    "df_apriori = pd.DataFrame(te_array, columns=te.columns_)\n",
    "\n",
    "# Visualizza le prime righe per assicurarti che la trasformazione sia corretta\n",
    "print(df_apriori.head())"
   ]
  },
  {
   "cell_type": "markdown",
   "id": "6a39fceb",
   "metadata": {},
   "source": []
  },
  {
   "cell_type": "markdown",
   "id": "8292a043",
   "metadata": {},
   "source": [
    "### Confronto itemset per support"
   ]
  },
  {
   "cell_type": "code",
   "execution_count": 1237,
   "id": "a85a1e19",
   "metadata": {},
   "outputs": [
    {
     "data": {
      "image/png": "[encoded data removed]",
      "text/plain": [
       "<Figure size 1000x600 with 1 Axes>"
      ]
     },
     "metadata": {},
     "output_type": "display_data"
    }
   ],
   "source": [
    "# Genera una lista di min_sup da testare\n",
    "min_sups = [round(x, 2) for x in list(np.arange(0.01, 0.3, 0.01))]\n",
    "\n",
    "# Lista per salvare il numero di itemset per ciascun supporto\n",
    "num_itemsets = []\n",
    "\n",
    "# Calcolo degli itemset frequenti per ogni min_sup\n",
    "for min_sup in min_sups:\n",
    "    frequent_itemsets = apriori(df_apriori, min_support=min_sup, use_colnames=True)\n",
    "    num_itemsets.append(len(frequent_itemsets))\n",
    "\n",
    "# Plot\n",
    "plt.figure(figsize=(10,6))\n",
    "plt.plot(min_sups, num_itemsets, marker='o')\n",
    "plt.title('Number of frequent itemsets vs. min_support')\n",
    "plt.xlabel('min_support')\n",
    "plt.ylabel('Number of frequent itemsets')\n",
    "plt.grid(True)\n",
    "plt.show()\n"
   ]
  },
  {
   "cell_type": "markdown",
   "id": "96bb122a",
   "metadata": {},
   "source": [
    "### Apriori - frequent pattern analysis"
   ]
  },
  {
   "cell_type": "code",
   "execution_count": 1238,
   "id": "7b2d1872",
   "metadata": {},
   "outputs": [
    {
     "name": "stdout",
     "output_type": "stream",
     "text": [
      "<class 'pandas.core.frame.DataFrame'>\n",
      "RangeIndex: 202 entries, 0 to 201\n",
      "Data columns (total 2 columns):\n",
      " #   Column    Non-Null Count  Dtype  \n",
      "---  ------    --------------  -----  \n",
      " 0   support   202 non-null    float64\n",
      " 1   itemsets  202 non-null    object \n",
      "dtypes: float64(1), object(1)\n",
      "memory usage: 3.3+ KB\n",
      "None\n",
      "     support                                itemsets\n",
      "0   0.115680                      (FewCriticReviews)\n",
      "1   0.259111                        (FewUserReviews)\n",
      "2   0.208425                           (HighCredits)\n",
      "3   0.177332                           (HighRuntime)\n",
      "4   0.175059                             (HighVotes)\n",
      "5   0.269542                            (LowCredits)\n",
      "6   0.218656                            (LowRuntime)\n",
      "7   0.299365                              (LowVotes)\n",
      "8   0.144567                       (ManyUserReviews)\n",
      "9   0.244667                         (MediumCredits)\n",
      "10  0.229087                         (MediumRuntime)\n",
      "11  0.182949                           (MediumVotes)\n",
      "12  0.104313                 (ModerateCriticReviews)\n",
      "13  0.697760                       (NoCriticReviews)\n",
      "14  0.565296                         (NoUserReviews)\n",
      "15  0.071882                         (VeryHighVotes)\n",
      "16  0.233835                        (VeryLowCredits)\n",
      "17  0.374925                        (VeryLowRuntime)\n",
      "18  0.270746                          (VeryLowVotes)\n",
      "19  0.317085                        (is_from_Europe)\n",
      "20  0.485323                  (is_from_NorthAmerica)\n",
      "21  0.318556                                 (movie)\n",
      "22  0.160013                                 (short)\n",
      "23  0.303310                             (tvEpisode)\n",
      "24  0.087997                              (tvSeries)\n",
      "25  0.070679            (LowCredits, FewUserReviews)\n",
      "26  0.080107              (FewUserReviews, LowVotes)\n",
      "27  0.074356         (MediumCredits, FewUserReviews)\n",
      "28  0.079505           (MediumVotes, FewUserReviews)\n",
      "29  0.166566       (NoCriticReviews, FewUserReviews)\n",
      "30  0.099164        (VeryLowRuntime, FewUserReviews)\n",
      "31  0.083718        (is_from_Europe, FewUserReviews)\n",
      "32  0.137479  (is_from_NorthAmerica, FewUserReviews)\n",
      "33  0.083183                 (movie, FewUserReviews)\n",
      "34  0.078970             (tvEpisode, FewUserReviews)\n",
      "35  0.112872          (NoCriticReviews, HighCredits)\n",
      "36  0.088532            (NoUserReviews, HighCredits)\n",
      "37  0.127248     (is_from_NorthAmerica, HighCredits)\n",
      "38  0.091742                (HighCredits, tvEpisode)\n",
      "39  0.087864          (HighRuntime, NoCriticReviews)\n",
      "40  0.073821            (HighRuntime, NoUserReviews)\n",
      "41  0.153594                    (movie, HighRuntime)\n",
      "42  0.081444            (ManyUserReviews, HighVotes)\n",
      "43  0.103176       (HighVotes, is_from_NorthAmerica)\n",
      "44  0.071013                      (movie, HighVotes)\n",
      "45  0.097693                  (LowCredits, LowVotes)\n",
      "46  0.075560             (LowCredits, MediumRuntime)\n",
      "47  0.204280           (LowCredits, NoCriticReviews)\n",
      "48  0.169977             (LowCredits, NoUserReviews)\n",
      "49  0.100033            (VeryLowRuntime, LowCredits)\n",
      "50  0.089602              (LowCredits, VeryLowVotes)\n"
     ]
    }
   ],
   "source": [
    "min_support = 0.07  # % supporto minimo\n",
    "min_confidence = 0.6  # 60% confidenza minima --> serve dopo nella fase di rules extraction\n",
    "\n",
    "# Apriori\n",
    "frequent_itemsets_apriori = apriori(df_apriori, min_support=min_support, use_colnames=True)\n",
    "\n",
    "# FRA -< Filtra gli itemset con almeno 2 item (lunghezza >= 2)\n",
    "    #frequent_itemsets_apriori = frequent_itemsets_apriori[frequent_itemsets_apriori['itemsets'].apply(lambda x: len(x) >= 2)]\n",
    "    #frequent_itemsets_apriori.reset_index(drop=True, inplace=True)\n",
    "\n",
    "print(frequent_itemsets_apriori.info())\n",
    "print(frequent_itemsets_apriori.head(51))"
   ]
  },
  {
   "cell_type": "code",
   "execution_count": 1239,
   "id": "7a7281af",
   "metadata": {},
   "outputs": [
    {
     "name": "stdout",
     "output_type": "stream",
     "text": [
      "      support                                           itemsets\n",
      "13   0.697760                                  (NoCriticReviews)\n",
      "14   0.565296                                    (NoUserReviews)\n",
      "85   0.492143                   (NoCriticReviews, NoUserReviews)\n",
      "20   0.485323                             (is_from_NorthAmerica)\n",
      "17   0.374925                                   (VeryLowRuntime)\n",
      "..        ...                                                ...\n",
      "44   0.071013                                 (movie, HighVotes)\n",
      "193  0.070946  (is_from_Europe, VeryLowRuntime, NoCriticRevie...\n",
      "25   0.070679                       (LowCredits, FewUserReviews)\n",
      "54   0.070411                            (LowCredits, tvEpisode)\n",
      "160  0.070077  (is_from_Europe, NoCriticReviews, VeryLowCredits)\n",
      "\n",
      "[202 rows x 2 columns]\n"
     ]
    }
   ],
   "source": [
    "frequent_patterns_sorted = frequent_itemsets_apriori.sort_values(by='support', ascending=False)\n",
    "print(frequent_patterns_sorted)"
   ]
  },
  {
   "cell_type": "code",
   "execution_count": 1240,
   "id": "1b03d23f",
   "metadata": {},
   "outputs": [
    {
     "name": "stdout",
     "output_type": "stream",
     "text": [
      "\n",
      "Top itemsets of size 1 (support=0.6977599465061852):\n",
      "    support           itemsets\n",
      "13  0.69776  (NoCriticReviews)\n",
      "\n",
      "Top itemsets of size 2 (support=0.49214309595453026):\n",
      "     support                          itemsets\n",
      "85  0.492143  (NoCriticReviews, NoUserReviews)\n",
      "\n",
      "Top itemsets of size 3 (support=0.2235372785021732):\n",
      "      support                                        itemsets\n",
      "152  0.223537  (NoCriticReviews, VeryLowVotes, NoUserReviews)\n"
     ]
    }
   ],
   "source": [
    "# Extract itemsets with highest support for size 2, 3, and 4\n",
    "result = {}\n",
    "\n",
    "for k in [1, 2, 3]:\n",
    "    # Filter itemsets of length k\n",
    "    itemsets_k = frequent_itemsets_apriori[frequent_itemsets_apriori['itemsets'].apply(lambda x: len(x) == k)]\n",
    "    if not itemsets_k.empty:\n",
    "        max_support = itemsets_k['support'].max()\n",
    "        top_itemsets = itemsets_k[itemsets_k['support'] == max_support]\n",
    "        result[k] = top_itemsets\n",
    "        print(f\"\\nTop itemsets of size {k} (support={max_support}):\")\n",
    "        print(top_itemsets)\n",
    "    else:\n",
    "        print(f\"\\nNo itemsets of size {k} found.\")"
   ]
  },
  {
   "cell_type": "markdown",
   "id": "29f0b50e",
   "metadata": {},
   "source": [
    "### maximal itemset"
   ]
  },
  {
   "cell_type": "code",
   "execution_count": 1241,
   "id": "59583179",
   "metadata": {},
   "outputs": [
    {
     "name": "stdout",
     "output_type": "stream",
     "text": [
      "<class 'pandas.core.frame.DataFrame'>\n",
      "Index: 76 entries, 0 to 201\n",
      "Data columns (total 2 columns):\n",
      " #   Column    Non-Null Count  Dtype  \n",
      "---  ------    --------------  -----  \n",
      " 0   support   76 non-null     float64\n",
      " 1   itemsets  76 non-null     object \n",
      "dtypes: float64(1), object(1)\n",
      "memory usage: 1.8+ KB\n",
      "None\n",
      "     support                             itemsets\n",
      "0   0.115680                   (FewCriticReviews)\n",
      "12  0.104313              (ModerateCriticReviews)\n",
      "15  0.071882                      (VeryHighVotes)\n",
      "25  0.070679         (LowCredits, FewUserReviews)\n",
      "26  0.080107           (FewUserReviews, LowVotes)\n",
      "27  0.074356      (MediumCredits, FewUserReviews)\n",
      "28  0.079505        (MediumVotes, FewUserReviews)\n",
      "31  0.083718     (is_from_Europe, FewUserReviews)\n",
      "33  0.083183              (movie, FewUserReviews)\n",
      "34  0.078970          (tvEpisode, FewUserReviews)\n",
      "37  0.127248  (is_from_NorthAmerica, HighCredits)\n",
      "38  0.091742             (HighCredits, tvEpisode)\n",
      "40  0.073821         (HighRuntime, NoUserReviews)\n",
      "42  0.081444         (ManyUserReviews, HighVotes)\n",
      "43  0.103176    (HighVotes, is_from_NorthAmerica)\n"
     ]
    }
   ],
   "source": [
    "# Find maximal itemsets (those that are not subsets of any other itemsets)\n",
    "maximal_itemsets_apriori = frequent_itemsets_apriori[frequent_itemsets_apriori['itemsets'].apply(lambda x: not any(x < y for y in frequent_itemsets_apriori['itemsets']))]\n",
    "\n",
    "# Display the results\n",
    "print(maximal_itemsets_apriori.info())\n",
    "print(maximal_itemsets_apriori.head(15))"
   ]
  },
  {
   "cell_type": "markdown",
   "id": "214165b2",
   "metadata": {},
   "source": [
    "### Association Rules"
   ]
  },
  {
   "cell_type": "code",
   "execution_count": 1242,
   "id": "2554301a",
   "metadata": {},
   "outputs": [
    {
     "name": "stdout",
     "output_type": "stream",
     "text": [
      "<class 'pandas.core.frame.DataFrame'>\n",
      "RangeIndex: 170 entries, 0 to 169\n",
      "Data columns (total 14 columns):\n",
      " #   Column              Non-Null Count  Dtype  \n",
      "---  ------              --------------  -----  \n",
      " 0   antecedents         170 non-null    object \n",
      " 1   consequents         170 non-null    object \n",
      " 2   antecedent support  170 non-null    float64\n",
      " 3   consequent support  170 non-null    float64\n",
      " 4   support             170 non-null    float64\n",
      " 5   confidence          170 non-null    float64\n",
      " 6   lift                170 non-null    float64\n",
      " 7   representativity    170 non-null    float64\n",
      " 8   leverage            170 non-null    float64\n",
      " 9   conviction          170 non-null    float64\n",
      " 10  zhangs_metric       170 non-null    float64\n",
      " 11  jaccard             170 non-null    float64\n",
      " 12  certainty           170 non-null    float64\n",
      " 13  kulczynski          170 non-null    float64\n",
      "dtypes: float64(12), object(2)\n",
      "memory usage: 18.7+ KB\n"
     ]
    },
    {
     "data": {
      "text/html": [
       "<div>\n",
       "<style scoped>\n",
       "    .dataframe tbody tr th:only-of-type {\n",
       "        vertical-align: middle;\n",
       "    }\n",
       "\n",
       "    .dataframe tbody tr th {\n",
       "        vertical-align: top;\n",
       "    }\n",
       "\n",
       "    .dataframe thead th {\n",
       "        text-align: right;\n",
       "    }\n",
       "</style>\n",
       "<table border=\"1\" class=\"dataframe\">\n",
       "  <thead>\n",
       "    <tr style=\"text-align: right;\">\n",
       "      <th></th>\n",
       "      <th>antecedents</th>\n",
       "      <th>consequents</th>\n",
       "      <th>antecedent support</th>\n",
       "      <th>consequent support</th>\n",
       "      <th>support</th>\n",
       "      <th>confidence</th>\n",
       "      <th>lift</th>\n",
       "      <th>representativity</th>\n",
       "      <th>leverage</th>\n",
       "      <th>conviction</th>\n",
       "      <th>zhangs_metric</th>\n",
       "      <th>jaccard</th>\n",
       "      <th>certainty</th>\n",
       "      <th>kulczynski</th>\n",
       "    </tr>\n",
       "  </thead>\n",
       "  <tbody>\n",
       "    <tr>\n",
       "      <th>0</th>\n",
       "      <td>(FewUserReviews)</td>\n",
       "      <td>(NoCriticReviews)</td>\n",
       "      <td>0.259111</td>\n",
       "      <td>0.697760</td>\n",
       "      <td>0.166566</td>\n",
       "      <td>0.642839</td>\n",
       "      <td>0.921289</td>\n",
       "      <td>1.0</td>\n",
       "      <td>-0.014231</td>\n",
       "      <td>0.846228</td>\n",
       "      <td>-0.103392</td>\n",
       "      <td>0.210762</td>\n",
       "      <td>-0.181714</td>\n",
       "      <td>0.440777</td>\n",
       "    </tr>\n",
       "    <tr>\n",
       "      <th>1</th>\n",
       "      <td>(HighCredits)</td>\n",
       "      <td>(is_from_NorthAmerica)</td>\n",
       "      <td>0.208425</td>\n",
       "      <td>0.485323</td>\n",
       "      <td>0.127248</td>\n",
       "      <td>0.610523</td>\n",
       "      <td>1.257973</td>\n",
       "      <td>1.0</td>\n",
       "      <td>0.026095</td>\n",
       "      <td>1.321457</td>\n",
       "      <td>0.259067</td>\n",
       "      <td>0.224622</td>\n",
       "      <td>0.243260</td>\n",
       "      <td>0.436358</td>\n",
       "    </tr>\n",
       "    <tr>\n",
       "      <th>2</th>\n",
       "      <td>(HighRuntime)</td>\n",
       "      <td>(movie)</td>\n",
       "      <td>0.177332</td>\n",
       "      <td>0.318556</td>\n",
       "      <td>0.153594</td>\n",
       "      <td>0.866139</td>\n",
       "      <td>2.718956</td>\n",
       "      <td>1.0</td>\n",
       "      <td>0.097104</td>\n",
       "      <td>5.090677</td>\n",
       "      <td>0.768490</td>\n",
       "      <td>0.448720</td>\n",
       "      <td>0.803562</td>\n",
       "      <td>0.674148</td>\n",
       "    </tr>\n",
       "    <tr>\n",
       "      <th>3</th>\n",
       "      <td>(LowCredits)</td>\n",
       "      <td>(NoCriticReviews)</td>\n",
       "      <td>0.269542</td>\n",
       "      <td>0.697760</td>\n",
       "      <td>0.204280</td>\n",
       "      <td>0.757876</td>\n",
       "      <td>1.086156</td>\n",
       "      <td>1.0</td>\n",
       "      <td>0.016204</td>\n",
       "      <td>1.248289</td>\n",
       "      <td>0.108593</td>\n",
       "      <td>0.267724</td>\n",
       "      <td>0.198903</td>\n",
       "      <td>0.525321</td>\n",
       "    </tr>\n",
       "    <tr>\n",
       "      <th>4</th>\n",
       "      <td>(LowCredits)</td>\n",
       "      <td>(NoUserReviews)</td>\n",
       "      <td>0.269542</td>\n",
       "      <td>0.565296</td>\n",
       "      <td>0.169977</td>\n",
       "      <td>0.630613</td>\n",
       "      <td>1.115545</td>\n",
       "      <td>1.0</td>\n",
       "      <td>0.017606</td>\n",
       "      <td>1.176825</td>\n",
       "      <td>0.141797</td>\n",
       "      <td>0.255657</td>\n",
       "      <td>0.150256</td>\n",
       "      <td>0.465649</td>\n",
       "    </tr>\n",
       "    <tr>\n",
       "      <th>5</th>\n",
       "      <td>(LowRuntime)</td>\n",
       "      <td>(NoCriticReviews)</td>\n",
       "      <td>0.218656</td>\n",
       "      <td>0.697760</td>\n",
       "      <td>0.169910</td>\n",
       "      <td>0.777064</td>\n",
       "      <td>1.113656</td>\n",
       "      <td>1.0</td>\n",
       "      <td>0.017340</td>\n",
       "      <td>1.355727</td>\n",
       "      <td>0.130616</td>\n",
       "      <td>0.227607</td>\n",
       "      <td>0.262388</td>\n",
       "      <td>0.510286</td>\n",
       "    </tr>\n",
       "    <tr>\n",
       "      <th>6</th>\n",
       "      <td>(LowRuntime)</td>\n",
       "      <td>(NoUserReviews)</td>\n",
       "      <td>0.218656</td>\n",
       "      <td>0.565296</td>\n",
       "      <td>0.136075</td>\n",
       "      <td>0.622324</td>\n",
       "      <td>1.100882</td>\n",
       "      <td>1.0</td>\n",
       "      <td>0.012470</td>\n",
       "      <td>1.150998</td>\n",
       "      <td>0.117282</td>\n",
       "      <td>0.210032</td>\n",
       "      <td>0.131189</td>\n",
       "      <td>0.431519</td>\n",
       "    </tr>\n",
       "    <tr>\n",
       "      <th>7</th>\n",
       "      <td>(LowRuntime)</td>\n",
       "      <td>(tvEpisode)</td>\n",
       "      <td>0.218656</td>\n",
       "      <td>0.303310</td>\n",
       "      <td>0.143765</td>\n",
       "      <td>0.657492</td>\n",
       "      <td>2.167724</td>\n",
       "      <td>1.0</td>\n",
       "      <td>0.077444</td>\n",
       "      <td>2.034086</td>\n",
       "      <td>0.689436</td>\n",
       "      <td>0.380127</td>\n",
       "      <td>0.508379</td>\n",
       "      <td>0.565739</td>\n",
       "    </tr>\n",
       "    <tr>\n",
       "      <th>8</th>\n",
       "      <td>(LowVotes)</td>\n",
       "      <td>(NoCriticReviews)</td>\n",
       "      <td>0.299365</td>\n",
       "      <td>0.697760</td>\n",
       "      <td>0.252424</td>\n",
       "      <td>0.843199</td>\n",
       "      <td>1.208436</td>\n",
       "      <td>1.0</td>\n",
       "      <td>0.043539</td>\n",
       "      <td>1.927534</td>\n",
       "      <td>0.246183</td>\n",
       "      <td>0.338960</td>\n",
       "      <td>0.481202</td>\n",
       "      <td>0.602481</td>\n",
       "    </tr>\n",
       "    <tr>\n",
       "      <th>9</th>\n",
       "      <td>(LowVotes)</td>\n",
       "      <td>(NoUserReviews)</td>\n",
       "      <td>0.299365</td>\n",
       "      <td>0.565296</td>\n",
       "      <td>0.213708</td>\n",
       "      <td>0.713871</td>\n",
       "      <td>1.262827</td>\n",
       "      <td>1.0</td>\n",
       "      <td>0.044478</td>\n",
       "      <td>1.519259</td>\n",
       "      <td>0.297053</td>\n",
       "      <td>0.328300</td>\n",
       "      <td>0.341784</td>\n",
       "      <td>0.545958</td>\n",
       "    </tr>\n",
       "  </tbody>\n",
       "</table>\n",
       "</div>"
      ],
      "text/plain": [
       "        antecedents             consequents  antecedent support  \\\n",
       "0  (FewUserReviews)       (NoCriticReviews)            0.259111   \n",
       "1     (HighCredits)  (is_from_NorthAmerica)            0.208425   \n",
       "2     (HighRuntime)                 (movie)            0.177332   \n",
       "3      (LowCredits)       (NoCriticReviews)            0.269542   \n",
       "4      (LowCredits)         (NoUserReviews)            0.269542   \n",
       "5      (LowRuntime)       (NoCriticReviews)            0.218656   \n",
       "6      (LowRuntime)         (NoUserReviews)            0.218656   \n",
       "7      (LowRuntime)             (tvEpisode)            0.218656   \n",
       "8        (LowVotes)       (NoCriticReviews)            0.299365   \n",
       "9        (LowVotes)         (NoUserReviews)            0.299365   \n",
       "\n",
       "   consequent support   support  confidence      lift  representativity  \\\n",
       "0            0.697760  0.166566    0.642839  0.921289               1.0   \n",
       "1            0.485323  0.127248    0.610523  1.257973               1.0   \n",
       "2            0.318556  0.153594    0.866139  2.718956               1.0   \n",
       "3            0.697760  0.204280    0.757876  1.086156               1.0   \n",
       "4            0.565296  0.169977    0.630613  1.115545               1.0   \n",
       "5            0.697760  0.169910    0.777064  1.113656               1.0   \n",
       "6            0.565296  0.136075    0.622324  1.100882               1.0   \n",
       "7            0.303310  0.143765    0.657492  2.167724               1.0   \n",
       "8            0.697760  0.252424    0.843199  1.208436               1.0   \n",
       "9            0.565296  0.213708    0.713871  1.262827               1.0   \n",
       "\n",
       "   leverage  conviction  zhangs_metric   jaccard  certainty  kulczynski  \n",
       "0 -0.014231    0.846228      -0.103392  0.210762  -0.181714    0.440777  \n",
       "1  0.026095    1.321457       0.259067  0.224622   0.243260    0.436358  \n",
       "2  0.097104    5.090677       0.768490  0.448720   0.803562    0.674148  \n",
       "3  0.016204    1.248289       0.108593  0.267724   0.198903    0.525321  \n",
       "4  0.017606    1.176825       0.141797  0.255657   0.150256    0.465649  \n",
       "5  0.017340    1.355727       0.130616  0.227607   0.262388    0.510286  \n",
       "6  0.012470    1.150998       0.117282  0.210032   0.131189    0.431519  \n",
       "7  0.077444    2.034086       0.689436  0.380127   0.508379    0.565739  \n",
       "8  0.043539    1.927534       0.246183  0.338960   0.481202    0.602481  \n",
       "9  0.044478    1.519259       0.297053  0.328300   0.341784    0.545958  "
      ]
     },
     "execution_count": 1242,
     "metadata": {},
     "output_type": "execute_result"
    }
   ],
   "source": [
    "#Apriori\n",
    "rules_apriori = association_rules(frequent_itemsets_apriori, metric=\"confidence\", min_threshold=min_confidence)\n",
    "rules_apriori.info()\n",
    "rules_apriori.head(10)"
   ]
  },
  {
   "cell_type": "markdown",
   "id": "81a58645",
   "metadata": {},
   "source": [
    "### Scelta valori confidence"
   ]
  },
  {
   "cell_type": "code",
   "execution_count": 1243,
   "id": "71dfaefe",
   "metadata": {},
   "outputs": [
    {
     "name": "stdout",
     "output_type": "stream",
     "text": [
      "min_confidence=0.4: 347 regole trovate, lift medio = 1.52\n",
      "min_confidence=0.5: 232 regole trovate, lift medio = 1.54\n",
      "min_confidence=0.6: 170 regole trovate, lift medio = 1.53\n",
      "min_confidence=0.7: 121 regole trovate, lift medio = 1.51\n"
     ]
    }
   ],
   "source": [
    "from mlxtend.frequent_patterns import association_rules\n",
    "\n",
    "conf_values = [0.4, 0.5, 0.6, 0.7]\n",
    "for c in conf_values:\n",
    "    rules = association_rules(frequent_itemsets_apriori, metric=\"confidence\", min_threshold=c)\n",
    "    print(f\"min_confidence={c}: {len(rules)} regole trovate, lift medio = {rules['lift'].mean():.2f}\")\n"
   ]
  },
  {
   "cell_type": "code",
   "execution_count": 1244,
   "id": "afee199e",
   "metadata": {},
   "outputs": [
    {
     "data": {
      "text/html": [
       "<div>\n",
       "<style scoped>\n",
       "    .dataframe tbody tr th:only-of-type {\n",
       "        vertical-align: middle;\n",
       "    }\n",
       "\n",
       "    .dataframe tbody tr th {\n",
       "        vertical-align: top;\n",
       "    }\n",
       "\n",
       "    .dataframe thead th {\n",
       "        text-align: right;\n",
       "    }\n",
       "</style>\n",
       "<table border=\"1\" class=\"dataframe\">\n",
       "  <thead>\n",
       "    <tr style=\"text-align: right;\">\n",
       "      <th></th>\n",
       "      <th>antecedents</th>\n",
       "      <th>consequents</th>\n",
       "      <th>antecedent support</th>\n",
       "      <th>consequent support</th>\n",
       "      <th>support</th>\n",
       "      <th>confidence</th>\n",
       "      <th>lift</th>\n",
       "      <th>representativity</th>\n",
       "      <th>leverage</th>\n",
       "      <th>conviction</th>\n",
       "      <th>zhangs_metric</th>\n",
       "      <th>jaccard</th>\n",
       "      <th>certainty</th>\n",
       "      <th>kulczynski</th>\n",
       "    </tr>\n",
       "  </thead>\n",
       "  <tbody>\n",
       "    <tr>\n",
       "      <th>167</th>\n",
       "      <td>(NoCriticReviews, short)</td>\n",
       "      <td>(VeryLowRuntime, VeryLowCredits)</td>\n",
       "      <td>0.132130</td>\n",
       "      <td>0.127716</td>\n",
       "      <td>0.080508</td>\n",
       "      <td>0.609312</td>\n",
       "      <td>4.770815</td>\n",
       "      <td>1.0</td>\n",
       "      <td>0.063633</td>\n",
       "      <td>2.232684</td>\n",
       "      <td>0.910726</td>\n",
       "      <td>0.448919</td>\n",
       "      <td>0.552109</td>\n",
       "      <td>0.619839</td>\n",
       "    </tr>\n",
       "    <tr>\n",
       "      <th>165</th>\n",
       "      <td>(VeryLowRuntime, VeryLowCredits)</td>\n",
       "      <td>(NoCriticReviews, short)</td>\n",
       "      <td>0.127716</td>\n",
       "      <td>0.132130</td>\n",
       "      <td>0.080508</td>\n",
       "      <td>0.630366</td>\n",
       "      <td>4.770815</td>\n",
       "      <td>1.0</td>\n",
       "      <td>0.063633</td>\n",
       "      <td>2.347921</td>\n",
       "      <td>0.906118</td>\n",
       "      <td>0.448919</td>\n",
       "      <td>0.574091</td>\n",
       "      <td>0.619839</td>\n",
       "    </tr>\n",
       "    <tr>\n",
       "      <th>116</th>\n",
       "      <td>(VeryLowRuntime, VeryLowCredits)</td>\n",
       "      <td>(short)</td>\n",
       "      <td>0.127716</td>\n",
       "      <td>0.160013</td>\n",
       "      <td>0.093347</td>\n",
       "      <td>0.730890</td>\n",
       "      <td>4.567681</td>\n",
       "      <td>1.0</td>\n",
       "      <td>0.072910</td>\n",
       "      <td>3.121351</td>\n",
       "      <td>0.895432</td>\n",
       "      <td>0.480220</td>\n",
       "      <td>0.679626</td>\n",
       "      <td>0.657129</td>\n",
       "    </tr>\n",
       "    <tr>\n",
       "      <th>161</th>\n",
       "      <td>(VeryLowRuntime, NoCriticReviews, VeryLowCredits)</td>\n",
       "      <td>(short)</td>\n",
       "      <td>0.113206</td>\n",
       "      <td>0.160013</td>\n",
       "      <td>0.080508</td>\n",
       "      <td>0.711164</td>\n",
       "      <td>4.444401</td>\n",
       "      <td>1.0</td>\n",
       "      <td>0.062394</td>\n",
       "      <td>2.908175</td>\n",
       "      <td>0.873932</td>\n",
       "      <td>0.417765</td>\n",
       "      <td>0.656142</td>\n",
       "      <td>0.607149</td>\n",
       "    </tr>\n",
       "    <tr>\n",
       "      <th>150</th>\n",
       "      <td>(short, NoUserReviews)</td>\n",
       "      <td>(NoCriticReviews, VeryLowRuntime)</td>\n",
       "      <td>0.101304</td>\n",
       "      <td>0.304514</td>\n",
       "      <td>0.091006</td>\n",
       "      <td>0.898350</td>\n",
       "      <td>2.950115</td>\n",
       "      <td>1.0</td>\n",
       "      <td>0.060158</td>\n",
       "      <td>6.841961</td>\n",
       "      <td>0.735544</td>\n",
       "      <td>0.289082</td>\n",
       "      <td>0.853843</td>\n",
       "      <td>0.598604</td>\n",
       "    </tr>\n",
       "    <tr>\n",
       "      <th>...</th>\n",
       "      <td>...</td>\n",
       "      <td>...</td>\n",
       "      <td>...</td>\n",
       "      <td>...</td>\n",
       "      <td>...</td>\n",
       "      <td>...</td>\n",
       "      <td>...</td>\n",
       "      <td>...</td>\n",
       "      <td>...</td>\n",
       "      <td>...</td>\n",
       "      <td>...</td>\n",
       "      <td>...</td>\n",
       "      <td>...</td>\n",
       "      <td>...</td>\n",
       "    </tr>\n",
       "    <tr>\n",
       "      <th>11</th>\n",
       "      <td>(MediumCredits)</td>\n",
       "      <td>(NoCriticReviews)</td>\n",
       "      <td>0.244667</td>\n",
       "      <td>0.697760</td>\n",
       "      <td>0.163557</td>\n",
       "      <td>0.668489</td>\n",
       "      <td>0.958050</td>\n",
       "      <td>1.0</td>\n",
       "      <td>-0.007162</td>\n",
       "      <td>0.911704</td>\n",
       "      <td>-0.054794</td>\n",
       "      <td>0.209993</td>\n",
       "      <td>-0.096848</td>\n",
       "      <td>0.451446</td>\n",
       "    </tr>\n",
       "    <tr>\n",
       "      <th>13</th>\n",
       "      <td>(MediumVotes)</td>\n",
       "      <td>(NoCriticReviews)</td>\n",
       "      <td>0.182949</td>\n",
       "      <td>0.697760</td>\n",
       "      <td>0.121966</td>\n",
       "      <td>0.666667</td>\n",
       "      <td>0.955438</td>\n",
       "      <td>1.0</td>\n",
       "      <td>-0.005688</td>\n",
       "      <td>0.906720</td>\n",
       "      <td>-0.054001</td>\n",
       "      <td>0.160747</td>\n",
       "      <td>-0.102876</td>\n",
       "      <td>0.420732</td>\n",
       "    </tr>\n",
       "    <tr>\n",
       "      <th>32</th>\n",
       "      <td>(is_from_NorthAmerica, FewUserReviews)</td>\n",
       "      <td>(NoCriticReviews)</td>\n",
       "      <td>0.137479</td>\n",
       "      <td>0.697760</td>\n",
       "      <td>0.090405</td>\n",
       "      <td>0.657588</td>\n",
       "      <td>0.942427</td>\n",
       "      <td>1.0</td>\n",
       "      <td>-0.005523</td>\n",
       "      <td>0.882678</td>\n",
       "      <td>-0.066143</td>\n",
       "      <td>0.121375</td>\n",
       "      <td>-0.132916</td>\n",
       "      <td>0.393576</td>\n",
       "    </tr>\n",
       "    <tr>\n",
       "      <th>20</th>\n",
       "      <td>(is_from_NorthAmerica)</td>\n",
       "      <td>(NoCriticReviews)</td>\n",
       "      <td>0.485323</td>\n",
       "      <td>0.697760</td>\n",
       "      <td>0.317151</td>\n",
       "      <td>0.653486</td>\n",
       "      <td>0.936548</td>\n",
       "      <td>1.0</td>\n",
       "      <td>-0.021487</td>\n",
       "      <td>0.872230</td>\n",
       "      <td>-0.116325</td>\n",
       "      <td>0.366255</td>\n",
       "      <td>-0.146487</td>\n",
       "      <td>0.554007</td>\n",
       "    </tr>\n",
       "    <tr>\n",
       "      <th>0</th>\n",
       "      <td>(FewUserReviews)</td>\n",
       "      <td>(NoCriticReviews)</td>\n",
       "      <td>0.259111</td>\n",
       "      <td>0.697760</td>\n",
       "      <td>0.166566</td>\n",
       "      <td>0.642839</td>\n",
       "      <td>0.921289</td>\n",
       "      <td>1.0</td>\n",
       "      <td>-0.014231</td>\n",
       "      <td>0.846228</td>\n",
       "      <td>-0.103392</td>\n",
       "      <td>0.210762</td>\n",
       "      <td>-0.181714</td>\n",
       "      <td>0.440777</td>\n",
       "    </tr>\n",
       "  </tbody>\n",
       "</table>\n",
       "<p>170 rows × 14 columns</p>\n",
       "</div>"
      ],
      "text/plain": [
       "                                           antecedents  \\\n",
       "167                           (NoCriticReviews, short)   \n",
       "165                   (VeryLowRuntime, VeryLowCredits)   \n",
       "116                   (VeryLowRuntime, VeryLowCredits)   \n",
       "161  (VeryLowRuntime, NoCriticReviews, VeryLowCredits)   \n",
       "150                             (short, NoUserReviews)   \n",
       "..                                                 ...   \n",
       "11                                     (MediumCredits)   \n",
       "13                                       (MediumVotes)   \n",
       "32              (is_from_NorthAmerica, FewUserReviews)   \n",
       "20                              (is_from_NorthAmerica)   \n",
       "0                                     (FewUserReviews)   \n",
       "\n",
       "                           consequents  antecedent support  \\\n",
       "167   (VeryLowRuntime, VeryLowCredits)            0.132130   \n",
       "165           (NoCriticReviews, short)            0.127716   \n",
       "116                            (short)            0.127716   \n",
       "161                            (short)            0.113206   \n",
       "150  (NoCriticReviews, VeryLowRuntime)            0.101304   \n",
       "..                                 ...                 ...   \n",
       "11                   (NoCriticReviews)            0.244667   \n",
       "13                   (NoCriticReviews)            0.182949   \n",
       "32                   (NoCriticReviews)            0.137479   \n",
       "20                   (NoCriticReviews)            0.485323   \n",
       "0                    (NoCriticReviews)            0.259111   \n",
       "\n",
       "     consequent support   support  confidence      lift  representativity  \\\n",
       "167            0.127716  0.080508    0.609312  4.770815               1.0   \n",
       "165            0.132130  0.080508    0.630366  4.770815               1.0   \n",
       "116            0.160013  0.093347    0.730890  4.567681               1.0   \n",
       "161            0.160013  0.080508    0.711164  4.444401               1.0   \n",
       "150            0.304514  0.091006    0.898350  2.950115               1.0   \n",
       "..                  ...       ...         ...       ...               ...   \n",
       "11             0.697760  0.163557    0.668489  0.958050               1.0   \n",
       "13             0.697760  0.121966    0.666667  0.955438               1.0   \n",
       "32             0.697760  0.090405    0.657588  0.942427               1.0   \n",
       "20             0.697760  0.317151    0.653486  0.936548               1.0   \n",
       "0              0.697760  0.166566    0.642839  0.921289               1.0   \n",
       "\n",
       "     leverage  conviction  zhangs_metric   jaccard  certainty  kulczynski  \n",
       "167  0.063633    2.232684       0.910726  0.448919   0.552109    0.619839  \n",
       "165  0.063633    2.347921       0.906118  0.448919   0.574091    0.619839  \n",
       "116  0.072910    3.121351       0.895432  0.480220   0.679626    0.657129  \n",
       "161  0.062394    2.908175       0.873932  0.417765   0.656142    0.607149  \n",
       "150  0.060158    6.841961       0.735544  0.289082   0.853843    0.598604  \n",
       "..        ...         ...            ...       ...        ...         ...  \n",
       "11  -0.007162    0.911704      -0.054794  0.209993  -0.096848    0.451446  \n",
       "13  -0.005688    0.906720      -0.054001  0.160747  -0.102876    0.420732  \n",
       "32  -0.005523    0.882678      -0.066143  0.121375  -0.132916    0.393576  \n",
       "20  -0.021487    0.872230      -0.116325  0.366255  -0.146487    0.554007  \n",
       "0   -0.014231    0.846228      -0.103392  0.210762  -0.181714    0.440777  \n",
       "\n",
       "[170 rows x 14 columns]"
      ]
     },
     "execution_count": 1244,
     "metadata": {},
     "output_type": "execute_result"
    }
   ],
   "source": [
    "rules_apriori.sort_values(by=\"lift\", axis=0, ascending=False)"
   ]
  },
  {
   "cell_type": "markdown",
   "id": "2a1feaec",
   "metadata": {},
   "source": [
    "### Target Prediction: various attempts (find the most informative one)"
   ]
  },
  {
   "cell_type": "code",
   "execution_count": 1245,
   "id": "47410a0a",
   "metadata": {},
   "outputs": [
    {
     "name": "stdout",
     "output_type": "stream",
     "text": [
      "                                      antecedents             consequents  \\\n",
      "10                              (ManyUserReviews)  (is_from_NorthAmerica)   \n",
      "51                        (tvEpisode, LowRuntime)  (is_from_NorthAmerica)   \n",
      "30                                    (tvEpisode)  (is_from_NorthAmerica)   \n",
      "119                   (VeryLowRuntime, tvEpisode)  (is_from_NorthAmerica)   \n",
      "1                                   (HighCredits)  (is_from_NorthAmerica)   \n",
      "169  (VeryLowRuntime, NoCriticReviews, tvEpisode)  (is_from_NorthAmerica)   \n",
      "\n",
      "     antecedent support  consequent support   support  confidence      lift  \\\n",
      "10             0.144567            0.485323  0.095620    0.661425  1.362855   \n",
      "51             0.143765            0.485323  0.089669    0.623721  1.285168   \n",
      "30             0.303310            0.485323  0.185690    0.612213  1.261457   \n",
      "119            0.153059            0.485323  0.093547    0.611184  1.259335   \n",
      "1              0.208425            0.485323  0.127248    0.610523  1.257973   \n",
      "169            0.121163            0.485323  0.073821    0.609272  1.255395   \n",
      "\n",
      "     representativity  leverage  conviction  zhangs_metric   jaccard  \\\n",
      "10                1.0  0.025459    1.520126       0.311242  0.178974   \n",
      "51                1.0  0.019897    1.367808       0.259148  0.166233   \n",
      "30                1.0  0.038487    1.327218       0.297500  0.307974   \n",
      "119               1.0  0.019264    1.323704       0.243146  0.171699   \n",
      "1                 1.0  0.026095    1.321457       0.259067  0.224622   \n",
      "169               1.0  0.015018    1.317225       0.231485  0.138589   \n",
      "\n",
      "     certainty  kulczynski  \n",
      "10    0.342160    0.429224  \n",
      "51    0.268903    0.404241  \n",
      "30    0.246544    0.497413  \n",
      "119   0.244544    0.401968  \n",
      "1     0.243260    0.436358  \n",
      "169   0.240828    0.380690  \n"
     ]
    }
   ],
   "source": [
    "# Filtro le regole con \"nord america\" nei consequents\n",
    "rules_north_am = rules_apriori[rules_apriori['consequents'] == frozenset({'is_from_NorthAmerica'})]\n",
    "\n",
    "\n",
    "# Ordina le regole per lift in ordine decrescente\n",
    "rules_north_am_sorted = rules_north_am.sort_values(by='lift', ascending=False)\n",
    "\n",
    "print(rules_north_am_sorted)"
   ]
  },
  {
   "cell_type": "code",
   "execution_count": 1246,
   "id": "c0f5a1bc",
   "metadata": {},
   "outputs": [
    {
     "name": "stdout",
     "output_type": "stream",
     "text": [
      "To predict: is_from_NorthAmerica\n",
      "How? HighCredits\n"
     ]
    }
   ],
   "source": [
    "# Filter the rule where the consequent contains \"is_from_NorthAmerica\"\n",
    "rule_for_highrated = [r for r in rules_apriori.iterrows() if 'is_from_NorthAmerica' in r[1]['consequents']]\n",
    "\n",
    "# Extract rule details (antecedents and consequents)\n",
    "if len(rule_for_highrated) > 0:\n",
    "    selected_rule = rule_for_highrated[0][1]  # Take the first matching rule\n",
    "    to_predict = \", \".join(selected_rule['consequents'])  # Convert frozenset to string\n",
    "    how = \", \".join(selected_rule['antecedents'])  # Convert frozenset to string\n",
    "\n",
    "    print(\"To predict:\", to_predict)\n",
    "    print(\"How?\", how)\n",
    "else:\n",
    "    print(\"No rules found with 'is_from_NorthAmerica' in the consequents.\")\n"
   ]
  },
  {
   "cell_type": "code",
   "execution_count": 1247,
   "id": "e2b5a125",
   "metadata": {},
   "outputs": [
    {
     "name": "stdout",
     "output_type": "stream",
     "text": [
      "Empty DataFrame\n",
      "Columns: [antecedents, consequents, antecedent support, consequent support, support, confidence, lift, representativity, leverage, conviction, zhangs_metric, jaccard, certainty, kulczynski]\n",
      "Index: []\n"
     ]
    }
   ],
   "source": [
    "# Filtro le regole con \"low runtime\" nei consequents\n",
    "rules_north_am = rules_apriori[rules_apriori['consequents'] == frozenset({'ManyUserReviews'})]\n",
    "\n",
    "# Ordina le regole per lift in ordine decrescente\n",
    "rules_north_am_sorted = rules_north_am.sort_values(by='lift', ascending=False)\n",
    "\n",
    "print(rules_north_am_sorted)"
   ]
  },
  {
   "cell_type": "code",
   "execution_count": 1248,
   "id": "e201bf81",
   "metadata": {},
   "outputs": [
    {
     "name": "stdout",
     "output_type": "stream",
     "text": [
      "No rules found with 'LowRuntime' in the consequents.\n"
     ]
    }
   ],
   "source": [
    "# Filter the rule where the consequent contains \"HighRated\"\n",
    "rule_for_highrated = [r for r in rules_apriori.iterrows() if 'ManyUserReviews' in r[1]['consequents']]\n",
    "\n",
    "# Extract rule details (antecedents and consequents)\n",
    "if len(rule_for_highrated) > 0:\n",
    "    selected_rule = rule_for_highrated[0][1]  # Take the first matching rule\n",
    "    to_predict = \", \".join(selected_rule['consequents'])  # Convert frozenset to string\n",
    "    how = \", \".join(selected_rule['antecedents'])  # Convert frozenset to string\n",
    "\n",
    "    print(\"To predict:\", to_predict)\n",
    "    print(\"How?\", how)\n",
    "else:\n",
    "    print(\"No rules found with 'LowRuntime' in the consequents.\")\n"
   ]
  }
 ],
 "metadata": {
  "kernelspec": {
   "display_name": "Python 3",
   "language": "python",
   "name": "python3"
  },
  "language_info": {
   "codemirror_mode": {
    "name": "ipython",
    "version": 3
   },
   "file_extension": ".py",
   "mimetype": "text/x-python",
   "name": "python",
   "nbconvert_exporter": "python",
   "pygments_lexer": "ipython3",
   "version": "3.8.2"
  }
 },
 "nbformat": 4,
 "nbformat_minor": 5
}
