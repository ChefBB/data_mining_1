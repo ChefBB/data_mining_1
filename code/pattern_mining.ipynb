{
 "cells": [
  {
   "cell_type": "markdown",
   "id": "2cfa218c",
   "metadata": {},
   "source": [
    "# PATTERN MINING"
   ]
  },
  {
   "cell_type": "code",
   "execution_count": 129,
   "id": "76c01c86",
   "metadata": {},
   "outputs": [],
   "source": [
    "import pandas as pd\n",
    "import seaborn as sns\n",
    "import matplotlib.pyplot as plt\n",
    "from mlxtend.preprocessing import TransactionEncoder\n",
    "from mlxtend.frequent_patterns import apriori, association_rules\n",
    "import numpy as np\n",
    "from mlxtend.frequent_patterns import fpgrowth"
   ]
  },
  {
   "cell_type": "code",
   "execution_count": 130,
   "id": "a576fa9f",
   "metadata": {},
   "outputs": [],
   "source": [
    "train = pd.read_csv('pp_train.csv')\n",
    "test = pd.read_csv('pp_test.csv')\n",
    "df = pd.concat([train, test], axis=0, ignore_index=True) #abbiamo unito train e test"
   ]
  },
  {
   "cell_type": "code",
   "execution_count": 131,
   "id": "5d4b04ba",
   "metadata": {},
   "outputs": [
    {
     "name": "stdout",
     "output_type": "stream",
     "text": [
      "<class 'pandas.core.frame.DataFrame'>\n",
      "RangeIndex: 21556 entries, 0 to 21555\n",
      "Data columns (total 65 columns):\n",
      " #   Column                       Non-Null Count  Dtype  \n",
      "---  ------                       --------------  -----  \n",
      " 0   originalTitle                21556 non-null  object \n",
      " 1   rating                       21556 non-null  int64  \n",
      " 2   startYear                    21556 non-null  int64  \n",
      " 3   endYear                      20516 non-null  float64\n",
      " 4   runtimeMinutes               15393 non-null  float64\n",
      " 5   awardWins                    21556 non-null  float64\n",
      " 6   numVotes                     21556 non-null  int64  \n",
      " 7   totalImages                  21556 non-null  int64  \n",
      " 8   totalVideos                  21556 non-null  int64  \n",
      " 9   totalCredits                 21556 non-null  int64  \n",
      " 10  criticReviewsTotal           21556 non-null  int64  \n",
      " 11  titleType                    21556 non-null  object \n",
      " 12  awardNominationsExcludeWins  21556 non-null  int64  \n",
      " 13  canHaveEpisodes              21556 non-null  bool   \n",
      " 14  isAdult                      21556 non-null  int64  \n",
      " 15  numRegions                   21556 non-null  int64  \n",
      " 16  userReviewsTotal             21556 non-null  int64  \n",
      " 17  is_Documentary               21556 non-null  int64  \n",
      " 18  is_History                   21556 non-null  int64  \n",
      " 19  is_Adventure                 21556 non-null  int64  \n",
      " 20  is_Thriller                  21556 non-null  int64  \n",
      " 21  is_Game-Show                 21556 non-null  int64  \n",
      " 22  is_Comedy                    21556 non-null  int64  \n",
      " 23  is_Sci-Fi                    21556 non-null  int64  \n",
      " 24  is_Romance                   21556 non-null  int64  \n",
      " 25  is_Biography                 21556 non-null  int64  \n",
      " 26  is_Musical                   21556 non-null  int64  \n",
      " 27  is_Western                   21556 non-null  int64  \n",
      " 28  is_Music                     21556 non-null  int64  \n",
      " 29  is_Film-Noir                 21556 non-null  int64  \n",
      " 30  is_Adult                     21556 non-null  int64  \n",
      " 31  is_Reality-TV                21556 non-null  int64  \n",
      " 32  is_News                      21556 non-null  int64  \n",
      " 33  is_Action                    21556 non-null  int64  \n",
      " 34  is_Crime                     21556 non-null  int64  \n",
      " 35  is_Short                     21556 non-null  int64  \n",
      " 36  is_Fantasy                   21556 non-null  int64  \n",
      " 37  is_Family                    21556 non-null  int64  \n",
      " 38  is_Mystery                   21556 non-null  int64  \n",
      " 39  is_Talk-Show                 21556 non-null  int64  \n",
      " 40  is_Drama                     21556 non-null  int64  \n",
      " 41  is_Sport                     21556 non-null  int64  \n",
      " 42  is_War                       21556 non-null  int64  \n",
      " 43  is_Horror                    21556 non-null  int64  \n",
      " 44  is_Animation                 21556 non-null  int64  \n",
      " 45  fill_runtimeMinutes          21556 non-null  float64\n",
      " 46  is_from_Oceania              21556 non-null  int64  \n",
      " 47  is_from_North America        21556 non-null  int64  \n",
      " 48  is_from_South America        21556 non-null  int64  \n",
      " 49  is_from_Asia                 21556 non-null  int64  \n",
      " 50  is_from_Africa               21556 non-null  int64  \n",
      " 51  is_from_Europe               21556 non-null  int64  \n",
      " 52  countryOfOrigin              21556 non-null  object \n",
      " 53  countryOfOrigin_freq_enc     21556 non-null  float64\n",
      " 54  countryOfOrigin_NA           21556 non-null  int64  \n",
      " 55  countryOfOrigin_AF           21556 non-null  int64  \n",
      " 56  countryOfOrigin_AS           21556 non-null  int64  \n",
      " 57  countryOfOrigin_EU           21556 non-null  int64  \n",
      " 58  countryOfOrigin_OC           21556 non-null  int64  \n",
      " 59  countryOfOrigin_SA           21556 non-null  int64  \n",
      " 60  countryOfOrigin_UNK          21556 non-null  int64  \n",
      " 61  fill_runtimeMinutes_Bruno    21556 non-null  float64\n",
      " 62  totalNominations             21556 non-null  float64\n",
      " 63  totalMedia                   21556 non-null  int64  \n",
      " 64  runtimeMinutes_notitletype   21556 non-null  float64\n",
      "dtypes: bool(1), float64(8), int64(53), object(3)\n",
      "memory usage: 10.5+ MB\n"
     ]
    }
   ],
   "source": [
    "df.info()"
   ]
  },
  {
   "cell_type": "code",
   "execution_count": 132,
   "id": "9f754901",
   "metadata": {},
   "outputs": [
    {
     "data": {
      "text/plain": [
       "Index(['originalTitle', 'rating', 'startYear', 'endYear', 'runtimeMinutes',\n",
       "       'awardWins', 'numVotes', 'totalImages', 'totalVideos', 'totalCredits',\n",
       "       'criticReviewsTotal', 'titleType', 'awardNominationsExcludeWins',\n",
       "       'canHaveEpisodes', 'isAdult', 'numRegions', 'userReviewsTotal',\n",
       "       'is_Documentary', 'is_History', 'is_Adventure', 'is_Thriller',\n",
       "       'is_Game-Show', 'is_Comedy', 'is_Sci-Fi', 'is_Romance', 'is_Biography',\n",
       "       'is_Musical', 'is_Western', 'is_Music', 'is_Film-Noir', 'is_Adult',\n",
       "       'is_Reality-TV', 'is_News', 'is_Action', 'is_Crime', 'is_Short',\n",
       "       'is_Fantasy', 'is_Family', 'is_Mystery', 'is_Talk-Show', 'is_Drama',\n",
       "       'is_Sport', 'is_War', 'is_Horror', 'is_Animation',\n",
       "       'fill_runtimeMinutes', 'is_from_Oceania', 'is_from_North America',\n",
       "       'is_from_South America', 'is_from_Asia', 'is_from_Africa',\n",
       "       'is_from_Europe', 'countryOfOrigin', 'countryOfOrigin_freq_enc',\n",
       "       'countryOfOrigin_NA', 'countryOfOrigin_AF', 'countryOfOrigin_AS',\n",
       "       'countryOfOrigin_EU', 'countryOfOrigin_OC', 'countryOfOrigin_SA',\n",
       "       'countryOfOrigin_UNK', 'fill_runtimeMinutes_Bruno', 'totalNominations',\n",
       "       'totalMedia', 'runtimeMinutes_notitletype'],\n",
       "      dtype='object')"
      ]
     },
     "execution_count": 132,
     "metadata": {},
     "output_type": "execute_result"
    }
   ],
   "source": [
    "df.columns"
   ]
  },
  {
   "cell_type": "markdown",
   "id": "8ed22a68",
   "metadata": {},
   "source": [
    "## Gestione variabili "
   ]
  },
  {
   "cell_type": "markdown",
   "id": "3163d36b",
   "metadata": {},
   "source": [
    "### Osservare la distribuzione delle numeriche per binning"
   ]
  },
  {
   "cell_type": "code",
   "execution_count": 133,
   "id": "55f69ccf",
   "metadata": {},
   "outputs": [
    {
     "data": {
      "text/plain": [
       "totalNominations\n",
       "0.0      17961\n",
       "1.0       1341\n",
       "2.0        642\n",
       "3.0        336\n",
       "4.0        262\n",
       "         ...  \n",
       "170.0        1\n",
       "172.0        2\n",
       "306.0        1\n",
       "339.0        1\n",
       "409.0        1\n",
       "Name: count, Length: 87, dtype: int64"
      ]
     },
     "execution_count": 133,
     "metadata": {},
     "output_type": "execute_result"
    }
   ],
   "source": [
    "df['totalNominations'].value_counts().sort_index()"
   ]
  },
  {
   "cell_type": "code",
   "execution_count": 134,
   "id": "02f30fd7",
   "metadata": {},
   "outputs": [
    {
     "name": "stdout",
     "output_type": "stream",
     "text": [
      "count    21556.000000\n",
      "mean         0.975135\n",
      "std          6.750601\n",
      "min          0.000000\n",
      "25%          0.000000\n",
      "50%          0.000000\n",
      "75%          0.000000\n",
      "max        409.000000\n",
      "Name: totalNominations, dtype: float64\n"
     ]
    },
    {
     "data": {
      "image/png": "[encoded data removed]",
      "text/plain": [
       "<Figure size 1000x500 with 1 Axes>"
      ]
     },
     "metadata": {},
     "output_type": "display_data"
    }
   ],
   "source": [
    "# Statistiche descrittive\n",
    "print(df['totalNominations'].describe())\n",
    "\n",
    "# Istogramma + KDE (curva di densità)\n",
    "plt.figure(figsize=(10, 5))\n",
    "sns.histplot(df['totalNominations'].dropna(), bins=30, kde=True, color='skyblue')\n",
    "plt.title('Distribuzione di totalNomination')\n",
    "plt.xlabel('totalNomination')\n",
    "plt.ylabel('Frequenza')\n",
    "plt.grid(True)\n",
    "# plt.yscale(\"log\")\n",
    "plt.show()"
   ]
  },
  {
   "cell_type": "code",
   "execution_count": 135,
   "id": "79e5c52d",
   "metadata": {},
   "outputs": [
    {
     "data": {
      "text/plain": [
       "startYear\n",
       "1878      1\n",
       "1891      1\n",
       "1893      1\n",
       "1894      7\n",
       "1895      7\n",
       "       ... \n",
       "2020    522\n",
       "2021    520\n",
       "2022    476\n",
       "2023    418\n",
       "2024    167\n",
       "Name: count, Length: 133, dtype: int64"
      ]
     },
     "execution_count": 135,
     "metadata": {},
     "output_type": "execute_result"
    }
   ],
   "source": [
    "df['startYear'].value_counts().sort_index()\n",
    "# df['fill_runtimeMinutes_Bruno'].value_counts().sort_index()\n",
    "# df['totalMedia'].value_counts().sort_index()\n",
    "# df['numVotes'].value_counts().sort_index()\n",
    "# df['totalCredits'].value_counts().sort_index()\n",
    "# df['criticReviewsTotal'].value_counts().sort_index()\n",
    "# df['numRegions'].value_counts().sort_index()\n",
    "# df['userReviewsTotal'].value_counts().sort_index()\n",
    "# df['rating'].value_counts().sort_index()"
   ]
  },
  {
   "cell_type": "markdown",
   "id": "cc7cc7be",
   "metadata": {},
   "source": [
    "### Trasformazione binaria con valori semanticamente significativi"
   ]
  },
  {
   "cell_type": "code",
   "execution_count": 136,
   "id": "e042ef05",
   "metadata": {},
   "outputs": [
    {
     "data": {
      "text/plain": [
       "0        cant_have_episodes\n",
       "1        cant_have_episodes\n",
       "2         can_have_episodes\n",
       "3         can_have_episodes\n",
       "4        cant_have_episodes\n",
       "                ...        \n",
       "21551    cant_have_episodes\n",
       "21552    cant_have_episodes\n",
       "21553    cant_have_episodes\n",
       "21554     can_have_episodes\n",
       "21555     can_have_episodes\n",
       "Name: canHaveEpisodes, Length: 21556, dtype: object"
      ]
     },
     "execution_count": 136,
     "metadata": {},
     "output_type": "execute_result"
    }
   ],
   "source": [
    "df[\"canHaveEpisodes\"] = df[\"canHaveEpisodes\"].astype(int)\n",
    "canhaveeps_dict = {0: \"cant_have_episodes\", 1: \"can_have_episodes\"}\n",
    "df[\"canHaveEpisodes\"] = df[\"canHaveEpisodes\"].map(canhaveeps_dict)\n",
    "df[\"canHaveEpisodes\"]"
   ]
  },
  {
   "cell_type": "code",
   "execution_count": 137,
   "id": "7fc9d917",
   "metadata": {},
   "outputs": [
    {
     "data": {
      "text/plain": [
       "0        is_not_adult\n",
       "1        is_not_adult\n",
       "2        is_not_adult\n",
       "3        is_not_adult\n",
       "4        is_not_adult\n",
       "             ...     \n",
       "21551    is_not_adult\n",
       "21552    is_not_adult\n",
       "21553    is_not_adult\n",
       "21554    is_not_adult\n",
       "21555    is_not_adult\n",
       "Name: isAdult, Length: 21556, dtype: object"
      ]
     },
     "execution_count": 137,
     "metadata": {},
     "output_type": "execute_result"
    }
   ],
   "source": [
    "df[\"isAdult\"] = df[\"isAdult\"].astype(int)\n",
    "canhaveeps_dict = {0: \"is_not_adult\", 1: \"is_adult\"}\n",
    "df[\"isAdult\"] = df[\"isAdult\"].map(canhaveeps_dict)\n",
    "df[\"isAdult\"]"
   ]
  },
  {
   "cell_type": "markdown",
   "id": "60d775da",
   "metadata": {},
   "source": [
    "### Handling of numerical attributes\n",
    "Delle seguenti variabili: 'rating', 'startYear', 'numVotes', 'totalCredits', 'criticReviewsTotal', 'numRegions', 'userReviewsTotal',\n",
    "    'countryOfOrigin_freq_enc',\n",
    "       'countryOfOrigin_NA', 'countryOfOrigin_AF', 'countryOfOrigin_AS',\n",
    "       'countryOfOrigin_EU', 'countryOfOrigin_OC', 'countryOfOrigin_SA',\n",
    "       'countryOfOrigin_UNK'\n",
    "       'fill_runtimeMinutes_Bruno', 'totalNominations',\n",
    "       'totalMedia'"
   ]
  },
  {
   "cell_type": "code",
   "execution_count": 138,
   "id": "696a72e4",
   "metadata": {},
   "outputs": [],
   "source": [
    "df_copy = df.copy()"
   ]
  },
  {
   "cell_type": "markdown",
   "id": "8f306dc5",
   "metadata": {},
   "source": [
    "##### TotalNominations"
   ]
  },
  {
   "cell_type": "code",
   "execution_count": 139,
   "id": "5a0bf0ae",
   "metadata": {},
   "outputs": [],
   "source": [
    "df_copy[\"log_totalNominations\"] = np.log1p(df[\"totalNominations\"])"
   ]
  },
  {
   "cell_type": "code",
   "execution_count": 140,
   "id": "d4effb5f",
   "metadata": {},
   "outputs": [
    {
     "name": "stdout",
     "output_type": "stream",
     "text": [
      "                   count       mean        std   min   25%   50%   75%    max\n",
      "log_nom_bin_cut                                                              \n",
      "ZeroNom          17961.0   0.000000   0.000000   0.0   0.0   0.0   0.0    0.0\n",
      "LowNom            2581.0   1.813638   1.010672   1.0   1.0   1.0   2.0    4.0\n",
      "MediumNom          838.0   8.984487   3.835133   5.0   6.0   8.0  11.0   19.0\n",
      "VeryHighNom        176.0  50.056818  51.861983  20.0  24.0  31.0  51.5  409.0\n"
     ]
    }
   ],
   "source": [
    "#TOTALNOMINATIONS LOG-TRANSFORMED\n",
    "log_bins = [-0.01, 0, np.log(5), np.log(20), df_copy['log_totalNominations'].max()]\n",
    "labels = ['ZeroNom', 'LowNom', 'MediumNom', 'VeryHighNom']\n",
    "\n",
    "df_copy['log_nom_bin_cut'] = pd.cut(df_copy['log_totalNominations'], \n",
    "                                bins=log_bins, \n",
    "                                labels=labels)\n",
    "\n",
    "print(df_copy.groupby('log_nom_bin_cut')['totalNominations'].describe())"
   ]
  },
  {
   "cell_type": "code",
   "execution_count": 141,
   "id": "0247510d",
   "metadata": {},
   "outputs": [
    {
     "name": "stdout",
     "output_type": "stream",
     "text": [
      "                        count       mean        std   min   25%   50%   75%  \\\n",
      "totalNominations_bin                                                          \n",
      "ZeroNom               17961.0   0.000000   0.000000   0.0   0.0   0.0   0.0   \n",
      "LowNom                 1983.0   1.323752   0.468025   1.0   1.0   1.0   2.0   \n",
      "MediumNom              1191.0   5.133501   2.072179   3.0   3.0   4.0   6.0   \n",
      "VeryHighNom             421.0  29.171021  37.925920  11.0  13.0  17.0  28.0   \n",
      "\n",
      "                        max  \n",
      "totalNominations_bin         \n",
      "ZeroNom                 0.0  \n",
      "LowNom                  2.0  \n",
      "MediumNom              10.0  \n",
      "VeryHighNom           409.0  \n"
     ]
    }
   ],
   "source": [
    "#TOTALNOMINATIONS NON LOG-TRANSFORMED   \n",
    "bins = [-1, 0, 2, 10, df_copy['totalNominations'].max()]\n",
    "labels = ['ZeroNom', 'LowNom', 'MediumNom', 'VeryHighNom']\n",
    "\n",
    "df_copy['totalNominations_bin'] = pd.cut(df_copy['totalNominations'], \n",
    "                                bins=bins, \n",
    "                                labels=labels)\n",
    "\n",
    "print(df_copy.groupby('totalNominations_bin')['totalNominations'].describe())"
   ]
  },
  {
   "cell_type": "markdown",
   "id": "c833fae1",
   "metadata": {},
   "source": [
    "##### TotalMedia"
   ]
  },
  {
   "cell_type": "code",
   "execution_count": 142,
   "id": "b90d9794",
   "metadata": {},
   "outputs": [],
   "source": [
    "df_copy[\"log_totalMedia\"] = np.log1p(df[\"totalMedia\"])"
   ]
  },
  {
   "cell_type": "code",
   "execution_count": 143,
   "id": "e4fbb6e7",
   "metadata": {},
   "outputs": [
    {
     "name": "stdout",
     "output_type": "stream",
     "text": [
      "                count        mean         std   min   25%   50%    75%     max\n",
      "media_bin                                                                     \n",
      "ZeroMedia      4296.0    0.000000    0.000000   0.0   0.0   0.0    0.0     0.0\n",
      "LowMedia       6296.0    1.000000    0.000000   1.0   1.0   1.0    1.0     1.0\n",
      "MediumMedia    6697.0    3.859041    1.910362   2.0   2.0   3.0    5.0     8.0\n",
      "HighMedia      3353.0   19.623024   10.535930   9.0  11.0  16.0   25.0    50.0\n",
      "VeryHighMedia   914.0  166.155361  306.398912  51.0  67.0  90.0  145.0  3516.0\n"
     ]
    }
   ],
   "source": [
    "#TOTALMEDIA NON LOG-TRANSFORMED\n",
    "bins = [-1, 0, 1, 8, 50, df_copy['totalMedia'].max()]\n",
    "labels = ['ZeroMedia', 'LowMedia', 'MediumMedia', 'HighMedia', 'VeryHighMedia']\n",
    "df_copy['media_bin'] = pd.cut(df_copy['totalMedia'], bins=bins, labels=labels)\n",
    "\n",
    "print(df_copy.groupby('media_bin')['totalMedia'].describe())"
   ]
  },
  {
   "cell_type": "code",
   "execution_count": 144,
   "id": "d92d6f02",
   "metadata": {},
   "outputs": [
    {
     "name": "stdout",
     "output_type": "stream",
     "text": [
      "                count      mean       std  min  25%  50%  75%  max\n",
      "log_media_bin                                                     \n",
      "ZeroMedia      4296.0  0.000000  0.000000  0.0  0.0  0.0  0.0  0.0\n",
      "LowMedia       6296.0  1.000000  0.000000  1.0  1.0  1.0  1.0  1.0\n",
      "MediumMedia    3562.0  2.339978  0.473768  2.0  2.0  2.0  3.0  3.0\n",
      "HighMedia       946.0  4.000000  0.000000  4.0  4.0  4.0  4.0  4.0\n",
      "VeryHighMedia  2189.0  6.269986  1.105793  5.0  5.0  6.0  7.0  8.0\n"
     ]
    }
   ],
   "source": [
    "#TOTALMEDIA LOG-TRANSFORMED\n",
    "log_bins = [-1, 0, 1.61, 3.1, 4.0, np.log(df_copy['totalMedia'].max())]\n",
    "labels = ['ZeroMedia', 'LowMedia', 'MediumMedia', 'HighMedia', 'VeryHighMedia']\n",
    "df_copy['log_media_bin'] = pd.cut(df_copy['totalMedia'], bins=log_bins, labels=labels)\n",
    "\n",
    "print(df_copy.groupby('log_media_bin')['totalMedia'].describe())"
   ]
  },
  {
   "cell_type": "markdown",
   "id": "1d7742b9",
   "metadata": {},
   "source": [
    "##### fill_runtimeMinutes_Bruno"
   ]
  },
  {
   "cell_type": "code",
   "execution_count": 145,
   "id": "6cde13a3",
   "metadata": {},
   "outputs": [],
   "source": [
    "df_copy[\"log_fill_runtimeMinutes_Bruno\"] = np.log1p(df[\"fill_runtimeMinutes_Bruno\"])"
   ]
  },
  {
   "cell_type": "code",
   "execution_count": 146,
   "id": "0b5a0207",
   "metadata": {},
   "outputs": [
    {
     "name": "stdout",
     "output_type": "stream",
     "text": [
      "                  count        mean         std    min    25%    50%    75%  \\\n",
      "runtime_bin                                                                   \n",
      "VeryLowRuntime   5001.0   15.005799    7.459153    0.0    8.0   15.0   22.0   \n",
      "LowRuntime       7384.0   42.204902   11.093113   26.0   30.0   43.0   50.0   \n",
      "MediumRuntime    8334.0   89.792057   12.058264   61.0   83.0   90.0   97.0   \n",
      "HighRuntime       692.0  142.810694   17.188333  121.0  129.0  138.0  153.0   \n",
      "VeryHighRuntime   145.0  299.117241  267.701443  181.0  200.0  225.0  310.0   \n",
      "\n",
      "                    max  \n",
      "runtime_bin              \n",
      "VeryLowRuntime     25.0  \n",
      "LowRuntime         60.0  \n",
      "MediumRuntime     120.0  \n",
      "HighRuntime       180.0  \n",
      "VeryHighRuntime  3000.0  \n"
     ]
    }
   ],
   "source": [
    "#FILL_RUNTIMEMINS_BRUNO NON LOG-TRANSFORMED\n",
    "bins = [-1, 25, 60, 120, 180, df_copy['fill_runtimeMinutes_Bruno'].max()]\n",
    "labels = ['VeryLowRuntime', 'LowRuntime', 'MediumRuntime', 'HighRuntime', \"VeryHighRuntime\"]\n",
    "\n",
    "df_copy['runtime_bin'] = pd.cut(df_copy['fill_runtimeMinutes_Bruno'], bins=bins, labels=labels)\n",
    "print(df_copy.groupby('runtime_bin')['fill_runtimeMinutes_Bruno'].describe())"
   ]
  },
  {
   "cell_type": "code",
   "execution_count": 147,
   "id": "8940dcae",
   "metadata": {},
   "outputs": [
    {
     "name": "stdout",
     "output_type": "stream",
     "text": [
      "                  count        mean         std    min    25%    50%    75%  \\\n",
      "log_runtime_bin                                                               \n",
      "VeryLowRuntime    720.0    3.866667    1.724083    0.0    3.0    4.0    5.0   \n",
      "LowRuntime       6889.0   21.639280    7.917499    7.0   15.0   24.0   30.0   \n",
      "MediumRuntime    8547.0   62.682579   16.934379   33.0   46.0   60.0   80.0   \n",
      "HighRuntime      5340.0  105.555993   22.033086   90.0   92.0   98.0  109.0   \n",
      "VeryHighRuntime    60.0  432.250000  379.052236  247.0  300.0  350.0  420.0   \n",
      "\n",
      "                    max  \n",
      "log_runtime_bin          \n",
      "VeryLowRuntime      6.0  \n",
      "LowRuntime         32.0  \n",
      "MediumRuntime      89.0  \n",
      "HighRuntime       241.0  \n",
      "VeryHighRuntime  3000.0  \n"
     ]
    }
   ],
   "source": [
    "#FILL_RUNTIMEMINS_BRUNO LOG-TRANSFORMED\n",
    "bins = [-np.inf, 2.0, 3.5, 4.5, 5.5, np.inf]\n",
    "labels = ['VeryLowRuntime', 'LowRuntime', 'MediumRuntime', 'HighRuntime', 'VeryHighRuntime']\n",
    "\n",
    "df_copy['log_runtime_bin'] = pd.cut(\n",
    "    df_copy['log_fill_runtimeMinutes_Bruno'],\n",
    "    bins=bins,\n",
    "    labels=labels,\n",
    "    ordered=True)\n",
    "\n",
    "print(df_copy.groupby('log_runtime_bin')['fill_runtimeMinutes_Bruno'].describe())"
   ]
  },
  {
   "cell_type": "markdown",
   "id": "7118ec87",
   "metadata": {},
   "source": [
    "##### rating"
   ]
  },
  {
   "cell_type": "code",
   "execution_count": 148,
   "id": "75d4b05e",
   "metadata": {},
   "outputs": [
    {
     "name": "stdout",
     "output_type": "stream",
     "text": [
      "rating_bin\n",
      "HighRating        6322\n",
      "MediumRating      5985\n",
      "LowRating         5784\n",
      "VeryHighRating    3173\n",
      "VeryLowRating      292\n",
      "Name: count, dtype: int64\n",
      "                 count      mean       std  min  25%  50%  75%   max\n",
      "rating_bin                                                          \n",
      "VeryLowRating    292.0  2.681507  0.508958  1.0  2.0  3.0  3.0   3.0\n",
      "LowRating       5784.0  5.526279  0.679484  4.0  5.0  6.0  6.0   6.0\n",
      "MediumRating    5985.0  7.000000  0.000000  7.0  7.0  7.0  7.0   7.0\n",
      "HighRating      6322.0  8.000000  0.000000  8.0  8.0  8.0  8.0   8.0\n",
      "VeryHighRating  3173.0  9.144973  0.352129  9.0  9.0  9.0  9.0  10.0\n"
     ]
    }
   ],
   "source": [
    "#RATING \n",
    "bins = [-1, 3, 6, 7, 8, df_copy['rating'].max()]\n",
    "labels = ['VeryLowRating', 'LowRating', 'MediumRating', 'HighRating', \"VeryHighRating\"]\n",
    "df_copy['rating_bin'] = pd.cut(df_copy['rating'], bins=bins, labels=labels)\n",
    "\n",
    "print(df_copy['rating_bin'].value_counts())\n",
    "print(df_copy.groupby('rating_bin')['rating'].describe())"
   ]
  },
  {
   "cell_type": "markdown",
   "id": "ad7cfcac",
   "metadata": {},
   "source": [
    "##### numVotes"
   ]
  },
  {
   "cell_type": "code",
   "execution_count": 149,
   "id": "23c1a18c",
   "metadata": {},
   "outputs": [],
   "source": [
    "df_copy[\"log_numVotes\"] = np.log1p(df[\"numVotes\"])"
   ]
  },
  {
   "cell_type": "code",
   "execution_count": 150,
   "id": "85b5da11",
   "metadata": {},
   "outputs": [
    {
     "name": "stdout",
     "output_type": "stream",
     "text": [
      "                   count          mean            std     min      25%  \\\n",
      "log_numvotes_bin                                                         \n",
      "VeryLowVotes      4918.0      9.177918       2.342771     5.0     7.00   \n",
      "LowVotes          7126.0     26.137946       9.577997    14.0    18.00   \n",
      "MediumVotes       4126.0     87.547988      27.756307    49.0    64.00   \n",
      "HighVotes         4636.0    627.911346     587.550972   148.0   230.00   \n",
      "VeryHighVotes      750.0  38960.374667  105652.794274  2980.0  4247.25   \n",
      "\n",
      "                     50%       75%        max  \n",
      "log_numvotes_bin                               \n",
      "VeryLowVotes         9.0     11.00       13.0  \n",
      "LowVotes            24.0     33.00       48.0  \n",
      "MediumVotes         82.0    109.00      147.0  \n",
      "HighVotes          391.0    783.25     2976.0  \n",
      "VeryHighVotes     7430.5  21480.00  1071372.0  \n"
     ]
    }
   ],
   "source": [
    "#NUMVOTES LOG-TRANSFORMED\n",
    "bins = [-np.inf, 2.7, 3.9, 5.0, 8.0, np.inf]\n",
    "labels = ['VeryLowVotes', 'LowVotes', 'MediumVotes', 'HighVotes', 'VeryHighVotes']\n",
    "\n",
    "# Applicazione\n",
    "df_copy['log_numvotes_bin'] = pd.cut(\n",
    "    df_copy['log_numVotes'],\n",
    "    bins=bins,\n",
    "    labels=labels\n",
    ")\n",
    "\n",
    "print(df_copy.groupby('log_numvotes_bin')['numVotes'].describe())"
   ]
  },
  {
   "cell_type": "code",
   "execution_count": 151,
   "id": "1eef9d03",
   "metadata": {},
   "outputs": [
    {
     "name": "stdout",
     "output_type": "stream",
     "text": [
      "                count          mean           std     min     25%     50%  \\\n",
      "numVotes_bin                                                                \n",
      "VeryLowVotes   5799.0      9.986377      2.888222     5.0     8.0    10.0   \n",
      "LowVotes       6409.0     28.334842      9.615432    16.0    20.0    26.0   \n",
      "MediumVotes    4017.0     89.944486     27.895216    51.0    66.0    85.0   \n",
      "HighVotes      3728.0    392.828326    220.154820   151.0   214.0   323.0   \n",
      "VeryHighVotes  1603.0  19125.774797  74600.292618  1001.0  1512.0  2664.0   \n",
      "\n",
      "                  75%        max  \n",
      "numVotes_bin                      \n",
      "VeryLowVotes     12.0       15.0  \n",
      "LowVotes         35.0       50.0  \n",
      "MediumVotes     111.0      150.0  \n",
      "HighVotes       519.0     1000.0  \n",
      "VeryHighVotes  6628.5  1071372.0  \n"
     ]
    }
   ],
   "source": [
    "#NUMVOTES NON LOG-TRANSFORMED\n",
    "labels = ['VeryLowVotes', 'LowVotes', 'MediumVotes', 'HighVotes', 'VeryHighVotes']\n",
    "bins = [4, 15, 50, 150, 1000, float('inf')]  # include il min=5 e max=1.071.372\n",
    "\n",
    "df_copy['numVotes_bin'] = pd.cut(df['numVotes'], bins=bins, labels=labels, include_lowest=True)\n",
    "print(df_copy.groupby('numVotes_bin')['numVotes'].describe())"
   ]
  },
  {
   "cell_type": "markdown",
   "id": "acb00d92",
   "metadata": {},
   "source": [
    "##### StartYear"
   ]
  },
  {
   "cell_type": "code",
   "execution_count": 152,
   "id": "6cd220b5",
   "metadata": {},
   "outputs": [
    {
     "name": "stdout",
     "output_type": "stream",
     "text": [
      "                count         mean        std     min      25%     50%  \\\n",
      "startYear_bin                                                            \n",
      "pre-1930        698.0  1914.626074  11.211889  1891.0  1906.00  1916.0   \n",
      "1930-1954      1402.0  1943.766762   7.466448  1931.0  1937.00  1944.0   \n",
      "1955-1979      3975.0  1969.576855   6.876806  1956.0  1964.00  1970.0   \n",
      "1980-1999      5851.0  1991.319774   5.390506  1981.0  1987.00  1992.0   \n",
      "2000-2019      5415.0  2008.950323   4.146951  2001.0  2006.00  2009.0   \n",
      "post-2020      4214.0  2019.557190   2.376487  2016.0  2017.25  2019.0   \n",
      "\n",
      "                  75%     max  \n",
      "startYear_bin                  \n",
      "pre-1930       1925.0  1930.0  \n",
      "1930-1954      1951.0  1955.0  \n",
      "1955-1979      1975.0  1980.0  \n",
      "1980-1999      1996.0  1999.0  \n",
      "2000-2019      2012.0  2015.0  \n",
      "post-2020      2022.0  2024.0  \n"
     ]
    }
   ],
   "source": [
    "#STARTYEAR\n",
    "bins =[\n",
    "    1878,  # Cinema delle origini e muto\n",
    "    1930,  # Cinema sonoro classico e radio\n",
    "    1955,  # TV B/N e colore, cinema widescreen\n",
    "    1980,  # Video domestico e media transazionali\n",
    "    2000,  # DVD, internet e mobile\n",
    "    2015,  # Streaming integrato e nuovi media\n",
    "    df_copy['startYear'].max()] #era corrente\n",
    "labels = ['pre-1930', '1930-1954', '1955-1979', '1980-1999', '2000-2019', 'post-2020']\n",
    "df_copy['startYear_bin'] = pd.cut(df_copy['startYear'], bins=bins, labels=labels)\n",
    "\n",
    "print(df_copy.groupby('startYear_bin')['startYear'].describe())"
   ]
  },
  {
   "cell_type": "markdown",
   "id": "7171b585",
   "metadata": {},
   "source": [
    "##### totalCredits"
   ]
  },
  {
   "cell_type": "code",
   "execution_count": 153,
   "id": "0335fa18",
   "metadata": {},
   "outputs": [],
   "source": [
    "df_copy[\"log_totalCredits\"] = np.log1p(df[\"totalCredits\"])"
   ]
  },
  {
   "cell_type": "code",
   "execution_count": 154,
   "id": "2a648f87",
   "metadata": {},
   "outputs": [],
   "source": [
    "#TOTALCREDITS LOG-TRANSFORMED\n",
    "bins = [-np.inf, 2.0, 3.0, 4.2, 6.0, np.inf]\n",
    "labels = ['VeryLowCredits', 'LowCredits', 'MediumCredits', 'HighCredits', 'VeryHighCredits']\n",
    "\n",
    "df_copy['log_totalCredits_bin'] = pd.cut(df_copy['log_totalCredits'], bins=bins, labels=labels)"
   ]
  },
  {
   "cell_type": "code",
   "execution_count": 155,
   "id": "d922877a",
   "metadata": {},
   "outputs": [
    {
     "name": "stdout",
     "output_type": "stream",
     "text": [
      "                       count        mean          std    min     25%    50%  \\\n",
      "log_totalCredits_bin                                                          \n",
      "VeryLowCredits        1812.0    3.462472     1.900979    0.0    2.00    4.0   \n",
      "LowCredits            4628.0   12.907303     3.696248    7.0   10.00   13.0   \n",
      "MediumCredits         9744.0   38.596470    12.728129   20.0   28.00   37.0   \n",
      "HighCredits           5122.0  129.601913    67.895409   66.0   80.00  106.0   \n",
      "VeryHighCredits        250.0  877.252000  1141.473298  403.0  478.25  604.5   \n",
      "\n",
      "                         75%      max  \n",
      "log_totalCredits_bin                   \n",
      "VeryLowCredits          5.00      6.0  \n",
      "LowCredits             16.00     19.0  \n",
      "MediumCredits          49.00     65.0  \n",
      "HighCredits           154.00    402.0  \n",
      "VeryHighCredits       903.25  15742.0  \n"
     ]
    }
   ],
   "source": [
    "print(df_copy.groupby('log_totalCredits_bin')['totalCredits'].describe())"
   ]
  },
  {
   "cell_type": "code",
   "execution_count": 156,
   "id": "f2ddb706",
   "metadata": {},
   "outputs": [],
   "source": [
    "#TOTALCREDITS NON LOG-TRANSFORMED\n",
    "labels = ['VeryLowCredits', 'LowCredits', 'MediumCredits', 'HighCredits', 'VeryHighCredits']\n",
    "bins = [-1, 15, 35, 65, 200, float('inf')]\n",
    "\n",
    "df_copy['totalCredits_bin'] = pd.cut(df['totalCredits'], bins=bins, labels=labels, include_lowest=True)"
   ]
  },
  {
   "cell_type": "code",
   "execution_count": 157,
   "id": "26b87880",
   "metadata": {},
   "outputs": [
    {
     "name": "stdout",
     "output_type": "stream",
     "text": [
      "                   count        mean         std    min    25%    50%     75%  \\\n",
      "totalCredits_bin                                                                \n",
      "VeryLowCredits    5088.0    8.332351    4.322715    0.0    5.0    9.0   12.00   \n",
      "LowCredits        5871.0   24.884858    5.756800   16.0   20.0   25.0   30.00   \n",
      "MediumCredits     5225.0   48.535694    8.408315   36.0   41.0   48.0   55.00   \n",
      "HighCredits       4412.0  107.169764   35.115568   66.0   78.0   97.0  129.00   \n",
      "VeryHighCredits    960.0  427.396875  641.780739  201.0  232.0  286.0  412.75   \n",
      "\n",
      "                      max  \n",
      "totalCredits_bin           \n",
      "VeryLowCredits       15.0  \n",
      "LowCredits           35.0  \n",
      "MediumCredits        65.0  \n",
      "HighCredits         200.0  \n",
      "VeryHighCredits   15742.0  \n"
     ]
    }
   ],
   "source": [
    "print(df_copy.groupby('totalCredits_bin')['totalCredits'].describe())"
   ]
  },
  {
   "cell_type": "markdown",
   "id": "d763024d",
   "metadata": {},
   "source": [
    "##### criticReviewsTotal"
   ]
  },
  {
   "cell_type": "code",
   "execution_count": 158,
   "id": "a236ddc9",
   "metadata": {},
   "outputs": [],
   "source": [
    "df_copy[\"log_criticReviewsTotal\"] = np.log1p(df[\"criticReviewsTotal\"])"
   ]
  },
  {
   "cell_type": "code",
   "execution_count": 159,
   "id": "63c52e95",
   "metadata": {},
   "outputs": [],
   "source": [
    "#CRITICREVIEWS LOG-TRANSFORMED\n",
    "bins = [-0.01, 0.0, 1.4, 2.3, 3.4, 4.6, np.inf]\n",
    "labels = [\n",
    "    'NoCriticReviews',\n",
    "    'FewCriticReviews',\n",
    "    'ModerateCriticReviews',\n",
    "    'ManyCriticReviews',\n",
    "    'VeryHighCriticReviews',\n",
    "    'ExtensiveCriticReviews'\n",
    "]\n",
    "\n",
    "df_copy['log_criticReviewsTotal_bin'] = pd.cut(\n",
    "    df_copy['log_criticReviewsTotal'],\n",
    "    bins=bins,\n",
    "    labels=labels\n",
    ")"
   ]
  },
  {
   "cell_type": "code",
   "execution_count": 160,
   "id": "af978484",
   "metadata": {},
   "outputs": [
    {
     "name": "stdout",
     "output_type": "stream",
     "text": [
      "                              count        mean        std   min     25%  \\\n",
      "log_criticReviewsTotal_bin                                                 \n",
      "NoCriticReviews             14982.0    0.000000   0.000000   0.0    0.00   \n",
      "FewCriticReviews             4103.0    1.530831   0.731317   1.0    1.00   \n",
      "ModerateCriticReviews        1163.0    5.405847   1.347031   4.0    4.00   \n",
      "ManyCriticReviews             876.0   15.043379   5.460335   9.0   10.00   \n",
      "VeryHighCriticReviews         324.0   51.706790  18.817450  29.0   35.75   \n",
      "ExtensiveCriticReviews        108.0  185.175926  96.204691  99.0  120.00   \n",
      "\n",
      "                              50%     75%    max  \n",
      "log_criticReviewsTotal_bin                        \n",
      "NoCriticReviews               0.0    0.00    0.0  \n",
      "FewCriticReviews              1.0    2.00    3.0  \n",
      "ModerateCriticReviews         5.0    6.00    8.0  \n",
      "ManyCriticReviews            13.0   19.00   28.0  \n",
      "VeryHighCriticReviews        47.0   64.00   98.0  \n",
      "ExtensiveCriticReviews      148.5  222.25  567.0  \n"
     ]
    }
   ],
   "source": [
    "print(df_copy.groupby('log_criticReviewsTotal_bin')['criticReviewsTotal'].describe())"
   ]
  },
  {
   "cell_type": "code",
   "execution_count": 161,
   "id": "4f1725d0",
   "metadata": {},
   "outputs": [
    {
     "name": "stdout",
     "output_type": "stream",
     "text": [
      "                          count        mean        std   min   25%   50%  \\\n",
      "criticReviewsTotal_bin                                                     \n",
      "NoCriticReviews         14982.0    0.000000   0.000000   0.0   0.0   0.0   \n",
      "FewCriticReviews         2511.0    1.000000   0.000000   1.0   1.0   1.0   \n",
      "ModerateCriticReviews    2267.0    2.972651   1.047484   2.0   2.0   3.0   \n",
      "ManyCriticReviews        1194.0   10.369347   3.925342   6.0   7.0   9.0   \n",
      "VeryHighCriticReviews     319.0   29.498433   6.729675  21.0  24.0  28.0   \n",
      "ExtensiveCriticReviews    283.0  111.155477  83.922270  46.0  57.0  83.0   \n",
      "\n",
      "                          75%    max  \n",
      "criticReviewsTotal_bin                \n",
      "NoCriticReviews           0.0    0.0  \n",
      "FewCriticReviews          1.0    1.0  \n",
      "ModerateCriticReviews     4.0    5.0  \n",
      "ManyCriticReviews        13.0   20.0  \n",
      "VeryHighCriticReviews    35.0   45.0  \n",
      "ExtensiveCriticReviews  131.0  567.0  \n"
     ]
    }
   ],
   "source": [
    "#CRITICREVIEWS NON LOG-TRANSFORMED\n",
    "labels = [\n",
    "    'NoCriticReviews',\n",
    "    'FewCriticReviews',\n",
    "    'ModerateCriticReviews',\n",
    "    'ManyCriticReviews',\n",
    "    'VeryHighCriticReviews',\n",
    "    'ExtensiveCriticReviews'\n",
    "]\n",
    "bins = [-1, 0, 1, 5, 20, 45, float('inf')]\n",
    "\n",
    "df_copy['criticReviewsTotal_bin'] = pd.cut(df['criticReviewsTotal'], bins=bins, labels=labels, include_lowest=True)\n",
    "print(df_copy.groupby('criticReviewsTotal_bin')['criticReviewsTotal'].describe())"
   ]
  },
  {
   "cell_type": "markdown",
   "id": "52fbb1cf",
   "metadata": {},
   "source": [
    "##### numRegions"
   ]
  },
  {
   "cell_type": "code",
   "execution_count": 162,
   "id": "80325e95",
   "metadata": {},
   "outputs": [],
   "source": [
    "df_copy[\"log_numRegions\"] = np.log1p(df[\"numRegions\"])"
   ]
  },
  {
   "cell_type": "code",
   "execution_count": 163,
   "id": "69c6699e",
   "metadata": {},
   "outputs": [],
   "source": [
    "#NUMREGIONS LOG-TRANSFORMED\n",
    "bins = [-np.inf, 1.2, 2.0, 3.2, np.inf]\n",
    "labels = ['VeryFewRegions', 'ModerateRegions', 'ManyRegions', 'GlobalRegions']\n",
    "\n",
    "# Applicazione\n",
    "df_copy['log_numRegions_bin'] = pd.cut(\n",
    "    df_copy['log_numRegions'],\n",
    "    bins=bins,\n",
    "    labels=labels\n",
    ")"
   ]
  },
  {
   "cell_type": "code",
   "execution_count": 164,
   "id": "9283a408",
   "metadata": {},
   "outputs": [
    {
     "name": "stdout",
     "output_type": "stream",
     "text": [
      "                      count       mean       std   min   25%   50%   75%   max\n",
      "log_numRegions_bin                                                            \n",
      "VeryFewRegions      14989.0   1.165722  0.371843   1.0   1.0   1.0   1.0   2.0\n",
      "ModerateRegions      3253.0   4.134030  1.063709   3.0   3.0   4.0   5.0   6.0\n",
      "ManyRegions          2854.0  10.862649  4.449670   7.0   7.0   9.0  13.0  23.0\n",
      "GlobalRegions         460.0  33.486957  8.802718  24.0  27.0  31.0  38.0  69.0\n"
     ]
    }
   ],
   "source": [
    "print(df_copy.groupby('log_numRegions_bin')['numRegions'].describe())"
   ]
  },
  {
   "cell_type": "code",
   "execution_count": 165,
   "id": "074d6c2f",
   "metadata": {},
   "outputs": [
    {
     "name": "stdout",
     "output_type": "stream",
     "text": [
      "                   count       mean       std  min   25%   50%   75%   max\n",
      "numRegions_bin                                                            \n",
      "VeryFewRegions   12505.0   1.000000  0.000000  1.0   1.0   1.0   1.0   1.0\n",
      "ModerateRegions   3658.0   2.320940  0.466902  2.0   2.0   2.0   3.0   3.0\n",
      "ManyRegions       3348.0   5.699522  1.363851  4.0   4.0   6.0   7.0   8.0\n",
      "GlobalRegions     2045.0  18.215159  9.888353  9.0  11.0  15.0  22.0  69.0\n"
     ]
    }
   ],
   "source": [
    "#NUMREGIONS NON LOG-TRANSFORMED\n",
    "labels = ['VeryFewRegions', 'ModerateRegions', 'ManyRegions', 'GlobalRegions']\n",
    "bins = [0, 1, 3, 8, float('inf')]\n",
    "\n",
    "df_copy['numRegions_bin'] = pd.cut(df['numRegions'], bins=bins, labels=labels, include_lowest=True)\n",
    "print(df_copy.groupby('numRegions_bin')['numRegions'].describe())\n"
   ]
  },
  {
   "cell_type": "markdown",
   "id": "2c04a4d8",
   "metadata": {},
   "source": [
    "##### userReviewsTotal"
   ]
  },
  {
   "cell_type": "code",
   "execution_count": 166,
   "id": "9adc0297",
   "metadata": {},
   "outputs": [],
   "source": [
    "df_copy[\"log_userReviewsTotal\"] = np.log1p(df[\"userReviewsTotal\"])"
   ]
  },
  {
   "cell_type": "code",
   "execution_count": 167,
   "id": "93fd2435",
   "metadata": {},
   "outputs": [],
   "source": [
    "#USERREVIEWSTOTAL LOG-TRANSFORMED\n",
    "bins = [-0.01, 0.0, 2.8, 5.0, np.inf]\n",
    "labels = ['NoUserReviews', 'FewUserReviews', 'ModerateUserReviews', 'ManyUserReviews']\n",
    "\n",
    "# Applicazione\n",
    "df_copy['log_userReviewsTotal_bin'] = pd.cut(\n",
    "    df_copy['log_userReviewsTotal'],\n",
    "    bins=bins,\n",
    "    labels=labels)"
   ]
  },
  {
   "cell_type": "code",
   "execution_count": 168,
   "id": "ec5badb6",
   "metadata": {},
   "outputs": [
    {
     "name": "stdout",
     "output_type": "stream",
     "text": [
      "                            count        mean         std    min     25%  \\\n",
      "log_userReviewsTotal_bin                                                   \n",
      "NoUserReviews             12080.0    0.000000    0.000000    0.0    0.00   \n",
      "FewUserReviews             8177.0    3.352330    3.237348    1.0    1.00   \n",
      "ModerateUserReviews        1113.0   41.222821   28.389454   16.0   21.00   \n",
      "ManyUserReviews             186.0  459.930108  530.678780  148.0  195.75   \n",
      "\n",
      "                            50%    75%     max  \n",
      "log_userReviewsTotal_bin                        \n",
      "NoUserReviews               0.0    0.0     0.0  \n",
      "FewUserReviews              2.0    4.0    15.0  \n",
      "ModerateUserReviews        30.0   51.0   147.0  \n",
      "ManyUserReviews           303.0  517.5  5727.0  \n"
     ]
    }
   ],
   "source": [
    "print(df_copy.groupby('log_userReviewsTotal_bin')['userReviewsTotal'].describe())"
   ]
  },
  {
   "cell_type": "code",
   "execution_count": 169,
   "id": "66ee3e54",
   "metadata": {},
   "outputs": [],
   "source": [
    "#USERREVIEWSTOTAL NON LOG-TRANSFORMED\n",
    "labels = ['NoUserReviews', 'FewUserReviews', 'ModerateUserReviews', 'ManyUserReviews']\n",
    "bins = [-1, 0, 3, 30, float('inf')]\n",
    "\n",
    "df_copy['userReviewsTotal_bin'] = pd.cut(df['userReviewsTotal'], bins=bins, labels=labels, include_lowest=True)"
   ]
  },
  {
   "cell_type": "code",
   "execution_count": 170,
   "id": "31dec078",
   "metadata": {},
   "outputs": [
    {
     "name": "stdout",
     "output_type": "stream",
     "text": [
      "                        count        mean         std   min   25%   50%  \\\n",
      "userReviewsTotal_bin                                                      \n",
      "NoUserReviews         12080.0    0.000000    0.000000   0.0   0.0   0.0   \n",
      "FewUserReviews         5643.0    1.569910    0.742345   1.0   1.0   1.0   \n",
      "ModerateUserReviews    3104.0   10.004510    6.593436   4.0   5.0   8.0   \n",
      "ManyUserReviews         729.0  163.137174  319.998455  31.0  43.0  67.0   \n",
      "\n",
      "                        75%     max  \n",
      "userReviewsTotal_bin                 \n",
      "NoUserReviews           0.0     0.0  \n",
      "FewUserReviews          2.0     3.0  \n",
      "ModerateUserReviews    13.0    30.0  \n",
      "ManyUserReviews       149.0  5727.0  \n"
     ]
    }
   ],
   "source": [
    "print(df_copy.groupby('userReviewsTotal_bin')['userReviewsTotal'].describe())"
   ]
  },
  {
   "cell_type": "markdown",
   "id": "f2ad8c29",
   "metadata": {},
   "source": [
    "##### countryOfOrigin_freqenc"
   ]
  },
  {
   "cell_type": "code",
   "execution_count": 171,
   "id": "6f835407",
   "metadata": {},
   "outputs": [
    {
     "data": {
      "text/plain": [
       "count    21556.000000\n",
       "mean         0.193822\n",
       "std          0.182476\n",
       "min          0.000000\n",
       "25%          0.018089\n",
       "50%          0.098792\n",
       "75%          0.397061\n",
       "max          0.713697\n",
       "Name: countryOfOrigin_freq_enc, dtype: float64"
      ]
     },
     "execution_count": 171,
     "metadata": {},
     "output_type": "execute_result"
    }
   ],
   "source": [
    "df_copy[\"countryOfOrigin_freq_enc\"].describe()"
   ]
  },
  {
   "cell_type": "code",
   "execution_count": 172,
   "id": "cf6cbbe6",
   "metadata": {},
   "outputs": [],
   "source": [
    "bins = [-0.01, 0.03, 0.3, 1.0]\n",
    "labels = ['bassa_COFE', 'media_COFE', 'alta_COFE']\n",
    "\n",
    "df_copy[\"country_freq_bin\"] = pd.cut(\n",
    "    df_copy[\"countryOfOrigin_freq_enc\"],\n",
    "    bins=bins,\n",
    "    labels=labels\n",
    ")"
   ]
  },
  {
   "cell_type": "code",
   "execution_count": 173,
   "id": "3ae6192d",
   "metadata": {},
   "outputs": [
    {
     "name": "stdout",
     "output_type": "stream",
     "text": [
      "                   count      mean       std       min       25%       50%  \\\n",
      "country_freq_bin                                                             \n",
      "bassa_COFE        6552.0  0.011248  0.007738  0.000000  0.005510  0.009406   \n",
      "media_COFE        5680.0  0.065404  0.029735  0.030222  0.038891  0.047086   \n",
      "alta_COFE         9324.0  0.400346  0.016569  0.397061  0.397061  0.397061   \n",
      "\n",
      "                       75%       max  \n",
      "country_freq_bin                      \n",
      "bassa_COFE        0.017532  0.029888  \n",
      "media_COFE        0.098792  0.204931  \n",
      "alta_COFE         0.397061  0.713697  \n"
     ]
    }
   ],
   "source": [
    "print(df_copy.groupby('country_freq_bin')['countryOfOrigin_freq_enc'].describe())"
   ]
  },
  {
   "cell_type": "markdown",
   "id": "2ea49eee",
   "metadata": {},
   "source": [
    "### Handling of categorical attributes"
   ]
  },
  {
   "cell_type": "markdown",
   "id": "faf86f48",
   "metadata": {},
   "source": [
    "##### countryOfOrigin"
   ]
  },
  {
   "cell_type": "code",
   "execution_count": 174,
   "id": "5799fa78",
   "metadata": {},
   "outputs": [],
   "source": [
    "# # BINARIZZAZIONE -  ONE HOT ENCODING \n",
    "# df_copy['from_Europe_bin'] = (df_copy['countryOfOrigin_EU'] > 0).astype(int)\n",
    "# df_copy['from_NorthAmerica_bin'] = (df_copy['countryOfOrigin_NA'] > 0).astype(int)\n",
    "# df_copy['from_SouthAmerica_bin'] = (df_copy['countryOfOrigin_SA'] > 0).astype(int)\n",
    "# df_copy['from_Asia_bin'] = (df_copy['countryOfOrigin_SA'] > 0).astype(int)\n",
    "# df_copy['from_Oceania_bin'] = (df_copy['countryOfOrigin_OC'] > 0).astype(int)\n",
    "# df_copy['from_Africa_bin'] = (df_copy['countryOfOrigin_AF'] > 0).astype(int)\n",
    "# df_copy['from_Unknown_bin'] = (df_copy['countryOfOrigin_UNK'] > 0).astype(int)\n"
   ]
  },
  {
   "cell_type": "code",
   "execution_count": 175,
   "id": "ce207c84",
   "metadata": {},
   "outputs": [],
   "source": [
    "# DISCRETIZZAZIONE A PIù LIVELLI\n",
    "def discretize_continent_count(df, col_name, cont):\n",
    "    new_col = f'{cont }_bin'\n",
    "    \n",
    "    def label(value):\n",
    "        if value == 0:\n",
    "            return f'not_{cont}'\n",
    "       # elif value == 1:\n",
    "        #    return f'one_{cont}'\n",
    "        else:\n",
    "            return f'is_{cont}'\n",
    "    \n",
    "    df[new_col] = df[col_name].apply(label)\n",
    "\n",
    "# applico funzione\n",
    "discretize_continent_count(df_copy, \"countryOfOrigin_NA\", \"from_NorthAmerica\")\n",
    "discretize_continent_count(df_copy, \"countryOfOrigin_EU\", \"from_Europe\")\n",
    "discretize_continent_count(df_copy, \"countryOfOrigin_SA\", \"from_SouthAmerica\")\n",
    "discretize_continent_count(df_copy, \"countryOfOrigin_AS\", \"from_Asia\")\n",
    "discretize_continent_count(df_copy, \"countryOfOrigin_OC\", \"from_Oceania\")\n",
    "discretize_continent_count(df_copy, \"countryOfOrigin_AF\", \"from_Africa\")\n",
    "discretize_continent_count(df_copy, \"countryOfOrigin_UNK\", \"from_Unknown\")"
   ]
  },
  {
   "cell_type": "code",
   "execution_count": 176,
   "id": "44735b7a",
   "metadata": {},
   "outputs": [
    {
     "data": {
      "text/html": [
       "<div>\n",
       "<style scoped>\n",
       "    .dataframe tbody tr th:only-of-type {\n",
       "        vertical-align: middle;\n",
       "    }\n",
       "\n",
       "    .dataframe tbody tr th {\n",
       "        vertical-align: top;\n",
       "    }\n",
       "\n",
       "    .dataframe thead th {\n",
       "        text-align: right;\n",
       "    }\n",
       "</style>\n",
       "<table border=\"1\" class=\"dataframe\">\n",
       "  <thead>\n",
       "    <tr style=\"text-align: right;\">\n",
       "      <th></th>\n",
       "      <th>originalTitle</th>\n",
       "      <th>rating</th>\n",
       "      <th>startYear</th>\n",
       "      <th>endYear</th>\n",
       "      <th>runtimeMinutes</th>\n",
       "      <th>awardWins</th>\n",
       "      <th>numVotes</th>\n",
       "      <th>totalImages</th>\n",
       "      <th>totalVideos</th>\n",
       "      <th>totalCredits</th>\n",
       "      <th>...</th>\n",
       "      <th>log_userReviewsTotal_bin</th>\n",
       "      <th>userReviewsTotal_bin</th>\n",
       "      <th>country_freq_bin</th>\n",
       "      <th>from_NorthAmerica_bin</th>\n",
       "      <th>from_Europe_bin</th>\n",
       "      <th>from_SouthAmerica_bin</th>\n",
       "      <th>from_Asia_bin</th>\n",
       "      <th>from_Oceania_bin</th>\n",
       "      <th>from_Africa_bin</th>\n",
       "      <th>from_Unknown_bin</th>\n",
       "    </tr>\n",
       "  </thead>\n",
       "  <tbody>\n",
       "    <tr>\n",
       "      <th>0</th>\n",
       "      <td>Neogenic Nightmare Chapter 3: Hydro-Man</td>\n",
       "      <td>8</td>\n",
       "      <td>1995</td>\n",
       "      <td>1995.0</td>\n",
       "      <td>NaN</td>\n",
       "      <td>0.0</td>\n",
       "      <td>779</td>\n",
       "      <td>1</td>\n",
       "      <td>0</td>\n",
       "      <td>21</td>\n",
       "      <td>...</td>\n",
       "      <td>NoUserReviews</td>\n",
       "      <td>NoUserReviews</td>\n",
       "      <td>alta_COFE</td>\n",
       "      <td>is_from_NorthAmerica</td>\n",
       "      <td>not_from_Europe</td>\n",
       "      <td>not_from_SouthAmerica</td>\n",
       "      <td>not_from_Asia</td>\n",
       "      <td>not_from_Oceania</td>\n",
       "      <td>not_from_Africa</td>\n",
       "      <td>not_from_Unknown</td>\n",
       "    </tr>\n",
       "    <tr>\n",
       "      <th>1</th>\n",
       "      <td>Idealnaya para</td>\n",
       "      <td>6</td>\n",
       "      <td>1992</td>\n",
       "      <td>1992.0</td>\n",
       "      <td>NaN</td>\n",
       "      <td>0.0</td>\n",
       "      <td>38</td>\n",
       "      <td>1</td>\n",
       "      <td>0</td>\n",
       "      <td>24</td>\n",
       "      <td>...</td>\n",
       "      <td>FewUserReviews</td>\n",
       "      <td>FewUserReviews</td>\n",
       "      <td>bassa_COFE</td>\n",
       "      <td>not_from_NorthAmerica</td>\n",
       "      <td>is_from_Europe</td>\n",
       "      <td>not_from_SouthAmerica</td>\n",
       "      <td>not_from_Asia</td>\n",
       "      <td>not_from_Oceania</td>\n",
       "      <td>not_from_Africa</td>\n",
       "      <td>not_from_Unknown</td>\n",
       "    </tr>\n",
       "    <tr>\n",
       "      <th>2</th>\n",
       "      <td>MasterChef Celebrity México</td>\n",
       "      <td>6</td>\n",
       "      <td>2021</td>\n",
       "      <td>NaN</td>\n",
       "      <td>NaN</td>\n",
       "      <td>0.0</td>\n",
       "      <td>15</td>\n",
       "      <td>22</td>\n",
       "      <td>0</td>\n",
       "      <td>56</td>\n",
       "      <td>...</td>\n",
       "      <td>NoUserReviews</td>\n",
       "      <td>NoUserReviews</td>\n",
       "      <td>bassa_COFE</td>\n",
       "      <td>is_from_NorthAmerica</td>\n",
       "      <td>not_from_Europe</td>\n",
       "      <td>not_from_SouthAmerica</td>\n",
       "      <td>not_from_Asia</td>\n",
       "      <td>not_from_Oceania</td>\n",
       "      <td>not_from_Africa</td>\n",
       "      <td>not_from_Unknown</td>\n",
       "    </tr>\n",
       "    <tr>\n",
       "      <th>3</th>\n",
       "      <td>Seutateueob</td>\n",
       "      <td>8</td>\n",
       "      <td>2020</td>\n",
       "      <td>2020.0</td>\n",
       "      <td>80.0</td>\n",
       "      <td>1.0</td>\n",
       "      <td>15718</td>\n",
       "      <td>347</td>\n",
       "      <td>2</td>\n",
       "      <td>47</td>\n",
       "      <td>...</td>\n",
       "      <td>ManyUserReviews</td>\n",
       "      <td>ManyUserReviews</td>\n",
       "      <td>bassa_COFE</td>\n",
       "      <td>not_from_NorthAmerica</td>\n",
       "      <td>not_from_Europe</td>\n",
       "      <td>not_from_SouthAmerica</td>\n",
       "      <td>is_from_Asia</td>\n",
       "      <td>not_from_Oceania</td>\n",
       "      <td>not_from_Africa</td>\n",
       "      <td>not_from_Unknown</td>\n",
       "    </tr>\n",
       "    <tr>\n",
       "      <th>4</th>\n",
       "      <td>Lightdance</td>\n",
       "      <td>9</td>\n",
       "      <td>1995</td>\n",
       "      <td>1995.0</td>\n",
       "      <td>34.0</td>\n",
       "      <td>0.0</td>\n",
       "      <td>14</td>\n",
       "      <td>1</td>\n",
       "      <td>0</td>\n",
       "      <td>0</td>\n",
       "      <td>...</td>\n",
       "      <td>FewUserReviews</td>\n",
       "      <td>FewUserReviews</td>\n",
       "      <td>alta_COFE</td>\n",
       "      <td>is_from_NorthAmerica</td>\n",
       "      <td>not_from_Europe</td>\n",
       "      <td>not_from_SouthAmerica</td>\n",
       "      <td>not_from_Asia</td>\n",
       "      <td>not_from_Oceania</td>\n",
       "      <td>not_from_Africa</td>\n",
       "      <td>not_from_Unknown</td>\n",
       "    </tr>\n",
       "  </tbody>\n",
       "</table>\n",
       "<p>5 rows × 99 columns</p>\n",
       "</div>"
      ],
      "text/plain": [
       "                             originalTitle  rating  startYear  endYear  \\\n",
       "0  Neogenic Nightmare Chapter 3: Hydro-Man       8       1995   1995.0   \n",
       "1                           Idealnaya para       6       1992   1992.0   \n",
       "2              MasterChef Celebrity México       6       2021      NaN   \n",
       "3                              Seutateueob       8       2020   2020.0   \n",
       "4                               Lightdance       9       1995   1995.0   \n",
       "\n",
       "   runtimeMinutes  awardWins  numVotes  totalImages  totalVideos  \\\n",
       "0             NaN        0.0       779            1            0   \n",
       "1             NaN        0.0        38            1            0   \n",
       "2             NaN        0.0        15           22            0   \n",
       "3            80.0        1.0     15718          347            2   \n",
       "4            34.0        0.0        14            1            0   \n",
       "\n",
       "   totalCredits  ...  log_userReviewsTotal_bin userReviewsTotal_bin  \\\n",
       "0            21  ...             NoUserReviews        NoUserReviews   \n",
       "1            24  ...            FewUserReviews       FewUserReviews   \n",
       "2            56  ...             NoUserReviews        NoUserReviews   \n",
       "3            47  ...           ManyUserReviews      ManyUserReviews   \n",
       "4             0  ...            FewUserReviews       FewUserReviews   \n",
       "\n",
       "   country_freq_bin  from_NorthAmerica_bin  from_Europe_bin  \\\n",
       "0         alta_COFE   is_from_NorthAmerica  not_from_Europe   \n",
       "1        bassa_COFE  not_from_NorthAmerica   is_from_Europe   \n",
       "2        bassa_COFE   is_from_NorthAmerica  not_from_Europe   \n",
       "3        bassa_COFE  not_from_NorthAmerica  not_from_Europe   \n",
       "4         alta_COFE   is_from_NorthAmerica  not_from_Europe   \n",
       "\n",
       "   from_SouthAmerica_bin  from_Asia_bin  from_Oceania_bin  from_Africa_bin  \\\n",
       "0  not_from_SouthAmerica  not_from_Asia  not_from_Oceania  not_from_Africa   \n",
       "1  not_from_SouthAmerica  not_from_Asia  not_from_Oceania  not_from_Africa   \n",
       "2  not_from_SouthAmerica  not_from_Asia  not_from_Oceania  not_from_Africa   \n",
       "3  not_from_SouthAmerica   is_from_Asia  not_from_Oceania  not_from_Africa   \n",
       "4  not_from_SouthAmerica  not_from_Asia  not_from_Oceania  not_from_Africa   \n",
       "\n",
       "   from_Unknown_bin  \n",
       "0  not_from_Unknown  \n",
       "1  not_from_Unknown  \n",
       "2  not_from_Unknown  \n",
       "3  not_from_Unknown  \n",
       "4  not_from_Unknown  \n",
       "\n",
       "[5 rows x 99 columns]"
      ]
     },
     "execution_count": 176,
     "metadata": {},
     "output_type": "execute_result"
    }
   ],
   "source": [
    "df_copy.head()"
   ]
  },
  {
   "cell_type": "markdown",
   "id": "ba5d8aeb",
   "metadata": {},
   "source": [
    "## Pattern Mining"
   ]
  },
  {
   "cell_type": "markdown",
   "id": "a2f3276b",
   "metadata": {},
   "source": [
    "### Transactions Creation"
   ]
  },
  {
   "cell_type": "code",
   "execution_count": 177,
   "id": "96e1bdd6",
   "metadata": {},
   "outputs": [
    {
     "data": {
      "text/plain": [
       "Index(['originalTitle', 'rating', 'startYear', 'endYear', 'runtimeMinutes',\n",
       "       'awardWins', 'numVotes', 'totalImages', 'totalVideos', 'totalCredits',\n",
       "       'criticReviewsTotal', 'titleType', 'awardNominationsExcludeWins',\n",
       "       'canHaveEpisodes', 'isAdult', 'numRegions', 'userReviewsTotal',\n",
       "       'is_Documentary', 'is_History', 'is_Adventure', 'is_Thriller',\n",
       "       'is_Game-Show', 'is_Comedy', 'is_Sci-Fi', 'is_Romance', 'is_Biography',\n",
       "       'is_Musical', 'is_Western', 'is_Music', 'is_Film-Noir', 'is_Adult',\n",
       "       'is_Reality-TV', 'is_News', 'is_Action', 'is_Crime', 'is_Short',\n",
       "       'is_Fantasy', 'is_Family', 'is_Mystery', 'is_Talk-Show', 'is_Drama',\n",
       "       'is_Sport', 'is_War', 'is_Horror', 'is_Animation',\n",
       "       'fill_runtimeMinutes', 'is_from_Oceania', 'is_from_North America',\n",
       "       'is_from_South America', 'is_from_Asia', 'is_from_Africa',\n",
       "       'is_from_Europe', 'countryOfOrigin', 'countryOfOrigin_freq_enc',\n",
       "       'countryOfOrigin_NA', 'countryOfOrigin_AF', 'countryOfOrigin_AS',\n",
       "       'countryOfOrigin_EU', 'countryOfOrigin_OC', 'countryOfOrigin_SA',\n",
       "       'countryOfOrigin_UNK', 'fill_runtimeMinutes_Bruno', 'totalNominations',\n",
       "       'totalMedia', 'runtimeMinutes_notitletype', 'log_totalNominations',\n",
       "       'log_nom_bin_cut', 'totalNominations_bin', 'log_totalMedia',\n",
       "       'media_bin', 'log_media_bin', 'log_fill_runtimeMinutes_Bruno',\n",
       "       'runtime_bin', 'log_runtime_bin', 'rating_bin', 'log_numVotes',\n",
       "       'log_numvotes_bin', 'numVotes_bin', 'startYear_bin', 'log_totalCredits',\n",
       "       'log_totalCredits_bin', 'totalCredits_bin', 'log_criticReviewsTotal',\n",
       "       'log_criticReviewsTotal_bin', 'criticReviewsTotal_bin',\n",
       "       'log_numRegions', 'log_numRegions_bin', 'numRegions_bin',\n",
       "       'log_userReviewsTotal', 'log_userReviewsTotal_bin',\n",
       "       'userReviewsTotal_bin', 'country_freq_bin', 'from_NorthAmerica_bin',\n",
       "       'from_Europe_bin', 'from_SouthAmerica_bin', 'from_Asia_bin',\n",
       "       'from_Oceania_bin', 'from_Africa_bin', 'from_Unknown_bin'],\n",
       "      dtype='object')"
      ]
     },
     "execution_count": 177,
     "metadata": {},
     "output_type": "execute_result"
    }
   ],
   "source": [
    "df_copy.columns"
   ]
  },
  {
   "cell_type": "code",
   "execution_count": 178,
   "id": "fc1bbf48",
   "metadata": {},
   "outputs": [],
   "source": [
    "cols = [\n",
    "        #\"canHaveEpisodes\", \n",
    "        #\"isAdult\",\n",
    "        #\"totalNominations_bin\", \n",
    "        #\"media_bin\",\n",
    "        \"rating_bin\", \"runtime_bin\", \"numVotes_bin\", \n",
    "        #\"startYear_bin\",\n",
    "        \"totalCredits_bin\", \n",
    "         \"criticReviewsTotal_bin\", \n",
    "         \"country_freq_bin\",\n",
    "        # \"numRegions_bin\", \n",
    "        # \"userReviewsTotal_bin\"\n",
    "        \"titleType\",\n",
    "        'from_NorthAmerica_bin','from_Europe_bin' , 'from_SouthAmerica_bin', 'from_Asia_bin', 'from_Oceania_bin', 'from_Africa_bin', 'from_Unknown_bin'\n",
    "]\n",
    "\n",
    "\n",
    "# #FUNZIONANTI COME BASE\n",
    "#     #     \"canHaveEpisodes\", \"isAdult\",\n",
    "#     #     \"totalNominations_bin\", \"media_bin\"\n",
    "#           \"rating_bin\", \"runtime_bin\", \"numVotes_bin\", \"startYear_bin\",\n",
    "#     #     \"totalCredits_bin\", \"criticReviewsTotal_bin\", \"numRegions_bin\", \"userReviewsTotal_bin\"\n",
    "#           \"titleType\",\n",
    "#           'from_NorthAmerica_bin', 'from_Europe_bin' ,'from_SouthAmerica_bin', 'from_Asia_bin', 'from_Oceania_bin', 'from_Africa_bin', 'from_Unknown_bin'\n",
    "\n",
    "#TUTTE\n",
    "    #     \"canHaveEpisodes\", \"isAdult\",\n",
    "    #     \"totalNominations_bin\", \"media_bin\"\n",
    "    #     \"rating_bin\", \"runtime_bin\", \"numVotes_bin\", \"startYear_bin\",\n",
    "    #     \"totalCredits_bin\", \"criticReviewsTotal_bin\", \"numRegions_bin\", \"userReviewsTotal_bin\"\n",
    "    #     \"titleType\",\n",
    "    #      'from_NorthAmerica_bin', 'from_Europe_bin' ,'from_SouthAmerica_bin', 'from_Asia_bin', 'from_Oceania_bin', 'from_Africa_bin', 'from_Unknown_bin'\n",
    "\n",
    "\n"
   ]
  },
  {
   "cell_type": "code",
   "execution_count": 179,
   "id": "87dc31d3",
   "metadata": {},
   "outputs": [
    {
     "name": "stdout",
     "output_type": "stream",
     "text": [
      "21556\n",
      "[['VeryHighRating', 'LowRuntime', 'VeryLowVotes', 'HighCredits', 'NoCriticReviews', 'alta_COFE', 'tvSpecial', 'is_from_NorthAmerica'], ['MediumRating', 'LowRuntime', 'LowVotes', 'MediumCredits', 'NoCriticReviews', 'bassa_COFE', 'movie', 'is_from_Unknown'], ['VeryLowRating', 'MediumRuntime', 'HighVotes', 'HighCredits', 'FewCriticReviews', 'alta_COFE', 'movie', 'is_from_NorthAmerica'], ['MediumRating', 'MediumRuntime', 'HighVotes', 'HighCredits', 'FewCriticReviews', 'media_COFE', 'movie', 'is_from_Europe'], ['VeryHighRating', 'VeryLowRuntime', 'VeryHighVotes', 'HighCredits', 'ModerateCriticReviews', 'alta_COFE', 'tvEpisode', 'is_from_NorthAmerica']]\n"
     ]
    }
   ],
   "source": [
    "transactions = []\n",
    "\n",
    "for index, row in df_copy[cols].iterrows():\n",
    "    transaction = []\n",
    "    for col in cols:\n",
    "        value = str(row[col])\n",
    "        if not value.startswith('not_'):  # Ignora 'none_from_*'\n",
    "            transaction.append(value)\n",
    "    transactions.append(transaction)\n",
    "\n",
    "# Verifica risultato\n",
    "print(len(transactions))\n",
    "print(transactions[10:15])\n"
   ]
  },
  {
   "cell_type": "code",
   "execution_count": 180,
   "id": "cee7c7d2",
   "metadata": {},
   "outputs": [
    {
     "name": "stdout",
     "output_type": "stream",
     "text": [
      "   ExtensiveCriticReviews  FewCriticReviews  HighCredits  HighRating  \\\n",
      "0                   False              True        False        True   \n",
      "1                   False             False        False       False   \n",
      "2                   False             False        False       False   \n",
      "3                   False             False        False        True   \n",
      "4                   False             False        False       False   \n",
      "\n",
      "   HighRuntime  HighVotes  LowCredits  LowRating  LowRuntime  LowVotes  ...  \\\n",
      "0        False       True        True      False        True     False  ...   \n",
      "1        False      False        True       True       False      True  ...   \n",
      "2        False      False       False       True        True     False  ...   \n",
      "3        False      False       False      False       False     False  ...   \n",
      "4        False      False       False      False        True     False  ...   \n",
      "\n",
      "   media_COFE  movie  short  tvEpisode  tvMiniSeries  tvMovie  tvSeries  \\\n",
      "0       False  False  False       True         False    False     False   \n",
      "1       False   True  False      False         False    False     False   \n",
      "2       False  False  False      False         False    False      True   \n",
      "3       False  False  False      False         False    False      True   \n",
      "4       False  False  False      False         False    False     False   \n",
      "\n",
      "   tvShort  tvSpecial  video  \n",
      "0    False      False  False  \n",
      "1    False      False  False  \n",
      "2    False      False  False  \n",
      "3    False      False  False  \n",
      "4    False      False   True  \n",
      "\n",
      "[5 rows x 45 columns]\n"
     ]
    }
   ],
   "source": [
    "# Let's utilize TransactionEncoder\n",
    "te = TransactionEncoder()\n",
    "te_array = te.fit(transactions).transform(transactions)\n",
    "df_apriori = pd.DataFrame(te_array, columns=te.columns_)\n",
    "\n",
    "# Visualizza le prime righe per assicurarti che la trasformazione sia corretta\n",
    "print(df_apriori.head())"
   ]
  },
  {
   "cell_type": "markdown",
   "id": "6a39fceb",
   "metadata": {},
   "source": []
  },
  {
   "cell_type": "markdown",
   "id": "8292a043",
   "metadata": {},
   "source": [
    "### Confronto itemset per support"
   ]
  },
  {
   "cell_type": "code",
   "execution_count": 181,
   "id": "a85a1e19",
   "metadata": {},
   "outputs": [
    {
     "data": {
      "image/png": "[encoded data removed]",
      "text/plain": [
       "<Figure size 1000x600 with 1 Axes>"
      ]
     },
     "metadata": {},
     "output_type": "display_data"
    }
   ],
   "source": [
    "# Genera una lista di min_sup da testare\n",
    "min_sups = [round(x, 2) for x in list(np.arange(0.01, 0.3, 0.01))]\n",
    "\n",
    "# Lista per salvare il numero di itemset per ciascun supporto\n",
    "num_itemsets = []\n",
    "\n",
    "# Calcolo degli itemset frequenti per ogni min_sup\n",
    "for min_sup in min_sups:\n",
    "    frequent_itemsets = apriori(df_apriori, min_support=min_sup, use_colnames=True)\n",
    "    num_itemsets.append(len(frequent_itemsets))\n",
    "\n",
    "# Plot\n",
    "plt.figure(figsize=(10,6))\n",
    "plt.plot(min_sups, num_itemsets, marker='o')\n",
    "plt.title('Number of frequent itemsets vs. min_support')\n",
    "plt.xlabel('min_support')\n",
    "plt.ylabel('Number of frequent itemsets')\n",
    "plt.grid(True)\n",
    "plt.show()\n"
   ]
  },
  {
   "cell_type": "markdown",
   "id": "96bb122a",
   "metadata": {},
   "source": [
    "### Apriori"
   ]
  },
  {
   "cell_type": "code",
   "execution_count": 182,
   "id": "7b2d1872",
   "metadata": {},
   "outputs": [
    {
     "name": "stdout",
     "output_type": "stream",
     "text": [
      "<class 'pandas.core.frame.DataFrame'>\n",
      "RangeIndex: 228 entries, 0 to 227\n",
      "Data columns (total 2 columns):\n",
      " #   Column    Non-Null Count  Dtype  \n",
      "---  ------    --------------  -----  \n",
      " 0   support   228 non-null    float64\n",
      " 1   itemsets  228 non-null    object \n",
      "dtypes: float64(1), object(1)\n",
      "memory usage: 3.7+ KB\n",
      "None\n",
      "     support                             itemsets\n",
      "0   0.116487                   (FewCriticReviews)\n",
      "1   0.204676                        (HighCredits)\n",
      "2   0.293283                         (HighRating)\n",
      "3   0.172945                          (HighVotes)\n",
      "4   0.272360                         (LowCredits)\n",
      "5   0.268324                          (LowRating)\n",
      "6   0.342550                         (LowRuntime)\n",
      "7   0.297319                           (LowVotes)\n",
      "8   0.242392                      (MediumCredits)\n",
      "9   0.277649                       (MediumRating)\n",
      "10  0.386621                      (MediumRuntime)\n",
      "11  0.186352                        (MediumVotes)\n",
      "12  0.105168              (ModerateCriticReviews)\n",
      "13  0.695027                    (NoCriticReviews)\n",
      "14  0.147198                     (VeryHighRating)\n",
      "15  0.236036                     (VeryLowCredits)\n",
      "16  0.232000                     (VeryLowRuntime)\n",
      "17  0.269020                       (VeryLowVotes)\n",
      "18  0.432548                          (alta_COFE)\n",
      "19  0.303952                         (bassa_COFE)\n",
      "20  0.149610                       (is_from_Asia)\n",
      "21  0.318380                     (is_from_Europe)\n",
      "22  0.475923               (is_from_NorthAmerica)\n",
      "23  0.263500                         (media_COFE)\n",
      "24  0.343849                              (movie)\n",
      "25  0.150306                              (short)\n",
      "26  0.292123                          (tvEpisode)\n",
      "27  0.084524                           (tvSeries)\n",
      "28  0.085034            (LowRuntime, HighCredits)\n",
      "29  0.080488         (HighCredits, MediumRuntime)\n",
      "30  0.108879       (NoCriticReviews, HighCredits)\n",
      "31  0.110410             (alta_COFE, HighCredits)\n",
      "32  0.121915  (is_from_NorthAmerica, HighCredits)\n",
      "33  0.087261             (tvEpisode, HighCredits)\n",
      "34  0.138523             (HighRating, LowRuntime)\n",
      "35  0.085313               (HighRating, LowVotes)\n",
      "36  0.209872        (HighRating, NoCriticReviews)\n",
      "37  0.136435              (alta_COFE, HighRating)\n",
      "38  0.088746         (HighRating, is_from_Europe)\n",
      "39  0.148914   (HighRating, is_from_NorthAmerica)\n",
      "40  0.082808             (HighRating, media_COFE)\n",
      "41  0.137734              (HighRating, tvEpisode)\n",
      "42  0.080813           (HighVotes, MediumRuntime)\n",
      "43  0.092550               (alta_COFE, HighVotes)\n",
      "44  0.098812    (HighVotes, is_from_NorthAmerica)\n",
      "45  0.081601             (LowRuntime, LowCredits)\n",
      "46  0.098580               (LowVotes, LowCredits)\n",
      "47  0.117415          (MediumRuntime, LowCredits)\n",
      "48  0.206439        (NoCriticReviews, LowCredits)\n",
      "49  0.089117           (LowCredits, VeryLowVotes)\n",
      "50  0.101225              (alta_COFE, LowCredits)\n"
     ]
    }
   ],
   "source": [
    "min_support = 0.08  # 10% supporto minimo\n",
    "min_confidence = 0.6  # 60% confidenza minima --> serve dopo nella fase di rules extraction\n",
    "\n",
    "# Apriori\n",
    "frequent_itemsets_apriori = apriori(df_apriori, min_support=min_support, use_colnames=True)\n",
    "\n",
    "# FRA -< Filtra gli itemset con almeno 2 item (lunghezza >= 2)\n",
    "    #frequent_itemsets_apriori = frequent_itemsets_apriori[frequent_itemsets_apriori['itemsets'].apply(lambda x: len(x) >= 2)]\n",
    "    #frequent_itemsets_apriori.reset_index(drop=True, inplace=True)\n",
    "\n",
    "print(frequent_itemsets_apriori.info())\n",
    "print(frequent_itemsets_apriori.head(51))"
   ]
  },
  {
   "cell_type": "markdown",
   "id": "29f0b50e",
   "metadata": {},
   "source": [
    "### maximal itemset"
   ]
  },
  {
   "cell_type": "code",
   "execution_count": 183,
   "id": "59583179",
   "metadata": {},
   "outputs": [
    {
     "name": "stdout",
     "output_type": "stream",
     "text": [
      "<class 'pandas.core.frame.DataFrame'>\n",
      "Index: 86 entries, 0 to 227\n",
      "Data columns (total 2 columns):\n",
      " #   Column    Non-Null Count  Dtype  \n",
      "---  ------    --------------  -----  \n",
      " 0   support   86 non-null     float64\n",
      " 1   itemsets  86 non-null     object \n",
      "dtypes: float64(1), object(1)\n",
      "memory usage: 2.0+ KB\n",
      "None\n",
      "     support                        itemsets\n",
      "0   0.116487              (FewCriticReviews)\n",
      "12  0.105168         (ModerateCriticReviews)\n",
      "27  0.084524                      (tvSeries)\n",
      "28  0.085034       (LowRuntime, HighCredits)\n",
      "29  0.080488    (HighCredits, MediumRuntime)\n",
      "30  0.108879  (NoCriticReviews, HighCredits)\n",
      "33  0.087261        (tvEpisode, HighCredits)\n",
      "35  0.085313          (HighRating, LowVotes)\n",
      "38  0.088746    (HighRating, is_from_Europe)\n",
      "40  0.082808        (HighRating, media_COFE)\n",
      "42  0.080813      (HighVotes, MediumRuntime)\n",
      "45  0.081601        (LowRuntime, LowCredits)\n",
      "51  0.094034        (bassa_COFE, LowCredits)\n",
      "52  0.084478    (is_from_Europe, LowCredits)\n",
      "55  0.081416           (LowVotes, LowRating)\n"
     ]
    }
   ],
   "source": [
    "# Find maximal itemsets (those that are not subsets of any other itemsets)\n",
    "maximal_itemsets_apriori = frequent_itemsets_apriori[frequent_itemsets_apriori['itemsets'].apply(lambda x: not any(x < y for y in frequent_itemsets_apriori['itemsets']))]\n",
    "\n",
    "# Display the results\n",
    "print(maximal_itemsets_apriori.info())\n",
    "print(maximal_itemsets_apriori.head(15))"
   ]
  },
  {
   "cell_type": "markdown",
   "id": "214165b2",
   "metadata": {},
   "source": [
    "### Association Rules"
   ]
  },
  {
   "cell_type": "code",
   "execution_count": 184,
   "id": "2554301a",
   "metadata": {},
   "outputs": [
    {
     "name": "stdout",
     "output_type": "stream",
     "text": [
      "<class 'pandas.core.frame.DataFrame'>\n",
      "RangeIndex: 197 entries, 0 to 196\n",
      "Data columns (total 14 columns):\n",
      " #   Column              Non-Null Count  Dtype  \n",
      "---  ------              --------------  -----  \n",
      " 0   antecedents         197 non-null    object \n",
      " 1   consequents         197 non-null    object \n",
      " 2   antecedent support  197 non-null    float64\n",
      " 3   consequent support  197 non-null    float64\n",
      " 4   support             197 non-null    float64\n",
      " 5   confidence          197 non-null    float64\n",
      " 6   lift                197 non-null    float64\n",
      " 7   representativity    197 non-null    float64\n",
      " 8   leverage            197 non-null    float64\n",
      " 9   conviction          197 non-null    float64\n",
      " 10  zhangs_metric       197 non-null    float64\n",
      " 11  jaccard             197 non-null    float64\n",
      " 12  certainty           197 non-null    float64\n",
      " 13  kulczynski          197 non-null    float64\n",
      "dtypes: float64(12), object(2)\n",
      "memory usage: 21.7+ KB\n"
     ]
    },
    {
     "data": {
      "text/html": [
       "<div>\n",
       "<style scoped>\n",
       "    .dataframe tbody tr th:only-of-type {\n",
       "        vertical-align: middle;\n",
       "    }\n",
       "\n",
       "    .dataframe tbody tr th {\n",
       "        vertical-align: top;\n",
       "    }\n",
       "\n",
       "    .dataframe thead th {\n",
       "        text-align: right;\n",
       "    }\n",
       "</style>\n",
       "<table border=\"1\" class=\"dataframe\">\n",
       "  <thead>\n",
       "    <tr style=\"text-align: right;\">\n",
       "      <th></th>\n",
       "      <th>antecedents</th>\n",
       "      <th>consequents</th>\n",
       "      <th>antecedent support</th>\n",
       "      <th>consequent support</th>\n",
       "      <th>support</th>\n",
       "      <th>confidence</th>\n",
       "      <th>lift</th>\n",
       "      <th>representativity</th>\n",
       "      <th>leverage</th>\n",
       "      <th>conviction</th>\n",
       "      <th>zhangs_metric</th>\n",
       "      <th>jaccard</th>\n",
       "      <th>certainty</th>\n",
       "      <th>kulczynski</th>\n",
       "    </tr>\n",
       "  </thead>\n",
       "  <tbody>\n",
       "    <tr>\n",
       "      <th>0</th>\n",
       "      <td>(HighRating)</td>\n",
       "      <td>(NoCriticReviews)</td>\n",
       "      <td>0.293283</td>\n",
       "      <td>0.695027</td>\n",
       "      <td>0.209872</td>\n",
       "      <td>0.715596</td>\n",
       "      <td>1.029595</td>\n",
       "      <td>1.0</td>\n",
       "      <td>0.006033</td>\n",
       "      <td>1.072325</td>\n",
       "      <td>0.040673</td>\n",
       "      <td>0.269607</td>\n",
       "      <td>0.067447</td>\n",
       "      <td>0.508779</td>\n",
       "    </tr>\n",
       "    <tr>\n",
       "      <th>1</th>\n",
       "      <td>(LowCredits)</td>\n",
       "      <td>(NoCriticReviews)</td>\n",
       "      <td>0.272360</td>\n",
       "      <td>0.695027</td>\n",
       "      <td>0.206439</td>\n",
       "      <td>0.757963</td>\n",
       "      <td>1.090552</td>\n",
       "      <td>1.0</td>\n",
       "      <td>0.017141</td>\n",
       "      <td>1.260026</td>\n",
       "      <td>0.114113</td>\n",
       "      <td>0.271292</td>\n",
       "      <td>0.206366</td>\n",
       "      <td>0.527493</td>\n",
       "    </tr>\n",
       "    <tr>\n",
       "      <th>2</th>\n",
       "      <td>(LowRating)</td>\n",
       "      <td>(NoCriticReviews)</td>\n",
       "      <td>0.268324</td>\n",
       "      <td>0.695027</td>\n",
       "      <td>0.174893</td>\n",
       "      <td>0.651798</td>\n",
       "      <td>0.937803</td>\n",
       "      <td>1.0</td>\n",
       "      <td>-0.011599</td>\n",
       "      <td>0.875851</td>\n",
       "      <td>-0.083111</td>\n",
       "      <td>0.221817</td>\n",
       "      <td>-0.141746</td>\n",
       "      <td>0.451717</td>\n",
       "    </tr>\n",
       "    <tr>\n",
       "      <th>3</th>\n",
       "      <td>(LowRuntime)</td>\n",
       "      <td>(NoCriticReviews)</td>\n",
       "      <td>0.342550</td>\n",
       "      <td>0.695027</td>\n",
       "      <td>0.270180</td>\n",
       "      <td>0.788732</td>\n",
       "      <td>1.134823</td>\n",
       "      <td>1.0</td>\n",
       "      <td>0.032099</td>\n",
       "      <td>1.443539</td>\n",
       "      <td>0.180706</td>\n",
       "      <td>0.352074</td>\n",
       "      <td>0.307258</td>\n",
       "      <td>0.588733</td>\n",
       "    </tr>\n",
       "    <tr>\n",
       "      <th>4</th>\n",
       "      <td>(tvEpisode)</td>\n",
       "      <td>(LowRuntime)</td>\n",
       "      <td>0.292123</td>\n",
       "      <td>0.342550</td>\n",
       "      <td>0.200176</td>\n",
       "      <td>0.685247</td>\n",
       "      <td>2.000431</td>\n",
       "      <td>1.0</td>\n",
       "      <td>0.100110</td>\n",
       "      <td>2.088781</td>\n",
       "      <td>0.706489</td>\n",
       "      <td>0.460709</td>\n",
       "      <td>0.521252</td>\n",
       "      <td>0.634809</td>\n",
       "    </tr>\n",
       "    <tr>\n",
       "      <th>5</th>\n",
       "      <td>(LowVotes)</td>\n",
       "      <td>(NoCriticReviews)</td>\n",
       "      <td>0.297319</td>\n",
       "      <td>0.695027</td>\n",
       "      <td>0.251345</td>\n",
       "      <td>0.845374</td>\n",
       "      <td>1.216318</td>\n",
       "      <td>1.0</td>\n",
       "      <td>0.044701</td>\n",
       "      <td>1.972323</td>\n",
       "      <td>0.253097</td>\n",
       "      <td>0.339197</td>\n",
       "      <td>0.492984</td>\n",
       "      <td>0.603504</td>\n",
       "    </tr>\n",
       "    <tr>\n",
       "      <th>6</th>\n",
       "      <td>(MediumCredits)</td>\n",
       "      <td>(NoCriticReviews)</td>\n",
       "      <td>0.242392</td>\n",
       "      <td>0.695027</td>\n",
       "      <td>0.162043</td>\n",
       "      <td>0.668517</td>\n",
       "      <td>0.961857</td>\n",
       "      <td>1.0</td>\n",
       "      <td>-0.006426</td>\n",
       "      <td>0.920026</td>\n",
       "      <td>-0.049739</td>\n",
       "      <td>0.208986</td>\n",
       "      <td>-0.086926</td>\n",
       "      <td>0.450832</td>\n",
       "    </tr>\n",
       "    <tr>\n",
       "      <th>7</th>\n",
       "      <td>(MediumRating)</td>\n",
       "      <td>(NoCriticReviews)</td>\n",
       "      <td>0.277649</td>\n",
       "      <td>0.695027</td>\n",
       "      <td>0.184125</td>\n",
       "      <td>0.663158</td>\n",
       "      <td>0.954147</td>\n",
       "      <td>1.0</td>\n",
       "      <td>-0.008848</td>\n",
       "      <td>0.905389</td>\n",
       "      <td>-0.062378</td>\n",
       "      <td>0.233498</td>\n",
       "      <td>-0.104498</td>\n",
       "      <td>0.464038</td>\n",
       "    </tr>\n",
       "    <tr>\n",
       "      <th>8</th>\n",
       "      <td>(movie)</td>\n",
       "      <td>(MediumRuntime)</td>\n",
       "      <td>0.343849</td>\n",
       "      <td>0.386621</td>\n",
       "      <td>0.298432</td>\n",
       "      <td>0.867917</td>\n",
       "      <td>2.244878</td>\n",
       "      <td>1.0</td>\n",
       "      <td>0.165493</td>\n",
       "      <td>4.643888</td>\n",
       "      <td>0.845143</td>\n",
       "      <td>0.690755</td>\n",
       "      <td>0.784663</td>\n",
       "      <td>0.819908</td>\n",
       "    </tr>\n",
       "    <tr>\n",
       "      <th>9</th>\n",
       "      <td>(MediumRuntime)</td>\n",
       "      <td>(movie)</td>\n",
       "      <td>0.386621</td>\n",
       "      <td>0.343849</td>\n",
       "      <td>0.298432</td>\n",
       "      <td>0.771898</td>\n",
       "      <td>2.244878</td>\n",
       "      <td>1.0</td>\n",
       "      <td>0.165493</td>\n",
       "      <td>2.876573</td>\n",
       "      <td>0.904076</td>\n",
       "      <td>0.690755</td>\n",
       "      <td>0.652364</td>\n",
       "      <td>0.819908</td>\n",
       "    </tr>\n",
       "  </tbody>\n",
       "</table>\n",
       "</div>"
      ],
      "text/plain": [
       "       antecedents        consequents  antecedent support  consequent support  \\\n",
       "0     (HighRating)  (NoCriticReviews)            0.293283            0.695027   \n",
       "1     (LowCredits)  (NoCriticReviews)            0.272360            0.695027   \n",
       "2      (LowRating)  (NoCriticReviews)            0.268324            0.695027   \n",
       "3     (LowRuntime)  (NoCriticReviews)            0.342550            0.695027   \n",
       "4      (tvEpisode)       (LowRuntime)            0.292123            0.342550   \n",
       "5       (LowVotes)  (NoCriticReviews)            0.297319            0.695027   \n",
       "6  (MediumCredits)  (NoCriticReviews)            0.242392            0.695027   \n",
       "7   (MediumRating)  (NoCriticReviews)            0.277649            0.695027   \n",
       "8          (movie)    (MediumRuntime)            0.343849            0.386621   \n",
       "9  (MediumRuntime)            (movie)            0.386621            0.343849   \n",
       "\n",
       "    support  confidence      lift  representativity  leverage  conviction  \\\n",
       "0  0.209872    0.715596  1.029595               1.0  0.006033    1.072325   \n",
       "1  0.206439    0.757963  1.090552               1.0  0.017141    1.260026   \n",
       "2  0.174893    0.651798  0.937803               1.0 -0.011599    0.875851   \n",
       "3  0.270180    0.788732  1.134823               1.0  0.032099    1.443539   \n",
       "4  0.200176    0.685247  2.000431               1.0  0.100110    2.088781   \n",
       "5  0.251345    0.845374  1.216318               1.0  0.044701    1.972323   \n",
       "6  0.162043    0.668517  0.961857               1.0 -0.006426    0.920026   \n",
       "7  0.184125    0.663158  0.954147               1.0 -0.008848    0.905389   \n",
       "8  0.298432    0.867917  2.244878               1.0  0.165493    4.643888   \n",
       "9  0.298432    0.771898  2.244878               1.0  0.165493    2.876573   \n",
       "\n",
       "   zhangs_metric   jaccard  certainty  kulczynski  \n",
       "0       0.040673  0.269607   0.067447    0.508779  \n",
       "1       0.114113  0.271292   0.206366    0.527493  \n",
       "2      -0.083111  0.221817  -0.141746    0.451717  \n",
       "3       0.180706  0.352074   0.307258    0.588733  \n",
       "4       0.706489  0.460709   0.521252    0.634809  \n",
       "5       0.253097  0.339197   0.492984    0.603504  \n",
       "6      -0.049739  0.208986  -0.086926    0.450832  \n",
       "7      -0.062378  0.233498  -0.104498    0.464038  \n",
       "8       0.845143  0.690755   0.784663    0.819908  \n",
       "9       0.904076  0.690755   0.652364    0.819908  "
      ]
     },
     "execution_count": 184,
     "metadata": {},
     "output_type": "execute_result"
    }
   ],
   "source": [
    "#Apriori\n",
    "rules_apriori = association_rules(frequent_itemsets_apriori, metric=\"confidence\", min_threshold=min_confidence)\n",
    "rules_apriori.info()\n",
    "rules_apriori.head(10)"
   ]
  },
  {
   "cell_type": "markdown",
   "id": "81a58645",
   "metadata": {},
   "source": [
    "### Scelta valori confidence"
   ]
  },
  {
   "cell_type": "code",
   "execution_count": 185,
   "id": "71dfaefe",
   "metadata": {},
   "outputs": [
    {
     "name": "stdout",
     "output_type": "stream",
     "text": [
      "min_confidence=0.4: 372 regole trovate, lift medio = 1.84\n",
      "min_confidence=0.5: 260 regole trovate, lift medio = 1.96\n",
      "min_confidence=0.6: 197 regole trovate, lift medio = 2.01\n",
      "min_confidence=0.7: 147 regole trovate, lift medio = 1.99\n"
     ]
    }
   ],
   "source": [
    "from mlxtend.frequent_patterns import association_rules\n",
    "\n",
    "conf_values = [0.4, 0.5, 0.6, 0.7]\n",
    "for c in conf_values:\n",
    "    rules = association_rules(frequent_itemsets_apriori, metric=\"confidence\", min_threshold=c)\n",
    "    print(f\"min_confidence={c}: {len(rules)} regole trovate, lift medio = {rules['lift'].mean():.2f}\")\n"
   ]
  },
  {
   "cell_type": "code",
   "execution_count": 186,
   "id": "afee199e",
   "metadata": {},
   "outputs": [
    {
     "data": {
      "text/html": [
       "<div>\n",
       "<style scoped>\n",
       "    .dataframe tbody tr th:only-of-type {\n",
       "        vertical-align: middle;\n",
       "    }\n",
       "\n",
       "    .dataframe tbody tr th {\n",
       "        vertical-align: top;\n",
       "    }\n",
       "\n",
       "    .dataframe thead th {\n",
       "        text-align: right;\n",
       "    }\n",
       "</style>\n",
       "<table border=\"1\" class=\"dataframe\">\n",
       "  <thead>\n",
       "    <tr style=\"text-align: right;\">\n",
       "      <th></th>\n",
       "      <th>antecedents</th>\n",
       "      <th>consequents</th>\n",
       "      <th>antecedent support</th>\n",
       "      <th>consequent support</th>\n",
       "      <th>support</th>\n",
       "      <th>confidence</th>\n",
       "      <th>lift</th>\n",
       "      <th>representativity</th>\n",
       "      <th>leverage</th>\n",
       "      <th>conviction</th>\n",
       "      <th>zhangs_metric</th>\n",
       "      <th>jaccard</th>\n",
       "      <th>certainty</th>\n",
       "      <th>kulczynski</th>\n",
       "    </tr>\n",
       "  </thead>\n",
       "  <tbody>\n",
       "    <tr>\n",
       "      <th>174</th>\n",
       "      <td>(alta_COFE, movie)</td>\n",
       "      <td>(is_from_NorthAmerica, MediumRuntime)</td>\n",
       "      <td>0.105122</td>\n",
       "      <td>0.152255</td>\n",
       "      <td>0.090184</td>\n",
       "      <td>0.857899</td>\n",
       "      <td>5.634637</td>\n",
       "      <td>1.0</td>\n",
       "      <td>0.074178</td>\n",
       "      <td>5.965811</td>\n",
       "      <td>0.919149</td>\n",
       "      <td>0.539401</td>\n",
       "      <td>0.832378</td>\n",
       "      <td>0.725111</td>\n",
       "    </tr>\n",
       "    <tr>\n",
       "      <th>175</th>\n",
       "      <td>(movie, is_from_NorthAmerica)</td>\n",
       "      <td>(alta_COFE, MediumRuntime)</td>\n",
       "      <td>0.122564</td>\n",
       "      <td>0.133420</td>\n",
       "      <td>0.090184</td>\n",
       "      <td>0.735806</td>\n",
       "      <td>5.514965</td>\n",
       "      <td>1.0</td>\n",
       "      <td>0.073831</td>\n",
       "      <td>3.280092</td>\n",
       "      <td>0.933032</td>\n",
       "      <td>0.543928</td>\n",
       "      <td>0.695131</td>\n",
       "      <td>0.705873</td>\n",
       "    </tr>\n",
       "    <tr>\n",
       "      <th>173</th>\n",
       "      <td>(alta_COFE, MediumRuntime)</td>\n",
       "      <td>(movie, is_from_NorthAmerica)</td>\n",
       "      <td>0.133420</td>\n",
       "      <td>0.122564</td>\n",
       "      <td>0.090184</td>\n",
       "      <td>0.675939</td>\n",
       "      <td>5.514965</td>\n",
       "      <td>1.0</td>\n",
       "      <td>0.073831</td>\n",
       "      <td>2.707623</td>\n",
       "      <td>0.944720</td>\n",
       "      <td>0.543928</td>\n",
       "      <td>0.630672</td>\n",
       "      <td>0.705873</td>\n",
       "    </tr>\n",
       "    <tr>\n",
       "      <th>119</th>\n",
       "      <td>(VeryLowCredits, VeryLowRuntime)</td>\n",
       "      <td>(short)</td>\n",
       "      <td>0.100297</td>\n",
       "      <td>0.150306</td>\n",
       "      <td>0.082297</td>\n",
       "      <td>0.820537</td>\n",
       "      <td>5.459101</td>\n",
       "      <td>1.0</td>\n",
       "      <td>0.067222</td>\n",
       "      <td>4.734634</td>\n",
       "      <td>0.907877</td>\n",
       "      <td>0.488975</td>\n",
       "      <td>0.788790</td>\n",
       "      <td>0.684034</td>\n",
       "    </tr>\n",
       "    <tr>\n",
       "      <th>118</th>\n",
       "      <td>(VeryLowCredits, short)</td>\n",
       "      <td>(VeryLowRuntime)</td>\n",
       "      <td>0.088931</td>\n",
       "      <td>0.232000</td>\n",
       "      <td>0.082297</td>\n",
       "      <td>0.925404</td>\n",
       "      <td>3.988805</td>\n",
       "      <td>1.0</td>\n",
       "      <td>0.061665</td>\n",
       "      <td>10.295492</td>\n",
       "      <td>0.822439</td>\n",
       "      <td>0.344868</td>\n",
       "      <td>0.902870</td>\n",
       "      <td>0.640067</td>\n",
       "    </tr>\n",
       "    <tr>\n",
       "      <th>...</th>\n",
       "      <td>...</td>\n",
       "      <td>...</td>\n",
       "      <td>...</td>\n",
       "      <td>...</td>\n",
       "      <td>...</td>\n",
       "      <td>...</td>\n",
       "      <td>...</td>\n",
       "      <td>...</td>\n",
       "      <td>...</td>\n",
       "      <td>...</td>\n",
       "      <td>...</td>\n",
       "      <td>...</td>\n",
       "      <td>...</td>\n",
       "      <td>...</td>\n",
       "    </tr>\n",
       "    <tr>\n",
       "      <th>19</th>\n",
       "      <td>(is_from_NorthAmerica)</td>\n",
       "      <td>(NoCriticReviews)</td>\n",
       "      <td>0.475923</td>\n",
       "      <td>0.695027</td>\n",
       "      <td>0.309195</td>\n",
       "      <td>0.649673</td>\n",
       "      <td>0.934746</td>\n",
       "      <td>1.0</td>\n",
       "      <td>-0.021585</td>\n",
       "      <td>0.870540</td>\n",
       "      <td>-0.117547</td>\n",
       "      <td>0.358796</td>\n",
       "      <td>-0.148713</td>\n",
       "      <td>0.547270</td>\n",
       "    </tr>\n",
       "    <tr>\n",
       "      <th>166</th>\n",
       "      <td>(movie, bassa_COFE, MediumRuntime)</td>\n",
       "      <td>(NoCriticReviews)</td>\n",
       "      <td>0.133745</td>\n",
       "      <td>0.695027</td>\n",
       "      <td>0.086704</td>\n",
       "      <td>0.648283</td>\n",
       "      <td>0.932745</td>\n",
       "      <td>1.0</td>\n",
       "      <td>-0.006252</td>\n",
       "      <td>0.867098</td>\n",
       "      <td>-0.076841</td>\n",
       "      <td>0.116842</td>\n",
       "      <td>-0.153272</td>\n",
       "      <td>0.386516</td>\n",
       "    </tr>\n",
       "    <tr>\n",
       "      <th>115</th>\n",
       "      <td>(movie, bassa_COFE)</td>\n",
       "      <td>(NoCriticReviews)</td>\n",
       "      <td>0.144229</td>\n",
       "      <td>0.695027</td>\n",
       "      <td>0.093153</td>\n",
       "      <td>0.645867</td>\n",
       "      <td>0.929269</td>\n",
       "      <td>1.0</td>\n",
       "      <td>-0.007090</td>\n",
       "      <td>0.861182</td>\n",
       "      <td>-0.081678</td>\n",
       "      <td>0.124852</td>\n",
       "      <td>-0.161195</td>\n",
       "      <td>0.389947</td>\n",
       "    </tr>\n",
       "    <tr>\n",
       "      <th>15</th>\n",
       "      <td>(alta_COFE)</td>\n",
       "      <td>(NoCriticReviews)</td>\n",
       "      <td>0.432548</td>\n",
       "      <td>0.695027</td>\n",
       "      <td>0.277371</td>\n",
       "      <td>0.641248</td>\n",
       "      <td>0.922624</td>\n",
       "      <td>1.0</td>\n",
       "      <td>-0.023262</td>\n",
       "      <td>0.850095</td>\n",
       "      <td>-0.128763</td>\n",
       "      <td>0.326240</td>\n",
       "      <td>-0.176339</td>\n",
       "      <td>0.520164</td>\n",
       "    </tr>\n",
       "    <tr>\n",
       "      <th>110</th>\n",
       "      <td>(alta_COFE, is_from_NorthAmerica)</td>\n",
       "      <td>(NoCriticReviews)</td>\n",
       "      <td>0.432548</td>\n",
       "      <td>0.695027</td>\n",
       "      <td>0.277371</td>\n",
       "      <td>0.641248</td>\n",
       "      <td>0.922624</td>\n",
       "      <td>1.0</td>\n",
       "      <td>-0.023262</td>\n",
       "      <td>0.850095</td>\n",
       "      <td>-0.128763</td>\n",
       "      <td>0.326240</td>\n",
       "      <td>-0.176339</td>\n",
       "      <td>0.520164</td>\n",
       "    </tr>\n",
       "  </tbody>\n",
       "</table>\n",
       "<p>197 rows × 14 columns</p>\n",
       "</div>"
      ],
      "text/plain": [
       "                            antecedents  \\\n",
       "174                  (alta_COFE, movie)   \n",
       "175       (movie, is_from_NorthAmerica)   \n",
       "173          (alta_COFE, MediumRuntime)   \n",
       "119    (VeryLowCredits, VeryLowRuntime)   \n",
       "118             (VeryLowCredits, short)   \n",
       "..                                  ...   \n",
       "19               (is_from_NorthAmerica)   \n",
       "166  (movie, bassa_COFE, MediumRuntime)   \n",
       "115                 (movie, bassa_COFE)   \n",
       "15                          (alta_COFE)   \n",
       "110   (alta_COFE, is_from_NorthAmerica)   \n",
       "\n",
       "                               consequents  antecedent support  \\\n",
       "174  (is_from_NorthAmerica, MediumRuntime)            0.105122   \n",
       "175             (alta_COFE, MediumRuntime)            0.122564   \n",
       "173          (movie, is_from_NorthAmerica)            0.133420   \n",
       "119                                (short)            0.100297   \n",
       "118                       (VeryLowRuntime)            0.088931   \n",
       "..                                     ...                 ...   \n",
       "19                       (NoCriticReviews)            0.475923   \n",
       "166                      (NoCriticReviews)            0.133745   \n",
       "115                      (NoCriticReviews)            0.144229   \n",
       "15                       (NoCriticReviews)            0.432548   \n",
       "110                      (NoCriticReviews)            0.432548   \n",
       "\n",
       "     consequent support   support  confidence      lift  representativity  \\\n",
       "174            0.152255  0.090184    0.857899  5.634637               1.0   \n",
       "175            0.133420  0.090184    0.735806  5.514965               1.0   \n",
       "173            0.122564  0.090184    0.675939  5.514965               1.0   \n",
       "119            0.150306  0.082297    0.820537  5.459101               1.0   \n",
       "118            0.232000  0.082297    0.925404  3.988805               1.0   \n",
       "..                  ...       ...         ...       ...               ...   \n",
       "19             0.695027  0.309195    0.649673  0.934746               1.0   \n",
       "166            0.695027  0.086704    0.648283  0.932745               1.0   \n",
       "115            0.695027  0.093153    0.645867  0.929269               1.0   \n",
       "15             0.695027  0.277371    0.641248  0.922624               1.0   \n",
       "110            0.695027  0.277371    0.641248  0.922624               1.0   \n",
       "\n",
       "     leverage  conviction  zhangs_metric   jaccard  certainty  kulczynski  \n",
       "174  0.074178    5.965811       0.919149  0.539401   0.832378    0.725111  \n",
       "175  0.073831    3.280092       0.933032  0.543928   0.695131    0.705873  \n",
       "173  0.073831    2.707623       0.944720  0.543928   0.630672    0.705873  \n",
       "119  0.067222    4.734634       0.907877  0.488975   0.788790    0.684034  \n",
       "118  0.061665   10.295492       0.822439  0.344868   0.902870    0.640067  \n",
       "..        ...         ...            ...       ...        ...         ...  \n",
       "19  -0.021585    0.870540      -0.117547  0.358796  -0.148713    0.547270  \n",
       "166 -0.006252    0.867098      -0.076841  0.116842  -0.153272    0.386516  \n",
       "115 -0.007090    0.861182      -0.081678  0.124852  -0.161195    0.389947  \n",
       "15  -0.023262    0.850095      -0.128763  0.326240  -0.176339    0.520164  \n",
       "110 -0.023262    0.850095      -0.128763  0.326240  -0.176339    0.520164  \n",
       "\n",
       "[197 rows x 14 columns]"
      ]
     },
     "execution_count": 186,
     "metadata": {},
     "output_type": "execute_result"
    }
   ],
   "source": [
    "rules_apriori.sort_values(by=\"lift\", axis=0, ascending=False)"
   ]
  },
  {
   "cell_type": "markdown",
   "id": "2a1feaec",
   "metadata": {},
   "source": [
    "### Target Prediction: various attempts (find the most informative one)"
   ]
  },
  {
   "cell_type": "code",
   "execution_count": 194,
   "id": "47410a0a",
   "metadata": {},
   "outputs": [
    {
     "name": "stdout",
     "output_type": "stream",
     "text": [
      "                                           antecedents  \\\n",
      "24                                         (alta_COFE)   \n",
      "121                        (alta_COFE, VeryLowCredits)   \n",
      "181            (alta_COFE, tvEpisode, NoCriticReviews)   \n",
      "176       (alta_COFE, NoCriticReviews, VeryLowRuntime)   \n",
      "169                  (alta_COFE, MediumRuntime, movie)   \n",
      "160             (alta_COFE, LowVotes, NoCriticReviews)   \n",
      "152                 (alta_COFE, LowRuntime, tvEpisode)   \n",
      "140           (alta_COFE, LowRuntime, NoCriticReviews)   \n",
      "136                 (alta_COFE, HighRating, tvEpisode)   \n",
      "131           (alta_COFE, HighRating, NoCriticReviews)   \n",
      "129                             (alta_COFE, tvEpisode)   \n",
      "127                                 (alta_COFE, movie)   \n",
      "125                          (alta_COFE, VeryLowVotes)   \n",
      "123                        (alta_COFE, VeryLowRuntime)   \n",
      "109                       (alta_COFE, NoCriticReviews)   \n",
      "96                            (alta_COFE, MediumVotes)   \n",
      "86                          (alta_COFE, MediumRuntime)   \n",
      "81                           (alta_COFE, MediumRating)   \n",
      "77                          (alta_COFE, MediumCredits)   \n",
      "73                               (alta_COFE, LowVotes)   \n",
      "59                             (alta_COFE, LowRuntime)   \n",
      "50                              (alta_COFE, LowRating)   \n",
      "46                             (alta_COFE, LowCredits)   \n",
      "39                              (alta_COFE, HighVotes)   \n",
      "35                             (alta_COFE, HighRating)   \n",
      "27                            (alta_COFE, HighCredits)   \n",
      "187  (alta_COFE, LowRuntime, NoCriticReviews, tvEpi...   \n",
      "38                             (HighRating, tvEpisode)   \n",
      "65                             (LowRuntime, tvEpisode)   \n",
      "151           (LowRuntime, NoCriticReviews, tvEpisode)   \n",
      "26                                         (tvEpisode)   \n",
      "\n",
      "                consequents  antecedent support  consequent support   support  \\\n",
      "24   (is_from_NorthAmerica)            0.432548            0.475923  0.432548   \n",
      "121  (is_from_NorthAmerica)            0.087632            0.475923  0.087632   \n",
      "181  (is_from_NorthAmerica)            0.123121            0.475923  0.123121   \n",
      "176  (is_from_NorthAmerica)            0.091529            0.475923  0.091529   \n",
      "169  (is_from_NorthAmerica)            0.090184            0.475923  0.090184   \n",
      "160  (is_from_NorthAmerica)            0.100714            0.475923  0.100714   \n",
      "152  (is_from_NorthAmerica)            0.119688            0.475923  0.119688   \n",
      "140  (is_from_NorthAmerica)            0.130033            0.475923  0.130033   \n",
      "136  (is_from_NorthAmerica)            0.082436            0.475923  0.082436   \n",
      "131  (is_from_NorthAmerica)            0.093014            0.475923  0.093014   \n",
      "129  (is_from_NorthAmerica)            0.166636            0.475923  0.166636   \n",
      "127  (is_from_NorthAmerica)            0.105122            0.475923  0.105122   \n",
      "125  (is_from_NorthAmerica)            0.082529            0.475923  0.082529   \n",
      "123  (is_from_NorthAmerica)            0.113704            0.475923  0.113704   \n",
      "109  (is_from_NorthAmerica)            0.277371            0.475923  0.277371   \n",
      "96   (is_from_NorthAmerica)            0.092225            0.475923  0.092225   \n",
      "86   (is_from_NorthAmerica)            0.133420            0.475923  0.133420   \n",
      "81   (is_from_NorthAmerica)            0.111477            0.475923  0.111477   \n",
      "77   (is_from_NorthAmerica)            0.103683            0.475923  0.103683   \n",
      "73   (is_from_NorthAmerica)            0.119781            0.475923  0.119781   \n",
      "59   (is_from_NorthAmerica)            0.175960            0.475923  0.175960   \n",
      "50   (is_from_NorthAmerica)            0.106745            0.475923  0.106745   \n",
      "46   (is_from_NorthAmerica)            0.101225            0.475923  0.101225   \n",
      "39   (is_from_NorthAmerica)            0.092550            0.475923  0.092550   \n",
      "35   (is_from_NorthAmerica)            0.136435            0.475923  0.136435   \n",
      "27   (is_from_NorthAmerica)            0.110410            0.475923  0.110410   \n",
      "187  (is_from_NorthAmerica)            0.088374            0.475923  0.088374   \n",
      "38   (is_from_NorthAmerica)            0.137734            0.475923  0.087261   \n",
      "65   (is_from_NorthAmerica)            0.200176            0.475923  0.126322   \n",
      "151  (is_from_NorthAmerica)            0.154110            0.475923  0.094173   \n",
      "26   (is_from_NorthAmerica)            0.292123            0.475923  0.177027   \n",
      "\n",
      "     confidence      lift  representativity  leverage  conviction  \\\n",
      "24     1.000000  2.101179               1.0  0.226688         inf   \n",
      "121    1.000000  2.101179               1.0  0.045926         inf   \n",
      "181    1.000000  2.101179               1.0  0.064525         inf   \n",
      "176    1.000000  2.101179               1.0  0.047968         inf   \n",
      "169    1.000000  2.101179               1.0  0.047263         inf   \n",
      "160    1.000000  2.101179               1.0  0.052782         inf   \n",
      "152    1.000000  2.101179               1.0  0.062726         inf   \n",
      "140    1.000000  2.101179               1.0  0.068147         inf   \n",
      "136    1.000000  2.101179               1.0  0.043203         inf   \n",
      "131    1.000000  2.101179               1.0  0.048746         inf   \n",
      "129    1.000000  2.101179               1.0  0.087330         inf   \n",
      "127    1.000000  2.101179               1.0  0.055092         inf   \n",
      "125    1.000000  2.101179               1.0  0.043252         inf   \n",
      "123    1.000000  2.101179               1.0  0.059590         inf   \n",
      "109    1.000000  2.101179               1.0  0.145363         inf   \n",
      "96     1.000000  2.101179               1.0  0.048333         inf   \n",
      "86     1.000000  2.101179               1.0  0.069922         inf   \n",
      "81     1.000000  2.101179               1.0  0.058423         inf   \n",
      "77     1.000000  2.101179               1.0  0.054338         inf   \n",
      "73     1.000000  2.101179               1.0  0.062774         inf   \n",
      "59     1.000000  2.101179               1.0  0.092217         inf   \n",
      "50     1.000000  2.101179               1.0  0.055943         inf   \n",
      "46     1.000000  2.101179               1.0  0.053050         inf   \n",
      "39     1.000000  2.101179               1.0  0.048503         inf   \n",
      "35     1.000000  2.101179               1.0  0.071503         inf   \n",
      "27     1.000000  2.101179               1.0  0.057863         inf   \n",
      "187    1.000000  2.101179               1.0  0.046315         inf   \n",
      "38     0.633547  1.331195               1.0  0.021710    1.430132   \n",
      "65     0.631054  1.325959               1.0  0.031054    1.420472   \n",
      "151    0.611078  1.283984               1.0  0.020829    1.347510   \n",
      "26     0.606003  1.273321               1.0  0.037999    1.330154   \n",
      "\n",
      "     zhangs_metric   jaccard  certainty  kulczynski  \n",
      "24        0.923561  0.908861   1.000000    0.954430  \n",
      "121       0.574414  0.184131   1.000000    0.592066  \n",
      "181       0.597662  0.258700   1.000000    0.629350  \n",
      "176       0.576878  0.192319   1.000000    0.596159  \n",
      "169       0.576025  0.189492   1.000000    0.594746  \n",
      "160       0.582770  0.211619   1.000000    0.605810  \n",
      "152       0.595331  0.251486   1.000000    0.625743  \n",
      "140       0.602410  0.273224   1.000000    0.636612  \n",
      "136       0.571161  0.173214   1.000000    0.586607  \n",
      "131       0.577822  0.195438   1.000000    0.597719  \n",
      "129       0.628869  0.350132   1.000000    0.675066  \n",
      "127       0.585640  0.220879   1.000000    0.610440  \n",
      "125       0.571219  0.173409   1.000000    0.586704  \n",
      "123       0.591311  0.238912   1.000000    0.619456  \n",
      "109       0.725236  0.582805   1.000000    0.791403  \n",
      "96        0.577320  0.193781   1.000000    0.596891  \n",
      "86        0.604764  0.280339   1.000000    0.640170  \n",
      "81        0.589829  0.234233   1.000000    0.617117  \n",
      "77        0.584701  0.217857   1.000000    0.608929  \n",
      "73        0.595394  0.251681   1.000000    0.625841  \n",
      "59        0.635985  0.369724   1.000000    0.684862  \n",
      "50        0.586705  0.224291   1.000000    0.612145  \n",
      "46        0.583101  0.212691   1.000000    0.606346  \n",
      "39        0.577527  0.194463   1.000000    0.597232  \n",
      "35        0.606876  0.286675   1.000000    0.643338  \n",
      "27        0.589122  0.231991   1.000000    0.615996  \n",
      "187       0.574882  0.185691   1.000000    0.592845  \n",
      "38        0.288537  0.165771   0.300764    0.408449  \n",
      "65        0.307354  0.229770   0.296009    0.448240  \n",
      "151       0.261469  0.175742   0.257891    0.404476  \n",
      "26        0.303233  0.299529   0.248207    0.488984  \n"
     ]
    }
   ],
   "source": [
    "# Filtro le regole con \"nord america\" nei consequents\n",
    "rules_north_am = rules_apriori[rules_apriori['consequents'] == frozenset({'is_from_NorthAmerica'})]\n",
    "\n",
    "\n",
    "# Ordina le regole per lift in ordine decrescente\n",
    "rules_north_am_sorted = rules_north_am.sort_values(by='lift', ascending=False)\n",
    "\n",
    "print(rules_north_am_sorted)"
   ]
  },
  {
   "cell_type": "code",
   "execution_count": null,
   "id": "c0f5a1bc",
   "metadata": {},
   "outputs": [
    {
     "name": "stdout",
     "output_type": "stream",
     "text": [
      "To predict: is_from_NorthAmerica\n",
      "How? alta_COFE\n"
     ]
    }
   ],
   "source": [
    "# Filter the rule where the consequent contains \"is_from_NorthAmerica\"\n",
    "rule_for_highrated = [r for r in rules_apriori.iterrows() if 'is_from_NorthAmerica' in r[1]['consequents']]\n",
    "\n",
    "# Extract rule details (antecedents and consequents)\n",
    "if len(rule_for_highrated) > 0:\n",
    "    selected_rule = rule_for_highrated[0][1]  # Take the first matching rule\n",
    "    to_predict = \", \".join(selected_rule['consequents'])  # Convert frozenset to string\n",
    "    how = \", \".join(selected_rule['antecedents'])  # Convert frozenset to string\n",
    "\n",
    "    print(\"To predict:\", to_predict)\n",
    "    print(\"How?\", how)\n",
    "else:\n",
    "    print(\"No rules found with 'is_from_NorthAmerica' in the consequents.\")\n"
   ]
  },
  {
   "cell_type": "code",
   "execution_count": null,
   "id": "455100af",
   "metadata": {},
   "outputs": [
    {
     "name": "stdout",
     "output_type": "stream",
     "text": [
      "Empty DataFrame\n",
      "Columns: [antecedents, consequents, antecedent support, consequent support, support, confidence, lift, representativity, leverage, conviction, zhangs_metric, jaccard, certainty, kulczynski]\n",
      "Index: []\n"
     ]
    }
   ],
   "source": [
    "# Filtro le regole con \"VeryFewRegions\" nei consequents\n",
    "rules_north_am = rules_apriori[rules_apriori['consequents'] == frozenset({'VeryFewRegions'})]\n",
    "\n",
    "# Ordina le regole per lift in ordine decrescente\n",
    "rules_north_am_sorted = rules_north_am.sort_values(by='lift', ascending=False)\n",
    "\n",
    "print(rules_north_am_sorted)"
   ]
  },
  {
   "cell_type": "code",
   "execution_count": null,
   "id": "e2b5a125",
   "metadata": {},
   "outputs": [
    {
     "name": "stdout",
     "output_type": "stream",
     "text": [
      "                                           antecedents   consequents  \\\n",
      "62                              (alta_COFE, tvEpisode)  (LowRuntime)   \n",
      "154       (alta_COFE, tvEpisode, is_from_NorthAmerica)  (LowRuntime)   \n",
      "147            (alta_COFE, tvEpisode, NoCriticReviews)  (LowRuntime)   \n",
      "190  (alta_COFE, tvEpisode, NoCriticReviews, is_fro...  (LowRuntime)   \n",
      "64                   (tvEpisode, is_from_NorthAmerica)  (LowRuntime)   \n",
      "150  (tvEpisode, is_from_NorthAmerica, NoCriticRevi...  (LowRuntime)   \n",
      "58                        (tvEpisode, NoCriticReviews)  (LowRuntime)   \n",
      "31                             (HighRating, tvEpisode)  (LowRuntime)   \n",
      "4                                          (tvEpisode)  (LowRuntime)   \n",
      "\n",
      "     antecedent support  consequent support   support  confidence      lift  \\\n",
      "62             0.166636             0.34255  0.119688    0.718263  2.096814   \n",
      "154            0.166636             0.34255  0.119688    0.718263  2.096814   \n",
      "147            0.123121             0.34255  0.088374    0.717784  2.095417   \n",
      "190            0.123121             0.34255  0.088374    0.717784  2.095417   \n",
      "64             0.177027             0.34255  0.126322    0.713574  2.083127   \n",
      "150            0.132260             0.34255  0.094173    0.712031  2.078621   \n",
      "58             0.224531             0.34255  0.154110    0.686364  2.003691   \n",
      "31             0.137734             0.34255  0.094498    0.686090  2.002891   \n",
      "4              0.292123             0.34255  0.200176    0.685247  2.000431   \n",
      "\n",
      "     representativity  leverage  conviction  zhangs_metric   jaccard  \\\n",
      "62                1.0  0.062607    2.333559       0.627680  0.307289   \n",
      "154               1.0  0.062607    2.333559       0.627680  0.307289   \n",
      "147               1.0  0.046199    2.329604       0.596169  0.234231   \n",
      "190               1.0  0.046199    2.329604       0.596169  0.234231   \n",
      "64                1.0  0.065682    2.295362       0.631798  0.321222   \n",
      "150               1.0  0.048868    2.283058       0.598004  0.247410   \n",
      "58                1.0  0.077197    2.096219       0.645959  0.373175   \n",
      "31                1.0  0.047317    2.094389       0.580705  0.244949   \n",
      "4                 1.0  0.100110    2.088781       0.706489  0.460709   \n",
      "\n",
      "     certainty  kulczynski  \n",
      "62    0.571470    0.533833  \n",
      "154   0.571470    0.533833  \n",
      "147   0.570742    0.487887  \n",
      "190   0.570742    0.487887  \n",
      "64    0.564339    0.541172  \n",
      "150   0.561991    0.493475  \n",
      "58    0.522951    0.568128  \n",
      "31    0.522534    0.480978  \n",
      "4     0.521252    0.634809  \n"
     ]
    }
   ],
   "source": [
    "# Filtro le regole con \"low runtime\" nei consequents\n",
    "rules_north_am = rules_apriori[rules_apriori['consequents'] == frozenset({'LowRuntime'})]\n",
    "\n",
    "# Ordina le regole per lift in ordine decrescente\n",
    "rules_north_am_sorted = rules_north_am.sort_values(by='lift', ascending=False)\n",
    "\n",
    "print(rules_north_am_sorted)"
   ]
  },
  {
   "cell_type": "code",
   "execution_count": 192,
   "id": "e201bf81",
   "metadata": {},
   "outputs": [
    {
     "name": "stdout",
     "output_type": "stream",
     "text": [
      "To predict: LowRuntime\n",
      "How? tvEpisode\n"
     ]
    }
   ],
   "source": [
    "# Filter the rule where the consequent contains \"HighRated\"\n",
    "rule_for_highrated = [r for r in rules_apriori.iterrows() if 'LowRuntime' in r[1]['consequents']]\n",
    "\n",
    "# Extract rule details (antecedents and consequents)\n",
    "if len(rule_for_highrated) > 0:\n",
    "    selected_rule = rule_for_highrated[0][1]  # Take the first matching rule\n",
    "    to_predict = \", \".join(selected_rule['consequents'])  # Convert frozenset to string\n",
    "    how = \", \".join(selected_rule['antecedents'])  # Convert frozenset to string\n",
    "\n",
    "    print(\"To predict:\", to_predict)\n",
    "    print(\"How?\", how)\n",
    "else:\n",
    "    print(\"No rules found with 'LowRuntime' in the consequents.\")\n"
   ]
  }
 ],
 "metadata": {
  "kernelspec": {
   "display_name": "Python 3",
   "language": "python",
   "name": "python3"
  },
  "language_info": {
   "codemirror_mode": {
    "name": "ipython",
    "version": 3
   },
   "file_extension": ".py",
   "mimetype": "text/x-python",
   "name": "python",
   "nbconvert_exporter": "python",
   "pygments_lexer": "ipython3",
   "version": "3.8.2"
  }
 },
 "nbformat": 4,
 "nbformat_minor": 5
}
