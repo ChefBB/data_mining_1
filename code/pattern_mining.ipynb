{
 "cells": [
  {
   "cell_type": "markdown",
   "id": "2cfa218c",
   "metadata": {},
   "source": [
    "# PATTERN MINING"
   ]
  },
  {
   "cell_type": "code",
   "execution_count": 1364,
   "id": "76c01c86",
   "metadata": {},
   "outputs": [],
   "source": [
    "import pandas as pd\n",
    "import seaborn as sns\n",
    "import matplotlib.pyplot as plt\n",
    "from mlxtend.preprocessing import TransactionEncoder\n",
    "from mlxtend.frequent_patterns import apriori, association_rules\n",
    "import numpy as np\n",
    "from mlxtend.frequent_patterns import fpgrowth"
   ]
  },
  {
   "cell_type": "code",
   "execution_count": 1365,
   "id": "a576fa9f",
   "metadata": {},
   "outputs": [],
   "source": [
    "train = pd.read_csv('pp_train.csv')\n",
    "test = pd.read_csv('pp_test.csv')\n",
    "#df = pd.concat([train, test], axis=0, ignore_index=True) #abbiamo unito train e test\n",
    "df = train"
   ]
  },
  {
   "cell_type": "code",
   "execution_count": 1366,
   "id": "5d4b04ba",
   "metadata": {},
   "outputs": [],
   "source": [
    "#df.info()"
   ]
  },
  {
   "cell_type": "code",
   "execution_count": 1367,
   "id": "9f754901",
   "metadata": {},
   "outputs": [
    {
     "data": {
      "text/plain": [
       "Index(['originalTitle', 'rating', 'startYear', 'endYear', 'runtimeMinutes',\n",
       "       'awardWins', 'numVotes', 'totalImages', 'totalVideos', 'totalCredits',\n",
       "       'criticReviewsTotal', 'titleType', 'awardNominationsExcludeWins',\n",
       "       'canHaveEpisodes', 'isAdult', 'numRegions', 'userReviewsTotal',\n",
       "       'is_Documentary', 'is_History', 'is_Adventure', 'is_Thriller',\n",
       "       'is_Game-Show', 'is_Comedy', 'is_Sci-Fi', 'is_Romance', 'is_Biography',\n",
       "       'is_Musical', 'is_Western', 'is_Music', 'is_Film-Noir', 'is_Adult',\n",
       "       'is_Reality-TV', 'is_News', 'is_Action', 'is_Crime', 'is_Short',\n",
       "       'is_Fantasy', 'is_Family', 'is_Mystery', 'is_Talk-Show', 'is_Drama',\n",
       "       'is_Sport', 'is_War', 'is_Horror', 'is_Animation',\n",
       "       'fill_runtimeMinutes', 'is_from_Oceania', 'is_from_North America',\n",
       "       'is_from_South America', 'is_from_Asia', 'is_from_Africa',\n",
       "       'is_from_Europe', 'countryOfOrigin', 'countryOfOrigin_freq_enc',\n",
       "       'countryOfOrigin_NA', 'countryOfOrigin_AF', 'countryOfOrigin_AS',\n",
       "       'countryOfOrigin_EU', 'countryOfOrigin_OC', 'countryOfOrigin_SA',\n",
       "       'countryOfOrigin_UNK', 'fill_runtimeMinutes_Bruno', 'totalNominations',\n",
       "       'totalMedia', 'runtimeMinutes_notitletype'],\n",
       "      dtype='object')"
      ]
     },
     "execution_count": 1367,
     "metadata": {},
     "output_type": "execute_result"
    }
   ],
   "source": [
    "df.columns"
   ]
  },
  {
   "cell_type": "markdown",
   "id": "8ed22a68",
   "metadata": {},
   "source": [
    "## Gestione variabili "
   ]
  },
  {
   "cell_type": "markdown",
   "id": "3163d36b",
   "metadata": {},
   "source": [
    "### Osservare la distribuzione delle numeriche per binning"
   ]
  },
  {
   "cell_type": "code",
   "execution_count": 1368,
   "id": "79e5c52d",
   "metadata": {},
   "outputs": [
    {
     "data": {
      "text/plain": [
       "startYear\n",
       "1878      1\n",
       "1891      1\n",
       "1893      1\n",
       "1894      5\n",
       "1895      5\n",
       "       ... \n",
       "2020    386\n",
       "2021    387\n",
       "2022    353\n",
       "2023    312\n",
       "2024    126\n",
       "Name: count, Length: 133, dtype: int64"
      ]
     },
     "execution_count": 1368,
     "metadata": {},
     "output_type": "execute_result"
    }
   ],
   "source": [
    "df['startYear'].value_counts().sort_index()\n",
    "#df['totalNominations'].value_counts().sort_index()\n",
    "# df['fill_runtimeMinutes_Bruno'].value_counts().sort_index()\n",
    "# df['totalMedia'].value_counts().sort_index()\n",
    "# df['numVotes'].value_counts().sort_index()\n",
    "# df['totalCredits'].value_counts().sort_index()\n",
    "# df['criticReviewsTotal'].value_counts().sort_index()\n",
    "# df['numRegions'].value_counts().sort_index()\n",
    "# df['userReviewsTotal'].value_counts().sort_index()\n",
    "# df['rating'].value_counts().sort_index()"
   ]
  },
  {
   "cell_type": "markdown",
   "id": "cc7cc7be",
   "metadata": {},
   "source": [
    "### Trasformazione binaria con valori semanticamente significativi\n",
    "#### episodes e adult"
   ]
  },
  {
   "cell_type": "code",
   "execution_count": 1369,
   "id": "e042ef05",
   "metadata": {},
   "outputs": [
    {
     "data": {
      "text/plain": [
       "0        cant_have_episodes\n",
       "1        cant_have_episodes\n",
       "2         can_have_episodes\n",
       "3         can_have_episodes\n",
       "4        cant_have_episodes\n",
       "                ...        \n",
       "16167    cant_have_episodes\n",
       "16168    cant_have_episodes\n",
       "16169    cant_have_episodes\n",
       "16170    cant_have_episodes\n",
       "16171    cant_have_episodes\n",
       "Name: canHaveEpisodes, Length: 16172, dtype: object"
      ]
     },
     "execution_count": 1369,
     "metadata": {},
     "output_type": "execute_result"
    }
   ],
   "source": [
    "df[\"canHaveEpisodes\"] = df[\"canHaveEpisodes\"].astype(int)\n",
    "canhaveeps_dict = {0: \"cant_have_episodes\", 1: \"can_have_episodes\"}\n",
    "df[\"canHaveEpisodes\"] = df[\"canHaveEpisodes\"].map(canhaveeps_dict)\n",
    "df[\"canHaveEpisodes\"]"
   ]
  },
  {
   "cell_type": "code",
   "execution_count": 1370,
   "id": "7fc9d917",
   "metadata": {},
   "outputs": [
    {
     "data": {
      "text/plain": [
       "0        is_not_adult\n",
       "1        is_not_adult\n",
       "2        is_not_adult\n",
       "3        is_not_adult\n",
       "4        is_not_adult\n",
       "             ...     \n",
       "16167    is_not_adult\n",
       "16168    is_not_adult\n",
       "16169    is_not_adult\n",
       "16170    is_not_adult\n",
       "16171    is_not_adult\n",
       "Name: isAdult, Length: 16172, dtype: object"
      ]
     },
     "execution_count": 1370,
     "metadata": {},
     "output_type": "execute_result"
    }
   ],
   "source": [
    "df[\"isAdult\"] = df[\"isAdult\"].astype(int)\n",
    "canhaveeps_dict = {0: \"is_not_adult\", 1: \"is_adult\"}\n",
    "df[\"isAdult\"] = df[\"isAdult\"].map(canhaveeps_dict)\n",
    "df[\"isAdult\"]"
   ]
  },
  {
   "cell_type": "markdown",
   "id": "60d775da",
   "metadata": {},
   "source": [
    "### Handling of numerical attributes\n",
    "Delle seguenti variabili: 'rating', 'startYear', 'numVotes', 'totalCredits', 'criticReviewsTotal', 'numRegions', 'userReviewsTotal',\n",
    "    'countryOfOrigin_freq_enc',\n",
    "       'countryOfOrigin_NA', 'countryOfOrigin_AF', 'countryOfOrigin_AS',\n",
    "       'countryOfOrigin_EU', 'countryOfOrigin_OC', 'countryOfOrigin_SA',\n",
    "       'countryOfOrigin_UNK'\n",
    "       'fill_runtimeMinutes_Bruno', 'totalNominations',\n",
    "       'totalMedia'"
   ]
  },
  {
   "cell_type": "code",
   "execution_count": 1371,
   "id": "696a72e4",
   "metadata": {},
   "outputs": [],
   "source": [
    "df_copy = df.copy()"
   ]
  },
  {
   "cell_type": "markdown",
   "id": "8f306dc5",
   "metadata": {},
   "source": [
    "##### TotalNominations"
   ]
  },
  {
   "cell_type": "code",
   "execution_count": 1372,
   "id": "5a0bf0ae",
   "metadata": {},
   "outputs": [],
   "source": [
    "df_copy[\"log_totalNominations\"] = np.log1p(df[\"totalNominations\"])"
   ]
  },
  {
   "cell_type": "code",
   "execution_count": 1373,
   "id": "d4effb5f",
   "metadata": {},
   "outputs": [
    {
     "name": "stdout",
     "output_type": "stream",
     "text": [
      "                   count       mean        std   min   25%   50%    75%    max\n",
      "log_nom_bin_cut                                                               \n",
      "ZeroNom          13468.0   0.000000   0.000000   0.0   0.0   0.0   0.00    0.0\n",
      "LowNom            1961.0   1.832738   1.019989   1.0   1.0   1.0   2.00    4.0\n",
      "MediumNom          608.0   9.000000   3.818364   5.0   6.0   8.0  11.25   19.0\n",
      "VeryHighNom        135.0  49.629630  42.109442  20.0  25.0  32.0  58.50  306.0\n"
     ]
    }
   ],
   "source": [
    "#TOTALNOMINATIONS LOG-TRANSFORMED\n",
    "log_bins = [-0.01, 0, np.log(5), np.log(20), df_copy['log_totalNominations'].max()]\n",
    "labels = ['ZeroNom', 'LowNom', 'MediumNom', 'VeryHighNom']\n",
    "\n",
    "df_copy['log_nom_bin_cut'] = pd.cut(df_copy['log_totalNominations'], \n",
    "                                bins=log_bins, \n",
    "                                labels=labels)\n",
    "\n",
    "print(df_copy.groupby('log_nom_bin_cut')['totalNominations'].describe())"
   ]
  },
  {
   "cell_type": "code",
   "execution_count": 1374,
   "id": "0247510d",
   "metadata": {},
   "outputs": [
    {
     "name": "stdout",
     "output_type": "stream",
     "text": [
      "                        count       mean        std   min   25%   50%   75%  \\\n",
      "totalNominations_bin                                                          \n",
      "ZeroNom               13468.0   0.000000   0.000000   0.0   0.0   0.0   0.0   \n",
      "LowNom                 1500.0   1.333333   0.471562   1.0   1.0   1.0   2.0   \n",
      "MediumNom               889.0   5.092238   2.047421   3.0   3.0   4.0   6.0   \n",
      "VeryHighNom             315.0  29.330159  32.716484  11.0  13.0  18.0  29.0   \n",
      "\n",
      "                        max  \n",
      "totalNominations_bin         \n",
      "ZeroNom                 0.0  \n",
      "LowNom                  2.0  \n",
      "MediumNom              10.0  \n",
      "VeryHighNom           306.0  \n"
     ]
    }
   ],
   "source": [
    "#TOTALNOMINATIONS NON LOG-TRANSFORMED   \n",
    "bins = [-1, 0, 2, 10, df_copy['totalNominations'].max()]\n",
    "labels = ['ZeroNom', 'LowNom', 'MediumNom', 'VeryHighNom']\n",
    "\n",
    "df_copy['totalNominations_bin'] = pd.cut(df_copy['totalNominations'], \n",
    "                                bins=bins, \n",
    "                                labels=labels)\n",
    "\n",
    "print(df_copy.groupby('totalNominations_bin')['totalNominations'].describe())"
   ]
  },
  {
   "cell_type": "markdown",
   "id": "c833fae1",
   "metadata": {},
   "source": [
    "##### TotalMedia"
   ]
  },
  {
   "cell_type": "code",
   "execution_count": 1375,
   "id": "b90d9794",
   "metadata": {},
   "outputs": [],
   "source": [
    "df_copy[\"log_totalMedia\"] = np.log1p(df[\"totalMedia\"])"
   ]
  },
  {
   "cell_type": "code",
   "execution_count": 1376,
   "id": "e4fbb6e7",
   "metadata": {},
   "outputs": [
    {
     "name": "stdout",
     "output_type": "stream",
     "text": [
      "                count        mean         std   min   25%   50%    75%     max\n",
      "media_bin                                                                     \n",
      "ZeroMedia      3244.0    0.000000    0.000000   0.0   0.0   0.0    0.0     0.0\n",
      "LowMedia       4718.0    1.000000    0.000000   1.0   1.0   1.0    1.0     1.0\n",
      "MediumMedia    5036.0    3.853058    1.916388   2.0   2.0   3.0    5.0     8.0\n",
      "HighMedia      2491.0   19.391811   10.393224   9.0  11.0  16.0   25.0    50.0\n",
      "VeryHighMedia   683.0  172.879941  324.980243  51.0  67.0  91.0  145.0  3516.0\n"
     ]
    }
   ],
   "source": [
    "#TOTALMEDIA NON LOG-TRANSFORMED\n",
    "bins = [-1, 0, 1, 8, 50, df_copy['totalMedia'].max()]\n",
    "labels = ['ZeroMedia', 'LowMedia', 'MediumMedia', 'HighMedia', 'VeryHighMedia']\n",
    "df_copy['media_bin'] = pd.cut(df_copy['totalMedia'], bins=bins, labels=labels)\n",
    "\n",
    "print(df_copy.groupby('media_bin')['totalMedia'].describe())"
   ]
  },
  {
   "cell_type": "code",
   "execution_count": 1377,
   "id": "d92d6f02",
   "metadata": {},
   "outputs": [
    {
     "name": "stdout",
     "output_type": "stream",
     "text": [
      "                count      mean       std  min  25%  50%  75%  max\n",
      "log_media_bin                                                     \n",
      "ZeroMedia      3244.0  0.000000  0.000000  0.0  0.0  0.0  0.0  0.0\n",
      "LowMedia       4718.0  1.000000  0.000000  1.0  1.0  1.0  1.0  1.0\n",
      "MediumMedia    2704.0  2.345414  0.475591  2.0  2.0  2.0  3.0  3.0\n",
      "HighMedia       708.0  4.000000  0.000000  4.0  4.0  4.0  4.0  4.0\n",
      "VeryHighMedia  1624.0  6.299261  1.110239  5.0  5.0  6.0  7.0  8.0\n"
     ]
    }
   ],
   "source": [
    "#TOTALMEDIA LOG-TRANSFORMED\n",
    "log_bins = [-1, 0, 1.61, 3.1, 4.0, np.log(df_copy['totalMedia'].max())]\n",
    "labels = ['ZeroMedia', 'LowMedia', 'MediumMedia', 'HighMedia', 'VeryHighMedia']\n",
    "df_copy['log_media_bin'] = pd.cut(df_copy['totalMedia'], bins=log_bins, labels=labels)\n",
    "\n",
    "print(df_copy.groupby('log_media_bin')['totalMedia'].describe())"
   ]
  },
  {
   "cell_type": "markdown",
   "id": "1d7742b9",
   "metadata": {},
   "source": [
    "##### fill_runtimeMinutes_Bruno"
   ]
  },
  {
   "cell_type": "code",
   "execution_count": 1378,
   "id": "6cde13a3",
   "metadata": {},
   "outputs": [],
   "source": [
    "df_copy[\"log_fill_runtimeMinutes_Bruno\"] = np.log1p(df[\"fill_runtimeMinutes_Bruno\"])"
   ]
  },
  {
   "cell_type": "code",
   "execution_count": 1379,
   "id": "0b5a0207",
   "metadata": {},
   "outputs": [
    {
     "name": "stdout",
     "output_type": "stream",
     "text": [
      "                  count        mean         std    min    25%    50%    75%  \\\n",
      "runtime_bin                                                                   \n",
      "VeryLowRuntime   3785.0   14.903303    7.492149    0.0    8.0   15.0   22.0   \n",
      "LowRuntime       5560.0   42.296223   11.042357   26.0   30.0   43.0   50.0   \n",
      "MediumRuntime    6194.0   89.693252   12.032890   61.0   83.0   90.0   97.0   \n",
      "HighRuntime       524.0  142.404580   16.687101  121.0  129.0  138.0  152.0   \n",
      "VeryHighRuntime   109.0  296.715596  294.919483  181.0  199.0  225.0  309.0   \n",
      "\n",
      "                    max  \n",
      "runtime_bin              \n",
      "VeryLowRuntime     25.0  \n",
      "LowRuntime         60.0  \n",
      "MediumRuntime     120.0  \n",
      "HighRuntime       180.0  \n",
      "VeryHighRuntime  3000.0  \n"
     ]
    }
   ],
   "source": [
    "#FILL_RUNTIMEMINS_BRUNO NON LOG-TRANSFORMED\n",
    "bins = [-1, 25, 60, 120, 180, df_copy['fill_runtimeMinutes_Bruno'].max()]\n",
    "labels = ['VeryLowRuntime', 'LowRuntime', 'MediumRuntime', 'HighRuntime', \"VeryHighRuntime\"]\n",
    "\n",
    "df_copy['runtime_bin'] = pd.cut(df_copy['fill_runtimeMinutes_Bruno'], bins=bins, labels=labels)\n",
    "print(df_copy.groupby('runtime_bin')['fill_runtimeMinutes_Bruno'].describe())"
   ]
  },
  {
   "cell_type": "code",
   "execution_count": 1380,
   "id": "8940dcae",
   "metadata": {},
   "outputs": [
    {
     "name": "stdout",
     "output_type": "stream",
     "text": [
      "                  count        mean         std    min    25%    50%    75%  \\\n",
      "log_runtime_bin                                                               \n",
      "VeryLowRuntime    557.0    3.847397    1.731027    0.0    3.0    4.0    5.0   \n",
      "LowRuntime       5157.0   21.527438    7.949552    7.0   14.0   24.0   30.0   \n",
      "MediumRuntime    6460.0   62.572910   16.917661   33.0   46.0   60.0   80.0   \n",
      "HighRuntime      3957.0  105.715694   22.297381   90.0   92.0   98.0  109.0   \n",
      "VeryHighRuntime    41.0  448.780488  443.042465  247.0  291.0  352.0  420.0   \n",
      "\n",
      "                    max  \n",
      "log_runtime_bin          \n",
      "VeryLowRuntime      6.0  \n",
      "LowRuntime         32.0  \n",
      "MediumRuntime      89.0  \n",
      "HighRuntime       241.0  \n",
      "VeryHighRuntime  3000.0  \n"
     ]
    }
   ],
   "source": [
    "#FILL_RUNTIMEMINS_BRUNO LOG-TRANSFORMED\n",
    "bins = [-np.inf, 2.0, 3.5, 4.5, 5.5, np.inf]\n",
    "labels = ['VeryLowRuntime', 'LowRuntime', 'MediumRuntime', 'HighRuntime', 'VeryHighRuntime']\n",
    "\n",
    "df_copy['log_runtime_bin'] = pd.cut(\n",
    "    df_copy['log_fill_runtimeMinutes_Bruno'],\n",
    "    bins=bins,\n",
    "    labels=labels,\n",
    "    ordered=True)\n",
    "\n",
    "print(df_copy.groupby('log_runtime_bin')['fill_runtimeMinutes_Bruno'].describe())"
   ]
  },
  {
   "cell_type": "markdown",
   "id": "7118ec87",
   "metadata": {},
   "source": [
    "##### rating"
   ]
  },
  {
   "cell_type": "code",
   "execution_count": 1381,
   "id": "75d4b05e",
   "metadata": {},
   "outputs": [
    {
     "name": "stdout",
     "output_type": "stream",
     "text": [
      "rating_bin\n",
      "HighRating        4743\n",
      "MediumRating      4493\n",
      "LowRating         4336\n",
      "VeryHighRating    2380\n",
      "VeryLowRating      220\n",
      "Name: count, dtype: int64\n",
      "                 count      mean       std  min  25%  50%  75%   max\n",
      "rating_bin                                                          \n",
      "VeryLowRating    220.0  2.677273  0.515009  1.0  2.0  3.0  3.0   3.0\n",
      "LowRating       4336.0  5.526522  0.679397  4.0  5.0  6.0  6.0   6.0\n",
      "MediumRating    4493.0  7.000000  0.000000  7.0  7.0  7.0  7.0   7.0\n",
      "HighRating      4743.0  8.000000  0.000000  8.0  8.0  8.0  8.0   8.0\n",
      "VeryHighRating  2380.0  9.144538  0.351708  9.0  9.0  9.0  9.0  10.0\n"
     ]
    }
   ],
   "source": [
    "#RATING \n",
    "bins = [-1, 3, 6, 7, 8, df_copy['rating'].max()]\n",
    "labels = ['VeryLowRating', 'LowRating', 'MediumRating', 'HighRating', \"VeryHighRating\"]\n",
    "df_copy['rating_bin'] = pd.cut(df_copy['rating'], bins=bins, labels=labels)\n",
    "\n",
    "print(df_copy['rating_bin'].value_counts())\n",
    "print(df_copy.groupby('rating_bin')['rating'].describe())"
   ]
  },
  {
   "cell_type": "markdown",
   "id": "ad7cfcac",
   "metadata": {},
   "source": [
    "##### numVotes"
   ]
  },
  {
   "cell_type": "code",
   "execution_count": 1382,
   "id": "23c1a18c",
   "metadata": {},
   "outputs": [],
   "source": [
    "df_copy[\"log_numVotes\"] = np.log1p(df[\"numVotes\"])"
   ]
  },
  {
   "cell_type": "code",
   "execution_count": 1383,
   "id": "85b5da11",
   "metadata": {},
   "outputs": [
    {
     "name": "stdout",
     "output_type": "stream",
     "text": [
      "                   count          mean            std     min      25%  \\\n",
      "log_numvotes_bin                                                         \n",
      "VeryLowVotes      3666.0      9.181124       2.338580     5.0     7.00   \n",
      "LowVotes          5413.0     26.096250       9.584849    14.0    18.00   \n",
      "MediumVotes       3038.0     87.668203      27.553615    49.0    64.00   \n",
      "HighVotes         3484.0    624.902985     586.882406   148.0   228.75   \n",
      "VeryHighVotes      571.0  38164.800350  101425.457222  2980.0  4124.50   \n",
      "\n",
      "                     50%      75%       max  \n",
      "log_numvotes_bin                             \n",
      "VeryLowVotes         9.0     11.0      13.0  \n",
      "LowVotes            24.0     33.0      48.0  \n",
      "MediumVotes         83.0    109.0     147.0  \n",
      "HighVotes          390.0    783.0    2973.0  \n",
      "VeryHighVotes     6905.0  21639.0  966565.0  \n"
     ]
    }
   ],
   "source": [
    "#NUMVOTES LOG-TRANSFORMED\n",
    "bins = [-np.inf, 2.7, 3.9, 5.0, 8.0, np.inf]\n",
    "labels = ['VeryLowVotes', 'LowVotes', 'MediumVotes', 'HighVotes', 'VeryHighVotes']\n",
    "\n",
    "# Applicazione\n",
    "df_copy['log_numvotes_bin'] = pd.cut(\n",
    "    df_copy['log_numVotes'],\n",
    "    bins=bins,\n",
    "    labels=labels\n",
    ")\n",
    "\n",
    "print(df_copy.groupby('log_numvotes_bin')['numVotes'].describe())"
   ]
  },
  {
   "cell_type": "code",
   "execution_count": 1384,
   "id": "1eef9d03",
   "metadata": {},
   "outputs": [
    {
     "name": "stdout",
     "output_type": "stream",
     "text": [
      "                count          mean           std     min     25%     50%  \\\n",
      "numVotes_bin                                                                \n",
      "VeryLowVotes   4342.0     10.011055      2.896966     5.0     8.0    10.0   \n",
      "LowVotes       4858.0     28.290860      9.616359    16.0    20.0    26.0   \n",
      "MediumVotes    2962.0     90.160027     27.750907    51.0    66.0    85.0   \n",
      "HighVotes      2811.0    394.016364    221.960919   151.0   214.0   324.0   \n",
      "VeryHighVotes  1199.0  19061.698916  72296.465442  1001.0  1542.0  2802.0   \n",
      "\n",
      "                  75%       max  \n",
      "numVotes_bin                     \n",
      "VeryLowVotes     12.0      15.0  \n",
      "LowVotes         35.0      50.0  \n",
      "MediumVotes     111.0     150.0  \n",
      "HighVotes       521.0     997.0  \n",
      "VeryHighVotes  6440.5  966565.0  \n"
     ]
    }
   ],
   "source": [
    "#NUMVOTES NON LOG-TRANSFORMED\n",
    "labels = ['VeryLowVotes', 'LowVotes', 'MediumVotes', 'HighVotes', 'VeryHighVotes']\n",
    "bins = [4, 15, 50, 150, 1000, float('inf')]  # include il min=5 e max=1.071.372\n",
    "\n",
    "df_copy['numVotes_bin'] = pd.cut(df['numVotes'], bins=bins, labels=labels, include_lowest=True)\n",
    "print(df_copy.groupby('numVotes_bin')['numVotes'].describe())"
   ]
  },
  {
   "cell_type": "markdown",
   "id": "acb00d92",
   "metadata": {},
   "source": [
    "##### StartYear"
   ]
  },
  {
   "cell_type": "code",
   "execution_count": 1385,
   "id": "6cd220b5",
   "metadata": {},
   "outputs": [
    {
     "name": "stdout",
     "output_type": "stream",
     "text": [
      "                count         mean        std     min      25%     50%  \\\n",
      "startYear_bin                                                            \n",
      "pre-1930        528.0  1914.831439  11.311025  1891.0  1905.75  1916.0   \n",
      "1930-1954      1054.0  1943.922201   7.444484  1931.0  1937.00  1944.0   \n",
      "1955-1979      2948.0  1969.436906   6.904980  1956.0  1964.00  1970.0   \n",
      "1980-1999      4394.0  1991.327720   5.392791  1981.0  1987.00  1992.0   \n",
      "2000-2019      4064.0  2008.979085   4.125022  2001.0  2006.00  2009.0   \n",
      "post-2020      3183.0  2019.513981   2.389949  2016.0  2017.00  2019.0   \n",
      "\n",
      "                  75%     max  \n",
      "startYear_bin                  \n",
      "pre-1930       1925.0  1930.0  \n",
      "1930-1954      1951.0  1955.0  \n",
      "1955-1979      1975.0  1980.0  \n",
      "1980-1999      1996.0  1999.0  \n",
      "2000-2019      2012.0  2015.0  \n",
      "post-2020      2021.0  2024.0  \n"
     ]
    }
   ],
   "source": [
    "#STARTYEAR\n",
    "bins =[\n",
    "    1878,  # Cinema delle origini e muto\n",
    "    1930,  # Cinema sonoro classico e radio\n",
    "    1955,  # TV B/N e colore, cinema widescreen\n",
    "    1980,  # Video domestico e media transazionali\n",
    "    2000,  # DVD, internet e mobile\n",
    "    2015,  # Streaming integrato e nuovi media\n",
    "    df_copy['startYear'].max()] #era corrente\n",
    "labels = ['pre-1930', '1930-1954', '1955-1979', '1980-1999', '2000-2019', 'post-2020']\n",
    "df_copy['startYear_bin'] = pd.cut(df_copy['startYear'], bins=bins, labels=labels)\n",
    "\n",
    "print(df_copy.groupby('startYear_bin')['startYear'].describe())"
   ]
  },
  {
   "cell_type": "markdown",
   "id": "7171b585",
   "metadata": {},
   "source": [
    "##### totalCredits"
   ]
  },
  {
   "cell_type": "code",
   "execution_count": 1386,
   "id": "0335fa18",
   "metadata": {},
   "outputs": [],
   "source": [
    "df_copy[\"log_totalCredits\"] = np.log1p(df[\"totalCredits\"])"
   ]
  },
  {
   "cell_type": "code",
   "execution_count": 1387,
   "id": "2a648f87",
   "metadata": {},
   "outputs": [],
   "source": [
    "#TOTALCREDITS LOG-TRANSFORMED\n",
    "bins = [-np.inf, 2.0, 3.0, 4.2, 6.0, np.inf]\n",
    "labels = ['VeryLowCredits', 'LowCredits', 'MediumCredits', 'HighCredits', 'VeryHighCredits']\n",
    "\n",
    "df_copy['log_totalCredits_bin'] = pd.cut(df_copy['log_totalCredits'], bins=bins, labels=labels)"
   ]
  },
  {
   "cell_type": "code",
   "execution_count": 1388,
   "id": "d922877a",
   "metadata": {},
   "outputs": [
    {
     "name": "stdout",
     "output_type": "stream",
     "text": [
      "                       count        mean          std    min    25%    50%  \\\n",
      "log_totalCredits_bin                                                         \n",
      "VeryLowCredits        1369.0    3.424397     1.916462    0.0    2.0    4.0   \n",
      "LowCredits            3488.0   12.847764     3.717982    7.0   10.0   13.0   \n",
      "MediumCredits         7273.0   38.512856    12.718871   20.0   27.0   37.0   \n",
      "HighCredits           3854.0  129.102750    67.472930   66.0   80.0  106.0   \n",
      "VeryHighCredits        188.0  912.569149  1281.549009  403.0  499.0  619.5   \n",
      "\n",
      "                         75%      max  \n",
      "log_totalCredits_bin                   \n",
      "VeryLowCredits          5.00      6.0  \n",
      "LowCredits             16.00     19.0  \n",
      "MediumCredits          48.00     65.0  \n",
      "HighCredits           153.00    402.0  \n",
      "VeryHighCredits       893.75  15742.0  \n"
     ]
    }
   ],
   "source": [
    "print(df_copy.groupby('log_totalCredits_bin')['totalCredits'].describe())"
   ]
  },
  {
   "cell_type": "code",
   "execution_count": 1389,
   "id": "f2ddb706",
   "metadata": {},
   "outputs": [],
   "source": [
    "#TOTALCREDITS NON LOG-TRANSFORMED\n",
    "labels = ['VeryLowCredits', 'LowCredits', 'MediumCredits', 'HighCredits', 'VeryHighCredits']\n",
    "bins = [-1, 15, 35, 65, 200, float('inf')]\n",
    "\n",
    "df_copy['totalCredits_bin'] = pd.cut(df['totalCredits'], bins=bins, labels=labels, include_lowest=True)"
   ]
  },
  {
   "cell_type": "code",
   "execution_count": 1390,
   "id": "26b87880",
   "metadata": {},
   "outputs": [
    {
     "name": "stdout",
     "output_type": "stream",
     "text": [
      "                   count        mean         std    min    25%    50%    75%  \\\n",
      "totalCredits_bin                                                               \n",
      "VeryLowCredits    3849.0    8.286568    4.323488    0.0    5.0    8.0   12.0   \n",
      "LowCredits        4395.0   24.857793    5.734295   16.0   20.0   25.0   30.0   \n",
      "MediumCredits     3886.0   48.497169    8.379934   36.0   41.0   48.0   55.0   \n",
      "HighCredits       3336.0  107.252098   35.102074   66.0   78.0   98.0  130.0   \n",
      "VeryHighCredits    706.0  440.980170  720.213857  201.0  234.0  288.0  419.5   \n",
      "\n",
      "                      max  \n",
      "totalCredits_bin           \n",
      "VeryLowCredits       15.0  \n",
      "LowCredits           35.0  \n",
      "MediumCredits        65.0  \n",
      "HighCredits         200.0  \n",
      "VeryHighCredits   15742.0  \n"
     ]
    }
   ],
   "source": [
    "print(df_copy.groupby('totalCredits_bin')['totalCredits'].describe())"
   ]
  },
  {
   "cell_type": "markdown",
   "id": "d763024d",
   "metadata": {},
   "source": [
    "##### criticReviewsTotal"
   ]
  },
  {
   "cell_type": "code",
   "execution_count": 1391,
   "id": "a236ddc9",
   "metadata": {},
   "outputs": [],
   "source": [
    "df_copy[\"log_criticReviewsTotal\"] = np.log1p(df[\"criticReviewsTotal\"])"
   ]
  },
  {
   "cell_type": "code",
   "execution_count": 1392,
   "id": "63c52e95",
   "metadata": {},
   "outputs": [],
   "source": [
    "#CRITICREVIEWS LOG-TRANSFORMED\n",
    "bins = [-0.01, 0.0, 1.4, 2.3, 3.4, 4.6, np.inf]\n",
    "labels = [\n",
    "    'NoCriticReviews',\n",
    "    'FewCriticReviews',\n",
    "    'ModerateCriticReviews',\n",
    "    'ManyCriticReviews',\n",
    "    'VeryHighCriticReviews',\n",
    "    'ExtensiveCriticReviews'\n",
    "]\n",
    "\n",
    "df_copy['log_criticReviewsTotal_bin'] = pd.cut(\n",
    "    df_copy['log_criticReviewsTotal'],\n",
    "    bins=bins,\n",
    "    labels=labels\n",
    ")"
   ]
  },
  {
   "cell_type": "code",
   "execution_count": 1393,
   "id": "af978484",
   "metadata": {},
   "outputs": [
    {
     "name": "stdout",
     "output_type": "stream",
     "text": [
      "                              count        mean        std   min    25%  \\\n",
      "log_criticReviewsTotal_bin                                                \n",
      "NoCriticReviews             11241.0    0.000000   0.000000   0.0    0.0   \n",
      "FewCriticReviews             3085.0    1.521880   0.722928   1.0    1.0   \n",
      "ModerateCriticReviews         880.0    5.435227   1.332327   4.0    4.0   \n",
      "ManyCriticReviews             642.0   14.981308   5.414745   9.0   10.0   \n",
      "VeryHighCriticReviews         249.0   51.445783  18.713407  29.0   35.0   \n",
      "ExtensiveCriticReviews         75.0  181.946667  89.882039  99.0  119.0   \n",
      "\n",
      "                              50%    75%    max  \n",
      "log_criticReviewsTotal_bin                       \n",
      "NoCriticReviews               0.0    0.0    0.0  \n",
      "FewCriticReviews              1.0    2.0    3.0  \n",
      "ModerateCriticReviews         5.0    6.0    8.0  \n",
      "ManyCriticReviews            13.0   18.0   28.0  \n",
      "VeryHighCriticReviews        47.0   63.0   98.0  \n",
      "ExtensiveCriticReviews      147.0  225.5  533.0  \n"
     ]
    }
   ],
   "source": [
    "print(df_copy.groupby('log_criticReviewsTotal_bin')['criticReviewsTotal'].describe())"
   ]
  },
  {
   "cell_type": "code",
   "execution_count": 1394,
   "id": "4f1725d0",
   "metadata": {},
   "outputs": [
    {
     "name": "stdout",
     "output_type": "stream",
     "text": [
      "                          count        mean        std   min   25%   50%  \\\n",
      "criticReviewsTotal_bin                                                     \n",
      "NoCriticReviews         11241.0    0.000000   0.000000   0.0   0.0   0.0   \n",
      "FewCriticReviews         1896.0    1.000000   0.000000   1.0   1.0   1.0   \n",
      "ModerateCriticReviews    1690.0    2.966864   1.060666   2.0   2.0   3.0   \n",
      "ManyCriticReviews         898.0   10.263920   3.900726   6.0   7.0   9.0   \n",
      "VeryHighCriticReviews     239.0   29.665272   6.770308  21.0  24.0  28.0   \n",
      "ExtensiveCriticReviews    208.0  107.379808  78.612761  46.0  56.0  79.5   \n",
      "\n",
      "                           75%    max  \n",
      "criticReviewsTotal_bin                 \n",
      "NoCriticReviews           0.00    0.0  \n",
      "FewCriticReviews          1.00    1.0  \n",
      "ModerateCriticReviews     4.00    5.0  \n",
      "ManyCriticReviews        13.00   20.0  \n",
      "VeryHighCriticReviews    35.00   45.0  \n",
      "ExtensiveCriticReviews  125.25  533.0  \n"
     ]
    }
   ],
   "source": [
    "#CRITICREVIEWS NON LOG-TRANSFORMED\n",
    "labels = [\n",
    "    'NoCriticReviews',\n",
    "    'FewCriticReviews',\n",
    "    'ModerateCriticReviews',\n",
    "    'ManyCriticReviews',\n",
    "    'VeryHighCriticReviews',\n",
    "    'ExtensiveCriticReviews'\n",
    "]\n",
    "bins = [-1, 0, 1, 5, 20, 45, float('inf')]\n",
    "\n",
    "df_copy['criticReviewsTotal_bin'] = pd.cut(df['criticReviewsTotal'], bins=bins, labels=labels, include_lowest=True)\n",
    "print(df_copy.groupby('criticReviewsTotal_bin')['criticReviewsTotal'].describe())"
   ]
  },
  {
   "cell_type": "markdown",
   "id": "52fbb1cf",
   "metadata": {},
   "source": [
    "##### numRegions"
   ]
  },
  {
   "cell_type": "code",
   "execution_count": 1395,
   "id": "80325e95",
   "metadata": {},
   "outputs": [],
   "source": [
    "df_copy[\"log_numRegions\"] = np.log1p(df[\"numRegions\"])"
   ]
  },
  {
   "cell_type": "code",
   "execution_count": 1396,
   "id": "69c6699e",
   "metadata": {},
   "outputs": [],
   "source": [
    "#NUMREGIONS LOG-TRANSFORMED\n",
    "bins = [-np.inf, 1.2, 2.0, 3.2, np.inf]\n",
    "labels = ['VeryFewRegions', 'ModerateRegions', 'ManyRegions', 'GlobalRegions']\n",
    "\n",
    "# Applicazione\n",
    "df_copy['log_numRegions_bin'] = pd.cut(\n",
    "    df_copy['log_numRegions'],\n",
    "    bins=bins,\n",
    "    labels=labels\n",
    ")"
   ]
  },
  {
   "cell_type": "code",
   "execution_count": 1397,
   "id": "9283a408",
   "metadata": {},
   "outputs": [
    {
     "name": "stdout",
     "output_type": "stream",
     "text": [
      "                      count       mean       std   min   25%   50%   75%   max\n",
      "log_numRegions_bin                                                            \n",
      "VeryFewRegions      11268.0   1.164892  0.371099   1.0   1.0   1.0   1.0   2.0\n",
      "ModerateRegions      2437.0   4.144850  1.068636   3.0   3.0   4.0   5.0   6.0\n",
      "ManyRegions          2124.0  10.867702  4.483277   7.0   7.0   9.0  13.0  23.0\n",
      "GlobalRegions         343.0  33.571429  8.855566  24.0  27.0  31.0  38.5  69.0\n"
     ]
    }
   ],
   "source": [
    "print(df_copy.groupby('log_numRegions_bin')['numRegions'].describe())"
   ]
  },
  {
   "cell_type": "code",
   "execution_count": 1398,
   "id": "074d6c2f",
   "metadata": {},
   "outputs": [
    {
     "name": "stdout",
     "output_type": "stream",
     "text": [
      "                  count       mean       std  min   25%   50%   75%   max\n",
      "numRegions_bin                                                           \n",
      "VeryFewRegions   9410.0   1.000000  0.000000  1.0   1.0   1.0   1.0   1.0\n",
      "ModerateRegions  2731.0   2.319663  0.466431  2.0   2.0   2.0   3.0   3.0\n",
      "ManyRegions      2514.0   5.701671  1.359445  4.0   4.0   6.0   7.0   8.0\n",
      "GlobalRegions    1517.0  18.290046  9.942791  9.0  11.0  15.0  22.0  69.0\n"
     ]
    }
   ],
   "source": [
    "#NUMREGIONS NON LOG-TRANSFORMED\n",
    "labels = ['VeryFewRegions', 'ModerateRegions', 'ManyRegions', 'GlobalRegions']\n",
    "bins = [0, 1, 3, 8, float('inf')]\n",
    "\n",
    "df_copy['numRegions_bin'] = pd.cut(df['numRegions'], bins=bins, labels=labels, include_lowest=True)\n",
    "print(df_copy.groupby('numRegions_bin')['numRegions'].describe())\n"
   ]
  },
  {
   "cell_type": "markdown",
   "id": "2c04a4d8",
   "metadata": {},
   "source": [
    "##### userReviewsTotal"
   ]
  },
  {
   "cell_type": "code",
   "execution_count": 1399,
   "id": "9adc0297",
   "metadata": {},
   "outputs": [],
   "source": [
    "df_copy[\"log_userReviewsTotal\"] = np.log1p(df[\"userReviewsTotal\"])"
   ]
  },
  {
   "cell_type": "code",
   "execution_count": 1400,
   "id": "93fd2435",
   "metadata": {},
   "outputs": [],
   "source": [
    "#USERREVIEWSTOTAL LOG-TRANSFORMED\n",
    "bins = [-0.01, 0.0, 2.8, 5.0, np.inf]\n",
    "labels = ['NoUserReviews', 'FewUserReviews', 'ManyUserReviews', 'VeryManyUserReviews']\n",
    "\n",
    "# Applicazione\n",
    "df_copy['log_userReviewsTotal_bin'] = pd.cut(\n",
    "    df_copy['log_userReviewsTotal'],\n",
    "    bins=bins,\n",
    "    labels=labels)"
   ]
  },
  {
   "cell_type": "code",
   "execution_count": 1401,
   "id": "ec5badb6",
   "metadata": {},
   "outputs": [
    {
     "name": "stdout",
     "output_type": "stream",
     "text": [
      "                           count        mean         std    min    25%    50%  \\\n",
      "log_userReviewsTotal_bin                                                        \n",
      "NoUserReviews             9072.0    0.000000    0.000000    0.0    0.0    0.0   \n",
      "FewUserReviews            6121.0    3.373142    3.281453    1.0    1.0    2.0   \n",
      "ManyUserReviews            840.0   41.333333   28.784652   16.0   21.0   30.0   \n",
      "VeryManyUserReviews        139.0  452.179856  556.943018  148.0  192.0  290.0   \n",
      "\n",
      "                            75%     max  \n",
      "log_userReviewsTotal_bin                 \n",
      "NoUserReviews               0.0     0.0  \n",
      "FewUserReviews              4.0    15.0  \n",
      "ManyUserReviews            51.0   145.0  \n",
      "VeryManyUserReviews       509.0  5727.0  \n"
     ]
    }
   ],
   "source": [
    "print(df_copy.groupby('log_userReviewsTotal_bin')['userReviewsTotal'].describe())"
   ]
  },
  {
   "cell_type": "code",
   "execution_count": 1402,
   "id": "66ee3e54",
   "metadata": {},
   "outputs": [],
   "source": [
    "#USERREVIEWSTOTAL NON LOG-TRANSFORMED\n",
    "labels = ['NoUserReviews', 'FewUserReviews', 'ManyUserReviews', 'VeryManyUserReviews']\n",
    "bins = [-1, 0, 3, 30, float('inf')]\n",
    "\n",
    "df_copy['userReviewsTotal_bin'] = pd.cut(df['userReviewsTotal'], bins=bins, labels=labels, include_lowest=True)"
   ]
  },
  {
   "cell_type": "code",
   "execution_count": 1403,
   "id": "31dec078",
   "metadata": {},
   "outputs": [
    {
     "name": "stdout",
     "output_type": "stream",
     "text": [
      "                       count        mean         std   min   25%   50%    75%  \\\n",
      "userReviewsTotal_bin                                                            \n",
      "NoUserReviews         9072.0    0.000000    0.000000   0.0   0.0   0.0    0.0   \n",
      "FewUserReviews        4220.0    1.563270    0.737398   1.0   1.0   1.0    2.0   \n",
      "ManyUserReviews       2335.0   10.084368    6.596212   4.0   5.0   8.0   13.0   \n",
      "VeryManyUserReviews    545.0  161.607339  329.066516  31.0  43.0  67.0  149.0   \n",
      "\n",
      "                         max  \n",
      "userReviewsTotal_bin          \n",
      "NoUserReviews            0.0  \n",
      "FewUserReviews           3.0  \n",
      "ManyUserReviews         30.0  \n",
      "VeryManyUserReviews   5727.0  \n"
     ]
    }
   ],
   "source": [
    "print(df_copy.groupby('userReviewsTotal_bin')['userReviewsTotal'].describe())"
   ]
  },
  {
   "cell_type": "markdown",
   "id": "f2ad8c29",
   "metadata": {},
   "source": [
    "##### countryOfOrigin_freqenc"
   ]
  },
  {
   "cell_type": "code",
   "execution_count": 1404,
   "id": "6f835407",
   "metadata": {},
   "outputs": [
    {
     "data": {
      "text/plain": [
       "count    16172.000000\n",
       "mean         0.193976\n",
       "std          0.182497\n",
       "min          0.000056\n",
       "25%          0.018089\n",
       "50%          0.098792\n",
       "75%          0.397061\n",
       "max          0.658429\n",
       "Name: countryOfOrigin_freq_enc, dtype: float64"
      ]
     },
     "execution_count": 1404,
     "metadata": {},
     "output_type": "execute_result"
    }
   ],
   "source": [
    "df_copy[\"countryOfOrigin_freq_enc\"].describe()"
   ]
  },
  {
   "cell_type": "code",
   "execution_count": 1405,
   "id": "cf6cbbe6",
   "metadata": {},
   "outputs": [],
   "source": [
    "bins = [-0.01, 0.03, 0.3, 1.0]\n",
    "labels = ['LowFreqCountries', 'MediumFreqCountries', 'HighFreqCountries']\n",
    "\n",
    "df_copy[\"country_freq_bin\"] = pd.cut(\n",
    "    df_copy[\"countryOfOrigin_freq_enc\"],\n",
    "    bins=bins,\n",
    "    labels=labels\n",
    ")"
   ]
  },
  {
   "cell_type": "code",
   "execution_count": 1406,
   "id": "3ae6192d",
   "metadata": {},
   "outputs": [
    {
     "name": "stdout",
     "output_type": "stream",
     "text": [
      "                      count      mean       std       min       25%       50%  \\\n",
      "country_freq_bin                                                                \n",
      "LowFreqCountries     4915.0  0.011203  0.007729  0.000056  0.005510  0.009406   \n",
      "MediumFreqCountries  4254.0  0.065469  0.029882  0.030556  0.037012  0.047086   \n",
      "HighFreqCountries    7003.0  0.400315  0.016402  0.397061  0.397061  0.397061   \n",
      "\n",
      "                          75%       max  \n",
      "country_freq_bin                         \n",
      "LowFreqCountries     0.017532  0.029888  \n",
      "MediumFreqCountries  0.098792  0.204931  \n",
      "HighFreqCountries    0.397061  0.658429  \n"
     ]
    }
   ],
   "source": [
    "print(df_copy.groupby('country_freq_bin')['countryOfOrigin_freq_enc'].describe())"
   ]
  },
  {
   "cell_type": "markdown",
   "id": "2ea49eee",
   "metadata": {},
   "source": [
    "### Handling of categorical attributes"
   ]
  },
  {
   "cell_type": "markdown",
   "id": "faf86f48",
   "metadata": {},
   "source": [
    "##### countryOfOrigin"
   ]
  },
  {
   "cell_type": "code",
   "execution_count": 1407,
   "id": "5799fa78",
   "metadata": {},
   "outputs": [],
   "source": [
    "# # BINARIZZAZIONE -  ONE HOT ENCODING \n",
    "# df_copy['from_Europe_bin'] = (df_copy['countryOfOrigin_EU'] > 0).astype(int)\n",
    "# df_copy['from_NorthAmerica_bin'] = (df_copy['countryOfOrigin_NA'] > 0).astype(int)\n",
    "# df_copy['from_SouthAmerica_bin'] = (df_copy['countryOfOrigin_SA'] > 0).astype(int)\n",
    "# df_copy['from_Asia_bin'] = (df_copy['countryOfOrigin_SA'] > 0).astype(int)\n",
    "# df_copy['from_Oceania_bin'] = (df_copy['countryOfOrigin_OC'] > 0).astype(int)\n",
    "# df_copy['from_Africa_bin'] = (df_copy['countryOfOrigin_AF'] > 0).astype(int)\n",
    "# df_copy['from_Unknown_bin'] = (df_copy['countryOfOrigin_UNK'] > 0).astype(int)\n"
   ]
  },
  {
   "cell_type": "code",
   "execution_count": 1408,
   "id": "ce207c84",
   "metadata": {},
   "outputs": [],
   "source": [
    "# BINARIZZAZIONE \n",
    "def discretize_continent_count(df, col_name, cont):\n",
    "    new_col = f'{cont }_bin'\n",
    "    \n",
    "    def label(value):\n",
    "        if value == 0:\n",
    "            return f'not_{cont}'\n",
    "       # elif value == 1:\n",
    "        #    return f'one_{cont}'\n",
    "        else:\n",
    "            return f'is_{cont}'\n",
    "    \n",
    "    df[new_col] = df[col_name].apply(label)\n",
    "\n",
    "# applico funzione\n",
    "discretize_continent_count(df_copy, \"countryOfOrigin_NA\", \"from_NorthAmerica\")\n",
    "discretize_continent_count(df_copy, \"countryOfOrigin_EU\", \"from_Europe\")\n",
    "discretize_continent_count(df_copy, \"countryOfOrigin_SA\", \"from_SouthAmerica\")\n",
    "discretize_continent_count(df_copy, \"countryOfOrigin_AS\", \"from_Asia\")\n",
    "discretize_continent_count(df_copy, \"countryOfOrigin_OC\", \"from_Oceania\")\n",
    "discretize_continent_count(df_copy, \"countryOfOrigin_AF\", \"from_Africa\")\n",
    "discretize_continent_count(df_copy, \"countryOfOrigin_UNK\", \"from_Unknown\")"
   ]
  },
  {
   "cell_type": "code",
   "execution_count": 1409,
   "id": "44735b7a",
   "metadata": {},
   "outputs": [
    {
     "data": {
      "text/html": [
       "<div>\n",
       "<style scoped>\n",
       "    .dataframe tbody tr th:only-of-type {\n",
       "        vertical-align: middle;\n",
       "    }\n",
       "\n",
       "    .dataframe tbody tr th {\n",
       "        vertical-align: top;\n",
       "    }\n",
       "\n",
       "    .dataframe thead th {\n",
       "        text-align: right;\n",
       "    }\n",
       "</style>\n",
       "<table border=\"1\" class=\"dataframe\">\n",
       "  <thead>\n",
       "    <tr style=\"text-align: right;\">\n",
       "      <th></th>\n",
       "      <th>originalTitle</th>\n",
       "      <th>rating</th>\n",
       "      <th>startYear</th>\n",
       "      <th>endYear</th>\n",
       "      <th>runtimeMinutes</th>\n",
       "      <th>awardWins</th>\n",
       "      <th>numVotes</th>\n",
       "      <th>totalImages</th>\n",
       "      <th>totalVideos</th>\n",
       "      <th>totalCredits</th>\n",
       "      <th>...</th>\n",
       "      <th>log_userReviewsTotal_bin</th>\n",
       "      <th>userReviewsTotal_bin</th>\n",
       "      <th>country_freq_bin</th>\n",
       "      <th>from_NorthAmerica_bin</th>\n",
       "      <th>from_Europe_bin</th>\n",
       "      <th>from_SouthAmerica_bin</th>\n",
       "      <th>from_Asia_bin</th>\n",
       "      <th>from_Oceania_bin</th>\n",
       "      <th>from_Africa_bin</th>\n",
       "      <th>from_Unknown_bin</th>\n",
       "    </tr>\n",
       "  </thead>\n",
       "  <tbody>\n",
       "    <tr>\n",
       "      <th>0</th>\n",
       "      <td>Neogenic Nightmare Chapter 3: Hydro-Man</td>\n",
       "      <td>8</td>\n",
       "      <td>1995</td>\n",
       "      <td>1995.0</td>\n",
       "      <td>NaN</td>\n",
       "      <td>0.0</td>\n",
       "      <td>779</td>\n",
       "      <td>1</td>\n",
       "      <td>0</td>\n",
       "      <td>21</td>\n",
       "      <td>...</td>\n",
       "      <td>NoUserReviews</td>\n",
       "      <td>NoUserReviews</td>\n",
       "      <td>HighFreqCountries</td>\n",
       "      <td>is_from_NorthAmerica</td>\n",
       "      <td>not_from_Europe</td>\n",
       "      <td>not_from_SouthAmerica</td>\n",
       "      <td>not_from_Asia</td>\n",
       "      <td>not_from_Oceania</td>\n",
       "      <td>not_from_Africa</td>\n",
       "      <td>not_from_Unknown</td>\n",
       "    </tr>\n",
       "    <tr>\n",
       "      <th>1</th>\n",
       "      <td>Idealnaya para</td>\n",
       "      <td>6</td>\n",
       "      <td>1992</td>\n",
       "      <td>1992.0</td>\n",
       "      <td>NaN</td>\n",
       "      <td>0.0</td>\n",
       "      <td>38</td>\n",
       "      <td>1</td>\n",
       "      <td>0</td>\n",
       "      <td>24</td>\n",
       "      <td>...</td>\n",
       "      <td>FewUserReviews</td>\n",
       "      <td>FewUserReviews</td>\n",
       "      <td>LowFreqCountries</td>\n",
       "      <td>not_from_NorthAmerica</td>\n",
       "      <td>is_from_Europe</td>\n",
       "      <td>not_from_SouthAmerica</td>\n",
       "      <td>not_from_Asia</td>\n",
       "      <td>not_from_Oceania</td>\n",
       "      <td>not_from_Africa</td>\n",
       "      <td>not_from_Unknown</td>\n",
       "    </tr>\n",
       "    <tr>\n",
       "      <th>2</th>\n",
       "      <td>MasterChef Celebrity México</td>\n",
       "      <td>6</td>\n",
       "      <td>2021</td>\n",
       "      <td>NaN</td>\n",
       "      <td>NaN</td>\n",
       "      <td>0.0</td>\n",
       "      <td>15</td>\n",
       "      <td>22</td>\n",
       "      <td>0</td>\n",
       "      <td>56</td>\n",
       "      <td>...</td>\n",
       "      <td>NoUserReviews</td>\n",
       "      <td>NoUserReviews</td>\n",
       "      <td>LowFreqCountries</td>\n",
       "      <td>is_from_NorthAmerica</td>\n",
       "      <td>not_from_Europe</td>\n",
       "      <td>not_from_SouthAmerica</td>\n",
       "      <td>not_from_Asia</td>\n",
       "      <td>not_from_Oceania</td>\n",
       "      <td>not_from_Africa</td>\n",
       "      <td>not_from_Unknown</td>\n",
       "    </tr>\n",
       "    <tr>\n",
       "      <th>3</th>\n",
       "      <td>Seutateueob</td>\n",
       "      <td>8</td>\n",
       "      <td>2020</td>\n",
       "      <td>2020.0</td>\n",
       "      <td>80.0</td>\n",
       "      <td>1.0</td>\n",
       "      <td>15718</td>\n",
       "      <td>347</td>\n",
       "      <td>2</td>\n",
       "      <td>47</td>\n",
       "      <td>...</td>\n",
       "      <td>VeryManyUserReviews</td>\n",
       "      <td>VeryManyUserReviews</td>\n",
       "      <td>LowFreqCountries</td>\n",
       "      <td>not_from_NorthAmerica</td>\n",
       "      <td>not_from_Europe</td>\n",
       "      <td>not_from_SouthAmerica</td>\n",
       "      <td>is_from_Asia</td>\n",
       "      <td>not_from_Oceania</td>\n",
       "      <td>not_from_Africa</td>\n",
       "      <td>not_from_Unknown</td>\n",
       "    </tr>\n",
       "    <tr>\n",
       "      <th>4</th>\n",
       "      <td>Lightdance</td>\n",
       "      <td>9</td>\n",
       "      <td>1995</td>\n",
       "      <td>1995.0</td>\n",
       "      <td>34.0</td>\n",
       "      <td>0.0</td>\n",
       "      <td>14</td>\n",
       "      <td>1</td>\n",
       "      <td>0</td>\n",
       "      <td>0</td>\n",
       "      <td>...</td>\n",
       "      <td>FewUserReviews</td>\n",
       "      <td>FewUserReviews</td>\n",
       "      <td>HighFreqCountries</td>\n",
       "      <td>is_from_NorthAmerica</td>\n",
       "      <td>not_from_Europe</td>\n",
       "      <td>not_from_SouthAmerica</td>\n",
       "      <td>not_from_Asia</td>\n",
       "      <td>not_from_Oceania</td>\n",
       "      <td>not_from_Africa</td>\n",
       "      <td>not_from_Unknown</td>\n",
       "    </tr>\n",
       "  </tbody>\n",
       "</table>\n",
       "<p>5 rows × 99 columns</p>\n",
       "</div>"
      ],
      "text/plain": [
       "                             originalTitle  rating  startYear  endYear  \\\n",
       "0  Neogenic Nightmare Chapter 3: Hydro-Man       8       1995   1995.0   \n",
       "1                           Idealnaya para       6       1992   1992.0   \n",
       "2              MasterChef Celebrity México       6       2021      NaN   \n",
       "3                              Seutateueob       8       2020   2020.0   \n",
       "4                               Lightdance       9       1995   1995.0   \n",
       "\n",
       "   runtimeMinutes  awardWins  numVotes  totalImages  totalVideos  \\\n",
       "0             NaN        0.0       779            1            0   \n",
       "1             NaN        0.0        38            1            0   \n",
       "2             NaN        0.0        15           22            0   \n",
       "3            80.0        1.0     15718          347            2   \n",
       "4            34.0        0.0        14            1            0   \n",
       "\n",
       "   totalCredits  ...  log_userReviewsTotal_bin userReviewsTotal_bin  \\\n",
       "0            21  ...             NoUserReviews        NoUserReviews   \n",
       "1            24  ...            FewUserReviews       FewUserReviews   \n",
       "2            56  ...             NoUserReviews        NoUserReviews   \n",
       "3            47  ...       VeryManyUserReviews  VeryManyUserReviews   \n",
       "4             0  ...            FewUserReviews       FewUserReviews   \n",
       "\n",
       "    country_freq_bin  from_NorthAmerica_bin  from_Europe_bin  \\\n",
       "0  HighFreqCountries   is_from_NorthAmerica  not_from_Europe   \n",
       "1   LowFreqCountries  not_from_NorthAmerica   is_from_Europe   \n",
       "2   LowFreqCountries   is_from_NorthAmerica  not_from_Europe   \n",
       "3   LowFreqCountries  not_from_NorthAmerica  not_from_Europe   \n",
       "4  HighFreqCountries   is_from_NorthAmerica  not_from_Europe   \n",
       "\n",
       "   from_SouthAmerica_bin  from_Asia_bin  from_Oceania_bin  from_Africa_bin  \\\n",
       "0  not_from_SouthAmerica  not_from_Asia  not_from_Oceania  not_from_Africa   \n",
       "1  not_from_SouthAmerica  not_from_Asia  not_from_Oceania  not_from_Africa   \n",
       "2  not_from_SouthAmerica  not_from_Asia  not_from_Oceania  not_from_Africa   \n",
       "3  not_from_SouthAmerica   is_from_Asia  not_from_Oceania  not_from_Africa   \n",
       "4  not_from_SouthAmerica  not_from_Asia  not_from_Oceania  not_from_Africa   \n",
       "\n",
       "   from_Unknown_bin  \n",
       "0  not_from_Unknown  \n",
       "1  not_from_Unknown  \n",
       "2  not_from_Unknown  \n",
       "3  not_from_Unknown  \n",
       "4  not_from_Unknown  \n",
       "\n",
       "[5 rows x 99 columns]"
      ]
     },
     "execution_count": 1409,
     "metadata": {},
     "output_type": "execute_result"
    }
   ],
   "source": [
    "df_copy.head()"
   ]
  },
  {
   "cell_type": "markdown",
   "id": "ba5d8aeb",
   "metadata": {},
   "source": [
    "## Pattern Mining"
   ]
  },
  {
   "cell_type": "markdown",
   "id": "a2f3276b",
   "metadata": {},
   "source": [
    "### Transactions Creation"
   ]
  },
  {
   "cell_type": "code",
   "execution_count": 1410,
   "id": "96e1bdd6",
   "metadata": {},
   "outputs": [
    {
     "data": {
      "text/plain": [
       "Index(['originalTitle', 'rating', 'startYear', 'endYear', 'runtimeMinutes',\n",
       "       'awardWins', 'numVotes', 'totalImages', 'totalVideos', 'totalCredits',\n",
       "       'criticReviewsTotal', 'titleType', 'awardNominationsExcludeWins',\n",
       "       'canHaveEpisodes', 'isAdult', 'numRegions', 'userReviewsTotal',\n",
       "       'is_Documentary', 'is_History', 'is_Adventure', 'is_Thriller',\n",
       "       'is_Game-Show', 'is_Comedy', 'is_Sci-Fi', 'is_Romance', 'is_Biography',\n",
       "       'is_Musical', 'is_Western', 'is_Music', 'is_Film-Noir', 'is_Adult',\n",
       "       'is_Reality-TV', 'is_News', 'is_Action', 'is_Crime', 'is_Short',\n",
       "       'is_Fantasy', 'is_Family', 'is_Mystery', 'is_Talk-Show', 'is_Drama',\n",
       "       'is_Sport', 'is_War', 'is_Horror', 'is_Animation',\n",
       "       'fill_runtimeMinutes', 'is_from_Oceania', 'is_from_North America',\n",
       "       'is_from_South America', 'is_from_Asia', 'is_from_Africa',\n",
       "       'is_from_Europe', 'countryOfOrigin', 'countryOfOrigin_freq_enc',\n",
       "       'countryOfOrigin_NA', 'countryOfOrigin_AF', 'countryOfOrigin_AS',\n",
       "       'countryOfOrigin_EU', 'countryOfOrigin_OC', 'countryOfOrigin_SA',\n",
       "       'countryOfOrigin_UNK', 'fill_runtimeMinutes_Bruno', 'totalNominations',\n",
       "       'totalMedia', 'runtimeMinutes_notitletype', 'log_totalNominations',\n",
       "       'log_nom_bin_cut', 'totalNominations_bin', 'log_totalMedia',\n",
       "       'media_bin', 'log_media_bin', 'log_fill_runtimeMinutes_Bruno',\n",
       "       'runtime_bin', 'log_runtime_bin', 'rating_bin', 'log_numVotes',\n",
       "       'log_numvotes_bin', 'numVotes_bin', 'startYear_bin', 'log_totalCredits',\n",
       "       'log_totalCredits_bin', 'totalCredits_bin', 'log_criticReviewsTotal',\n",
       "       'log_criticReviewsTotal_bin', 'criticReviewsTotal_bin',\n",
       "       'log_numRegions', 'log_numRegions_bin', 'numRegions_bin',\n",
       "       'log_userReviewsTotal', 'log_userReviewsTotal_bin',\n",
       "       'userReviewsTotal_bin', 'country_freq_bin', 'from_NorthAmerica_bin',\n",
       "       'from_Europe_bin', 'from_SouthAmerica_bin', 'from_Asia_bin',\n",
       "       'from_Oceania_bin', 'from_Africa_bin', 'from_Unknown_bin'],\n",
       "      dtype='object')"
      ]
     },
     "execution_count": 1410,
     "metadata": {},
     "output_type": "execute_result"
    }
   ],
   "source": [
    "df_copy.columns"
   ]
  },
  {
   "cell_type": "code",
   "execution_count": 1411,
   "id": "fc1bbf48",
   "metadata": {},
   "outputs": [],
   "source": [
    "cols = [\n",
    "        #\"canHaveEpisodes\", \n",
    "        #\"isAdult\",\n",
    "        #\"totalNominations_bin\", \n",
    "        #\"media_bin\",\n",
    "        \"rating_bin\", \"runtime_bin\", \"numVotes_bin\", \n",
    "        #\"startYear_bin\",\n",
    "        \"totalCredits_bin\", \n",
    "        \"criticReviewsTotal_bin\", \n",
    "        # \"country_freq_bin\",\n",
    "        # \"numRegions_bin\", \n",
    "        \"userReviewsTotal_bin\",\n",
    "        \"titleType\",\n",
    "        'from_NorthAmerica_bin','from_Europe_bin' , 'from_SouthAmerica_bin', 'from_Asia_bin', 'from_Oceania_bin', 'from_Africa_bin', \n",
    "        #'from_Unknown_bin'\n",
    "]\n",
    "\n",
    "\n",
    "# #FUNZIONANTI COME BASE\n",
    "#     #     \"canHaveEpisodes\", \"isAdult\",\n",
    "#     #     \"totalNominations_bin\", \"media_bin\"\n",
    "#           \"rating_bin\", \"runtime_bin\", \"numVotes_bin\", \"startYear_bin\",\n",
    "#     #     \"totalCredits_bin\", \"criticReviewsTotal_bin\", \"numRegions_bin\", \"userReviewsTotal_bin\"\n",
    "#           \"titleType\",\n",
    "#           'from_NorthAmerica_bin', 'from_Europe_bin' ,'from_SouthAmerica_bin', 'from_Asia_bin', 'from_Oceania_bin', 'from_Africa_bin', 'from_Unknown_bin'\n",
    "\n",
    "#TUTTE\n",
    "    #     \"canHaveEpisodes\", \"isAdult\",\n",
    "    #     \"totalNominations_bin\", \"media_bin\"\n",
    "    #     \"rating_bin\", \"runtime_bin\", \"numVotes_bin\", \"startYear_bin\",\n",
    "    #     \"totalCredits_bin\", \"criticReviewsTotal_bin\", \"numRegions_bin\", \"userReviewsTotal_bin\"\n",
    "    #     \"titleType\",\n",
    "    #      'from_NorthAmerica_bin', 'from_Europe_bin' ,'from_SouthAmerica_bin', 'from_Asia_bin', 'from_Oceania_bin', 'from_Africa_bin', 'from_Unknown_bin'\n",
    "\n",
    "\n"
   ]
  },
  {
   "cell_type": "code",
   "execution_count": 1412,
   "id": "87dc31d3",
   "metadata": {},
   "outputs": [
    {
     "name": "stdout",
     "output_type": "stream",
     "text": [
      "16172\n",
      "[['VeryHighRating', 'LowRuntime', 'VeryLowVotes', 'HighCredits', 'NoCriticReviews', 'NoUserReviews', 'tvSpecial', 'is_from_NorthAmerica'], ['MediumRating', 'LowRuntime', 'LowVotes', 'MediumCredits', 'NoCriticReviews', 'NoUserReviews', 'movie'], ['VeryLowRating', 'MediumRuntime', 'HighVotes', 'HighCredits', 'FewCriticReviews', 'ManyUserReviews', 'movie', 'is_from_NorthAmerica'], ['MediumRating', 'MediumRuntime', 'HighVotes', 'HighCredits', 'FewCriticReviews', 'FewUserReviews', 'movie', 'is_from_Europe'], ['VeryHighRating', 'VeryLowRuntime', 'VeryHighVotes', 'HighCredits', 'ModerateCriticReviews', 'ManyUserReviews', 'tvEpisode', 'is_from_NorthAmerica']]\n"
     ]
    }
   ],
   "source": [
    "transactions = []\n",
    "\n",
    "for index, row in df_copy[cols].iterrows():\n",
    "    transaction = []\n",
    "    for col in cols:\n",
    "        value = str(row[col])\n",
    "        if not value.startswith('not_'):  # Ignora 'none_from_*'\n",
    "            transaction.append(value)\n",
    "    transactions.append(transaction)\n",
    "\n",
    "# Verifica risultato\n",
    "print(len(transactions))\n",
    "print(transactions[10:15])\n"
   ]
  },
  {
   "cell_type": "code",
   "execution_count": 1413,
   "id": "cee7c7d2",
   "metadata": {},
   "outputs": [
    {
     "name": "stdout",
     "output_type": "stream",
     "text": [
      "   ExtensiveCriticReviews  FewCriticReviews  FewUserReviews  HighCredits  \\\n",
      "0                   False              True           False        False   \n",
      "1                   False             False            True        False   \n",
      "2                   False             False           False        False   \n",
      "3                   False             False           False        False   \n",
      "4                   False             False            True        False   \n",
      "\n",
      "   HighRating  HighRuntime  HighVotes  LowCredits  LowRating  LowRuntime  ...  \\\n",
      "0        True        False       True        True      False        True  ...   \n",
      "1       False        False      False        True       True       False  ...   \n",
      "2       False        False      False       False       True        True  ...   \n",
      "3        True        False      False       False      False       False  ...   \n",
      "4       False        False      False       False      False        True  ...   \n",
      "\n",
      "   is_from_SouthAmerica  movie  short  tvEpisode  tvMiniSeries  tvMovie  \\\n",
      "0                 False  False  False       True         False    False   \n",
      "1                 False   True  False      False         False    False   \n",
      "2                 False  False  False      False         False    False   \n",
      "3                 False  False  False      False         False    False   \n",
      "4                 False  False  False      False         False    False   \n",
      "\n",
      "   tvSeries  tvShort  tvSpecial  video  \n",
      "0     False    False      False  False  \n",
      "1     False    False      False  False  \n",
      "2      True    False      False  False  \n",
      "3      True    False      False  False  \n",
      "4     False    False      False   True  \n",
      "\n",
      "[5 rows x 45 columns]\n"
     ]
    }
   ],
   "source": [
    "# Let's utilize TransactionEncoder\n",
    "te = TransactionEncoder()\n",
    "te_array = te.fit(transactions).transform(transactions)\n",
    "df_apriori = pd.DataFrame(te_array, columns=te.columns_)\n",
    "\n",
    "# Visualizza le prime righe per assicurarti che la trasformazione sia corretta\n",
    "print(df_apriori.head())"
   ]
  },
  {
   "cell_type": "markdown",
   "id": "6a39fceb",
   "metadata": {},
   "source": []
  },
  {
   "cell_type": "markdown",
   "id": "8292a043",
   "metadata": {},
   "source": [
    "### Confronto itemset per support"
   ]
  },
  {
   "cell_type": "code",
   "execution_count": 1414,
   "id": "a85a1e19",
   "metadata": {},
   "outputs": [
    {
     "data": {
      "image/png": "[encoded data removed]",
      "text/plain": [
       "<Figure size 1000x600 with 1 Axes>"
      ]
     },
     "metadata": {},
     "output_type": "display_data"
    }
   ],
   "source": [
    "# Genera una lista di min_sup da testare\n",
    "min_sups = [round(x, 2) for x in list(np.arange(0.01, 0.3, 0.01))]\n",
    "\n",
    "# Lista per salvare il numero di itemset per ciascun supporto\n",
    "num_itemsets = []\n",
    "\n",
    "# Calcolo degli itemset frequenti per ogni min_sup\n",
    "for min_sup in min_sups:\n",
    "    frequent_itemsets = apriori(df_apriori, min_support=min_sup, use_colnames=True)\n",
    "    num_itemsets.append(len(frequent_itemsets))\n",
    "\n",
    "# Plot\n",
    "plt.figure(figsize=(10,6))\n",
    "plt.plot(min_sups, num_itemsets, marker='o')\n",
    "plt.title('Number of frequent itemsets vs. min_support')\n",
    "plt.xlabel('min_support')\n",
    "plt.ylabel('Number of frequent itemsets')\n",
    "plt.grid(True)\n",
    "plt.show()\n"
   ]
  },
  {
   "cell_type": "markdown",
   "id": "96bb122a",
   "metadata": {},
   "source": [
    "### Apriori"
   ]
  },
  {
   "cell_type": "code",
   "execution_count": 1415,
   "id": "7b2d1872",
   "metadata": {},
   "outputs": [
    {
     "name": "stdout",
     "output_type": "stream",
     "text": [
      "<class 'pandas.core.frame.DataFrame'>\n",
      "RangeIndex: 213 entries, 0 to 212\n",
      "Data columns (total 2 columns):\n",
      " #   Column    Non-Null Count  Dtype  \n",
      "---  ------    --------------  -----  \n",
      " 0   support   213 non-null    float64\n",
      " 1   itemsets  213 non-null    object \n",
      "dtypes: float64(1), object(1)\n",
      "memory usage: 3.5+ KB\n",
      "None\n",
      "     support                                itemsets\n",
      "0   0.117240                      (FewCriticReviews)\n",
      "1   0.260945                        (FewUserReviews)\n",
      "2   0.206282                           (HighCredits)\n",
      "3   0.293285                            (HighRating)\n",
      "4   0.173819                             (HighVotes)\n",
      "5   0.271766                            (LowCredits)\n",
      "6   0.268118                             (LowRating)\n",
      "7   0.343804                            (LowRuntime)\n",
      "8   0.300396                              (LowVotes)\n",
      "9   0.144385                       (ManyUserReviews)\n",
      "10  0.240292                         (MediumCredits)\n",
      "11  0.277826                          (MediumRating)\n",
      "12  0.383008                         (MediumRuntime)\n",
      "13  0.183156                           (MediumVotes)\n",
      "14  0.104502                 (ModerateCriticReviews)\n",
      "15  0.695090                       (NoCriticReviews)\n",
      "16  0.560970                         (NoUserReviews)\n",
      "17  0.147168                        (VeryHighRating)\n",
      "18  0.238004                        (VeryLowCredits)\n",
      "19  0.234047                        (VeryLowRuntime)\n",
      "20  0.268489                          (VeryLowVotes)\n",
      "21  0.151744                          (is_from_Asia)\n",
      "22  0.316040                        (is_from_Europe)\n",
      "23  0.477306                  (is_from_NorthAmerica)\n",
      "24  0.342258                                 (movie)\n",
      "25  0.152980                                 (short)\n",
      "26  0.290502                             (tvEpisode)\n",
      "27  0.085023                              (tvSeries)\n",
      "28  0.082797            (FewUserReviews, HighRating)\n",
      "29  0.086693            (FewUserReviews, LowRuntime)\n",
      "30  0.081375              (FewUserReviews, LowVotes)\n",
      "31  0.100359         (FewUserReviews, MediumRuntime)\n",
      "32  0.166832       (FewUserReviews, NoCriticReviews)\n",
      "33  0.083354        (is_from_Europe, FewUserReviews)\n",
      "34  0.136347  (FewUserReviews, is_from_NorthAmerica)\n",
      "35  0.090774                 (FewUserReviews, movie)\n",
      "36  0.086137               (LowRuntime, HighCredits)\n",
      "37  0.080448            (MediumRuntime, HighCredits)\n",
      "38  0.110314          (HighCredits, NoCriticReviews)\n",
      "39  0.085951            (NoUserReviews, HighCredits)\n",
      "40  0.122558     (is_from_NorthAmerica, HighCredits)\n",
      "41  0.087930                (tvEpisode, HighCredits)\n",
      "42  0.138140                (LowRuntime, HighRating)\n",
      "43  0.084776                  (HighRating, LowVotes)\n",
      "44  0.208880           (HighRating, NoCriticReviews)\n",
      "45  0.167512             (NoUserReviews, HighRating)\n",
      "46  0.089105            (is_from_Europe, HighRating)\n",
      "47  0.149456      (is_from_NorthAmerica, HighRating)\n",
      "48  0.136718                 (tvEpisode, HighRating)\n",
      "49  0.080510            (ManyUserReviews, HighVotes)\n",
      "50  0.099431       (is_from_NorthAmerica, HighVotes)\n"
     ]
    }
   ],
   "source": [
    "min_support = 0.08  # % supporto minimo\n",
    "min_confidence = 0.6  # 60% confidenza minima --> serve dopo nella fase di rules extraction\n",
    "\n",
    "# Apriori\n",
    "frequent_itemsets_apriori = apriori(df_apriori, min_support=min_support, use_colnames=True)\n",
    "\n",
    "# FRA -< Filtra gli itemset con almeno 2 item (lunghezza >= 2)\n",
    "    #frequent_itemsets_apriori = frequent_itemsets_apriori[frequent_itemsets_apriori['itemsets'].apply(lambda x: len(x) >= 2)]\n",
    "    #frequent_itemsets_apriori.reset_index(drop=True, inplace=True)\n",
    "\n",
    "print(frequent_itemsets_apriori.info())\n",
    "print(frequent_itemsets_apriori.head(51))"
   ]
  },
  {
   "cell_type": "markdown",
   "id": "29f0b50e",
   "metadata": {},
   "source": [
    "### maximal itemset"
   ]
  },
  {
   "cell_type": "code",
   "execution_count": 1416,
   "id": "59583179",
   "metadata": {},
   "outputs": [
    {
     "name": "stdout",
     "output_type": "stream",
     "text": [
      "<class 'pandas.core.frame.DataFrame'>\n",
      "Index: 90 entries, 0 to 212\n",
      "Data columns (total 2 columns):\n",
      " #   Column    Non-Null Count  Dtype  \n",
      "---  ------    --------------  -----  \n",
      " 0   support   90 non-null     float64\n",
      " 1   itemsets  90 non-null     object \n",
      "dtypes: float64(1), object(1)\n",
      "memory usage: 2.1+ KB\n",
      "None\n",
      "     support                             itemsets\n",
      "0   0.117240                   (FewCriticReviews)\n",
      "14  0.104502              (ModerateCriticReviews)\n",
      "27  0.085023                           (tvSeries)\n",
      "28  0.082797         (FewUserReviews, HighRating)\n",
      "29  0.086693         (FewUserReviews, LowRuntime)\n",
      "30  0.081375           (FewUserReviews, LowVotes)\n",
      "31  0.100359      (FewUserReviews, MediumRuntime)\n",
      "33  0.083354     (is_from_Europe, FewUserReviews)\n",
      "35  0.090774              (FewUserReviews, movie)\n",
      "36  0.086137            (LowRuntime, HighCredits)\n",
      "37  0.080448         (MediumRuntime, HighCredits)\n",
      "38  0.110314       (HighCredits, NoCriticReviews)\n",
      "39  0.085951         (NoUserReviews, HighCredits)\n",
      "40  0.122558  (is_from_NorthAmerica, HighCredits)\n",
      "41  0.087930             (tvEpisode, HighCredits)\n"
     ]
    }
   ],
   "source": [
    "# Find maximal itemsets (those that are not subsets of any other itemsets)\n",
    "maximal_itemsets_apriori = frequent_itemsets_apriori[frequent_itemsets_apriori['itemsets'].apply(lambda x: not any(x < y for y in frequent_itemsets_apriori['itemsets']))]\n",
    "\n",
    "# Display the results\n",
    "print(maximal_itemsets_apriori.info())\n",
    "print(maximal_itemsets_apriori.head(15))"
   ]
  },
  {
   "cell_type": "markdown",
   "id": "214165b2",
   "metadata": {},
   "source": [
    "### Association Rules"
   ]
  },
  {
   "cell_type": "code",
   "execution_count": 1417,
   "id": "2554301a",
   "metadata": {},
   "outputs": [
    {
     "name": "stdout",
     "output_type": "stream",
     "text": [
      "<class 'pandas.core.frame.DataFrame'>\n",
      "RangeIndex: 164 entries, 0 to 163\n",
      "Data columns (total 14 columns):\n",
      " #   Column              Non-Null Count  Dtype  \n",
      "---  ------              --------------  -----  \n",
      " 0   antecedents         164 non-null    object \n",
      " 1   consequents         164 non-null    object \n",
      " 2   antecedent support  164 non-null    float64\n",
      " 3   consequent support  164 non-null    float64\n",
      " 4   support             164 non-null    float64\n",
      " 5   confidence          164 non-null    float64\n",
      " 6   lift                164 non-null    float64\n",
      " 7   representativity    164 non-null    float64\n",
      " 8   leverage            164 non-null    float64\n",
      " 9   conviction          164 non-null    float64\n",
      " 10  zhangs_metric       164 non-null    float64\n",
      " 11  jaccard             164 non-null    float64\n",
      " 12  certainty           164 non-null    float64\n",
      " 13  kulczynski          164 non-null    float64\n",
      "dtypes: float64(12), object(2)\n",
      "memory usage: 18.1+ KB\n"
     ]
    },
    {
     "data": {
      "text/html": [
       "<div>\n",
       "<style scoped>\n",
       "    .dataframe tbody tr th:only-of-type {\n",
       "        vertical-align: middle;\n",
       "    }\n",
       "\n",
       "    .dataframe tbody tr th {\n",
       "        vertical-align: top;\n",
       "    }\n",
       "\n",
       "    .dataframe thead th {\n",
       "        text-align: right;\n",
       "    }\n",
       "</style>\n",
       "<table border=\"1\" class=\"dataframe\">\n",
       "  <thead>\n",
       "    <tr style=\"text-align: right;\">\n",
       "      <th></th>\n",
       "      <th>antecedents</th>\n",
       "      <th>consequents</th>\n",
       "      <th>antecedent support</th>\n",
       "      <th>consequent support</th>\n",
       "      <th>support</th>\n",
       "      <th>confidence</th>\n",
       "      <th>lift</th>\n",
       "      <th>representativity</th>\n",
       "      <th>leverage</th>\n",
       "      <th>conviction</th>\n",
       "      <th>zhangs_metric</th>\n",
       "      <th>jaccard</th>\n",
       "      <th>certainty</th>\n",
       "      <th>kulczynski</th>\n",
       "    </tr>\n",
       "  </thead>\n",
       "  <tbody>\n",
       "    <tr>\n",
       "      <th>0</th>\n",
       "      <td>(FewUserReviews)</td>\n",
       "      <td>(NoCriticReviews)</td>\n",
       "      <td>0.260945</td>\n",
       "      <td>0.695090</td>\n",
       "      <td>0.166832</td>\n",
       "      <td>0.639336</td>\n",
       "      <td>0.919789</td>\n",
       "      <td>1.0</td>\n",
       "      <td>-0.014549</td>\n",
       "      <td>0.845413</td>\n",
       "      <td>-0.105543</td>\n",
       "      <td>0.211392</td>\n",
       "      <td>-0.182853</td>\n",
       "      <td>0.439675</td>\n",
       "    </tr>\n",
       "    <tr>\n",
       "      <th>1</th>\n",
       "      <td>(HighRating)</td>\n",
       "      <td>(NoCriticReviews)</td>\n",
       "      <td>0.293285</td>\n",
       "      <td>0.695090</td>\n",
       "      <td>0.208880</td>\n",
       "      <td>0.712207</td>\n",
       "      <td>1.024626</td>\n",
       "      <td>1.0</td>\n",
       "      <td>0.005020</td>\n",
       "      <td>1.059478</td>\n",
       "      <td>0.034008</td>\n",
       "      <td>0.267968</td>\n",
       "      <td>0.056139</td>\n",
       "      <td>0.506357</td>\n",
       "    </tr>\n",
       "    <tr>\n",
       "      <th>2</th>\n",
       "      <td>(LowCredits)</td>\n",
       "      <td>(NoCriticReviews)</td>\n",
       "      <td>0.271766</td>\n",
       "      <td>0.695090</td>\n",
       "      <td>0.206282</td>\n",
       "      <td>0.759044</td>\n",
       "      <td>1.092008</td>\n",
       "      <td>1.0</td>\n",
       "      <td>0.017381</td>\n",
       "      <td>1.265419</td>\n",
       "      <td>0.115699</td>\n",
       "      <td>0.271220</td>\n",
       "      <td>0.209748</td>\n",
       "      <td>0.527908</td>\n",
       "    </tr>\n",
       "    <tr>\n",
       "      <th>3</th>\n",
       "      <td>(LowCredits)</td>\n",
       "      <td>(NoUserReviews)</td>\n",
       "      <td>0.271766</td>\n",
       "      <td>0.560970</td>\n",
       "      <td>0.170480</td>\n",
       "      <td>0.627304</td>\n",
       "      <td>1.118249</td>\n",
       "      <td>1.0</td>\n",
       "      <td>0.018027</td>\n",
       "      <td>1.177985</td>\n",
       "      <td>0.145207</td>\n",
       "      <td>0.257423</td>\n",
       "      <td>0.151092</td>\n",
       "      <td>0.465603</td>\n",
       "    </tr>\n",
       "    <tr>\n",
       "      <th>4</th>\n",
       "      <td>(LowRating)</td>\n",
       "      <td>(NoCriticReviews)</td>\n",
       "      <td>0.268118</td>\n",
       "      <td>0.695090</td>\n",
       "      <td>0.176045</td>\n",
       "      <td>0.656596</td>\n",
       "      <td>0.944620</td>\n",
       "      <td>1.0</td>\n",
       "      <td>-0.010321</td>\n",
       "      <td>0.887904</td>\n",
       "      <td>-0.074164</td>\n",
       "      <td>0.223645</td>\n",
       "      <td>-0.126248</td>\n",
       "      <td>0.454933</td>\n",
       "    </tr>\n",
       "    <tr>\n",
       "      <th>5</th>\n",
       "      <td>(LowRuntime)</td>\n",
       "      <td>(NoCriticReviews)</td>\n",
       "      <td>0.343804</td>\n",
       "      <td>0.695090</td>\n",
       "      <td>0.270467</td>\n",
       "      <td>0.786691</td>\n",
       "      <td>1.131782</td>\n",
       "      <td>1.0</td>\n",
       "      <td>0.031493</td>\n",
       "      <td>1.429425</td>\n",
       "      <td>0.177443</td>\n",
       "      <td>0.351976</td>\n",
       "      <td>0.300418</td>\n",
       "      <td>0.587901</td>\n",
       "    </tr>\n",
       "    <tr>\n",
       "      <th>6</th>\n",
       "      <td>(LowRuntime)</td>\n",
       "      <td>(NoUserReviews)</td>\n",
       "      <td>0.343804</td>\n",
       "      <td>0.560970</td>\n",
       "      <td>0.213084</td>\n",
       "      <td>0.619784</td>\n",
       "      <td>1.104845</td>\n",
       "      <td>1.0</td>\n",
       "      <td>0.020221</td>\n",
       "      <td>1.154687</td>\n",
       "      <td>0.144614</td>\n",
       "      <td>0.308064</td>\n",
       "      <td>0.133965</td>\n",
       "      <td>0.499817</td>\n",
       "    </tr>\n",
       "    <tr>\n",
       "      <th>7</th>\n",
       "      <td>(tvEpisode)</td>\n",
       "      <td>(LowRuntime)</td>\n",
       "      <td>0.290502</td>\n",
       "      <td>0.343804</td>\n",
       "      <td>0.200099</td>\n",
       "      <td>0.688804</td>\n",
       "      <td>2.003477</td>\n",
       "      <td>1.0</td>\n",
       "      <td>0.100223</td>\n",
       "      <td>2.108624</td>\n",
       "      <td>0.705947</td>\n",
       "      <td>0.460837</td>\n",
       "      <td>0.525757</td>\n",
       "      <td>0.635409</td>\n",
       "    </tr>\n",
       "    <tr>\n",
       "      <th>8</th>\n",
       "      <td>(LowVotes)</td>\n",
       "      <td>(NoCriticReviews)</td>\n",
       "      <td>0.300396</td>\n",
       "      <td>0.695090</td>\n",
       "      <td>0.253092</td>\n",
       "      <td>0.842528</td>\n",
       "      <td>1.212113</td>\n",
       "      <td>1.0</td>\n",
       "      <td>0.044290</td>\n",
       "      <td>1.936276</td>\n",
       "      <td>0.250133</td>\n",
       "      <td>0.340913</td>\n",
       "      <td>0.483545</td>\n",
       "      <td>0.603321</td>\n",
       "    </tr>\n",
       "    <tr>\n",
       "      <th>9</th>\n",
       "      <td>(LowVotes)</td>\n",
       "      <td>(NoUserReviews)</td>\n",
       "      <td>0.300396</td>\n",
       "      <td>0.560970</td>\n",
       "      <td>0.213394</td>\n",
       "      <td>0.710375</td>\n",
       "      <td>1.266334</td>\n",
       "      <td>1.0</td>\n",
       "      <td>0.044881</td>\n",
       "      <td>1.515856</td>\n",
       "      <td>0.300625</td>\n",
       "      <td>0.329325</td>\n",
       "      <td>0.340307</td>\n",
       "      <td>0.545388</td>\n",
       "    </tr>\n",
       "  </tbody>\n",
       "</table>\n",
       "</div>"
      ],
      "text/plain": [
       "        antecedents        consequents  antecedent support  \\\n",
       "0  (FewUserReviews)  (NoCriticReviews)            0.260945   \n",
       "1      (HighRating)  (NoCriticReviews)            0.293285   \n",
       "2      (LowCredits)  (NoCriticReviews)            0.271766   \n",
       "3      (LowCredits)    (NoUserReviews)            0.271766   \n",
       "4       (LowRating)  (NoCriticReviews)            0.268118   \n",
       "5      (LowRuntime)  (NoCriticReviews)            0.343804   \n",
       "6      (LowRuntime)    (NoUserReviews)            0.343804   \n",
       "7       (tvEpisode)       (LowRuntime)            0.290502   \n",
       "8        (LowVotes)  (NoCriticReviews)            0.300396   \n",
       "9        (LowVotes)    (NoUserReviews)            0.300396   \n",
       "\n",
       "   consequent support   support  confidence      lift  representativity  \\\n",
       "0            0.695090  0.166832    0.639336  0.919789               1.0   \n",
       "1            0.695090  0.208880    0.712207  1.024626               1.0   \n",
       "2            0.695090  0.206282    0.759044  1.092008               1.0   \n",
       "3            0.560970  0.170480    0.627304  1.118249               1.0   \n",
       "4            0.695090  0.176045    0.656596  0.944620               1.0   \n",
       "5            0.695090  0.270467    0.786691  1.131782               1.0   \n",
       "6            0.560970  0.213084    0.619784  1.104845               1.0   \n",
       "7            0.343804  0.200099    0.688804  2.003477               1.0   \n",
       "8            0.695090  0.253092    0.842528  1.212113               1.0   \n",
       "9            0.560970  0.213394    0.710375  1.266334               1.0   \n",
       "\n",
       "   leverage  conviction  zhangs_metric   jaccard  certainty  kulczynski  \n",
       "0 -0.014549    0.845413      -0.105543  0.211392  -0.182853    0.439675  \n",
       "1  0.005020    1.059478       0.034008  0.267968   0.056139    0.506357  \n",
       "2  0.017381    1.265419       0.115699  0.271220   0.209748    0.527908  \n",
       "3  0.018027    1.177985       0.145207  0.257423   0.151092    0.465603  \n",
       "4 -0.010321    0.887904      -0.074164  0.223645  -0.126248    0.454933  \n",
       "5  0.031493    1.429425       0.177443  0.351976   0.300418    0.587901  \n",
       "6  0.020221    1.154687       0.144614  0.308064   0.133965    0.499817  \n",
       "7  0.100223    2.108624       0.705947  0.460837   0.525757    0.635409  \n",
       "8  0.044290    1.936276       0.250133  0.340913   0.483545    0.603321  \n",
       "9  0.044881    1.515856       0.300625  0.329325   0.340307    0.545388  "
      ]
     },
     "execution_count": 1417,
     "metadata": {},
     "output_type": "execute_result"
    }
   ],
   "source": [
    "#Apriori\n",
    "rules_apriori = association_rules(frequent_itemsets_apriori, metric=\"confidence\", min_threshold=min_confidence)\n",
    "rules_apriori.info()\n",
    "rules_apriori.head(10)"
   ]
  },
  {
   "cell_type": "markdown",
   "id": "81a58645",
   "metadata": {},
   "source": [
    "### Scelta valori confidence"
   ]
  },
  {
   "cell_type": "code",
   "execution_count": 1418,
   "id": "71dfaefe",
   "metadata": {},
   "outputs": [
    {
     "name": "stdout",
     "output_type": "stream",
     "text": [
      "min_confidence=0.4: 316 regole trovate, lift medio = 1.57\n",
      "min_confidence=0.5: 226 regole trovate, lift medio = 1.60\n",
      "min_confidence=0.6: 164 regole trovate, lift medio = 1.58\n",
      "min_confidence=0.7: 116 regole trovate, lift medio = 1.63\n"
     ]
    }
   ],
   "source": [
    "from mlxtend.frequent_patterns import association_rules\n",
    "\n",
    "conf_values = [0.4, 0.5, 0.6, 0.7]\n",
    "for c in conf_values:\n",
    "    rules = association_rules(frequent_itemsets_apriori, metric=\"confidence\", min_threshold=c)\n",
    "    print(f\"min_confidence={c}: {len(rules)} regole trovate, lift medio = {rules['lift'].mean():.2f}\")\n"
   ]
  },
  {
   "cell_type": "code",
   "execution_count": 1419,
   "id": "afee199e",
   "metadata": {},
   "outputs": [
    {
     "data": {
      "text/html": [
       "<div>\n",
       "<style scoped>\n",
       "    .dataframe tbody tr th:only-of-type {\n",
       "        vertical-align: middle;\n",
       "    }\n",
       "\n",
       "    .dataframe tbody tr th {\n",
       "        vertical-align: top;\n",
       "    }\n",
       "\n",
       "    .dataframe thead th {\n",
       "        text-align: right;\n",
       "    }\n",
       "</style>\n",
       "<table border=\"1\" class=\"dataframe\">\n",
       "  <thead>\n",
       "    <tr style=\"text-align: right;\">\n",
       "      <th></th>\n",
       "      <th>antecedents</th>\n",
       "      <th>consequents</th>\n",
       "      <th>antecedent support</th>\n",
       "      <th>consequent support</th>\n",
       "      <th>support</th>\n",
       "      <th>confidence</th>\n",
       "      <th>lift</th>\n",
       "      <th>representativity</th>\n",
       "      <th>leverage</th>\n",
       "      <th>conviction</th>\n",
       "      <th>zhangs_metric</th>\n",
       "      <th>jaccard</th>\n",
       "      <th>certainty</th>\n",
       "      <th>kulczynski</th>\n",
       "    </tr>\n",
       "  </thead>\n",
       "  <tbody>\n",
       "    <tr>\n",
       "      <th>137</th>\n",
       "      <td>(VeryLowCredits, VeryLowRuntime)</td>\n",
       "      <td>(short)</td>\n",
       "      <td>0.101348</td>\n",
       "      <td>0.152980</td>\n",
       "      <td>0.083168</td>\n",
       "      <td>0.820622</td>\n",
       "      <td>5.364230</td>\n",
       "      <td>1.0</td>\n",
       "      <td>0.067664</td>\n",
       "      <td>4.721990</td>\n",
       "      <td>0.905334</td>\n",
       "      <td>0.485910</td>\n",
       "      <td>0.788225</td>\n",
       "      <td>0.682138</td>\n",
       "    </tr>\n",
       "    <tr>\n",
       "      <th>136</th>\n",
       "      <td>(short, VeryLowCredits)</td>\n",
       "      <td>(VeryLowRuntime)</td>\n",
       "      <td>0.089537</td>\n",
       "      <td>0.234047</td>\n",
       "      <td>0.083168</td>\n",
       "      <td>0.928867</td>\n",
       "      <td>3.968730</td>\n",
       "      <td>1.0</td>\n",
       "      <td>0.062213</td>\n",
       "      <td>10.767968</td>\n",
       "      <td>0.821594</td>\n",
       "      <td>0.345936</td>\n",
       "      <td>0.907132</td>\n",
       "      <td>0.642109</td>\n",
       "    </tr>\n",
       "    <tr>\n",
       "      <th>126</th>\n",
       "      <td>(VeryLowRuntime, NoCriticReviews)</td>\n",
       "      <td>(short)</td>\n",
       "      <td>0.190700</td>\n",
       "      <td>0.152980</td>\n",
       "      <td>0.115261</td>\n",
       "      <td>0.604410</td>\n",
       "      <td>3.950896</td>\n",
       "      <td>1.0</td>\n",
       "      <td>0.086088</td>\n",
       "      <td>2.141154</td>\n",
       "      <td>0.922887</td>\n",
       "      <td>0.504602</td>\n",
       "      <td>0.532962</td>\n",
       "      <td>0.678923</td>\n",
       "    </tr>\n",
       "    <tr>\n",
       "      <th>127</th>\n",
       "      <td>(short)</td>\n",
       "      <td>(VeryLowRuntime, NoCriticReviews)</td>\n",
       "      <td>0.152980</td>\n",
       "      <td>0.190700</td>\n",
       "      <td>0.115261</td>\n",
       "      <td>0.753436</td>\n",
       "      <td>3.950896</td>\n",
       "      <td>1.0</td>\n",
       "      <td>0.086088</td>\n",
       "      <td>3.282309</td>\n",
       "      <td>0.881789</td>\n",
       "      <td>0.504602</td>\n",
       "      <td>0.695336</td>\n",
       "      <td>0.678923</td>\n",
       "    </tr>\n",
       "    <tr>\n",
       "      <th>125</th>\n",
       "      <td>(short, NoCriticReviews)</td>\n",
       "      <td>(VeryLowRuntime)</td>\n",
       "      <td>0.126020</td>\n",
       "      <td>0.234047</td>\n",
       "      <td>0.115261</td>\n",
       "      <td>0.914622</td>\n",
       "      <td>3.907865</td>\n",
       "      <td>1.0</td>\n",
       "      <td>0.085766</td>\n",
       "      <td>8.971340</td>\n",
       "      <td>0.851399</td>\n",
       "      <td>0.470826</td>\n",
       "      <td>0.888534</td>\n",
       "      <td>0.703546</td>\n",
       "    </tr>\n",
       "    <tr>\n",
       "      <th>...</th>\n",
       "      <td>...</td>\n",
       "      <td>...</td>\n",
       "      <td>...</td>\n",
       "      <td>...</td>\n",
       "      <td>...</td>\n",
       "      <td>...</td>\n",
       "      <td>...</td>\n",
       "      <td>...</td>\n",
       "      <td>...</td>\n",
       "      <td>...</td>\n",
       "      <td>...</td>\n",
       "      <td>...</td>\n",
       "      <td>...</td>\n",
       "      <td>...</td>\n",
       "    </tr>\n",
       "    <tr>\n",
       "      <th>15</th>\n",
       "      <td>(MediumVotes)</td>\n",
       "      <td>(NoCriticReviews)</td>\n",
       "      <td>0.183156</td>\n",
       "      <td>0.695090</td>\n",
       "      <td>0.121630</td>\n",
       "      <td>0.664078</td>\n",
       "      <td>0.955384</td>\n",
       "      <td>1.0</td>\n",
       "      <td>-0.005680</td>\n",
       "      <td>0.907681</td>\n",
       "      <td>-0.054079</td>\n",
       "      <td>0.160755</td>\n",
       "      <td>-0.101709</td>\n",
       "      <td>0.419531</td>\n",
       "    </tr>\n",
       "    <tr>\n",
       "      <th>4</th>\n",
       "      <td>(LowRating)</td>\n",
       "      <td>(NoCriticReviews)</td>\n",
       "      <td>0.268118</td>\n",
       "      <td>0.695090</td>\n",
       "      <td>0.176045</td>\n",
       "      <td>0.656596</td>\n",
       "      <td>0.944620</td>\n",
       "      <td>1.0</td>\n",
       "      <td>-0.010321</td>\n",
       "      <td>0.887904</td>\n",
       "      <td>-0.074164</td>\n",
       "      <td>0.223645</td>\n",
       "      <td>-0.126248</td>\n",
       "      <td>0.454933</td>\n",
       "    </tr>\n",
       "    <tr>\n",
       "      <th>36</th>\n",
       "      <td>(FewUserReviews, is_from_NorthAmerica)</td>\n",
       "      <td>(NoCriticReviews)</td>\n",
       "      <td>0.136347</td>\n",
       "      <td>0.695090</td>\n",
       "      <td>0.088795</td>\n",
       "      <td>0.651247</td>\n",
       "      <td>0.936925</td>\n",
       "      <td>1.0</td>\n",
       "      <td>-0.005978</td>\n",
       "      <td>0.874286</td>\n",
       "      <td>-0.072313</td>\n",
       "      <td>0.119567</td>\n",
       "      <td>-0.143790</td>\n",
       "      <td>0.389497</td>\n",
       "    </tr>\n",
       "    <tr>\n",
       "      <th>24</th>\n",
       "      <td>(is_from_NorthAmerica)</td>\n",
       "      <td>(NoCriticReviews)</td>\n",
       "      <td>0.477306</td>\n",
       "      <td>0.695090</td>\n",
       "      <td>0.310537</td>\n",
       "      <td>0.650602</td>\n",
       "      <td>0.935997</td>\n",
       "      <td>1.0</td>\n",
       "      <td>-0.021234</td>\n",
       "      <td>0.872673</td>\n",
       "      <td>-0.115687</td>\n",
       "      <td>0.360310</td>\n",
       "      <td>-0.145905</td>\n",
       "      <td>0.548680</td>\n",
       "    </tr>\n",
       "    <tr>\n",
       "      <th>0</th>\n",
       "      <td>(FewUserReviews)</td>\n",
       "      <td>(NoCriticReviews)</td>\n",
       "      <td>0.260945</td>\n",
       "      <td>0.695090</td>\n",
       "      <td>0.166832</td>\n",
       "      <td>0.639336</td>\n",
       "      <td>0.919789</td>\n",
       "      <td>1.0</td>\n",
       "      <td>-0.014549</td>\n",
       "      <td>0.845413</td>\n",
       "      <td>-0.105543</td>\n",
       "      <td>0.211392</td>\n",
       "      <td>-0.182853</td>\n",
       "      <td>0.439675</td>\n",
       "    </tr>\n",
       "  </tbody>\n",
       "</table>\n",
       "<p>164 rows × 14 columns</p>\n",
       "</div>"
      ],
      "text/plain": [
       "                                antecedents  \\\n",
       "137        (VeryLowCredits, VeryLowRuntime)   \n",
       "136                 (short, VeryLowCredits)   \n",
       "126       (VeryLowRuntime, NoCriticReviews)   \n",
       "127                                 (short)   \n",
       "125                (short, NoCriticReviews)   \n",
       "..                                      ...   \n",
       "15                            (MediumVotes)   \n",
       "4                               (LowRating)   \n",
       "36   (FewUserReviews, is_from_NorthAmerica)   \n",
       "24                   (is_from_NorthAmerica)   \n",
       "0                          (FewUserReviews)   \n",
       "\n",
       "                           consequents  antecedent support  \\\n",
       "137                            (short)            0.101348   \n",
       "136                   (VeryLowRuntime)            0.089537   \n",
       "126                            (short)            0.190700   \n",
       "127  (VeryLowRuntime, NoCriticReviews)            0.152980   \n",
       "125                   (VeryLowRuntime)            0.126020   \n",
       "..                                 ...                 ...   \n",
       "15                   (NoCriticReviews)            0.183156   \n",
       "4                    (NoCriticReviews)            0.268118   \n",
       "36                   (NoCriticReviews)            0.136347   \n",
       "24                   (NoCriticReviews)            0.477306   \n",
       "0                    (NoCriticReviews)            0.260945   \n",
       "\n",
       "     consequent support   support  confidence      lift  representativity  \\\n",
       "137            0.152980  0.083168    0.820622  5.364230               1.0   \n",
       "136            0.234047  0.083168    0.928867  3.968730               1.0   \n",
       "126            0.152980  0.115261    0.604410  3.950896               1.0   \n",
       "127            0.190700  0.115261    0.753436  3.950896               1.0   \n",
       "125            0.234047  0.115261    0.914622  3.907865               1.0   \n",
       "..                  ...       ...         ...       ...               ...   \n",
       "15             0.695090  0.121630    0.664078  0.955384               1.0   \n",
       "4              0.695090  0.176045    0.656596  0.944620               1.0   \n",
       "36             0.695090  0.088795    0.651247  0.936925               1.0   \n",
       "24             0.695090  0.310537    0.650602  0.935997               1.0   \n",
       "0              0.695090  0.166832    0.639336  0.919789               1.0   \n",
       "\n",
       "     leverage  conviction  zhangs_metric   jaccard  certainty  kulczynski  \n",
       "137  0.067664    4.721990       0.905334  0.485910   0.788225    0.682138  \n",
       "136  0.062213   10.767968       0.821594  0.345936   0.907132    0.642109  \n",
       "126  0.086088    2.141154       0.922887  0.504602   0.532962    0.678923  \n",
       "127  0.086088    3.282309       0.881789  0.504602   0.695336    0.678923  \n",
       "125  0.085766    8.971340       0.851399  0.470826   0.888534    0.703546  \n",
       "..        ...         ...            ...       ...        ...         ...  \n",
       "15  -0.005680    0.907681      -0.054079  0.160755  -0.101709    0.419531  \n",
       "4   -0.010321    0.887904      -0.074164  0.223645  -0.126248    0.454933  \n",
       "36  -0.005978    0.874286      -0.072313  0.119567  -0.143790    0.389497  \n",
       "24  -0.021234    0.872673      -0.115687  0.360310  -0.145905    0.548680  \n",
       "0   -0.014549    0.845413      -0.105543  0.211392  -0.182853    0.439675  \n",
       "\n",
       "[164 rows x 14 columns]"
      ]
     },
     "execution_count": 1419,
     "metadata": {},
     "output_type": "execute_result"
    }
   ],
   "source": [
    "rules_apriori.sort_values(by=\"lift\", axis=0, ascending=False)"
   ]
  },
  {
   "cell_type": "markdown",
   "id": "2a1feaec",
   "metadata": {},
   "source": [
    "### Target Prediction: various attempts (find the most informative one)"
   ]
  },
  {
   "cell_type": "code",
   "execution_count": 1420,
   "id": "47410a0a",
   "metadata": {},
   "outputs": [
    {
     "name": "stdout",
     "output_type": "stream",
     "text": [
      "                                  antecedents             consequents  \\\n",
      "10                          (ManyUserReviews)  (is_from_NorthAmerica)   \n",
      "45                    (tvEpisode, HighRating)  (is_from_NorthAmerica)   \n",
      "69                    (tvEpisode, LowRuntime)  (is_from_NorthAmerica)   \n",
      "150  (tvEpisode, LowRuntime, NoCriticReviews)  (is_from_NorthAmerica)   \n",
      "35                                (tvEpisode)  (is_from_NorthAmerica)   \n",
      "38                   (LowRuntime, HighRating)  (is_from_NorthAmerica)   \n",
      "\n",
      "     antecedent support  consequent support   support  confidence      lift  \\\n",
      "10             0.144385            0.477306  0.093186    0.645396  1.352163   \n",
      "45             0.136718            0.477306  0.086693    0.634102  1.328501   \n",
      "69             0.200099            0.477306  0.126082    0.630099  1.320114   \n",
      "150            0.153351            0.477306  0.093000    0.606452  1.270571   \n",
      "35             0.290502            0.477306  0.175921    0.605577  1.268738   \n",
      "38             0.138140            0.477306  0.082983    0.600716  1.258555   \n",
      "\n",
      "     representativity  leverage  conviction  zhangs_metric   jaccard  \\\n",
      "10                1.0  0.024270    1.474021       0.304394  0.176319   \n",
      "45                1.0  0.021437    1.428523       0.286432  0.164400   \n",
      "69                1.0  0.030574    1.413063       0.303150  0.228690   \n",
      "150               1.0  0.019805    1.328156       0.251524  0.172973   \n",
      "35                1.0  0.037263    1.325210       0.298542  0.297221   \n",
      "38                1.0  0.017048    1.309078       0.238365  0.155847   \n",
      "\n",
      "     certainty  kulczynski  \n",
      "10    0.321584    0.420314  \n",
      "45    0.299976    0.407866  \n",
      "69    0.292317    0.447126  \n",
      "150   0.247076    0.400648  \n",
      "35    0.245403    0.487074  \n",
      "38    0.236103    0.387286  \n"
     ]
    }
   ],
   "source": [
    "# Filtro le regole con \"nord america\" nei consequents\n",
    "rules_north_am = rules_apriori[rules_apriori['consequents'] == frozenset({'is_from_NorthAmerica'})]\n",
    "\n",
    "\n",
    "# Ordina le regole per lift in ordine decrescente\n",
    "rules_north_am_sorted = rules_north_am.sort_values(by='lift', ascending=False)\n",
    "\n",
    "print(rules_north_am_sorted)"
   ]
  },
  {
   "cell_type": "code",
   "execution_count": 1421,
   "id": "c0f5a1bc",
   "metadata": {},
   "outputs": [
    {
     "name": "stdout",
     "output_type": "stream",
     "text": [
      "To predict: is_from_NorthAmerica\n",
      "How? ManyUserReviews\n"
     ]
    }
   ],
   "source": [
    "# Filter the rule where the consequent contains \"is_from_NorthAmerica\"\n",
    "rule_for_highrated = [r for r in rules_apriori.iterrows() if 'is_from_NorthAmerica' in r[1]['consequents']]\n",
    "\n",
    "# Extract rule details (antecedents and consequents)\n",
    "if len(rule_for_highrated) > 0:\n",
    "    selected_rule = rule_for_highrated[0][1]  # Take the first matching rule\n",
    "    to_predict = \", \".join(selected_rule['consequents'])  # Convert frozenset to string\n",
    "    how = \", \".join(selected_rule['antecedents'])  # Convert frozenset to string\n",
    "\n",
    "    print(\"To predict:\", to_predict)\n",
    "    print(\"How?\", how)\n",
    "else:\n",
    "    print(\"No rules found with 'is_from_NorthAmerica' in the consequents.\")\n"
   ]
  },
  {
   "cell_type": "code",
   "execution_count": 1422,
   "id": "e2b5a125",
   "metadata": {},
   "outputs": [
    {
     "name": "stdout",
     "output_type": "stream",
     "text": [
      "Empty DataFrame\n",
      "Columns: [antecedents, consequents, antecedent support, consequent support, support, confidence, lift, representativity, leverage, conviction, zhangs_metric, jaccard, certainty, kulczynski]\n",
      "Index: []\n"
     ]
    }
   ],
   "source": [
    "# Filtro le regole con \"low runtime\" nei consequents\n",
    "rules_north_am = rules_apriori[rules_apriori['consequents'] == frozenset({'ManyUserReviews'})]\n",
    "\n",
    "# Ordina le regole per lift in ordine decrescente\n",
    "rules_north_am_sorted = rules_north_am.sort_values(by='lift', ascending=False)\n",
    "\n",
    "print(rules_north_am_sorted)"
   ]
  },
  {
   "cell_type": "code",
   "execution_count": 1423,
   "id": "e201bf81",
   "metadata": {},
   "outputs": [
    {
     "name": "stdout",
     "output_type": "stream",
     "text": [
      "No rules found with 'LowRuntime' in the consequents.\n"
     ]
    }
   ],
   "source": [
    "# Filter the rule where the consequent contains \"HighRated\"\n",
    "rule_for_highrated = [r for r in rules_apriori.iterrows() if 'ManyUserReviews' in r[1]['consequents']]\n",
    "\n",
    "# Extract rule details (antecedents and consequents)\n",
    "if len(rule_for_highrated) > 0:\n",
    "    selected_rule = rule_for_highrated[0][1]  # Take the first matching rule\n",
    "    to_predict = \", \".join(selected_rule['consequents'])  # Convert frozenset to string\n",
    "    how = \", \".join(selected_rule['antecedents'])  # Convert frozenset to string\n",
    "\n",
    "    print(\"To predict:\", to_predict)\n",
    "    print(\"How?\", how)\n",
    "else:\n",
    "    print(\"No rules found with 'LowRuntime' in the consequents.\")\n"
   ]
  }
 ],
 "metadata": {
  "kernelspec": {
   "display_name": "Python 3",
   "language": "python",
   "name": "python3"
  },
  "language_info": {
   "codemirror_mode": {
    "name": "ipython",
    "version": 3
   },
   "file_extension": ".py",
   "mimetype": "text/x-python",
   "name": "python",
   "nbconvert_exporter": "python",
   "pygments_lexer": "ipython3",
   "version": "3.8.2"
  }
 },
 "nbformat": 4,
 "nbformat_minor": 5
}
