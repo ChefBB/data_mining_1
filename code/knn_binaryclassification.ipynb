{
 "cells": [
  {
   "cell_type": "markdown",
   "id": "3828257c",
   "metadata": {},
   "source": [
    "# KNN - BINARY CLASSIFICATION (con 1he di titleType)"
   ]
  },
  {
   "cell_type": "code",
   "execution_count": 245,
   "id": "36f43208",
   "metadata": {},
   "outputs": [],
   "source": [
    "import ast\n",
    "import numpy as np\n",
    "import matplotlib.pyplot as plt\n",
    "import seaborn as sns\n",
    "import pandas as pd\n",
    "from sklearn.metrics import (\n",
    "    accuracy_score,\n",
    "    f1_score,\n",
    "    classification_report,\n",
    "    confusion_matrix,\n",
    "    roc_auc_score,\n",
    ")\n",
    "from scikitplot.metrics import plot_roc\n",
    "from scikitplot.metrics import plot_precision_recall\n",
    "from sklearn.preprocessing import StandardScaler\n",
    "from sklearn.preprocessing import MinMaxScaler\n",
    "from sklearn.neighbors import KNeighborsClassifier\n",
    "from sklearn.model_selection import RandomizedSearchCV\n",
    "from sklearn.model_selection import train_test_split"
   ]
  },
  {
   "cell_type": "code",
   "execution_count": 246,
   "id": "2b177a08",
   "metadata": {},
   "outputs": [],
   "source": [
    "train_df = pd.read_csv(\"pp_train.csv\")\n",
    "test_df = pd.read_csv(\"pp_test.csv\")\n",
    "\n",
    "copy_train = train_df.copy()\n",
    "copy_test = test_df.copy()"
   ]
  },
  {
   "cell_type": "code",
   "execution_count": 247,
   "id": "2ff731e0",
   "metadata": {},
   "outputs": [
    {
     "data": {
      "text/plain": [
       "Index(['originalTitle', 'rating', 'startYear', 'endYear', 'runtimeMinutes',\n",
       "       'awardWins', 'numVotes', 'totalImages', 'totalVideos', 'totalCredits',\n",
       "       'criticReviewsTotal', 'titleType', 'awardNominationsExcludeWins',\n",
       "       'canHaveEpisodes', 'numRegions', 'userReviewsTotal', 'is_Documentary',\n",
       "       'is_History', 'is_Adventure', 'is_Thriller', 'is_Game-Show',\n",
       "       'is_Comedy', 'is_Sci-Fi', 'is_Romance', 'is_Biography', 'is_Musical',\n",
       "       'is_Western', 'is_Music', 'is_Film-Noir', 'is_Adult', 'is_Reality-TV',\n",
       "       'is_News', 'is_Action', 'is_Crime', 'is_Short', 'is_Fantasy',\n",
       "       'is_Family', 'is_Mystery', 'is_Talk-Show', 'is_Drama', 'is_Sport',\n",
       "       'is_War', 'is_Horror', 'is_Animation', 'is_from_Oceania',\n",
       "       'is_from_North America', 'is_from_South America', 'is_from_Asia',\n",
       "       'is_from_Africa', 'is_from_Europe', 'countryOfOrigin',\n",
       "       'countryOfOrigin_freq_enc', 'countryOfOrigin_NA', 'countryOfOrigin_AF',\n",
       "       'countryOfOrigin_AS', 'countryOfOrigin_EU', 'countryOfOrigin_OC',\n",
       "       'countryOfOrigin_SA', 'countryOfOrigin_UNK',\n",
       "       'fill_runtimeMinutes_Bruno', 'totalNominations', 'totalMedia',\n",
       "       'runtimeMinutes_notitletype', 'outlier_no_type', 'outlier_w_type'],\n",
       "      dtype='object')"
      ]
     },
     "execution_count": 247,
     "metadata": {},
     "output_type": "execute_result"
    }
   ],
   "source": [
    "copy_train.columns"
   ]
  },
  {
   "cell_type": "markdown",
   "id": "ec464220",
   "metadata": {},
   "source": [
    "#### Deleting outliers"
   ]
  },
  {
   "cell_type": "code",
   "execution_count": 248,
   "id": "211a63d1",
   "metadata": {},
   "outputs": [],
   "source": [
    "copy_train = copy_train[copy_train[\"outlier_w_type\"] != True]\n",
    "copy_test = copy_test[copy_test[\"outlier_w_type\"] != True]"
   ]
  },
  {
   "cell_type": "markdown",
   "id": "305fe308",
   "metadata": {},
   "source": [
    "#### Creation of the target variable"
   ]
  },
  {
   "cell_type": "code",
   "execution_count": 249,
   "id": "aaff29fc",
   "metadata": {},
   "outputs": [],
   "source": [
    "copy_train['has_lowEngagement'] = (copy_train['numVotes'] < 100).astype(int)\n",
    "copy_test['has_lowEngagement'] = (copy_test['numVotes'] < 100).astype(int)"
   ]
  },
  {
   "cell_type": "code",
   "execution_count": 250,
   "id": "e45db777",
   "metadata": {},
   "outputs": [
    {
     "data": {
      "text/plain": [
       "10287"
      ]
     },
     "execution_count": 250,
     "metadata": {},
     "output_type": "execute_result"
    }
   ],
   "source": [
    "x = sum(copy_train[\"has_lowEngagement\"] == 1)\n",
    "x"
   ]
  },
  {
   "cell_type": "markdown",
   "id": "96463078",
   "metadata": {},
   "source": [
    "#### Selection of the target variable"
   ]
  },
  {
   "cell_type": "code",
   "execution_count": 251,
   "id": "2b35728e",
   "metadata": {},
   "outputs": [],
   "source": [
    "y_train = np.array(copy_train['has_lowEngagement'])  # Il target originale\n",
    "y_test = np.array(copy_test[\"has_lowEngagement\"])"
   ]
  },
  {
   "cell_type": "code",
   "execution_count": 252,
   "id": "4658e10b",
   "metadata": {},
   "outputs": [],
   "source": [
    "title_type_dummies_tr = pd.get_dummies(copy_train['titleType'], prefix='titleType')\n",
    "title_type_dummies_ts = pd.get_dummies(copy_test['titleType'], prefix='titleType')\n",
    "\n",
    "copy_train = pd.concat([copy_train, title_type_dummies_tr], axis=1)\n",
    "copy_test = pd.concat([copy_test, title_type_dummies_ts], axis=1)"
   ]
  },
  {
   "cell_type": "markdown",
   "id": "43a58f4b",
   "metadata": {},
   "source": [
    "#### Feature selection"
   ]
  },
  {
   "cell_type": "code",
   "execution_count": 253,
   "id": "67e176f4",
   "metadata": {},
   "outputs": [],
   "source": [
    "# --- Le tue colonne ---\n",
    "num_cols = [\n",
    "         'startYear', \n",
    "        'totalNominations', \n",
    "        'totalMedia', \n",
    "        'totalCredits', \n",
    "        #'criticReviewsTotal',  >>> da togliere perchè troppo simile a numVotes (ma in caso si può tenere)\n",
    "        'canHaveEpisodes', \n",
    "        'numRegions', \n",
    "        #'userReviewsTotal', >>> da togliere perchè troppo simile a numVotes \n",
    "        #\"fill_runtimeMinutes\",\n",
    "        'fill_runtimeMinutes_Bruno',\n",
    "        #'runtimeMinutes_notitletype',\n",
    "        'countryOfOrigin_freq_enc',\n",
    "    #    'countryOfOrigin_NA', 'countryOfOrigin_AF',\n",
    "    #    'countryOfOrigin_AS', 'countryOfOrigin_EU', 'countryOfOrigin_OC',\n",
    "    #    'countryOfOrigin_SA', 'countryOfOrigin_UNK',\n",
    "   \n",
    "    ]\n",
    "\n",
    "one_hot_cols = [\n",
    "        'titleType_movie', 'titleType_short', 'titleType_tvEpisode', 'titleType_tvMiniSeries',\n",
    "        'titleType_tvMovie', 'titleType_tvSeries', 'titleType_tvSpecial', 'titleType_video',\n",
    "\n",
    "        \"rating\", \n",
    "        \n",
    "       'is_Documentary','is_History', 'is_Adventure', 'is_Thriller', 'is_Game-Show',\n",
    "       'is_Comedy', 'is_Sci-Fi', 'is_Romance', 'is_Biography', 'is_Musical',\n",
    "       'is_Western', 'is_Music', 'is_Film-Noir', 'is_Adult', 'is_Reality-TV',\n",
    "       'is_News', 'is_Action', 'is_Crime', 'is_Short', 'is_Fantasy',\n",
    "       'is_Family', 'is_Mystery', 'is_Talk-Show', 'is_Drama', 'is_Sport',\n",
    "       'is_War', 'is_Horror', 'is_Animation',\n",
    "]\n",
    "\n",
    "# --- Log transformation ---\n",
    "X_train_log_num = np.log1p(copy_train[num_cols])\n",
    "X_test_log_num = np.log1p(copy_test[num_cols])\n",
    "\n",
    "# --- Scaler ---\n",
    "scaler = StandardScaler()\n",
    "X_train_scaled_num = pd.DataFrame(\n",
    "    scaler.fit_transform(copy_train[num_cols]),\n",
    "    columns=num_cols,\n",
    "    index=copy_train.index\n",
    ")\n",
    "X_test_scaled_num = pd.DataFrame(\n",
    "    scaler.transform(copy_test[num_cols]),\n",
    "    columns=num_cols,\n",
    "    index=copy_test.index\n",
    ")\n",
    "\n",
    "# --- Mantieni le one-hot invariate ---\n",
    "X_train_onehot = copy_train[one_hot_cols]\n",
    "X_test_onehot = copy_test[one_hot_cols]\n",
    "\n",
    "# --- Unisci ---\n",
    "X_train_temp = pd.concat([X_train_scaled_num, X_train_onehot], axis=1)\n",
    "X_test_temp = pd.concat([X_test_scaled_num, X_test_onehot], axis=1)\n",
    "\n",
    "# --- Ricostruisci l'ordine originale delle colonne ---\n",
    "original_cols = [col for col in copy_train.columns if col in num_cols + one_hot_cols]\n",
    "\n",
    "X_train_final = X_train_temp[original_cols]\n",
    "X_test_final = X_test_temp[original_cols]"
   ]
  },
  {
   "cell_type": "markdown",
   "id": "93b9196a",
   "metadata": {},
   "source": [
    "#### Splitting the dataset in train and validation"
   ]
  },
  {
   "cell_type": "code",
   "execution_count": 254,
   "id": "18e9f625",
   "metadata": {},
   "outputs": [],
   "source": [
    "from sklearn.model_selection import train_test_split\n",
    "\n",
    "# Supponiamo che y_train siano le etichette corrispondenti a X_train_final\n",
    "X_train_split, X_val_split, y_train_split, y_val_split = train_test_split(\n",
    "    X_train_final, y_train, \n",
    "    test_size=0.2,         # 20% validation\n",
    "    random_state=42)      # per rendere la suddivisione riproducibile"
   ]
  },
  {
   "cell_type": "markdown",
   "id": "b00481d6",
   "metadata": {},
   "source": [
    "#### Computation of the proper k"
   ]
  },
  {
   "cell_type": "code",
   "execution_count": 255,
   "id": "4f9821a2",
   "metadata": {},
   "outputs": [],
   "source": [
    "import numpy as np\n",
    "from sklearn.neighbors import KNeighborsClassifier\n",
    "from sklearn.model_selection import RandomizedSearchCV, StratifiedKFold\n",
    "from sklearn.metrics import accuracy_score\n",
    "\n",
    "def optimize_knn_with_external_validation(X_train, y_train, X_val, y_val, n_iter=100, cv=5, verbose=1):\n",
    "    # Calcolo range k\n",
    "    sqrt_n = int(np.sqrt(X_train.shape[0]))\n",
    "    \n",
    "    param_distributions = {\n",
    "        \"n_neighbors\": np.arange(1, sqrt_n + 1),\n",
    "        \"weights\": [\"uniform\", \"distance\"],\n",
    "        \"metric\": [\"euclidean\", \"cityblock\"]\n",
    "    }\n",
    "    \n",
    "    random_search = RandomizedSearchCV(\n",
    "        KNeighborsClassifier(),\n",
    "        param_distributions=param_distributions,\n",
    "        n_iter=n_iter,\n",
    "        cv=StratifiedKFold(n_splits=cv, shuffle=True, random_state=42),\n",
    "        n_jobs=-1,\n",
    "        refit=True,\n",
    "        random_state=42,\n",
    "        verbose=verbose,\n",
    "        scoring='accuracy',\n",
    "        return_train_score=True\n",
    "    )\n",
    "\n",
    "    # Fit solo sul training set\n",
    "    random_search.fit(X_train, y_train)\n",
    "#\n",
    "    # Valutazione su validation set\n",
    "    best_model = random_search.best_estimator_\n",
    "    y_val_pred = best_model.predict(X_val)\n",
    "    val_accuracy = accuracy_score(y_val, y_val_pred)\n",
    "\n",
    "    # Mostra le top 5 configurazioni (sulla cross-validation)\n",
    "    results = random_search.cv_results_\n",
    "    sorted_idx = np.argsort(results['rank_test_score'])\n",
    "    print(\"\\nTop 5 configurations (CV scores):\")\n",
    "    for i in range(5):\n",
    "        idx = sorted_idx[i]\n",
    "        print(f\"Rank {i+1}: {results['params'][idx]}\")\n",
    "        print(f\"   CV Test score: {results['mean_test_score'][idx]:.4f}\")\n",
    "        print(f\"   CV Train score: {results['mean_train_score'][idx]:.4f}\")\n",
    "\n",
    "    print(f\"\\nValidation Accuracy of Best Model: {val_accuracy:.4f}\")\n",
    "\n",
    "    return best_model, random_search.best_params_, val_accuracy"
   ]
  },
  {
   "cell_type": "code",
   "execution_count": 256,
   "id": "21df9c0f",
   "metadata": {},
   "outputs": [],
   "source": [
    "# # best_knn, best_params, best_score = optimize_knn(X_train2_standardsc, y_train2)\n",
    "\n",
    "# best_knn, best_params, val_score = optimize_knn_with_external_validation(\n",
    "#     X_train_split, y_train_split, X_val_split, y_val_split)\n",
    "\n",
    "\n",
    "# # # Create a new classifier with the optimized parameters\n",
    "# clf = KNeighborsClassifier(**best_params)\n",
    "# clf.fit(X_train_split, y_train_split)\n",
    "\n",
    "# y_pred = clf.predict(X_val_split)"
   ]
  },
  {
   "cell_type": "markdown",
   "id": "01221afc",
   "metadata": {},
   "source": [
    "#### Training the model (on the x_train_split)"
   ]
  },
  {
   "cell_type": "code",
   "execution_count": 257,
   "id": "a0468dc2",
   "metadata": {},
   "outputs": [],
   "source": [
    "clf = KNeighborsClassifier(weights = 'uniform', n_neighbors= 14 , metric = 'cityblock')\n",
    "clf.fit(X_train_split, y_train_split)\n",
    "\n",
    "y_pred = clf.predict(X_val_split)"
   ]
  },
  {
   "cell_type": "markdown",
   "id": "ee8000f9",
   "metadata": {},
   "source": [
    "#### Checking if the model overfits"
   ]
  },
  {
   "cell_type": "code",
   "execution_count": 258,
   "id": "2bc2de80",
   "metadata": {},
   "outputs": [
    {
     "name": "stdout",
     "output_type": "stream",
     "text": [
      "Performance sul Training set:\n",
      "Accuracy: 0.8441\n",
      "F1 Score: 0.8373\n",
      "\n",
      "Performance sul Validation set:\n",
      "Accuracy: 0.8205\n",
      "F1 Score: 0.8116\n"
     ]
    },
    {
     "data": {
      "image/png": "[encoded data removed]",
      "text/plain": [
       "<Figure size 1000x600 with 1 Axes>"
      ]
     },
     "metadata": {},
     "output_type": "display_data"
    }
   ],
   "source": [
    "# Importazioni necessarie (se non già importate)\n",
    "from sklearn.metrics import accuracy_score, f1_score, confusion_matrix\n",
    "import matplotlib.pyplot as plt\n",
    "import numpy as np\n",
    "import seaborn as sns\n",
    "\n",
    "# Valutazione sul training set\n",
    "y_pred_train = clf.predict(X_train_split)\n",
    "train_accuracy = accuracy_score(y_train_split, y_pred_train)\n",
    "train_f1 = f1_score(y_train_split, y_pred_train, average='weighted')\n",
    "\n",
    "# Valutazione sul validation set\n",
    "y_pred_val = clf.predict(X_val_split)\n",
    "val_accuracy = accuracy_score(y_val_split, y_pred_val)\n",
    "val_f1 = f1_score(y_val_split, y_pred_val, average='weighted')\n",
    "\n",
    "# Stampa dei risultati\n",
    "print(f\"Performance sul Training set:\")\n",
    "print(f\"Accuracy: {train_accuracy:.4f}\")\n",
    "print(f\"F1 Score: {train_f1:.4f}\")\n",
    "print(\"\\nPerformance sul Validation set:\")\n",
    "print(f\"Accuracy: {val_accuracy:.4f}\")\n",
    "print(f\"F1 Score: {val_f1:.4f}\")\n",
    "\n",
    "# Visualizzazione grafica del confronto\n",
    "metrics = ['Accuracy', 'F1 Score']\n",
    "train_scores = [train_accuracy, train_f1]\n",
    "val_scores = [val_accuracy, val_f1]\n",
    "\n",
    "x = np.arange(len(metrics))\n",
    "width = 0.35\n",
    "\n",
    "fig, ax = plt.subplots(figsize=(10, 6))\n",
    "rects1 = ax.bar(x - width/2, train_scores, width, label='Training')\n",
    "rects2 = ax.bar(x + width/2, val_scores, width, label='Validation')\n",
    "\n",
    "ax.set_ylabel('Score')\n",
    "ax.set_title('Training vs Validation Performance')\n",
    "ax.set_xticks(x)\n",
    "ax.set_xticklabels(metrics)\n",
    "ax.legend()\n",
    "ax.set_ylim(0, 1)\n",
    "\n",
    "# Aggiungi i valori sopra le barre\n",
    "def autolabel(rects):\n",
    "    for rect in rects:\n",
    "        height = rect.get_height()\n",
    "        ax.annotate(f'{height:.4f}',\n",
    "                    xy=(rect.get_x() + rect.get_width() / 2, height),\n",
    "                    xytext=(0, 3),\n",
    "                    textcoords=\"offset points\",\n",
    "                    ha='center', va='bottom')\n",
    "\n",
    "autolabel(rects1)\n",
    "autolabel(rects2)\n",
    "\n",
    "plt.tight_layout()\n",
    "plt.show()"
   ]
  },
  {
   "cell_type": "markdown",
   "id": "a957c046",
   "metadata": {},
   "source": [
    "#### Performance evaluation (validation set)"
   ]
  },
  {
   "cell_type": "code",
   "execution_count": 259,
   "id": "cfb8ce15",
   "metadata": {},
   "outputs": [
    {
     "name": "stdout",
     "output_type": "stream",
     "text": [
      "Validation accuracy: 0.8204613841524574\n",
      "\n",
      "Classification Report:\n",
      "                 precision    recall  f1-score   support\n",
      "\n",
      "high_engagement       0.80      0.58      0.67       946\n",
      " low_engagement       0.83      0.93      0.88      2045\n",
      "\n",
      "       accuracy                           0.82      2991\n",
      "      macro avg       0.81      0.76      0.77      2991\n",
      "   weighted avg       0.82      0.82      0.81      2991\n",
      "\n"
     ]
    }
   ],
   "source": [
    "class_names = ['high_engagement', 'low_engagement']\n",
    "\n",
    "# Performance evaluation con nomi semantici\n",
    "print(f\"Validation accuracy: {accuracy_score(y_val_split, y_pred)}\")\n",
    "print(\"\\nClassification Report:\")\n",
    "print(classification_report(y_val_split, y_pred, target_names=class_names))"
   ]
  },
  {
   "cell_type": "code",
   "execution_count": 260,
   "id": "7b9a1755",
   "metadata": {},
   "outputs": [
    {
     "data": {
      "image/png": "[encoded data removed]",
      "text/plain": [
       "<Figure size 640x480 with 2 Axes>"
      ]
     },
     "metadata": {},
     "output_type": "display_data"
    }
   ],
   "source": [
    "classes_unique = np.unique(y_val_split)\n",
    "cm = confusion_matrix(y_val_split, y_pred)\n",
    "sns.heatmap(cm, annot=True, fmt='d', cmap='Greens', \n",
    "            xticklabels=classes_unique, \n",
    "            yticklabels=classes_unique)\n",
    "plt.xlabel('True')\n",
    "plt.ylabel('Predicted')\n",
    "plt.tight_layout()\n",
    "plt.show()"
   ]
  },
  {
   "cell_type": "markdown",
   "id": "48708578",
   "metadata": {},
   "source": [
    "#### Training the model (on the x_train_final)"
   ]
  },
  {
   "cell_type": "code",
   "execution_count": 261,
   "id": "5554d78d",
   "metadata": {},
   "outputs": [],
   "source": [
    "clf = KNeighborsClassifier(weights = 'uniform', n_neighbors= 8, metric = 'cityblock')\n",
    "clf.fit(X_train_final, y_train)\n",
    "\n",
    "y_pred = clf.predict(X_test_final)"
   ]
  },
  {
   "cell_type": "code",
   "execution_count": 262,
   "id": "85825344",
   "metadata": {},
   "outputs": [
    {
     "name": "stdout",
     "output_type": "stream",
     "text": [
      "Performance sul Training set:\n",
      "Accuracy: 0.8621\n",
      "F1 Score: 0.8592\n",
      "\n",
      "Performance sul Test set:\n",
      "Accuracy: 0.8205\n",
      "F1 Score: 0.8116\n"
     ]
    },
    {
     "data": {
      "image/png": "[encoded data removed]",
      "text/plain": [
       "<Figure size 1000x600 with 1 Axes>"
      ]
     },
     "metadata": {},
     "output_type": "display_data"
    }
   ],
   "source": [
    "from sklearn.metrics import accuracy_score, f1_score, confusion_matrix\n",
    "import matplotlib.pyplot as plt\n",
    "import numpy as np\n",
    "import seaborn as sns\n",
    "\n",
    "# Valutazione sul training set\n",
    "y_pred_train = clf.predict(X_train_final)\n",
    "train_accuracy = accuracy_score(y_train, y_pred_train)\n",
    "train_f1 = f1_score(y_train, y_pred_train, average='weighted')\n",
    "\n",
    "# Valutazione sul test set\n",
    "y_pred_test = clf.predict(X_test_final)\n",
    "test_accuracy = accuracy_score(y_test, y_pred_test)\n",
    "test_f1 = f1_score(y_test, y_pred, average='weighted')\n",
    "\n",
    "# Stampa dei risultati\n",
    "print(f\"Performance sul Training set:\")\n",
    "print(f\"Accuracy: {train_accuracy:.4f}\")\n",
    "print(f\"F1 Score: {train_f1:.4f}\")\n",
    "print(\"\\nPerformance sul Test set:\")\n",
    "print(f\"Accuracy: {val_accuracy:.4f}\")\n",
    "print(f\"F1 Score: {val_f1:.4f}\")\n",
    "\n",
    "# Visualizzazione grafica del confronto\n",
    "metrics = ['Accuracy', 'F1 Score']\n",
    "train_scores = [train_accuracy, train_f1]\n",
    "test_scores = [test_accuracy, val_f1]\n",
    "\n",
    "x = np.arange(len(metrics))\n",
    "width = 0.35\n",
    "\n",
    "fig, ax = plt.subplots(figsize=(10, 6))\n",
    "rects1 = ax.bar(x - width/2, train_scores, width, label='Training')\n",
    "rects2 = ax.bar(x + width/2, val_scores, width, label='Validation')\n",
    "\n",
    "ax.set_ylabel('Score')\n",
    "ax.set_title('Training vs Test Performance')\n",
    "ax.set_xticks(x)\n",
    "ax.set_xticklabels(metrics)\n",
    "ax.legend()\n",
    "ax.set_ylim(0, 1)\n",
    "\n",
    "# Aggiungi i valori sopra le barre\n",
    "def autolabel(rects):\n",
    "    for rect in rects:\n",
    "        height = rect.get_height()\n",
    "        ax.annotate(f'{height:.4f}',\n",
    "                    xy=(rect.get_x() + rect.get_width() / 2, height),\n",
    "                    xytext=(0, 3),\n",
    "                    textcoords=\"offset points\",\n",
    "                    ha='center', va='bottom')\n",
    "\n",
    "autolabel(rects1)\n",
    "autolabel(rects2)\n",
    "\n",
    "plt.tight_layout()\n",
    "plt.show()"
   ]
  },
  {
   "cell_type": "markdown",
   "id": "b8227fc1",
   "metadata": {},
   "source": [
    "#### Performance evaluation (on the test set)"
   ]
  },
  {
   "cell_type": "code",
   "execution_count": 263,
   "id": "284c8dcb",
   "metadata": {},
   "outputs": [
    {
     "name": "stdout",
     "output_type": "stream",
     "text": [
      "Test accuracy: 0.8264014466546112\n",
      "\n",
      "Classification Report:\n",
      "                 precision    recall  f1-score   support\n",
      "\n",
      "high_engagement       0.77      0.64      0.70      1561\n",
      " low_engagement       0.85      0.91      0.88      3416\n",
      "\n",
      "       accuracy                           0.83      4977\n",
      "      macro avg       0.81      0.78      0.79      4977\n",
      "   weighted avg       0.82      0.83      0.82      4977\n",
      "\n"
     ]
    }
   ],
   "source": [
    "class_names = ['high_engagement', 'low_engagement']\n",
    "\n",
    "# Performance evaluation con nomi semantici\n",
    "print(f\"Test accuracy: {accuracy_score(y_test, y_pred)}\")\n",
    "print(\"\\nClassification Report:\")\n",
    "print(classification_report(y_test, y_pred, target_names=class_names))"
   ]
  },
  {
   "cell_type": "code",
   "execution_count": 264,
   "id": "e0d5e7ee",
   "metadata": {},
   "outputs": [
    {
     "data": {
      "image/png": "[encoded data removed]",
      "text/plain": [
       "<Figure size 640x480 with 2 Axes>"
      ]
     },
     "metadata": {},
     "output_type": "display_data"
    }
   ],
   "source": [
    "classes_unique = np.unique(y_test)\n",
    "cm = confusion_matrix(y_test, y_pred)\n",
    "sns.heatmap(cm, annot=True, fmt='d', cmap='Greens', \n",
    "            xticklabels=classes_unique, \n",
    "            yticklabels=classes_unique)\n",
    "plt.xlabel('True')\n",
    "plt.ylabel('Predicted')\n",
    "plt.tight_layout()\n",
    "plt.show()"
   ]
  }
 ],
 "metadata": {
  "kernelspec": {
   "display_name": "Python 3",
   "language": "python",
   "name": "python3"
  },
  "language_info": {
   "codemirror_mode": {
    "name": "ipython",
    "version": 3
   },
   "file_extension": ".py",
   "mimetype": "text/x-python",
   "name": "python",
   "nbconvert_exporter": "python",
   "pygments_lexer": "ipython3",
   "version": "3.8.2"
  }
 },
 "nbformat": 4,
 "nbformat_minor": 5
}
