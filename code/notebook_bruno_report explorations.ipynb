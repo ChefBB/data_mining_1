{
 "cells": [
  {
   "cell_type": "code",
   "execution_count": 24,
   "id": "fa26e36b",
   "metadata": {},
   "outputs": [],
   "source": [
    "from support.df_init import init\n",
    "\n",
    "train = init()\n",
    "test = init('pp_test.csv')"
   ]
  },
  {
   "cell_type": "code",
   "execution_count": 25,
   "id": "7678bde6",
   "metadata": {},
   "outputs": [
    {
     "data": {
      "text/plain": [
       "(0.0, 0)"
      ]
     },
     "execution_count": 25,
     "metadata": {},
     "output_type": "execute_result"
    }
   ],
   "source": [
    "diff_count = (train['isAdult'] != train['is_Adult']).sum()\n",
    "percent_diff = 100 * diff_count / len(train)\n",
    "percent_diff, diff_count"
   ]
  },
  {
   "cell_type": "code",
   "execution_count": 26,
   "id": "fc0731b8",
   "metadata": {},
   "outputs": [
    {
     "data": {
      "text/plain": [
       "(0.0, 0)"
      ]
     },
     "execution_count": 26,
     "metadata": {},
     "output_type": "execute_result"
    }
   ],
   "source": [
    "diff_count = (test['isAdult'] != test['is_Adult']).sum()\n",
    "percent_diff = 100 * diff_count / len(test)\n",
    "percent_diff, diff_count"
   ]
  },
  {
   "cell_type": "code",
   "execution_count": 27,
   "id": "86376a91",
   "metadata": {},
   "outputs": [
    {
     "data": {
      "text/plain": [
       "Index(['originalTitle', 'rating', 'startYear', 'endYear', 'runtimeMinutes',\n",
       "       'awardWins', 'numVotes', 'totalImages', 'totalVideos', 'totalCredits',\n",
       "       'criticReviewsTotal', 'titleType', 'awardNominationsExcludeWins',\n",
       "       'canHaveEpisodes', 'isAdult', 'numRegions', 'userReviewsTotal',\n",
       "       'is_Documentary', 'is_History', 'is_Adventure', 'is_Thriller',\n",
       "       'is_Game-Show', 'is_Comedy', 'is_Sci-Fi', 'is_Romance', 'is_Biography',\n",
       "       'is_Musical', 'is_Western', 'is_Music', 'is_Film-Noir', 'is_Adult',\n",
       "       'is_Reality-TV', 'is_News', 'is_Action', 'is_Crime', 'is_Short',\n",
       "       'is_Fantasy', 'is_Family', 'is_Mystery', 'is_Talk-Show', 'is_Drama',\n",
       "       'is_Sport', 'is_War', 'is_Horror', 'is_Animation',\n",
       "       'fill_runtimeMinutes', 'is_from_Oceania', 'is_from_North America',\n",
       "       'is_from_South America', 'is_from_Asia', 'is_from_Africa',\n",
       "       'is_from_Europe', 'countryOfOrigin', 'countryOfOrigin_freq_enc',\n",
       "       'countryOfOrigin_NA', 'countryOfOrigin_AF', 'countryOfOrigin_AS',\n",
       "       'countryOfOrigin_EU', 'countryOfOrigin_OC', 'countryOfOrigin_SA',\n",
       "       'countryOfOrigin_UNK', 'fill_runtimeMinutes_Bruno', 'totalNominations',\n",
       "       'totalMedia', 'runtimeMinutes_notitletype', 'outlier',\n",
       "       'startYear_imputed', 'runtimeMinutes_imputed', 'numVotes_imputed',\n",
       "       'totalCredits_imputed', 'criticReviewsTotal_imputed',\n",
       "       'numRegions_imputed', 'userReviewsTotal_imputed',\n",
       "       'fill_runtimeMinutes_Bruno_imputed', 'totalNominations_imputed',\n",
       "       'totalMedia_imputed', 'runtimeMinutes_notitletype_imputed'],\n",
       "      dtype='object')"
      ]
     },
     "execution_count": 27,
     "metadata": {},
     "output_type": "execute_result"
    }
   ],
   "source": [
    "train.columns"
   ]
  },
  {
   "cell_type": "code",
   "execution_count": 28,
   "id": "9ba3abd3",
   "metadata": {},
   "outputs": [],
   "source": [
    "train['is_Adult'] = train['isAdult'] | train['is_Adult']\n",
    "test['is_Adult'] = test['isAdult'] | test['is_Adult']"
   ]
  },
  {
   "cell_type": "code",
   "execution_count": 29,
   "id": "3ef84d42",
   "metadata": {},
   "outputs": [
    {
     "data": {
      "text/plain": [
       "(is_Adult\n",
       " 0    15747\n",
       " 1      425\n",
       " Name: count, dtype: int64,\n",
       " is_Adult\n",
       " 0    5250\n",
       " 1     134\n",
       " Name: count, dtype: int64)"
      ]
     },
     "execution_count": 29,
     "metadata": {},
     "output_type": "execute_result"
    }
   ],
   "source": [
    "train['is_Adult'].value_counts(), test['is_Adult'].value_counts()"
   ]
  },
  {
   "cell_type": "code",
   "execution_count": 30,
   "id": "bc1a2669",
   "metadata": {},
   "outputs": [],
   "source": [
    "train = train.drop(columns=['isAdult'])\n",
    "test = test.drop(columns=['isAdult'])"
   ]
  },
  {
   "cell_type": "code",
   "execution_count": null,
   "id": "9015099c",
   "metadata": {},
   "outputs": [],
   "source": [
    "# train.to_csv('pp_train.csv', index=False)\n",
    "# test.to_csv('pp_test.csv', index=False)"
   ]
  },
  {
   "cell_type": "code",
   "execution_count": 16,
   "id": "2e75ade7",
   "metadata": {},
   "outputs": [],
   "source": [
    "train = init('dm1_dataset_2425_imdb/train.csv')\n",
    "test = init('dm1_dataset_2425_imdb/test.csv')"
   ]
  },
  {
   "cell_type": "code",
   "execution_count": 19,
   "id": "fd45fc7d",
   "metadata": {},
   "outputs": [],
   "source": [
    "import pandas as pd\n",
    "\n",
    "# One-hot encode the 'genres' column for both train and test DataFrames\n",
    "train_genres = train['genres'].str.get_dummies(sep=',')\n",
    "test_genres = test['genres'].str.get_dummies(sep=',')\n",
    "\n",
    "# Align columns to ensure both train and test have the same genre columns\n",
    "train_genres, test_genres = train_genres.align(test_genres, join='outer', axis=1, fill_value=0)\n",
    "\n",
    "# Optionally, concatenate back to the original DataFrames\n",
    "train = pd.concat([train, train_genres], axis=1)\n",
    "test = pd.concat([test, test_genres], axis=1)"
   ]
  },
  {
   "cell_type": "code",
   "execution_count": 21,
   "id": "3510bc55",
   "metadata": {},
   "outputs": [
    {
     "data": {
      "text/plain": [
       "Index(['originalTitle', 'rating', 'startYear', 'endYear', 'runtimeMinutes',\n",
       "       'awardWins', 'numVotes', 'worstRating', 'bestRating', 'totalImages',\n",
       "       'totalVideos', 'totalCredits', 'criticReviewsTotal', 'titleType',\n",
       "       'awardNominationsExcludeWins', 'canHaveEpisodes', 'isRatable',\n",
       "       'isAdult', 'numRegions', 'userReviewsTotal', 'ratingCount',\n",
       "       'countryOfOrigin', 'genres', 'Action', 'Adult', 'Adventure',\n",
       "       'Animation', 'Biography', 'Comedy', 'Crime', 'Documentary', 'Drama',\n",
       "       'Family', 'Fantasy', 'Film-Noir', 'Game-Show', 'History', 'Horror',\n",
       "       'Music', 'Musical', 'Mystery', 'News', 'Reality-TV', 'Romance',\n",
       "       'Sci-Fi', 'Short', 'Sport', 'Talk-Show', 'Thriller', 'War', 'Western',\n",
       "       '\\N'],\n",
       "      dtype='object')"
      ]
     },
     "execution_count": 21,
     "metadata": {},
     "output_type": "execute_result"
    }
   ],
   "source": [
    "train.columns"
   ]
  },
  {
   "cell_type": "code",
   "execution_count": 22,
   "id": "687c9878",
   "metadata": {},
   "outputs": [
    {
     "data": {
      "text/plain": [
       "(0.09737690950033473, 16)"
      ]
     },
     "execution_count": 22,
     "metadata": {},
     "output_type": "execute_result"
    }
   ],
   "source": [
    "diff_count = (train['isAdult'] != train['Adult']).sum()\n",
    "percent_diff = 100 * diff_count / len(train)\n",
    "percent_diff, diff_count"
   ]
  },
  {
   "cell_type": "code",
   "execution_count": 23,
   "id": "27f8dd5b",
   "metadata": {},
   "outputs": [
    {
     "data": {
      "text/plain": [
       "(0.018254837531945966, 1)"
      ]
     },
     "execution_count": 23,
     "metadata": {},
     "output_type": "execute_result"
    }
   ],
   "source": [
    "diff_count = (test['isAdult'] != test['Adult']).sum()\n",
    "percent_diff = 100 * diff_count / len(test)\n",
    "percent_diff, diff_count"
   ]
  }
 ],
 "metadata": {
  "kernelspec": {
   "display_name": "Python 3",
   "language": "python",
   "name": "python3"
  },
  "language_info": {
   "codemirror_mode": {
    "name": "ipython",
    "version": 3
   },
   "file_extension": ".py",
   "mimetype": "text/x-python",
   "name": "python",
   "nbconvert_exporter": "python",
   "pygments_lexer": "ipython3",
   "version": "3.11.1"
  }
 },
 "nbformat": 4,
 "nbformat_minor": 5
}
