{
 "cells": [
  {
   "cell_type": "code",
   "execution_count": 951,
   "metadata": {},
   "outputs": [],
   "source": [
    "import numpy as np\n",
    "import matplotlib.pyplot as plt\n",
    "import seaborn as sns\n",
    "import pandas as pd\n",
    "\n",
    "from sklearn.metrics import (\n",
    "    accuracy_score,\n",
    "    f1_score,\n",
    "    classification_report,\n",
    "    confusion_matrix,\n",
    "    roc_auc_score,\n",
    ")\n",
    "from scikitplot.metrics import plot_roc\n",
    "from scikitplot.metrics import plot_precision_recall\n",
    "\n",
    "from sklearn.preprocessing import StandardScaler\n",
    "from sklearn.preprocessing import MinMaxScaler\n",
    "from sklearn.naive_bayes import GaussianNB, CategoricalNB\n",
    "from sklearn.model_selection import RandomizedSearchCV\n",
    "from sklearn.model_selection import train_test_split"
   ]
  },
  {
   "cell_type": "code",
   "execution_count": 952,
   "metadata": {},
   "outputs": [],
   "source": [
    "pp_train = pd.read_csv(\"pp_train.csv\")\n",
    "pp_test = pd.read_csv(\"pp_test.csv\")\n",
    "\n",
    "pp_class = pp_train.copy()\n",
    "pp_test_class = pp_test.copy()\n",
    "\n",
    "\n"
   ]
  },
  {
   "cell_type": "markdown",
   "metadata": {},
   "source": [
    "### Preprocessing delle variabili"
   ]
  },
  {
   "cell_type": "markdown",
   "metadata": {},
   "source": [
    "Mapping variabile target"
   ]
  },
  {
   "cell_type": "code",
   "execution_count": 953,
   "metadata": {},
   "outputs": [
    {
     "data": {
      "text/plain": [
       "{'tvEpisode': 0,\n",
       " 'videoGame': 1,\n",
       " 'movie': 2,\n",
       " 'tvSeries': 3,\n",
       " 'video': 4,\n",
       " 'tvMiniSeries': 5,\n",
       " 'short': 6,\n",
       " 'tvMovie': 7,\n",
       " 'tvSpecial': 8,\n",
       " 'tvShort': 9}"
      ]
     },
     "execution_count": 953,
     "metadata": {},
     "output_type": "execute_result"
    }
   ],
   "source": [
    "\n",
    "y = np.array(pp_class['titleType'])  # Il target originale\n",
    "\n",
    "\n",
    "# Creiamo un dizionario che associa ogni categoria a un numero\n",
    "y_map = {title: idx for idx, title in enumerate(pp_class['titleType'].unique())}\n",
    "\n",
    "#aggiungo una nuova colonna\n",
    "pp_class['titleType_encoded'] = pp_class['titleType'].map(y_map)\n",
    "## pp_test_class[\"titleType_encoded\"] = pp_test_class['titleType'].map(y_map)\n",
    "\n",
    "y_map # Per vedere la mappatura delle categorie"
   ]
  },
  {
   "cell_type": "markdown",
   "metadata": {},
   "source": [
    "##### info variabili"
   ]
  },
  {
   "cell_type": "code",
   "execution_count": 954,
   "metadata": {},
   "outputs": [
    {
     "data": {
      "text/html": [
       "<div>\n",
       "<style scoped>\n",
       "    .dataframe tbody tr th:only-of-type {\n",
       "        vertical-align: middle;\n",
       "    }\n",
       "\n",
       "    .dataframe tbody tr th {\n",
       "        vertical-align: top;\n",
       "    }\n",
       "\n",
       "    .dataframe thead th {\n",
       "        text-align: right;\n",
       "    }\n",
       "</style>\n",
       "<table border=\"1\" class=\"dataframe\">\n",
       "  <thead>\n",
       "    <tr style=\"text-align: right;\">\n",
       "      <th></th>\n",
       "      <th>originalTitle</th>\n",
       "      <th>rating</th>\n",
       "      <th>startYear</th>\n",
       "      <th>endYear</th>\n",
       "      <th>runtimeMinutes</th>\n",
       "      <th>awardWins</th>\n",
       "      <th>numVotes</th>\n",
       "      <th>totalImages</th>\n",
       "      <th>totalVideos</th>\n",
       "      <th>totalCredits</th>\n",
       "      <th>criticReviewsTotal</th>\n",
       "      <th>titleType</th>\n",
       "      <th>awardNominationsExcludeWins</th>\n",
       "      <th>canHaveEpisodes</th>\n",
       "      <th>isAdult</th>\n",
       "      <th>numRegions</th>\n",
       "      <th>userReviewsTotal</th>\n",
       "      <th>fill_runtimeMinutes</th>\n",
       "      <th>titleType_encoded</th>\n",
       "    </tr>\n",
       "  </thead>\n",
       "  <tbody>\n",
       "    <tr>\n",
       "      <th>0</th>\n",
       "      <td>Neogenic Nightmare Chapter 3: Hydro-Man</td>\n",
       "      <td>8</td>\n",
       "      <td>1995</td>\n",
       "      <td>1995.0</td>\n",
       "      <td>NaN</td>\n",
       "      <td>0.0</td>\n",
       "      <td>779</td>\n",
       "      <td>1</td>\n",
       "      <td>0</td>\n",
       "      <td>21</td>\n",
       "      <td>1</td>\n",
       "      <td>tvEpisode</td>\n",
       "      <td>0</td>\n",
       "      <td>False</td>\n",
       "      <td>0</td>\n",
       "      <td>1</td>\n",
       "      <td>0</td>\n",
       "      <td>40.0</td>\n",
       "      <td>0</td>\n",
       "    </tr>\n",
       "    <tr>\n",
       "      <th>1</th>\n",
       "      <td>Looping</td>\n",
       "      <td>6</td>\n",
       "      <td>1982</td>\n",
       "      <td>1982.0</td>\n",
       "      <td>NaN</td>\n",
       "      <td>0.0</td>\n",
       "      <td>11</td>\n",
       "      <td>1</td>\n",
       "      <td>0</td>\n",
       "      <td>1</td>\n",
       "      <td>0</td>\n",
       "      <td>videoGame</td>\n",
       "      <td>0</td>\n",
       "      <td>False</td>\n",
       "      <td>0</td>\n",
       "      <td>1</td>\n",
       "      <td>0</td>\n",
       "      <td>28.0</td>\n",
       "      <td>1</td>\n",
       "    </tr>\n",
       "    <tr>\n",
       "      <th>2</th>\n",
       "      <td>Idealnaya para</td>\n",
       "      <td>6</td>\n",
       "      <td>1992</td>\n",
       "      <td>1992.0</td>\n",
       "      <td>NaN</td>\n",
       "      <td>0.0</td>\n",
       "      <td>38</td>\n",
       "      <td>1</td>\n",
       "      <td>0</td>\n",
       "      <td>24</td>\n",
       "      <td>0</td>\n",
       "      <td>movie</td>\n",
       "      <td>0</td>\n",
       "      <td>False</td>\n",
       "      <td>0</td>\n",
       "      <td>1</td>\n",
       "      <td>1</td>\n",
       "      <td>90.0</td>\n",
       "      <td>2</td>\n",
       "    </tr>\n",
       "  </tbody>\n",
       "</table>\n",
       "</div>"
      ],
      "text/plain": [
       "                             originalTitle  rating  startYear  endYear  \\\n",
       "0  Neogenic Nightmare Chapter 3: Hydro-Man       8       1995   1995.0   \n",
       "1                                  Looping       6       1982   1982.0   \n",
       "2                           Idealnaya para       6       1992   1992.0   \n",
       "\n",
       "   runtimeMinutes  awardWins  numVotes  totalImages  totalVideos  \\\n",
       "0             NaN        0.0       779            1            0   \n",
       "1             NaN        0.0        11            1            0   \n",
       "2             NaN        0.0        38            1            0   \n",
       "\n",
       "   totalCredits  criticReviewsTotal  titleType  awardNominationsExcludeWins  \\\n",
       "0            21                   1  tvEpisode                            0   \n",
       "1             1                   0  videoGame                            0   \n",
       "2            24                   0      movie                            0   \n",
       "\n",
       "   canHaveEpisodes  isAdult  numRegions  userReviewsTotal  \\\n",
       "0            False        0           1                 0   \n",
       "1            False        0           1                 0   \n",
       "2            False        0           1                 1   \n",
       "\n",
       "   fill_runtimeMinutes  titleType_encoded  \n",
       "0                 40.0                  0  \n",
       "1                 28.0                  1  \n",
       "2                 90.0                  2  "
      ]
     },
     "execution_count": 954,
     "metadata": {},
     "output_type": "execute_result"
    }
   ],
   "source": [
    "#studio variabili (non ho messo le 28 is_genere)\n",
    "pp_class[['originalTitle', 'rating', 'startYear', 'endYear', 'runtimeMinutes', 'awardWins', 'numVotes', 'totalImages', 'totalVideos', 'totalCredits', 'criticReviewsTotal', 'titleType', 'awardNominationsExcludeWins', 'canHaveEpisodes', 'isAdult', 'numRegions', 'userReviewsTotal',\n",
    "          #'countryOfOrigin', \n",
    "       'fill_runtimeMinutes', 'titleType_encoded']].head(3)"
   ]
  },
  {
   "cell_type": "code",
   "execution_count": 955,
   "metadata": {},
   "outputs": [
    {
     "data": {
      "text/plain": [
       "Index(['originalTitle', 'rating', 'startYear', 'endYear', 'runtimeMinutes',\n",
       "       'awardWins', 'numVotes', 'totalImages', 'totalVideos', 'totalCredits',\n",
       "       'criticReviewsTotal', 'titleType', 'awardNominationsExcludeWins',\n",
       "       'canHaveEpisodes', 'isAdult', 'numRegions', 'userReviewsTotal',\n",
       "       'is_Documentary', 'is_History', 'is_Adventure', 'is_Thriller',\n",
       "       'is_Game-Show', 'is_Comedy', 'is_Sci-Fi', 'is_Romance', 'is_Biography',\n",
       "       'is_Musical', 'is_Western', 'is_Music', 'is_Film-Noir', 'is_Adult',\n",
       "       'is_Reality-TV', 'is_News', 'is_Action', 'is_Crime', 'is_Short',\n",
       "       'is_Fantasy', 'is_Family', 'is_Mystery', 'is_Talk-Show', 'is_Drama',\n",
       "       'is_Sport', 'is_War', 'is_Horror', 'is_Animation',\n",
       "       'fill_runtimeMinutes', 'is_from_Oceania', 'is_from_North America',\n",
       "       'is_from_South America', 'is_from_Asia', 'is_from_Africa',\n",
       "       'is_from_Europe', 'countryOfOrigin', 'countryOfOrigin_freq_enc',\n",
       "       'countryOfOrigin_NA', 'countryOfOrigin_AF', 'countryOfOrigin_AS',\n",
       "       'countryOfOrigin_EU', 'countryOfOrigin_OC', 'countryOfOrigin_SA',\n",
       "       'countryOfOrigin_UNK', 'fill_runtimeMinutes_Bruno',\n",
       "       'titleType_encoded'],\n",
       "      dtype='object')"
      ]
     },
     "execution_count": 955,
     "metadata": {},
     "output_type": "execute_result"
    }
   ],
   "source": [
    "pp_class.columns"
   ]
  },
  {
   "cell_type": "markdown",
   "metadata": {},
   "source": [
    "gestione country of origin  -> già sul train -> codice su modifiche_test"
   ]
  },
  {
   "cell_type": "markdown",
   "metadata": {},
   "source": [
    "Conversione CanHaveEpisodes in binaria 0/1"
   ]
  },
  {
   "cell_type": "code",
   "execution_count": 956,
   "metadata": {},
   "outputs": [],
   "source": [
    "pp_class['canHaveEpisodes'] = pp_class['canHaveEpisodes'].astype(int)\n",
    "##pp_test_class['canHaveEpisodes'] = pp_test_class['canHaveEpisodes'].astype(int)"
   ]
  },
  {
   "cell_type": "markdown",
   "metadata": {},
   "source": [
    "Rimuoviamo titleType dato che è già stata mappata + originaltitle e runtimeminutes non filled"
   ]
  },
  {
   "cell_type": "code",
   "execution_count": 957,
   "metadata": {},
   "outputs": [],
   "source": [
    "column2drop = ['originalTitle', 'runtimeMinutes', 'titleType']\n",
    "pp_class.drop(column2drop, axis=1, inplace=True)\n",
    "##pp_test_class.drop(column2drop, axis=1, inplace=True)"
   ]
  },
  {
   "cell_type": "markdown",
   "metadata": {},
   "source": [
    "END YEAR-> tolto finchè non capiamo come gestirlo"
   ]
  },
  {
   "cell_type": "code",
   "execution_count": 958,
   "metadata": {},
   "outputs": [],
   "source": [
    "# Riempi i valori mancanti di 'endYear' con quelli di 'startYear' \n",
    "# -> DA VEDERE SE GIà SOSTITUITO\n",
    "\n",
    "#OPPURE RIMUOVI\n",
    "pp_class= pp_class.drop([\"endYear\"], axis=1)\n",
    "##pp_test_class= pp_class.drop([\"endYear\"], axis=1)"
   ]
  },
  {
   "cell_type": "markdown",
   "metadata": {},
   "source": [
    "BINARIZZAZIONE -> da capire"
   ]
  },
  {
   "cell_type": "code",
   "execution_count": null,
   "metadata": {},
   "outputs": [],
   "source": [
    "\n",
    "#1 binarizzazione (0 / >0) per le variabili con tanti zeri (consigliato per NB)\n",
    "pp_class['awardWins_bin'] = (pp_class['awardWins'] > 0).astype(int)\n",
    "pp_class['totalVideos_bin'] = (pp_class['totalVideos'] > 0).astype(int)\n",
    "pp_class['awardNominationsExcludeWins_bin'] = (pp_class['awardNominationsExcludeWins'] > 0).astype(int)\n",
    "\n",
    "# pp_test_class['awardWins_bin'] = (pp_test_class['awardWins'] > 0).astype(int)\n",
    "# pp_test_class['totalVideos_bin'] = (pp_test_class['totalVideos'] > 0).astype(int)\n",
    "# pp_test_class['awardNominationsExcludeWins_bin'] = (pp_test_class['awardNominationsExcludeWins'] > 0).astype(int)\n"
   ]
  },
  {
   "cell_type": "code",
   "execution_count": null,
   "metadata": {},
   "outputs": [],
   "source": [
    "#2 discretizzazione per fasce -> decise con \n",
    "#pp_class['awardNominationsExcludeWins'].value_counts().sort_index()"
   ]
  },
  {
   "cell_type": "code",
   "execution_count": 961,
   "metadata": {},
   "outputs": [],
   "source": [
    "# bins_awards = [0, 1, 10, float('inf')]\n",
    "# labels_awards = [0, 1, 2]  # Mantengo valori numerici per compatibilità con algoritmi\n",
    "# pp_class['awardWins_bin'] = pd.cut(pp_class['awardWins'], bins=bins_awards, labels=labels_awards, right=False)\n",
    "# ## pp_test_class['awardWins_bin'] = pd.cut(pp_test_class['awardWins'], bins=bins_awards, labels=labels_awards, right=False)\n",
    "\n",
    "\n",
    "\n",
    "# bins_videos = [0, 1, 6, float('inf')]\n",
    "# labels_videos = [0, 1, 2]\n",
    "# pp_class['totalVideos_bin'] = pd.cut(pp_class['totalVideos'], bins=bins_videos, labels=labels_videos, right=False)\n",
    "# ## pp_test_class['totalVideos_bin'] = pd.cut(pp_test_class['totalVideos'], bins=bins_videos, labels=labels_videos, right=False)\n",
    "\n",
    "\n",
    "\n",
    "# bins_nom = [0, 1, 5, float('inf')]\n",
    "# labels_nom = [0, 1, 2]\n",
    "# pp_class['awardNominationsExcludeWins_bin'] = pd.cut(pp_class['awardNominationsExcludeWins'], \n",
    "#                                                     bins=bins_nom, \n",
    "#                                                     labels=labels_nom, \n",
    "#                                                     right=False)\n",
    "# ## pp_train_class['awardNominationsExcludeWins_bin'] = pd.cut(pp_train_class['awardNominationsExcludeWins'], \n",
    "# #                                                    bins=bins_nom, \n",
    "# #                                                    labels=labels_nom, \n",
    "# #                                                    right=False)\n",
    "\n",
    "\n",
    "\n",
    "# # Assicurati che le nuove colonne siano di tipo numerico\n",
    "# pp_class['awardWins_bin'] = pp_class['awardWins_bin'].astype(int)\n",
    "# pp_class['totalVideos_bin'] = pp_class['totalVideos_bin'].astype(int)\n",
    "# pp_class['awardNominationsExcludeWins_bin'] = pp_class['awardNominationsExcludeWins_bin'].astype(int)\n",
    "\n",
    "# ## pp_test_class['awardWins_bin'] = pp_test_class['awardWins_bin'].astype(int)\n",
    "# ## pp_test_class['totalVideos_bin'] = pp_test_class['totalVideos_bin'].astype(int)\n",
    "# ## pp_test_class['awardNominationsExcludeWins_bin'] = pp_test_class['awardNominationsExcludeWins_bin'].astype(int)\n"
   ]
  },
  {
   "cell_type": "markdown",
   "metadata": {},
   "source": [
    "### !! DIVERSO DA GAIA (1,5,6,9)--> Filtra dataset su classi meno rappresentate ->\"tvMovie\": 7, \"tvSpecial\":8, \"tvShort\":9"
   ]
  },
  {
   "cell_type": "code",
   "execution_count": 962,
   "metadata": {},
   "outputs": [],
   "source": [
    "#pp_class = pp_class[~pp_class['titleType_encoded'].isin([7,8, 9])]\n",
    "## pp_test_class = pp_test_class[~pp_test_class['titleType_encoded'].isin([7,8, 9])]"
   ]
  },
  {
   "cell_type": "markdown",
   "metadata": {},
   "source": [
    "Encoding di titletype per multiclass classification task"
   ]
  },
  {
   "cell_type": "code",
   "execution_count": 963,
   "metadata": {},
   "outputs": [],
   "source": [
    "# Extract target (y)\n",
    "y_train = pp_class[\"titleType_encoded\"].values  # Convert directly to NumPy\n",
    "## y_test = pp_test_class[\"titleType_encoded\"].values  # Convert directly to NumPy"
   ]
  },
  {
   "cell_type": "markdown",
   "metadata": {},
   "source": [
    "####  creazione array di valori -> da cui scegliere feature da usare"
   ]
  },
  {
   "cell_type": "code",
   "execution_count": 964,
   "metadata": {},
   "outputs": [],
   "source": [
    "#X_train = pp_class.values\n",
    "X_train = pp_class[[\n",
    "       #'rating', #cambia poco\n",
    "       'startYear',  #forse lasciare, sempre 77a ma aiuta a classificare una classe in + \n",
    "       'numVotes', \n",
    "       #'totalImages', #Peggiora poco\n",
    "       'totalCredits', \n",
    "       'criticReviewsTotal',\n",
    "       'canHaveEpisodes', \n",
    "       #'isAdult', peggiora molto\n",
    "       #'numRegions', \n",
    "       'userReviewsTotal', \n",
    "       #'endYear',\n",
    "       #'is_Documentary', 'is_History', 'is_Adventure', 'is_Thriller', 'is_Game-Show', 'is_Comedy', 'is_Sci-Fi', 'is_Romance', 'is_Biography', 'is_Musical', 'is_Western', 'is_Music', 'is_Film-Noir', 'is_Adult', 'is_Reality-TV', 'is_News', 'is_Action', 'is_Crime', 'is_Short', 'is_Fantasy', 'is_Family', 'is_Mystery',  'is_Talk-Show', 'is_Drama', 'is_Sport', 'is_War', 'is_Horror','is_Animation', \n",
    "       'fill_runtimeMinutes', #da tenere\n",
    "       #'is_from_Oceania','is_from_North America', 'is_from_South America', 'is_from_Asia', 'is_from_Africa', 'is_from_Europe', \n",
    "       #'awardWins_bin',  \n",
    "       #'totalVideos_bin', \n",
    "       #'awardNominationsExcludeWins_bin' #-> PEGGIORA ABB\n",
    "       ]].values\n",
    "\n",
    "## X_test = pp_test_class[[ ]].values"
   ]
  },
  {
   "cell_type": "code",
   "execution_count": 965,
   "metadata": {},
   "outputs": [],
   "source": [
    "# #TOGLIENDO 7,8,9 OPZIONE MIGLIORE -> in realtà anche con le classi\n",
    "# X_train = pp_class[[\n",
    "#        'startYear',  \n",
    "#        'numVotes', \n",
    "#        'totalCredits', \n",
    "#        'criticReviewsTotal',\n",
    "#        'canHaveEpisodes',  \n",
    "#        'userReviewsTotal', \n",
    "#        'fill_runtimeMinutes'\n",
    "#        ]].values"
   ]
  },
  {
   "cell_type": "markdown",
   "metadata": {},
   "source": [
    "### Splitting in validation \n",
    "##### -> penso su y_train (array valori multilabeled)"
   ]
  },
  {
   "cell_type": "code",
   "execution_count": 966,
   "metadata": {},
   "outputs": [],
   "source": [
    "\n",
    "\n",
    "X_train2, X_val, y_train2, y_val = train_test_split(\n",
    "     X_train, y_train, test_size=0.2, random_state=32\n",
    ")\n",
    "\n",
    "\n",
    "# X_train2 = training set --> 80% di X_train\n",
    "# X_val = validation set --> 20% di X_train\n",
    "# y_train2 e y_val sono i target corrispondenti (etichette) per i dati di addestramento e validazione"
   ]
  },
  {
   "cell_type": "code",
   "execution_count": 967,
   "metadata": {},
   "outputs": [
    {
     "name": "stdout",
     "output_type": "stream",
     "text": [
      "(13144, 7) (3287, 7) (16431, 7)\n"
     ]
    }
   ],
   "source": [
    "print(X_train2.shape, X_val.shape, X_train.shape\n",
    "      #, X_test.shape\n",
    "      )"
   ]
  },
  {
   "cell_type": "markdown",
   "metadata": {},
   "source": [
    "### Normalization"
   ]
  },
  {
   "cell_type": "code",
   "execution_count": 968,
   "metadata": {},
   "outputs": [],
   "source": [
    "X_train2_log = np.log1p(X_train2)\n",
    "X_val_log= np.log1p(X_val)\n",
    "\n",
    "## X_train_log = np.log1p(X_train)\n",
    "## X_test_log = np.log1p(X_test)"
   ]
  },
  {
   "cell_type": "code",
   "execution_count": 969,
   "metadata": {},
   "outputs": [],
   "source": [
    "\n",
    "standardsc = StandardScaler()\n",
    "\n",
    "        # # Fitta e trasforma il training set in un solo passaggio\n",
    "X_train2_standardsc = standardsc.fit_transform(X_train2_log)\n",
    "X_val_standardsc = standardsc.fit_transform(X_val_log)\n",
    "\n",
    "## X_train_standardsc = standardsc.fit_transform(X_train_log)\n",
    "        # # Trasforma il test set (senza rifittare!)\n",
    "## X_test_standardsc = standardsc.transform(X_test_log)"
   ]
  },
  {
   "cell_type": "code",
   "execution_count": 970,
   "metadata": {},
   "outputs": [],
   "source": [
    "# minmax = MinMaxScaler()\n",
    "\n",
    "        ## Fitta e trasforma il training set in un solo passaggio\n",
    "# X_train2_minmax = minmax.fit_transform(X_train2_log)\n",
    "# X_val_minmax = minmax.fit_transform(X_val_log)\n",
    "\n",
    "## X_train_minmax = minmax.fit_transform(X_train_log)\n",
    "        # # Trasforma il test set (senza rifittare!)\n",
    "# #X_test_minmax = minmax.transform(X_test)\n",
    "\n"
   ]
  },
  {
   "cell_type": "code",
   "execution_count": 971,
   "metadata": {},
   "outputs": [],
   "source": [
    "X_train2_tr = X_train2_standardsc\n",
    "X_val_tr = X_val_standardsc\n",
    "\n",
    "## X_train_tr = X_train_standardsc\n",
    "## X_test_tr = X_test_standardsc"
   ]
  },
  {
   "cell_type": "markdown",
   "metadata": {},
   "source": [
    "## NAIVE BAYES"
   ]
  },
  {
   "cell_type": "code",
   "execution_count": 972,
   "metadata": {},
   "outputs": [],
   "source": [
    "clf = GaussianNB()"
   ]
  },
  {
   "cell_type": "code",
   "execution_count": 973,
   "metadata": {},
   "outputs": [
    {
     "data": {
      "text/html": [
       "<style>#sk-container-id-26 {color: black;}#sk-container-id-26 pre{padding: 0;}#sk-container-id-26 div.sk-toggleable {background-color: white;}#sk-container-id-26 label.sk-toggleable__label {cursor: pointer;display: block;width: 100%;margin-bottom: 0;padding: 0.3em;box-sizing: border-box;text-align: center;}#sk-container-id-26 label.sk-toggleable__label-arrow:before {content: \"▸\";float: left;margin-right: 0.25em;color: #696969;}#sk-container-id-26 label.sk-toggleable__label-arrow:hover:before {color: black;}#sk-container-id-26 div.sk-estimator:hover label.sk-toggleable__label-arrow:before {color: black;}#sk-container-id-26 div.sk-toggleable__content {max-height: 0;max-width: 0;overflow: hidden;text-align: left;background-color: #f0f8ff;}#sk-container-id-26 div.sk-toggleable__content pre {margin: 0.2em;color: black;border-radius: 0.25em;background-color: #f0f8ff;}#sk-container-id-26 input.sk-toggleable__control:checked~div.sk-toggleable__content {max-height: 200px;max-width: 100%;overflow: auto;}#sk-container-id-26 input.sk-toggleable__control:checked~label.sk-toggleable__label-arrow:before {content: \"▾\";}#sk-container-id-26 div.sk-estimator input.sk-toggleable__control:checked~label.sk-toggleable__label {background-color: #d4ebff;}#sk-container-id-26 div.sk-label input.sk-toggleable__control:checked~label.sk-toggleable__label {background-color: #d4ebff;}#sk-container-id-26 input.sk-hidden--visually {border: 0;clip: rect(1px 1px 1px 1px);clip: rect(1px, 1px, 1px, 1px);height: 1px;margin: -1px;overflow: hidden;padding: 0;position: absolute;width: 1px;}#sk-container-id-26 div.sk-estimator {font-family: monospace;background-color: #f0f8ff;border: 1px dotted black;border-radius: 0.25em;box-sizing: border-box;margin-bottom: 0.5em;}#sk-container-id-26 div.sk-estimator:hover {background-color: #d4ebff;}#sk-container-id-26 div.sk-parallel-item::after {content: \"\";width: 100%;border-bottom: 1px solid gray;flex-grow: 1;}#sk-container-id-26 div.sk-label:hover label.sk-toggleable__label {background-color: #d4ebff;}#sk-container-id-26 div.sk-serial::before {content: \"\";position: absolute;border-left: 1px solid gray;box-sizing: border-box;top: 0;bottom: 0;left: 50%;z-index: 0;}#sk-container-id-26 div.sk-serial {display: flex;flex-direction: column;align-items: center;background-color: white;padding-right: 0.2em;padding-left: 0.2em;position: relative;}#sk-container-id-26 div.sk-item {position: relative;z-index: 1;}#sk-container-id-26 div.sk-parallel {display: flex;align-items: stretch;justify-content: center;background-color: white;position: relative;}#sk-container-id-26 div.sk-item::before, #sk-container-id-26 div.sk-parallel-item::before {content: \"\";position: absolute;border-left: 1px solid gray;box-sizing: border-box;top: 0;bottom: 0;left: 50%;z-index: -1;}#sk-container-id-26 div.sk-parallel-item {display: flex;flex-direction: column;z-index: 1;position: relative;background-color: white;}#sk-container-id-26 div.sk-parallel-item:first-child::after {align-self: flex-end;width: 50%;}#sk-container-id-26 div.sk-parallel-item:last-child::after {align-self: flex-start;width: 50%;}#sk-container-id-26 div.sk-parallel-item:only-child::after {width: 0;}#sk-container-id-26 div.sk-dashed-wrapped {border: 1px dashed gray;margin: 0 0.4em 0.5em 0.4em;box-sizing: border-box;padding-bottom: 0.4em;background-color: white;}#sk-container-id-26 div.sk-label label {font-family: monospace;font-weight: bold;display: inline-block;line-height: 1.2em;}#sk-container-id-26 div.sk-label-container {text-align: center;}#sk-container-id-26 div.sk-container {/* jupyter's `normalize.less` sets `[hidden] { display: none; }` but bootstrap.min.css set `[hidden] { display: none !important; }` so we also need the `!important` here to be able to override the default hidden behavior on the sphinx rendered scikit-learn.org. See: https://github.com/scikit-learn/scikit-learn/issues/21755 */display: inline-block !important;position: relative;}#sk-container-id-26 div.sk-text-repr-fallback {display: none;}</style><div id=\"sk-container-id-26\" class=\"sk-top-container\"><div class=\"sk-text-repr-fallback\"><pre>GaussianNB()</pre><b>In a Jupyter environment, please rerun this cell to show the HTML representation or trust the notebook. <br />On GitHub, the HTML representation is unable to render, please try loading this page with nbviewer.org.</b></div><div class=\"sk-container\" hidden><div class=\"sk-item\"><div class=\"sk-estimator sk-toggleable\"><input class=\"sk-toggleable__control sk-hidden--visually\" id=\"sk-estimator-id-26\" type=\"checkbox\" checked><label for=\"sk-estimator-id-26\" class=\"sk-toggleable__label sk-toggleable__label-arrow\">GaussianNB</label><div class=\"sk-toggleable__content\"><pre>GaussianNB()</pre></div></div></div></div></div>"
      ],
      "text/plain": [
       "GaussianNB()"
      ]
     },
     "execution_count": 973,
     "metadata": {},
     "output_type": "execute_result"
    }
   ],
   "source": [
    "clf.fit(X_train2_tr, y_train2)"
   ]
  },
  {
   "cell_type": "markdown",
   "metadata": {},
   "source": [
    "Predicting on validation set"
   ]
  },
  {
   "cell_type": "code",
   "execution_count": 974,
   "metadata": {},
   "outputs": [
    {
     "data": {
      "text/plain": [
       "array([3, 4, 2, ..., 3, 0, 6], dtype=int64)"
      ]
     },
     "execution_count": 974,
     "metadata": {},
     "output_type": "execute_result"
    }
   ],
   "source": [
    "y_pred = clf.predict(X_val_tr)\n",
    "y_pred"
   ]
  },
  {
   "cell_type": "code",
   "execution_count": 975,
   "metadata": {},
   "outputs": [
    {
     "name": "stdout",
     "output_type": "stream",
     "text": [
      "3287\n",
      "3287\n"
     ]
    }
   ],
   "source": [
    "print(len(y_pred))  # dovrebbe stampare lo stesso numero in entrambi\n",
    "print(len(y_val))  "
   ]
  },
  {
   "cell_type": "code",
   "execution_count": 976,
   "metadata": {},
   "outputs": [
    {
     "name": "stdout",
     "output_type": "stream",
     "text": [
      "{0, 1, 2, 3, 4, 5, 6, 7, 8, 9}\n",
      "{0, 1, 2, 3, 4, 5, 6, 7, 8}\n"
     ]
    }
   ],
   "source": [
    "print(set(y_val)) \n",
    "print(set(y_pred))  # se qui manca una classe rispetto a sopra vuol dire che non l'ha riconosciuta "
   ]
  },
  {
   "cell_type": "code",
   "execution_count": 977,
   "metadata": {},
   "outputs": [
    {
     "name": "stdout",
     "output_type": "stream",
     "text": [
      "Test accuracy: 0.7730453300882264\n",
      "\n",
      "Classification Report:\n",
      "              precision    recall  f1-score   support\n",
      "\n",
      "           0       0.76      0.86      0.81       936\n",
      "           1       0.86      0.64      0.74        50\n",
      "           2       0.80      0.86      0.83      1121\n",
      "           3       0.89      0.97      0.93       268\n",
      "           4       0.32      0.29      0.30       163\n",
      "           5       0.43      0.16      0.24        37\n",
      "           6       0.81      0.85      0.83       501\n",
      "           7       0.21      0.02      0.03       173\n",
      "           8       0.25      0.04      0.06        28\n",
      "           9       0.00      0.00      0.00        10\n",
      "\n",
      "    accuracy                           0.77      3287\n",
      "   macro avg       0.53      0.47      0.48      3287\n",
      "weighted avg       0.73      0.77      0.75      3287\n",
      "\n"
     ]
    },
    {
     "name": "stderr",
     "output_type": "stream",
     "text": [
      "C:\\Users\\noemi\\AppData\\Roaming\\Python\\Python38\\site-packages\\sklearn\\metrics\\_classification.py:1471: UndefinedMetricWarning: Precision and F-score are ill-defined and being set to 0.0 in labels with no predicted samples. Use `zero_division` parameter to control this behavior.\n",
      "  _warn_prf(average, modifier, msg_start, len(result))\n",
      "C:\\Users\\noemi\\AppData\\Roaming\\Python\\Python38\\site-packages\\sklearn\\metrics\\_classification.py:1471: UndefinedMetricWarning: Precision and F-score are ill-defined and being set to 0.0 in labels with no predicted samples. Use `zero_division` parameter to control this behavior.\n",
      "  _warn_prf(average, modifier, msg_start, len(result))\n",
      "C:\\Users\\noemi\\AppData\\Roaming\\Python\\Python38\\site-packages\\sklearn\\metrics\\_classification.py:1471: UndefinedMetricWarning: Precision and F-score are ill-defined and being set to 0.0 in labels with no predicted samples. Use `zero_division` parameter to control this behavior.\n",
      "  _warn_prf(average, modifier, msg_start, len(result))\n"
     ]
    }
   ],
   "source": [
    "print(f\"Test accuracy: {accuracy_score(y_val, y_pred)}\")\n",
    "print(\"\\nClassification Report:\")\n",
    "print(classification_report(y_val, y_pred))"
   ]
  },
  {
   "cell_type": "markdown",
   "metadata": {},
   "source": [
    "{'tvEpisode': 0,  'movie': 2, 'tvSeries': 3, 'video': 4,  'short': 6, 'tvMovie': 7, }\n",
    "tolti -> 'videoGame': 1, 'tvMiniSeries': 5,'tvSpecial': 8, 'tvShort': 9"
   ]
  },
  {
   "cell_type": "code",
   "execution_count": 978,
   "metadata": {},
   "outputs": [
    {
     "data": {
      "text/plain": [
       "array([[0.00000000e+000, 0.00000000e+000, 0.00000000e+000, ...,\n",
       "        0.00000000e+000, 0.00000000e+000, 0.00000000e+000],\n",
       "       [3.29937656e-002, 0.00000000e+000, 1.31693114e-001, ...,\n",
       "        3.40163502e-001, 9.12942634e-002, 4.09687955e-008],\n",
       "       [1.44247198e-001, 0.00000000e+000, 7.61495208e-001, ...,\n",
       "        8.05893190e-002, 3.90539644e-003, 7.18640876e-015],\n",
       "       ...,\n",
       "       [0.00000000e+000, 0.00000000e+000, 0.00000000e+000, ...,\n",
       "        0.00000000e+000, 0.00000000e+000, 0.00000000e+000],\n",
       "       [8.40740300e-001, 8.04794151e-004, 5.50566917e-006, ...,\n",
       "        7.67000362e-003, 3.40543512e-003, 1.05044898e-003],\n",
       "       [9.52482901e-002, 5.78611948e-264, 4.04131630e-017, ...,\n",
       "        1.85410398e-005, 2.01139420e-005, 4.45338790e-007]])"
      ]
     },
     "execution_count": 978,
     "metadata": {},
     "output_type": "execute_result"
    }
   ],
   "source": [
    "clf.predict_proba(X_val_tr)\n",
    "#prob che un record appartenga alle classi"
   ]
  },
  {
   "cell_type": "markdown",
   "metadata": {},
   "source": [
    "roc test"
   ]
  },
  {
   "cell_type": "code",
   "execution_count": 979,
   "metadata": {},
   "outputs": [
    {
     "data": {
      "image/png": "[encoded data removed]",
      "text/plain": [
       "<Figure size 640x480 with 1 Axes>"
      ]
     },
     "metadata": {},
     "output_type": "display_data"
    },
    {
     "name": "stdout",
     "output_type": "stream",
     "text": [
      "0.9158217666138624\n"
     ]
    }
   ],
   "source": [
    "plot_roc(y_val, clf.predict_proba(X_val_tr))\n",
    "plt.show()\n",
    "print(roc_auc_score(y_val, clf.predict_proba(X_val_tr), multi_class=\"ovr\", average=\"macro\"))"
   ]
  },
  {
   "cell_type": "markdown",
   "metadata": {},
   "source": [
    "verifica overfitting"
   ]
  },
  {
   "cell_type": "code",
   "execution_count": 980,
   "metadata": {},
   "outputs": [
    {
     "name": "stdout",
     "output_type": "stream",
     "text": [
      "Performance sul Training set:\n",
      "Accuracy: 0.7642\n",
      "F1 Score: 0.7361\n",
      "\n",
      "Performance sul Validation set:\n",
      "Accuracy: 0.7730\n",
      "F1 Score: 0.7462\n"
     ]
    },
    {
     "data": {
      "image/png": "[encoded data removed]",
      "text/plain": [
       "<Figure size 1000x600 with 1 Axes>"
      ]
     },
     "metadata": {},
     "output_type": "display_data"
    }
   ],
   "source": [
    "# Importazioni necessarie (se non già importate)\n",
    "from sklearn.metrics import accuracy_score, f1_score, confusion_matrix\n",
    "import matplotlib.pyplot as plt\n",
    "import numpy as np\n",
    "import seaborn as sns\n",
    "\n",
    "# Valutazione sul training set\n",
    "y_pred_train = clf.predict(X_train2_tr)\n",
    "train_accuracy = accuracy_score(y_train2, y_pred_train)\n",
    "train_f1 = f1_score(y_train2, y_pred_train, average='weighted')\n",
    "\n",
    "# Valutazione sul validation set\n",
    "y_pred_val = clf.predict(X_val_tr)\n",
    "val_accuracy = accuracy_score(y_val, y_pred_val)\n",
    "val_f1 = f1_score(y_val, y_pred_val, average='weighted')\n",
    "\n",
    "# Stampa dei risultati\n",
    "print(f\"Performance sul Training set:\")\n",
    "print(f\"Accuracy: {train_accuracy:.4f}\")\n",
    "print(f\"F1 Score: {train_f1:.4f}\")\n",
    "print(\"\\nPerformance sul Validation set:\")\n",
    "print(f\"Accuracy: {val_accuracy:.4f}\")\n",
    "print(f\"F1 Score: {val_f1:.4f}\")\n",
    "\n",
    "# Visualizzazione grafica del confronto\n",
    "metrics = ['Accuracy', 'F1 Score']\n",
    "train_scores = [train_accuracy, train_f1]\n",
    "val_scores = [val_accuracy, val_f1]\n",
    "\n",
    "x = np.arange(len(metrics))\n",
    "width = 0.35\n",
    "\n",
    "fig, ax = plt.subplots(figsize=(10, 6))\n",
    "rects1 = ax.bar(x - width/2, train_scores, width, label='Training')\n",
    "rects2 = ax.bar(x + width/2, val_scores, width, label='Validation')\n",
    "\n",
    "ax.set_ylabel('Score')\n",
    "ax.set_title('Training vs Validation Performance')\n",
    "ax.set_xticks(x)\n",
    "ax.set_xticklabels(metrics)\n",
    "ax.legend()\n",
    "ax.set_ylim(0, 1)\n",
    "\n",
    "# Aggiungi i valori sopra le barre\n",
    "def autolabel(rects):\n",
    "    for rect in rects:\n",
    "        height = rect.get_height()\n",
    "        ax.annotate(f'{height:.4f}',\n",
    "                    xy=(rect.get_x() + rect.get_width() / 2, height),\n",
    "                    xytext=(0, 3),\n",
    "                    textcoords=\"offset points\",\n",
    "                    ha='center', va='bottom')\n",
    "\n",
    "autolabel(rects1)\n",
    "autolabel(rects2)\n",
    "\n",
    "plt.tight_layout()\n",
    "plt.show()"
   ]
  },
  {
   "cell_type": "markdown",
   "metadata": {},
   "source": [
    "#### Distribuzioni classi nel train set\n",
    "- classi con < support sono quelle con performance peggiori\n",
    "- calitare se togliere classi (togliendo 7,8,9 migliora molto)"
   ]
  },
  {
   "cell_type": "code",
   "execution_count": 981,
   "metadata": {},
   "outputs": [
    {
     "name": "stdout",
     "output_type": "stream",
     "text": [
      "Distribuzione delle classi nel training set:\n",
      "0    3762\n",
      "1     209\n",
      "2    4414\n",
      "3    1107\n",
      "4     629\n",
      "5     187\n",
      "6    1973\n",
      "7     695\n",
      "8     138\n",
      "9      30\n",
      "Name: count, dtype: int64\n"
     ]
    }
   ],
   "source": [
    "class_distribution = pd.Series(y_train2).value_counts().sort_index()\n",
    "\n",
    "# Mostra i conteggi\n",
    "print(\"Distribuzione delle classi nel training set:\")\n",
    "print(class_distribution)"
   ]
  },
  {
   "cell_type": "markdown",
   "metadata": {},
   "source": [
    "confusion matrix "
   ]
  },
  {
   "cell_type": "code",
   "execution_count": 982,
   "metadata": {},
   "outputs": [
    {
     "data": {
      "image/png": "[encoded data removed]",
      "text/plain": [
       "<Figure size 640x480 with 2 Axes>"
      ]
     },
     "metadata": {},
     "output_type": "display_data"
    }
   ],
   "source": [
    "classes_unique = np.unique(y_val)\n",
    "cm = confusion_matrix(y_val, y_pred)\n",
    "sns.heatmap(cm, annot=True, fmt='d', cmap='Greens', \n",
    "            xticklabels=classes_unique, \n",
    "            yticklabels=classes_unique)\n",
    "plt.xlabel(\"True\")\n",
    "plt.ylabel(\"Predicted\")\n",
    "plt.show()"
   ]
  },
  {
   "cell_type": "markdown",
   "metadata": {},
   "source": [
    "## Proper testing on the test set"
   ]
  },
  {
   "cell_type": "code",
   "execution_count": 983,
   "metadata": {},
   "outputs": [],
   "source": [
    "##clf = GaussianNB()\n",
    "##clf.fit(X_train_tr, y_train)\n",
    "## y_tpred = clf.predict(X_test_tr)\n",
    "## y_tpred"
   ]
  },
  {
   "cell_type": "code",
   "execution_count": 984,
   "metadata": {},
   "outputs": [],
   "source": [
    "# # Importazioni necessarie (se non già importate)\n",
    "# from sklearn.metrics import accuracy_score, f1_score, confusion_matrix\n",
    "# import matplotlib.pyplot as plt\n",
    "# import numpy as np\n",
    "# import seaborn as sns\n",
    "\n",
    "# # Valutazione sul training set\n",
    "# y_pred_train = clf.predict(X_train_tr)\n",
    "# train_accuracy = accuracy_score(y_train, y_pred_train)\n",
    "# train_f1 = f1_score(y_train, y_pred_train, average='weighted')\n",
    "\n",
    "# # Valutazione sul test set\n",
    "# y_pred_test = clf.predict(X_test_tr)\n",
    "# test_accuracy = accuracy_score(y_test, y_pred_test)\n",
    "# test_f1 = f1_score(y_test, y_pred_test, average='weighted')\n",
    "#                         ### gaia ha messo y_tpred\n",
    "\n",
    "# # Stampa dei risultati\n",
    "# print(f\"Performance sul Training set:\")\n",
    "# print(f\"Accuracy: {train_accuracy:.4f}\")\n",
    "# print(f\"F1 Score: {train_f1:.4f}\")\n",
    "# print(\"\\nPerformance sul test set:\")\n",
    "# print(f\"Accuracy: {test_accuracy:.4f}\")\n",
    "# print(f\"F1 Score: {test_f1:.4f}\")\n",
    "\n",
    "# # Visualizzazione grafica del confronto\n",
    "# metrics = ['Accuracy', 'F1 Score']\n",
    "# train_scores = [train_accuracy, train_f1]\n",
    "# test_scores = [test_accuracy, test_f1]\n",
    "\n",
    "# x = np.arange(len(metrics))\n",
    "# width = 0.35\n",
    "\n",
    "# fig, ax = plt.subplots(figsize=(10, 6))\n",
    "# rects1 = ax.bar(x - width/2, train_scores, width, label='Training')\n",
    "# rects2 = ax.bar(x + width/2, test_scores, width, label='Validation')\n",
    "\n",
    "# ax.set_ylabel('Score')\n",
    "# ax.set_title('Training vs Validation Performance')\n",
    "# ax.set_xticks(x)\n",
    "# ax.set_xticklabels(metrics)\n",
    "# ax.legend()\n",
    "# ax.set_ylim(0, 1)\n",
    "\n",
    "# # Aggiungi i valori sopra le barre\n",
    "# def autolabel(rects):\n",
    "#     for rect in rects:\n",
    "#         height = rect.get_height()\n",
    "#         ax.annotate(f'{height:.4f}',\n",
    "#                     xy=(rect.get_x() + rect.get_width() / 2, height),\n",
    "#                     xytext=(0, 3),\n",
    "#                     textcoords=\"offset points\",\n",
    "#                     ha='center', va='bottom')\n",
    "\n",
    "# autolabel(rects1)\n",
    "# autolabel(rects2)\n",
    "\n",
    "# plt.tight_layout()\n",
    "# plt.show()"
   ]
  },
  {
   "cell_type": "code",
   "execution_count": 985,
   "metadata": {},
   "outputs": [],
   "source": [
    "# print(f\"Test accuracy: {accuracy_score(y_test, y_pred)}\")\n",
    "# print(\"\\nClassification Report:\")\n",
    "# print(classification_report(y_test, y_pred))"
   ]
  },
  {
   "cell_type": "code",
   "execution_count": 986,
   "metadata": {},
   "outputs": [],
   "source": [
    "# y_test_pred_proba = clf.predict_proba(X_train_tr)\n",
    "# plot_roc(y_test, y_test_pred_proba)\n",
    "# plt.show()"
   ]
  },
  {
   "cell_type": "code",
   "execution_count": 987,
   "metadata": {},
   "outputs": [],
   "source": [
    "# classes_unique = np.unique(y_test)\n",
    "# cm = confusion_matrix(y_test, y_pred)\n",
    "# sns.heatmap(cm, annot=True, fmt='d', cmap='Greens', \n",
    "#             xticklabels=classes_unique, \n",
    "#             yticklabels=classes_unique)\n",
    "# plt.xlabel('True')\n",
    "# plt.ylabel('Predicted')\n",
    "# plt.tight_layout()\n",
    "# plt.show()"
   ]
  },
  {
   "cell_type": "markdown",
   "metadata": {},
   "source": [
    "#### devo cambiare qualcosa?\n",
    "Compare the results with a dummy classifier "
   ]
  },
  {
   "cell_type": "code",
   "execution_count": 988,
   "metadata": {},
   "outputs": [],
   "source": [
    "# from sklearn.dummy import DummyClassifier\n",
    "# from sklearn.metrics import classification_report, accuracy_score\n",
    "\n",
    "# # Create dummy classifier (most frequent class strategy)\n",
    "# dummy = DummyClassifier(strategy=\"most_frequent\")\n",
    "# dummy.fit(X_train_tra, y_train)\n",
    "\n",
    "# # Predict and evaluate\n",
    "# y_pred = dummy.predict(X_test_tr)\n",
    "\n",
    "# print(\"Accuracy:\", accuracy_score(y_test, y_pred))\n",
    "# print(\"Classification Report:\\n\", classification_report(y_test, y_pred))"
   ]
  }
 ],
 "metadata": {
  "kernelspec": {
   "display_name": "Python 3",
   "language": "python",
   "name": "python3"
  },
  "language_info": {
   "codemirror_mode": {
    "name": "ipython",
    "version": 3
   },
   "file_extension": ".py",
   "mimetype": "text/x-python",
   "name": "python",
   "nbconvert_exporter": "python",
   "pygments_lexer": "ipython3",
   "version": "3.8.2"
  }
 },
 "nbformat": 4,
 "nbformat_minor": 2
}
