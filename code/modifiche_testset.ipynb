{
 "cells": [
  {
   "cell_type": "markdown",
   "metadata": {},
   "source": [
    "## APPLICAZIONE SUL TEST SET DELLE MODIFICHE FATTE SUL TRAINING SET"
   ]
  },
  {
   "cell_type": "code",
   "execution_count": 1,
   "metadata": {},
   "outputs": [],
   "source": [
    "import pandas as pd\n",
    "from constants import*\n",
    "from constants import numeric_columns as num_cols\n",
    "import numpy as np\n",
    "import ast\n",
    "\n",
    "test_df = pd.read_csv(\"test.csv\")"
   ]
  },
  {
   "cell_type": "markdown",
   "metadata": {},
   "source": [
    "### Trasformazione \\N di genres in NaN"
   ]
  },
  {
   "cell_type": "code",
   "execution_count": 2,
   "metadata": {},
   "outputs": [],
   "source": [
    "#trasforma valori \\N di genres in nan\n",
    "test_df.loc[test_df[\"genres\"] == r'\\N', \"genres\"] = np.nan"
   ]
  },
  {
   "cell_type": "markdown",
   "metadata": {},
   "source": [
    "### Trasformazione dei generi in liste di stringhe; per i record NaN vengono trasformati in [\"\"]"
   ]
  },
  {
   "cell_type": "code",
   "execution_count": 3,
   "metadata": {},
   "outputs": [
    {
     "name": "stdout",
     "output_type": "stream",
     "text": [
      "0                      [<class 'str'>, <class 'str'>]\n",
      "1                                     [<class 'str'>]\n",
      "2                                     [<class 'str'>]\n",
      "3                                     [<class 'str'>]\n",
      "4       [<class 'str'>, <class 'str'>, <class 'str'>]\n",
      "                            ...                      \n",
      "5473                                  [<class 'str'>]\n",
      "5474    [<class 'str'>, <class 'str'>, <class 'str'>]\n",
      "5475                                  [<class 'str'>]\n",
      "5476                                  [<class 'str'>]\n",
      "5477                                  [<class 'str'>]\n",
      "Name: genres, Length: 5478, dtype: object\n",
      "0             [Music, Short]\n",
      "1                   [Horror]\n",
      "2               [Reality-TV]\n",
      "3                [Game-Show]\n",
      "4    [Crime, Drama, Mystery]\n",
      "Name: genres, dtype: object\n"
     ]
    }
   ],
   "source": [
    "# Replace NaN values with an empty string\n",
    "test_df[\"genres\"] = test_df[\"genres\"].fillna(\"\")\n",
    "\n",
    "# Split genres into lists\n",
    "test_df[\"genres\"] = test_df[\"genres\"].str.split(',')\n",
    "\n",
    "# Debug: Check the data types within the lists\n",
    "print(test_df['genres'].apply(lambda x: [type(genre) for genre in (x if isinstance(x, list) else [])]))\n",
    "\n",
    "# Preview the updated genres column\n",
    "print(test_df[\"genres\"].head())"
   ]
  },
  {
   "cell_type": "markdown",
   "metadata": {},
   "source": [
    "### Trasformare i valori \\N in nan nelle colonne numeriche"
   ]
  },
  {
   "cell_type": "code",
   "execution_count": 4,
   "metadata": {},
   "outputs": [],
   "source": [
    "#uniformo assegnando NaN a tutti i valori nulli\n",
    "for col in num_cols:\n",
    "    #Converts the values in column col to numeric types (e.g., int, float). \n",
    "    # #If a value cannot be converted  (e.g., invalid strings), it is replaced with NaN (missing value).\n",
    "    test_df[col] = pd.to_numeric(test_df[col], errors='coerce')\n",
    "\n",
    "    #abbiamo trasformato i valori numerici in interi e non float (con Int64 accetta i Nan)\n",
    "    #test_df[col] = test_df[col].astype('Int64')"
   ]
  },
  {
   "cell_type": "markdown",
   "metadata": {},
   "source": [
    "### Ceiling per i rating"
   ]
  },
  {
   "cell_type": "code",
   "execution_count": 5,
   "metadata": {},
   "outputs": [],
   "source": [
    "#ceiling per rating\n",
    "test_df['rating'] = test_df['rating'].str.extract(\n",
    "        r\",\\s*(\\d+)\\]\"\n",
    "    ).astype(int)"
   ]
  },
  {
   "cell_type": "markdown",
   "metadata": {},
   "source": [
    "### CountryofOrigin come lista di stringhe"
   ]
  },
  {
   "cell_type": "code",
   "execution_count": 6,
   "metadata": {},
   "outputs": [
    {
     "name": "stdout",
     "output_type": "stream",
     "text": [
      "0       [<class 'str'>]\n",
      "1       [<class 'str'>]\n",
      "2       [<class 'str'>]\n",
      "3       [<class 'str'>]\n",
      "4       [<class 'str'>]\n",
      "             ...       \n",
      "5473    [<class 'str'>]\n",
      "5474    [<class 'str'>]\n",
      "5475    [<class 'str'>]\n",
      "5476    [<class 'str'>]\n",
      "5477    [<class 'str'>]\n",
      "Name: countryOfOrigin, Length: 5478, dtype: object\n"
     ]
    }
   ],
   "source": [
    "#traformazione paesi in liste di stringhe\n",
    "test_df['countryOfOrigin'] = test_df['countryOfOrigin'].apply(ast.literal_eval)\n",
    "\n",
    "print(test_df['countryOfOrigin'].apply(lambda x: [type(country) for country in x]))"
   ]
  },
  {
   "cell_type": "markdown",
   "metadata": {},
   "source": [
    "### GESTIONE 1 MISSING VALUES --> trasformazione awardWins a 0 per i nan"
   ]
  },
  {
   "cell_type": "code",
   "execution_count": 7,
   "metadata": {},
   "outputs": [],
   "source": [
    "test_df[\"awardWins\"] = test_df[\"awardWins\"].fillna(0)"
   ]
  },
  {
   "cell_type": "markdown",
   "metadata": {},
   "source": [
    "### GESTIONE 2 MISSING VALUES --> one-hot per generi; i missing hanno 0 in tutte le variabili"
   ]
  },
  {
   "cell_type": "code",
   "execution_count": 8,
   "metadata": {},
   "outputs": [
    {
     "name": "stdout",
     "output_type": "stream",
     "text": [
      "{'', 'Western', 'Thriller', 'Horror', 'Animation', 'Family', 'News', 'Sport', 'Reality-TV', 'Biography', 'Sci-Fi', 'Fantasy', 'Documentary', 'Talk-Show', 'Drama', 'Music', 'Game-Show', 'Adventure', 'Romance', 'Mystery', 'Short', 'Action', 'Adult', 'History', 'Musical', 'Crime', 'Film-Noir', 'War', 'Comedy'}\n"
     ]
    }
   ],
   "source": [
    "# Flatten all lists and get unique genres\n",
    "all_genres = set(genre for sublist in test_df['genres'] if isinstance(sublist, list) for genre in sublist)\n",
    "print(all_genres)"
   ]
  },
  {
   "cell_type": "code",
   "execution_count": 9,
   "metadata": {},
   "outputs": [],
   "source": [
    "# Create a one-hot encoded column for each genre\n",
    "for genre in all_genres:\n",
    "    test_df[f\"is_{genre}\"] = test_df['genres'].apply(lambda x: 1 if genre in x else 0)"
   ]
  },
  {
   "cell_type": "code",
   "execution_count": 10,
   "metadata": {},
   "outputs": [],
   "source": [
    "#droppiamo colonna [\"is_\"] così che il vettore per i record che non hanno genere siano tutti 0\n",
    "test_df.drop([\"is_\"], axis=1, inplace=True)"
   ]
  },
  {
   "cell_type": "markdown",
   "metadata": {},
   "source": [
    "### GESTIONE 3 MISSING VALUES --> sostituire i nan di runtimeMins come mediana raggruppato per titletype"
   ]
  },
  {
   "cell_type": "code",
   "execution_count": 11,
   "metadata": {},
   "outputs": [],
   "source": [
    "#creiamo nuova colonna runtimeMinutes dove sostituiamo i nan con mediana \n",
    "test_df[\"fill_runtimeMinutes\"] = test_df.groupby([\"titleType\"])[\"runtimeMinutes\"].transform(lambda x: x.fillna(x.median()))"
   ]
  },
  {
   "cell_type": "markdown",
   "metadata": {},
   "source": [
    "### Drop della colonna \"genres\" dato che abbiamo già fatto il one-hot encoding"
   ]
  },
  {
   "cell_type": "code",
   "execution_count": 12,
   "metadata": {},
   "outputs": [],
   "source": [
    "test_df.drop([\"genres\"], axis=1, inplace=True)"
   ]
  },
  {
   "cell_type": "markdown",
   "metadata": {},
   "source": [
    "### Drop colonne redundant"
   ]
  },
  {
   "cell_type": "code",
   "execution_count": 13,
   "metadata": {},
   "outputs": [],
   "source": [
    "test_df.drop([\"bestRating\"], axis=1, inplace=True)\n",
    "test_df.drop([\"worstRating\"], axis=1, inplace=True)\n",
    "test_df.drop([\"isRatable\"], axis=1, inplace=True)\n",
    "test_df.drop([\"ratingCount\"], axis=1, inplace=True)"
   ]
  },
  {
   "cell_type": "markdown",
   "metadata": {},
   "source": [
    "### Applicazione delle modifiche al nuovo csv"
   ]
  },
  {
   "cell_type": "code",
   "execution_count": 14,
   "metadata": {},
   "outputs": [],
   "source": [
    "test_df.to_csv('pp_test.csv', index=False, header=True)"
   ]
  }
 ],
 "metadata": {
  "kernelspec": {
   "display_name": "Python 3",
   "language": "python",
   "name": "python3"
  },
  "language_info": {
   "codemirror_mode": {
    "name": "ipython",
    "version": 3
   },
   "file_extension": ".py",
   "mimetype": "text/x-python",
   "name": "python",
   "nbconvert_exporter": "python",
   "pygments_lexer": "ipython3",
   "version": "3.8.2"
  }
 },
 "nbformat": 4,
 "nbformat_minor": 2
}
