{
 "cells": [
  {
   "cell_type": "markdown",
   "metadata": {},
   "source": [
    "## APPLICAZIONE SUL TEST SET DELLE MODIFICHE FATTE SUL TRAINING SET"
   ]
  },
  {
   "cell_type": "code",
   "execution_count": null,
   "metadata": {},
   "outputs": [],
   "source": [
    "import pandas as pd\n",
    "from constants import*\n",
    "from constants import numeric_columns as num_cols\n",
    "import numpy as np\n",
    "import ast\n",
    "\n",
    "test_df = pd.read_csv(\"test.csv\")\n",
    "#test_df = pd.read_csv(\"train.csv\")"
   ]
  },
  {
   "cell_type": "markdown",
   "metadata": {},
   "source": [
    "### Trasformazione \\N di genres in NaN"
   ]
  },
  {
   "cell_type": "code",
   "execution_count": 2,
   "metadata": {},
   "outputs": [],
   "source": [
    "#trasforma valori \\N di genres in nan\n",
    "test_df.loc[test_df[\"genres\"] == r'\\N', \"genres\"] = np.nan"
   ]
  },
  {
   "cell_type": "markdown",
   "metadata": {},
   "source": [
    "### Trasformazione dei generi in liste di stringhe; per i record NaN vengono trasformati in [\"\"]"
   ]
  },
  {
   "cell_type": "code",
   "execution_count": 3,
   "metadata": {},
   "outputs": [
    {
     "name": "stdout",
     "output_type": "stream",
     "text": [
      "0                      [<class 'str'>, <class 'str'>]\n",
      "1                                     [<class 'str'>]\n",
      "2                                     [<class 'str'>]\n",
      "3                                     [<class 'str'>]\n",
      "4       [<class 'str'>, <class 'str'>, <class 'str'>]\n",
      "                            ...                      \n",
      "5473                                  [<class 'str'>]\n",
      "5474    [<class 'str'>, <class 'str'>, <class 'str'>]\n",
      "5475                                  [<class 'str'>]\n",
      "5476                                  [<class 'str'>]\n",
      "5477                                  [<class 'str'>]\n",
      "Name: genres, Length: 5478, dtype: object\n",
      "0             [Music, Short]\n",
      "1                   [Horror]\n",
      "2               [Reality-TV]\n",
      "3                [Game-Show]\n",
      "4    [Crime, Drama, Mystery]\n",
      "Name: genres, dtype: object\n"
     ]
    }
   ],
   "source": [
    "# Replace NaN values with an empty string\n",
    "test_df[\"genres\"] = test_df[\"genres\"].fillna(\"\")\n",
    "\n",
    "# Split genres into lists\n",
    "test_df[\"genres\"] = test_df[\"genres\"].str.split(',')\n",
    "\n",
    "# Debug: Check the data types within the lists\n",
    "print(test_df['genres'].apply(lambda x: [type(genre) for genre in (x if isinstance(x, list) else [])]))\n",
    "\n",
    "# Preview the updated genres column\n",
    "print(test_df[\"genres\"].head())"
   ]
  },
  {
   "cell_type": "markdown",
   "metadata": {},
   "source": [
    "### Trasformare i valori \\N in nan nelle colonne numeriche"
   ]
  },
  {
   "cell_type": "code",
   "execution_count": 4,
   "metadata": {},
   "outputs": [],
   "source": [
    "#uniformo assegnando NaN a tutti i valori nulli\n",
    "for col in num_cols:\n",
    "    #Converts the values in column col to numeric types (e.g., int, float). \n",
    "    # #If a value cannot be converted  (e.g., invalid strings), it is replaced with NaN (missing value).\n",
    "    test_df[col] = pd.to_numeric(test_df[col], errors='coerce')\n",
    "\n",
    "    #abbiamo trasformato i valori numerici in interi e non float (con Int64 accetta i Nan)\n",
    "    #test_df[col] = test_df[col].astype('Int64')"
   ]
  },
  {
   "cell_type": "markdown",
   "metadata": {},
   "source": [
    "### Ceiling per i rating"
   ]
  },
  {
   "cell_type": "code",
   "execution_count": 5,
   "metadata": {},
   "outputs": [],
   "source": [
    "#ceiling per rating\n",
    "test_df['rating'] = test_df['rating'].str.extract(\n",
    "        r\",\\s*(\\d+)\\]\"\n",
    "    ).astype(int)"
   ]
  },
  {
   "cell_type": "markdown",
   "metadata": {},
   "source": [
    "### CountryofOrigin come lista di stringhe"
   ]
  },
  {
   "cell_type": "code",
   "execution_count": 6,
   "metadata": {},
   "outputs": [
    {
     "name": "stdout",
     "output_type": "stream",
     "text": [
      "0       [<class 'str'>]\n",
      "1       [<class 'str'>]\n",
      "2       [<class 'str'>]\n",
      "3       [<class 'str'>]\n",
      "4       [<class 'str'>]\n",
      "             ...       \n",
      "5473    [<class 'str'>]\n",
      "5474    [<class 'str'>]\n",
      "5475    [<class 'str'>]\n",
      "5476    [<class 'str'>]\n",
      "5477    [<class 'str'>]\n",
      "Name: countryOfOrigin, Length: 5478, dtype: object\n"
     ]
    }
   ],
   "source": [
    "#traformazione paesi in liste di stringhe\n",
    "test_df['countryOfOrigin'] = test_df['countryOfOrigin'].apply(ast.literal_eval)\n",
    "\n",
    "print(test_df['countryOfOrigin'].apply(lambda x: [type(country) for country in x]))"
   ]
  },
  {
   "cell_type": "markdown",
   "metadata": {},
   "source": [
    "### GESTIONE 1 MISSING VALUES --> trasformazione awardWins a 0 per i nan"
   ]
  },
  {
   "cell_type": "code",
   "execution_count": 7,
   "metadata": {},
   "outputs": [],
   "source": [
    "test_df[\"awardWins\"] = test_df[\"awardWins\"].fillna(0)"
   ]
  },
  {
   "cell_type": "markdown",
   "metadata": {},
   "source": [
    "### GESTIONE 2 MISSING VALUES --> one-hot per generi; i missing hanno 0 in tutte le variabili"
   ]
  },
  {
   "cell_type": "code",
   "execution_count": 8,
   "metadata": {},
   "outputs": [
    {
     "name": "stdout",
     "output_type": "stream",
     "text": [
      "{'', 'Western', 'Thriller', 'Horror', 'Animation', 'Family', 'News', 'Sport', 'Reality-TV', 'Biography', 'Sci-Fi', 'Fantasy', 'Documentary', 'Talk-Show', 'Drama', 'Music', 'Game-Show', 'Adventure', 'Romance', 'Mystery', 'Short', 'Action', 'Adult', 'History', 'Musical', 'Crime', 'Film-Noir', 'War', 'Comedy'}\n"
     ]
    }
   ],
   "source": [
    "# Flatten all lists and get unique genres\n",
    "all_genres = set(genre for sublist in test_df['genres'] if isinstance(sublist, list) for genre in sublist)\n",
    "print(all_genres)"
   ]
  },
  {
   "cell_type": "code",
   "execution_count": 9,
   "metadata": {},
   "outputs": [],
   "source": [
    "# Create a one-hot encoded column for each genre\n",
    "for genre in all_genres:\n",
    "    test_df[f\"is_{genre}\"] = test_df['genres'].apply(lambda x: 1 if genre in x else 0)"
   ]
  },
  {
   "cell_type": "code",
   "execution_count": 10,
   "metadata": {},
   "outputs": [],
   "source": [
    "#droppiamo colonna [\"is_\"] così che il vettore per i record che non hanno genere siano tutti 0\n",
    "test_df.drop([\"is_\"], axis=1, inplace=True)"
   ]
  },
  {
   "cell_type": "markdown",
   "metadata": {},
   "source": [
    "### GESTIONE 3 MISSING VALUES --> sostituire i nan di runtimeMins come mediana raggruppato per titletype"
   ]
  },
  {
   "cell_type": "code",
   "execution_count": 11,
   "metadata": {},
   "outputs": [],
   "source": [
    "#creiamo nuova colonna runtimeMinutes dove sostituiamo i nan con mediana \n",
    "test_df[\"fill_runtimeMinutes\"] = test_df.groupby([\"titleType\"])[\"runtimeMinutes\"].transform(lambda x: x.fillna(x.median()))"
   ]
  },
  {
   "cell_type": "markdown",
   "metadata": {},
   "source": [
    "### Drop colonne redundant"
   ]
  },
  {
   "cell_type": "code",
   "execution_count": 13,
   "metadata": {},
   "outputs": [],
   "source": [
    "test_df.drop([\"bestRating\"], axis=1, inplace=True)\n",
    "test_df.drop([\"worstRating\"], axis=1, inplace=True)\n",
    "test_df.drop([\"isRatable\"], axis=1, inplace=True)\n",
    "test_df.drop([\"ratingCount\"], axis=1, inplace=True)"
   ]
  },
  {
   "cell_type": "markdown",
   "metadata": {},
   "source": [
    "### Gestione country of origin"
   ]
  },
  {
   "cell_type": "code",
   "execution_count": null,
   "metadata": {},
   "outputs": [],
   "source": [
    "HISTORIC_CODES = {\n",
    "    # Europa\n",
    "    'XYU': {'name': 'Yugoslavia', 'continent': 'Europe'},\n",
    "    'YUCS': {'name': 'Yugoslavia (Socialist Federal Republic)', 'continent': 'Europe'},\n",
    "    'YUG': {'name': 'Yugoslavia', 'continent': 'Europe'},\n",
    "    'SUHH': {'name': 'Soviet Union', 'continent': 'Europe'},\n",
    "    'SUN': {'name': 'Soviet Union', 'continent': 'Europe'},\n",
    "    'SU': {'name': 'Soviet Union', 'continent': 'Europe'},\n",
    "    'USSR': {'name': 'Union of Soviet Socialist Republics', 'continent': 'Europe'},\n",
    "    'DDDE': {'name': 'East Germany', 'continent': 'Europe'},\n",
    "    'DDR': {'name': 'German Democratic Republic', 'continent': 'Europe'},\n",
    "    'XWG': {'name': 'East Germany', 'continent': 'Europe'},\n",
    "    'BRD': {'name': 'Federal Republic of Germany (West Germany)', 'continent': 'Europe'},\n",
    "    'FRGG': {'name': 'West Germany', 'continent': 'Europe'},\n",
    "    'CSXX': {'name': 'Czechoslovakia', 'continent': 'Europe'},\n",
    "    'CSHH': {'name': 'Czechoslovakia', 'continent': 'Europe'},\n",
    "    'CSK': {'name': 'Czechoslovakia', 'continent': 'Europe'},\n",
    "    'TCH': {'name': 'Czechoslovakia', 'continent': 'Europe'},\n",
    "    'XCZ': {'name': 'Czechoslovakia (1945-1992)', 'continent': 'Europe'},\n",
    "    'SCG': {'name': 'Serbia and Montenegro', 'continent': 'Europe'},\n",
    "    'SCGN': {'name': 'Serbia and Montenegro', 'continent': 'Europe'},\n",
    "    'XKV': {'name': 'Kosovo', 'continent': 'Europe'},\n",
    "    'XPL': {'name': 'Poland (1945-1989)', 'continent': 'Europe'},\n",
    "    'XHU': {'name': 'Hungary (1945-1989)', 'continent': 'Europe'},\n",
    "    'XEU': {'name': 'European Union', 'continent': 'Europe'},\n",
    "    'EUE': {'name': 'European Union', 'continent': 'Europe'},\n",
    "    'XCI': {'name': 'Channel Islands', 'continent': 'Europe'},\n",
    "    'XES': {'name': 'Estonia (pre-1991)', 'continent': 'Europe'},\n",
    "    'XLV': {'name': 'Latvia (pre-1991)', 'continent': 'Europe'},\n",
    "    'XLT': {'name': 'Lithuania (pre-1991)', 'continent': 'Europe'},\n",
    "    'XAZ': {'name': 'Azores', 'continent': 'Europe'},\n",
    "    'XFR': {'name': 'France (Historical)', 'continent': 'Europe'},\n",
    "    'FXX': {'name': 'Metropolitan France', 'continent': 'Europe'},\n",
    "    'AHU': {'name': 'Austria-Hungary', 'continent': 'Europe'},\n",
    "    'PRU': {'name': 'Prussia', 'continent': 'Europe'},\n",
    "    'BAV': {'name': 'Bavaria', 'continent': 'Europe'},\n",
    "    'KPS': {'name': 'Kingdom of the Two Sicilies', 'continent': 'Europe'},\n",
    "    'VEN': {'name': 'Republic of Venice', 'continent': 'Europe'},\n",
    "    'XOH': {'name': 'Ottoman Hungary', 'continent': 'Europe'},\n",
    "    'XCR': {'name': 'Crimean Khanate', 'continent': 'Europe'},\n",
    "    'MON': {'name': 'Montenegro (pre-independence)', 'continent': 'Europe'},\n",
    "    'VA': {'name': 'Vatican City State', 'continent': 'Europe'},\n",
    "    'SRB': {'name': 'Kingdom of Serbia', 'continent': 'Europe'},\n",
    "    'PDM': {'name': 'Piedmont-Sardinia', 'continent': 'Europe'},\n",
    "    'XPP': {'name': 'Papal States', 'continent': 'Europe'},\n",
    "    'XMO': {'name': 'Monaco (Historical)', 'continent': 'Europe'},\n",
    "    'XSM': {'name': 'San Marino (Historical)', 'continent': 'Europe'},\n",
    "    'XLI': {'name': 'Liechtenstein (Historical)', 'continent': 'Europe'},\n",
    "    \n",
    "    # Asia\n",
    "    'ANT': {'name': 'Netherlands Antilles', 'continent': 'North_America'},\n",
    "    'ANHH': {'name': 'Netherlands Antilles', 'continent': 'North_America'},\n",
    "    'XAN': {'name': 'Netherlands Antilles', 'continent': 'North_America'},\n",
    "    'BUR': {'name': 'Burma (now Myanmar)', 'continent': 'Asia'},\n",
    "    'TPE': {'name': 'Chinese Taipei (Taiwan)', 'continent': 'Asia'},\n",
    "    'XIR': {'name': 'Persia (now Iran)', 'continent': 'Asia'},\n",
    "    'TMP': {'name': 'East Timor (pre-independence)', 'continent': 'Asia'},\n",
    "    'TLS': {'name': 'East Timor', 'continent': 'Asia'},\n",
    "    'XTI': {'name': 'East Timor (Portuguese Timor)', 'continent': 'Asia'},\n",
    "    'YMD': {'name': 'South Yemen (People\\'s Democratic Republic)', 'continent': 'Asia'},\n",
    "    'YMN': {'name': 'North Yemen (Yemen Arab Republic)', 'continent': 'Asia'},\n",
    "    'XHK': {'name': 'Hong Kong (pre-1997)', 'continent': 'Asia'},\n",
    "    'HKJ': {'name': 'Hashemite Kingdom of Jordan', 'continent': 'Asia'},\n",
    "    'XNA': {'name': 'Neutral Zone (Saudi Arabia-Iraq)', 'continent': 'Asia'},\n",
    "    'XEA': {'name': 'East Asia (historical region)', 'continent': 'Asia'},\n",
    "    'XSE': {'name': 'Southeast Asia (historical region)', 'continent': 'Asia'},\n",
    "    'XME': {'name': 'Middle East (region)', 'continent': 'Asia'},\n",
    "    'XIO': {'name': 'British Indian Ocean Territory', 'continent': 'Asia'},\n",
    "    'XSI': {'name': 'Sikkim (now part of India)', 'continent': 'Asia'},\n",
    "    #'XEG': {'name': 'United Arab Republic (Egypt & Syria)', 'continent': 'Africa/Asia'},\n",
    "    'XMB': {'name': 'Manchukuo (Japanese puppet state in Manchuria)', 'continent': 'Asia'},\n",
    "    'KOR': {'name': 'Korea (pre-division)', 'continent': 'Asia'},\n",
    "    'XSM': {'name': 'Siam (now Thailand)', 'continent': 'Asia'},\n",
    "    'XCY': {'name': 'Ceylon (now Sri Lanka)', 'continent': 'Asia'},\n",
    "    'SAA': {'name': 'Sarawak (pre-Malaysia)', 'continent': 'Asia'},\n",
    "    'SBH': {'name': 'North Borneo (now Sabah)', 'continent': 'Asia'},\n",
    "    'XPH': {'name': 'Philippines (American period)', 'continent': 'Asia'},\n",
    "    'XIN': {'name': 'British India', 'continent': 'Asia'},\n",
    "    'GBG': {'name': 'Great Burhan Regime (Afghanistan)', 'continent': 'Asia'},\n",
    "    'XPL': {'name': 'Palestine (British Mandate)', 'continent': 'Asia'},\n",
    "    'XFI': {'name': 'French Indochina', 'continent': 'Asia'},\n",
    "    'XDP': {'name': 'Portuguese India', 'continent': 'Asia'},\n",
    "    'XMO': {'name': 'Macao (pre-1999)', 'continent': 'Asia'},\n",
    "    'XQG': {'name': 'Qing Dynasty China', 'continent': 'Asia'},\n",
    "    \n",
    "    # Africa\n",
    "    'RHO': {'name': 'Rhodesia (now Zimbabwe)', 'continent': 'Africa'},\n",
    "    'XRH': {'name': 'Southern Rhodesia', 'continent': 'Africa'},\n",
    "    'ZAR': {'name': 'Zaire (now Democratic Republic of the Congo)', 'continent': 'Africa'},\n",
    "    'XAF': {'name': 'Afars and Issas (now Djibouti)', 'continent': 'Africa'},\n",
    "    'XDY': {'name': 'Dahomey (now Benin)', 'continent': 'Africa'},\n",
    "    'XUG': {'name': 'Uganda (pre-1962)', 'continent': 'Africa'},\n",
    "    'XET': {'name': 'Ethiopia (pre-1993)', 'continent': 'Africa'},\n",
    "    'XSU': {'name': 'Sudan (pre-2011)', 'continent': 'Africa'},\n",
    "    'USR': {'name': 'Upper Volta (now Burkina Faso)', 'continent': 'Africa'},\n",
    "    'XVO': {'name': 'Upper Volta', 'continent': 'Africa'},\n",
    "    'XBF': {'name': 'Burkina Faso (1984-present)', 'continent': 'Africa'},\n",
    "    'XLI': {'name': 'Libya (pre-2011)', 'continent': 'Africa'},\n",
    "    'XTC': {'name': 'Tanganyika (now part of Tanzania)', 'continent': 'Africa'},\n",
    "    'XZR': {'name': 'Zanzibar (now part of Tanzania)', 'continent': 'Africa'},\n",
    "    'XTZ': {'name': 'Tanzania (1964-present)', 'continent': 'Africa'},\n",
    "    'XGH': {'name': 'Gold Coast (now Ghana)', 'continent': 'Africa'},\n",
    "    'XSL': {'name': 'Sierra Leone (pre-1961)', 'continent': 'Africa'},\n",
    "    'XMA': {'name': 'Madeira', 'continent': 'Africa'},\n",
    "    'XTA': {'name': 'Tangier International Zone', 'continent': 'Africa'},\n",
    "    'XCV': {'name': 'Cape Verde (before 2013)', 'continent': 'Africa'},\n",
    "    'XBI': {'name': 'British Somaliland', 'continent': 'Africa'},\n",
    "    'XIF': {'name': 'Italian Somaliland', 'continent': 'Africa'},\n",
    "    'XAL': {'name': 'Algérie française (French Algeria)', 'continent': 'Africa'},\n",
    "    'XNY': {'name': 'Nyasaland (now Malawi)', 'continent': 'Africa'},\n",
    "    'XBE': {'name': 'Belgian Congo', 'continent': 'Africa'},\n",
    "    'XBA': {'name': 'Basutoland (now Lesotho)', 'continent': 'Africa'},\n",
    "    'XSW': {'name': 'South West Africa (now Namibia)', 'continent': 'Africa'},\n",
    "    'XZB': {'name': 'Zambezi (colonial term)', 'continent': 'Africa'},\n",
    "    'XAO': {'name': 'Angola (Portuguese colony)', 'continent': 'Africa'},\n",
    "    'EH': {'name': 'Western Sahara (Sahara Occidental)', 'continent': 'Africa'},\n",
    "    'XEN': {'name': 'Emirates of North Africa', 'continent': 'Africa'},\n",
    "    'XTR': {'name': 'Tripolitania (now part of Libya)', 'continent': 'Africa'},\n",
    "    'XCY': {'name': 'Cyrenaica (now part of Libya)', 'continent': 'Africa'},\n",
    "    'XAB': {'name': 'Abyssinia (historical Ethiopia)', 'continent': 'Africa'},\n",
    "    'XBB': {'name': 'Bechuanaland (now Botswana)', 'continent': 'Africa'},\n",
    "    'XMA': {'name': 'Madagascar (French colony)', 'continent': 'Africa'},\n",
    "    'XMO': {'name': 'Morocco (French/Spanish protectorate)', 'continent': 'Africa'},\n",
    "    'XTU': {'name': 'Tunisia (French protectorate)', 'continent': 'Africa'},\n",
    "    \n",
    "    # Americas\n",
    "    'XUS': {'name': 'United States (Historical)', 'continent': 'North_America'},\n",
    "    'XCA': {'name': 'Canada (Historical)', 'continent': 'North_America'},\n",
    "    'XPU': {'name': 'Panama Canal Zone', 'continent': 'North_America'},\n",
    "    'XMX': {'name': 'Mexico (Historical)', 'continent': 'North_America'},\n",
    "    'XBR': {'name': 'Brazil (Historical)', 'continent': 'South_America'},\n",
    "    'XAR': {'name': 'Argentina (Historical)', 'continent': 'South_America'},\n",
    "    'XCB': {'name': 'Caribbean Islands (collective)', 'continent': 'North_America'},\n",
    "    'XCL': {'name': 'Chile (pre-1990)', 'continent': 'South_America'},\n",
    "    'XCO': {'name': 'Colombia (pre-1991)', 'continent': 'South_America'},\n",
    "    'XCU': {'name': 'Cuba (pre-1959)', 'continent': 'North_America'},\n",
    "    'XEN': {'name': 'English Caribbean Islands', 'continent': 'North_America'},\n",
    "    'XFR': {'name': 'French Caribbean Islands', 'continent': 'North_America'},\n",
    "    'XGL': {'name': 'Greenland (pre-1979)', 'continent': 'North_America'},\n",
    "    'XGY': {'name': 'Guyana (British Guiana)', 'continent': 'South_America'},\n",
    "    'XSR': {'name': 'Suriname (Dutch Guiana)', 'continent': 'South_America'},\n",
    "    'XGF': {'name': 'French Guiana (Historical)', 'continent': 'South_America'},\n",
    "    'XPI': {'name': 'Saint-Pierre and Miquelon', 'continent': 'North_America'},\n",
    "    'USC': {'name': 'Confederate States of America', 'continent': 'North_America'},\n",
    "    'XTX': {'name': 'Republic of Texas', 'continent': 'North_America'},\n",
    "    'XHT': {'name': 'Saint-Domingue (now Haiti)', 'continent': 'North_America'},\n",
    "    'XBH': {'name': 'British Honduras (now Belize)', 'continent': 'North_America'},\n",
    "    'XBW': {'name': 'British West Indies', 'continent': 'North_America'},\n",
    "    'XUN': {'name': 'United Provinces of Central America', 'continent': 'North_America'},\n",
    "    'XGP': {'name': 'Gran Colombia', 'continent': 'South_America'},\n",
    "    'XPR': {'name': 'Peru-Bolivian Confederation', 'continent': 'South_America'},\n",
    "    'XPN': {'name': 'Panama (as part of Colombia)', 'continent': 'North_America'},\n",
    "    'XRI': {'name': 'Río de la Plata (Viceroyalty)', 'continent': 'South_America'},\n",
    "    'XLN': {'name': 'New Granada (Viceroyalty)', 'continent': 'South_America'},\n",
    "    'XNS': {'name': 'New Spain (Viceroyalty)', 'continent': 'North_America'},\n",
    "    'XBE': {'name': 'British Empire in America', 'continent': 'North_America'},\n",
    "    'XDW': {'name': 'Danish West Indies (now US Virgin Islands)', 'continent': 'North_America'},\n",
    "    \n",
    "    # Oceania\n",
    "    'XAU': {'name': 'Australia (pre-Federation)', 'continent': 'Oceania'},\n",
    "    'XNZ': {'name': 'New Zealand (pre-1907)', 'continent': 'Oceania'},\n",
    "    'PCI': {'name': 'Pacific Islands Trust Territory', 'continent': 'Oceania'},\n",
    "    'XPI': {'name': 'Pacific Islands (US Trust Territory)', 'continent': 'Oceania'},\n",
    "    'XFJ': {'name': 'Fiji (pre-1970)', 'continent': 'Oceania'},\n",
    "    'XPN': {'name': 'Papua New Guinea (pre-1975)', 'continent': 'Oceania'},\n",
    "    'XPW': {'name': 'Palau (pre-1994)', 'continent': 'Oceania'},\n",
    "    'XMH': {'name': 'Marshall Islands (pre-1986)', 'continent': 'Oceania'},\n",
    "    'XFM': {'name': 'Federated States of Micronesia (pre-1986)', 'continent': 'Oceania'},\n",
    "    'XGE': {'name': 'Gilbert Islands (now part of Kiribati)', 'continent': 'Oceania'},\n",
    "    'XEL': {'name': 'Ellice Islands (now Tuvalu)', 'continent': 'Oceania'},\n",
    "    'XNH': {'name': 'New Hebrides (now Vanuatu)', 'continent': 'Oceania'},\n",
    "    'PCT': {'name': 'Pacific Islands Trust Territory', 'continent': 'Oceania'},\n",
    "    'XWS': {'name': 'Western Samoa (now Samoa)', 'continent': 'Oceania'},\n",
    "    'XNA': {'name': 'Netherlands New Guinea', 'continent': 'Oceania'},\n",
    "    'XHS': {'name': 'Hawaii (pre-US statehood)', 'continent': 'Oceania'},\n",
    "    'XBP': {'name': 'British Polynesia', 'continent': 'Oceania'},\n",
    "    'XFP': {'name': 'French Polynesia (historical)', 'continent': 'Oceania'},\n",
    "    'XNC': {'name': 'New Caledonia (historical)', 'continent': 'Oceania'},\n",
    "    'XSI': {'name': 'Solomon Islands (British protectorate)', 'continent': 'Oceania'},\n",
    "    \n",
    "}"
   ]
  },
  {
   "cell_type": "code",
   "execution_count": null,
   "metadata": {},
   "outputs": [],
   "source": [
    "import pycountry\n",
    "import pycountry_convert as pc\n",
    "\n",
    "\n",
    "def get_continent(country_code):\n",
    "    \"\"\"Ottiene il continente per una singola sigla di paese\"\"\"\n",
    "    # Controlla prima nel dizionario storico\n",
    "    if country_code in HISTORIC_CODES:\n",
    "        return HISTORIC_CODES[country_code]['continent']\n",
    "    \n",
    "    try:\n",
    "        # Per codici a 2 lettere (alpha-2)\n",
    "        if len(country_code) == 2:\n",
    "            country_continent_code = pc.country_alpha2_to_continent_code(country_code)\n",
    "            continent_name = pc.convert_continent_code_to_continent_name(country_continent_code)\n",
    "            return continent_name\n",
    "            \n",
    "        # Per codici a 3 lettere (alpha-3)\n",
    "        elif len(country_code) == 3:\n",
    "            # Converti da alpha-3 a alpha-2\n",
    "            country = pycountry.countries.get(alpha_3=country_code)\n",
    "            if country:\n",
    "                country_alpha2 = country.alpha_2\n",
    "                country_continent_code = pc.country_alpha2_to_continent_code(country_alpha2)\n",
    "                continent_name = pc.convert_continent_code_to_continent_name(country_continent_code)\n",
    "                return continent_name\n",
    "            \n",
    "        # Controlla nei paesi storici di pycountry\n",
    "        historic = next((c for c in pycountry.historic_countries if c.alpha_3 == country_code), None)\n",
    "        if historic:\n",
    "            return map_historic_to_continent(historic.name)\n",
    "                \n",
    "        return None\n",
    "    except (KeyError, ValueError, AttributeError):\n",
    "        return None\n",
    "\n",
    "def get_continents_for_list(country_codes):\n",
    "    \"\"\"Gestisce una lista di sigle di paesi e restituisce un dizionario con i risultati\"\"\"\n",
    "    results = {}\n",
    "    \n",
    "    # Se l'input è una singola stringa, convertila in lista\n",
    "    if isinstance(country_codes, str):\n",
    "        country_codes = [country_codes]\n",
    "    \n",
    "    # Elabora ogni sigla nella lista\n",
    "    for code in country_codes:\n",
    "        results[code] = get_continent(code)\n",
    "    \n",
    "    return results\n",
    "\n",
    "def map_historic_to_continent(country_name):\n",
    "    \"\"\"Mappa manuale di alcuni paesi storici ai loro continenti\"\"\"\n",
    "    mappings = {\n",
    "        'USSR': 'Europe',\n",
    "        'YUGOSLAVIA': 'Europe',\n",
    "        'CZECHOSLOVAKIA': 'Europe',\n",
    "        # Aggiungi altri paesi storici secondo necessità\n",
    "    }\n",
    "    \n",
    "    for key, value in mappings.items():\n",
    "        if key in country_name.upper():\n",
    "            return value\n",
    "    \n",
    "    return None\n",
    "\n",
    "# utilizzo con lista\n",
    "all_countries = set(country for sublist in test_df['countryOfOrigin'] if isinstance(sublist, list) for country in sublist)\n",
    "continent_mapping = get_continents_for_list(all_countries)\n",
    "continent_mapping"
   ]
  },
  {
   "cell_type": "code",
   "execution_count": null,
   "metadata": {},
   "outputs": [],
   "source": [
    "def replace_country_with_continent(df, column_name, continent_mapping):\n",
    "    \"\"\"\n",
    "    Sostituisce i codici dei paesi nella colonna di un DataFrame con il loro continente corrispondente.\n",
    "    \n",
    "    :param df: DataFrame contenente la colonna da modificare\n",
    "    :param column_name: Nome della colonna con le liste di codici paese\n",
    "    :param continent_mapping: Dizionario {codice_paese: continente}\n",
    "    :return: DataFrame con la colonna modificata\n",
    "    \"\"\"\n",
    "    df[column_name] = df[column_name].apply(\n",
    "        lambda country_list: list(set(continent_mapping.get(country, 'Unknown') for country in country_list))\n",
    "    )\n",
    "    return df\n",
    "\n",
    "\n",
    "# Applicazione della funzione\n",
    "df = replace_country_with_continent(test_df, 'countryOfOrigin', get_continents_for_list(all_countries))\n",
    "\n",
    "# Stampa del risultato\n",
    "print(test_df[\"countryOfOrigin\"])\n"
   ]
  },
  {
   "cell_type": "markdown",
   "metadata": {},
   "source": [
    "crea attributi is_from_X ->onehotencoding perchè ci sono multivalori"
   ]
  },
  {
   "cell_type": "code",
   "execution_count": null,
   "metadata": {},
   "outputs": [],
   "source": [
    "# Flatten all lists and get unique genres\n",
    "all_continents = set(cont for sublist in test_df['countryOfOrigin'] if isinstance(sublist, list) for cont in sublist)\n",
    "print(all_continents)\n",
    "\n",
    "# Create a one-hot encoded column for each continent\n",
    "for genre in all_continents:\n",
    "    test_df[f\"is_from_{genre}\"] = test_df['countryOfOrigin'].apply(lambda x: 1 if genre in x else 0)\n"
   ]
  },
  {
   "cell_type": "markdown",
   "metadata": {},
   "source": [
    "## MANCANO -> nel pp_train usato in alcuni clustering non ci sono:\n",
    "- Totalmedia -> images + video (usato nel hierachical)\n",
    "- total nomination -> award win + award exclude (usato nel hierachical)\n",
    "- End year -> rimpiazza con start year, ma non per le serie? restano nan\n",
    "- fill runtime -> sarebbe da cambiare con 30-70 -> nel clustering l'abbiamo usato con mediana -> ne vale la pena?\n",
    "- can have episode convertire in 0/1? per knn e nb si, meglio averle coerenti e non qualcuna 0/1 e qualcuna True/False --> pp_class['canHaveEpisodes'] = pp_class['canHaveEpisodes'].astype(int)"
   ]
  },
  {
   "cell_type": "markdown",
   "metadata": {},
   "source": [
    "### Applicazione delle modifiche al nuovo csv"
   ]
  },
  {
   "cell_type": "markdown",
   "metadata": {},
   "source": [
    "importante che mentre fa uno l'altro sia commentato"
   ]
  },
  {
   "cell_type": "code",
   "execution_count": null,
   "metadata": {},
   "outputs": [],
   "source": [
    " #TEST\n",
    "test_df.to_csv('pp_test.csv', index=False, header=True)\n",
    "#TRAIN PP_TRAIN_COMPLETO ->\n",
    "#test_df.to_csv(\"pp_train_completo.csv\", index=False, header=True)"
   ]
  }
 ],
 "metadata": {
  "kernelspec": {
   "display_name": "Python 3",
   "language": "python",
   "name": "python3"
  },
  "language_info": {
   "codemirror_mode": {
    "name": "ipython",
    "version": 3
   },
   "file_extension": ".py",
   "mimetype": "text/x-python",
   "name": "python",
   "nbconvert_exporter": "python",
   "pygments_lexer": "ipython3",
   "version": "3.8.2"
  }
 },
 "nbformat": 4,
 "nbformat_minor": 2
}
