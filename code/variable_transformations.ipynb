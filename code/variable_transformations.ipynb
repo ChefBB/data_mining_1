{
 "cells": [
  {
   "cell_type": "markdown",
   "metadata": {},
   "source": [
    "### Nei generi non gestisce i Nan values -> nel file missing_handlings c'è la versione giusta"
   ]
  },
  {
   "cell_type": "code",
   "execution_count": 11,
   "metadata": {},
   "outputs": [],
   "source": [
    "import pandas as pd\n",
    "import numpy as np"
   ]
  },
  {
   "cell_type": "code",
   "execution_count": 12,
   "metadata": {},
   "outputs": [],
   "source": [
    "complete_df = pd.read_csv(\"complete_df.csv\")"
   ]
  },
  {
   "cell_type": "markdown",
   "metadata": {},
   "source": [
    "\"Country of origin\" values transormed from string to list"
   ]
  },
  {
   "cell_type": "code",
   "execution_count": 13,
   "metadata": {},
   "outputs": [
    {
     "name": "stdout",
     "output_type": "stream",
     "text": [
      "0        [<class 'str'>]\n",
      "1        [<class 'str'>]\n",
      "2        [<class 'str'>]\n",
      "3        [<class 'str'>]\n",
      "4        [<class 'str'>]\n",
      "              ...       \n",
      "21904    [<class 'str'>]\n",
      "21905    [<class 'str'>]\n",
      "21906    [<class 'str'>]\n",
      "21907    [<class 'str'>]\n",
      "21908    [<class 'str'>]\n",
      "Name: countryOfOrigin, Length: 21909, dtype: object\n"
     ]
    }
   ],
   "source": [
    "import ast\n",
    "\n",
    "complete_df['countryOfOrigin'] =complete_df['countryOfOrigin'].apply(ast.literal_eval)\n",
    "\n",
    "print(complete_df['countryOfOrigin'].apply(lambda x: [type(genre) for genre in x]))"
   ]
  },
  {
   "cell_type": "code",
   "execution_count": 14,
   "metadata": {},
   "outputs": [
    {
     "data": {
      "text/plain": [
       "518"
      ]
     },
     "execution_count": 14,
     "metadata": {},
     "output_type": "execute_result"
    }
   ],
   "source": [
    "#quanti hanno solo \"DE\"\n",
    "count=0\n",
    "for r in complete_df[\"countryOfOrigin\"]:\n",
    "    if len(r) == 1 and r[0]== \"DE\":\n",
    "        count +=1\n",
    "\n",
    "count\n"
   ]
  },
  {
   "cell_type": "code",
   "execution_count": 15,
   "metadata": {},
   "outputs": [
    {
     "data": {
      "text/plain": [
       "987"
      ]
     },
     "execution_count": 15,
     "metadata": {},
     "output_type": "execute_result"
    }
   ],
   "source": [
    "#quanti hanno \"DE\" tra gli elementi\n",
    "count2=0\n",
    "for r in complete_df[\"countryOfOrigin\"]:\n",
    "    for i in range(len(r)):\n",
    "        if \"DE\" in r:\n",
    "            count2 +=1\n",
    "\n",
    "count2"
   ]
  },
  {
   "cell_type": "code",
   "execution_count": 16,
   "metadata": {},
   "outputs": [
    {
     "data": {
      "text/plain": [
       "['IN']"
      ]
     },
     "execution_count": 16,
     "metadata": {},
     "output_type": "execute_result"
    }
   ],
   "source": [
    "val = complete_df.loc[9,\"countryOfOrigin\"]\n",
    "type(val)\n",
    "val"
   ]
  },
  {
   "cell_type": "markdown",
   "metadata": {},
   "source": [
    "\"Genres\" values transormed from string to list "
   ]
  },
  {
   "cell_type": "code",
   "execution_count": 17,
   "metadata": {},
   "outputs": [],
   "source": [
    "### non gestisce i Nan values -> nel file missing_handlings c'è la versione giusta"
   ]
  },
  {
   "cell_type": "code",
   "execution_count": 18,
   "metadata": {},
   "outputs": [
    {
     "name": "stdout",
     "output_type": "stream",
     "text": [
      "0        [<class 'str'>, <class 'str'>, <class 'str'>]\n",
      "1                                      [<class 'str'>]\n",
      "2                                      [<class 'str'>]\n",
      "3                                      [<class 'str'>]\n",
      "4        [<class 'str'>, <class 'str'>, <class 'str'>]\n",
      "                             ...                      \n",
      "21904                                  [<class 'str'>]\n",
      "21905    [<class 'str'>, <class 'str'>, <class 'str'>]\n",
      "21906                                  [<class 'str'>]\n",
      "21907                                  [<class 'str'>]\n",
      "21908                                  [<class 'str'>]\n",
      "Name: genres, Length: 21909, dtype: object\n"
     ]
    },
    {
     "data": {
      "text/plain": [
       "0    [Action, Adventure, Animation]\n",
       "1                          [Action]\n",
       "2                          [Comedy]\n",
       "3                      [Reality-TV]\n",
       "4          [Comedy, Drama, Romance]\n",
       "Name: genres, dtype: object"
      ]
     },
     "execution_count": 18,
     "metadata": {},
     "output_type": "execute_result"
    }
   ],
   "source": [
    "\n",
    "complete_df[\"genres\"] = complete_df[\"genres\"].str.split(',')\n",
    "\n",
    "print(complete_df['genres'].apply(lambda x: [type(genre) for genre in x]))\n",
    "complete_df[\"genres\"].head()\n",
    "\n"
   ]
  },
  {
   "cell_type": "code",
   "execution_count": 19,
   "metadata": {},
   "outputs": [
    {
     "data": {
      "text/plain": [
       "['Comedy', 'Drama', 'Romance']"
      ]
     },
     "execution_count": 19,
     "metadata": {},
     "output_type": "execute_result"
    }
   ],
   "source": [
    "val = complete_df.loc[4,\"genres\"]\n",
    "type(val)\n",
    "val"
   ]
  },
  {
   "cell_type": "code",
   "execution_count": 20,
   "metadata": {},
   "outputs": [
    {
     "data": {
      "text/plain": [
       "1802"
      ]
     },
     "execution_count": 20,
     "metadata": {},
     "output_type": "execute_result"
    }
   ],
   "source": [
    "\n",
    "count=0\n",
    "for r in complete_df[\"genres\"]:\n",
    "    if len(r) == 1 and r[0]== \"Comedy\":\n",
    "        count +=1\n",
    "\n",
    "count"
   ]
  },
  {
   "cell_type": "code",
   "execution_count": 21,
   "metadata": {},
   "outputs": [
    {
     "data": {
      "text/plain": [
       "13616"
      ]
     },
     "execution_count": 21,
     "metadata": {},
     "output_type": "execute_result"
    }
   ],
   "source": [
    "count2=0\n",
    "for r in complete_df[\"genres\"]:\n",
    "    for i in range(len(r)):\n",
    "        if \"Comedy\" in r:\n",
    "            count2 +=1\n",
    "\n",
    "count2"
   ]
  }
 ],
 "metadata": {
  "kernelspec": {
   "display_name": "Python 3",
   "language": "python",
   "name": "python3"
  },
  "language_info": {
   "codemirror_mode": {
    "name": "ipython",
    "version": 3
   },
   "file_extension": ".py",
   "mimetype": "text/x-python",
   "name": "python",
   "nbconvert_exporter": "python",
   "pygments_lexer": "ipython3",
   "version": "3.8.2"
  }
 },
 "nbformat": 4,
 "nbformat_minor": 2
}
