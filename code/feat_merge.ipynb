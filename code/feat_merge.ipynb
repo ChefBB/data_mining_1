{
 "cells": [
  {
   "cell_type": "code",
   "execution_count": 1,
   "id": "57161202",
   "metadata": {},
   "outputs": [],
   "source": [
    "from support.df_init import init\n",
    "\n",
    "train = init()\n",
    "test = init('pp_test.csv')"
   ]
  },
  {
   "cell_type": "code",
   "execution_count": 2,
   "id": "935dcde0",
   "metadata": {},
   "outputs": [],
   "source": [
    "# train['totalNominations'] = train['awardNominationsExcludeWins'] + train['awardWins']\n",
    "# test['totalNominations'] = test['awardNominationsExcludeWins'] + test['awardWins']\n",
    "\n",
    "# train['totalMedia'] = train['totalImages'] + train['totalVideos']\n",
    "# test['totalMedia'] = test['totalImages'] + test['totalVideos']"
   ]
  },
  {
   "cell_type": "code",
   "execution_count": 3,
   "id": "959fe025",
   "metadata": {},
   "outputs": [],
   "source": [
    "# train['titleType'] .unique()"
   ]
  },
  {
   "cell_type": "code",
   "execution_count": 4,
   "id": "6757f662",
   "metadata": {},
   "outputs": [],
   "source": [
    "# train = train.loc[train['titleType'] != 'videoGame']\n",
    "# test = test.loc[test['titleType'] != 'videoGame']\n",
    "\n",
    "# train, test"
   ]
  },
  {
   "cell_type": "code",
   "execution_count": 5,
   "id": "f2243c17",
   "metadata": {},
   "outputs": [],
   "source": [
    "# train.to_csv('pp_train.csv', index=False)\n",
    "# test.to_csv('pp_test.csv', index=False)"
   ]
  },
  {
   "cell_type": "code",
   "execution_count": 6,
   "id": "fee48db3",
   "metadata": {},
   "outputs": [],
   "source": [
    "# train.columns"
   ]
  },
  {
   "cell_type": "code",
   "execution_count": 7,
   "id": "013ec548",
   "metadata": {},
   "outputs": [
    {
     "data": {
      "text/plain": [
       "(Index(['originalTitle', 'rating', 'startYear', 'endYear', 'runtimeMinutes',\n",
       "        'awardWins', 'numVotes', 'totalImages', 'totalVideos', 'totalCredits',\n",
       "        'criticReviewsTotal', 'titleType', 'awardNominationsExcludeWins',\n",
       "        'canHaveEpisodes', 'isAdult', 'numRegions', 'userReviewsTotal',\n",
       "        'is_Documentary', 'is_History', 'is_Adventure', 'is_Thriller',\n",
       "        'is_Game-Show', 'is_Comedy', 'is_Sci-Fi', 'is_Romance', 'is_Biography',\n",
       "        'is_Musical', 'is_Western', 'is_Music', 'is_Film-Noir', 'is_Adult',\n",
       "        'is_Reality-TV', 'is_News', 'is_Action', 'is_Crime', 'is_Short',\n",
       "        'is_Fantasy', 'is_Family', 'is_Mystery', 'is_Talk-Show', 'is_Drama',\n",
       "        'is_Sport', 'is_War', 'is_Horror', 'is_Animation',\n",
       "        'fill_runtimeMinutes', 'is_from_Oceania', 'is_from_North America',\n",
       "        'is_from_South America', 'is_from_Asia', 'is_from_Africa',\n",
       "        'is_from_Europe', 'countryOfOrigin', 'countryOfOrigin_freq_enc',\n",
       "        'countryOfOrigin_NA', 'countryOfOrigin_AF', 'countryOfOrigin_AS',\n",
       "        'countryOfOrigin_EU', 'countryOfOrigin_OC', 'countryOfOrigin_SA',\n",
       "        'countryOfOrigin_UNK', 'fill_runtimeMinutes_Bruno', 'totalNominations',\n",
       "        'totalMedia', 'runtimeMinutes_notitletype'],\n",
       "       dtype='object'),\n",
       " Index(['originalTitle', 'rating', 'startYear', 'endYear', 'runtimeMinutes',\n",
       "        'awardWins', 'numVotes', 'totalImages', 'totalVideos', 'totalCredits',\n",
       "        'criticReviewsTotal', 'titleType', 'awardNominationsExcludeWins',\n",
       "        'canHaveEpisodes', 'isAdult', 'numRegions', 'userReviewsTotal',\n",
       "        'is_Western', 'is_Thriller', 'is_Horror', 'is_Animation', 'is_Family',\n",
       "        'is_News', 'is_Sport', 'is_Reality-TV', 'is_Biography', 'is_Sci-Fi',\n",
       "        'is_Fantasy', 'is_Documentary', 'is_Talk-Show', 'is_Drama', 'is_Music',\n",
       "        'is_Game-Show', 'is_Adventure', 'is_Romance', 'is_Mystery', 'is_Short',\n",
       "        'is_Action', 'is_Adult', 'is_History', 'is_Musical', 'is_Crime',\n",
       "        'is_Film-Noir', 'is_War', 'is_Comedy', 'fill_runtimeMinutes',\n",
       "        'is_from_South America', 'is_from_Oceania', 'is_from_Europe',\n",
       "        'is_from_Asia', 'is_from_Africa', 'is_from_North America',\n",
       "        'countryOfOrigin', 'countryOfOrigin_freq_enc', 'countryOfOrigin_NA',\n",
       "        'countryOfOrigin_AF', 'countryOfOrigin_AS', 'countryOfOrigin_EU',\n",
       "        'countryOfOrigin_OC', 'countryOfOrigin_SA', 'countryOfOrigin_UNK',\n",
       "        'fill_runtimeMinutes_Bruno', 'totalNominations', 'totalMedia',\n",
       "        'runtimeMinutes_notitletype'],\n",
       "       dtype='object'))"
      ]
     },
     "execution_count": 7,
     "metadata": {},
     "output_type": "execute_result"
    }
   ],
   "source": [
    "from support.imputation import impute_data_wout_title_type\n",
    "\n",
    "train, test = impute_data_wout_title_type(train, test)\n",
    "\n",
    "train.columns, test.columns"
   ]
  },
  {
   "cell_type": "code",
   "execution_count": 8,
   "id": "20d1d8ff",
   "metadata": {},
   "outputs": [
    {
     "data": {
      "text/html": [
       "<div>\n",
       "<style scoped>\n",
       "    .dataframe tbody tr th:only-of-type {\n",
       "        vertical-align: middle;\n",
       "    }\n",
       "\n",
       "    .dataframe tbody tr th {\n",
       "        vertical-align: top;\n",
       "    }\n",
       "\n",
       "    .dataframe thead th {\n",
       "        text-align: right;\n",
       "    }\n",
       "</style>\n",
       "<table border=\"1\" class=\"dataframe\">\n",
       "  <thead>\n",
       "    <tr style=\"text-align: right;\">\n",
       "      <th></th>\n",
       "      <th>originalTitle</th>\n",
       "      <th>rating</th>\n",
       "      <th>startYear</th>\n",
       "      <th>endYear</th>\n",
       "      <th>runtimeMinutes</th>\n",
       "      <th>awardWins</th>\n",
       "      <th>numVotes</th>\n",
       "      <th>totalImages</th>\n",
       "      <th>totalVideos</th>\n",
       "      <th>totalCredits</th>\n",
       "      <th>...</th>\n",
       "      <th>countryOfOrigin_AF</th>\n",
       "      <th>countryOfOrigin_AS</th>\n",
       "      <th>countryOfOrigin_EU</th>\n",
       "      <th>countryOfOrigin_OC</th>\n",
       "      <th>countryOfOrigin_SA</th>\n",
       "      <th>countryOfOrigin_UNK</th>\n",
       "      <th>fill_runtimeMinutes_Bruno</th>\n",
       "      <th>totalNominations</th>\n",
       "      <th>totalMedia</th>\n",
       "      <th>runtimeMinutes_notitletype</th>\n",
       "    </tr>\n",
       "  </thead>\n",
       "  <tbody>\n",
       "  </tbody>\n",
       "</table>\n",
       "<p>0 rows × 65 columns</p>\n",
       "</div>"
      ],
      "text/plain": [
       "Empty DataFrame\n",
       "Columns: [originalTitle, rating, startYear, endYear, runtimeMinutes, awardWins, numVotes, totalImages, totalVideos, totalCredits, criticReviewsTotal, titleType, awardNominationsExcludeWins, canHaveEpisodes, isAdult, numRegions, userReviewsTotal, is_Documentary, is_History, is_Adventure, is_Thriller, is_Game-Show, is_Comedy, is_Sci-Fi, is_Romance, is_Biography, is_Musical, is_Western, is_Music, is_Film-Noir, is_Adult, is_Reality-TV, is_News, is_Action, is_Crime, is_Short, is_Fantasy, is_Family, is_Mystery, is_Talk-Show, is_Drama, is_Sport, is_War, is_Horror, is_Animation, fill_runtimeMinutes, is_from_Oceania, is_from_North America, is_from_South America, is_from_Asia, is_from_Africa, is_from_Europe, countryOfOrigin, countryOfOrigin_freq_enc, countryOfOrigin_NA, countryOfOrigin_AF, countryOfOrigin_AS, countryOfOrigin_EU, countryOfOrigin_OC, countryOfOrigin_SA, countryOfOrigin_UNK, fill_runtimeMinutes_Bruno, totalNominations, totalMedia, runtimeMinutes_notitletype]\n",
       "Index: []\n",
       "\n",
       "[0 rows x 65 columns]"
      ]
     },
     "execution_count": 8,
     "metadata": {},
     "output_type": "execute_result"
    }
   ],
   "source": [
    "train[train['runtimeMinutes_notitletype'].isna()]"
   ]
  },
  {
   "cell_type": "code",
   "execution_count": 9,
   "id": "ea61ecae",
   "metadata": {},
   "outputs": [
    {
     "data": {
      "text/html": [
       "<div>\n",
       "<style scoped>\n",
       "    .dataframe tbody tr th:only-of-type {\n",
       "        vertical-align: middle;\n",
       "    }\n",
       "\n",
       "    .dataframe tbody tr th {\n",
       "        vertical-align: top;\n",
       "    }\n",
       "\n",
       "    .dataframe thead th {\n",
       "        text-align: right;\n",
       "    }\n",
       "</style>\n",
       "<table border=\"1\" class=\"dataframe\">\n",
       "  <thead>\n",
       "    <tr style=\"text-align: right;\">\n",
       "      <th></th>\n",
       "      <th>originalTitle</th>\n",
       "      <th>rating</th>\n",
       "      <th>startYear</th>\n",
       "      <th>endYear</th>\n",
       "      <th>runtimeMinutes</th>\n",
       "      <th>awardWins</th>\n",
       "      <th>numVotes</th>\n",
       "      <th>totalImages</th>\n",
       "      <th>totalVideos</th>\n",
       "      <th>totalCredits</th>\n",
       "      <th>...</th>\n",
       "      <th>countryOfOrigin_AF</th>\n",
       "      <th>countryOfOrigin_AS</th>\n",
       "      <th>countryOfOrigin_EU</th>\n",
       "      <th>countryOfOrigin_OC</th>\n",
       "      <th>countryOfOrigin_SA</th>\n",
       "      <th>countryOfOrigin_UNK</th>\n",
       "      <th>fill_runtimeMinutes_Bruno</th>\n",
       "      <th>totalNominations</th>\n",
       "      <th>totalMedia</th>\n",
       "      <th>runtimeMinutes_notitletype</th>\n",
       "    </tr>\n",
       "  </thead>\n",
       "  <tbody>\n",
       "  </tbody>\n",
       "</table>\n",
       "<p>0 rows × 65 columns</p>\n",
       "</div>"
      ],
      "text/plain": [
       "Empty DataFrame\n",
       "Columns: [originalTitle, rating, startYear, endYear, runtimeMinutes, awardWins, numVotes, totalImages, totalVideos, totalCredits, criticReviewsTotal, titleType, awardNominationsExcludeWins, canHaveEpisodes, isAdult, numRegions, userReviewsTotal, is_Western, is_Thriller, is_Horror, is_Animation, is_Family, is_News, is_Sport, is_Reality-TV, is_Biography, is_Sci-Fi, is_Fantasy, is_Documentary, is_Talk-Show, is_Drama, is_Music, is_Game-Show, is_Adventure, is_Romance, is_Mystery, is_Short, is_Action, is_Adult, is_History, is_Musical, is_Crime, is_Film-Noir, is_War, is_Comedy, fill_runtimeMinutes, is_from_South America, is_from_Oceania, is_from_Europe, is_from_Asia, is_from_Africa, is_from_North America, countryOfOrigin, countryOfOrigin_freq_enc, countryOfOrigin_NA, countryOfOrigin_AF, countryOfOrigin_AS, countryOfOrigin_EU, countryOfOrigin_OC, countryOfOrigin_SA, countryOfOrigin_UNK, fill_runtimeMinutes_Bruno, totalNominations, totalMedia, runtimeMinutes_notitletype]\n",
       "Index: []\n",
       "\n",
       "[0 rows x 65 columns]"
      ]
     },
     "execution_count": 9,
     "metadata": {},
     "output_type": "execute_result"
    }
   ],
   "source": [
    "test[test['runtimeMinutes_notitletype'].isna()]"
   ]
  },
  {
   "cell_type": "code",
   "execution_count": 10,
   "id": "b5967770",
   "metadata": {},
   "outputs": [],
   "source": [
    "train.to_csv('pp_train.csv', index=False)\n",
    "test.to_csv('pp_test.csv', index=False)"
   ]
  },
  {
   "cell_type": "code",
   "execution_count": null,
   "id": "2adce24f",
   "metadata": {},
   "outputs": [],
   "source": []
  }
 ],
 "metadata": {
  "kernelspec": {
   "display_name": "Python 3",
   "language": "python",
   "name": "python3"
  },
  "language_info": {
   "codemirror_mode": {
    "name": "ipython",
    "version": 3
   },
   "file_extension": ".py",
   "mimetype": "text/x-python",
   "name": "python",
   "nbconvert_exporter": "python",
   "pygments_lexer": "ipython3",
   "version": "3.11.1"
  }
 },
 "nbformat": 4,
 "nbformat_minor": 5
}
