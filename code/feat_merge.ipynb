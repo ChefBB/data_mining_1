{
 "cells": [
  {
   "cell_type": "code",
   "execution_count": 1,
   "id": "57161202",
   "metadata": {},
   "outputs": [],
   "source": [
    "from support.df_init import init\n",
    "\n",
    "train = init()\n",
    "test = init('pp_test.csv')"
   ]
  },
  {
   "cell_type": "code",
   "execution_count": 2,
   "id": "935dcde0",
   "metadata": {},
   "outputs": [],
   "source": [
    "train['totalNominations'] = train['awardNominationsExcludeWins'] + train['awardWins']\n",
    "test['totalNominations'] = test['awardNominationsExcludeWins'] + test['awardWins']\n",
    "\n",
    "train['totalMedia'] = train['totalImages'] + train['totalVideos']\n",
    "test['totalMedia'] = test['totalImages'] + test['totalVideos']"
   ]
  },
  {
   "cell_type": "code",
   "execution_count": 3,
   "id": "959fe025",
   "metadata": {},
   "outputs": [
    {
     "data": {
      "text/plain": [
       "array(['tvEpisode', 'movie', 'tvSeries', 'video', 'tvMiniSeries', 'short',\n",
       "       'tvMovie', 'tvSpecial', 'tvShort'], dtype=object)"
      ]
     },
     "execution_count": 3,
     "metadata": {},
     "output_type": "execute_result"
    }
   ],
   "source": [
    "train['titleType'] .unique()"
   ]
  },
  {
   "cell_type": "code",
   "execution_count": 4,
   "id": "6757f662",
   "metadata": {},
   "outputs": [
    {
     "data": {
      "text/plain": [
       "(                                 originalTitle  rating  startYear  endYear  \\\n",
       " 0      Neogenic Nightmare Chapter 3: Hydro-Man       8       1995   1995.0   \n",
       " 1                               Idealnaya para       6       1992   1992.0   \n",
       " 2                  MasterChef Celebrity México       6       2021      NaN   \n",
       " 3                                  Seutateueob       8       2020   2020.0   \n",
       " 4                                   Lightdance       9       1995   1995.0   \n",
       " ...                                        ...     ...        ...      ...   \n",
       " 16167                                 Caprices       6       1942   1942.0   \n",
       " 16168                                Haar Jeet       5       1990   1990.0   \n",
       " 16169                              Kotigobba 3       6       2021   2021.0   \n",
       " 16170                       Ator l'invincibile       4       1982   1982.0   \n",
       " 16171                        Anniversary Night      10       2022   2022.0   \n",
       " \n",
       "        runtimeMinutes  awardWins  numVotes  totalImages  totalVideos  \\\n",
       " 0                 NaN        0.0       779            1            0   \n",
       " 1                 NaN        0.0        38            1            0   \n",
       " 2                 NaN        0.0        15           22            0   \n",
       " 3                80.0        1.0     15718          347            2   \n",
       " 4                34.0        0.0        14            1            0   \n",
       " ...               ...        ...       ...          ...          ...   \n",
       " 16167             NaN        0.0        73            4            0   \n",
       " 16168             NaN        0.0        15            2            0   \n",
       " 16169           140.0        0.0      2560           39            3   \n",
       " 16170             NaN        0.0      3011           52            1   \n",
       " 16171             NaN        0.0         9            7            0   \n",
       " \n",
       "        totalCredits  ...  countryOfOrigin_NA countryOfOrigin_AF  \\\n",
       " 0                21  ...                   1                  0   \n",
       " 1                24  ...                   0                  0   \n",
       " 2                56  ...                   1                  0   \n",
       " 3                47  ...                   0                  0   \n",
       " 4                 0  ...                   1                  0   \n",
       " ...             ...  ...                 ...                ...   \n",
       " 16167            45  ...                   0                  0   \n",
       " 16168            22  ...                   0                  0   \n",
       " 16169           129  ...                   0                  0   \n",
       " 16170            53  ...                   0                  0   \n",
       " 16171            19  ...                   0                  0   \n",
       " \n",
       "        countryOfOrigin_AS  countryOfOrigin_EU  countryOfOrigin_OC  \\\n",
       " 0                       0                   0                   0   \n",
       " 1                       0                   1                   0   \n",
       " 2                       0                   0                   0   \n",
       " 3                       1                   0                   0   \n",
       " 4                       0                   0                   0   \n",
       " ...                   ...                 ...                 ...   \n",
       " 16167                   0                   1                   0   \n",
       " 16168                   1                   0                   0   \n",
       " 16169                   1                   0                   0   \n",
       " 16170                   0                   1                   0   \n",
       " 16171                   1                   0                   0   \n",
       " \n",
       "        countryOfOrigin_SA  countryOfOrigin_UNK  fill_runtimeMinutes_Bruno  \\\n",
       " 0                       0                    0                       29.0   \n",
       " 1                       0                    0                       94.0   \n",
       " 2                       0                    0                       30.0   \n",
       " 3                       0                    0                       80.0   \n",
       " 4                       0                    0                       34.0   \n",
       " ...                   ...                  ...                        ...   \n",
       " 16167                   0                    0                       85.0   \n",
       " 16168                   0                    0                       86.0   \n",
       " 16169                   0                    0                      140.0   \n",
       " 16170                   0                    0                       94.0   \n",
       " 16171                   0                    0                        9.0   \n",
       " \n",
       "        totalNominations  totalMedia  \n",
       " 0                   0.0           1  \n",
       " 1                   0.0           1  \n",
       " 2                   0.0          22  \n",
       " 3                   2.0         349  \n",
       " 4                   0.0           1  \n",
       " ...                 ...         ...  \n",
       " 16167               0.0           4  \n",
       " 16168               0.0           2  \n",
       " 16169               5.0          42  \n",
       " 16170               0.0          53  \n",
       " 16171               0.0           7  \n",
       " \n",
       " [16172 rows x 64 columns],\n",
       "                                           originalTitle  rating  startYear  \\\n",
       " 0     Geologist of Animal Collective Performs Live a...      10       2015   \n",
       " 1                                         Shan gou 1999       5       1999   \n",
       " 2       The Craftsman: Preserving the Last Higgins Boat       9       2023   \n",
       " 3                                       Week 3: Tuesday       7       2020   \n",
       " 4                                             Traumhaus       6       1999   \n",
       " ...                                                 ...     ...        ...   \n",
       " 5379                             Parasiz yasamak pahali       8       1994   \n",
       " 5380                                 Wedding Bell Blues       7       1994   \n",
       " 5381                    O anthropos pou to 'paize poly!       4       1983   \n",
       " 5382                             Above Average Presents       7       2012   \n",
       " 5383                     Omae wa mada Gunma wo shiranai       5       2017   \n",
       " \n",
       "       endYear  runtimeMinutes  awardWins  numVotes  totalImages  totalVideos  \\\n",
       " 0      2015.0            21.0        0.0        15            7            2   \n",
       " 1      1999.0             NaN        0.0       304           10            0   \n",
       " 2      2023.0             NaN        0.0        10            2            0   \n",
       " 3      2020.0             NaN        0.0        11            0            0   \n",
       " 4      1999.0            90.0        0.0       145            2            0   \n",
       " ...       ...             ...        ...       ...          ...          ...   \n",
       " 5379   1994.0           141.0        0.0        45            1            0   \n",
       " 5380   1994.0            22.0        0.0        19           17            0   \n",
       " 5381   1983.0            85.0        0.0        14            1            0   \n",
       " 5382      NaN             NaN        0.0       111           56            0   \n",
       " 5383   2017.0            30.0        0.0        11            1            0   \n",
       " \n",
       "       totalCredits  ...  countryOfOrigin_NA countryOfOrigin_AF  \\\n",
       " 0               11  ...                   1                  0   \n",
       " 1               40  ...                   0                  0   \n",
       " 2                6  ...                   1                  0   \n",
       " 3               52  ...                   0                  0   \n",
       " 4               44  ...                   0                  0   \n",
       " ...            ...  ...                 ...                ...   \n",
       " 5379            12  ...                   0                  0   \n",
       " 5380            35  ...                   1                  0   \n",
       " 5381            30  ...                   0                  0   \n",
       " 5382           992  ...                   1                  0   \n",
       " 5383            17  ...                   0                  0   \n",
       " \n",
       "       countryOfOrigin_AS  countryOfOrigin_EU  countryOfOrigin_OC  \\\n",
       " 0                      0                   0                   0   \n",
       " 1                      1                   0                   0   \n",
       " 2                      0                   0                   0   \n",
       " 3                      0                   1                   0   \n",
       " 4                      0                   1                   0   \n",
       " ...                  ...                 ...                 ...   \n",
       " 5379                   1                   0                   0   \n",
       " 5380                   0                   0                   0   \n",
       " 5381                   0                   1                   0   \n",
       " 5382                   0                   0                   0   \n",
       " 5383                   1                   0                   0   \n",
       " \n",
       "       countryOfOrigin_SA  countryOfOrigin_UNK  fill_runtimeMinutes_Bruno  \\\n",
       " 0                      0                    0                       21.0   \n",
       " 1                      0                    0                      100.0   \n",
       " 2                      0                    0                       68.0   \n",
       " 3                      0                    0                       30.0   \n",
       " 4                      0                    0                       90.0   \n",
       " ...                  ...                  ...                        ...   \n",
       " 5379                   0                    0                      141.0   \n",
       " 5380                   0                    0                       22.0   \n",
       " 5381                   0                    0                       85.0   \n",
       " 5382                   0                    0                       30.0   \n",
       " 5383                   0                    0                       30.0   \n",
       " \n",
       "       totalNominations  totalMedia  \n",
       " 0                  0.0           9  \n",
       " 1                  0.0          10  \n",
       " 2                  0.0           2  \n",
       " 3                  0.0           0  \n",
       " 4                  0.0           2  \n",
       " ...                ...         ...  \n",
       " 5379               0.0           1  \n",
       " 5380               0.0          17  \n",
       " 5381               0.0           1  \n",
       " 5382               0.0          56  \n",
       " 5383               0.0           1  \n",
       " \n",
       " [5384 rows x 64 columns])"
      ]
     },
     "execution_count": 4,
     "metadata": {},
     "output_type": "execute_result"
    }
   ],
   "source": [
    "train = train.loc[train['titleType'] != 'videoGame']\n",
    "test = test.loc[test['titleType'] != 'videoGame']\n",
    "\n",
    "train, test"
   ]
  },
  {
   "cell_type": "code",
   "execution_count": null,
   "id": "f2243c17",
   "metadata": {},
   "outputs": [],
   "source": [
    "# train.to_csv('pp_train.csv', index=False)\n",
    "# test.to_csv('pp_test.csv', index=False)"
   ]
  },
  {
   "cell_type": "code",
   "execution_count": 6,
   "id": "fee48db3",
   "metadata": {},
   "outputs": [
    {
     "data": {
      "text/plain": [
       "Index(['originalTitle', 'rating', 'startYear', 'endYear', 'runtimeMinutes',\n",
       "       'awardWins', 'numVotes', 'totalImages', 'totalVideos', 'totalCredits',\n",
       "       'criticReviewsTotal', 'titleType', 'awardNominationsExcludeWins',\n",
       "       'canHaveEpisodes', 'isAdult', 'numRegions', 'userReviewsTotal',\n",
       "       'is_Documentary', 'is_History', 'is_Adventure', 'is_Thriller',\n",
       "       'is_Game-Show', 'is_Comedy', 'is_Sci-Fi', 'is_Romance', 'is_Biography',\n",
       "       'is_Musical', 'is_Western', 'is_Music', 'is_Film-Noir', 'is_Adult',\n",
       "       'is_Reality-TV', 'is_News', 'is_Action', 'is_Crime', 'is_Short',\n",
       "       'is_Fantasy', 'is_Family', 'is_Mystery', 'is_Talk-Show', 'is_Drama',\n",
       "       'is_Sport', 'is_War', 'is_Horror', 'is_Animation',\n",
       "       'fill_runtimeMinutes', 'is_from_Oceania', 'is_from_North America',\n",
       "       'is_from_South America', 'is_from_Asia', 'is_from_Africa',\n",
       "       'is_from_Europe', 'countryOfOrigin', 'countryOfOrigin_freq_enc',\n",
       "       'countryOfOrigin_NA', 'countryOfOrigin_AF', 'countryOfOrigin_AS',\n",
       "       'countryOfOrigin_EU', 'countryOfOrigin_OC', 'countryOfOrigin_SA',\n",
       "       'countryOfOrigin_UNK', 'fill_runtimeMinutes_Bruno', 'totalNominations',\n",
       "       'totalMedia'],\n",
       "      dtype='object')"
      ]
     },
     "execution_count": 6,
     "metadata": {},
     "output_type": "execute_result"
    }
   ],
   "source": [
    "train.columns"
   ]
  },
  {
   "cell_type": "code",
   "execution_count": 7,
   "id": "013ec548",
   "metadata": {},
   "outputs": [
    {
     "data": {
      "text/plain": [
       "(Index(['originalTitle', 'rating', 'startYear', 'endYear', 'runtimeMinutes',\n",
       "        'awardWins', 'numVotes', 'totalImages', 'totalVideos', 'totalCredits',\n",
       "        'criticReviewsTotal', 'titleType', 'awardNominationsExcludeWins',\n",
       "        'canHaveEpisodes', 'isAdult', 'numRegions', 'userReviewsTotal',\n",
       "        'is_Documentary', 'is_History', 'is_Adventure', 'is_Thriller',\n",
       "        'is_Game-Show', 'is_Comedy', 'is_Sci-Fi', 'is_Romance', 'is_Biography',\n",
       "        'is_Musical', 'is_Western', 'is_Music', 'is_Film-Noir', 'is_Adult',\n",
       "        'is_Reality-TV', 'is_News', 'is_Action', 'is_Crime', 'is_Short',\n",
       "        'is_Fantasy', 'is_Family', 'is_Mystery', 'is_Talk-Show', 'is_Drama',\n",
       "        'is_Sport', 'is_War', 'is_Horror', 'is_Animation',\n",
       "        'fill_runtimeMinutes', 'is_from_Oceania', 'is_from_North America',\n",
       "        'is_from_South America', 'is_from_Asia', 'is_from_Africa',\n",
       "        'is_from_Europe', 'countryOfOrigin', 'countryOfOrigin_freq_enc',\n",
       "        'countryOfOrigin_NA', 'countryOfOrigin_AF', 'countryOfOrigin_AS',\n",
       "        'countryOfOrigin_EU', 'countryOfOrigin_OC', 'countryOfOrigin_SA',\n",
       "        'countryOfOrigin_UNK', 'fill_runtimeMinutes_Bruno', 'totalNominations',\n",
       "        'totalMedia', 'runtimeMinutes_notitletype'],\n",
       "       dtype='object'),\n",
       " Index(['originalTitle', 'rating', 'startYear', 'endYear', 'runtimeMinutes',\n",
       "        'awardWins', 'numVotes', 'totalImages', 'totalVideos', 'totalCredits',\n",
       "        'criticReviewsTotal', 'titleType', 'awardNominationsExcludeWins',\n",
       "        'canHaveEpisodes', 'isAdult', 'numRegions', 'userReviewsTotal',\n",
       "        'is_Western', 'is_Thriller', 'is_Horror', 'is_Animation', 'is_Family',\n",
       "        'is_News', 'is_Sport', 'is_Reality-TV', 'is_Biography', 'is_Sci-Fi',\n",
       "        'is_Fantasy', 'is_Documentary', 'is_Talk-Show', 'is_Drama', 'is_Music',\n",
       "        'is_Game-Show', 'is_Adventure', 'is_Romance', 'is_Mystery', 'is_Short',\n",
       "        'is_Action', 'is_Adult', 'is_History', 'is_Musical', 'is_Crime',\n",
       "        'is_Film-Noir', 'is_War', 'is_Comedy', 'fill_runtimeMinutes',\n",
       "        'is_from_South America', 'is_from_Oceania', 'is_from_Europe',\n",
       "        'is_from_Asia', 'is_from_Africa', 'is_from_North America',\n",
       "        'countryOfOrigin', 'countryOfOrigin_freq_enc', 'countryOfOrigin_NA',\n",
       "        'countryOfOrigin_AF', 'countryOfOrigin_AS', 'countryOfOrigin_EU',\n",
       "        'countryOfOrigin_OC', 'countryOfOrigin_SA', 'countryOfOrigin_UNK',\n",
       "        'fill_runtimeMinutes_Bruno', 'totalNominations', 'totalMedia',\n",
       "        'runtimeMinutes_notitletype'],\n",
       "       dtype='object'))"
      ]
     },
     "execution_count": 7,
     "metadata": {},
     "output_type": "execute_result"
    }
   ],
   "source": [
    "from support.imputation import impute_data_wout_title_type\n",
    "\n",
    "train, test = impute_data_wout_title_type(train, test)\n",
    "\n",
    "train.columns, test.columns"
   ]
  },
  {
   "cell_type": "code",
   "execution_count": null,
   "id": "20d1d8ff",
   "metadata": {},
   "outputs": [],
   "source": []
  }
 ],
 "metadata": {
  "kernelspec": {
   "display_name": "Python 3",
   "language": "python",
   "name": "python3"
  },
  "language_info": {
   "codemirror_mode": {
    "name": "ipython",
    "version": 3
   },
   "file_extension": ".py",
   "mimetype": "text/x-python",
   "name": "python",
   "nbconvert_exporter": "python",
   "pygments_lexer": "ipython3",
   "version": "3.11.1"
  }
 },
 "nbformat": 4,
 "nbformat_minor": 5
}
