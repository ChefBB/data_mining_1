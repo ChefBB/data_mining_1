{
 "cells": [
  {
   "cell_type": "code",
   "execution_count": 1,
   "metadata": {},
   "outputs": [
    {
     "data": {
      "text/html": [
       "<div>\n",
       "<style scoped>\n",
       "    .dataframe tbody tr th:only-of-type {\n",
       "        vertical-align: middle;\n",
       "    }\n",
       "\n",
       "    .dataframe tbody tr th {\n",
       "        vertical-align: top;\n",
       "    }\n",
       "\n",
       "    .dataframe thead th {\n",
       "        text-align: right;\n",
       "    }\n",
       "</style>\n",
       "<table border=\"1\" class=\"dataframe\">\n",
       "  <thead>\n",
       "    <tr style=\"text-align: right;\">\n",
       "      <th></th>\n",
       "      <th>originalTitle</th>\n",
       "      <th>rating</th>\n",
       "      <th>startYear</th>\n",
       "      <th>endYear</th>\n",
       "      <th>runtimeMinutes</th>\n",
       "      <th>awardWins</th>\n",
       "      <th>numVotes</th>\n",
       "      <th>worstRating</th>\n",
       "      <th>bestRating</th>\n",
       "      <th>totalImages</th>\n",
       "      <th>...</th>\n",
       "      <th>titleType</th>\n",
       "      <th>awardNominationsExcludeWins</th>\n",
       "      <th>canHaveEpisodes</th>\n",
       "      <th>isRatable</th>\n",
       "      <th>isAdult</th>\n",
       "      <th>numRegions</th>\n",
       "      <th>userReviewsTotal</th>\n",
       "      <th>ratingCount</th>\n",
       "      <th>countryOfOrigin</th>\n",
       "      <th>genres</th>\n",
       "    </tr>\n",
       "  </thead>\n",
       "  <tbody>\n",
       "    <tr>\n",
       "      <th>0</th>\n",
       "      <td>Neogenic Nightmare Chapter 3: Hydro-Man</td>\n",
       "      <td>(7, 8]</td>\n",
       "      <td>1995</td>\n",
       "      <td>\\N</td>\n",
       "      <td>\\N</td>\n",
       "      <td>0.0</td>\n",
       "      <td>779</td>\n",
       "      <td>1</td>\n",
       "      <td>10</td>\n",
       "      <td>1</td>\n",
       "      <td>...</td>\n",
       "      <td>tvEpisode</td>\n",
       "      <td>0</td>\n",
       "      <td>False</td>\n",
       "      <td>True</td>\n",
       "      <td>0</td>\n",
       "      <td>1</td>\n",
       "      <td>0</td>\n",
       "      <td>781</td>\n",
       "      <td>['US']</td>\n",
       "      <td>Action,Adventure,Animation</td>\n",
       "    </tr>\n",
       "    <tr>\n",
       "      <th>1</th>\n",
       "      <td>Looping</td>\n",
       "      <td>(5, 6]</td>\n",
       "      <td>1982</td>\n",
       "      <td>\\N</td>\n",
       "      <td>\\N</td>\n",
       "      <td>0.0</td>\n",
       "      <td>11</td>\n",
       "      <td>1</td>\n",
       "      <td>10</td>\n",
       "      <td>1</td>\n",
       "      <td>...</td>\n",
       "      <td>videoGame</td>\n",
       "      <td>0</td>\n",
       "      <td>False</td>\n",
       "      <td>True</td>\n",
       "      <td>0</td>\n",
       "      <td>1</td>\n",
       "      <td>0</td>\n",
       "      <td>11</td>\n",
       "      <td>['XWG']</td>\n",
       "      <td>Action</td>\n",
       "    </tr>\n",
       "    <tr>\n",
       "      <th>2</th>\n",
       "      <td>Idealnaya para</td>\n",
       "      <td>(5, 6]</td>\n",
       "      <td>1992</td>\n",
       "      <td>\\N</td>\n",
       "      <td>\\N</td>\n",
       "      <td>0.0</td>\n",
       "      <td>38</td>\n",
       "      <td>1</td>\n",
       "      <td>10</td>\n",
       "      <td>1</td>\n",
       "      <td>...</td>\n",
       "      <td>movie</td>\n",
       "      <td>0</td>\n",
       "      <td>False</td>\n",
       "      <td>True</td>\n",
       "      <td>0</td>\n",
       "      <td>1</td>\n",
       "      <td>1</td>\n",
       "      <td>38</td>\n",
       "      <td>['RU']</td>\n",
       "      <td>Comedy</td>\n",
       "    </tr>\n",
       "    <tr>\n",
       "      <th>3</th>\n",
       "      <td>MasterChef Celebrity México</td>\n",
       "      <td>(5, 6]</td>\n",
       "      <td>2021</td>\n",
       "      <td>\\N</td>\n",
       "      <td>\\N</td>\n",
       "      <td>0.0</td>\n",
       "      <td>15</td>\n",
       "      <td>1</td>\n",
       "      <td>10</td>\n",
       "      <td>22</td>\n",
       "      <td>...</td>\n",
       "      <td>tvSeries</td>\n",
       "      <td>0</td>\n",
       "      <td>True</td>\n",
       "      <td>True</td>\n",
       "      <td>0</td>\n",
       "      <td>1</td>\n",
       "      <td>0</td>\n",
       "      <td>15</td>\n",
       "      <td>['MX']</td>\n",
       "      <td>Reality-TV</td>\n",
       "    </tr>\n",
       "    <tr>\n",
       "      <th>4</th>\n",
       "      <td>Seutateueob</td>\n",
       "      <td>(7, 8]</td>\n",
       "      <td>2020</td>\n",
       "      <td>2020</td>\n",
       "      <td>80</td>\n",
       "      <td>1.0</td>\n",
       "      <td>15718</td>\n",
       "      <td>1</td>\n",
       "      <td>10</td>\n",
       "      <td>347</td>\n",
       "      <td>...</td>\n",
       "      <td>tvSeries</td>\n",
       "      <td>1</td>\n",
       "      <td>True</td>\n",
       "      <td>True</td>\n",
       "      <td>0</td>\n",
       "      <td>32</td>\n",
       "      <td>452</td>\n",
       "      <td>15746</td>\n",
       "      <td>['KR']</td>\n",
       "      <td>Comedy,Drama,Romance</td>\n",
       "    </tr>\n",
       "    <tr>\n",
       "      <th>...</th>\n",
       "      <td>...</td>\n",
       "      <td>...</td>\n",
       "      <td>...</td>\n",
       "      <td>...</td>\n",
       "      <td>...</td>\n",
       "      <td>...</td>\n",
       "      <td>...</td>\n",
       "      <td>...</td>\n",
       "      <td>...</td>\n",
       "      <td>...</td>\n",
       "      <td>...</td>\n",
       "      <td>...</td>\n",
       "      <td>...</td>\n",
       "      <td>...</td>\n",
       "      <td>...</td>\n",
       "      <td>...</td>\n",
       "      <td>...</td>\n",
       "      <td>...</td>\n",
       "      <td>...</td>\n",
       "      <td>...</td>\n",
       "      <td>...</td>\n",
       "    </tr>\n",
       "    <tr>\n",
       "      <th>21904</th>\n",
       "      <td>Parasiz yasamak pahali</td>\n",
       "      <td>(7, 8]</td>\n",
       "      <td>1994</td>\n",
       "      <td>\\N</td>\n",
       "      <td>141</td>\n",
       "      <td>NaN</td>\n",
       "      <td>45</td>\n",
       "      <td>1</td>\n",
       "      <td>10</td>\n",
       "      <td>1</td>\n",
       "      <td>...</td>\n",
       "      <td>video</td>\n",
       "      <td>0</td>\n",
       "      <td>False</td>\n",
       "      <td>True</td>\n",
       "      <td>0</td>\n",
       "      <td>1</td>\n",
       "      <td>0</td>\n",
       "      <td>45</td>\n",
       "      <td>['TR']</td>\n",
       "      <td>Comedy</td>\n",
       "    </tr>\n",
       "    <tr>\n",
       "      <th>21905</th>\n",
       "      <td>Wedding Bell Blues</td>\n",
       "      <td>(6, 7]</td>\n",
       "      <td>1994</td>\n",
       "      <td>\\N</td>\n",
       "      <td>22</td>\n",
       "      <td>0.0</td>\n",
       "      <td>19</td>\n",
       "      <td>1</td>\n",
       "      <td>10</td>\n",
       "      <td>17</td>\n",
       "      <td>...</td>\n",
       "      <td>tvEpisode</td>\n",
       "      <td>0</td>\n",
       "      <td>False</td>\n",
       "      <td>True</td>\n",
       "      <td>0</td>\n",
       "      <td>1</td>\n",
       "      <td>0</td>\n",
       "      <td>19</td>\n",
       "      <td>['US']</td>\n",
       "      <td>Comedy,Family,Sport</td>\n",
       "    </tr>\n",
       "    <tr>\n",
       "      <th>21906</th>\n",
       "      <td>O anthropos pou to 'paize poly!</td>\n",
       "      <td>(3, 4]</td>\n",
       "      <td>1983</td>\n",
       "      <td>\\N</td>\n",
       "      <td>85</td>\n",
       "      <td>NaN</td>\n",
       "      <td>14</td>\n",
       "      <td>1</td>\n",
       "      <td>10</td>\n",
       "      <td>1</td>\n",
       "      <td>...</td>\n",
       "      <td>movie</td>\n",
       "      <td>0</td>\n",
       "      <td>False</td>\n",
       "      <td>True</td>\n",
       "      <td>0</td>\n",
       "      <td>1</td>\n",
       "      <td>0</td>\n",
       "      <td>14</td>\n",
       "      <td>['GR']</td>\n",
       "      <td>Comedy</td>\n",
       "    </tr>\n",
       "    <tr>\n",
       "      <th>21907</th>\n",
       "      <td>Above Average Presents</td>\n",
       "      <td>(6, 7]</td>\n",
       "      <td>2012</td>\n",
       "      <td>\\N</td>\n",
       "      <td>\\N</td>\n",
       "      <td>0.0</td>\n",
       "      <td>111</td>\n",
       "      <td>1</td>\n",
       "      <td>10</td>\n",
       "      <td>56</td>\n",
       "      <td>...</td>\n",
       "      <td>tvSeries</td>\n",
       "      <td>0</td>\n",
       "      <td>True</td>\n",
       "      <td>True</td>\n",
       "      <td>0</td>\n",
       "      <td>2</td>\n",
       "      <td>3</td>\n",
       "      <td>111</td>\n",
       "      <td>['US']</td>\n",
       "      <td>Comedy</td>\n",
       "    </tr>\n",
       "    <tr>\n",
       "      <th>21908</th>\n",
       "      <td>Omae wa mada Gunma wo shiranai</td>\n",
       "      <td>(4, 5]</td>\n",
       "      <td>2017</td>\n",
       "      <td>2017</td>\n",
       "      <td>30</td>\n",
       "      <td>NaN</td>\n",
       "      <td>11</td>\n",
       "      <td>1</td>\n",
       "      <td>10</td>\n",
       "      <td>1</td>\n",
       "      <td>...</td>\n",
       "      <td>tvMiniSeries</td>\n",
       "      <td>0</td>\n",
       "      <td>True</td>\n",
       "      <td>True</td>\n",
       "      <td>0</td>\n",
       "      <td>1</td>\n",
       "      <td>0</td>\n",
       "      <td>12</td>\n",
       "      <td>['JP']</td>\n",
       "      <td>Comedy</td>\n",
       "    </tr>\n",
       "  </tbody>\n",
       "</table>\n",
       "<p>21909 rows × 23 columns</p>\n",
       "</div>"
      ],
      "text/plain": [
       "                                 originalTitle  rating  startYear endYear  \\\n",
       "0      Neogenic Nightmare Chapter 3: Hydro-Man  (7, 8]       1995      \\N   \n",
       "1                                      Looping  (5, 6]       1982      \\N   \n",
       "2                               Idealnaya para  (5, 6]       1992      \\N   \n",
       "3                  MasterChef Celebrity México  (5, 6]       2021      \\N   \n",
       "4                                  Seutateueob  (7, 8]       2020    2020   \n",
       "...                                        ...     ...        ...     ...   \n",
       "21904                   Parasiz yasamak pahali  (7, 8]       1994      \\N   \n",
       "21905                       Wedding Bell Blues  (6, 7]       1994      \\N   \n",
       "21906          O anthropos pou to 'paize poly!  (3, 4]       1983      \\N   \n",
       "21907                   Above Average Presents  (6, 7]       2012      \\N   \n",
       "21908           Omae wa mada Gunma wo shiranai  (4, 5]       2017    2017   \n",
       "\n",
       "      runtimeMinutes  awardWins  numVotes  worstRating  bestRating  \\\n",
       "0                 \\N        0.0       779            1          10   \n",
       "1                 \\N        0.0        11            1          10   \n",
       "2                 \\N        0.0        38            1          10   \n",
       "3                 \\N        0.0        15            1          10   \n",
       "4                 80        1.0     15718            1          10   \n",
       "...              ...        ...       ...          ...         ...   \n",
       "21904            141        NaN        45            1          10   \n",
       "21905             22        0.0        19            1          10   \n",
       "21906             85        NaN        14            1          10   \n",
       "21907             \\N        0.0       111            1          10   \n",
       "21908             30        NaN        11            1          10   \n",
       "\n",
       "       totalImages  ...     titleType  awardNominationsExcludeWins  \\\n",
       "0                1  ...     tvEpisode                            0   \n",
       "1                1  ...     videoGame                            0   \n",
       "2                1  ...         movie                            0   \n",
       "3               22  ...      tvSeries                            0   \n",
       "4              347  ...      tvSeries                            1   \n",
       "...            ...  ...           ...                          ...   \n",
       "21904            1  ...         video                            0   \n",
       "21905           17  ...     tvEpisode                            0   \n",
       "21906            1  ...         movie                            0   \n",
       "21907           56  ...      tvSeries                            0   \n",
       "21908            1  ...  tvMiniSeries                            0   \n",
       "\n",
       "       canHaveEpisodes isRatable  isAdult  numRegions  userReviewsTotal  \\\n",
       "0                False      True        0           1                 0   \n",
       "1                False      True        0           1                 0   \n",
       "2                False      True        0           1                 1   \n",
       "3                 True      True        0           1                 0   \n",
       "4                 True      True        0          32               452   \n",
       "...                ...       ...      ...         ...               ...   \n",
       "21904            False      True        0           1                 0   \n",
       "21905            False      True        0           1                 0   \n",
       "21906            False      True        0           1                 0   \n",
       "21907             True      True        0           2                 3   \n",
       "21908             True      True        0           1                 0   \n",
       "\n",
       "       ratingCount  countryOfOrigin                      genres  \n",
       "0              781           ['US']  Action,Adventure,Animation  \n",
       "1               11          ['XWG']                      Action  \n",
       "2               38           ['RU']                      Comedy  \n",
       "3               15           ['MX']                  Reality-TV  \n",
       "4            15746           ['KR']        Comedy,Drama,Romance  \n",
       "...            ...              ...                         ...  \n",
       "21904           45           ['TR']                      Comedy  \n",
       "21905           19           ['US']         Comedy,Family,Sport  \n",
       "21906           14           ['GR']                      Comedy  \n",
       "21907          111           ['US']                      Comedy  \n",
       "21908           12           ['JP']                      Comedy  \n",
       "\n",
       "[21909 rows x 23 columns]"
      ]
     },
     "execution_count": 1,
     "metadata": {},
     "output_type": "execute_result"
    }
   ],
   "source": [
    "import pandas as pd\n",
    "import numpy as np\n",
    "\n",
    "from constants import numeric_columns as num_cols\n",
    "\n",
    "\n",
    "train_df = pd.read_csv('dm1_dataset_2425_imdb/train.csv')\n",
    "test_df = pd.read_csv('dm1_dataset_2425_imdb/test.csv')\n",
    "\n",
    "complete_df = pd.concat([train_df, test_df], ignore_index = True)\n",
    "complete_df"
   ]
  },
  {
   "cell_type": "code",
   "execution_count": 2,
   "metadata": {},
   "outputs": [
    {
     "data": {
      "text/html": [
       "<div>\n",
       "<style scoped>\n",
       "    .dataframe tbody tr th:only-of-type {\n",
       "        vertical-align: middle;\n",
       "    }\n",
       "\n",
       "    .dataframe tbody tr th {\n",
       "        vertical-align: top;\n",
       "    }\n",
       "\n",
       "    .dataframe thead th {\n",
       "        text-align: right;\n",
       "    }\n",
       "</style>\n",
       "<table border=\"1\" class=\"dataframe\">\n",
       "  <thead>\n",
       "    <tr style=\"text-align: right;\">\n",
       "      <th></th>\n",
       "      <th>originalTitle</th>\n",
       "      <th>rating</th>\n",
       "      <th>startYear</th>\n",
       "      <th>endYear</th>\n",
       "      <th>runtimeMinutes</th>\n",
       "      <th>awardWins</th>\n",
       "      <th>numVotes</th>\n",
       "      <th>worstRating</th>\n",
       "      <th>bestRating</th>\n",
       "      <th>totalImages</th>\n",
       "      <th>...</th>\n",
       "      <th>titleType</th>\n",
       "      <th>awardNominationsExcludeWins</th>\n",
       "      <th>canHaveEpisodes</th>\n",
       "      <th>isRatable</th>\n",
       "      <th>isAdult</th>\n",
       "      <th>numRegions</th>\n",
       "      <th>userReviewsTotal</th>\n",
       "      <th>ratingCount</th>\n",
       "      <th>countryOfOrigin</th>\n",
       "      <th>genres</th>\n",
       "    </tr>\n",
       "  </thead>\n",
       "  <tbody>\n",
       "    <tr>\n",
       "      <th>0</th>\n",
       "      <td>Neogenic Nightmare Chapter 3: Hydro-Man</td>\n",
       "      <td>(7, 8]</td>\n",
       "      <td>1995</td>\n",
       "      <td>NaN</td>\n",
       "      <td>NaN</td>\n",
       "      <td>0.0</td>\n",
       "      <td>779</td>\n",
       "      <td>1</td>\n",
       "      <td>10</td>\n",
       "      <td>1</td>\n",
       "      <td>...</td>\n",
       "      <td>tvEpisode</td>\n",
       "      <td>0</td>\n",
       "      <td>False</td>\n",
       "      <td>True</td>\n",
       "      <td>0</td>\n",
       "      <td>1</td>\n",
       "      <td>0</td>\n",
       "      <td>781</td>\n",
       "      <td>['US']</td>\n",
       "      <td>Action,Adventure,Animation</td>\n",
       "    </tr>\n",
       "    <tr>\n",
       "      <th>1</th>\n",
       "      <td>Looping</td>\n",
       "      <td>(5, 6]</td>\n",
       "      <td>1982</td>\n",
       "      <td>NaN</td>\n",
       "      <td>NaN</td>\n",
       "      <td>0.0</td>\n",
       "      <td>11</td>\n",
       "      <td>1</td>\n",
       "      <td>10</td>\n",
       "      <td>1</td>\n",
       "      <td>...</td>\n",
       "      <td>videoGame</td>\n",
       "      <td>0</td>\n",
       "      <td>False</td>\n",
       "      <td>True</td>\n",
       "      <td>0</td>\n",
       "      <td>1</td>\n",
       "      <td>0</td>\n",
       "      <td>11</td>\n",
       "      <td>['XWG']</td>\n",
       "      <td>Action</td>\n",
       "    </tr>\n",
       "    <tr>\n",
       "      <th>2</th>\n",
       "      <td>Idealnaya para</td>\n",
       "      <td>(5, 6]</td>\n",
       "      <td>1992</td>\n",
       "      <td>NaN</td>\n",
       "      <td>NaN</td>\n",
       "      <td>0.0</td>\n",
       "      <td>38</td>\n",
       "      <td>1</td>\n",
       "      <td>10</td>\n",
       "      <td>1</td>\n",
       "      <td>...</td>\n",
       "      <td>movie</td>\n",
       "      <td>0</td>\n",
       "      <td>False</td>\n",
       "      <td>True</td>\n",
       "      <td>0</td>\n",
       "      <td>1</td>\n",
       "      <td>1</td>\n",
       "      <td>38</td>\n",
       "      <td>['RU']</td>\n",
       "      <td>Comedy</td>\n",
       "    </tr>\n",
       "    <tr>\n",
       "      <th>3</th>\n",
       "      <td>MasterChef Celebrity México</td>\n",
       "      <td>(5, 6]</td>\n",
       "      <td>2021</td>\n",
       "      <td>NaN</td>\n",
       "      <td>NaN</td>\n",
       "      <td>0.0</td>\n",
       "      <td>15</td>\n",
       "      <td>1</td>\n",
       "      <td>10</td>\n",
       "      <td>22</td>\n",
       "      <td>...</td>\n",
       "      <td>tvSeries</td>\n",
       "      <td>0</td>\n",
       "      <td>True</td>\n",
       "      <td>True</td>\n",
       "      <td>0</td>\n",
       "      <td>1</td>\n",
       "      <td>0</td>\n",
       "      <td>15</td>\n",
       "      <td>['MX']</td>\n",
       "      <td>Reality-TV</td>\n",
       "    </tr>\n",
       "    <tr>\n",
       "      <th>4</th>\n",
       "      <td>Seutateueob</td>\n",
       "      <td>(7, 8]</td>\n",
       "      <td>2020</td>\n",
       "      <td>2020.0</td>\n",
       "      <td>80.0</td>\n",
       "      <td>1.0</td>\n",
       "      <td>15718</td>\n",
       "      <td>1</td>\n",
       "      <td>10</td>\n",
       "      <td>347</td>\n",
       "      <td>...</td>\n",
       "      <td>tvSeries</td>\n",
       "      <td>1</td>\n",
       "      <td>True</td>\n",
       "      <td>True</td>\n",
       "      <td>0</td>\n",
       "      <td>32</td>\n",
       "      <td>452</td>\n",
       "      <td>15746</td>\n",
       "      <td>['KR']</td>\n",
       "      <td>Comedy,Drama,Romance</td>\n",
       "    </tr>\n",
       "    <tr>\n",
       "      <th>...</th>\n",
       "      <td>...</td>\n",
       "      <td>...</td>\n",
       "      <td>...</td>\n",
       "      <td>...</td>\n",
       "      <td>...</td>\n",
       "      <td>...</td>\n",
       "      <td>...</td>\n",
       "      <td>...</td>\n",
       "      <td>...</td>\n",
       "      <td>...</td>\n",
       "      <td>...</td>\n",
       "      <td>...</td>\n",
       "      <td>...</td>\n",
       "      <td>...</td>\n",
       "      <td>...</td>\n",
       "      <td>...</td>\n",
       "      <td>...</td>\n",
       "      <td>...</td>\n",
       "      <td>...</td>\n",
       "      <td>...</td>\n",
       "      <td>...</td>\n",
       "    </tr>\n",
       "    <tr>\n",
       "      <th>16426</th>\n",
       "      <td>Caprices</td>\n",
       "      <td>(5, 6]</td>\n",
       "      <td>1942</td>\n",
       "      <td>NaN</td>\n",
       "      <td>NaN</td>\n",
       "      <td>0.0</td>\n",
       "      <td>73</td>\n",
       "      <td>1</td>\n",
       "      <td>10</td>\n",
       "      <td>4</td>\n",
       "      <td>...</td>\n",
       "      <td>movie</td>\n",
       "      <td>0</td>\n",
       "      <td>False</td>\n",
       "      <td>True</td>\n",
       "      <td>0</td>\n",
       "      <td>14</td>\n",
       "      <td>4</td>\n",
       "      <td>73</td>\n",
       "      <td>['FR']</td>\n",
       "      <td>Comedy</td>\n",
       "    </tr>\n",
       "    <tr>\n",
       "      <th>16427</th>\n",
       "      <td>Haar Jeet</td>\n",
       "      <td>(4, 5]</td>\n",
       "      <td>1990</td>\n",
       "      <td>NaN</td>\n",
       "      <td>NaN</td>\n",
       "      <td>0.0</td>\n",
       "      <td>15</td>\n",
       "      <td>1</td>\n",
       "      <td>10</td>\n",
       "      <td>2</td>\n",
       "      <td>...</td>\n",
       "      <td>movie</td>\n",
       "      <td>0</td>\n",
       "      <td>False</td>\n",
       "      <td>True</td>\n",
       "      <td>0</td>\n",
       "      <td>1</td>\n",
       "      <td>1</td>\n",
       "      <td>15</td>\n",
       "      <td>['IN']</td>\n",
       "      <td>Action,Drama,Thriller</td>\n",
       "    </tr>\n",
       "    <tr>\n",
       "      <th>16428</th>\n",
       "      <td>Kotigobba 3</td>\n",
       "      <td>(5, 6]</td>\n",
       "      <td>2021</td>\n",
       "      <td>NaN</td>\n",
       "      <td>140.0</td>\n",
       "      <td>0.0</td>\n",
       "      <td>2560</td>\n",
       "      <td>1</td>\n",
       "      <td>10</td>\n",
       "      <td>39</td>\n",
       "      <td>...</td>\n",
       "      <td>movie</td>\n",
       "      <td>5</td>\n",
       "      <td>False</td>\n",
       "      <td>True</td>\n",
       "      <td>0</td>\n",
       "      <td>5</td>\n",
       "      <td>49</td>\n",
       "      <td>2560</td>\n",
       "      <td>['IN']</td>\n",
       "      <td>Action,Drama,Romance</td>\n",
       "    </tr>\n",
       "    <tr>\n",
       "      <th>16429</th>\n",
       "      <td>Ator l'invincibile</td>\n",
       "      <td>(3, 4]</td>\n",
       "      <td>1982</td>\n",
       "      <td>NaN</td>\n",
       "      <td>NaN</td>\n",
       "      <td>0.0</td>\n",
       "      <td>3011</td>\n",
       "      <td>1</td>\n",
       "      <td>10</td>\n",
       "      <td>52</td>\n",
       "      <td>...</td>\n",
       "      <td>movie</td>\n",
       "      <td>0</td>\n",
       "      <td>False</td>\n",
       "      <td>True</td>\n",
       "      <td>0</td>\n",
       "      <td>26</td>\n",
       "      <td>58</td>\n",
       "      <td>3012</td>\n",
       "      <td>['IT']</td>\n",
       "      <td>Action,Adventure,Fantasy</td>\n",
       "    </tr>\n",
       "    <tr>\n",
       "      <th>16430</th>\n",
       "      <td>Anniversary Night</td>\n",
       "      <td>(9, 10]</td>\n",
       "      <td>2022</td>\n",
       "      <td>NaN</td>\n",
       "      <td>NaN</td>\n",
       "      <td>0.0</td>\n",
       "      <td>9</td>\n",
       "      <td>1</td>\n",
       "      <td>10</td>\n",
       "      <td>7</td>\n",
       "      <td>...</td>\n",
       "      <td>short</td>\n",
       "      <td>0</td>\n",
       "      <td>False</td>\n",
       "      <td>True</td>\n",
       "      <td>0</td>\n",
       "      <td>1</td>\n",
       "      <td>0</td>\n",
       "      <td>9</td>\n",
       "      <td>['IN']</td>\n",
       "      <td>Drama,Short</td>\n",
       "    </tr>\n",
       "  </tbody>\n",
       "</table>\n",
       "<p>16431 rows × 23 columns</p>\n",
       "</div>"
      ],
      "text/plain": [
       "                                 originalTitle   rating  startYear  endYear  \\\n",
       "0      Neogenic Nightmare Chapter 3: Hydro-Man   (7, 8]       1995      NaN   \n",
       "1                                      Looping   (5, 6]       1982      NaN   \n",
       "2                               Idealnaya para   (5, 6]       1992      NaN   \n",
       "3                  MasterChef Celebrity México   (5, 6]       2021      NaN   \n",
       "4                                  Seutateueob   (7, 8]       2020   2020.0   \n",
       "...                                        ...      ...        ...      ...   \n",
       "16426                                 Caprices   (5, 6]       1942      NaN   \n",
       "16427                                Haar Jeet   (4, 5]       1990      NaN   \n",
       "16428                              Kotigobba 3   (5, 6]       2021      NaN   \n",
       "16429                       Ator l'invincibile   (3, 4]       1982      NaN   \n",
       "16430                        Anniversary Night  (9, 10]       2022      NaN   \n",
       "\n",
       "       runtimeMinutes  awardWins  numVotes  worstRating  bestRating  \\\n",
       "0                 NaN        0.0       779            1          10   \n",
       "1                 NaN        0.0        11            1          10   \n",
       "2                 NaN        0.0        38            1          10   \n",
       "3                 NaN        0.0        15            1          10   \n",
       "4                80.0        1.0     15718            1          10   \n",
       "...               ...        ...       ...          ...         ...   \n",
       "16426             NaN        0.0        73            1          10   \n",
       "16427             NaN        0.0        15            1          10   \n",
       "16428           140.0        0.0      2560            1          10   \n",
       "16429             NaN        0.0      3011            1          10   \n",
       "16430             NaN        0.0         9            1          10   \n",
       "\n",
       "       totalImages  ...  titleType  awardNominationsExcludeWins  \\\n",
       "0                1  ...  tvEpisode                            0   \n",
       "1                1  ...  videoGame                            0   \n",
       "2                1  ...      movie                            0   \n",
       "3               22  ...   tvSeries                            0   \n",
       "4              347  ...   tvSeries                            1   \n",
       "...            ...  ...        ...                          ...   \n",
       "16426            4  ...      movie                            0   \n",
       "16427            2  ...      movie                            0   \n",
       "16428           39  ...      movie                            5   \n",
       "16429           52  ...      movie                            0   \n",
       "16430            7  ...      short                            0   \n",
       "\n",
       "       canHaveEpisodes isRatable  isAdult  numRegions  userReviewsTotal  \\\n",
       "0                False      True        0           1                 0   \n",
       "1                False      True        0           1                 0   \n",
       "2                False      True        0           1                 1   \n",
       "3                 True      True        0           1                 0   \n",
       "4                 True      True        0          32               452   \n",
       "...                ...       ...      ...         ...               ...   \n",
       "16426            False      True        0          14                 4   \n",
       "16427            False      True        0           1                 1   \n",
       "16428            False      True        0           5                49   \n",
       "16429            False      True        0          26                58   \n",
       "16430            False      True        0           1                 0   \n",
       "\n",
       "       ratingCount  countryOfOrigin                      genres  \n",
       "0              781           ['US']  Action,Adventure,Animation  \n",
       "1               11          ['XWG']                      Action  \n",
       "2               38           ['RU']                      Comedy  \n",
       "3               15           ['MX']                  Reality-TV  \n",
       "4            15746           ['KR']        Comedy,Drama,Romance  \n",
       "...            ...              ...                         ...  \n",
       "16426           73           ['FR']                      Comedy  \n",
       "16427           15           ['IN']       Action,Drama,Thriller  \n",
       "16428         2560           ['IN']        Action,Drama,Romance  \n",
       "16429         3012           ['IT']    Action,Adventure,Fantasy  \n",
       "16430            9           ['IN']                 Drama,Short  \n",
       "\n",
       "[16431 rows x 23 columns]"
      ]
     },
     "execution_count": 2,
     "metadata": {},
     "output_type": "execute_result"
    }
   ],
   "source": [
    "for col in num_cols:\n",
    "    train_df[col] = pd.to_numeric(train_df[col], errors='coerce')\n",
    "# train_df[num_cols] = pd.to_numeric(train_df[num_cols], errors='coerce')\n",
    "\n",
    "train_df.loc[train_df['genres'] == r'\\N', 'genres'] = np.nan\n",
    "train_df"
   ]
  },
  {
   "cell_type": "code",
   "execution_count": 3,
   "metadata": {},
   "outputs": [
    {
     "data": {
      "text/plain": [
       "array(['(7, 8]', '(5, 6]', '(8, 9]', '(6, 7]', '(2, 3]', '(4, 5]',\n",
       "       '(9, 10]', '(3, 4]', '(0, 1]', '(1, 2]'], dtype=object)"
      ]
     },
     "execution_count": 3,
     "metadata": {},
     "output_type": "execute_result"
    }
   ],
   "source": [
    "complete_df['rating'].unique()"
   ]
  },
  {
   "cell_type": "code",
   "execution_count": 4,
   "metadata": {},
   "outputs": [],
   "source": [
    "complete_df['rating'] = complete_df['rating'].str.extract(\n",
    "        r\",\\s*(\\d+)\\]\"\n",
    "    ).astype(int)\n"
   ]
  },
  {
   "cell_type": "code",
   "execution_count": 5,
   "metadata": {},
   "outputs": [
    {
     "data": {
      "text/html": [
       "<div>\n",
       "<style scoped>\n",
       "    .dataframe tbody tr th:only-of-type {\n",
       "        vertical-align: middle;\n",
       "    }\n",
       "\n",
       "    .dataframe tbody tr th {\n",
       "        vertical-align: top;\n",
       "    }\n",
       "\n",
       "    .dataframe thead th {\n",
       "        text-align: right;\n",
       "    }\n",
       "</style>\n",
       "<table border=\"1\" class=\"dataframe\">\n",
       "  <thead>\n",
       "    <tr style=\"text-align: right;\">\n",
       "      <th></th>\n",
       "      <th>originalTitle</th>\n",
       "      <th>rating</th>\n",
       "      <th>startYear</th>\n",
       "      <th>endYear</th>\n",
       "      <th>runtimeMinutes</th>\n",
       "      <th>awardWins</th>\n",
       "      <th>numVotes</th>\n",
       "      <th>worstRating</th>\n",
       "      <th>bestRating</th>\n",
       "      <th>totalImages</th>\n",
       "      <th>...</th>\n",
       "      <th>titleType</th>\n",
       "      <th>awardNominationsExcludeWins</th>\n",
       "      <th>canHaveEpisodes</th>\n",
       "      <th>isRatable</th>\n",
       "      <th>isAdult</th>\n",
       "      <th>numRegions</th>\n",
       "      <th>userReviewsTotal</th>\n",
       "      <th>ratingCount</th>\n",
       "      <th>countryOfOrigin</th>\n",
       "      <th>genres</th>\n",
       "    </tr>\n",
       "  </thead>\n",
       "  <tbody>\n",
       "    <tr>\n",
       "      <th>0</th>\n",
       "      <td>Neogenic Nightmare Chapter 3: Hydro-Man</td>\n",
       "      <td>8</td>\n",
       "      <td>1995</td>\n",
       "      <td>NaN</td>\n",
       "      <td>NaN</td>\n",
       "      <td>0.0</td>\n",
       "      <td>779</td>\n",
       "      <td>1</td>\n",
       "      <td>10</td>\n",
       "      <td>1</td>\n",
       "      <td>...</td>\n",
       "      <td>tvEpisode</td>\n",
       "      <td>0</td>\n",
       "      <td>False</td>\n",
       "      <td>True</td>\n",
       "      <td>0</td>\n",
       "      <td>1</td>\n",
       "      <td>0</td>\n",
       "      <td>781</td>\n",
       "      <td>['US']</td>\n",
       "      <td>Action,Adventure,Animation</td>\n",
       "    </tr>\n",
       "    <tr>\n",
       "      <th>1</th>\n",
       "      <td>Looping</td>\n",
       "      <td>6</td>\n",
       "      <td>1982</td>\n",
       "      <td>NaN</td>\n",
       "      <td>NaN</td>\n",
       "      <td>0.0</td>\n",
       "      <td>11</td>\n",
       "      <td>1</td>\n",
       "      <td>10</td>\n",
       "      <td>1</td>\n",
       "      <td>...</td>\n",
       "      <td>videoGame</td>\n",
       "      <td>0</td>\n",
       "      <td>False</td>\n",
       "      <td>True</td>\n",
       "      <td>0</td>\n",
       "      <td>1</td>\n",
       "      <td>0</td>\n",
       "      <td>11</td>\n",
       "      <td>['XWG']</td>\n",
       "      <td>Action</td>\n",
       "    </tr>\n",
       "    <tr>\n",
       "      <th>2</th>\n",
       "      <td>Idealnaya para</td>\n",
       "      <td>6</td>\n",
       "      <td>1992</td>\n",
       "      <td>NaN</td>\n",
       "      <td>NaN</td>\n",
       "      <td>0.0</td>\n",
       "      <td>38</td>\n",
       "      <td>1</td>\n",
       "      <td>10</td>\n",
       "      <td>1</td>\n",
       "      <td>...</td>\n",
       "      <td>movie</td>\n",
       "      <td>0</td>\n",
       "      <td>False</td>\n",
       "      <td>True</td>\n",
       "      <td>0</td>\n",
       "      <td>1</td>\n",
       "      <td>1</td>\n",
       "      <td>38</td>\n",
       "      <td>['RU']</td>\n",
       "      <td>Comedy</td>\n",
       "    </tr>\n",
       "    <tr>\n",
       "      <th>3</th>\n",
       "      <td>MasterChef Celebrity México</td>\n",
       "      <td>6</td>\n",
       "      <td>2021</td>\n",
       "      <td>NaN</td>\n",
       "      <td>NaN</td>\n",
       "      <td>0.0</td>\n",
       "      <td>15</td>\n",
       "      <td>1</td>\n",
       "      <td>10</td>\n",
       "      <td>22</td>\n",
       "      <td>...</td>\n",
       "      <td>tvSeries</td>\n",
       "      <td>0</td>\n",
       "      <td>True</td>\n",
       "      <td>True</td>\n",
       "      <td>0</td>\n",
       "      <td>1</td>\n",
       "      <td>0</td>\n",
       "      <td>15</td>\n",
       "      <td>['MX']</td>\n",
       "      <td>Reality-TV</td>\n",
       "    </tr>\n",
       "    <tr>\n",
       "      <th>4</th>\n",
       "      <td>Seutateueob</td>\n",
       "      <td>8</td>\n",
       "      <td>2020</td>\n",
       "      <td>2020.0</td>\n",
       "      <td>80.0</td>\n",
       "      <td>1.0</td>\n",
       "      <td>15718</td>\n",
       "      <td>1</td>\n",
       "      <td>10</td>\n",
       "      <td>347</td>\n",
       "      <td>...</td>\n",
       "      <td>tvSeries</td>\n",
       "      <td>1</td>\n",
       "      <td>True</td>\n",
       "      <td>True</td>\n",
       "      <td>0</td>\n",
       "      <td>32</td>\n",
       "      <td>452</td>\n",
       "      <td>15746</td>\n",
       "      <td>['KR']</td>\n",
       "      <td>Comedy,Drama,Romance</td>\n",
       "    </tr>\n",
       "    <tr>\n",
       "      <th>...</th>\n",
       "      <td>...</td>\n",
       "      <td>...</td>\n",
       "      <td>...</td>\n",
       "      <td>...</td>\n",
       "      <td>...</td>\n",
       "      <td>...</td>\n",
       "      <td>...</td>\n",
       "      <td>...</td>\n",
       "      <td>...</td>\n",
       "      <td>...</td>\n",
       "      <td>...</td>\n",
       "      <td>...</td>\n",
       "      <td>...</td>\n",
       "      <td>...</td>\n",
       "      <td>...</td>\n",
       "      <td>...</td>\n",
       "      <td>...</td>\n",
       "      <td>...</td>\n",
       "      <td>...</td>\n",
       "      <td>...</td>\n",
       "      <td>...</td>\n",
       "    </tr>\n",
       "    <tr>\n",
       "      <th>16426</th>\n",
       "      <td>Caprices</td>\n",
       "      <td>6</td>\n",
       "      <td>1942</td>\n",
       "      <td>NaN</td>\n",
       "      <td>NaN</td>\n",
       "      <td>0.0</td>\n",
       "      <td>73</td>\n",
       "      <td>1</td>\n",
       "      <td>10</td>\n",
       "      <td>4</td>\n",
       "      <td>...</td>\n",
       "      <td>movie</td>\n",
       "      <td>0</td>\n",
       "      <td>False</td>\n",
       "      <td>True</td>\n",
       "      <td>0</td>\n",
       "      <td>14</td>\n",
       "      <td>4</td>\n",
       "      <td>73</td>\n",
       "      <td>['FR']</td>\n",
       "      <td>Comedy</td>\n",
       "    </tr>\n",
       "    <tr>\n",
       "      <th>16427</th>\n",
       "      <td>Haar Jeet</td>\n",
       "      <td>5</td>\n",
       "      <td>1990</td>\n",
       "      <td>NaN</td>\n",
       "      <td>NaN</td>\n",
       "      <td>0.0</td>\n",
       "      <td>15</td>\n",
       "      <td>1</td>\n",
       "      <td>10</td>\n",
       "      <td>2</td>\n",
       "      <td>...</td>\n",
       "      <td>movie</td>\n",
       "      <td>0</td>\n",
       "      <td>False</td>\n",
       "      <td>True</td>\n",
       "      <td>0</td>\n",
       "      <td>1</td>\n",
       "      <td>1</td>\n",
       "      <td>15</td>\n",
       "      <td>['IN']</td>\n",
       "      <td>Action,Drama,Thriller</td>\n",
       "    </tr>\n",
       "    <tr>\n",
       "      <th>16428</th>\n",
       "      <td>Kotigobba 3</td>\n",
       "      <td>6</td>\n",
       "      <td>2021</td>\n",
       "      <td>NaN</td>\n",
       "      <td>140.0</td>\n",
       "      <td>0.0</td>\n",
       "      <td>2560</td>\n",
       "      <td>1</td>\n",
       "      <td>10</td>\n",
       "      <td>39</td>\n",
       "      <td>...</td>\n",
       "      <td>movie</td>\n",
       "      <td>5</td>\n",
       "      <td>False</td>\n",
       "      <td>True</td>\n",
       "      <td>0</td>\n",
       "      <td>5</td>\n",
       "      <td>49</td>\n",
       "      <td>2560</td>\n",
       "      <td>['IN']</td>\n",
       "      <td>Action,Drama,Romance</td>\n",
       "    </tr>\n",
       "    <tr>\n",
       "      <th>16429</th>\n",
       "      <td>Ator l'invincibile</td>\n",
       "      <td>4</td>\n",
       "      <td>1982</td>\n",
       "      <td>NaN</td>\n",
       "      <td>NaN</td>\n",
       "      <td>0.0</td>\n",
       "      <td>3011</td>\n",
       "      <td>1</td>\n",
       "      <td>10</td>\n",
       "      <td>52</td>\n",
       "      <td>...</td>\n",
       "      <td>movie</td>\n",
       "      <td>0</td>\n",
       "      <td>False</td>\n",
       "      <td>True</td>\n",
       "      <td>0</td>\n",
       "      <td>26</td>\n",
       "      <td>58</td>\n",
       "      <td>3012</td>\n",
       "      <td>['IT']</td>\n",
       "      <td>Action,Adventure,Fantasy</td>\n",
       "    </tr>\n",
       "    <tr>\n",
       "      <th>16430</th>\n",
       "      <td>Anniversary Night</td>\n",
       "      <td>10</td>\n",
       "      <td>2022</td>\n",
       "      <td>NaN</td>\n",
       "      <td>NaN</td>\n",
       "      <td>0.0</td>\n",
       "      <td>9</td>\n",
       "      <td>1</td>\n",
       "      <td>10</td>\n",
       "      <td>7</td>\n",
       "      <td>...</td>\n",
       "      <td>short</td>\n",
       "      <td>0</td>\n",
       "      <td>False</td>\n",
       "      <td>True</td>\n",
       "      <td>0</td>\n",
       "      <td>1</td>\n",
       "      <td>0</td>\n",
       "      <td>9</td>\n",
       "      <td>['IN']</td>\n",
       "      <td>Drama,Short</td>\n",
       "    </tr>\n",
       "  </tbody>\n",
       "</table>\n",
       "<p>16431 rows × 23 columns</p>\n",
       "</div>"
      ],
      "text/plain": [
       "                                 originalTitle  rating  startYear  endYear  \\\n",
       "0      Neogenic Nightmare Chapter 3: Hydro-Man       8       1995      NaN   \n",
       "1                                      Looping       6       1982      NaN   \n",
       "2                               Idealnaya para       6       1992      NaN   \n",
       "3                  MasterChef Celebrity México       6       2021      NaN   \n",
       "4                                  Seutateueob       8       2020   2020.0   \n",
       "...                                        ...     ...        ...      ...   \n",
       "16426                                 Caprices       6       1942      NaN   \n",
       "16427                                Haar Jeet       5       1990      NaN   \n",
       "16428                              Kotigobba 3       6       2021      NaN   \n",
       "16429                       Ator l'invincibile       4       1982      NaN   \n",
       "16430                        Anniversary Night      10       2022      NaN   \n",
       "\n",
       "       runtimeMinutes  awardWins  numVotes  worstRating  bestRating  \\\n",
       "0                 NaN        0.0       779            1          10   \n",
       "1                 NaN        0.0        11            1          10   \n",
       "2                 NaN        0.0        38            1          10   \n",
       "3                 NaN        0.0        15            1          10   \n",
       "4                80.0        1.0     15718            1          10   \n",
       "...               ...        ...       ...          ...         ...   \n",
       "16426             NaN        0.0        73            1          10   \n",
       "16427             NaN        0.0        15            1          10   \n",
       "16428           140.0        0.0      2560            1          10   \n",
       "16429             NaN        0.0      3011            1          10   \n",
       "16430             NaN        0.0         9            1          10   \n",
       "\n",
       "       totalImages  ...  titleType  awardNominationsExcludeWins  \\\n",
       "0                1  ...  tvEpisode                            0   \n",
       "1                1  ...  videoGame                            0   \n",
       "2                1  ...      movie                            0   \n",
       "3               22  ...   tvSeries                            0   \n",
       "4              347  ...   tvSeries                            1   \n",
       "...            ...  ...        ...                          ...   \n",
       "16426            4  ...      movie                            0   \n",
       "16427            2  ...      movie                            0   \n",
       "16428           39  ...      movie                            5   \n",
       "16429           52  ...      movie                            0   \n",
       "16430            7  ...      short                            0   \n",
       "\n",
       "       canHaveEpisodes isRatable  isAdult  numRegions  userReviewsTotal  \\\n",
       "0                False      True        0           1                 0   \n",
       "1                False      True        0           1                 0   \n",
       "2                False      True        0           1                 1   \n",
       "3                 True      True        0           1                 0   \n",
       "4                 True      True        0          32               452   \n",
       "...                ...       ...      ...         ...               ...   \n",
       "16426            False      True        0          14                 4   \n",
       "16427            False      True        0           1                 1   \n",
       "16428            False      True        0           5                49   \n",
       "16429            False      True        0          26                58   \n",
       "16430            False      True        0           1                 0   \n",
       "\n",
       "       ratingCount  countryOfOrigin                      genres  \n",
       "0              781           ['US']  Action,Adventure,Animation  \n",
       "1               11          ['XWG']                      Action  \n",
       "2               38           ['RU']                      Comedy  \n",
       "3               15           ['MX']                  Reality-TV  \n",
       "4            15746           ['KR']        Comedy,Drama,Romance  \n",
       "...            ...              ...                         ...  \n",
       "16426           73           ['FR']                      Comedy  \n",
       "16427           15           ['IN']       Action,Drama,Thriller  \n",
       "16428         2560           ['IN']        Action,Drama,Romance  \n",
       "16429         3012           ['IT']    Action,Adventure,Fantasy  \n",
       "16430            9           ['IN']                 Drama,Short  \n",
       "\n",
       "[16431 rows x 23 columns]"
      ]
     },
     "execution_count": 5,
     "metadata": {},
     "output_type": "execute_result"
    }
   ],
   "source": [
    "# swaps the rating column to contain only the integer values of the higher bounds\n",
    "train_df['rating'] = train_df['rating'].str.extract(\n",
    "        r\",\\s*(\\d+)\\]\"\n",
    "    ).astype(int)\n",
    "\n",
    "train_df"
   ]
  },
  {
   "cell_type": "code",
   "execution_count": 6,
   "metadata": {},
   "outputs": [
    {
     "data": {
      "text/plain": [
       "array([ 8,  6,  9,  7,  3,  5, 10,  4,  1,  2])"
      ]
     },
     "execution_count": 6,
     "metadata": {},
     "output_type": "execute_result"
    }
   ],
   "source": [
    "complete_df['rating'].unique()"
   ]
  },
  {
   "cell_type": "code",
   "execution_count": 7,
   "metadata": {},
   "outputs": [
    {
     "data": {
      "text/plain": [
       "array([1])"
      ]
     },
     "execution_count": 7,
     "metadata": {},
     "output_type": "execute_result"
    }
   ],
   "source": [
    "complete_df['worstRating'].unique()"
   ]
  },
  {
   "cell_type": "code",
   "execution_count": 8,
   "metadata": {},
   "outputs": [
    {
     "data": {
      "text/plain": [
       "array([10])"
      ]
     },
     "execution_count": 8,
     "metadata": {},
     "output_type": "execute_result"
    }
   ],
   "source": [
    "complete_df['bestRating'].unique()"
   ]
  },
  {
   "cell_type": "code",
   "execution_count": 9,
   "metadata": {},
   "outputs": [
    {
     "data": {
      "text/plain": [
       "array([1995, 1982, 1992, 2021, 2020, 2022, 1996, 2017, 1980, 1965, 2014,\n",
       "       2004, 2009, 2023, 1984, 2016, 1900, 1997, 1970, 1943, 1968, 2007,\n",
       "       1961, 1959, 1999, 1986, 1958, 1966, 1993, 2012, 1976, 1989, 2018,\n",
       "       2003, 2008, 1932, 1906, 1898, 1914, 1975, 1960, 2015, 1953, 2010,\n",
       "       1941, 1981, 2013, 1987, 1998, 1988, 2011, 2006, 1901, 2002, 1977,\n",
       "       1915, 1974, 1979, 1991, 1964, 1983, 1985, 2005, 1934, 1951, 1994,\n",
       "       1971, 1919, 2019, 1963, 1926, 1903, 1936, 1957, 1990, 2024, 1952,\n",
       "       1911, 1950, 1947, 1972, 1955, 1978, 1949, 1969, 1935, 1929, 1946,\n",
       "       1939, 1909, 1918, 1927, 1962, 1967, 1973, 2001, 1912, 1942, 1945,\n",
       "       1928, 1948, 1944, 1931, 1938, 1894, 1899, 1908, 1937, 1896, 1956,\n",
       "       1913, 1922, 1954, 1933, 1925, 1897, 1930, 1924, 1940, 1921, 1917,\n",
       "       1916, 1923, 1920, 1910, 1905, 1907, 1902, 1895, 1904, 1893, 1891,\n",
       "       1878])"
      ]
     },
     "execution_count": 9,
     "metadata": {},
     "output_type": "execute_result"
    }
   ],
   "source": [
    "complete_df['startYear'].unique()"
   ]
  },
  {
   "cell_type": "code",
   "execution_count": 10,
   "metadata": {},
   "outputs": [
    {
     "data": {
      "text/plain": [
       "array(['\\\\N', '2020', '1999', '2016', '2009', '2023', '2015', '1984',\n",
       "       '2022', '2007', '1997', '2014', '2024', '2019', '2004', '2021',\n",
       "       '2017', '1995', '1986', '1977', '1979', '1953', '1998', '1973',\n",
       "       '1989', '1961', '1994', '2002', '2018', '1991', '2012', '2000',\n",
       "       '2006', '1975', '1996', '1969', '1990', '1955', '1970', '1980',\n",
       "       '1985', '1968', '2011', '1993', '1959', '1971', '1988', '2013',\n",
       "       '1966', '1960', '1981', '1983', '1972', '1987', '1952', '1967',\n",
       "       '2010', '2005', '1951', '1963', '1978', '2001', '2008', '1982',\n",
       "       '1974', '2003', '1976', '1954', '1992', '1956', '1945', '1958',\n",
       "       '2025', '1962', '1957', '1965'], dtype=object)"
      ]
     },
     "execution_count": 10,
     "metadata": {},
     "output_type": "execute_result"
    }
   ],
   "source": [
    "complete_df['endYear'].unique()"
   ]
  },
  {
   "cell_type": "code",
   "execution_count": 11,
   "metadata": {},
   "outputs": [
    {
     "data": {
      "text/plain": [
       "endYear\n",
       "1945        1\n",
       "1951        1\n",
       "1952        3\n",
       "1953        3\n",
       "1954        1\n",
       "        ...  \n",
       "2022       48\n",
       "2023       41\n",
       "2024       18\n",
       "2025        1\n",
       "\\N      20822\n",
       "Name: rating, Length: 76, dtype: int64"
      ]
     },
     "execution_count": 11,
     "metadata": {},
     "output_type": "execute_result"
    }
   ],
   "source": [
    "complete_df.groupby('endYear').count()['rating']"
   ]
  },
  {
   "cell_type": "code",
   "execution_count": 12,
   "metadata": {},
   "outputs": [
    {
     "data": {
      "text/plain": [
       "genres\n",
       "Action                    163\n",
       "Action,Adult                3\n",
       "Action,Adult,Adventure      1\n",
       "Action,Adult,Animation      1\n",
       "Action,Adult,Comedy         2\n",
       "                         ... \n",
       "Thriller                  153\n",
       "Thriller,War                2\n",
       "War                        16\n",
       "Western                   244\n",
       "\\N                        503\n",
       "Name: rating, Length: 858, dtype: int64"
      ]
     },
     "execution_count": 12,
     "metadata": {},
     "output_type": "execute_result"
    }
   ],
   "source": [
    "complete_df.groupby('genres').count()['rating']"
   ]
  },
  {
   "cell_type": "code",
   "execution_count": 13,
   "metadata": {},
   "outputs": [
    {
     "data": {
      "text/plain": [
       "canHaveEpisodes  endYear\n",
       "False            \\N         19782\n",
       "True             1945           1\n",
       "                 1951           1\n",
       "                 1952           3\n",
       "                 1953           3\n",
       "                            ...  \n",
       "                 2022          48\n",
       "                 2023          41\n",
       "                 2024          18\n",
       "                 2025           1\n",
       "                 \\N          1040\n",
       "Name: rating, Length: 77, dtype: int64"
      ]
     },
     "execution_count": 13,
     "metadata": {},
     "output_type": "execute_result"
    }
   ],
   "source": [
    "# THIS SHOWS THAT ROWS WITH NO EPISODES DO NOT HAVE ENDYEAR\n",
    "complete_df.groupby(['canHaveEpisodes', 'endYear']).count()['rating']"
   ]
  },
  {
   "cell_type": "code",
   "execution_count": 14,
   "metadata": {},
   "outputs": [
    {
     "data": {
      "text/plain": [
       "canHaveEpisodes\n",
       "False    19782\n",
       "True      2127\n",
       "Name: rating, dtype: int64"
      ]
     },
     "execution_count": 14,
     "metadata": {},
     "output_type": "execute_result"
    }
   ],
   "source": [
    "# half of the rows with canHaveEpisodes = True do not have an endYear\n",
    "complete_df.groupby('canHaveEpisodes').count()['rating']"
   ]
  },
  {
   "cell_type": "code",
   "execution_count": 15,
   "metadata": {},
   "outputs": [
    {
     "data": {
      "text/plain": [
       "canHaveEpisodes  endYear  startYear\n",
       "True             1945     1940          1\n",
       "                 1951     1950          1\n",
       "                 1952     1948          1\n",
       "                          1951          2\n",
       "                 1953     1951          1\n",
       "                                       ..\n",
       "                 \\N       2020         32\n",
       "                          2021         55\n",
       "                          2022         42\n",
       "                          2023         42\n",
       "                          2024         16\n",
       "Name: rating, Length: 466, dtype: int64"
      ]
     },
     "execution_count": 15,
     "metadata": {},
     "output_type": "execute_result"
    }
   ],
   "source": [
    "complete_df.loc[complete_df['canHaveEpisodes']].groupby(\n",
    "        ['canHaveEpisodes', 'endYear', 'startYear']\n",
    "    ).count()['rating']"
   ]
  },
  {
   "cell_type": "code",
   "execution_count": 16,
   "metadata": {},
   "outputs": [
    {
     "data": {
      "text/plain": [
       "isRatable\n",
       "True    21909\n",
       "Name: rating, dtype: int64"
      ]
     },
     "execution_count": 16,
     "metadata": {},
     "output_type": "execute_result"
    }
   ],
   "source": [
    "# all true lol\n",
    "complete_df.groupby('isRatable').count()['rating']"
   ]
  },
  {
   "cell_type": "code",
   "execution_count": 17,
   "metadata": {},
   "outputs": [
    {
     "data": {
      "text/plain": [
       "array(['\\\\N', '80', '34', '45', '12', '44', '60', '90', '82', '21', '122',\n",
       "       '17', '1', '30', '23', '93', '57', '74', '85', '83', '75', '78',\n",
       "       '28', '184', '25', '10', '108', '40', '98', '110', '48', '50',\n",
       "       '89', '42', '71', '79', '4', '43', '41', '6', '101', '77', '14',\n",
       "       '16', '7', '24', '3', '105', '20', '8', '49', '29', '26', '22',\n",
       "       '143', '11', '47', '97', '46', '65', '94', '62', '51', '100', '27',\n",
       "       '35', '95', '103', '72', '18', '69', '39', '87', '99', '59', '64',\n",
       "       '96', '68', '15', '185', '67', '126', '86', '118', '104', '114',\n",
       "       '91', '88', '106', '137', '66', '240', '117', '70', '32', '120',\n",
       "       '115', '142', '73', '58', '111', '9', '134', '128', '13', '52',\n",
       "       '102', '55', '76', '109', '139', '107', '528', '2', '53', '92',\n",
       "       '31', '166', '19', '5', '56', '180', '146', '132', '220', '81',\n",
       "       '173', '300', '54', '123', '168', '84', '36', '155', '153', '119',\n",
       "       '63', '178', '130', '149', '175', '165', '600', '113', '112',\n",
       "       '140', '169', '33', '133', '420', '131', '1290', '124', '125',\n",
       "       '154', '136', '247', '145', '190', '182', '151', '135', '152',\n",
       "       '61', '183', '144', '328', '138', '158', '228', '37', '127', '160',\n",
       "       '121', '310', '159', '384', '150', '176', '186', '210', '38',\n",
       "       '198', '225', '263', '241', '205', '174', '164', '250', '200',\n",
       "       '156', '172', '195', '116', '270', '129', '161', '187', '352',\n",
       "       '188', '276', '390', '471', '167', '309', '170', '540', '520',\n",
       "       '221', '249', '570', '438', '157', '291', '162', '193', '211',\n",
       "       '312', '147', '141', '181', '199', '260', '382', '204', '207',\n",
       "       '400', '348', '0', '148', '367', '338', '280', '171', '163', '215',\n",
       "       '345', '3000', '189', '191', '357', '396', '208', '237', '212',\n",
       "       '360', '248', '234', '465', '480', '1050', '320', '302', '510'],\n",
       "      dtype=object)"
      ]
     },
     "execution_count": 17,
     "metadata": {},
     "output_type": "execute_result"
    }
   ],
   "source": [
    "complete_df['runtimeMinutes'].unique()"
   ]
  },
  {
   "cell_type": "code",
   "execution_count": 18,
   "metadata": {},
   "outputs": [
    {
     "data": {
      "text/plain": [
       "runtimeMinutes\n",
       "0         1\n",
       "1       107\n",
       "10      196\n",
       "100     203\n",
       "101      83\n",
       "       ... \n",
       "96      138\n",
       "97      133\n",
       "98      128\n",
       "99       76\n",
       "\\N     6512\n",
       "Name: rating, Length: 255, dtype: int64"
      ]
     },
     "execution_count": 18,
     "metadata": {},
     "output_type": "execute_result"
    }
   ],
   "source": [
    "complete_df.groupby('runtimeMinutes').count()['rating']"
   ]
  },
  {
   "cell_type": "code",
   "execution_count": 19,
   "metadata": {},
   "outputs": [
    {
     "data": {
      "text/plain": [
       "canHaveEpisodes  runtimeMinutes\n",
       "False            0                    1\n",
       "                 1                  101\n",
       "                 10                 189\n",
       "                 100                199\n",
       "                 101                 83\n",
       "                                   ... \n",
       "True             89                   1\n",
       "                 9                    1\n",
       "                 90                  15\n",
       "                 96                   1\n",
       "                 \\N                1061\n",
       "Name: rating, Length: 360, dtype: int64"
      ]
     },
     "execution_count": 19,
     "metadata": {},
     "output_type": "execute_result"
    }
   ],
   "source": [
    "complete_df.groupby(['canHaveEpisodes', 'runtimeMinutes']).count()['rating']"
   ]
  },
  {
   "cell_type": "code",
   "execution_count": 20,
   "metadata": {},
   "outputs": [
    {
     "data": {
      "image/png": "[encoded data removed]",
      "text/plain": [
       "<Figure size 640x480 with 1 Axes>"
      ]
     },
     "metadata": {},
     "output_type": "display_data"
    }
   ],
   "source": [
    "import matplotlib.pyplot as plt\n",
    "\n",
    "plt.plot(\n",
    "    complete_df[['totalImages', 'runtimeMinutes']].groupby(\n",
    "        'runtimeMinutes'\n",
    "        ).mean()\n",
    "    )\n",
    "\n",
    "plt.show()"
   ]
  },
  {
   "cell_type": "code",
   "execution_count": 21,
   "metadata": {},
   "outputs": [
    {
     "data": {
      "image/png": "[encoded data removed]",
      "text/plain": [
       "<Figure size 640x480 with 1 Axes>"
      ]
     },
     "metadata": {},
     "output_type": "display_data"
    }
   ],
   "source": [
    "# there is no correlation between the 2 attributes\n",
    "plt.plot(\n",
    "    complete_df[['totalVideos', 'runtimeMinutes']].groupby(\n",
    "        'runtimeMinutes'\n",
    "        ).mean()\n",
    "    )\n",
    "\n",
    "plt.show()"
   ]
  },
  {
   "cell_type": "code",
   "execution_count": 22,
   "metadata": {},
   "outputs": [
    {
     "data": {
      "text/plain": [
       "array([   1,   22,  347,    5,    7,    9,    0,    6,   11,  719,   93,\n",
       "         41,    4,    3,   46,    2,   71,   30,   10,   15,   12,   62,\n",
       "         20,   16,   34,    8,   39,   50,   27,   52,   74,   21,   17,\n",
       "         18,   49,   13,   28,  220,   19,   23,  101,   67,  114,   40,\n",
       "        117,  243,  107,   35,   31,   86,   14,   43,  147,   25,  106,\n",
       "         51,  124,   42,  119,  219,   26,   92,  319,  163,   53,   24,\n",
       "         81,  504,   45,   48,  159,  118,   44,  109,  121,   84,  378,\n",
       "         69,   85,   36,  187,   56,   33,   58,   29,  148,   57,   63,\n",
       "        140,   32,   76,   64,  325,   61,   82,  100,   89,   77,  174,\n",
       "        133,  179,   95,  158,   98,  105,  113,  324,   75,   54,  264,\n",
       "         37,  875,  182,  231,  197,   83,  249,   70,  125,   73,   99,\n",
       "         80,   38,   47,  171,   87,  189,  169,  320,  353,  152,   55,\n",
       "         59,  440,  108,  477,   60,  235,  188,   66,   72,  207,  524,\n",
       "       1050,   91,  292,  165,   78,  138,  552,  776,  414,   88,  162,\n",
       "        185,  116,   96,  675,  333, 2763,   94,  395,  164,  137,  455,\n",
       "       3504,   68,  112,  180,  102,  104,  248, 2652,  142,  115,  120,\n",
       "         97,  326,  143,  245,  867,  170,  265,  240,  155,  154, 1074,\n",
       "        134,  131,  644,  607, 1087,  176,  130,  842,  722,  149,  156,\n",
       "        184,  732,  173, 3108,  191,  526,   65,  209,   79,  253,  230,\n",
       "        426,  111,  144,  251,  301,   90,  135, 1443,  284, 1043,  151,\n",
       "        168,  334,  351,  300,  391,  246, 2187,  201,  774,  212,  266,\n",
       "        103,  343,  206,  633,  210,  254,  181,  126,  199, 1848,  123,\n",
       "        587,  377,  110,  380,  139,  160,  239, 1461,  128,  166,  122,\n",
       "        247,  322,  236,  218, 1911, 3350,  202,  237,  132,  256,  665,\n",
       "        129,  443, 1080,  281,  425,  672,  141,  383,  898,  403, 1780,\n",
       "        305, 1902,  192,  205,  186,  200,  194,  297,  242,  175,  157,\n",
       "        145,  127,  204,  489, 2526,  386,  511,  208,  255,  549,  177,\n",
       "        530,  615,  394,  136,  233])"
      ]
     },
     "execution_count": 22,
     "metadata": {},
     "output_type": "execute_result"
    }
   ],
   "source": [
    "complete_df['totalImages'].unique()"
   ]
  },
  {
   "cell_type": "code",
   "execution_count": 23,
   "metadata": {},
   "outputs": [
    {
     "data": {
      "text/plain": [
       "array([  0,   2,   1,   3,  16,   5,  51,   4,  32,  22,  37,  11,   7,\n",
       "       135,   6,  18,  24,  23,  26,   8,  10,  45,  29,  36,  14,  35,\n",
       "        12,  33,  15,   9,  34,  21,  48,  19,  27,  88, 117,  20,  42,\n",
       "        25,  30, 258,  44,  91,  13,  62,  17,  28,  60,  31,  39,  83,\n",
       "        74])"
      ]
     },
     "execution_count": 23,
     "metadata": {},
     "output_type": "execute_result"
    }
   ],
   "source": [
    "complete_df['totalVideos'].unique()"
   ]
  },
  {
   "cell_type": "code",
   "execution_count": 24,
   "metadata": {},
   "outputs": [
    {
     "data": {
      "text/plain": [
       "[<matplotlib.lines.Line2D at 0x11f254410>]"
      ]
     },
     "execution_count": 24,
     "metadata": {},
     "output_type": "execute_result"
    },
    {
     "data": {
      "image/png": "[encoded data removed]",
      "text/plain": [
       "<Figure size 640x480 with 1 Axes>"
      ]
     },
     "metadata": {},
     "output_type": "display_data"
    }
   ],
   "source": [
    "plt.plot(complete_df[\n",
    "        ['totalImages', 'totalVideos']\n",
    "    ].groupby('totalVideos').mean())"
   ]
  },
  {
   "cell_type": "code",
   "execution_count": 25,
   "metadata": {},
   "outputs": [
    {
     "data": {
      "text/html": [
       "<div>\n",
       "<style scoped>\n",
       "    .dataframe tbody tr th:only-of-type {\n",
       "        vertical-align: middle;\n",
       "    }\n",
       "\n",
       "    .dataframe tbody tr th {\n",
       "        vertical-align: top;\n",
       "    }\n",
       "\n",
       "    .dataframe thead th {\n",
       "        text-align: right;\n",
       "    }\n",
       "</style>\n",
       "<table border=\"1\" class=\"dataframe\">\n",
       "  <thead>\n",
       "    <tr style=\"text-align: right;\">\n",
       "      <th></th>\n",
       "      <th>originalTitle</th>\n",
       "      <th>rating</th>\n",
       "      <th>startYear</th>\n",
       "      <th>endYear</th>\n",
       "      <th>runtimeMinutes</th>\n",
       "      <th>awardWins</th>\n",
       "      <th>numVotes</th>\n",
       "      <th>worstRating</th>\n",
       "      <th>bestRating</th>\n",
       "      <th>totalImages</th>\n",
       "      <th>...</th>\n",
       "      <th>criticReviewsTotal</th>\n",
       "      <th>titleType</th>\n",
       "      <th>awardNominationsExcludeWins</th>\n",
       "      <th>canHaveEpisodes</th>\n",
       "      <th>isAdult</th>\n",
       "      <th>numRegions</th>\n",
       "      <th>userReviewsTotal</th>\n",
       "      <th>ratingCount</th>\n",
       "      <th>countryOfOrigin</th>\n",
       "      <th>genres</th>\n",
       "    </tr>\n",
       "    <tr>\n",
       "      <th>isRatable</th>\n",
       "      <th></th>\n",
       "      <th></th>\n",
       "      <th></th>\n",
       "      <th></th>\n",
       "      <th></th>\n",
       "      <th></th>\n",
       "      <th></th>\n",
       "      <th></th>\n",
       "      <th></th>\n",
       "      <th></th>\n",
       "      <th></th>\n",
       "      <th></th>\n",
       "      <th></th>\n",
       "      <th></th>\n",
       "      <th></th>\n",
       "      <th></th>\n",
       "      <th></th>\n",
       "      <th></th>\n",
       "      <th></th>\n",
       "      <th></th>\n",
       "      <th></th>\n",
       "    </tr>\n",
       "  </thead>\n",
       "  <tbody>\n",
       "    <tr>\n",
       "      <th>True</th>\n",
       "      <td>21909</td>\n",
       "      <td>21909</td>\n",
       "      <td>21909</td>\n",
       "      <td>21909</td>\n",
       "      <td>21909</td>\n",
       "      <td>18404</td>\n",
       "      <td>21909</td>\n",
       "      <td>21909</td>\n",
       "      <td>21909</td>\n",
       "      <td>21909</td>\n",
       "      <td>...</td>\n",
       "      <td>21909</td>\n",
       "      <td>21909</td>\n",
       "      <td>21909</td>\n",
       "      <td>21909</td>\n",
       "      <td>21909</td>\n",
       "      <td>21909</td>\n",
       "      <td>21909</td>\n",
       "      <td>21909</td>\n",
       "      <td>21909</td>\n",
       "      <td>21909</td>\n",
       "    </tr>\n",
       "  </tbody>\n",
       "</table>\n",
       "<p>1 rows × 22 columns</p>\n",
       "</div>"
      ],
      "text/plain": [
       "           originalTitle  rating  startYear  endYear  runtimeMinutes  \\\n",
       "isRatable                                                              \n",
       "True               21909   21909      21909    21909           21909   \n",
       "\n",
       "           awardWins  numVotes  worstRating  bestRating  totalImages  ...  \\\n",
       "isRatable                                                             ...   \n",
       "True           18404     21909        21909       21909        21909  ...   \n",
       "\n",
       "           criticReviewsTotal  titleType  awardNominationsExcludeWins  \\\n",
       "isRatable                                                               \n",
       "True                    21909      21909                        21909   \n",
       "\n",
       "           canHaveEpisodes  isAdult  numRegions  userReviewsTotal  \\\n",
       "isRatable                                                           \n",
       "True                 21909    21909       21909             21909   \n",
       "\n",
       "           ratingCount  countryOfOrigin  genres  \n",
       "isRatable                                        \n",
       "True             21909            21909   21909  \n",
       "\n",
       "[1 rows x 22 columns]"
      ]
     },
     "execution_count": 25,
     "metadata": {},
     "output_type": "execute_result"
    }
   ],
   "source": [
    "complete_df.groupby('isRatable').count()"
   ]
  },
  {
   "cell_type": "code",
   "execution_count": 26,
   "metadata": {},
   "outputs": [
    {
     "data": {
      "text/plain": [
       "array([ 0,  1,  3,  8,  2,  4,  5,  6, 10, 12,  7,  9])"
      ]
     },
     "execution_count": 26,
     "metadata": {},
     "output_type": "execute_result"
    }
   ],
   "source": [
    "# the nans in the awardWins column are not correlated to\n",
    "# awardNominationsExcludeWIns attribute\n",
    "complete_df.loc[complete_df['awardWins'].isna()]['awardNominationsExcludeWins'].unique()"
   ]
  },
  {
   "cell_type": "code",
   "execution_count": 27,
   "metadata": {},
   "outputs": [
    {
     "data": {
      "text/plain": [
       "array([  0,   1,   3,  10,   5,   2,   4,  22,   8,  12,   6,  27,  16,\n",
       "         7,  30,  13,  17,  29,   9,  19, 124, 197,  15,  36,  18,  11,\n",
       "        41,  43,  14,  34,  95, 115,  20,  61,  28,  21,  73,  23,  24,\n",
       "        74,  64,  51,  38,  31,  82,  71,  58,  57, 120, 107,  59,  37,\n",
       "        42,  26, 117,  98,  25,  70,  40, 155,  32,  56, 256])"
      ]
     },
     "execution_count": 27,
     "metadata": {},
     "output_type": "execute_result"
    }
   ],
   "source": [
    "complete_df['awardNominationsExcludeWins'].unique()"
   ]
  },
  {
   "cell_type": "code",
   "execution_count": 28,
   "metadata": {},
   "outputs": [
    {
     "data": {
      "text/plain": [
       "awardWins\n",
       "0.0      15992\n",
       "1.0       1115\n",
       "2.0        454\n",
       "3.0        237\n",
       "4.0        151\n",
       "5.0        103\n",
       "6.0         51\n",
       "7.0         51\n",
       "8.0         46\n",
       "9.0         27\n",
       "10.0        23\n",
       "11.0        18\n",
       "12.0        21\n",
       "13.0        11\n",
       "14.0        11\n",
       "15.0         7\n",
       "16.0         8\n",
       "17.0         7\n",
       "18.0         3\n",
       "19.0         6\n",
       "20.0         6\n",
       "21.0         2\n",
       "22.0         2\n",
       "23.0         6\n",
       "24.0         5\n",
       "25.0         2\n",
       "26.0         5\n",
       "28.0         4\n",
       "29.0         1\n",
       "30.0         3\n",
       "31.0         2\n",
       "33.0         1\n",
       "34.0         1\n",
       "35.0         1\n",
       "36.0         2\n",
       "37.0         2\n",
       "38.0         1\n",
       "39.0         1\n",
       "43.0         1\n",
       "44.0         1\n",
       "47.0         1\n",
       "49.0         2\n",
       "50.0         1\n",
       "57.0         1\n",
       "62.0         1\n",
       "75.0         1\n",
       "76.0         1\n",
       "83.0         2\n",
       "109.0        1\n",
       "145.0        1\n",
       "254.0        1\n",
       "Name: originalTitle, dtype: int64"
      ]
     },
     "execution_count": 28,
     "metadata": {},
     "output_type": "execute_result"
    }
   ],
   "source": [
    "complete_df.groupby('awardWins').count()['originalTitle']"
   ]
  },
  {
   "cell_type": "code",
   "execution_count": 29,
   "metadata": {},
   "outputs": [
    {
     "data": {
      "text/html": [
       "<div>\n",
       "<style scoped>\n",
       "    .dataframe tbody tr th:only-of-type {\n",
       "        vertical-align: middle;\n",
       "    }\n",
       "\n",
       "    .dataframe tbody tr th {\n",
       "        vertical-align: top;\n",
       "    }\n",
       "\n",
       "    .dataframe thead th {\n",
       "        text-align: right;\n",
       "    }\n",
       "</style>\n",
       "<table border=\"1\" class=\"dataframe\">\n",
       "  <thead>\n",
       "    <tr style=\"text-align: right;\">\n",
       "      <th></th>\n",
       "      <th>originalTitle</th>\n",
       "      <th>rating</th>\n",
       "      <th>startYear</th>\n",
       "      <th>endYear</th>\n",
       "      <th>runtimeMinutes</th>\n",
       "      <th>awardWins</th>\n",
       "      <th>numVotes</th>\n",
       "      <th>worstRating</th>\n",
       "      <th>bestRating</th>\n",
       "      <th>totalImages</th>\n",
       "      <th>...</th>\n",
       "      <th>titleType</th>\n",
       "      <th>awardNominationsExcludeWins</th>\n",
       "      <th>canHaveEpisodes</th>\n",
       "      <th>isRatable</th>\n",
       "      <th>isAdult</th>\n",
       "      <th>numRegions</th>\n",
       "      <th>userReviewsTotal</th>\n",
       "      <th>ratingCount</th>\n",
       "      <th>countryOfOrigin</th>\n",
       "      <th>genres</th>\n",
       "    </tr>\n",
       "  </thead>\n",
       "  <tbody>\n",
       "    <tr>\n",
       "      <th>18869</th>\n",
       "      <td>Nomadland</td>\n",
       "      <td>8</td>\n",
       "      <td>2020</td>\n",
       "      <td>\\N</td>\n",
       "      <td>107</td>\n",
       "      <td>254.0</td>\n",
       "      <td>187339</td>\n",
       "      <td>1</td>\n",
       "      <td>10</td>\n",
       "      <td>511</td>\n",
       "      <td>...</td>\n",
       "      <td>movie</td>\n",
       "      <td>155</td>\n",
       "      <td>False</td>\n",
       "      <td>True</td>\n",
       "      <td>0</td>\n",
       "      <td>58</td>\n",
       "      <td>1167</td>\n",
       "      <td>187457</td>\n",
       "      <td>['US']</td>\n",
       "      <td>Drama</td>\n",
       "    </tr>\n",
       "  </tbody>\n",
       "</table>\n",
       "<p>1 rows × 23 columns</p>\n",
       "</div>"
      ],
      "text/plain": [
       "      originalTitle  rating  startYear endYear runtimeMinutes  awardWins  \\\n",
       "18869     Nomadland       8       2020      \\N            107      254.0   \n",
       "\n",
       "       numVotes  worstRating  bestRating  totalImages  ...  titleType  \\\n",
       "18869    187339            1          10          511  ...      movie   \n",
       "\n",
       "       awardNominationsExcludeWins  canHaveEpisodes isRatable  isAdult  \\\n",
       "18869                          155            False      True        0   \n",
       "\n",
       "       numRegions  userReviewsTotal  ratingCount  countryOfOrigin  genres  \n",
       "18869          58              1167       187457           ['US']   Drama  \n",
       "\n",
       "[1 rows x 23 columns]"
      ]
     },
     "execution_count": 29,
     "metadata": {},
     "output_type": "execute_result"
    }
   ],
   "source": [
    "complete_df.loc[complete_df['awardWins'] == 254]"
   ]
  },
  {
   "cell_type": "code",
   "execution_count": 30,
   "metadata": {},
   "outputs": [
    {
     "data": {
      "text/plain": [
       "array([   0,    1,  452,    4,    2,    5,   41,  155,   11,    8,   13,\n",
       "         15,    9,   25,   40,  462,   20,    3,    7,   37,   10,   12,\n",
       "        250,   24,   19,    6,   68,   23,   57,   16,   50,   31,   29,\n",
       "         21,   18,   85,   58,   22,   70,  114,  128,   14,  137,   81,\n",
       "         42,   53,  333,   54,  104,  359,   56,  694,  100,   91,   28,\n",
       "        216,   26,   30,  122, 1418,   39,  127,  106,   27,   61,   67,\n",
       "        112,   34,   75,  145, 1100,   49,   17,  190,   79,  502,  371,\n",
       "        246,   44,  526,  574,  328, 1014,   55,  222,  113,   32,   69,\n",
       "        103,  813,  228,   93,   87,   52,   33, 1821,  159,   35,   94,\n",
       "       1139,  186,  278,   43,   63,  209,  311,   78,   83,   38,   36,\n",
       "         66,  129,  120,   62,  177,  279,   47,  208, 1135,  181,  416,\n",
       "        107, 1224,   96,  618,   45,  180,   76,  149,  961,  109,  324,\n",
       "         86,  207,  170,   72,   88,  175,  169,  105,  263,  148,   59,\n",
       "        372,  307,   51,  221,  351,  116,  192,  154,  516,   46,  747,\n",
       "         48,  162,   64,  660,   90,  397, 5727,  244,  101,   71,  275,\n",
       "        387,  189, 1068,  110,   60,  348,  388,  381,  156,  285,  518,\n",
       "       1131,  470,  430,  776,  119,  102,  124,  143,  245,  370,  191,\n",
       "        290, 1021, 1006,  201,  136,   80,  167,  151,  118,  135,  144,\n",
       "       1033,  256,  665,  134, 1604,   89,  595,  158,  399,   73,  258,\n",
       "        306,  217,  185,  556,   84,  373,  610,  153,  142,   97,  126,\n",
       "        643,  341,  227,  203,  184,  352,  634, 1121,  205,  759,  108,\n",
       "        242,  188,  286,  252,  308,  171,  296, 1157,  300,  391,  130,\n",
       "        165,  160,  598, 1522,   74, 1013,  356,  321,   77,  404,  164,\n",
       "        972,  426,  814,  593,  295, 1663,  206,  121,  115,  400, 1167,\n",
       "        267,  111,  198,  182,  727,  340,  147,  214,  590, 2423,  146,\n",
       "         98,  193,  338,  293,  271,  329,  195,  555,  667])"
      ]
     },
     "execution_count": 30,
     "metadata": {},
     "output_type": "execute_result"
    }
   ],
   "source": [
    "complete_df['userReviewsTotal'].unique()"
   ]
  },
  {
   "cell_type": "code",
   "execution_count": 31,
   "metadata": {},
   "outputs": [
    {
     "data": {
      "text/plain": [
       "array([  1,   0,   4,   2,   6,  57,   3,   5,  22,  15,  28,  10,  17,\n",
       "        11, 118,  21,  14,  16,  13,   9,   8,  38,  20,  35,  12,   7,\n",
       "        56,  25, 134,  26,  42, 306,  18,  58,  19,  27,  70,  41, 146,\n",
       "        69,  44,  32,  51, 198,  84,  30, 177, 106, 222, 180, 302, 176,\n",
       "        54,  47,  24,  46,  33,  34, 123,  62,  63,  37,  59,  29, 439,\n",
       "        86, 533,  74,  79,  96,  23, 164,  67, 115,  31, 107,  50, 104,\n",
       "        53, 274,  36,  92,  71,  40,  55, 418,  90, 249, 101,  72, 184,\n",
       "       162, 230,  39, 114,  66, 111, 237,  52, 345,  61, 105,  78,  43,\n",
       "        65, 195, 122, 161, 110,  49, 171, 120,  45,  95, 102, 299,  64,\n",
       "        88,  91, 158,  80,  89,  83, 136, 147, 254, 240,  77, 331, 238,\n",
       "        68,  94, 126, 233, 149, 148, 368, 168,  99,  82, 127, 128, 133,\n",
       "        48, 144, 229,  85, 125, 108, 213, 153, 113,  75, 143,  87, 157,\n",
       "        98, 316, 131, 567,  93, 269,  60,  73, 137, 491,  81, 212,  76,\n",
       "       385, 303, 165, 223, 175, 239, 209, 140, 103])"
      ]
     },
     "execution_count": 31,
     "metadata": {},
     "output_type": "execute_result"
    }
   ],
   "source": [
    "complete_df['criticReviewsTotal'].unique()"
   ]
  },
  {
   "cell_type": "code",
   "execution_count": 32,
   "metadata": {},
   "outputs": [
    {
     "data": {
      "text/plain": [
       "[]"
      ]
     },
     "execution_count": 32,
     "metadata": {},
     "output_type": "execute_result"
    }
   ],
   "source": [
    "# has no missing values\n",
    "[x for x in complete_df['ratingCount'].unique() if not isinstance(x, np.int64)]\n",
    "# complete_df['ratingCount'].unique()"
   ]
  },
  {
   "cell_type": "code",
   "execution_count": 33,
   "metadata": {},
   "outputs": [
    {
     "data": {
      "text/plain": [
       "16054"
      ]
     },
     "execution_count": 33,
     "metadata": {},
     "output_type": "execute_result"
    }
   ],
   "source": [
    "len(train_df['originalTitle'].unique())"
   ]
  },
  {
   "cell_type": "code",
   "execution_count": 34,
   "metadata": {},
   "outputs": [
    {
     "data": {
      "text/plain": [
       "array(['Episode #1.2', 'Episode #1.3', 'Pilot', 'Resurrection',\n",
       "       'Once Upon a Time', 'The Uninvited', 'Episode #1.4',\n",
       "       'Killing Time', 'Open House', 'Punch', 'Episode #1.1', 'Sex',\n",
       "       'The Return', 'Episode #1.6', 'Duo', 'Happy', 'Animal Hospital',\n",
       "       'No Means No', 'Faith', 'Episode #1.5', 'Episode #1.9',\n",
       "       'Road Kill', 'On purge bébé', 'Episode #1.8', 'The Lady in Red',\n",
       "       'Strange Bedfellows', 'Episode #1.11', 'Crisis', 'Episode #16.4',\n",
       "       'Episode #1.126', 'The Party', 'Episode #1.17', 'Episode #3.8',\n",
       "       'Alone', 'Episode #4.23', 'Forsaking All Others', 'Beyond Repair',\n",
       "       'Utopia', 'Girl Talk', 'Episode #3.4', 'Episode #11.11',\n",
       "       'The Ring', 'Baby Love', 'Golem', 'Episode #2.2', 'Hide and Seek',\n",
       "       'Episode #1.13', 'Episode #2.1', 'Dangerous Intruder', 'Abandoned',\n",
       "       'Episode #4.8', 'Secrets', 'Choices', 'Episode #1.14',\n",
       "       'Episode #5.8', 'Image', 'Paradise', 'Deadline',\n",
       "       'Anne of Green Gables', 'My Old Kentucky Home', 'The Key',\n",
       "       'Blackmail', 'Episode #6.9', 'Episode #1.7', 'Panic',\n",
       "       'Episode #1.21', 'Episode #1.12', 'The Prodigal', 'Best Friends',\n",
       "       'Tough Love', 'Bonfire', 'Episode #2.8', 'Found', 'Red Wind',\n",
       "       'Episode #2.3', 'The Gift', 'Angel', 'Episode #1.15',\n",
       "       'Second Time Around', 'Episode #2.4', 'Sauce for the Goose',\n",
       "       'Bebek', 'Hoop Dreams', 'Legacy', \"Oil's Well That Ends Well\",\n",
       "       'The Devil You Know', 'Slave', 'Somebody to Love', 'Soliloquy',\n",
       "       'Crook & Chase', 'Fire', 'Daag', 'Episode #1.10', 'The Hunt',\n",
       "       'Darkness Rising', 'Episode #1.20', 'The Show', 'Never Too Old',\n",
       "       'The Killing Ground', 'The Colonel', 'One of Our Own',\n",
       "       'Play with Me', 'Happy Families', 'The Second Time Around',\n",
       "       'The Hold Out', 'Episode #2.7', 'The Cat and the Fiddle',\n",
       "       'The Boxer', 'Special', 'The Cruise', 'The Witness', 'The Game',\n",
       "       'Breakout', 'Rain', 'Skin on Skin', 'Cargo', 'One of Us',\n",
       "       'Episode #4.3', 'Take Me to Your Leader', 'The Box', 'Hopeless',\n",
       "       'The Winner', 'Home', 'Dance', 'Thicker Than Water', 'Zero',\n",
       "       'The Wedding', 'Body Shots', 'Sex Games', 'Vengeance', 'Hit Men',\n",
       "       'Double Date', 'Where Are They Now?', 'One Word', 'Episode #5.34',\n",
       "       'Episode #4.9', 'Stand and Deliver', 'Running Scared', 'Baggage',\n",
       "       'To Have and to Hold', 'The Getaway', 'Suspects', 'Life', 'Rose',\n",
       "       'Constantine: City of Demons', 'Episode #3.2', 'Dirty Tricks',\n",
       "       'Straight', 'The Outcast', 'Freak City', 'Sporting Chance',\n",
       "       'The Little Mermaid', 'Drifting', 'Episode #4.4', 'Heat', 'Amal',\n",
       "       'Blind Date', 'Break It Down', 'Loose Lips Sink Relationships',\n",
       "       'Fiskerlivets farer', 'For Better or Worse', 'Épisode 1',\n",
       "       'Episode 9', 'Runaway', 'Mind Games', 'Part Two', 'Avsnitt 8',\n",
       "       'Happily Ever After', 'Episode #3.6', 'Episode #1.36', 'Lisa',\n",
       "       'The List', 'Quarantine', 'It Happened One Night', 'Aladdin',\n",
       "       'Mine', 'An Eye for an Eye', 'Routine', 'Plan B', 'Anna Karenina',\n",
       "       'Unfinished Business', 'School Girl', 'Moving On',\n",
       "       'The Eyes Have It', 'Homecoming', 'Closure', 'Part 3', 'Stakeout',\n",
       "       'Let There Be Light', 'Cien', 'Turandot', 'Great Barrier Reef',\n",
       "       'Episode #3.5', 'Return to Sender', 'David', 'Episode #4.2'],\n",
       "      dtype=object)"
      ]
     },
     "execution_count": 34,
     "metadata": {},
     "output_type": "execute_result"
    }
   ],
   "source": [
    "train_df[train_df['originalTitle'].duplicated()]['originalTitle'].unique()"
   ]
  },
  {
   "cell_type": "code",
   "execution_count": 35,
   "metadata": {},
   "outputs": [
    {
     "data": {
      "text/html": [
       "<div>\n",
       "<style scoped>\n",
       "    .dataframe tbody tr th:only-of-type {\n",
       "        vertical-align: middle;\n",
       "    }\n",
       "\n",
       "    .dataframe tbody tr th {\n",
       "        vertical-align: top;\n",
       "    }\n",
       "\n",
       "    .dataframe thead th {\n",
       "        text-align: right;\n",
       "    }\n",
       "</style>\n",
       "<table border=\"1\" class=\"dataframe\">\n",
       "  <thead>\n",
       "    <tr style=\"text-align: right;\">\n",
       "      <th></th>\n",
       "      <th>originalTitle</th>\n",
       "      <th>rating</th>\n",
       "      <th>startYear</th>\n",
       "      <th>endYear</th>\n",
       "      <th>runtimeMinutes</th>\n",
       "      <th>awardWins</th>\n",
       "      <th>numVotes</th>\n",
       "      <th>worstRating</th>\n",
       "      <th>bestRating</th>\n",
       "      <th>totalImages</th>\n",
       "      <th>...</th>\n",
       "      <th>titleType</th>\n",
       "      <th>awardNominationsExcludeWins</th>\n",
       "      <th>canHaveEpisodes</th>\n",
       "      <th>isRatable</th>\n",
       "      <th>isAdult</th>\n",
       "      <th>numRegions</th>\n",
       "      <th>userReviewsTotal</th>\n",
       "      <th>ratingCount</th>\n",
       "      <th>countryOfOrigin</th>\n",
       "      <th>genres</th>\n",
       "    </tr>\n",
       "  </thead>\n",
       "  <tbody>\n",
       "  </tbody>\n",
       "</table>\n",
       "<p>0 rows × 23 columns</p>\n",
       "</div>"
      ],
      "text/plain": [
       "Empty DataFrame\n",
       "Columns: [originalTitle, rating, startYear, endYear, runtimeMinutes, awardWins, numVotes, worstRating, bestRating, totalImages, totalVideos, totalCredits, criticReviewsTotal, titleType, awardNominationsExcludeWins, canHaveEpisodes, isRatable, isAdult, numRegions, userReviewsTotal, ratingCount, countryOfOrigin, genres]\n",
       "Index: []\n",
       "\n",
       "[0 rows x 23 columns]"
      ]
     },
     "execution_count": 35,
     "metadata": {},
     "output_type": "execute_result"
    }
   ],
   "source": [
    "train_df[train_df.duplicated()]"
   ]
  },
  {
   "cell_type": "code",
   "execution_count": 36,
   "metadata": {},
   "outputs": [
    {
     "data": {
      "text/plain": [
       "array(['tvEpisode', 'videoGame', 'movie', 'tvSeries', 'video',\n",
       "       'tvMiniSeries', 'short', 'tvMovie', 'tvSpecial', 'tvShort'],\n",
       "      dtype=object)"
      ]
     },
     "execution_count": 36,
     "metadata": {},
     "output_type": "execute_result"
    }
   ],
   "source": [
    "train_df['titleType'].unique()"
   ]
  },
  {
   "cell_type": "code",
   "execution_count": 37,
   "metadata": {},
   "outputs": [
    {
     "data": {
      "text/plain": [
       "array(['tvSeries', 'tvMiniSeries'], dtype=object)"
      ]
     },
     "execution_count": 37,
     "metadata": {},
     "output_type": "execute_result"
    }
   ],
   "source": [
    "train_df.loc[train_df['canHaveEpisodes']]['titleType'].unique()"
   ]
  },
  {
   "cell_type": "code",
   "execution_count": 38,
   "metadata": {},
   "outputs": [
    {
     "data": {
      "text/plain": [
       "titleType\n",
       "movie           5535\n",
       "short           2474\n",
       "tvEpisode       4698\n",
       "tvMiniSeries     224\n",
       "tvMovie          868\n",
       "tvSeries        1375\n",
       "tvShort           40\n",
       "tvSpecial        166\n",
       "video            792\n",
       "videoGame        259\n",
       "Name: originalTitle, dtype: int64"
      ]
     },
     "execution_count": 38,
     "metadata": {},
     "output_type": "execute_result"
    }
   ],
   "source": [
    "train_df.groupby('titleType').count()['originalTitle']"
   ]
  },
  {
   "cell_type": "code",
   "execution_count": 39,
   "metadata": {},
   "outputs": [
    {
     "data": {
      "text/plain": [
       "array([ 1, 32, 14,  3,  5,  6, 31,  2,  7,  4,  9, 10, 16, 15, 12, 19, 11,\n",
       "       24,  8, 20, 41, 17, 33, 21, 13, 22, 28, 27, 44, 52, 36, 30, 26, 47,\n",
       "       25, 69, 18, 56, 29, 49, 35, 43, 53, 23, 39, 46, 55, 54, 34, 48, 60,\n",
       "       57, 42, 45, 37, 40, 51, 58, 38, 62])"
      ]
     },
     "execution_count": 39,
     "metadata": {},
     "output_type": "execute_result"
    }
   ],
   "source": [
    "train_df['numRegions'].unique()"
   ]
  },
  {
   "cell_type": "code",
   "execution_count": 40,
   "metadata": {},
   "outputs": [
    {
     "data": {
      "text/plain": [
       "array([ 781,   11,   38, ..., 7099, 2560, 3012])"
      ]
     },
     "execution_count": 40,
     "metadata": {},
     "output_type": "execute_result"
    }
   ],
   "source": [
    "train_df['ratingCount'].unique()"
   ]
  },
  {
   "cell_type": "code",
   "execution_count": 41,
   "metadata": {},
   "outputs": [
    {
     "data": {
      "text/plain": [
       "<Axes: xlabel='rating'>"
      ]
     },
     "execution_count": 41,
     "metadata": {},
     "output_type": "execute_result"
    },
    {
     "data": {
      "image/png": "[encoded data removed]",
      "text/plain": [
       "<Figure size 640x480 with 1 Axes>"
      ]
     },
     "metadata": {},
     "output_type": "display_data"
    }
   ],
   "source": [
    "train_df.groupby('rating')['ratingCount'].mean().plot()"
   ]
  },
  {
   "cell_type": "code",
   "execution_count": 42,
   "metadata": {},
   "outputs": [
    {
     "data": {
      "text/plain": [
       "0         [US]\n",
       "1        [XWG]\n",
       "2         [RU]\n",
       "3         [MX]\n",
       "4         [KR]\n",
       "         ...  \n",
       "16426     [FR]\n",
       "16427     [IN]\n",
       "16428     [IN]\n",
       "16429     [IT]\n",
       "16430     [IN]\n",
       "Name: countryOfOrigin, Length: 16431, dtype: object"
      ]
     },
     "execution_count": 42,
     "metadata": {},
     "output_type": "execute_result"
    }
   ],
   "source": [
    "import ast\n",
    "\n",
    "# converts from \"[<country_list>]\" -> [<country_list>]\n",
    "train_df['countryOfOrigin'] = train_df['countryOfOrigin'].apply(ast.literal_eval)\n",
    "train_df['countryOfOrigin']"
   ]
  },
  {
   "cell_type": "code",
   "execution_count": 43,
   "metadata": {},
   "outputs": [
    {
     "data": {
      "text/plain": [
       "14                       [FR, MK, SI]\n",
       "39                           [CZ, SK]\n",
       "52                           [CY, DE]\n",
       "55                           [IT, FR]\n",
       "56                           [CA, US]\n",
       "                     ...             \n",
       "16363                        [FR, BR]\n",
       "16390                        [SG, MY]\n",
       "16404                        [IN, PK]\n",
       "16405    [US, KR, CN, FR, JP, CA, IT]\n",
       "16416                        [AR, MX]\n",
       "Name: countryOfOrigin, Length: 1146, dtype: object"
      ]
     },
     "execution_count": 43,
     "metadata": {},
     "output_type": "execute_result"
    }
   ],
   "source": [
    "train_df[train_df['countryOfOrigin'].apply(lambda x: len(x) > 1)] ['countryOfOrigin']"
   ]
  },
  {
   "cell_type": "code",
   "execution_count": 44,
   "metadata": {},
   "outputs": [
    {
     "data": {
      "text/plain": [
       "array(['Action,Adventure,Animation', 'Action', 'Comedy', 'Reality-TV',\n",
       "       'Comedy,Drama,Romance', 'Documentary,Short', 'Drama,Romance',\n",
       "       'Animation,Short', 'Drama', 'Sport', 'Family', 'Comedy,Romance',\n",
       "       'Short', 'Comedy,Short', 'Crime,Drama,Mystery', 'Drama,Western',\n",
       "       'Crime', 'Drama,History,War', 'Western', 'Drama,Mystery', '\\\\N',\n",
       "       'Crime,Drama,Romance', 'Crime,Drama', 'Adult,Short',\n",
       "       'Family,Game-Show', 'Talk-Show', 'Adventure,Comedy,Short',\n",
       "       'Action,Crime', 'Action,Adventure,Crime', 'Comedy,Family',\n",
       "       'Game-Show', 'Crime,Thriller', 'Adult', 'Drama,Sci-Fi,Thriller',\n",
       "       'Documentary', 'Drama,Thriller', 'Drama,Short',\n",
       "       'Reality-TV,Romance', 'Action,Adventure,Family',\n",
       "       'Fantasy,Horror,Short', 'Family,Music', 'Drama,Fantasy',\n",
       "       'Comedy,Drama,Mystery', 'Adventure,Animation,Comedy',\n",
       "       'Action,Crime,Documentary', 'Comedy,Reality-TV',\n",
       "       'Family,Fantasy,Music', 'Comedy,Drama,Thriller',\n",
       "       'Comedy,Drama,Short', 'Horror,Thriller', 'Action,Short',\n",
       "       'Adventure,Documentary', 'Animation,Family', 'Comedy,Talk-Show',\n",
       "       'Thriller', 'Comedy,Romance,Short', 'Animation,Comedy',\n",
       "       'Drama,War', 'Comedy,Drama', 'Action,Horror,Sci-Fi',\n",
       "       'Comedy,Crime,Drama', 'Adult,Drama', 'Family,Fantasy,Short',\n",
       "       'Documentary,Family,History', 'Comedy,Music,Short',\n",
       "       'Action,Crime,Drama', 'Action,Comedy,Fantasy',\n",
       "       'Drama,Mystery,Thriller', 'Documentary,Music', 'Drama,History',\n",
       "       'Action,Comedy,Drama', 'Music,Short', 'Action,Comedy,Sci-Fi',\n",
       "       'Action,Animation,Comedy', 'Drama,History,Short',\n",
       "       'Action,Thriller', 'Adventure,Comedy,Drama', 'Comedy,Sci-Fi',\n",
       "       'Action,Comedy,Crime', 'Animation,Comedy,Family',\n",
       "       'Documentary,Short,Sport', 'Crime,Documentary',\n",
       "       'Adventure,Crime,Drama', 'Adventure,Drama,Fantasy',\n",
       "       'Drama,Horror,Sci-Fi', 'Animation,Romance,Short',\n",
       "       'Comedy,Musical,Sport', 'Action,Comedy,Short',\n",
       "       'Comedy,Musical,Romance', 'Drama,Sport', 'Drama,Fantasy,Mystery',\n",
       "       'Biography,Documentary', 'Crime,Drama,Film-Noir',\n",
       "       'Comedy,Game-Show', 'Drama,Family,Musical', 'Romance',\n",
       "       'Horror,Short', 'Horror', 'Action,Adventure,Drama',\n",
       "       'Action,Adventure,Sci-Fi', 'Biography,Documentary,Music',\n",
       "       'Comedy,Horror', 'Drama,Family,Fantasy', 'Action,Drama,Romance',\n",
       "       'Adult,Comedy', 'Biography,Documentary,Family',\n",
       "       'Action,Animation,Sci-Fi', 'Animation,Comedy,Short',\n",
       "       'Comedy,Thriller', 'Comedy,Fantasy,Short',\n",
       "       'Animation,Comedy,Drama', 'Game-Show,Reality-TV',\n",
       "       'Drama,Film-Noir,Music', 'Family,Fantasy', 'Documentary,Sport',\n",
       "       'Drama,Family', 'Horror,Sci-Fi,Thriller',\n",
       "       'Biography,Documentary,Fantasy', 'Comedy,Family,Music',\n",
       "       'Drama,Fantasy,Horror', 'Drama,Musical,Romance', 'Adventure',\n",
       "       'Crime,Drama,Thriller', 'Comedy,Documentary', 'Comedy,Fantasy',\n",
       "       'Comedy,Crime', 'Animation,Sci-Fi,Short', 'Comedy,Family,Fantasy',\n",
       "       'Drama,Mystery,Romance', 'Adventure,Comedy,Crime',\n",
       "       'Action,Animation,Crime', 'Action,Drama', 'Comedy,Drama,Sci-Fi',\n",
       "       'Drama,Horror,Romance', 'Action,Adventure,Western',\n",
       "       'Adventure,Comedy,Fantasy', 'Documentary,Drama',\n",
       "       'Action,Adventure,Comedy', 'Music', 'Action,Family',\n",
       "       'Action,Sci-Fi', 'Action,Adventure,Horror', 'Comedy,Drama,Musical',\n",
       "       'Music,Talk-Show', 'Biography,Documentary,News',\n",
       "       'Adult,Drama,Romance', 'Fantasy,Horror,Thriller', 'Sci-Fi',\n",
       "       'Drama,Short,Sport', 'Drama,Family,Thriller',\n",
       "       'Comedy,Musical,Short', 'Animation', 'Comedy,Music,Talk-Show',\n",
       "       'Adult,Drama,Fantasy', 'Comedy,Fantasy,Sci-Fi',\n",
       "       'Comedy,Drama,Horror', 'Biography,Documentary,History',\n",
       "       'Sci-Fi,Short', 'Action,Reality-TV', 'Adventure,Drama,Family',\n",
       "       'Mystery', 'Animation,Comedy,Music', 'Musical',\n",
       "       'Documentary,Horror,War', 'Comedy,Family,Romance',\n",
       "       'Action,Drama,Short', 'Drama,Music', 'Adventure,Animation,Sci-Fi',\n",
       "       'Romance,Sci-Fi', 'History', 'Comedy,Sport', 'Biography,Drama,War',\n",
       "       'Biography,Documentary,Sport', 'Short,Sport', 'Crime,Short',\n",
       "       'Drama,Family,Short', 'Drama,Mystery,Sci-Fi', 'Drama,Sci-Fi',\n",
       "       'Crime,Drama,Horror', 'Animation,Family,Short', 'Short,Thriller',\n",
       "       'Crime,Mystery,Sci-Fi', 'Drama,Fantasy,Romance',\n",
       "       'Comedy,Documentary,Drama', 'Drama,Family,Romance',\n",
       "       'Action,Comedy', 'Adventure,Drama', 'Crime,Horror,Mystery',\n",
       "       'Crime,Mystery,Thriller', 'Action,Adventure,Thriller',\n",
       "       'Documentary,History,War', 'Action,Animation,Fantasy',\n",
       "       'Comedy,Music,Musical', 'Sci-Fi,Thriller', 'Short,War',\n",
       "       'Musical,Short', 'Comedy,Drama,Family', 'Action,Animation,Drama',\n",
       "       'Drama,Fantasy,Sci-Fi', 'Comedy,News,Talk-Show',\n",
       "       'Biography,Family,Reality-TV', 'Documentary,History',\n",
       "       'Documentary,Drama,History', 'Adult,Crime', 'News,Short,Sport',\n",
       "       'Action,Sport', 'Drama,Music,Western', 'Documentary,Drama,Fantasy',\n",
       "       'Animation,Documentary,Family', 'News,Talk-Show',\n",
       "       'Horror,Romance,Thriller', 'Animation,Sci-Fi', 'Adventure,Mystery',\n",
       "       'Horror,Mystery,Thriller', 'Drama,Horror,Mystery',\n",
       "       'Adventure,Drama,Romance', 'Comedy,Music',\n",
       "       'Action,Adventure,Fantasy', 'Animation,Musical,Short',\n",
       "       'Comedy,Crime,Music', 'Adventure,Animation,Family',\n",
       "       'Biography,History', 'Fantasy,Horror,Mystery',\n",
       "       'Drama,Short,Thriller', 'Comedy,Game-Show,Sport',\n",
       "       'Crime,Drama,Game-Show', 'Comedy,Documentary,Short',\n",
       "       'Crime,Horror,Sci-Fi', 'Drama,Horror', 'Romance,Western',\n",
       "       'Action,Crime,Romance', 'Action,Comedy,Family', 'Fantasy,Short',\n",
       "       'Adventure,Drama,Western', 'Action,Drama,Thriller',\n",
       "       'Adventure,Western', 'Family,Short', 'Comedy,Family,Musical',\n",
       "       'Action,Crime,Thriller', 'Crime,Mystery',\n",
       "       'Animation,Comedy,Documentary', 'Drama,Music,Romance',\n",
       "       'Drama,Family,Music', 'Drama,Romance,Thriller',\n",
       "       'Adventure,Animation,Drama', 'Animation,Family,Music',\n",
       "       'Animation,Comedy,Sport', 'Comedy,Drama,Sport',\n",
       "       'Adventure,Drama,History', 'Family,Reality-TV',\n",
       "       'Drama,Horror,Thriller', 'Animation,Fantasy,Short', 'Comedy,War',\n",
       "       'Comedy,Crime,Romance', 'Biography,Drama', 'Action,Fantasy,Sci-Fi',\n",
       "       'Action,Drama,Horror', 'Drama,History,Thriller',\n",
       "       'Adventure,Documentary,Reality-TV', 'Mystery,Romance',\n",
       "       'Biography,Drama,Music', 'Drama,Music,Sci-Fi',\n",
       "       'Biography,Drama,History', 'Comedy,Horror,Short',\n",
       "       'Horror,Reality-TV', 'Comedy,Documentary,War',\n",
       "       'Adventure,Documentary,Drama', 'Fantasy,Music',\n",
       "       'Comedy,Music,Romance', 'Adventure,Family,Mystery',\n",
       "       'Adventure,Family', 'Mystery,Romance,Thriller',\n",
       "       'Action,Drama,Fantasy', 'Action,Drama,Sci-Fi',\n",
       "       'Animation,Music,Short', 'Action,Adventure', 'War',\n",
       "       'Documentary,Game-Show,Reality-TV', 'Animation,Fantasy,Horror',\n",
       "       'Crime,Documentary,Reality-TV', 'News', 'Comedy,Mystery,Thriller',\n",
       "       'Biography,Documentary,Short', 'Adventure,Comedy,Musical',\n",
       "       'Music,Reality-TV', 'Comedy,Reality-TV,Short',\n",
       "       'Action,Crime,Fantasy', 'Drama,Horror,Short',\n",
       "       'Documentary,Game-Show', 'Horror,Short,Thriller',\n",
       "       'Adult,Comedy,Sci-Fi', 'Drama,History,Romance',\n",
       "       'Action,Animation,Family', 'Action,Comedy,Western',\n",
       "       'Game-Show,Mystery', 'Action,Sci-Fi,Thriller',\n",
       "       'Action,Crime,Mystery', 'Family,Music,Reality-TV',\n",
       "       'Animation,Family,Fantasy', 'Action,Sci-Fi,Short',\n",
       "       'Action,Adult,Adventure', 'Crime,Mystery,Romance', 'Horror,Sci-Fi',\n",
       "       'Action,Comedy,Horror', 'Adventure,Drama,War',\n",
       "       'Crime,Drama,Family', 'Comedy,Romance,Thriller', 'Fantasy',\n",
       "       'Drama,Sci-Fi,Short', 'Action,Crime,Sci-Fi', 'Comedy,Musical',\n",
       "       'Adventure,Fantasy,Romance', 'Action,Drama,History',\n",
       "       'Action,Adventure,History', 'Animation,Drama,Fantasy',\n",
       "       'Adventure,Family,Fantasy', 'Comedy,Drama,Music',\n",
       "       'Action,Crime,Horror', 'Comedy,History', 'Animation,Horror,Music',\n",
       "       'Comedy,Family,Mystery', 'Crime,Horror,Thriller',\n",
       "       'Documentary,Family,Game-Show', 'Comedy,Family,Sport',\n",
       "       'Comedy,Drama,Fantasy', 'Action,Drama,Mystery',\n",
       "       'Crime,Romance,Thriller', 'Comedy,Family,History',\n",
       "       'Action,History,War', 'Documentary,Drama,Short',\n",
       "       'News,Reality-TV,Talk-Show', 'Documentary,Family',\n",
       "       'Comedy,Crime,Reality-TV', 'Comedy,Mystery,Romance',\n",
       "       'Adult,Adventure,Animation', 'Adventure,Comedy,Family',\n",
       "       'Comedy,Sci-Fi,Short', 'Family,Music,Musical',\n",
       "       'Comedy,Fantasy,Thriller', 'Adult,Comedy,Fantasy', 'Action,War',\n",
       "       'Adventure,Short', 'Drama,Mystery,Short',\n",
       "       'Adventure,Documentary,Game-Show', 'Documentary,War',\n",
       "       'Action,Biography,Documentary', 'Documentary,History,Music',\n",
       "       'Animation,Drama,Family', 'Animation,Family,Musical',\n",
       "       'Adventure,Game-Show,Reality-TV', 'Animation,Drama,Short',\n",
       "       'Action,Family,Sci-Fi', 'Drama,Romance,War', 'Crime,Drama,Music',\n",
       "       'Mystery,Thriller', 'Adult,Romance', 'Adventure,Sci-Fi,Western',\n",
       "       'Action,Horror,Thriller', 'Adventure,Drama,Short',\n",
       "       'Adventure,Horror,Short', 'Fantasy,Music,Romance',\n",
       "       'Animation,Comedy,Fantasy', 'Short,Western',\n",
       "       'Adventure,Fantasy,Sci-Fi', 'Action,Adventure,Mystery',\n",
       "       'Adventure,Comedy', 'Comedy,Family,Sci-Fi', 'Comedy,Crime,Mystery',\n",
       "       'Documentary,Game-Show,Music', 'Biography,Drama,Short',\n",
       "       'Game-Show,Talk-Show', 'Documentary,News', 'Animation,Crime,Drama',\n",
       "       'Adventure,Fantasy', 'Comedy,Game-Show,Reality-TV',\n",
       "       'Comedy,Family,Short', 'Comedy,Crime,Family',\n",
       "       'Adult,Adventure,Comedy', 'Biography,Drama,Sport',\n",
       "       'Comedy,Fantasy,Romance', 'Crime,Drama,Fantasy',\n",
       "       'Adventure,Drama,Mystery', 'Documentary,Music,Short',\n",
       "       'Drama,Fantasy,Short', 'Crime,Drama,Sport', 'Crime,Drama,History',\n",
       "       'Action,Adult,War', 'Documentary,News,Short', 'Family,War',\n",
       "       'Family,Western', 'Drama,Fantasy,Music', 'Adventure,Comedy,Horror',\n",
       "       'Music,Musical', 'Adventure,Animation', 'Action,Adventure,War',\n",
       "       'Action,Drama,Music', 'Fantasy,Horror,Sci-Fi',\n",
       "       'Documentary,Sci-Fi', 'Romance,Short', 'Adult,Animation,Drama',\n",
       "       'Action,Biography,Drama', 'Action,Crime,Sport', 'News,Short',\n",
       "       'Biography,Documentary,Sci-Fi', 'Horror,Mystery',\n",
       "       'Fantasy,History,Sci-Fi', 'Music,News,Talk-Show',\n",
       "       'Biography,Crime,Drama', 'Drama,Short,War', 'Comedy,Short,Sport',\n",
       "       'Drama,History,Music', 'Drama,Fantasy,History',\n",
       "       'Reality-TV,Talk-Show', 'Adventure,Comedy,Game-Show',\n",
       "       'Comedy,Crime,Fantasy', 'Comedy,Horror,Romance', 'Animation,Music',\n",
       "       'Adventure,History', 'Action,Fantasy', 'Action,Documentary,Drama',\n",
       "       'Documentary,Reality-TV', 'Drama,Family,Sport',\n",
       "       'Comedy,Short,Thriller', 'Adult,Crime,Drama',\n",
       "       'Comedy,Fantasy,Music', 'Animation,Mystery,Sci-Fi',\n",
       "       'Romance,Thriller', 'Comedy,Drama,History', 'Comedy,History,War',\n",
       "       'Action,Fantasy,Horror', 'Short,Talk-Show',\n",
       "       'Adventure,Comedy,Romance', 'Horror,Mystery,Sci-Fi',\n",
       "       'Documentary,Talk-Show', 'Adventure,Fantasy,Horror',\n",
       "       'Action,Drama,War', 'Action,History', 'Musical,Romance',\n",
       "       'Comedy,Horror,Sci-Fi', 'Action,Adventure,Sport',\n",
       "       'Drama,Romance,Sci-Fi', 'Family,Sport', 'Family,Fantasy,Musical',\n",
       "       'Documentary,Musical', 'History,Short', 'Adventure,Sci-Fi',\n",
       "       'Drama,Musical', 'Action,Crime,Western', 'Crime,Documentary,Drama',\n",
       "       'Comedy,Musical,Sci-Fi', 'Horror,Sci-Fi,Short',\n",
       "       'Musical,Mystery,Short', 'Animation,Comedy,Sci-Fi',\n",
       "       'Family,Fantasy,Horror', 'Mystery,Sci-Fi,Thriller',\n",
       "       'Biography,Musical', 'Crime,Fantasy,Horror', 'Adult,Animation',\n",
       "       'Horror,Romance', 'Adventure,Drama,Sci-Fi',\n",
       "       'Drama,Film-Noir,Thriller', 'Action,Comedy,Thriller',\n",
       "       'Animation,Comedy,Romance', 'Comedy,Crime,Horror',\n",
       "       'Adventure,Horror,Thriller', 'Action,Fantasy,History',\n",
       "       'Animation,Family,Sci-Fi', 'Action,Adult,Sport', 'Biography',\n",
       "       'Comedy,Mystery,Sci-Fi', 'Drama,Musical,Mystery',\n",
       "       'Drama,Romance,Short', 'Game-Show,Music,Reality-TV',\n",
       "       'Documentary,Short,War', 'Sci-Fi,Short,Western',\n",
       "       'Comedy,Fantasy,Horror', 'Comedy,Western',\n",
       "       'Action,Mystery,Thriller', 'Adventure,Crime',\n",
       "       'Action,Adult,Animation', 'Family,Sci-Fi', 'Biography,Short',\n",
       "       'Comedy,Crime,Short', 'Animation,Drama',\n",
       "       'Adventure,Animation,Short', 'Drama,Reality-TV', 'Game-Show,Music',\n",
       "       'Fantasy,Sci-Fi', 'Documentary,History,Short',\n",
       "       'Biography,Drama,Romance', 'Comedy,Documentary,Family',\n",
       "       'Comedy,Drama,War', 'Biography,News,Talk-Show',\n",
       "       'Adventure,Comedy,Western', 'Adult,Animation,Short',\n",
       "       'Adventure,Documentary,Family', 'History,Horror,Sci-Fi',\n",
       "       'Biography,Comedy,Drama', 'Adventure,Crime,Fantasy',\n",
       "       'Family,Game-Show,Mystery', 'Adult,Horror', 'Adult,Documentary',\n",
       "       'Drama,Music,Musical', 'Adventure,Crime,History',\n",
       "       'Drama,Fantasy,Musical', 'Adventure,Drama,Horror',\n",
       "       'Comedy,Family,Game-Show', 'Adult,Fantasy,Romance',\n",
       "       'Documentary,History,Reality-TV', 'Adult,Drama,Mystery',\n",
       "       'Fantasy,Sci-Fi,Thriller', 'Documentary,Short,Talk-Show',\n",
       "       'Mystery,Short', 'Adventure,Fantasy,Mystery', 'Documentary,Horror',\n",
       "       'Action,Adventure,Romance', 'Action,Family,Thriller',\n",
       "       'Adventure,Family,Sci-Fi', 'Comedy,Crime,Musical',\n",
       "       'Drama,Romance,Sport', 'Action,Romance,Thriller', 'Comedy,News',\n",
       "       'Adult,Crime,Romance', 'Comedy,Music,Reality-TV', 'Adult,Fantasy',\n",
       "       'Animation,Drama,Horror', 'Animation,Biography,Documentary',\n",
       "       'Adventure,Comedy,Documentary', 'Adult,Comedy,Crime',\n",
       "       'Adult,Crime,Thriller', 'Action,Animation', 'Family,Romance',\n",
       "       'Biography,Crime,Thriller', 'Documentary,Music,Musical',\n",
       "       'Comedy,Documentary,Reality-TV', 'Action,Mystery,Sci-Fi',\n",
       "       'Romance,War', 'Biography,Drama,Thriller', 'Comedy,Romance,War',\n",
       "       'Documentary,History,News', 'Action,Comedy,Romance',\n",
       "       'Animation,Music,Musical', 'Animation,Documentary', 'Sci-Fi,Sport',\n",
       "       'Biography,Documentary,Drama', 'Action,Adventure,Documentary',\n",
       "       'Biography,Documentary,Reality-TV', 'Drama,Musical,Thriller',\n",
       "       'Biography,Crime,Documentary', 'Animation,Family,History',\n",
       "       'Documentary,Mystery,Reality-TV', 'Action,Adult',\n",
       "       'Drama,Fantasy,Thriller', 'Action,Fantasy,Short',\n",
       "       'Film-Noir,Thriller', 'Crime,Drama,Short', 'Comedy,Family,Western',\n",
       "       'Comedy,Horror,Mystery', 'Adventure,Documentary,Mystery',\n",
       "       'Comedy,Game-Show,News', 'Documentary,Thriller', 'Action,Romance',\n",
       "       'Adventure,Game-Show', 'Action,Adventure,Biography',\n",
       "       'Documentary,Horror,Mystery', 'Horror,Thriller,War',\n",
       "       'Documentary,Drama,Family', 'Adventure,Romance',\n",
       "       'Action,Adventure,Game-Show', 'Fantasy,Horror', 'Crime,Romance',\n",
       "       'Comedy,Mystery', 'Thriller,War', 'Action,Adventure,Short',\n",
       "       'Action,Mystery,Romance', 'Action,Fantasy,Romance',\n",
       "       'Action,Crime,Film-Noir', 'Comedy,Documentary,Sport',\n",
       "       'Documentary,History,Mystery', 'Reality-TV,Sport,Talk-Show',\n",
       "       'Adventure,Animation,Fantasy', 'Action,Drama,Musical',\n",
       "       'Drama,Film-Noir,Mystery', 'Animation,Short,War',\n",
       "       'Adventure,Comedy,Sci-Fi', 'Drama,Fantasy,War',\n",
       "       'Comedy,Documentary,History', 'Adventure,Drama,Thriller',\n",
       "       'Action,Western', 'Crime,Film-Noir,Thriller',\n",
       "       'Adult,Romance,Thriller', 'Animation,Documentary,Short',\n",
       "       'Crime,Horror', 'Action,Drama,Western', 'Adult,Adventure',\n",
       "       'Animation,Family,Horror', 'Action,Game-Show,Sport',\n",
       "       'Crime,Documentary,History', 'Adventure,History,Romance',\n",
       "       'Adventure,Family,Game-Show', 'Comedy,Drama,Western',\n",
       "       'Action,Drama,Sport', 'Music,Romance', 'Adventure,Family,Musical',\n",
       "       'Comedy,Musical,Mystery', 'Fantasy,Reality-TV',\n",
       "       'Fantasy,Mystery,News', 'History,Horror,Short', 'Family,Musical',\n",
       "       'Adventure,Thriller', 'Animation,History,Horror',\n",
       "       'Game-Show,Horror,Reality-TV', 'Comedy,Game-Show,Music',\n",
       "       'Comedy,Fantasy,Mystery', 'Musical,Sci-Fi',\n",
       "       'Comedy,Horror,Western', 'Action,Family,Fantasy',\n",
       "       'Animation,Drama,Thriller', 'Horror,Thriller,Western',\n",
       "       'Adventure,Documentary,Sci-Fi', 'Action,Comedy,Sport',\n",
       "       'Documentary,Romance,War', 'Action,Crime,Short',\n",
       "       'Comedy,Family,Horror', 'Comedy,Documentary,Music',\n",
       "       'Documentary,News,Sport', 'Biography,Comedy',\n",
       "       'Crime,Family,Mystery', 'Game-Show,Reality-TV,Romance',\n",
       "       'Documentary,News,Sci-Fi', 'Horror,Mystery,Romance',\n",
       "       'Adult,Comedy,Romance', 'Biography,Comedy,Documentary',\n",
       "       'Horror,Mystery,Short', 'Music,Romance,Short',\n",
       "       'Music,Mystery,Short', 'News,Sport,Talk-Show',\n",
       "       'Animation,Biography,Drama', 'Adventure,Family,Short',\n",
       "       'Comedy,Documentary,Romance', 'Animation,Comedy,Horror',\n",
       "       'Biography,Documentary,Talk-Show', 'Animation,Horror,Short',\n",
       "       'Adventure,Drama,Musical', 'Adventure,Biography,Drama',\n",
       "       'Crime,Musical', 'Animation,Fantasy', 'Drama,Short,Western',\n",
       "       'Drama,Music,Short', 'Action,Animation,Short',\n",
       "       'Drama,History,Musical', 'Animation,Comedy,Musical',\n",
       "       'Crime,Drama,Sci-Fi', 'Action,Sci-Fi,Western', 'Action,Sci-Fi,War',\n",
       "       'Adventure,History,Musical', 'Comedy,Horror,Thriller',\n",
       "       'Action,Horror,Mystery', 'Adventure,Family,Reality-TV',\n",
       "       'Comedy,Short,Western', 'Comedy,Fantasy,Musical',\n",
       "       'Animation,Comedy,Crime', 'Animation,Horror',\n",
       "       'Adventure,Horror,Mystery', 'Action,Comedy,History',\n",
       "       'Adult,Animation,Comedy', 'Music,Short,Thriller',\n",
       "       'Comedy,Musical,War', 'Comedy,Crime,Thriller',\n",
       "       'Fantasy,Horror,Romance', 'Game-Show,Sport,Western',\n",
       "       'Adventure,Biography,Documentary', 'Mystery,Sci-Fi',\n",
       "       'Adventure,Crime,Family', 'Adventure,Sci-Fi,Thriller',\n",
       "       'Mystery,Reality-TV', 'Fantasy,Mystery', 'Drama,Romance,Western',\n",
       "       'Horror,War', 'Documentary,Mystery', 'Adult,Thriller',\n",
       "       'Adventure,Reality-TV', 'Biography,Comedy,Crime',\n",
       "       'Romance,Sci-Fi,Short', 'Drama,Family,History', 'Sci-Fi,Talk-Show',\n",
       "       'Drama,Family,War', 'Adventure,Horror', 'Family,Romance,Short',\n",
       "       'Animation,Music,Romance', 'Action,Comedy,Music',\n",
       "       'Drama,History,Mystery', 'History,Mystery,Sci-Fi',\n",
       "       'Horror,Mystery,Talk-Show', 'Animation,Drama,War',\n",
       "       'Biography,Drama,Fantasy', 'Adult,Adventure,Sci-Fi',\n",
       "       'Comedy,Family,Reality-TV', 'Action,Crime,Family',\n",
       "       'Drama,Music,Thriller', 'Documentary,History,Sport',\n",
       "       'Documentary,News,Reality-TV', 'Crime,Sci-Fi', 'Adult,Sci-Fi',\n",
       "       'Crime,Film-Noir,Mystery', 'Action,Biography,Crime',\n",
       "       'Animation,Fantasy,Sci-Fi', 'Adult,Comedy,Horror',\n",
       "       'Mystery,Thriller,Western', 'News,Sport', 'Action,Drama,Family',\n",
       "       'Action,Horror', 'Action,Comedy,Mystery', 'Fantasy,Music,Mystery',\n",
       "       'Biography,Comedy,History', 'History,War',\n",
       "       'Action,Adventure,Reality-TV', 'History,Romance,Thriller',\n",
       "       'Biography,War', 'Reality-TV,Short', 'Action,Short,Thriller',\n",
       "       'Adventure,Comedy,Thriller', 'Adventure,History,Horror',\n",
       "       'Action,Adventure,Music', 'Adult,Drama,Horror',\n",
       "       'Animation,Drama,Music', 'Animation,Drama,Sci-Fi',\n",
       "       'Family,Mystery', 'Comedy,Romance,Sport', 'Crime,Short,Thriller',\n",
       "       'History,Romance', 'Animation,Comedy,History',\n",
       "       'Animation,Documentary,History', 'Animation,History,Short',\n",
       "       'Music,Musical,Short', 'Comedy,Sci-Fi,Western',\n",
       "       'Adventure,Sport,Talk-Show', 'Action,Comedy,Musical',\n",
       "       'Action,Family,Romance', 'Fantasy,History,Musical',\n",
       "       'Action,Sport,Thriller', 'Adventure,War',\n",
       "       'Action,Documentary,Horror', 'Action,Biography,Comedy',\n",
       "       'Comedy,Family,Talk-Show', 'Documentary,Fantasy',\n",
       "       'Action,Comedy,Documentary', 'Fantasy,Romance',\n",
       "       'Adult,Comedy,Drama', 'Drama,Film-Noir', 'Biography,Drama,Musical',\n",
       "       'Family,Horror', 'Mystery,Sci-Fi,Short', 'Action,Horror,Short',\n",
       "       'Action,Adult,Comedy', 'Crime,Mystery,Short',\n",
       "       'Comedy,Documentary,Horror', 'Action,Animation,Horror',\n",
       "       'History,Music,Short', 'Comedy,History,Romance', 'Sport,Talk-Show',\n",
       "       'Action,Short,Sport', 'Adventure,Documentary,Short',\n",
       "       'Adult,Drama,History', 'Adventure,Family,Western',\n",
       "       'Animation,Drama,History', 'Adventure,Family,Thriller',\n",
       "       'Documentary,Sci-Fi,Short', 'Adventure,Comedy,Mystery',\n",
       "       'Animation,Drama,Romance', 'Adult,Animation,Fantasy',\n",
       "       'Documentary,Family,Music', 'Crime,Documentary,News',\n",
       "       'Musical,Romance,Short', 'Sci-Fi,Short,Thriller',\n",
       "       'Drama,Family,Mystery', 'Comedy,Short,War', 'Action,Sci-Fi,Sport',\n",
       "       'Comedy,Documentary,Musical', 'Action,History,Romance',\n",
       "       'Crime,Documentary,Short', 'Drama,Music,War',\n",
       "       'Documentary,Drama,Sport', 'Adventure,Mystery,Sci-Fi',\n",
       "       'Comedy,Crime,Talk-Show', 'Music,Short,Sport',\n",
       "       'Comedy,History,Musical', 'Drama,Thriller,War',\n",
       "       'Crime,History,Mystery', 'Adult,Animation,Romance',\n",
       "       'Family,Sci-Fi,Short', 'Animation,Documentary,Fantasy',\n",
       "       'Comedy,Sport,Talk-Show', 'Action,Music', 'Family,Music,Short',\n",
       "       'Adult,Comedy,Mystery', 'Fantasy,Romance,Short',\n",
       "       'Family,Fantasy,Sci-Fi', 'Family,News,Sport',\n",
       "       'Crime,Musical,Romance', 'Comedy,Music,News',\n",
       "       'Action,Animation,War', 'Adventure,Comedy,History',\n",
       "       'Fantasy,Music,Short', 'Crime,Documentary,Horror',\n",
       "       'Drama,Family,Sci-Fi', 'Crime,Fantasy,Musical',\n",
       "       'Documentary,History,Musical', 'Crime,War',\n",
       "       'Horror,Romance,Sci-Fi', 'Comedy,Game-Show,History',\n",
       "       'Adventure,Animation,Mystery', 'Animation,Mystery,Short',\n",
       "       'Action,Family,Western', 'Comedy,Family,News',\n",
       "       'Comedy,Music,Western', 'Adventure,Comedy,Reality-TV',\n",
       "       'Animation,Comedy,Talk-Show', 'Comedy,Horror,Sport',\n",
       "       'Mystery,Short,Thriller', 'Action,Animation,Music',\n",
       "       'Comedy,Family,Thriller', 'Documentary,Drama,Mystery',\n",
       "       'Animation,Comedy,Mystery', 'Drama,Family,Reality-TV',\n",
       "       'Horror,Music,Short', 'Mystery,Romance,Sci-Fi',\n",
       "       'Biography,Drama,Family', 'Animation,Romance',\n",
       "       'Animation,Drama,Mystery', 'Short,Thriller,Western',\n",
       "       'Adult,Comedy,War', 'Drama,Family,Western', 'Comedy,Mystery,Short',\n",
       "       'Fantasy,Musical,Sci-Fi', 'Adventure,Documentary,History',\n",
       "       'Adult,Crime,Mystery', 'Family,Fantasy,Game-Show',\n",
       "       'Action,Romance,War', 'Family,Game-Show,Sport',\n",
       "       'History,Musical,Romance', 'Crime,Drama,Musical',\n",
       "       'Adventure,War,Western', 'Action,Animation,History',\n",
       "       'Crime,Horror,Short', 'Drama,Musical,Sci-Fi',\n",
       "       'Drama,Family,Horror', 'Adventure,Crime,Mystery',\n",
       "       'Action,Fantasy,Talk-Show', 'Adventure,Family,Romance',\n",
       "       'Mystery,Romance,Short', 'Action,Romance,Sci-Fi',\n",
       "       'Biography,Documentary,War', 'Crime,Fantasy,Mystery',\n",
       "       'Action,Mystery,Short', 'Documentary,Family,Short',\n",
       "       'Animation,Music,Sci-Fi', 'News,Sci-Fi,Short'], dtype=object)"
      ]
     },
     "execution_count": 44,
     "metadata": {},
     "output_type": "execute_result"
    }
   ],
   "source": [
    "complete_df['genres'].unique()"
   ]
  },
  {
   "cell_type": "code",
   "execution_count": 45,
   "metadata": {},
   "outputs": [],
   "source": [
    "# converts into series of arrays of strings\n",
    "train_df['genres'] = train_df['genres'].apply(\n",
    "    lambda x: x.split(',') if isinstance(x, str) else np.nan\n",
    ")"
   ]
  },
  {
   "cell_type": "code",
   "execution_count": 46,
   "metadata": {},
   "outputs": [
    {
     "data": {
      "text/plain": [
       "0        [Action, Adventure, Animation]\n",
       "1                              [Action]\n",
       "2                              [Comedy]\n",
       "3                          [Reality-TV]\n",
       "4              [Comedy, Drama, Romance]\n",
       "                      ...              \n",
       "16426                          [Comedy]\n",
       "16427         [Action, Drama, Thriller]\n",
       "16428          [Action, Drama, Romance]\n",
       "16429      [Action, Adventure, Fantasy]\n",
       "16430                    [Drama, Short]\n",
       "Name: genres, Length: 16431, dtype: object"
      ]
     },
     "execution_count": 46,
     "metadata": {},
     "output_type": "execute_result"
    }
   ],
   "source": [
    "train_df['genres']"
   ]
  },
  {
   "cell_type": "code",
   "execution_count": 47,
   "metadata": {},
   "outputs": [
    {
     "data": {
      "text/plain": [
       "<Axes: xlabel='rating'>"
      ]
     },
     "execution_count": 47,
     "metadata": {},
     "output_type": "execute_result"
    },
    {
     "data": {
      "image/png": "[encoded data removed]",
      "text/plain": [
       "<Figure size 640x480 with 1 Axes>"
      ]
     },
     "metadata": {},
     "output_type": "display_data"
    }
   ],
   "source": [
    "# kinda interesting but not really\n",
    "train_df[['rating', 'totalImages']].groupby('rating').mean().plot(kind= 'line')"
   ]
  },
  {
   "cell_type": "code",
   "execution_count": 48,
   "metadata": {},
   "outputs": [
    {
     "data": {
      "text/plain": [
       "<Axes: xlabel='rating'>"
      ]
     },
     "execution_count": 48,
     "metadata": {},
     "output_type": "execute_result"
    },
    {
     "data": {
      "image/png": "[encoded data removed]",
      "text/plain": [
       "<Figure size 640x480 with 1 Axes>"
      ]
     },
     "metadata": {},
     "output_type": "display_data"
    }
   ],
   "source": [
    "train_df[['rating', 'totalVideos']].groupby('rating').mean().plot(kind= 'line')"
   ]
  },
  {
   "cell_type": "code",
   "execution_count": 49,
   "metadata": {},
   "outputs": [
    {
     "data": {
      "text/plain": [
       "<Axes: >"
      ]
     },
     "execution_count": 49,
     "metadata": {},
     "output_type": "execute_result"
    },
    {
     "data": {
      "image/png": "[encoded data removed]",
      "text/plain": [
       "<Figure size 640x480 with 1 Axes>"
      ]
     },
     "metadata": {},
     "output_type": "display_data"
    }
   ],
   "source": [
    "train_df[\n",
    "        ['awardWins', 'awardNominationsExcludeWins', 'totalImages']\n",
    "    ].groupby(\n",
    "        (train_df['awardWins'] + train_df['awardNominationsExcludeWins']) #// 15\n",
    "    ).mean()['totalImages'].plot(kind= 'line')"
   ]
  },
  {
   "cell_type": "code",
   "execution_count": 50,
   "metadata": {},
   "outputs": [
    {
     "data": {
      "text/plain": [
       "<Axes: >"
      ]
     },
     "execution_count": 50,
     "metadata": {},
     "output_type": "execute_result"
    },
    {
     "data": {
      "image/png": "[encoded data removed]",
      "text/plain": [
       "<Figure size 640x480 with 1 Axes>"
      ]
     },
     "metadata": {},
     "output_type": "display_data"
    }
   ],
   "source": [
    "train_df[\n",
    "        ['awardWins', 'awardNominationsExcludeWins', 'totalVideos']\n",
    "    ].groupby(\n",
    "        (train_df['awardWins'] + train_df['awardNominationsExcludeWins']) #// 15\n",
    "    ).mean()['totalVideos'].plot(kind= 'line')"
   ]
  },
  {
   "cell_type": "code",
   "execution_count": 51,
   "metadata": {},
   "outputs": [
    {
     "data": {
      "text/html": [
       "<div>\n",
       "<style scoped>\n",
       "    .dataframe tbody tr th:only-of-type {\n",
       "        vertical-align: middle;\n",
       "    }\n",
       "\n",
       "    .dataframe tbody tr th {\n",
       "        vertical-align: top;\n",
       "    }\n",
       "\n",
       "    .dataframe thead th {\n",
       "        text-align: right;\n",
       "    }\n",
       "</style>\n",
       "<table border=\"1\" class=\"dataframe\">\n",
       "  <thead>\n",
       "    <tr style=\"text-align: right;\">\n",
       "      <th></th>\n",
       "      <th>originalTitle</th>\n",
       "      <th>numRegions</th>\n",
       "      <th>countryOfOrigin</th>\n",
       "    </tr>\n",
       "  </thead>\n",
       "  <tbody>\n",
       "    <tr>\n",
       "      <th>0</th>\n",
       "      <td>Neogenic Nightmare Chapter 3: Hydro-Man</td>\n",
       "      <td>1</td>\n",
       "      <td>[US]</td>\n",
       "    </tr>\n",
       "    <tr>\n",
       "      <th>1</th>\n",
       "      <td>Looping</td>\n",
       "      <td>1</td>\n",
       "      <td>[XWG]</td>\n",
       "    </tr>\n",
       "    <tr>\n",
       "      <th>2</th>\n",
       "      <td>Idealnaya para</td>\n",
       "      <td>1</td>\n",
       "      <td>[RU]</td>\n",
       "    </tr>\n",
       "    <tr>\n",
       "      <th>3</th>\n",
       "      <td>MasterChef Celebrity México</td>\n",
       "      <td>1</td>\n",
       "      <td>[MX]</td>\n",
       "    </tr>\n",
       "    <tr>\n",
       "      <th>5</th>\n",
       "      <td>Lightdance</td>\n",
       "      <td>1</td>\n",
       "      <td>[US]</td>\n",
       "    </tr>\n",
       "    <tr>\n",
       "      <th>...</th>\n",
       "      <td>...</td>\n",
       "      <td>...</td>\n",
       "      <td>...</td>\n",
       "    </tr>\n",
       "    <tr>\n",
       "      <th>16421</th>\n",
       "      <td>Chance the Rapper Battles Spicy Wings</td>\n",
       "      <td>1</td>\n",
       "      <td>[US]</td>\n",
       "    </tr>\n",
       "    <tr>\n",
       "      <th>16422</th>\n",
       "      <td>Four Wheels, No Brakes</td>\n",
       "      <td>1</td>\n",
       "      <td>[US]</td>\n",
       "    </tr>\n",
       "    <tr>\n",
       "      <th>16424</th>\n",
       "      <td>Pineapple Rose</td>\n",
       "      <td>1</td>\n",
       "      <td>[US]</td>\n",
       "    </tr>\n",
       "    <tr>\n",
       "      <th>16427</th>\n",
       "      <td>Haar Jeet</td>\n",
       "      <td>1</td>\n",
       "      <td>[IN]</td>\n",
       "    </tr>\n",
       "    <tr>\n",
       "      <th>16430</th>\n",
       "      <td>Anniversary Night</td>\n",
       "      <td>1</td>\n",
       "      <td>[IN]</td>\n",
       "    </tr>\n",
       "  </tbody>\n",
       "</table>\n",
       "<p>9332 rows × 3 columns</p>\n",
       "</div>"
      ],
      "text/plain": [
       "                                 originalTitle  numRegions countryOfOrigin\n",
       "0      Neogenic Nightmare Chapter 3: Hydro-Man           1            [US]\n",
       "1                                      Looping           1           [XWG]\n",
       "2                               Idealnaya para           1            [RU]\n",
       "3                  MasterChef Celebrity México           1            [MX]\n",
       "5                                   Lightdance           1            [US]\n",
       "...                                        ...         ...             ...\n",
       "16421    Chance the Rapper Battles Spicy Wings           1            [US]\n",
       "16422                   Four Wheels, No Brakes           1            [US]\n",
       "16424                           Pineapple Rose           1            [US]\n",
       "16427                                Haar Jeet           1            [IN]\n",
       "16430                        Anniversary Night           1            [IN]\n",
       "\n",
       "[9332 rows x 3 columns]"
      ]
     },
     "execution_count": 51,
     "metadata": {},
     "output_type": "execute_result"
    }
   ],
   "source": [
    "train_df[['originalTitle', 'numRegions', 'countryOfOrigin']][\n",
    "    train_df[['numRegions', 'countryOfOrigin']].apply(\n",
    "        lambda row: row['numRegions'] == len(row['countryOfOrigin']), axis= 1)\n",
    "    ]"
   ]
  },
  {
   "cell_type": "code",
   "execution_count": null,
   "metadata": {},
   "outputs": [
    {
     "data": {
      "text/plain": [
       "isAdult\n",
       "0    16005\n",
       "1      426\n",
       "Name: originalTitle, dtype: int64"
      ]
     },
     "execution_count": 57,
     "metadata": {},
     "output_type": "execute_result"
    }
   ],
   "source": [
    "train_df.groupby('isAdult').count()['originalTitle']"
   ]
  },
  {
   "cell_type": "code",
   "execution_count": 61,
   "metadata": {},
   "outputs": [
    {
     "data": {
      "text/html": [
       "<div>\n",
       "<style scoped>\n",
       "    .dataframe tbody tr th:only-of-type {\n",
       "        vertical-align: middle;\n",
       "    }\n",
       "\n",
       "    .dataframe tbody tr th {\n",
       "        vertical-align: top;\n",
       "    }\n",
       "\n",
       "    .dataframe thead th {\n",
       "        text-align: right;\n",
       "    }\n",
       "</style>\n",
       "<table border=\"1\" class=\"dataframe\">\n",
       "  <thead>\n",
       "    <tr style=\"text-align: right;\">\n",
       "      <th></th>\n",
       "      <th>rating</th>\n",
       "    </tr>\n",
       "    <tr>\n",
       "      <th>isAdult</th>\n",
       "      <th></th>\n",
       "    </tr>\n",
       "  </thead>\n",
       "  <tbody>\n",
       "    <tr>\n",
       "      <th>0</th>\n",
       "      <td>7.171634</td>\n",
       "    </tr>\n",
       "    <tr>\n",
       "      <th>1</th>\n",
       "      <td>6.553991</td>\n",
       "    </tr>\n",
       "  </tbody>\n",
       "</table>\n",
       "</div>"
      ],
      "text/plain": [
       "           rating\n",
       "isAdult          \n",
       "0        7.171634\n",
       "1        6.553991"
      ]
     },
     "execution_count": 61,
     "metadata": {},
     "output_type": "execute_result"
    }
   ],
   "source": [
    "train_df[['rating', 'isAdult']].groupby('isAdult').mean()"
   ]
  },
  {
   "cell_type": "code",
   "execution_count": 101,
   "metadata": {},
   "outputs": [
    {
     "data": {
      "text/plain": [
       "<Axes: xlabel='rating'>"
      ]
     },
     "execution_count": 101,
     "metadata": {},
     "output_type": "execute_result"
    },
    {
     "data": {
      "image/png": "[encoded data removed]",
      "text/plain": [
       "<Figure size 640x480 with 1 Axes>"
      ]
     },
     "metadata": {},
     "output_type": "display_data"
    }
   ],
   "source": [
    "# this is rather interesting\n",
    "count_data = train_df.groupby(['rating', 'isAdult']).count()['originalTitle']\n",
    "\n",
    "# normalizes the data so that it expresses the % rather than the number\n",
    "normalized_data = count_data / count_data.groupby('isAdult').transform('sum')\n",
    "\n",
    "normalized_data.unstack(level= 'isAdult').plot(\n",
    "        kind= 'bar', width= 0.8, grid= True\n",
    "    )"
   ]
  },
  {
   "cell_type": "code",
   "execution_count": 102,
   "metadata": {},
   "outputs": [
    {
     "data": {
      "text/plain": [
       "<Axes: xlabel='rating'>"
      ]
     },
     "execution_count": 102,
     "metadata": {},
     "output_type": "execute_result"
    },
    {
     "data": {
      "image/png": "[encoded data removed]",
      "text/plain": [
       "<Figure size 640x480 with 1 Axes>"
      ]
     },
     "metadata": {},
     "output_type": "display_data"
    }
   ],
   "source": [
    "train_df[['rating', 'totalCredits']].groupby('rating').mean().plot(kind= 'bar')"
   ]
  },
  {
   "cell_type": "code",
   "execution_count": 103,
   "metadata": {},
   "outputs": [
    {
     "data": {
      "text/plain": [
       "<Axes: xlabel='rating'>"
      ]
     },
     "execution_count": 103,
     "metadata": {},
     "output_type": "execute_result"
    },
    {
     "data": {
      "image/png": "[encoded data removed]",
      "text/plain": [
       "<Figure size 640x480 with 1 Axes>"
      ]
     },
     "metadata": {},
     "output_type": "display_data"
    }
   ],
   "source": [
    "train_df[['ratingCount', 'rating']].groupby('rating').mean().plot(kind= 'bar')"
   ]
  },
  {
   "cell_type": "code",
   "execution_count": 114,
   "metadata": {},
   "outputs": [
    {
     "data": {
      "text/plain": [
       "array([  0.,   2.,   1.,   4.,  16.,  nan,   6.,   7.,   3.,  25.,  10.,\n",
       "         5.,  12.,  15.,  11., 172.,   8.,   9.,  35.,  26.,  24.,  14.,\n",
       "        45.,  30.,  13.,  17.,  29., 152., 306.,  23.,  43.,  41.,  27.,\n",
       "        31.,  19.,  67.,  28.,  68., 144.,  32.,  34.,  22., 100.,  48.,\n",
       "        46.,  20.,  37., 102.,  21.,  97.,  44., 105.,  87.,  78.,  47.,\n",
       "        39.,  49.,  50., 108.,  76.,  70.,  18.,  81., 170.,  38., 125.,\n",
       "        59.,  40., 107.,  73.,  42., 110.,  71., 160.,  58.,  62., 141.,\n",
       "        61., 124.,  72.])"
      ]
     },
     "execution_count": 114,
     "metadata": {},
     "output_type": "execute_result"
    }
   ],
   "source": [
    "(train_df['awardWins'] + train_df['awardNominationsExcludeWins']).unique()"
   ]
  },
  {
   "cell_type": "code",
   "execution_count": 129,
   "metadata": {},
   "outputs": [
    {
     "data": {
      "text/plain": [
       "<Axes: xlabel='totalNominations'>"
      ]
     },
     "execution_count": 129,
     "metadata": {},
     "output_type": "execute_result"
    },
    {
     "data": {
      "image/png": "[encoded data removed]",
      "text/plain": [
       "<Figure size 640x480 with 1 Axes>"
      ]
     },
     "metadata": {},
     "output_type": "display_data"
    }
   ],
   "source": [
    "nominations_df = pd.DataFrame({\n",
    "    'ratingCount': train_df['ratingCount'],\n",
    "    'totalNominations': train_df['awardWins'] + train_df['awardNominationsExcludeWins']\n",
    "})\n",
    "\n",
    "nominations_df.groupby('totalNominations').mean().plot(kind= 'line')\n",
    "\n",
    "# plt.plot(\n",
    "#         train_df['awardWins'] + train_df['awardNominationsExcludeWins'],\n",
    "#         train_df['ratingCount']\n",
    "#     )\n",
    "\n",
    "# plt.show()"
   ]
  },
  {
   "cell_type": "code",
   "execution_count": null,
   "metadata": {},
   "outputs": [
    {
     "data": {
      "text/plain": [
       "Index(['originalTitle', 'rating', 'startYear', 'endYear', 'runtimeMinutes',\n",
       "       'awardWins', 'numVotes', 'worstRating', 'bestRating', 'totalImages',\n",
       "       'totalVideos', 'totalCredits', 'criticReviewsTotal', 'titleType',\n",
       "       'awardNominationsExcludeWins', 'canHaveEpisodes', 'isRatable',\n",
       "       'isAdult', 'numRegions', 'userReviewsTotal', 'ratingCount',\n",
       "       'countryOfOrigin', 'genres'],\n",
       "      dtype='object')"
      ]
     },
     "execution_count": 54,
     "metadata": {},
     "output_type": "execute_result"
    }
   ],
   "source": [
    "train_df.columns"
   ]
  }
 ],
 "metadata": {
  "kernelspec": {
   "display_name": "Python 3",
   "language": "python",
   "name": "python3"
  },
  "language_info": {
   "codemirror_mode": {
    "name": "ipython",
    "version": 3
   },
   "file_extension": ".py",
   "mimetype": "text/x-python",
   "name": "python",
   "nbconvert_exporter": "python",
   "pygments_lexer": "ipython3",
   "version": "3.11.1"
  }
 },
 "nbformat": 4,
 "nbformat_minor": 2
}
