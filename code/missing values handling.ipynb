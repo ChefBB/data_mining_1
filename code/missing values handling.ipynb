{
 "cells": [
  {
   "cell_type": "markdown",
   "metadata": {},
   "source": [
    "# HANDLING MISSING VALUES"
   ]
  },
  {
   "cell_type": "code",
   "execution_count": 1197,
   "metadata": {},
   "outputs": [],
   "source": [
    "import pandas as pd\n",
    "from constants import*\n",
    "from constants import numeric_columns as num_cols\n",
    "import numpy as np\n",
    "import ast\n",
    "\n",
    "train_df = pd.read_csv(\"dm1_dataset_2425_imdb/train.csv\")"
   ]
  },
  {
   "cell_type": "code",
   "execution_count": 1198,
   "metadata": {},
   "outputs": [
    {
     "data": {
      "text/html": [
       "<div>\n",
       "<style scoped>\n",
       "    .dataframe tbody tr th:only-of-type {\n",
       "        vertical-align: middle;\n",
       "    }\n",
       "\n",
       "    .dataframe tbody tr th {\n",
       "        vertical-align: top;\n",
       "    }\n",
       "\n",
       "    .dataframe thead th {\n",
       "        text-align: right;\n",
       "    }\n",
       "</style>\n",
       "<table border=\"1\" class=\"dataframe\">\n",
       "  <thead>\n",
       "    <tr style=\"text-align: right;\">\n",
       "      <th></th>\n",
       "      <th>originalTitle</th>\n",
       "      <th>rating</th>\n",
       "      <th>startYear</th>\n",
       "      <th>endYear</th>\n",
       "      <th>runtimeMinutes</th>\n",
       "      <th>awardWins</th>\n",
       "      <th>numVotes</th>\n",
       "      <th>worstRating</th>\n",
       "      <th>bestRating</th>\n",
       "      <th>totalImages</th>\n",
       "      <th>...</th>\n",
       "      <th>titleType</th>\n",
       "      <th>awardNominationsExcludeWins</th>\n",
       "      <th>canHaveEpisodes</th>\n",
       "      <th>isRatable</th>\n",
       "      <th>isAdult</th>\n",
       "      <th>numRegions</th>\n",
       "      <th>userReviewsTotal</th>\n",
       "      <th>ratingCount</th>\n",
       "      <th>countryOfOrigin</th>\n",
       "      <th>genres</th>\n",
       "    </tr>\n",
       "  </thead>\n",
       "  <tbody>\n",
       "    <tr>\n",
       "      <th>0</th>\n",
       "      <td>Neogenic Nightmare Chapter 3: Hydro-Man</td>\n",
       "      <td>(7, 8]</td>\n",
       "      <td>1995</td>\n",
       "      <td>\\N</td>\n",
       "      <td>\\N</td>\n",
       "      <td>0.0</td>\n",
       "      <td>779</td>\n",
       "      <td>1</td>\n",
       "      <td>10</td>\n",
       "      <td>1</td>\n",
       "      <td>...</td>\n",
       "      <td>tvEpisode</td>\n",
       "      <td>0</td>\n",
       "      <td>False</td>\n",
       "      <td>True</td>\n",
       "      <td>0</td>\n",
       "      <td>1</td>\n",
       "      <td>0</td>\n",
       "      <td>781</td>\n",
       "      <td>['US']</td>\n",
       "      <td>Action,Adventure,Animation</td>\n",
       "    </tr>\n",
       "    <tr>\n",
       "      <th>1</th>\n",
       "      <td>Looping</td>\n",
       "      <td>(5, 6]</td>\n",
       "      <td>1982</td>\n",
       "      <td>\\N</td>\n",
       "      <td>\\N</td>\n",
       "      <td>0.0</td>\n",
       "      <td>11</td>\n",
       "      <td>1</td>\n",
       "      <td>10</td>\n",
       "      <td>1</td>\n",
       "      <td>...</td>\n",
       "      <td>videoGame</td>\n",
       "      <td>0</td>\n",
       "      <td>False</td>\n",
       "      <td>True</td>\n",
       "      <td>0</td>\n",
       "      <td>1</td>\n",
       "      <td>0</td>\n",
       "      <td>11</td>\n",
       "      <td>['XWG']</td>\n",
       "      <td>Action</td>\n",
       "    </tr>\n",
       "    <tr>\n",
       "      <th>2</th>\n",
       "      <td>Idealnaya para</td>\n",
       "      <td>(5, 6]</td>\n",
       "      <td>1992</td>\n",
       "      <td>\\N</td>\n",
       "      <td>\\N</td>\n",
       "      <td>0.0</td>\n",
       "      <td>38</td>\n",
       "      <td>1</td>\n",
       "      <td>10</td>\n",
       "      <td>1</td>\n",
       "      <td>...</td>\n",
       "      <td>movie</td>\n",
       "      <td>0</td>\n",
       "      <td>False</td>\n",
       "      <td>True</td>\n",
       "      <td>0</td>\n",
       "      <td>1</td>\n",
       "      <td>1</td>\n",
       "      <td>38</td>\n",
       "      <td>['RU']</td>\n",
       "      <td>Comedy</td>\n",
       "    </tr>\n",
       "    <tr>\n",
       "      <th>3</th>\n",
       "      <td>MasterChef Celebrity México</td>\n",
       "      <td>(5, 6]</td>\n",
       "      <td>2021</td>\n",
       "      <td>\\N</td>\n",
       "      <td>\\N</td>\n",
       "      <td>0.0</td>\n",
       "      <td>15</td>\n",
       "      <td>1</td>\n",
       "      <td>10</td>\n",
       "      <td>22</td>\n",
       "      <td>...</td>\n",
       "      <td>tvSeries</td>\n",
       "      <td>0</td>\n",
       "      <td>True</td>\n",
       "      <td>True</td>\n",
       "      <td>0</td>\n",
       "      <td>1</td>\n",
       "      <td>0</td>\n",
       "      <td>15</td>\n",
       "      <td>['MX']</td>\n",
       "      <td>Reality-TV</td>\n",
       "    </tr>\n",
       "    <tr>\n",
       "      <th>4</th>\n",
       "      <td>Seutateueob</td>\n",
       "      <td>(7, 8]</td>\n",
       "      <td>2020</td>\n",
       "      <td>2020</td>\n",
       "      <td>80</td>\n",
       "      <td>1.0</td>\n",
       "      <td>15718</td>\n",
       "      <td>1</td>\n",
       "      <td>10</td>\n",
       "      <td>347</td>\n",
       "      <td>...</td>\n",
       "      <td>tvSeries</td>\n",
       "      <td>1</td>\n",
       "      <td>True</td>\n",
       "      <td>True</td>\n",
       "      <td>0</td>\n",
       "      <td>32</td>\n",
       "      <td>452</td>\n",
       "      <td>15746</td>\n",
       "      <td>['KR']</td>\n",
       "      <td>Comedy,Drama,Romance</td>\n",
       "    </tr>\n",
       "  </tbody>\n",
       "</table>\n",
       "<p>5 rows × 23 columns</p>\n",
       "</div>"
      ],
      "text/plain": [
       "                             originalTitle  rating  startYear endYear  \\\n",
       "0  Neogenic Nightmare Chapter 3: Hydro-Man  (7, 8]       1995      \\N   \n",
       "1                                  Looping  (5, 6]       1982      \\N   \n",
       "2                           Idealnaya para  (5, 6]       1992      \\N   \n",
       "3              MasterChef Celebrity México  (5, 6]       2021      \\N   \n",
       "4                              Seutateueob  (7, 8]       2020    2020   \n",
       "\n",
       "  runtimeMinutes  awardWins  numVotes  worstRating  bestRating  totalImages  \\\n",
       "0             \\N        0.0       779            1          10            1   \n",
       "1             \\N        0.0        11            1          10            1   \n",
       "2             \\N        0.0        38            1          10            1   \n",
       "3             \\N        0.0        15            1          10           22   \n",
       "4             80        1.0     15718            1          10          347   \n",
       "\n",
       "   ...  titleType  awardNominationsExcludeWins  canHaveEpisodes isRatable  \\\n",
       "0  ...  tvEpisode                            0            False      True   \n",
       "1  ...  videoGame                            0            False      True   \n",
       "2  ...      movie                            0            False      True   \n",
       "3  ...   tvSeries                            0             True      True   \n",
       "4  ...   tvSeries                            1             True      True   \n",
       "\n",
       "   isAdult  numRegions  userReviewsTotal  ratingCount  countryOfOrigin  \\\n",
       "0        0           1                 0          781           ['US']   \n",
       "1        0           1                 0           11          ['XWG']   \n",
       "2        0           1                 1           38           ['RU']   \n",
       "3        0           1                 0           15           ['MX']   \n",
       "4        0          32               452        15746           ['KR']   \n",
       "\n",
       "                       genres  \n",
       "0  Action,Adventure,Animation  \n",
       "1                      Action  \n",
       "2                      Comedy  \n",
       "3                  Reality-TV  \n",
       "4        Comedy,Drama,Romance  \n",
       "\n",
       "[5 rows x 23 columns]"
      ]
     },
     "execution_count": 1198,
     "metadata": {},
     "output_type": "execute_result"
    }
   ],
   "source": [
    "train_df.head()"
   ]
  },
  {
   "cell_type": "markdown",
   "metadata": {},
   "source": [
    "## Elenco delle prime trasformazioni di dati (recupero di pezzi di codice dai vecchi notebook)"
   ]
  },
  {
   "cell_type": "markdown",
   "metadata": {},
   "source": [
    "### Trasformazione \\N di genres in NaN"
   ]
  },
  {
   "cell_type": "code",
   "execution_count": 1199,
   "metadata": {},
   "outputs": [],
   "source": [
    "#trasforma valori \\N di genres in nan\n",
    "train_df.loc[train_df[\"genres\"] == r'\\N', \"genres\"] = np.nan"
   ]
  },
  {
   "cell_type": "code",
   "execution_count": 1200,
   "metadata": {},
   "outputs": [
    {
     "name": "stdout",
     "output_type": "stream",
     "text": [
      "382\n"
     ]
    }
   ],
   "source": [
    "# Count the NaN values in the column\n",
    "print(train_df[\"genres\"].isna().sum())  "
   ]
  },
  {
   "cell_type": "markdown",
   "metadata": {},
   "source": [
    "### Trasformazione dei generi in liste di stringhe; per i record NaN vengono trasformati in [\"\"]"
   ]
  },
  {
   "cell_type": "code",
   "execution_count": 1201,
   "metadata": {},
   "outputs": [
    {
     "name": "stdout",
     "output_type": "stream",
     "text": [
      "0        [<class 'str'>, <class 'str'>, <class 'str'>]\n",
      "1                                      [<class 'str'>]\n",
      "2                                      [<class 'str'>]\n",
      "3                                      [<class 'str'>]\n",
      "4        [<class 'str'>, <class 'str'>, <class 'str'>]\n",
      "                             ...                      \n",
      "16426                                  [<class 'str'>]\n",
      "16427    [<class 'str'>, <class 'str'>, <class 'str'>]\n",
      "16428    [<class 'str'>, <class 'str'>, <class 'str'>]\n",
      "16429    [<class 'str'>, <class 'str'>, <class 'str'>]\n",
      "16430                   [<class 'str'>, <class 'str'>]\n",
      "Name: genres, Length: 16431, dtype: object\n",
      "0    [Action, Adventure, Animation]\n",
      "1                          [Action]\n",
      "2                          [Comedy]\n",
      "3                      [Reality-TV]\n",
      "4          [Comedy, Drama, Romance]\n",
      "Name: genres, dtype: object\n"
     ]
    }
   ],
   "source": [
    "# Replace NaN values with an empty string\n",
    "train_df[\"genres\"] = train_df[\"genres\"].fillna(\"\")\n",
    "\n",
    "# Split genres into lists\n",
    "train_df[\"genres\"] = train_df[\"genres\"].str.split(',')\n",
    "\n",
    "# Debug: Check the data types within the lists\n",
    "print(train_df['genres'].apply(lambda x: [type(genre) for genre in (x if isinstance(x, list) else [])]))\n",
    "\n",
    "# Preview the updated genres column\n",
    "print(train_df[\"genres\"].head())\n"
   ]
  },
  {
   "cell_type": "code",
   "execution_count": 1202,
   "metadata": {},
   "outputs": [
    {
     "data": {
      "text/plain": [
       "0    [Action, Adventure, Animation]\n",
       "1                          [Action]\n",
       "2                          [Comedy]\n",
       "3                      [Reality-TV]\n",
       "4          [Comedy, Drama, Romance]\n",
       "Name: genres, dtype: object"
      ]
     },
     "execution_count": 1202,
     "metadata": {},
     "output_type": "execute_result"
    }
   ],
   "source": [
    "train_df[\"genres\"].head()"
   ]
  },
  {
   "cell_type": "code",
   "execution_count": 1203,
   "metadata": {},
   "outputs": [
    {
     "data": {
      "text/plain": [
       "['']"
      ]
     },
     "execution_count": 1203,
     "metadata": {},
     "output_type": "execute_result"
    }
   ],
   "source": [
    "x = train_df.loc[31, \"genres\"]\n",
    "x"
   ]
  },
  {
   "cell_type": "markdown",
   "metadata": {},
   "source": [
    "### Trasformare i valori \\N in nan nelle colonne numeriche"
   ]
  },
  {
   "cell_type": "code",
   "execution_count": 1204,
   "metadata": {},
   "outputs": [],
   "source": [
    "#uniformo assegnando NaN a tutti i valori nulli\n",
    "for col in num_cols:\n",
    "    #Converts the values in column col to numeric types (e.g., int, float). \n",
    "    # #If a value cannot be converted  (e.g., invalid strings), it is replaced with NaN (missing value).\n",
    "    train_df[col] = pd.to_numeric(train_df[col], errors='coerce')\n",
    "\n",
    "    #abbiamo trasformato i valori numerici in interi e non float (con Int64 accetta i Nan)\n",
    "    #train_df[col] = train_df[col].astype('Int64')"
   ]
  },
  {
   "cell_type": "code",
   "execution_count": 1205,
   "metadata": {},
   "outputs": [
    {
     "data": {
      "text/plain": [
       "originalTitle                      0\n",
       "rating                             0\n",
       "startYear                          0\n",
       "endYear                        15617\n",
       "runtimeMinutes                  4852\n",
       "awardWins                       2618\n",
       "numVotes                           0\n",
       "worstRating                        0\n",
       "bestRating                         0\n",
       "totalImages                        0\n",
       "totalVideos                        0\n",
       "totalCredits                       0\n",
       "criticReviewsTotal                 0\n",
       "titleType                          0\n",
       "awardNominationsExcludeWins        0\n",
       "canHaveEpisodes                    0\n",
       "isRatable                          0\n",
       "isAdult                            0\n",
       "numRegions                         0\n",
       "userReviewsTotal                   0\n",
       "ratingCount                        0\n",
       "countryOfOrigin                    0\n",
       "genres                             0\n",
       "dtype: int64"
      ]
     },
     "execution_count": 1205,
     "metadata": {},
     "output_type": "execute_result"
    }
   ],
   "source": [
    "#non dà i nan per i generi perchè sono [\"\"]\n",
    "train_df.isnull().sum()"
   ]
  },
  {
   "cell_type": "markdown",
   "metadata": {},
   "source": [
    "### Ceiling per i rating"
   ]
  },
  {
   "cell_type": "code",
   "execution_count": 1206,
   "metadata": {},
   "outputs": [],
   "source": [
    "#ceiling per rating\n",
    "train_df['rating'] = train_df['rating'].str.extract(\n",
    "        r\",\\s*(\\d+)\\]\"\n",
    "    ).astype(int)"
   ]
  },
  {
   "cell_type": "markdown",
   "metadata": {},
   "source": [
    "### CountryOfOrigin in lista di stringhe"
   ]
  },
  {
   "cell_type": "code",
   "execution_count": 1207,
   "metadata": {},
   "outputs": [
    {
     "name": "stdout",
     "output_type": "stream",
     "text": [
      "0        [<class 'str'>]\n",
      "1        [<class 'str'>]\n",
      "2        [<class 'str'>]\n",
      "3        [<class 'str'>]\n",
      "4        [<class 'str'>]\n",
      "              ...       \n",
      "16426    [<class 'str'>]\n",
      "16427    [<class 'str'>]\n",
      "16428    [<class 'str'>]\n",
      "16429    [<class 'str'>]\n",
      "16430    [<class 'str'>]\n",
      "Name: countryOfOrigin, Length: 16431, dtype: object\n"
     ]
    }
   ],
   "source": [
    "#traformazione paesi in liste di stringhe\n",
    "train_df['countryOfOrigin'] = train_df['countryOfOrigin'].apply(ast.literal_eval)\n",
    "\n",
    "print(train_df['countryOfOrigin'].apply(lambda x: [type(country) for country in x]))"
   ]
  },
  {
   "cell_type": "code",
   "execution_count": 1208,
   "metadata": {},
   "outputs": [
    {
     "data": {
      "text/plain": [
       "list"
      ]
     },
     "execution_count": 1208,
     "metadata": {},
     "output_type": "execute_result"
    }
   ],
   "source": [
    "#check the data type\n",
    "val = train_df.loc[8758,\"countryOfOrigin\"]\n",
    "type(val)\n"
   ]
  },
  {
   "cell_type": "markdown",
   "metadata": {},
   "source": [
    "## MISSING VALUES 1 --> trasformazione awardWins a 0 per i nan"
   ]
  },
  {
   "cell_type": "code",
   "execution_count": 1209,
   "metadata": {},
   "outputs": [],
   "source": [
    "train_df[\"awardWins\"] = train_df[\"awardWins\"].fillna(0)"
   ]
  },
  {
   "cell_type": "code",
   "execution_count": 1210,
   "metadata": {},
   "outputs": [
    {
     "data": {
      "text/plain": [
       "originalTitle                      0\n",
       "rating                             0\n",
       "startYear                          0\n",
       "endYear                        15617\n",
       "runtimeMinutes                  4852\n",
       "awardWins                          0\n",
       "numVotes                           0\n",
       "worstRating                        0\n",
       "bestRating                         0\n",
       "totalImages                        0\n",
       "totalVideos                        0\n",
       "totalCredits                       0\n",
       "criticReviewsTotal                 0\n",
       "titleType                          0\n",
       "awardNominationsExcludeWins        0\n",
       "canHaveEpisodes                    0\n",
       "isRatable                          0\n",
       "isAdult                            0\n",
       "numRegions                         0\n",
       "userReviewsTotal                   0\n",
       "ratingCount                        0\n",
       "countryOfOrigin                    0\n",
       "genres                             0\n",
       "dtype: int64"
      ]
     },
     "execution_count": 1210,
     "metadata": {},
     "output_type": "execute_result"
    }
   ],
   "source": [
    "#controllo\n",
    "train_df.isnull().sum()"
   ]
  },
  {
   "cell_type": "markdown",
   "metadata": {},
   "source": [
    "## MISSING VALUES 2 --> one-hot per generi; i missing hanno 0 in tutte le variabili"
   ]
  },
  {
   "cell_type": "code",
   "execution_count": 1211,
   "metadata": {},
   "outputs": [
    {
     "name": "stdout",
     "output_type": "stream",
     "text": [
      "{'', 'Thriller', 'Family', 'Short', 'Sport', 'Biography', 'Musical', 'Game-Show', 'Crime', 'Mystery', 'Horror', 'Romance', 'Animation', 'Fantasy', 'Action', 'Documentary', 'News', 'History', 'Adult', 'Reality-TV', 'War', 'Sci-Fi', 'Talk-Show', 'Adventure', 'Film-Noir', 'Music', 'Western', 'Comedy', 'Drama'}\n"
     ]
    }
   ],
   "source": [
    "# Flatten all lists and get unique genres\n",
    "all_genres = set(genre for sublist in train_df['genres'] if isinstance(sublist, list) for genre in sublist)\n",
    "print(all_genres)\n"
   ]
  },
  {
   "cell_type": "code",
   "execution_count": 1212,
   "metadata": {},
   "outputs": [],
   "source": [
    "# Create a one-hot encoded column for each genre\n",
    "for genre in all_genres:\n",
    "    train_df[f\"is_{genre}\"] = train_df['genres'].apply(lambda x: 1 if genre in x else 0)\n"
   ]
  },
  {
   "cell_type": "code",
   "execution_count": 1213,
   "metadata": {},
   "outputs": [
    {
     "data": {
      "text/html": [
       "<div>\n",
       "<style scoped>\n",
       "    .dataframe tbody tr th:only-of-type {\n",
       "        vertical-align: middle;\n",
       "    }\n",
       "\n",
       "    .dataframe tbody tr th {\n",
       "        vertical-align: top;\n",
       "    }\n",
       "\n",
       "    .dataframe thead th {\n",
       "        text-align: right;\n",
       "    }\n",
       "</style>\n",
       "<table border=\"1\" class=\"dataframe\">\n",
       "  <thead>\n",
       "    <tr style=\"text-align: right;\">\n",
       "      <th></th>\n",
       "      <th>originalTitle</th>\n",
       "      <th>rating</th>\n",
       "      <th>startYear</th>\n",
       "      <th>endYear</th>\n",
       "      <th>runtimeMinutes</th>\n",
       "      <th>awardWins</th>\n",
       "      <th>numVotes</th>\n",
       "      <th>worstRating</th>\n",
       "      <th>bestRating</th>\n",
       "      <th>totalImages</th>\n",
       "      <th>...</th>\n",
       "      <th>is_Reality-TV</th>\n",
       "      <th>is_War</th>\n",
       "      <th>is_Sci-Fi</th>\n",
       "      <th>is_Talk-Show</th>\n",
       "      <th>is_Adventure</th>\n",
       "      <th>is_Film-Noir</th>\n",
       "      <th>is_Music</th>\n",
       "      <th>is_Western</th>\n",
       "      <th>is_Comedy</th>\n",
       "      <th>is_Drama</th>\n",
       "    </tr>\n",
       "  </thead>\n",
       "  <tbody>\n",
       "    <tr>\n",
       "      <th>0</th>\n",
       "      <td>Neogenic Nightmare Chapter 3: Hydro-Man</td>\n",
       "      <td>8</td>\n",
       "      <td>1995</td>\n",
       "      <td>NaN</td>\n",
       "      <td>NaN</td>\n",
       "      <td>0.0</td>\n",
       "      <td>779</td>\n",
       "      <td>1</td>\n",
       "      <td>10</td>\n",
       "      <td>1</td>\n",
       "      <td>...</td>\n",
       "      <td>0</td>\n",
       "      <td>0</td>\n",
       "      <td>0</td>\n",
       "      <td>0</td>\n",
       "      <td>1</td>\n",
       "      <td>0</td>\n",
       "      <td>0</td>\n",
       "      <td>0</td>\n",
       "      <td>0</td>\n",
       "      <td>0</td>\n",
       "    </tr>\n",
       "    <tr>\n",
       "      <th>1</th>\n",
       "      <td>Looping</td>\n",
       "      <td>6</td>\n",
       "      <td>1982</td>\n",
       "      <td>NaN</td>\n",
       "      <td>NaN</td>\n",
       "      <td>0.0</td>\n",
       "      <td>11</td>\n",
       "      <td>1</td>\n",
       "      <td>10</td>\n",
       "      <td>1</td>\n",
       "      <td>...</td>\n",
       "      <td>0</td>\n",
       "      <td>0</td>\n",
       "      <td>0</td>\n",
       "      <td>0</td>\n",
       "      <td>0</td>\n",
       "      <td>0</td>\n",
       "      <td>0</td>\n",
       "      <td>0</td>\n",
       "      <td>0</td>\n",
       "      <td>0</td>\n",
       "    </tr>\n",
       "    <tr>\n",
       "      <th>2</th>\n",
       "      <td>Idealnaya para</td>\n",
       "      <td>6</td>\n",
       "      <td>1992</td>\n",
       "      <td>NaN</td>\n",
       "      <td>NaN</td>\n",
       "      <td>0.0</td>\n",
       "      <td>38</td>\n",
       "      <td>1</td>\n",
       "      <td>10</td>\n",
       "      <td>1</td>\n",
       "      <td>...</td>\n",
       "      <td>0</td>\n",
       "      <td>0</td>\n",
       "      <td>0</td>\n",
       "      <td>0</td>\n",
       "      <td>0</td>\n",
       "      <td>0</td>\n",
       "      <td>0</td>\n",
       "      <td>0</td>\n",
       "      <td>1</td>\n",
       "      <td>0</td>\n",
       "    </tr>\n",
       "    <tr>\n",
       "      <th>3</th>\n",
       "      <td>MasterChef Celebrity México</td>\n",
       "      <td>6</td>\n",
       "      <td>2021</td>\n",
       "      <td>NaN</td>\n",
       "      <td>NaN</td>\n",
       "      <td>0.0</td>\n",
       "      <td>15</td>\n",
       "      <td>1</td>\n",
       "      <td>10</td>\n",
       "      <td>22</td>\n",
       "      <td>...</td>\n",
       "      <td>1</td>\n",
       "      <td>0</td>\n",
       "      <td>0</td>\n",
       "      <td>0</td>\n",
       "      <td>0</td>\n",
       "      <td>0</td>\n",
       "      <td>0</td>\n",
       "      <td>0</td>\n",
       "      <td>0</td>\n",
       "      <td>0</td>\n",
       "    </tr>\n",
       "    <tr>\n",
       "      <th>4</th>\n",
       "      <td>Seutateueob</td>\n",
       "      <td>8</td>\n",
       "      <td>2020</td>\n",
       "      <td>2020.0</td>\n",
       "      <td>80.0</td>\n",
       "      <td>1.0</td>\n",
       "      <td>15718</td>\n",
       "      <td>1</td>\n",
       "      <td>10</td>\n",
       "      <td>347</td>\n",
       "      <td>...</td>\n",
       "      <td>0</td>\n",
       "      <td>0</td>\n",
       "      <td>0</td>\n",
       "      <td>0</td>\n",
       "      <td>0</td>\n",
       "      <td>0</td>\n",
       "      <td>0</td>\n",
       "      <td>0</td>\n",
       "      <td>1</td>\n",
       "      <td>1</td>\n",
       "    </tr>\n",
       "  </tbody>\n",
       "</table>\n",
       "<p>5 rows × 52 columns</p>\n",
       "</div>"
      ],
      "text/plain": [
       "                             originalTitle  rating  startYear  endYear  \\\n",
       "0  Neogenic Nightmare Chapter 3: Hydro-Man       8       1995      NaN   \n",
       "1                                  Looping       6       1982      NaN   \n",
       "2                           Idealnaya para       6       1992      NaN   \n",
       "3              MasterChef Celebrity México       6       2021      NaN   \n",
       "4                              Seutateueob       8       2020   2020.0   \n",
       "\n",
       "   runtimeMinutes  awardWins  numVotes  worstRating  bestRating  totalImages  \\\n",
       "0             NaN        0.0       779            1          10            1   \n",
       "1             NaN        0.0        11            1          10            1   \n",
       "2             NaN        0.0        38            1          10            1   \n",
       "3             NaN        0.0        15            1          10           22   \n",
       "4            80.0        1.0     15718            1          10          347   \n",
       "\n",
       "   ...  is_Reality-TV  is_War  is_Sci-Fi is_Talk-Show  is_Adventure  \\\n",
       "0  ...              0       0          0            0             1   \n",
       "1  ...              0       0          0            0             0   \n",
       "2  ...              0       0          0            0             0   \n",
       "3  ...              1       0          0            0             0   \n",
       "4  ...              0       0          0            0             0   \n",
       "\n",
       "   is_Film-Noir  is_Music  is_Western  is_Comedy  is_Drama  \n",
       "0             0         0           0          0         0  \n",
       "1             0         0           0          0         0  \n",
       "2             0         0           0          1         0  \n",
       "3             0         0           0          0         0  \n",
       "4             0         0           0          1         1  \n",
       "\n",
       "[5 rows x 52 columns]"
      ]
     },
     "execution_count": 1213,
     "metadata": {},
     "output_type": "execute_result"
    }
   ],
   "source": [
    "train_df.head()"
   ]
  },
  {
   "cell_type": "code",
   "execution_count": 1214,
   "metadata": {},
   "outputs": [],
   "source": [
    "#droppiamo colonna [\"is_\"] così che il vettore per i record che non hanno genere siano tutti 0\n",
    "train_df.drop([\"is_\"], axis=1, inplace=True)"
   ]
  },
  {
   "cell_type": "code",
   "execution_count": 1215,
   "metadata": {},
   "outputs": [
    {
     "data": {
      "text/plain": [
       "genres            []\n",
       "is_Thriller        0\n",
       "is_Family          0\n",
       "is_Short           0\n",
       "is_Sport           0\n",
       "is_Biography       0\n",
       "is_Musical         0\n",
       "is_Game-Show       0\n",
       "is_Crime           0\n",
       "is_Mystery         0\n",
       "is_Horror          0\n",
       "is_Romance         0\n",
       "is_Animation       0\n",
       "is_Fantasy         0\n",
       "is_Action          0\n",
       "is_Documentary     0\n",
       "is_News            0\n",
       "is_History         0\n",
       "is_Adult           0\n",
       "is_Reality-TV      0\n",
       "is_War             0\n",
       "is_Sci-Fi          0\n",
       "is_Talk-Show       0\n",
       "is_Adventure       0\n",
       "is_Film-Noir       0\n",
       "is_Music           0\n",
       "is_Western         0\n",
       "is_Comedy          0\n",
       "is_Drama           0\n",
       "Name: 31, dtype: object"
      ]
     },
     "execution_count": 1215,
     "metadata": {},
     "output_type": "execute_result"
    }
   ],
   "source": [
    "x = train_df.iloc[31,22:]\n",
    "x"
   ]
  },
  {
   "cell_type": "markdown",
   "metadata": {},
   "source": [
    "## MISSING VALUES 3 --> sostituire i nan di runtimeMins come mediana raggruppato per titletype"
   ]
  },
  {
   "cell_type": "code",
   "execution_count": 1216,
   "metadata": {},
   "outputs": [],
   "source": [
    "#creiamo nuova colonna runtimeMinutes dove sostituiamo i nan con mediana \n",
    "train_df[\"fill_runtimeMinutes\"] = train_df.groupby([\"titleType\"])[\"runtimeMinutes\"].transform(lambda x: x.fillna(x.median()))"
   ]
  },
  {
   "cell_type": "code",
   "execution_count": 1217,
   "metadata": {},
   "outputs": [
    {
     "data": {
      "text/plain": [
       "originalTitle                      0\n",
       "rating                             0\n",
       "startYear                          0\n",
       "endYear                        15617\n",
       "runtimeMinutes                  4852\n",
       "awardWins                          0\n",
       "numVotes                           0\n",
       "worstRating                        0\n",
       "bestRating                         0\n",
       "totalImages                        0\n",
       "totalVideos                        0\n",
       "totalCredits                       0\n",
       "criticReviewsTotal                 0\n",
       "titleType                          0\n",
       "awardNominationsExcludeWins        0\n",
       "canHaveEpisodes                    0\n",
       "isRatable                          0\n",
       "isAdult                            0\n",
       "numRegions                         0\n",
       "userReviewsTotal                   0\n",
       "ratingCount                        0\n",
       "countryOfOrigin                    0\n",
       "genres                             0\n",
       "is_Thriller                        0\n",
       "is_Family                          0\n",
       "is_Short                           0\n",
       "is_Sport                           0\n",
       "is_Biography                       0\n",
       "is_Musical                         0\n",
       "is_Game-Show                       0\n",
       "is_Crime                           0\n",
       "is_Mystery                         0\n",
       "is_Horror                          0\n",
       "is_Romance                         0\n",
       "is_Animation                       0\n",
       "is_Fantasy                         0\n",
       "is_Action                          0\n",
       "is_Documentary                     0\n",
       "is_News                            0\n",
       "is_History                         0\n",
       "is_Adult                           0\n",
       "is_Reality-TV                      0\n",
       "is_War                             0\n",
       "is_Sci-Fi                          0\n",
       "is_Talk-Show                       0\n",
       "is_Adventure                       0\n",
       "is_Film-Noir                       0\n",
       "is_Music                           0\n",
       "is_Western                         0\n",
       "is_Comedy                          0\n",
       "is_Drama                           0\n",
       "fill_runtimeMinutes                0\n",
       "dtype: int64"
      ]
     },
     "execution_count": 1217,
     "metadata": {},
     "output_type": "execute_result"
    }
   ],
   "source": [
    "#controllo; ha senso che runtimeMins abbia ancora quei nan perchè il problema è stato risolto su un'altra colonna nuova creata ad hoc\n",
    "train_df.isnull().sum()"
   ]
  },
  {
   "cell_type": "markdown",
   "metadata": {},
   "source": [
    "### Drop della colonna \"genres\" dato che abbiamo già fatto il one-hot encoding"
   ]
  },
  {
   "cell_type": "code",
   "execution_count": 1218,
   "metadata": {},
   "outputs": [],
   "source": [
    "train_df.drop([\"genres\"], axis=1, inplace=True)"
   ]
  },
  {
   "cell_type": "markdown",
   "metadata": {},
   "source": [
    "### Applicazione delle modifiche in nuovo csv"
   ]
  },
  {
   "cell_type": "code",
   "execution_count": 1219,
   "metadata": {},
   "outputs": [],
   "source": [
    "train_df.to_csv('pp_train.csv', index=False, header=True)"
   ]
  }
 ],
 "metadata": {
  "kernelspec": {
   "display_name": "Python 3",
   "language": "python",
   "name": "python3"
  },
  "language_info": {
   "codemirror_mode": {
    "name": "ipython",
    "version": 3
   },
   "file_extension": ".py",
   "mimetype": "text/x-python",
   "name": "python",
   "nbconvert_exporter": "python",
   "pygments_lexer": "ipython3",
   "version": "3.8.2"
  }
 },
 "nbformat": 4,
 "nbformat_minor": 2
}
