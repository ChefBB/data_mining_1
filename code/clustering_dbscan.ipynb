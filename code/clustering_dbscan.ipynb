{
 "cells": [
  {
   "cell_type": "code",
   "execution_count": 120,
   "metadata": {},
   "outputs": [],
   "source": [
    "import numpy as np\n",
    "import pandas as pd\n",
    "import matplotlib.pyplot as plt \n",
    "import seaborn as sns\n",
    "\n",
    "from constants import numeric_columns as num_cols\n",
    "\n",
    "\n",
    "#in titanic\n",
    "#   import math"
   ]
  },
  {
   "cell_type": "code",
   "execution_count": 121,
   "metadata": {},
   "outputs": [],
   "source": [
    "#scaling, normalization\n",
    "from sklearn.preprocessing import StandardScaler, MinMaxScaler\n",
    "\n",
    "#kmeans, dbscan, hierarchical (sklearn)\n",
    "from sklearn.cluster import DBSCAN\n",
    "\n",
    "#in titanic fa con scipy\n",
    "    #from scipy.cluster.hierarchy import linkage, dendrogram, fcluster\n",
    "\n",
    "#vedere se serve\n",
    "#evaluation\n",
    "from sklearn.metrics import silhouette_score\n",
    "\n",
    "#vedere se serve\n",
    "#distance matrix (dbscan elbow, hierarchical)\n",
    "from scipy.spatial.distance import pdist, squareform\n"
   ]
  },
  {
   "cell_type": "code",
   "execution_count": 122,
   "metadata": {},
   "outputs": [
    {
     "data": {
      "text/html": [
       "<div>\n",
       "<style scoped>\n",
       "    .dataframe tbody tr th:only-of-type {\n",
       "        vertical-align: middle;\n",
       "    }\n",
       "\n",
       "    .dataframe tbody tr th {\n",
       "        vertical-align: top;\n",
       "    }\n",
       "\n",
       "    .dataframe thead th {\n",
       "        text-align: right;\n",
       "    }\n",
       "</style>\n",
       "<table border=\"1\" class=\"dataframe\">\n",
       "  <thead>\n",
       "    <tr style=\"text-align: right;\">\n",
       "      <th></th>\n",
       "      <th>originalTitle</th>\n",
       "      <th>rating</th>\n",
       "      <th>startYear</th>\n",
       "      <th>endYear</th>\n",
       "      <th>runtimeMinutes</th>\n",
       "      <th>awardWins</th>\n",
       "      <th>numVotes</th>\n",
       "      <th>totalImages</th>\n",
       "      <th>totalVideos</th>\n",
       "      <th>totalCredits</th>\n",
       "      <th>...</th>\n",
       "      <th>is_Fantasy</th>\n",
       "      <th>is_Family</th>\n",
       "      <th>is_Mystery</th>\n",
       "      <th>is_Talk-Show</th>\n",
       "      <th>is_Drama</th>\n",
       "      <th>is_Sport</th>\n",
       "      <th>is_War</th>\n",
       "      <th>is_Horror</th>\n",
       "      <th>is_Animation</th>\n",
       "      <th>fill_runtimeMinutes</th>\n",
       "    </tr>\n",
       "  </thead>\n",
       "  <tbody>\n",
       "    <tr>\n",
       "      <th>0</th>\n",
       "      <td>Neogenic Nightmare Chapter 3: Hydro-Man</td>\n",
       "      <td>8</td>\n",
       "      <td>1995</td>\n",
       "      <td>NaN</td>\n",
       "      <td>NaN</td>\n",
       "      <td>0.0</td>\n",
       "      <td>779</td>\n",
       "      <td>1</td>\n",
       "      <td>0</td>\n",
       "      <td>21</td>\n",
       "      <td>...</td>\n",
       "      <td>0</td>\n",
       "      <td>0</td>\n",
       "      <td>0</td>\n",
       "      <td>0</td>\n",
       "      <td>0</td>\n",
       "      <td>0</td>\n",
       "      <td>0</td>\n",
       "      <td>0</td>\n",
       "      <td>1</td>\n",
       "      <td>40.0</td>\n",
       "    </tr>\n",
       "    <tr>\n",
       "      <th>1</th>\n",
       "      <td>Looping</td>\n",
       "      <td>6</td>\n",
       "      <td>1982</td>\n",
       "      <td>NaN</td>\n",
       "      <td>NaN</td>\n",
       "      <td>0.0</td>\n",
       "      <td>11</td>\n",
       "      <td>1</td>\n",
       "      <td>0</td>\n",
       "      <td>1</td>\n",
       "      <td>...</td>\n",
       "      <td>0</td>\n",
       "      <td>0</td>\n",
       "      <td>0</td>\n",
       "      <td>0</td>\n",
       "      <td>0</td>\n",
       "      <td>0</td>\n",
       "      <td>0</td>\n",
       "      <td>0</td>\n",
       "      <td>0</td>\n",
       "      <td>28.0</td>\n",
       "    </tr>\n",
       "    <tr>\n",
       "      <th>2</th>\n",
       "      <td>Idealnaya para</td>\n",
       "      <td>6</td>\n",
       "      <td>1992</td>\n",
       "      <td>NaN</td>\n",
       "      <td>NaN</td>\n",
       "      <td>0.0</td>\n",
       "      <td>38</td>\n",
       "      <td>1</td>\n",
       "      <td>0</td>\n",
       "      <td>24</td>\n",
       "      <td>...</td>\n",
       "      <td>0</td>\n",
       "      <td>0</td>\n",
       "      <td>0</td>\n",
       "      <td>0</td>\n",
       "      <td>0</td>\n",
       "      <td>0</td>\n",
       "      <td>0</td>\n",
       "      <td>0</td>\n",
       "      <td>0</td>\n",
       "      <td>90.0</td>\n",
       "    </tr>\n",
       "    <tr>\n",
       "      <th>3</th>\n",
       "      <td>MasterChef Celebrity México</td>\n",
       "      <td>6</td>\n",
       "      <td>2021</td>\n",
       "      <td>NaN</td>\n",
       "      <td>NaN</td>\n",
       "      <td>0.0</td>\n",
       "      <td>15</td>\n",
       "      <td>22</td>\n",
       "      <td>0</td>\n",
       "      <td>56</td>\n",
       "      <td>...</td>\n",
       "      <td>0</td>\n",
       "      <td>0</td>\n",
       "      <td>0</td>\n",
       "      <td>0</td>\n",
       "      <td>0</td>\n",
       "      <td>0</td>\n",
       "      <td>0</td>\n",
       "      <td>0</td>\n",
       "      <td>0</td>\n",
       "      <td>31.0</td>\n",
       "    </tr>\n",
       "    <tr>\n",
       "      <th>4</th>\n",
       "      <td>Seutateueob</td>\n",
       "      <td>8</td>\n",
       "      <td>2020</td>\n",
       "      <td>2020.0</td>\n",
       "      <td>80.0</td>\n",
       "      <td>1.0</td>\n",
       "      <td>15718</td>\n",
       "      <td>347</td>\n",
       "      <td>2</td>\n",
       "      <td>47</td>\n",
       "      <td>...</td>\n",
       "      <td>0</td>\n",
       "      <td>0</td>\n",
       "      <td>0</td>\n",
       "      <td>0</td>\n",
       "      <td>1</td>\n",
       "      <td>0</td>\n",
       "      <td>0</td>\n",
       "      <td>0</td>\n",
       "      <td>0</td>\n",
       "      <td>80.0</td>\n",
       "    </tr>\n",
       "  </tbody>\n",
       "</table>\n",
       "<p>5 rows × 47 columns</p>\n",
       "</div>"
      ],
      "text/plain": [
       "                             originalTitle  rating  startYear  endYear  \\\n",
       "0  Neogenic Nightmare Chapter 3: Hydro-Man       8       1995      NaN   \n",
       "1                                  Looping       6       1982      NaN   \n",
       "2                           Idealnaya para       6       1992      NaN   \n",
       "3              MasterChef Celebrity México       6       2021      NaN   \n",
       "4                              Seutateueob       8       2020   2020.0   \n",
       "\n",
       "   runtimeMinutes  awardWins  numVotes  totalImages  totalVideos  \\\n",
       "0             NaN        0.0       779            1            0   \n",
       "1             NaN        0.0        11            1            0   \n",
       "2             NaN        0.0        38            1            0   \n",
       "3             NaN        0.0        15           22            0   \n",
       "4            80.0        1.0     15718          347            2   \n",
       "\n",
       "   totalCredits  ...  is_Fantasy is_Family  is_Mystery  is_Talk-Show  \\\n",
       "0            21  ...           0         0           0             0   \n",
       "1             1  ...           0         0           0             0   \n",
       "2            24  ...           0         0           0             0   \n",
       "3            56  ...           0         0           0             0   \n",
       "4            47  ...           0         0           0             0   \n",
       "\n",
       "   is_Drama  is_Sport  is_War is_Horror  is_Animation  fill_runtimeMinutes  \n",
       "0         0         0       0         0             1                 40.0  \n",
       "1         0         0       0         0             0                 28.0  \n",
       "2         0         0       0         0             0                 90.0  \n",
       "3         0         0       0         0             0                 31.0  \n",
       "4         1         0       0         0             0                 80.0  \n",
       "\n",
       "[5 rows x 47 columns]"
      ]
     },
     "execution_count": 122,
     "metadata": {},
     "output_type": "execute_result"
    }
   ],
   "source": [
    "df = pd.read_csv(\"pp_train.csv\")\n",
    "df.head()"
   ]
  },
  {
   "cell_type": "code",
   "execution_count": 123,
   "metadata": {},
   "outputs": [
    {
     "data": {
      "text/plain": [
       "awardWins\n",
       "0.0      14589\n",
       "1.0        860\n",
       "2.0        354\n",
       "3.0        173\n",
       "4.0        116\n",
       "5.0         74\n",
       "7.0         43\n",
       "6.0         36\n",
       "8.0         30\n",
       "10.0        20\n",
       "9.0         20\n",
       "11.0        16\n",
       "12.0        14\n",
       "13.0         7\n",
       "16.0         6\n",
       "14.0         6\n",
       "20.0         5\n",
       "26.0         5\n",
       "19.0         5\n",
       "24.0         5\n",
       "17.0         5\n",
       "23.0         5\n",
       "15.0         5\n",
       "28.0         4\n",
       "18.0         3\n",
       "30.0         2\n",
       "49.0         2\n",
       "21.0         2\n",
       "35.0         1\n",
       "37.0         1\n",
       "43.0         1\n",
       "36.0         1\n",
       "83.0         1\n",
       "76.0         1\n",
       "22.0         1\n",
       "50.0         1\n",
       "25.0         1\n",
       "31.0         1\n",
       "62.0         1\n",
       "75.0         1\n",
       "29.0         1\n",
       "109.0        1\n",
       "39.0         1\n",
       "57.0         1\n",
       "34.0         1\n",
       "145.0        1\n",
       "47.0         1\n",
       "Name: count, dtype: int64"
      ]
     },
     "execution_count": 123,
     "metadata": {},
     "output_type": "execute_result"
    }
   ],
   "source": [
    "df[\"awardWins\"].value_counts()"
   ]
  },
  {
   "cell_type": "code",
   "execution_count": 124,
   "metadata": {},
   "outputs": [],
   "source": [
    "#columns \n",
    "#   'startYear', 'runtimeMinutes', 'awardWins', 'numVotes', 'totalImages',\n",
    "#   'totalVideos', 'totalCredits', 'criticReviewsTotal', 'awardNominationsExcludeWins',\n",
    "#   'numRegions', 'userReviewsTotal','ratingCount'\n",
    "# ????\n",
    "#   'rating', 'canHaveEpisodes', 'isAdult', 'genres' (as 1henc or as a count?)"
   ]
  },
  {
   "cell_type": "code",
   "execution_count": 125,
   "metadata": {},
   "outputs": [],
   "source": [
    "features = df[['startYear', 'fill_runtimeMinutes', 'awardWins', 'numVotes', 'totalImages','totalVideos', 'totalCredits', 'criticReviewsTotal', \n",
    "               'awardNominationsExcludeWins','numRegions', 'userReviewsTotal']]\n",
    "\n",
    "df_num = features.values"
   ]
  },
  {
   "cell_type": "code",
   "execution_count": 126,
   "metadata": {},
   "outputs": [],
   "source": [
    "#presuppongo di voler fare poi i controlli cluster in abse a titletype\n",
    "y = np.array(df['titleType']) \n",
    "#a way to define x and y; they are the numpy arrays of the dataset\n",
    "\n",
    "y_map = {\n",
    "    0: 'tvEpisode',\n",
    "    1: 'videoGame',\n",
    "    2: 'movie',\n",
    "    3: 'tvSeries',\n",
    "    4: 'video',\n",
    "    5: 'tvMiniSeries',\n",
    "    6: 'short',\n",
    "    7: 'tvMovie',\n",
    "    8: 'tvSpecial',\n",
    "    9: 'tvShort'\n",
    "}\n",
    "y_mapped = pd.DataFrame(y).iloc[:,0].map(y_map)\n",
    "#y is our target label; mapped into strings (y_map)"
   ]
  },
  {
   "cell_type": "markdown",
   "metadata": {},
   "source": [
    "### Normalizations "
   ]
  },
  {
   "cell_type": "code",
   "execution_count": 127,
   "metadata": {},
   "outputs": [],
   "source": [
    "## logaritmica"
   ]
  },
  {
   "cell_type": "code",
   "execution_count": 128,
   "metadata": {},
   "outputs": [],
   "source": [
    "X = df_num.copy()\n",
    "X = np.log1p(X)"
   ]
  },
  {
   "cell_type": "code",
   "execution_count": 129,
   "metadata": {},
   "outputs": [],
   "source": [
    "## Sklearn -> inizializza metodo, fit su dati che abbiamo, transform/predict in base al metodo"
   ]
  },
  {
   "cell_type": "code",
   "execution_count": 130,
   "metadata": {},
   "outputs": [],
   "source": [
    "# z-score, fit and then transform\n",
    "scaler = StandardScaler()   #inizialize the standard scaler\n",
    "scaler.fit(X) #fit the scaler on the data; x è la numpy matrix of the dataset\n",
    "X_z_scal = scaler.transform(X) #transform to have the scaled version\n",
    "\n",
    "\n",
    "# min-max, fit and trasform directly\n",
    "scaler = MinMaxScaler()\n",
    "X_minmax = scaler.fit_transform(X) #fit e scaler in una riga sola"
   ]
  },
  {
   "cell_type": "code",
   "execution_count": 131,
   "metadata": {},
   "outputs": [],
   "source": [
    "X_scal = X_z_scal"
   ]
  },
  {
   "cell_type": "markdown",
   "metadata": {},
   "source": [
    "## DBSCAN"
   ]
  },
  {
   "cell_type": "code",
   "execution_count": 222,
   "metadata": {},
   "outputs": [
    {
     "data": {
      "text/html": [
       "<style>#sk-container-id-56 {color: black;}#sk-container-id-56 pre{padding: 0;}#sk-container-id-56 div.sk-toggleable {background-color: white;}#sk-container-id-56 label.sk-toggleable__label {cursor: pointer;display: block;width: 100%;margin-bottom: 0;padding: 0.3em;box-sizing: border-box;text-align: center;}#sk-container-id-56 label.sk-toggleable__label-arrow:before {content: \"▸\";float: left;margin-right: 0.25em;color: #696969;}#sk-container-id-56 label.sk-toggleable__label-arrow:hover:before {color: black;}#sk-container-id-56 div.sk-estimator:hover label.sk-toggleable__label-arrow:before {color: black;}#sk-container-id-56 div.sk-toggleable__content {max-height: 0;max-width: 0;overflow: hidden;text-align: left;background-color: #f0f8ff;}#sk-container-id-56 div.sk-toggleable__content pre {margin: 0.2em;color: black;border-radius: 0.25em;background-color: #f0f8ff;}#sk-container-id-56 input.sk-toggleable__control:checked~div.sk-toggleable__content {max-height: 200px;max-width: 100%;overflow: auto;}#sk-container-id-56 input.sk-toggleable__control:checked~label.sk-toggleable__label-arrow:before {content: \"▾\";}#sk-container-id-56 div.sk-estimator input.sk-toggleable__control:checked~label.sk-toggleable__label {background-color: #d4ebff;}#sk-container-id-56 div.sk-label input.sk-toggleable__control:checked~label.sk-toggleable__label {background-color: #d4ebff;}#sk-container-id-56 input.sk-hidden--visually {border: 0;clip: rect(1px 1px 1px 1px);clip: rect(1px, 1px, 1px, 1px);height: 1px;margin: -1px;overflow: hidden;padding: 0;position: absolute;width: 1px;}#sk-container-id-56 div.sk-estimator {font-family: monospace;background-color: #f0f8ff;border: 1px dotted black;border-radius: 0.25em;box-sizing: border-box;margin-bottom: 0.5em;}#sk-container-id-56 div.sk-estimator:hover {background-color: #d4ebff;}#sk-container-id-56 div.sk-parallel-item::after {content: \"\";width: 100%;border-bottom: 1px solid gray;flex-grow: 1;}#sk-container-id-56 div.sk-label:hover label.sk-toggleable__label {background-color: #d4ebff;}#sk-container-id-56 div.sk-serial::before {content: \"\";position: absolute;border-left: 1px solid gray;box-sizing: border-box;top: 0;bottom: 0;left: 50%;z-index: 0;}#sk-container-id-56 div.sk-serial {display: flex;flex-direction: column;align-items: center;background-color: white;padding-right: 0.2em;padding-left: 0.2em;position: relative;}#sk-container-id-56 div.sk-item {position: relative;z-index: 1;}#sk-container-id-56 div.sk-parallel {display: flex;align-items: stretch;justify-content: center;background-color: white;position: relative;}#sk-container-id-56 div.sk-item::before, #sk-container-id-56 div.sk-parallel-item::before {content: \"\";position: absolute;border-left: 1px solid gray;box-sizing: border-box;top: 0;bottom: 0;left: 50%;z-index: -1;}#sk-container-id-56 div.sk-parallel-item {display: flex;flex-direction: column;z-index: 1;position: relative;background-color: white;}#sk-container-id-56 div.sk-parallel-item:first-child::after {align-self: flex-end;width: 50%;}#sk-container-id-56 div.sk-parallel-item:last-child::after {align-self: flex-start;width: 50%;}#sk-container-id-56 div.sk-parallel-item:only-child::after {width: 0;}#sk-container-id-56 div.sk-dashed-wrapped {border: 1px dashed gray;margin: 0 0.4em 0.5em 0.4em;box-sizing: border-box;padding-bottom: 0.4em;background-color: white;}#sk-container-id-56 div.sk-label label {font-family: monospace;font-weight: bold;display: inline-block;line-height: 1.2em;}#sk-container-id-56 div.sk-label-container {text-align: center;}#sk-container-id-56 div.sk-container {/* jupyter's `normalize.less` sets `[hidden] { display: none; }` but bootstrap.min.css set `[hidden] { display: none !important; }` so we also need the `!important` here to be able to override the default hidden behavior on the sphinx rendered scikit-learn.org. See: https://github.com/scikit-learn/scikit-learn/issues/21755 */display: inline-block !important;position: relative;}#sk-container-id-56 div.sk-text-repr-fallback {display: none;}</style><div id=\"sk-container-id-56\" class=\"sk-top-container\"><div class=\"sk-text-repr-fallback\"><pre>DBSCAN(eps=1.98, min_samples=11)</pre><b>In a Jupyter environment, please rerun this cell to show the HTML representation or trust the notebook. <br />On GitHub, the HTML representation is unable to render, please try loading this page with nbviewer.org.</b></div><div class=\"sk-container\" hidden><div class=\"sk-item\"><div class=\"sk-estimator sk-toggleable\"><input class=\"sk-toggleable__control sk-hidden--visually\" id=\"sk-estimator-id-56\" type=\"checkbox\" checked><label for=\"sk-estimator-id-56\" class=\"sk-toggleable__label sk-toggleable__label-arrow\">DBSCAN</label><div class=\"sk-toggleable__content\"><pre>DBSCAN(eps=1.98, min_samples=11)</pre></div></div></div></div></div>"
      ],
      "text/plain": [
       "DBSCAN(eps=1.98, min_samples=11)"
      ]
     },
     "execution_count": 222,
     "metadata": {},
     "output_type": "execute_result"
    }
   ],
   "source": [
    "dbscan = DBSCAN(eps=1.98, min_samples=11, metric=\"euclidean\")\n",
    "dbscan.fit(X_scal)\n",
    "\n",
    "#initiialize and fit into data "
   ]
  },
  {
   "cell_type": "code",
   "execution_count": 133,
   "metadata": {},
   "outputs": [
    {
     "data": {
      "text/plain": [
       "'\\nsns.scatterplot(data=df,x=\"criticReviewsTotal\", y=\"numVotes\", \\n                hue=dbscan.labels_, style=dbscan.labels_, palette=\"bright\")\\nplt.show()\\n'"
      ]
     },
     "execution_count": 133,
     "metadata": {},
     "output_type": "execute_result"
    }
   ],
   "source": [
    "#standscale\n",
    "\"\"\"\n",
    "sns.scatterplot(data=df,x=\"criticReviewsTotal\", y=\"numVotes\", \n",
    "                hue=dbscan.labels_, style=dbscan.labels_, palette=\"bright\")\n",
    "plt.show()\n",
    "\"\"\" "
   ]
  },
  {
   "cell_type": "code",
   "execution_count": 223,
   "metadata": {},
   "outputs": [
    {
     "data": {
      "text/plain": [
       "(array([-1,  0,  1], dtype=int64), array([  799, 14537,  1095], dtype=int64))"
      ]
     },
     "execution_count": 223,
     "metadata": {},
     "output_type": "execute_result"
    }
   ],
   "source": [
    "np.unique(dbscan.labels_, return_counts=True)\n",
    "#to have the classification of the different clusters (messi dopo -> -1 è il noise) e quanti points in ogni cluster"
   ]
  },
  {
   "cell_type": "code",
   "execution_count": 224,
   "metadata": {},
   "outputs": [
    {
     "name": "stdout",
     "output_type": "stream",
     "text": [
      "Silhouette 0.3146315835392099\n",
      "Silhouette 0.3350957970152227\n"
     ]
    }
   ],
   "source": [
    "# counting silhouette also w.r.t to noise cluster (-1)\n",
    "print('Silhouette', silhouette_score(X_scal, dbscan.labels_)) \n",
    "\n",
    "#considering DBSCAN but not noise cluster\n",
    "print('Silhouette', silhouette_score(X_scal[dbscan.labels_ != -1], dbscan.labels_[dbscan.labels_ != -1])) \n",
    "\n",
    "#when we measure silh. on DBSCAN labels we would count the silh. also with respect to noise cluster (-1)\n",
    "#se non si considerano il noise cl. la silhouette è higher perchè noise points are far and so this influences silh. due to the long distances  \n",
    "#so everytime that we measure the silhouette for DBSCAN scartiamo anche noise così misuriamo risultato solo sui cluster"
   ]
  },
  {
   "cell_type": "code",
   "execution_count": 136,
   "metadata": {},
   "outputs": [
    {
     "data": {
      "text/plain": [
       "array([ 0,  0,  0, ..., -1,  1,  0], dtype=int64)"
      ]
     },
     "execution_count": 136,
     "metadata": {},
     "output_type": "execute_result"
    }
   ],
   "source": [
    "dbscan.labels_\n",
    "\n",
    "#possiamo accedere alle label-> possiamo fare quello che vogliamo"
   ]
  },
  {
   "cell_type": "markdown",
   "metadata": {},
   "source": [
    "### kth neighbor distance"
   ]
  },
  {
   "cell_type": "code",
   "execution_count": 137,
   "metadata": {},
   "outputs": [],
   "source": [
    "#misuro distanze dal kth nearest n. -> usando pairwise distance da ogni pt (ptovo con eucl)\n",
    "dist = pdist(X_scal, 'euclidean') \n",
    "dist = squareform(dist)\n",
    "\n",
    "#risultato -> array compresso con distanze per ogni coppia di punti nel dataset."
   ]
  },
  {
   "cell_type": "code",
   "execution_count": 138,
   "metadata": {},
   "outputs": [
    {
     "data": {
      "image/png": "[encoded data removed]",
      "text/plain": [
       "<Figure size 640x480 with 1 Axes>"
      ]
     },
     "metadata": {},
     "output_type": "display_data"
    }
   ],
   "source": [
    "k=4\n",
    "kth_distances = []\n",
    "\n",
    "for d in dist:  # d is a vector containing distances between the ith record and all the others\n",
    "    index_kth_distance = np.argsort(d)[k]  # take the index of the kth nearest neighbor\n",
    "    kth_distances.append(d[index_kth_distance])  # store the distance in a list\n",
    "\n",
    "\n",
    "plt.plot(range(0, len(kth_distances)), sorted(kth_distances))\n",
    "plt.ylabel('distance from the {}th neighbor'.format(k))\n",
    "plt.grid(True, alpha=0.3)\n",
    "plt.show()"
   ]
  },
  {
   "cell_type": "code",
   "execution_count": 160,
   "metadata": {},
   "outputs": [
    {
     "data": {
      "image/png": "[encoded data removed]",
      "text/plain": [
       "<Figure size 1600x300 with 3 Axes>"
      ]
     },
     "metadata": {},
     "output_type": "display_data"
    }
   ],
   "source": [
    "#\"\"\"\n",
    "#dobbiamo farlo non solo con il quarto -> helpful if the data is larger\n",
    "#infatti nell'ultimo, usando il 62 -> if we consider clustering by using 62 points for a point to be considered as a core point vediamo i due cluster\n",
    "ks = [11, 22, 30]\n",
    "\n",
    "\n",
    "fig = plt.figure(figsize=(16, 3)) # dimensions of the overall plot\n",
    "fig_dims = (1, len(ks))\n",
    "\n",
    "for i in range(len(ks)):\n",
    "    k = ks[i]\n",
    "    kth_distances = []\n",
    "\n",
    "    for d in dist:  # d is a vector containing distances between the ith record and all the others\n",
    "        index_kth_distance = np.argsort(d)[k]  # take the index of the kth nearest neighbor\n",
    "        kth_distances.append(d[index_kth_distance])  # store the distance in a list\n",
    "\n",
    "    plt.subplot2grid(fig_dims, (0, i))\n",
    "    plt.plot(range(0, len(kth_distances)), sorted(kth_distances))\n",
    "    plt.ylabel('distance from the {}th neighbor'.format(k))\n",
    "    plt.grid(True, alpha=0.3)\n",
    "             \n",
    "#plt.tight_layout()\n",
    "#fig, axes = plt.subplots(2, 3, figsize=(15, 10))\n",
    "plt.show()\n",
    "#\"\"\""
   ]
  }
 ],
 "metadata": {
  "kernelspec": {
   "display_name": "Python 3",
   "language": "python",
   "name": "python3"
  },
  "language_info": {
   "codemirror_mode": {
    "name": "ipython",
    "version": 3
   },
   "file_extension": ".py",
   "mimetype": "text/x-python",
   "name": "python",
   "nbconvert_exporter": "python",
   "pygments_lexer": "ipython3",
   "version": "3.8.2"
  }
 },
 "nbformat": 4,
 "nbformat_minor": 2
}
