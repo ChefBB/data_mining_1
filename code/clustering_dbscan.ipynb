{
 "cells": [
  {
   "cell_type": "code",
   "execution_count": 173,
   "metadata": {},
   "outputs": [],
   "source": [
    "import numpy as np\n",
    "import pandas as pd\n",
    "import matplotlib.pyplot as plt \n",
    "import seaborn as sns\n",
    "\n",
    "from constants import numeric_columns as num_cols\n",
    "\n",
    "\n",
    "#in titanic\n",
    "#   import math"
   ]
  },
  {
   "cell_type": "code",
   "execution_count": 174,
   "metadata": {},
   "outputs": [],
   "source": [
    "#scaling, normalization\n",
    "from sklearn.preprocessing import StandardScaler, MinMaxScaler\n",
    "\n",
    "#kmeans, dbscan, hierarchical (sklearn)\n",
    "from sklearn.cluster import DBSCAN\n",
    "\n",
    "#in titanic fa con scipy\n",
    "    #from scipy.cluster.hierarchy import linkage, dendrogram, fcluster\n",
    "\n",
    "#vedere se serve\n",
    "#evaluation\n",
    "from sklearn.metrics import silhouette_score\n",
    "\n",
    "#vedere se serve\n",
    "#distance matrix (dbscan elbow, hierarchical)\n",
    "from scipy.spatial.distance import pdist, squareform\n"
   ]
  },
  {
   "cell_type": "code",
   "execution_count": 175,
   "metadata": {},
   "outputs": [
    {
     "data": {
      "text/html": [
       "<div>\n",
       "<style scoped>\n",
       "    .dataframe tbody tr th:only-of-type {\n",
       "        vertical-align: middle;\n",
       "    }\n",
       "\n",
       "    .dataframe tbody tr th {\n",
       "        vertical-align: top;\n",
       "    }\n",
       "\n",
       "    .dataframe thead th {\n",
       "        text-align: right;\n",
       "    }\n",
       "</style>\n",
       "<table border=\"1\" class=\"dataframe\">\n",
       "  <thead>\n",
       "    <tr style=\"text-align: right;\">\n",
       "      <th></th>\n",
       "      <th>originalTitle</th>\n",
       "      <th>rating</th>\n",
       "      <th>startYear</th>\n",
       "      <th>endYear</th>\n",
       "      <th>runtimeMinutes</th>\n",
       "      <th>awardWins</th>\n",
       "      <th>numVotes</th>\n",
       "      <th>totalImages</th>\n",
       "      <th>totalVideos</th>\n",
       "      <th>totalCredits</th>\n",
       "      <th>...</th>\n",
       "      <th>is_Fantasy</th>\n",
       "      <th>is_Family</th>\n",
       "      <th>is_Mystery</th>\n",
       "      <th>is_Talk-Show</th>\n",
       "      <th>is_Drama</th>\n",
       "      <th>is_Sport</th>\n",
       "      <th>is_War</th>\n",
       "      <th>is_Horror</th>\n",
       "      <th>is_Animation</th>\n",
       "      <th>fill_runtimeMinutes</th>\n",
       "    </tr>\n",
       "  </thead>\n",
       "  <tbody>\n",
       "    <tr>\n",
       "      <th>0</th>\n",
       "      <td>Neogenic Nightmare Chapter 3: Hydro-Man</td>\n",
       "      <td>8</td>\n",
       "      <td>1995</td>\n",
       "      <td>NaN</td>\n",
       "      <td>NaN</td>\n",
       "      <td>0.0</td>\n",
       "      <td>779</td>\n",
       "      <td>1</td>\n",
       "      <td>0</td>\n",
       "      <td>21</td>\n",
       "      <td>...</td>\n",
       "      <td>0</td>\n",
       "      <td>0</td>\n",
       "      <td>0</td>\n",
       "      <td>0</td>\n",
       "      <td>0</td>\n",
       "      <td>0</td>\n",
       "      <td>0</td>\n",
       "      <td>0</td>\n",
       "      <td>1</td>\n",
       "      <td>40.0</td>\n",
       "    </tr>\n",
       "    <tr>\n",
       "      <th>1</th>\n",
       "      <td>Looping</td>\n",
       "      <td>6</td>\n",
       "      <td>1982</td>\n",
       "      <td>NaN</td>\n",
       "      <td>NaN</td>\n",
       "      <td>0.0</td>\n",
       "      <td>11</td>\n",
       "      <td>1</td>\n",
       "      <td>0</td>\n",
       "      <td>1</td>\n",
       "      <td>...</td>\n",
       "      <td>0</td>\n",
       "      <td>0</td>\n",
       "      <td>0</td>\n",
       "      <td>0</td>\n",
       "      <td>0</td>\n",
       "      <td>0</td>\n",
       "      <td>0</td>\n",
       "      <td>0</td>\n",
       "      <td>0</td>\n",
       "      <td>28.0</td>\n",
       "    </tr>\n",
       "    <tr>\n",
       "      <th>2</th>\n",
       "      <td>Idealnaya para</td>\n",
       "      <td>6</td>\n",
       "      <td>1992</td>\n",
       "      <td>NaN</td>\n",
       "      <td>NaN</td>\n",
       "      <td>0.0</td>\n",
       "      <td>38</td>\n",
       "      <td>1</td>\n",
       "      <td>0</td>\n",
       "      <td>24</td>\n",
       "      <td>...</td>\n",
       "      <td>0</td>\n",
       "      <td>0</td>\n",
       "      <td>0</td>\n",
       "      <td>0</td>\n",
       "      <td>0</td>\n",
       "      <td>0</td>\n",
       "      <td>0</td>\n",
       "      <td>0</td>\n",
       "      <td>0</td>\n",
       "      <td>90.0</td>\n",
       "    </tr>\n",
       "    <tr>\n",
       "      <th>3</th>\n",
       "      <td>MasterChef Celebrity México</td>\n",
       "      <td>6</td>\n",
       "      <td>2021</td>\n",
       "      <td>NaN</td>\n",
       "      <td>NaN</td>\n",
       "      <td>0.0</td>\n",
       "      <td>15</td>\n",
       "      <td>22</td>\n",
       "      <td>0</td>\n",
       "      <td>56</td>\n",
       "      <td>...</td>\n",
       "      <td>0</td>\n",
       "      <td>0</td>\n",
       "      <td>0</td>\n",
       "      <td>0</td>\n",
       "      <td>0</td>\n",
       "      <td>0</td>\n",
       "      <td>0</td>\n",
       "      <td>0</td>\n",
       "      <td>0</td>\n",
       "      <td>31.0</td>\n",
       "    </tr>\n",
       "    <tr>\n",
       "      <th>4</th>\n",
       "      <td>Seutateueob</td>\n",
       "      <td>8</td>\n",
       "      <td>2020</td>\n",
       "      <td>2020.0</td>\n",
       "      <td>80.0</td>\n",
       "      <td>1.0</td>\n",
       "      <td>15718</td>\n",
       "      <td>347</td>\n",
       "      <td>2</td>\n",
       "      <td>47</td>\n",
       "      <td>...</td>\n",
       "      <td>0</td>\n",
       "      <td>0</td>\n",
       "      <td>0</td>\n",
       "      <td>0</td>\n",
       "      <td>1</td>\n",
       "      <td>0</td>\n",
       "      <td>0</td>\n",
       "      <td>0</td>\n",
       "      <td>0</td>\n",
       "      <td>80.0</td>\n",
       "    </tr>\n",
       "  </tbody>\n",
       "</table>\n",
       "<p>5 rows × 47 columns</p>\n",
       "</div>"
      ],
      "text/plain": [
       "                             originalTitle  rating  startYear  endYear  \\\n",
       "0  Neogenic Nightmare Chapter 3: Hydro-Man       8       1995      NaN   \n",
       "1                                  Looping       6       1982      NaN   \n",
       "2                           Idealnaya para       6       1992      NaN   \n",
       "3              MasterChef Celebrity México       6       2021      NaN   \n",
       "4                              Seutateueob       8       2020   2020.0   \n",
       "\n",
       "   runtimeMinutes  awardWins  numVotes  totalImages  totalVideos  \\\n",
       "0             NaN        0.0       779            1            0   \n",
       "1             NaN        0.0        11            1            0   \n",
       "2             NaN        0.0        38            1            0   \n",
       "3             NaN        0.0        15           22            0   \n",
       "4            80.0        1.0     15718          347            2   \n",
       "\n",
       "   totalCredits  ...  is_Fantasy is_Family  is_Mystery  is_Talk-Show  \\\n",
       "0            21  ...           0         0           0             0   \n",
       "1             1  ...           0         0           0             0   \n",
       "2            24  ...           0         0           0             0   \n",
       "3            56  ...           0         0           0             0   \n",
       "4            47  ...           0         0           0             0   \n",
       "\n",
       "   is_Drama  is_Sport  is_War is_Horror  is_Animation  fill_runtimeMinutes  \n",
       "0         0         0       0         0             1                 40.0  \n",
       "1         0         0       0         0             0                 28.0  \n",
       "2         0         0       0         0             0                 90.0  \n",
       "3         0         0       0         0             0                 31.0  \n",
       "4         1         0       0         0             0                 80.0  \n",
       "\n",
       "[5 rows x 47 columns]"
      ]
     },
     "execution_count": 175,
     "metadata": {},
     "output_type": "execute_result"
    }
   ],
   "source": [
    "df = pd.read_csv(\"pp_train.csv\")\n",
    "df.head()"
   ]
  },
  {
   "cell_type": "code",
   "execution_count": 176,
   "metadata": {},
   "outputs": [],
   "source": [
    "#df[\"awardWins\"].value_counts()"
   ]
  },
  {
   "cell_type": "markdown",
   "metadata": {},
   "source": [
    "#### features"
   ]
  },
  {
   "cell_type": "code",
   "execution_count": 177,
   "metadata": {},
   "outputs": [],
   "source": [
    "# no ->   'rating' (should be put as 1henc), 'canHaveEpisodes'(binary), 'isAdult' (binary), 'genres' (should be put as 1henc)\n",
    "\n",
    "#1\n",
    "features = df[['startYear', 'fill_runtimeMinutes', 'awardWins', 'numVotes', 'totalImages','totalVideos', 'totalCredits', 'criticReviewsTotal', 'awardNominationsExcludeWins','numRegions', 'userReviewsTotal']]\n",
    "\n",
    "# senza 'awardWins','totalVideos','awardNominationsExcludeWins',\n",
    "#features = df[['startYear', 'fill_runtimeMinutes', 'numVotes', 'totalImages', 'totalCredits', 'criticReviewsTotal', 'numRegions', 'userReviewsTotal']]\n",
    "\n",
    "df_num = features.values"
   ]
  },
  {
   "cell_type": "code",
   "execution_count": 178,
   "metadata": {},
   "outputs": [],
   "source": [
    "#presuppongo di voler fare poi i controlli cluster in abse a titletype\n",
    "y = np.array(df['titleType']) \n",
    "#a way to define x and y; they are the numpy arrays of the dataset\n",
    "\n",
    "y_map = {\n",
    "    0: 'tvEpisode',\n",
    "    1: 'videoGame',\n",
    "    2: 'movie',\n",
    "    3: 'tvSeries',\n",
    "    4: 'video',\n",
    "    5: 'tvMiniSeries',\n",
    "    6: 'short',\n",
    "    7: 'tvMovie',\n",
    "    8: 'tvSpecial',\n",
    "    9: 'tvShort'\n",
    "}\n",
    "y_mapped = pd.DataFrame(y).iloc[:,0].map(y_map)\n",
    "#y is our target label; mapped into strings (y_map)"
   ]
  },
  {
   "cell_type": "markdown",
   "metadata": {},
   "source": [
    "### Normalizzazioni"
   ]
  },
  {
   "cell_type": "code",
   "execution_count": 179,
   "metadata": {},
   "outputs": [],
   "source": [
    "#LOGARITMICA\n",
    "X = df_num.copy()\n",
    "X = np.log1p(X)"
   ]
  },
  {
   "cell_type": "code",
   "execution_count": 180,
   "metadata": {},
   "outputs": [],
   "source": [
    "# Z-SCORE\n",
    "scaler = StandardScaler()   #inizialize the standard scaler\n",
    "scaler.fit(X) #FIT the scaler on the data; x è la numpy matrix of the dataset\n",
    "X_z_scal = scaler.transform(X) #TRANSFORM to have the scaled version\n",
    "\n",
    "\n",
    "# MIN-MAX\n",
    "scaler = MinMaxScaler()\n",
    "X_minmax = scaler.fit_transform(X) #FIT e TRASFORM in una riga sola"
   ]
  },
  {
   "cell_type": "markdown",
   "metadata": {},
   "source": [
    "##### scelgo normalizzazione"
   ]
  },
  {
   "cell_type": "code",
   "execution_count": 181,
   "metadata": {},
   "outputs": [],
   "source": [
    "X_scal = X_z_scal"
   ]
  },
  {
   "cell_type": "markdown",
   "metadata": {},
   "source": [
    "## DBSCAN"
   ]
  },
  {
   "cell_type": "code",
   "execution_count": 199,
   "metadata": {},
   "outputs": [
    {
     "data": {
      "text/html": [
       "<style>#sk-container-id-37 {color: black;}#sk-container-id-37 pre{padding: 0;}#sk-container-id-37 div.sk-toggleable {background-color: white;}#sk-container-id-37 label.sk-toggleable__label {cursor: pointer;display: block;width: 100%;margin-bottom: 0;padding: 0.3em;box-sizing: border-box;text-align: center;}#sk-container-id-37 label.sk-toggleable__label-arrow:before {content: \"▸\";float: left;margin-right: 0.25em;color: #696969;}#sk-container-id-37 label.sk-toggleable__label-arrow:hover:before {color: black;}#sk-container-id-37 div.sk-estimator:hover label.sk-toggleable__label-arrow:before {color: black;}#sk-container-id-37 div.sk-toggleable__content {max-height: 0;max-width: 0;overflow: hidden;text-align: left;background-color: #f0f8ff;}#sk-container-id-37 div.sk-toggleable__content pre {margin: 0.2em;color: black;border-radius: 0.25em;background-color: #f0f8ff;}#sk-container-id-37 input.sk-toggleable__control:checked~div.sk-toggleable__content {max-height: 200px;max-width: 100%;overflow: auto;}#sk-container-id-37 input.sk-toggleable__control:checked~label.sk-toggleable__label-arrow:before {content: \"▾\";}#sk-container-id-37 div.sk-estimator input.sk-toggleable__control:checked~label.sk-toggleable__label {background-color: #d4ebff;}#sk-container-id-37 div.sk-label input.sk-toggleable__control:checked~label.sk-toggleable__label {background-color: #d4ebff;}#sk-container-id-37 input.sk-hidden--visually {border: 0;clip: rect(1px 1px 1px 1px);clip: rect(1px, 1px, 1px, 1px);height: 1px;margin: -1px;overflow: hidden;padding: 0;position: absolute;width: 1px;}#sk-container-id-37 div.sk-estimator {font-family: monospace;background-color: #f0f8ff;border: 1px dotted black;border-radius: 0.25em;box-sizing: border-box;margin-bottom: 0.5em;}#sk-container-id-37 div.sk-estimator:hover {background-color: #d4ebff;}#sk-container-id-37 div.sk-parallel-item::after {content: \"\";width: 100%;border-bottom: 1px solid gray;flex-grow: 1;}#sk-container-id-37 div.sk-label:hover label.sk-toggleable__label {background-color: #d4ebff;}#sk-container-id-37 div.sk-serial::before {content: \"\";position: absolute;border-left: 1px solid gray;box-sizing: border-box;top: 0;bottom: 0;left: 50%;z-index: 0;}#sk-container-id-37 div.sk-serial {display: flex;flex-direction: column;align-items: center;background-color: white;padding-right: 0.2em;padding-left: 0.2em;position: relative;}#sk-container-id-37 div.sk-item {position: relative;z-index: 1;}#sk-container-id-37 div.sk-parallel {display: flex;align-items: stretch;justify-content: center;background-color: white;position: relative;}#sk-container-id-37 div.sk-item::before, #sk-container-id-37 div.sk-parallel-item::before {content: \"\";position: absolute;border-left: 1px solid gray;box-sizing: border-box;top: 0;bottom: 0;left: 50%;z-index: -1;}#sk-container-id-37 div.sk-parallel-item {display: flex;flex-direction: column;z-index: 1;position: relative;background-color: white;}#sk-container-id-37 div.sk-parallel-item:first-child::after {align-self: flex-end;width: 50%;}#sk-container-id-37 div.sk-parallel-item:last-child::after {align-self: flex-start;width: 50%;}#sk-container-id-37 div.sk-parallel-item:only-child::after {width: 0;}#sk-container-id-37 div.sk-dashed-wrapped {border: 1px dashed gray;margin: 0 0.4em 0.5em 0.4em;box-sizing: border-box;padding-bottom: 0.4em;background-color: white;}#sk-container-id-37 div.sk-label label {font-family: monospace;font-weight: bold;display: inline-block;line-height: 1.2em;}#sk-container-id-37 div.sk-label-container {text-align: center;}#sk-container-id-37 div.sk-container {/* jupyter's `normalize.less` sets `[hidden] { display: none; }` but bootstrap.min.css set `[hidden] { display: none !important; }` so we also need the `!important` here to be able to override the default hidden behavior on the sphinx rendered scikit-learn.org. See: https://github.com/scikit-learn/scikit-learn/issues/21755 */display: inline-block !important;position: relative;}#sk-container-id-37 div.sk-text-repr-fallback {display: none;}</style><div id=\"sk-container-id-37\" class=\"sk-top-container\"><div class=\"sk-text-repr-fallback\"><pre>DBSCAN(eps=1.55, min_samples=22)</pre><b>In a Jupyter environment, please rerun this cell to show the HTML representation or trust the notebook. <br />On GitHub, the HTML representation is unable to render, please try loading this page with nbviewer.org.</b></div><div class=\"sk-container\" hidden><div class=\"sk-item\"><div class=\"sk-estimator sk-toggleable\"><input class=\"sk-toggleable__control sk-hidden--visually\" id=\"sk-estimator-id-37\" type=\"checkbox\" checked><label for=\"sk-estimator-id-37\" class=\"sk-toggleable__label sk-toggleable__label-arrow\">DBSCAN</label><div class=\"sk-toggleable__content\"><pre>DBSCAN(eps=1.55, min_samples=22)</pre></div></div></div></div></div>"
      ],
      "text/plain": [
       "DBSCAN(eps=1.55, min_samples=22)"
      ]
     },
     "execution_count": 199,
     "metadata": {},
     "output_type": "execute_result"
    }
   ],
   "source": [
    "#initiialize and fit into data \n",
    "\n",
    "#1 con tutte le features\n",
    "dbscan = DBSCAN(eps=1.55, min_samples=22)   #1.98 - 11 ,  2-22, 2 .12\n",
    "    #2 senza le tre\n",
    "#dbscan = DBSCAN(eps=0.26, min_samples=16)\n",
    "dbscan.fit(X_scal)\n",
    "\n",
    "#ORA -> standscale"
   ]
  },
  {
   "cell_type": "code",
   "execution_count": 200,
   "metadata": {},
   "outputs": [
    {
     "data": {
      "text/plain": [
       "(array([-1,  0,  1,  2], dtype=int64),\n",
       " array([ 2235, 13079,   546,   571], dtype=int64))"
      ]
     },
     "execution_count": 200,
     "metadata": {},
     "output_type": "execute_result"
    }
   ],
   "source": [
    "dbscan.labels_ #get labels (classification of the diff clusters (-1 è il noise))\n",
    "np.unique(dbscan.labels_, return_counts=True)\n",
    "                #get labels e quanti points in ogni cluster"
   ]
  },
  {
   "cell_type": "code",
   "execution_count": 184,
   "metadata": {},
   "outputs": [
    {
     "data": {
      "text/plain": [
       "' \\nsns.scatterplot(data=df,x=\"criticReviewsTotal\", y=\"numVotes\", \\n                hue=dbscan.labels_, style=dbscan.labels_, palette=\"bright\")\\nplt.show()\\n'"
      ]
     },
     "execution_count": 184,
     "metadata": {},
     "output_type": "execute_result"
    }
   ],
   "source": [
    "\"\"\" \n",
    "sns.scatterplot(data=df,x=\"criticReviewsTotal\", y=\"numVotes\", \n",
    "                hue=dbscan.labels_, style=dbscan.labels_, palette=\"bright\")\n",
    "plt.show()\n",
    "\"\"\"\n"
   ]
  },
  {
   "cell_type": "markdown",
   "metadata": {},
   "source": [
    "#### Silhouette"
   ]
  },
  {
   "cell_type": "code",
   "execution_count": 201,
   "metadata": {},
   "outputs": [
    {
     "name": "stdout",
     "output_type": "stream",
     "text": [
      "Silhouette 0.09172367580744857\n",
      "Silhouette 0.13368062427486366\n"
     ]
    }
   ],
   "source": [
    "print('Silhouette', silhouette_score(X_scal, dbscan.labels_)) #con noise cluster\n",
    "\n",
    "print('Silhouette', silhouette_score(X_scal[dbscan.labels_ != -1], dbscan.labels_[dbscan.labels_ != -1]))  #senza noise\n",
    "\n",
    "        # misura silh su DBSCAN LABELS la conta anche rispetto al noise cluster (-1) \n",
    "        # -> se non lo consid abbiamo valore + alto (i noise points sono lontani, lunghe distanze influenzano la silh) \n",
    "            # -> quando la misuro scartiamo anche noise così misuriamo risultato solo sui cluster"
   ]
  },
  {
   "cell_type": "markdown",
   "metadata": {},
   "source": [
    "### kth neighbor distance"
   ]
  },
  {
   "cell_type": "markdown",
   "metadata": {},
   "source": [
    "###### misuro distanze dal kth nearest n."
   ]
  },
  {
   "cell_type": "code",
   "execution_count": 186,
   "metadata": {},
   "outputs": [],
   "source": [
    "dist = pdist(X_scal, 'euclidean') \n",
    "dist = squareform(dist)\n",
    "\n",
    "    #risultato -> array compresso con distanze per ogni coppia di punti nel dataset."
   ]
  },
  {
   "cell_type": "markdown",
   "metadata": {},
   "source": [
    "##### plotto le distanze ottenute"
   ]
  },
  {
   "cell_type": "code",
   "execution_count": 187,
   "metadata": {},
   "outputs": [
    {
     "data": {
      "text/plain": [
       "\"\\nk=4\\nkth_distances = []\\n\\nfor d in dist:  # d is a vector containing distances between the ith record and all the others\\n    index_kth_distance = np.argsort(d)[k]  # take the index of the kth nearest neighbor\\n    kth_distances.append(d[index_kth_distance])  # store the distance in a list\\n\\n\\nplt.plot(range(0, len(kth_distances)), sorted(kth_distances))\\nplt.ylabel('distance from the {}th neighbor'.format(k))\\nplt.grid(True, alpha=0.3)\\nplt.show()\\n \""
      ]
     },
     "execution_count": 187,
     "metadata": {},
     "output_type": "execute_result"
    }
   ],
   "source": [
    "\"\"\"\n",
    "k=4\n",
    "kth_distances = []\n",
    "\n",
    "for d in dist:  # d is a vector containing distances between the ith record and all the others\n",
    "    index_kth_distance = np.argsort(d)[k]  # take the index of the kth nearest neighbor\n",
    "    kth_distances.append(d[index_kth_distance])  # store the distance in a list\n",
    "\n",
    "\n",
    "plt.plot(range(0, len(kth_distances)), sorted(kth_distances))\n",
    "plt.ylabel('distance from the {}th neighbor'.format(k))\n",
    "plt.grid(True, alpha=0.3)\n",
    "plt.show()\n",
    " \"\"\""
   ]
  },
  {
   "cell_type": "markdown",
   "metadata": {},
   "source": [
    "##### misuro distanze dal kth, xth, yth nearest n.\n",
    "###### utile se data is larger, provare con diversi valori di k (pox si rivelino clusters)"
   ]
  },
  {
   "cell_type": "code",
   "execution_count": 188,
   "metadata": {},
   "outputs": [
    {
     "data": {
      "text/plain": [
       "\"\\nks = [11, 16, 22, 64]\\n\\n\\nfig = plt.figure(figsize=(16, 3)) # dimensions of the overall plot\\nfig_dims = (1, len(ks))\\n\\nfor i in range(len(ks)):\\n    k = ks[i]\\n    kth_distances = []\\n\\n    for d in dist:  # d is a vector containing distances between the ith record and all the others\\n        index_kth_distance = np.argsort(d)[k]  # take the index of the kth nearest neighbor\\n        kth_distances.append(d[index_kth_distance])  # store the distance in a list\\n\\n    plt.subplot2grid(fig_dims, (0, i))\\n    plt.plot(range(0, len(kth_distances)), sorted(kth_distances))\\n    plt.ylabel('distance from the {}th neighbor'.format(k))\\n    plt.grid(True, alpha=0.3)\\n             \\n#plt.tight_layout()\\n#fig, axes = plt.subplots(2, 3, figsize=(15, 10))\\nplt.show()\\n\""
      ]
     },
     "execution_count": 188,
     "metadata": {},
     "output_type": "execute_result"
    }
   ],
   "source": [
    "\"\"\"\n",
    "ks = [11, 16, 22, 64]\n",
    "\n",
    "\n",
    "fig = plt.figure(figsize=(16, 3)) # dimensions of the overall plot\n",
    "fig_dims = (1, len(ks))\n",
    "\n",
    "for i in range(len(ks)):\n",
    "    k = ks[i]\n",
    "    kth_distances = []\n",
    "\n",
    "    for d in dist:  # d is a vector containing distances between the ith record and all the others\n",
    "        index_kth_distance = np.argsort(d)[k]  # take the index of the kth nearest neighbor\n",
    "        kth_distances.append(d[index_kth_distance])  # store the distance in a list\n",
    "\n",
    "    plt.subplot2grid(fig_dims, (0, i))\n",
    "    plt.plot(range(0, len(kth_distances)), sorted(kth_distances))\n",
    "    plt.ylabel('distance from the {}th neighbor'.format(k))\n",
    "    plt.grid(True, alpha=0.3)\n",
    "             \n",
    "#plt.tight_layout()\n",
    "#fig, axes = plt.subplots(2, 3, figsize=(15, 10))\n",
    "plt.show()\n",
    "\"\"\""
   ]
  },
  {
   "cell_type": "markdown",
   "metadata": {},
   "source": [
    "codice per trovare valore di eps automaticamente"
   ]
  },
  {
   "cell_type": "code",
   "execution_count": 189,
   "metadata": {},
   "outputs": [
    {
     "data": {
      "image/png": "[encoded data removed]",
      "text/plain": [
       "<Figure size 800x500 with 1 Axes>"
      ]
     },
     "metadata": {},
     "output_type": "display_data"
    },
    {
     "name": "stdout",
     "output_type": "stream",
     "text": [
      "Valore ottimale di epsilon suggerito: 0.29\n"
     ]
    }
   ],
   "source": [
    "import numpy as np\n",
    "import matplotlib.pyplot as plt\n",
    "from sklearn.neighbors import NearestNeighbors\n",
    "from kneed import KneeLocator\n",
    "\n",
    "# Supponiamo che i tuoi dati siano in una matrice numpy 'X'\n",
    "# Se hai un DataFrame pandas, usa X = df.values\n",
    "\n",
    "# Imposta il valore di k (numero di vicini)\n",
    "k = 22 # Basato sulle dimensioni del dataset\n",
    "\n",
    "# Trova le distanze dei k vicini più vicini\n",
    "nbrs = NearestNeighbors(n_neighbors=k).fit(X_scal)\n",
    "distances, indices = nbrs.kneighbors(X_scal)\n",
    "\n",
    "# Prendiamo la distanza del k-esimo vicino per ogni punto\n",
    "k_distances = np.sort(distances[:, k - 1])  # Ordina in ordine crescente\n",
    "\n",
    "# Trova il gomito con il metodo di Kneedle\n",
    "kneedle = KneeLocator(range(len(k_distances)), k_distances, curve=\"concave\", direction=\"increasing\")\n",
    "eps_optimal = kneedle.knee_y  # Valore ottimale di epsilon\n",
    "\n",
    "# Plot delle distanze con il punto del gomito\n",
    "plt.figure(figsize=(8, 5))\n",
    "plt.plot(k_distances, label=f\"Distanza dal {k}-esimo vicino\")\n",
    "plt.axhline(y=eps_optimal, color=\"r\", linestyle=\"--\", label=f\"ε ottimale ≈ {eps_optimal:.2f}\")\n",
    "plt.xlabel(\"Punti ordinati\")\n",
    "plt.ylabel(\"Distanza dal k-esimo vicino\")\n",
    "plt.legend()\n",
    "plt.title(\"Scelta di epsilon con il Metodo di Kneedle\")\n",
    "plt.show()\n",
    "\n",
    "print(f\"Valore ottimale di epsilon suggerito: {eps_optimal:.2f}\")\n"
   ]
  }
 ],
 "metadata": {
  "kernelspec": {
   "display_name": "Python 3",
   "language": "python",
   "name": "python3"
  },
  "language_info": {
   "codemirror_mode": {
    "name": "ipython",
    "version": 3
   },
   "file_extension": ".py",
   "mimetype": "text/x-python",
   "name": "python",
   "nbconvert_exporter": "python",
   "pygments_lexer": "ipython3",
   "version": "3.8.2"
  }
 },
 "nbformat": 4,
 "nbformat_minor": 2
}
