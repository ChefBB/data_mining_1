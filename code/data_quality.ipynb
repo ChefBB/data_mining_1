{
 "cells": [
  {
   "cell_type": "code",
   "execution_count": 692,
   "id": "27c417e2",
   "metadata": {},
   "outputs": [],
   "source": [
    "import pandas as pd\n",
    "import numpy as np\n",
    "\n",
    "from constants import numeric_columns as num_cols"
   ]
  },
  {
   "cell_type": "code",
   "execution_count": 693,
   "id": "492f5eaa",
   "metadata": {},
   "outputs": [],
   "source": [
    "complete_df = pd.read_csv(\"complete_df.csv\")"
   ]
  },
  {
   "cell_type": "code",
   "execution_count": 694,
   "id": "6b7e5e06",
   "metadata": {},
   "outputs": [
    {
     "name": "stdout",
     "output_type": "stream",
     "text": [
      "<class 'pandas.core.frame.DataFrame'>\n",
      "RangeIndex: 21909 entries, 0 to 21908\n",
      "Data columns (total 23 columns):\n",
      " #   Column                       Non-Null Count  Dtype  \n",
      "---  ------                       --------------  -----  \n",
      " 0   originalTitle                21909 non-null  object \n",
      " 1   rating                       21909 non-null  object \n",
      " 2   startYear                    21909 non-null  int64  \n",
      " 3   endYear                      21909 non-null  object \n",
      " 4   runtimeMinutes               21909 non-null  object \n",
      " 5   awardWins                    18404 non-null  float64\n",
      " 6   numVotes                     21909 non-null  int64  \n",
      " 7   worstRating                  21909 non-null  int64  \n",
      " 8   bestRating                   21909 non-null  int64  \n",
      " 9   totalImages                  21909 non-null  int64  \n",
      " 10  totalVideos                  21909 non-null  int64  \n",
      " 11  totalCredits                 21909 non-null  int64  \n",
      " 12  criticReviewsTotal           21909 non-null  int64  \n",
      " 13  titleType                    21909 non-null  object \n",
      " 14  awardNominationsExcludeWins  21909 non-null  int64  \n",
      " 15  canHaveEpisodes              21909 non-null  bool   \n",
      " 16  isRatable                    21909 non-null  bool   \n",
      " 17  isAdult                      21909 non-null  int64  \n",
      " 18  numRegions                   21909 non-null  int64  \n",
      " 19  userReviewsTotal             21909 non-null  int64  \n",
      " 20  ratingCount                  21909 non-null  int64  \n",
      " 21  countryOfOrigin              21909 non-null  object \n",
      " 22  genres                       21909 non-null  object \n",
      "dtypes: bool(2), float64(1), int64(13), object(7)\n",
      "memory usage: 3.6+ MB\n"
     ]
    }
   ],
   "source": [
    "complete_df.info()"
   ]
  },
  {
   "cell_type": "markdown",
   "id": "3d69b286",
   "metadata": {},
   "source": [
    "DUPLICATES"
   ]
  },
  {
   "cell_type": "code",
   "execution_count": 695,
   "id": "0c8222c6",
   "metadata": {},
   "outputs": [
    {
     "data": {
      "text/plain": [
       "1"
      ]
     },
     "execution_count": 695,
     "metadata": {},
     "output_type": "execute_result"
    }
   ],
   "source": [
    "complete_df.duplicated().sum()"
   ]
  },
  {
   "cell_type": "code",
   "execution_count": 696,
   "id": "cf23ec82",
   "metadata": {},
   "outputs": [
    {
     "data": {
      "text/html": [
       "<div>\n",
       "<style scoped>\n",
       "    .dataframe tbody tr th:only-of-type {\n",
       "        vertical-align: middle;\n",
       "    }\n",
       "\n",
       "    .dataframe tbody tr th {\n",
       "        vertical-align: top;\n",
       "    }\n",
       "\n",
       "    .dataframe thead th {\n",
       "        text-align: right;\n",
       "    }\n",
       "</style>\n",
       "<table border=\"1\" class=\"dataframe\">\n",
       "  <thead>\n",
       "    <tr style=\"text-align: right;\">\n",
       "      <th></th>\n",
       "      <th>originalTitle</th>\n",
       "      <th>rating</th>\n",
       "      <th>startYear</th>\n",
       "      <th>endYear</th>\n",
       "      <th>runtimeMinutes</th>\n",
       "      <th>awardWins</th>\n",
       "      <th>numVotes</th>\n",
       "      <th>worstRating</th>\n",
       "      <th>bestRating</th>\n",
       "      <th>totalImages</th>\n",
       "      <th>...</th>\n",
       "      <th>titleType</th>\n",
       "      <th>awardNominationsExcludeWins</th>\n",
       "      <th>canHaveEpisodes</th>\n",
       "      <th>isRatable</th>\n",
       "      <th>isAdult</th>\n",
       "      <th>numRegions</th>\n",
       "      <th>userReviewsTotal</th>\n",
       "      <th>ratingCount</th>\n",
       "      <th>countryOfOrigin</th>\n",
       "      <th>genres</th>\n",
       "    </tr>\n",
       "  </thead>\n",
       "  <tbody>\n",
       "    <tr>\n",
       "      <th>16522</th>\n",
       "      <td>Nick Jonas/Dennis Rodman/Jeezy/Tory Lanez</td>\n",
       "      <td>(6, 7]</td>\n",
       "      <td>2017</td>\n",
       "      <td>\\N</td>\n",
       "      <td>41</td>\n",
       "      <td>0.0</td>\n",
       "      <td>26</td>\n",
       "      <td>1</td>\n",
       "      <td>10</td>\n",
       "      <td>1</td>\n",
       "      <td>...</td>\n",
       "      <td>tvEpisode</td>\n",
       "      <td>0</td>\n",
       "      <td>False</td>\n",
       "      <td>True</td>\n",
       "      <td>0</td>\n",
       "      <td>1</td>\n",
       "      <td>0</td>\n",
       "      <td>26</td>\n",
       "      <td>['US']</td>\n",
       "      <td>Comedy,Talk-Show</td>\n",
       "    </tr>\n",
       "  </tbody>\n",
       "</table>\n",
       "<p>1 rows × 23 columns</p>\n",
       "</div>"
      ],
      "text/plain": [
       "                                   originalTitle  rating  startYear endYear  \\\n",
       "16522  Nick Jonas/Dennis Rodman/Jeezy/Tory Lanez  (6, 7]       2017      \\N   \n",
       "\n",
       "      runtimeMinutes  awardWins  numVotes  worstRating  bestRating  \\\n",
       "16522             41        0.0        26            1          10   \n",
       "\n",
       "       totalImages  ...  titleType  awardNominationsExcludeWins  \\\n",
       "16522            1  ...  tvEpisode                            0   \n",
       "\n",
       "       canHaveEpisodes isRatable  isAdult  numRegions  userReviewsTotal  \\\n",
       "16522            False      True        0           1                 0   \n",
       "\n",
       "       ratingCount  countryOfOrigin            genres  \n",
       "16522           26           ['US']  Comedy,Talk-Show  \n",
       "\n",
       "[1 rows x 23 columns]"
      ]
     },
     "execution_count": 696,
     "metadata": {},
     "output_type": "execute_result"
    }
   ],
   "source": [
    "complete_df[complete_df.duplicated()]"
   ]
  },
  {
   "cell_type": "code",
   "execution_count": 697,
   "id": "5acc4760",
   "metadata": {},
   "outputs": [
    {
     "data": {
      "text/html": [
       "<div>\n",
       "<style scoped>\n",
       "    .dataframe tbody tr th:only-of-type {\n",
       "        vertical-align: middle;\n",
       "    }\n",
       "\n",
       "    .dataframe tbody tr th {\n",
       "        vertical-align: top;\n",
       "    }\n",
       "\n",
       "    .dataframe thead th {\n",
       "        text-align: right;\n",
       "    }\n",
       "</style>\n",
       "<table border=\"1\" class=\"dataframe\">\n",
       "  <thead>\n",
       "    <tr style=\"text-align: right;\">\n",
       "      <th></th>\n",
       "      <th>originalTitle</th>\n",
       "      <th>rating</th>\n",
       "      <th>startYear</th>\n",
       "      <th>endYear</th>\n",
       "      <th>runtimeMinutes</th>\n",
       "      <th>awardWins</th>\n",
       "      <th>numVotes</th>\n",
       "      <th>worstRating</th>\n",
       "      <th>bestRating</th>\n",
       "      <th>totalImages</th>\n",
       "      <th>...</th>\n",
       "      <th>titleType</th>\n",
       "      <th>awardNominationsExcludeWins</th>\n",
       "      <th>canHaveEpisodes</th>\n",
       "      <th>isRatable</th>\n",
       "      <th>isAdult</th>\n",
       "      <th>numRegions</th>\n",
       "      <th>userReviewsTotal</th>\n",
       "      <th>ratingCount</th>\n",
       "      <th>countryOfOrigin</th>\n",
       "      <th>genres</th>\n",
       "    </tr>\n",
       "  </thead>\n",
       "  <tbody>\n",
       "    <tr>\n",
       "      <th>7341</th>\n",
       "      <td>Nick Jonas/Dennis Rodman/Jeezy/Tory Lanez</td>\n",
       "      <td>(6, 7]</td>\n",
       "      <td>2017</td>\n",
       "      <td>\\N</td>\n",
       "      <td>41</td>\n",
       "      <td>0.0</td>\n",
       "      <td>26</td>\n",
       "      <td>1</td>\n",
       "      <td>10</td>\n",
       "      <td>1</td>\n",
       "      <td>...</td>\n",
       "      <td>tvEpisode</td>\n",
       "      <td>0</td>\n",
       "      <td>False</td>\n",
       "      <td>True</td>\n",
       "      <td>0</td>\n",
       "      <td>1</td>\n",
       "      <td>0</td>\n",
       "      <td>26</td>\n",
       "      <td>['US']</td>\n",
       "      <td>Comedy,Talk-Show</td>\n",
       "    </tr>\n",
       "    <tr>\n",
       "      <th>16522</th>\n",
       "      <td>Nick Jonas/Dennis Rodman/Jeezy/Tory Lanez</td>\n",
       "      <td>(6, 7]</td>\n",
       "      <td>2017</td>\n",
       "      <td>\\N</td>\n",
       "      <td>41</td>\n",
       "      <td>0.0</td>\n",
       "      <td>26</td>\n",
       "      <td>1</td>\n",
       "      <td>10</td>\n",
       "      <td>1</td>\n",
       "      <td>...</td>\n",
       "      <td>tvEpisode</td>\n",
       "      <td>0</td>\n",
       "      <td>False</td>\n",
       "      <td>True</td>\n",
       "      <td>0</td>\n",
       "      <td>1</td>\n",
       "      <td>0</td>\n",
       "      <td>26</td>\n",
       "      <td>['US']</td>\n",
       "      <td>Comedy,Talk-Show</td>\n",
       "    </tr>\n",
       "  </tbody>\n",
       "</table>\n",
       "<p>2 rows × 23 columns</p>\n",
       "</div>"
      ],
      "text/plain": [
       "                                   originalTitle  rating  startYear endYear  \\\n",
       "7341   Nick Jonas/Dennis Rodman/Jeezy/Tory Lanez  (6, 7]       2017      \\N   \n",
       "16522  Nick Jonas/Dennis Rodman/Jeezy/Tory Lanez  (6, 7]       2017      \\N   \n",
       "\n",
       "      runtimeMinutes  awardWins  numVotes  worstRating  bestRating  \\\n",
       "7341              41        0.0        26            1          10   \n",
       "16522             41        0.0        26            1          10   \n",
       "\n",
       "       totalImages  ...  titleType  awardNominationsExcludeWins  \\\n",
       "7341             1  ...  tvEpisode                            0   \n",
       "16522            1  ...  tvEpisode                            0   \n",
       "\n",
       "       canHaveEpisodes isRatable  isAdult  numRegions  userReviewsTotal  \\\n",
       "7341             False      True        0           1                 0   \n",
       "16522            False      True        0           1                 0   \n",
       "\n",
       "       ratingCount  countryOfOrigin            genres  \n",
       "7341            26           ['US']  Comedy,Talk-Show  \n",
       "16522           26           ['US']  Comedy,Talk-Show  \n",
       "\n",
       "[2 rows x 23 columns]"
      ]
     },
     "execution_count": 697,
     "metadata": {},
     "output_type": "execute_result"
    }
   ],
   "source": [
    "complete_df[complete_df[\"originalTitle\"] == \"Nick Jonas/Dennis Rodman/Jeezy/Tory Lanez\"]"
   ]
  },
  {
   "cell_type": "code",
   "execution_count": 698,
   "id": "9bed97a6",
   "metadata": {},
   "outputs": [],
   "source": [
    "complete_df = complete_df.drop(index=7341)"
   ]
  },
  {
   "cell_type": "code",
   "execution_count": 699,
   "id": "5f96567f",
   "metadata": {},
   "outputs": [
    {
     "data": {
      "text/plain": [
       "0"
      ]
     },
     "execution_count": 699,
     "metadata": {},
     "output_type": "execute_result"
    }
   ],
   "source": [
    "complete_df.duplicated().sum()"
   ]
  },
  {
   "cell_type": "markdown",
   "id": "69d88243",
   "metadata": {},
   "source": [
    "MISSING VALUES (1)"
   ]
  },
  {
   "cell_type": "code",
   "execution_count": 700,
   "id": "4a91a4d4",
   "metadata": {},
   "outputs": [
    {
     "data": {
      "text/plain": [
       "originalTitle                     0\n",
       "rating                            0\n",
       "startYear                         0\n",
       "endYear                           0\n",
       "runtimeMinutes                    0\n",
       "awardWins                      3505\n",
       "numVotes                          0\n",
       "worstRating                       0\n",
       "bestRating                        0\n",
       "totalImages                       0\n",
       "totalVideos                       0\n",
       "totalCredits                      0\n",
       "criticReviewsTotal                0\n",
       "titleType                         0\n",
       "awardNominationsExcludeWins       0\n",
       "canHaveEpisodes                   0\n",
       "isRatable                         0\n",
       "isAdult                           0\n",
       "numRegions                        0\n",
       "userReviewsTotal                  0\n",
       "ratingCount                       0\n",
       "countryOfOrigin                   0\n",
       "genres                            0\n",
       "dtype: int64"
      ]
     },
     "execution_count": 700,
     "metadata": {},
     "output_type": "execute_result"
    }
   ],
   "source": [
    "complete_df.isnull().sum()"
   ]
  },
  {
   "cell_type": "code",
   "execution_count": 701,
   "id": "1303415e",
   "metadata": {},
   "outputs": [
    {
     "data": {
      "text/plain": [
       "str"
      ]
     },
     "execution_count": 701,
     "metadata": {},
     "output_type": "execute_result"
    }
   ],
   "source": [
    "#verifico di che tipo sono i singoli valori di una colonna\n",
    "val = complete_df.loc[0,\"endYear\"]\n",
    "type(val)\n",
    "#val\n"
   ]
  },
  {
   "cell_type": "markdown",
   "id": "2938bb7a",
   "metadata": {},
   "source": [
    "SEMANTIC - SYNTACTIC INCONSISTENCE"
   ]
  },
  {
   "cell_type": "code",
   "execution_count": 702,
   "id": "b7c61839",
   "metadata": {},
   "outputs": [
    {
     "name": "stdout",
     "output_type": "stream",
     "text": [
      "endYear 20821\n",
      "runtimeMinutes 6512\n",
      "genres 503\n"
     ]
    },
    {
     "name": "stderr",
     "output_type": "stream",
     "text": [
      "C:\\Users\\noemi\\AppData\\Local\\Temp\\ipykernel_16240\\1658874518.py:3: FutureWarning: elementwise comparison failed; returning scalar instead, but in the future will perform elementwise comparison\n",
      "  if  r\"\\N\" in complete_df[colonna].values:\n"
     ]
    }
   ],
   "source": [
    "# individuo le colonne in cui'\\N' è usato al posto di NaN e conto quante volte\n",
    "for colonna in complete_df.columns:\n",
    "    if  r\"\\N\" in complete_df[colonna].values:\n",
    "        count = (complete_df[colonna] ==  r\"\\N\").sum()\n",
    "        print(colonna, count)"
   ]
  },
  {
   "cell_type": "code",
   "execution_count": 703,
   "id": "b5a782a3",
   "metadata": {},
   "outputs": [],
   "source": [
    "#uniformo assegnando NaN a tutti i valori nulli\n",
    "for col in num_cols:\n",
    "    complete_df[col] = pd.to_numeric(complete_df[col], errors='coerce')\n",
    "\n",
    "    #abbiamo trasformato i valori numerici in interi e non float (con Int64 accetta i Nan)\n",
    "    complete_df[col] = complete_df[col].astype('Int64')\n",
    "\n",
    "complete_df.loc[complete_df[\"genres\"] == r\"\\N\", \"genres\"] = np.nan"
   ]
  },
  {
   "cell_type": "code",
   "execution_count": 704,
   "id": "c427c64f",
   "metadata": {},
   "outputs": [
    {
     "data": {
      "text/plain": [
       "originalTitle                      0\n",
       "rating                             0\n",
       "startYear                          0\n",
       "endYear                        20821\n",
       "runtimeMinutes                  6512\n",
       "awardWins                       3505\n",
       "numVotes                           0\n",
       "worstRating                        0\n",
       "bestRating                         0\n",
       "totalImages                        0\n",
       "totalVideos                        0\n",
       "totalCredits                       0\n",
       "criticReviewsTotal                 0\n",
       "titleType                          0\n",
       "awardNominationsExcludeWins        0\n",
       "canHaveEpisodes                    0\n",
       "isRatable                          0\n",
       "isAdult                            0\n",
       "numRegions                         0\n",
       "userReviewsTotal                   0\n",
       "ratingCount                        0\n",
       "countryOfOrigin                    0\n",
       "genres                           503\n",
       "dtype: int64"
      ]
     },
     "execution_count": 704,
     "metadata": {},
     "output_type": "execute_result"
    }
   ],
   "source": [
    "#verifico se la sotituzione è andata a buon fine e conto Nan\n",
    "complete_df.isnull().sum()"
   ]
  },
  {
   "cell_type": "markdown",
   "id": "b0e7907d",
   "metadata": {},
   "source": [
    "MISSING VALUES (2)"
   ]
  },
  {
   "cell_type": "code",
   "execution_count": 705,
   "id": "fad2f0e6",
   "metadata": {},
   "outputs": [
    {
     "name": "stdout",
     "output_type": "stream",
     "text": [
      "originalTitle                   0.000000\n",
      "rating                          0.000000\n",
      "startYear                       0.000000\n",
      "endYear                        95.038342\n",
      "runtimeMinutes                 29.724302\n",
      "awardWins                      15.998722\n",
      "numVotes                        0.000000\n",
      "worstRating                     0.000000\n",
      "bestRating                      0.000000\n",
      "totalImages                     0.000000\n",
      "totalVideos                     0.000000\n",
      "totalCredits                    0.000000\n",
      "criticReviewsTotal              0.000000\n",
      "titleType                       0.000000\n",
      "awardNominationsExcludeWins     0.000000\n",
      "canHaveEpisodes                 0.000000\n",
      "isRatable                       0.000000\n",
      "isAdult                         0.000000\n",
      "numRegions                      0.000000\n",
      "userReviewsTotal                0.000000\n",
      "ratingCount                     0.000000\n",
      "countryOfOrigin                 0.000000\n",
      "genres                          2.295965\n",
      "dtype: float64\n"
     ]
    }
   ],
   "source": [
    "missing_percentage = (complete_df.isna().sum() / len(complete_df)) * 100\n",
    "print(missing_percentage)\n"
   ]
  },
  {
   "cell_type": "markdown",
   "id": "b73a87d3",
   "metadata": {},
   "source": [
    "INCOMPLETE ROWS (?)"
   ]
  },
  {
   "cell_type": "code",
   "execution_count": 706,
   "id": "ccdc202d",
   "metadata": {},
   "outputs": [
    {
     "name": "stdout",
     "output_type": "stream",
     "text": [
      "Empty DataFrame\n",
      "Columns: [originalTitle, rating, startYear, endYear, runtimeMinutes, awardWins, numVotes, worstRating, bestRating, totalImages, totalVideos, totalCredits, criticReviewsTotal, titleType, awardNominationsExcludeWins, canHaveEpisodes, isRatable, isAdult, numRegions, userReviewsTotal, ratingCount, countryOfOrigin, genres]\n",
      "Index: []\n",
      "\n",
      "[0 rows x 23 columns]\n"
     ]
    }
   ],
   "source": [
    "#forse non serve perchè verifica che non ci siano righe vuote \n",
    "#(in teoria lo sappiamo già perchè ci sono solo tre colonne con NaN values)\n",
    "incomplete_rows = complete_df[complete_df.isna().all(axis=1)]\n",
    "print(incomplete_rows)\n"
   ]
  },
  {
   "cell_type": "markdown",
   "id": "e43df6be",
   "metadata": {},
   "source": [
    "ALTRO"
   ]
  },
  {
   "cell_type": "code",
   "execution_count": 707,
   "id": "4ed3bb0c",
   "metadata": {},
   "outputs": [
    {
     "name": "stdout",
     "output_type": "stream",
     "text": [
      "21908\n"
     ]
    },
    {
     "data": {
      "text/plain": [
       "<IntegerArray>\n",
       "[10]\n",
       "Length: 1, dtype: Int64"
      ]
     },
     "execution_count": 707,
     "metadata": {},
     "output_type": "execute_result"
    }
   ],
   "source": [
    "#best rating è sempre 10, worst rating è sempre 1\n",
    "if 10 in complete_df[\"bestRating\"].values:\n",
    "        count = (complete_df[\"bestRating\"] == 10).sum()\n",
    "        print(count)\n",
    "\n",
    "complete_df[\"bestRating\"].unique()"
   ]
  },
  {
   "cell_type": "code",
   "execution_count": 708,
   "id": "aed828af",
   "metadata": {},
   "outputs": [
    {
     "data": {
      "text/plain": [
       "str"
      ]
     },
     "execution_count": 708,
     "metadata": {},
     "output_type": "execute_result"
    }
   ],
   "source": [
    "val = complete_df.loc[4,\"countryOfOrigin\"]\n",
    "type(val)\n",
    "#val"
   ]
  }
 ],
 "metadata": {
  "kernelspec": {
   "display_name": "Python 3",
   "language": "python",
   "name": "python3"
  },
  "language_info": {
   "codemirror_mode": {
    "name": "ipython",
    "version": 3
   },
   "file_extension": ".py",
   "mimetype": "text/x-python",
   "name": "python",
   "nbconvert_exporter": "python",
   "pygments_lexer": "ipython3",
   "version": "3.8.2"
  }
 },
 "nbformat": 4,
 "nbformat_minor": 5
}
