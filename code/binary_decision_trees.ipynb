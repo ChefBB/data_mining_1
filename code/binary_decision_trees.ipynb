{
 "cells": [
  {
   "cell_type": "code",
   "execution_count": 16,
   "id": "fde25e1f",
   "metadata": {},
   "outputs": [],
   "source": [
    "from support.df_init import init\n",
    "\n",
    "train = init()\n",
    "test = init('pp_test.csv')"
   ]
  },
  {
   "cell_type": "code",
   "execution_count": 17,
   "id": "9b5ca692",
   "metadata": {},
   "outputs": [
    {
     "data": {
      "text/plain": [
       "Index(['originalTitle', 'rating', 'startYear', 'endYear', 'runtimeMinutes',\n",
       "       'awardWins', 'numVotes', 'totalImages', 'totalVideos', 'totalCredits',\n",
       "       'criticReviewsTotal', 'titleType', 'awardNominationsExcludeWins',\n",
       "       'canHaveEpisodes', 'isAdult', 'numRegions', 'userReviewsTotal',\n",
       "       'is_Documentary', 'is_History', 'is_Adventure', 'is_Thriller',\n",
       "       'is_Game-Show', 'is_Comedy', 'is_Sci-Fi', 'is_Romance', 'is_Biography',\n",
       "       'is_Musical', 'is_Western', 'is_Music', 'is_Film-Noir', 'is_Adult',\n",
       "       'is_Reality-TV', 'is_News', 'is_Action', 'is_Crime', 'is_Short',\n",
       "       'is_Fantasy', 'is_Family', 'is_Mystery', 'is_Talk-Show', 'is_Drama',\n",
       "       'is_Sport', 'is_War', 'is_Horror', 'is_Animation',\n",
       "       'fill_runtimeMinutes', 'is_from_Oceania', 'is_from_North America',\n",
       "       'is_from_South America', 'is_from_Asia', 'is_from_Africa',\n",
       "       'is_from_Europe', 'countryOfOrigin', 'countryOfOrigin_freq_enc',\n",
       "       'countryOfOrigin_NA', 'countryOfOrigin_AF', 'countryOfOrigin_AS',\n",
       "       'countryOfOrigin_EU', 'countryOfOrigin_OC', 'countryOfOrigin_SA',\n",
       "       'countryOfOrigin_UNK', 'fill_runtimeMinutes_Bruno', 'totalNominations',\n",
       "       'totalMedia', 'runtimeMinutes_notitletype'],\n",
       "      dtype='object')"
      ]
     },
     "execution_count": 17,
     "metadata": {},
     "output_type": "execute_result"
    }
   ],
   "source": [
    "train.columns"
   ]
  },
  {
   "cell_type": "markdown",
   "id": "9011bc1d",
   "metadata": {},
   "source": [
    "# has_lowEngagement"
   ]
  },
  {
   "cell_type": "code",
   "execution_count": 18,
   "id": "7486f4d6",
   "metadata": {},
   "outputs": [],
   "source": [
    "train['has_lowEngagement'] = (train['numVotes'] < 100).astype(int)\n",
    "test['has_lowEngagement'] = (test['numVotes'] < 100).astype(int)"
   ]
  },
  {
   "cell_type": "code",
   "execution_count": 19,
   "id": "0d5ca0cf",
   "metadata": {},
   "outputs": [
    {
     "name": "stdout",
     "output_type": "stream",
     "text": [
      "Train has_lowEngagement counts:\n",
      "has_lowEngagement\n",
      "1    11105\n",
      "0     5067\n",
      "Name: count, dtype: int64\n",
      "\n",
      "Test has_lowEngagement counts:\n",
      "has_lowEngagement\n",
      "1    3686\n",
      "0    1698\n",
      "Name: count, dtype: int64\n"
     ]
    }
   ],
   "source": [
    "print(\"Train has_lowEngagement counts:\")\n",
    "print(train['has_lowEngagement'].value_counts())\n",
    "\n",
    "print(\"\\nTest has_lowEngagement counts:\")\n",
    "print(test['has_lowEngagement'].value_counts())"
   ]
  },
  {
   "cell_type": "code",
   "execution_count": 20,
   "id": "a23695ce",
   "metadata": {},
   "outputs": [],
   "source": [
    "feats = [\n",
    "    'rating', 'startYear',\n",
    "    'totalCredits', 'criticReviewsTotal',\n",
    "    'canHaveEpisodes', 'numRegions', 'userReviewsTotal',\n",
    "    # 'is_Documentary', 'is_History', 'is_Adventure', 'is_Thriller',\n",
    "    # 'is_Game-Show', 'is_Comedy', 'is_Sci-Fi', 'is_Romance', 'is_Biography',\n",
    "    # 'is_Musical', 'is_Western', 'is_Music', 'is_Film-Noir', 'is_Adult',\n",
    "    # 'is_Reality-TV', 'is_News', 'is_Action', 'is_Crime', 'is_Short',\n",
    "    # 'is_Fantasy', 'is_Family', 'is_Mystery', 'is_Talk-Show', 'is_Drama',\n",
    "    # 'is_Sport', 'is_War', 'is_Horror', 'is_Animation',\n",
    "    # 'is_from_Oceania', 'is_from_North America',\n",
    "    # 'is_from_South America', 'is_from_Asia', 'is_from_Africa',\n",
    "    # 'is_from_Europe',\n",
    "    'countryOfOrigin_freq_enc',\n",
    "    'countryOfOrigin_NA', 'countryOfOrigin_AF', 'countryOfOrigin_AS',\n",
    "    'countryOfOrigin_EU', 'countryOfOrigin_OC', 'countryOfOrigin_SA',\n",
    "    'countryOfOrigin_UNK', 'fill_runtimeMinutes_Bruno', 'totalNominations',\n",
    "    'totalMedia'\n",
    "]"
   ]
  },
  {
   "cell_type": "code",
   "execution_count": 21,
   "id": "f48a3d74",
   "metadata": {},
   "outputs": [
    {
     "name": "stdout",
     "output_type": "stream",
     "text": [
      "[]\n"
     ]
    }
   ],
   "source": [
    "nan_columns = train[feats].columns[train[feats].isna().any()].tolist()\n",
    "print(nan_columns)"
   ]
  },
  {
   "cell_type": "code",
   "execution_count": 26,
   "id": "a85c3581",
   "metadata": {},
   "outputs": [
    {
     "name": "stdout",
     "output_type": "stream",
     "text": [
      "DecisionTreeClassifier(ccp_alpha=0.004514488502720415, max_depth=11,\n",
      "                       min_samples_leaf=6, min_samples_split=17,\n",
      "                       random_state=42)\n",
      "Classification Report for Train Data:\n",
      "              precision    recall  f1-score   support\n",
      "\n",
      "           0       0.81      0.69      0.74      5067\n",
      "           1       0.87      0.93      0.89     11105\n",
      "\n",
      "    accuracy                           0.85     16172\n",
      "   macro avg       0.84      0.81      0.82     16172\n",
      "weighted avg       0.85      0.85      0.85     16172\n",
      "\n",
      "\n",
      "Classification Report for Test Data:\n",
      "              precision    recall  f1-score   support\n",
      "\n",
      "           0       0.80      0.70      0.74      1698\n",
      "           1       0.87      0.92      0.89      3686\n",
      "\n",
      "    accuracy                           0.85      5384\n",
      "   macro avg       0.83      0.81      0.82      5384\n",
      "weighted avg       0.85      0.85      0.85      5384\n",
      "\n"
     ]
    }
   ],
   "source": [
    "from sklearn.tree import DecisionTreeClassifier\n",
    "from sklearn.metrics import classification_report\n",
    "from scipy.stats import randint, uniform\n",
    "from sklearn.model_selection import RandomizedSearchCV\n",
    "\n",
    "# Prepare the data\n",
    "X_train = train[feats].copy()\n",
    "X_test = test[feats].copy()\n",
    "\n",
    "y_train = train['has_lowEngagement'].copy()\n",
    "y_test = test['has_lowEngagement'].copy()\n",
    "\n",
    "param_grid = {\n",
    "    'criterion': ['gini', 'entropy', 'log_loss'],  # 'log_loss' is available from scikit-learn 1.1+\n",
    "    'max_depth': randint(3, 30),\n",
    "    'min_samples_split': randint(2, 20),\n",
    "    'min_samples_leaf': randint(1, 20),\n",
    "    'max_features': ['sqrt', 'log2', None],\n",
    "    'ccp_alpha': uniform(0.0, 0.05),  # cost-complexity pruning\n",
    "    'splitter': ['best', 'random']\n",
    "}\n",
    "\n",
    "# Initialize the Isolation Forest model\n",
    "base_clf = DecisionTreeClassifier(random_state=42)\n",
    "\n",
    "# Perform Randomized Search\n",
    "random_search = RandomizedSearchCV(\n",
    "    estimator=base_clf,\n",
    "    param_distributions=param_grid,\n",
    "    n_iter=50,\n",
    "    scoring='accuracy',\n",
    "    cv=5,\n",
    "    random_state=42,\n",
    "    n_jobs=-1\n",
    ")\n",
    "\n",
    "# Fit Randomized Search to the training data\n",
    "random_search.fit(X_train, y_train)\n",
    "\n",
    "# Use the best estimator from random search\n",
    "clf = random_search.best_estimator_\n",
    "\n",
    "print(clf)\n",
    "\n",
    "# Predict anomalies (-1 for anomaly, 1 for normal)\n",
    "train_pred = clf.predict(X_train)\n",
    "test_pred = clf.predict(X_test)\n",
    "\n",
    "# Map predictions to binary classification (1 for low engagement, 0 otherwise)\n",
    "# train['predicted'] = (train['predicted'] == -1).astype(int)\n",
    "# test['predicted'] = (test['predicted'] == -1).astype(int)\n",
    "\n",
    "# Generate classification report\n",
    "report_train = classification_report(train['has_lowEngagement'], train_pred)\n",
    "report_test = classification_report(test['has_lowEngagement'], test_pred)\n",
    "\n",
    "print(\"Classification Report for Train Data:\")\n",
    "print(report_train)\n",
    "print(\"\\nClassification Report for Test Data:\")\n",
    "print(report_test)"
   ]
  },
  {
   "cell_type": "code",
   "execution_count": null,
   "id": "5ef17882",
   "metadata": {},
   "outputs": [],
   "source": []
  }
 ],
 "metadata": {
  "kernelspec": {
   "display_name": "Python 3",
   "language": "python",
   "name": "python3"
  },
  "language_info": {
   "codemirror_mode": {
    "name": "ipython",
    "version": 3
   },
   "file_extension": ".py",
   "mimetype": "text/x-python",
   "name": "python",
   "nbconvert_exporter": "python",
   "pygments_lexer": "ipython3",
   "version": "3.11.1"
  }
 },
 "nbformat": 4,
 "nbformat_minor": 5
}
