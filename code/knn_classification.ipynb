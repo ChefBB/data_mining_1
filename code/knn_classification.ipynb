{
 "cells": [
  {
   "cell_type": "markdown",
   "metadata": {},
   "source": [
    "# KNN - CLASSIFICATION"
   ]
  },
  {
   "cell_type": "code",
   "execution_count": 335,
   "metadata": {},
   "outputs": [],
   "source": [
    "import ast\n",
    "import numpy as np\n",
    "import matplotlib.pyplot as plt\n",
    "import seaborn as sns\n",
    "import pandas as pd\n",
    "from sklearn.metrics import (\n",
    "    accuracy_score,\n",
    "    f1_score,\n",
    "    classification_report,\n",
    "    confusion_matrix,\n",
    "    roc_auc_score,\n",
    ")\n",
    "from scikitplot.metrics import plot_roc\n",
    "from scikitplot.metrics import plot_precision_recall\n",
    "from sklearn.preprocessing import StandardScaler\n",
    "from sklearn.preprocessing import MinMaxScaler\n",
    "from sklearn.neighbors import KNeighborsClassifier\n",
    "from sklearn.model_selection import RandomizedSearchCV\n",
    "from sklearn.model_selection import train_test_split"
   ]
  },
  {
   "cell_type": "code",
   "execution_count": 336,
   "metadata": {},
   "outputs": [],
   "source": [
    "train_df = pd.read_csv(\"pp_train.csv\")\n",
    "test_df = pd.read_csv(\"pp_test.csv\")\n",
    "\n",
    "copy_train = train_df.copy()\n",
    "copy_test = test_df.copy()"
   ]
  },
  {
   "cell_type": "markdown",
   "metadata": {},
   "source": [
    "### Preprocessing delle variabili"
   ]
  },
  {
   "cell_type": "markdown",
   "metadata": {},
   "source": [
    "##### Eliminazione variabili inutilizzabili"
   ]
  },
  {
   "cell_type": "code",
   "execution_count": 337,
   "metadata": {},
   "outputs": [
    {
     "data": {
      "text/plain": [
       "Index(['originalTitle', 'rating', 'startYear', 'endYear', 'runtimeMinutes',\n",
       "       'awardWins', 'numVotes', 'totalImages', 'totalVideos', 'totalCredits',\n",
       "       'criticReviewsTotal', 'titleType', 'awardNominationsExcludeWins',\n",
       "       'canHaveEpisodes', 'isAdult', 'numRegions', 'userReviewsTotal',\n",
       "       'is_Documentary', 'is_History', 'is_Adventure', 'is_Thriller',\n",
       "       'is_Game-Show', 'is_Comedy', 'is_Sci-Fi', 'is_Romance', 'is_Biography',\n",
       "       'is_Musical', 'is_Western', 'is_Music', 'is_Film-Noir', 'is_Adult',\n",
       "       'is_Reality-TV', 'is_News', 'is_Action', 'is_Crime', 'is_Short',\n",
       "       'is_Fantasy', 'is_Family', 'is_Mystery', 'is_Talk-Show', 'is_Drama',\n",
       "       'is_Sport', 'is_War', 'is_Horror', 'is_Animation',\n",
       "       'fill_runtimeMinutes', 'is_from_Oceania', 'is_from_North America',\n",
       "       'is_from_South America', 'is_from_Asia', 'is_from_Africa',\n",
       "       'is_from_Europe'],\n",
       "      dtype='object')"
      ]
     },
     "execution_count": 337,
     "metadata": {},
     "output_type": "execute_result"
    }
   ],
   "source": [
    "copy_train.columns"
   ]
  },
  {
   "cell_type": "code",
   "execution_count": 338,
   "metadata": {},
   "outputs": [
    {
     "data": {
      "text/plain": [
       "Index(['originalTitle', 'rating', 'startYear', 'endYear', 'runtimeMinutes',\n",
       "       'awardWins', 'numVotes', 'totalImages', 'totalVideos', 'totalCredits',\n",
       "       'criticReviewsTotal', 'titleType', 'awardNominationsExcludeWins',\n",
       "       'canHaveEpisodes', 'isAdult', 'numRegions', 'userReviewsTotal',\n",
       "       'is_Western', 'is_Thriller', 'is_Horror', 'is_Animation', 'is_Family',\n",
       "       'is_News', 'is_Sport', 'is_Reality-TV', 'is_Biography', 'is_Sci-Fi',\n",
       "       'is_Fantasy', 'is_Documentary', 'is_Talk-Show', 'is_Drama', 'is_Music',\n",
       "       'is_Game-Show', 'is_Adventure', 'is_Romance', 'is_Mystery', 'is_Short',\n",
       "       'is_Action', 'is_Adult', 'is_History', 'is_Musical', 'is_Crime',\n",
       "       'is_Film-Noir', 'is_War', 'is_Comedy', 'fill_runtimeMinutes',\n",
       "       'is_from_South America', 'is_from_Oceania', 'is_from_Europe',\n",
       "       'is_from_Asia', 'is_from_Africa', 'is_from_North America'],\n",
       "      dtype='object')"
      ]
     },
     "execution_count": 338,
     "metadata": {},
     "output_type": "execute_result"
    }
   ],
   "source": [
    "copy_test.columns"
   ]
  },
  {
   "cell_type": "markdown",
   "metadata": {},
   "source": [
    "##### Mapping variabile target"
   ]
  },
  {
   "cell_type": "code",
   "execution_count": 339,
   "metadata": {},
   "outputs": [
    {
     "data": {
      "text/plain": [
       "{'tvEpisode': 0,\n",
       " 'videoGame': 1,\n",
       " 'movie': 2,\n",
       " 'tvSeries': 3,\n",
       " 'video': 4,\n",
       " 'tvMiniSeries': 5,\n",
       " 'short': 6,\n",
       " 'tvMovie': 7,\n",
       " 'tvSpecial': 8,\n",
       " 'tvShort': 9}"
      ]
     },
     "execution_count": 339,
     "metadata": {},
     "output_type": "execute_result"
    }
   ],
   "source": [
    "y = np.array(copy_train['titleType'])  # Il target originale\n",
    "\n",
    "# Creiamo un dizionario che associa ogni categoria a un numero\n",
    "y_map = {title: idx for idx, title in enumerate(copy_train['titleType'].unique())}\n",
    "\n",
    "#aggiungo una nuova colonna\n",
    "copy_train['titleType_encoded'] = copy_train['titleType'].map(y_map)\n",
    "copy_test['titleType_encoded'] = copy_test['titleType'].map(y_map)\n",
    "\n",
    "y_map  # Per vedere la mappatura delle categorie"
   ]
  },
  {
   "cell_type": "code",
   "execution_count": 340,
   "metadata": {},
   "outputs": [],
   "source": [
    "copy_train[\"canHaveEpisodes\"] = copy_train[\"canHaveEpisodes\"].astype(int)\n",
    "copy_test[\"canHaveEpisodes\"] = copy_test[\"canHaveEpisodes\"].astype(int)"
   ]
  },
  {
   "cell_type": "markdown",
   "metadata": {},
   "source": [
    "#### Rimuoviamo titleType dato che è già stata mappata"
   ]
  },
  {
   "cell_type": "code",
   "execution_count": 341,
   "metadata": {},
   "outputs": [],
   "source": [
    "copy_train = copy_train.drop([\"originalTitle\", \"runtimeMinutes\"], axis=1)\n",
    "copy_test = copy_test.drop([\"originalTitle\", \"runtimeMinutes\"], axis=1)"
   ]
  },
  {
   "cell_type": "code",
   "execution_count": 342,
   "metadata": {},
   "outputs": [],
   "source": [
    "copy_train = copy_train.drop([\"titleType\"], axis=1)\n",
    "copy_test = copy_test.drop([\"titleType\"], axis=1)"
   ]
  },
  {
   "cell_type": "markdown",
   "metadata": {},
   "source": [
    "#### Rimuoviamo endYear (fino a quando non capiamo come sostituirlo)"
   ]
  },
  {
   "cell_type": "code",
   "execution_count": 343,
   "metadata": {},
   "outputs": [],
   "source": [
    "copy_train = copy_train.drop([\"endYear\"], axis=1)\n",
    "copy_test = copy_test.drop([\"endYear\"], axis=1)"
   ]
  },
  {
   "cell_type": "markdown",
   "metadata": {},
   "source": [
    "#### Encoding di titletype per multiclass classification task"
   ]
  },
  {
   "cell_type": "code",
   "execution_count": 344,
   "metadata": {},
   "outputs": [],
   "source": [
    "# Extract target (y)\n",
    "y_train = copy_train[\"titleType_encoded\"].values  # Convert directly to NumPy\n",
    "y_test = copy_test[\"titleType_encoded\"].values  # Convert directly to NumPy\n",
    "\n",
    "# Extract features (X) and convert to NumPy\n",
    "X_train = copy_train.drop(\"titleType_encoded\", axis=1).values\n",
    "X_test = copy_test.drop(\"titleType_encoded\", axis=1).values"
   ]
  },
  {
   "cell_type": "markdown",
   "metadata": {},
   "source": [
    "#### Ulteriore rimozione attributi"
   ]
  },
  {
   "cell_type": "code",
   "execution_count": 345,
   "metadata": {},
   "outputs": [],
   "source": [
    "copy_train = copy_train.drop(['is_Western', 'is_Thriller', 'is_Horror', 'is_Animation', 'is_Family',\n",
    "       'is_News', 'is_Sport', 'is_Reality-TV', 'is_Biography', 'is_Sci-Fi',\n",
    "       'is_Fantasy', 'is_Documentary', 'is_Talk-Show', 'is_Drama', 'is_Music',\n",
    "       'is_Game-Show', 'is_Adventure', 'is_Romance', 'is_Mystery', 'is_Short',\n",
    "       'is_Action', 'is_Adult', 'is_History', 'is_Musical', 'is_Crime',\n",
    "       'is_Film-Noir', 'is_War', 'is_Comedy',\n",
    "       'is_from_South America', 'is_from_Oceania', 'is_from_Europe',\n",
    "       'is_from_Asia', 'is_from_Africa', 'is_from_North America', 'titleType_encoded', 'awardNominationsExcludeWins', \"rating\"], axis=1)\n",
    "\n",
    "copy_test = copy_test.drop(['is_Western', 'is_Thriller', 'is_Horror', 'is_Animation', 'is_Family',\n",
    "       'is_News', 'is_Sport', 'is_Reality-TV', 'is_Biography', 'is_Sci-Fi',\n",
    "       'is_Fantasy', 'is_Documentary', 'is_Talk-Show', 'is_Drama', 'is_Music',\n",
    "       'is_Game-Show', 'is_Adventure', 'is_Romance', 'is_Mystery', 'is_Short',\n",
    "       'is_Action', 'is_Adult', 'is_History', 'is_Musical', 'is_Crime',\n",
    "       'is_Film-Noir', 'is_War', 'is_Comedy',\n",
    "       'is_from_South America', 'is_from_Oceania', 'is_from_Europe',\n",
    "       'is_from_Asia', 'is_from_Africa', 'is_from_North America', 'titleType_encoded', 'awardNominationsExcludeWins', \"rating\"], axis=1)"
   ]
  },
  {
   "cell_type": "code",
   "execution_count": 346,
   "metadata": {},
   "outputs": [
    {
     "data": {
      "text/plain": [
       "Index(['startYear', 'awardWins', 'numVotes', 'totalImages', 'totalVideos',\n",
       "       'totalCredits', 'criticReviewsTotal', 'canHaveEpisodes', 'isAdult',\n",
       "       'numRegions', 'userReviewsTotal', 'fill_runtimeMinutes'],\n",
       "      dtype='object')"
      ]
     },
     "execution_count": 346,
     "metadata": {},
     "output_type": "execute_result"
    }
   ],
   "source": [
    "copy_train.columns"
   ]
  },
  {
   "cell_type": "code",
   "execution_count": 347,
   "metadata": {},
   "outputs": [
    {
     "data": {
      "text/plain": [
       "Index(['startYear', 'awardWins', 'numVotes', 'totalImages', 'totalVideos',\n",
       "       'totalCredits', 'criticReviewsTotal', 'canHaveEpisodes', 'isAdult',\n",
       "       'numRegions', 'userReviewsTotal', 'fill_runtimeMinutes'],\n",
       "      dtype='object')"
      ]
     },
     "execution_count": 347,
     "metadata": {},
     "output_type": "execute_result"
    }
   ],
   "source": [
    "copy_test.columns"
   ]
  },
  {
   "cell_type": "markdown",
   "metadata": {},
   "source": [
    "#### Normalizzazione"
   ]
  },
  {
   "cell_type": "code",
   "execution_count": 348,
   "metadata": {},
   "outputs": [],
   "source": [
    "numeric_tr = copy_train[['startYear', 'awardWins', 'numVotes', 'totalImages',\n",
    "       'totalCredits', \"totalVideos\", 'criticReviewsTotal', 'canHaveEpisodes', 'isAdult',\n",
    "       'numRegions', 'userReviewsTotal', \"fill_runtimeMinutes\"]].values\n",
    "\n",
    "numeric_ts = copy_test[['startYear', 'awardWins', 'numVotes', 'totalImages',\n",
    "       'totalCredits', \"totalVideos\", 'criticReviewsTotal', 'canHaveEpisodes', 'isAdult',\n",
    "       'numRegions', 'userReviewsTotal', \"fill_runtimeMinutes\"]].values"
   ]
  },
  {
   "cell_type": "code",
   "execution_count": 349,
   "metadata": {},
   "outputs": [],
   "source": [
    "X_train_numeric_log = np.log1p(numeric_tr)\n",
    "X_test_numeric_log = np.log1p(numeric_ts)"
   ]
  },
  {
   "cell_type": "code",
   "execution_count": 350,
   "metadata": {},
   "outputs": [],
   "source": [
    "scaler = StandardScaler()\n",
    "\n",
    "# # Fittiamo SOLO su train e trasformiamo tutto\n",
    "X_train_standardsc = scaler.fit_transform(X_train_numeric_log)\n",
    "# X_val_standardsc = scaler.transform(X_val)\n",
    "\n",
    "X_test_standardsc = scaler.transform(X_test_numeric_log)\n"
   ]
  },
  {
   "cell_type": "code",
   "execution_count": 351,
   "metadata": {},
   "outputs": [],
   "source": [
    "minmax = MinMaxScaler()\n",
    "\n",
    "# # Fitta e trasforma il training set in un solo passaggio\n",
    "X_train_minmax = minmax.fit_transform(X_train_numeric_log)\n",
    "# X_val_minmax = minmax.fit_transform(X_val)\n",
    "\n",
    "# # Trasforma il test set (senza rifittare!)\n",
    "X_test_minmax = minmax.transform(X_test_numeric_log)"
   ]
  },
  {
   "cell_type": "code",
   "execution_count": 352,
   "metadata": {},
   "outputs": [],
   "source": [
    "# X_train_minmax = np.concatenate([minmaxtr, X_cat], axis=1)\n",
    "# X_test_minmax = np.concatenate([minmaxts, X_cat], axis=1)\n",
    "\n",
    "# X_train_standardscc = np.concatenate([standardsctr, X_cat], axis=1)\n",
    "# X_test_standardsc = np.concatenate([standardscts, X_cat], axis=1)"
   ]
  },
  {
   "cell_type": "markdown",
   "metadata": {},
   "source": [
    "## KNN"
   ]
  },
  {
   "cell_type": "markdown",
   "metadata": {},
   "source": [
    "### RandomizedSearch per trovare gli iperparametri"
   ]
  },
  {
   "cell_type": "code",
   "execution_count": 353,
   "metadata": {},
   "outputs": [],
   "source": [
    "# import numpy as np\n",
    "# from sklearn.neighbors import KNeighborsClassifier\n",
    "# from sklearn.model_selection import RandomizedSearchCV, RepeatedStratifiedKFold\n",
    "# from scipy.stats import randint\n",
    "\n",
    "# # Define the parameter distributions\n",
    "# #general practice: k = sqrt(N) where N is the number of samples in the training dataset.\n",
    "\n",
    "# param_distributions = {\n",
    "#     \"n_neighbors\": np.arange(1, X_train.shape[0]//2),  \n",
    "#     \"weights\": [\"uniform\", \"distance\"],\n",
    "#     \"metric\": [\"euclidean\", \"cityblock\"]\n",
    "# } \n",
    "\n",
    "# # Create the RandomizedSearchCV object\n",
    "# random_search = RandomizedSearchCV(\n",
    "#     KNeighborsClassifier(),\n",
    "#     param_distributions=param_distributions,\n",
    "#     n_iter=100,  # Number of parameter settings that are sampled\n",
    "#     cv=RepeatedStratifiedKFold(random_state=0),\n",
    "#     n_jobs=-1,\n",
    "#     refit=True,\n",
    "#     random_state=42,\n",
    "#     #verbose=1\n",
    "# )\n",
    "\n",
    "# # Fit the model\n",
    "# #random_search.fit(X_val_standardsc, y_val)\n",
    "# random_search.fit(X_train_minmax, y_train) \n",
    "\n",
    "\n",
    "# # Get the best model\n",
    "# clf = random_search.best_estimator_\n",
    "\n",
    "# # Print results\n",
    "# print(\"\\nBest parameters:\", random_search.best_params_)\n",
    "# print(\"Best cross-validation score: {:.4f}\".format(random_search.best_score_))"
   ]
  },
  {
   "cell_type": "code",
   "execution_count": 354,
   "metadata": {},
   "outputs": [],
   "source": [
    "import numpy as np\n",
    "from sklearn.neighbors import KNeighborsClassifier\n",
    "from sklearn.model_selection import RandomizedSearchCV, StratifiedKFold\n",
    "from scipy.stats import randint\n",
    "\n",
    "def optimize_knn(X_train, y_train, n_iter=100, cv=5, verbose=1):\n",
    "    # Calculate reasonable k range based on square root rule\n",
    "    # sqrt(N) is a common rule of thumb for KNN\n",
    "    sqrt_n = int(np.sqrt(X_train.shape[0]))\n",
    "    \n",
    "    # Define parameter space with more focused ranges\n",
    "    param_distributions = {\n",
    "        \"n_neighbors\": np.arange(1, sqrt_n+1),  # Focus around sqrt(N)\n",
    "        \"weights\": [\"uniform\", \"distance\"],\n",
    "        \"metric\": [\"euclidean\", \"cityblock\"]\n",
    "    }\n",
    "    \n",
    "    # Create the RandomizedSearchCV object with improved settings\n",
    "    random_search = RandomizedSearchCV(\n",
    "        KNeighborsClassifier(),\n",
    "        param_distributions=param_distributions,\n",
    "        n_iter=n_iter,\n",
    "        cv=StratifiedKFold(n_splits=cv, shuffle=True, random_state=42),  # Stratified k-fold is usually sufficient\n",
    "        n_jobs=-1,\n",
    "        refit=True,\n",
    "        random_state=42,\n",
    "        verbose=verbose,\n",
    "        scoring='accuracy',  # Specify your preferred metric\n",
    "        return_train_score=True  # Good for checking overfitting\n",
    "    )\n",
    "    \n",
    "    # Fit the model\n",
    "    random_search.fit(X_train_standardsc, y_train)\n",
    "    \n",
    "        # Show top 5 models to see parameter sensitivity\n",
    "    results = random_search.cv_results_\n",
    "    sorted_idx = np.argsort(results['rank_test_score'])\n",
    "    print(\"\\nTop 5 configurations:\")\n",
    "    for i in range(5):\n",
    "        idx = sorted_idx[i]\n",
    "        print(f\"Rank {i+1}: {results['params'][idx]}\")\n",
    "        print(f\"   Test score: {results['mean_test_score'][idx]:.4f}\")\n",
    "        print(f\"   Train score: {results['mean_train_score'][idx]:.4f}\")\n",
    "\n",
    "    return random_search.best_estimator_, random_search.best_params_, random_search.best_score_"
   ]
  },
  {
   "cell_type": "code",
   "execution_count": 355,
   "metadata": {},
   "outputs": [
    {
     "name": "stdout",
     "output_type": "stream",
     "text": [
      "Training data shape: (16431, 48)\n",
      "Test data shape: (5478, 48)\n"
     ]
    }
   ],
   "source": [
    "print(f\"Training data shape: {X_train.shape}\")\n",
    "print(f\"Test data shape: {X_test.shape}\")"
   ]
  },
  {
   "cell_type": "code",
   "execution_count": 356,
   "metadata": {},
   "outputs": [
    {
     "name": "stdout",
     "output_type": "stream",
     "text": [
      "Fitting 5 folds for each of 100 candidates, totalling 500 fits\n",
      "\n",
      "Top 5 configurations:\n",
      "Rank 1: {'weights': 'distance', 'n_neighbors': 11, 'metric': 'cityblock'}\n",
      "   Test score: 0.8388\n",
      "   Train score: 1.0000\n",
      "Rank 2: {'weights': 'distance', 'n_neighbors': 13, 'metric': 'cityblock'}\n",
      "   Test score: 0.8388\n",
      "   Train score: 1.0000\n",
      "Rank 3: {'weights': 'distance', 'n_neighbors': 17, 'metric': 'cityblock'}\n",
      "   Test score: 0.8384\n",
      "   Train score: 1.0000\n",
      "Rank 4: {'weights': 'distance', 'n_neighbors': 16, 'metric': 'cityblock'}\n",
      "   Test score: 0.8384\n",
      "   Train score: 1.0000\n",
      "Rank 5: {'weights': 'distance', 'n_neighbors': 31, 'metric': 'cityblock'}\n",
      "   Test score: 0.8351\n",
      "   Train score: 1.0000\n"
     ]
    }
   ],
   "source": [
    "best_knn, best_params, best_score = optimize_knn(X_train_standardsc, y_train)\n",
    "# Create a new classifier with the optimized parameters\n",
    "clf = KNeighborsClassifier(**best_params)\n",
    "clf.fit(X_train_standardsc, y_train)\n",
    "y_pred = clf.predict(X_test_standardsc)"
   ]
  },
  {
   "cell_type": "markdown",
   "metadata": {},
   "source": [
    "##### Creating in validation set"
   ]
  },
  {
   "cell_type": "code",
   "execution_count": 357,
   "metadata": {},
   "outputs": [],
   "source": [
    "# X_train2, X_val, y_train2, y_val = train_test_split(\n",
    "#      X_train, y_train, test_size=0.2, random_state=32\n",
    "# )\n",
    "\n",
    "# X_train2 = training set --> 80% di X_train\n",
    "# X_val = validation set --> 20% di X_train\n",
    "# y_train2 e y_val sono i target corrispondenti (etichette) per i dati di addestramento e validazione"
   ]
  },
  {
   "cell_type": "code",
   "execution_count": 358,
   "metadata": {},
   "outputs": [],
   "source": [
    "# print(X_train2.shape, X_val.shape, X_test.shape)"
   ]
  },
  {
   "cell_type": "markdown",
   "metadata": {},
   "source": [
    "##### Predicting on test set"
   ]
  },
  {
   "cell_type": "code",
   "execution_count": 359,
   "metadata": {},
   "outputs": [],
   "source": [
    "# clf = KNeighborsClassifier(weights=\"distance\", n_neighbors=25, metric=\"cityblock\")\n",
    "# #clf.fit(X_train_minmax, y_train)\n",
    "# clf.fit(X_train_standardsc, y_train)\n",
    "# # y_pred = clf.predict(X_test_minmax)\n",
    "# y_pred = clf.predict(X_test_standardsc)\n"
   ]
  },
  {
   "cell_type": "code",
   "execution_count": 360,
   "metadata": {},
   "outputs": [
    {
     "name": "stdout",
     "output_type": "stream",
     "text": [
      "<class 'numpy.ndarray'>\n",
      "int64\n",
      "{0, 1, 2, 3, 4, 5, 6, 7, 8, 9}\n",
      "{0, 1, 2, 3, 4, 5, 6, 7, 8}\n",
      "Test accuracy: 0.8260313983205549\n",
      "\n",
      "Classification Report:\n",
      "              precision    recall  f1-score   support\n",
      "\n",
      "           0       0.88      0.92      0.90      1599\n",
      "           1       0.10      0.02      0.03        94\n",
      "           2       0.80      0.94      0.86      1877\n",
      "           3       0.88      0.99      0.93       447\n",
      "           4       0.67      0.42      0.52       250\n",
      "           5       0.81      0.27      0.41        81\n",
      "           6       0.87      0.89      0.88       766\n",
      "           7       0.36      0.12      0.18       299\n",
      "           8       0.20      0.02      0.04        49\n",
      "           9       0.00      0.00      0.00        16\n",
      "\n",
      "    accuracy                           0.83      5478\n",
      "   macro avg       0.56      0.46      0.48      5478\n",
      "weighted avg       0.79      0.83      0.80      5478\n",
      "\n"
     ]
    },
    {
     "name": "stderr",
     "output_type": "stream",
     "text": [
      "C:\\Users\\Gagia\\AppData\\Roaming\\Python\\Python38\\site-packages\\sklearn\\metrics\\_classification.py:1471: UndefinedMetricWarning: Precision and F-score are ill-defined and being set to 0.0 in labels with no predicted samples. Use `zero_division` parameter to control this behavior.\n",
      "  _warn_prf(average, modifier, msg_start, len(result))\n",
      "C:\\Users\\Gagia\\AppData\\Roaming\\Python\\Python38\\site-packages\\sklearn\\metrics\\_classification.py:1471: UndefinedMetricWarning: Precision and F-score are ill-defined and being set to 0.0 in labels with no predicted samples. Use `zero_division` parameter to control this behavior.\n",
      "  _warn_prf(average, modifier, msg_start, len(result))\n",
      "C:\\Users\\Gagia\\AppData\\Roaming\\Python\\Python38\\site-packages\\sklearn\\metrics\\_classification.py:1471: UndefinedMetricWarning: Precision and F-score are ill-defined and being set to 0.0 in labels with no predicted samples. Use `zero_division` parameter to control this behavior.\n",
      "  _warn_prf(average, modifier, msg_start, len(result))\n"
     ]
    }
   ],
   "source": [
    "print(type(y_pred))\n",
    "print(y_pred.dtype)\n",
    "print(set(y_test))  # Check if it's already numeric\n",
    "print(set(y_pred))  # se qui manca una classe rispetto a sopra vuol dire che non l'ha riconosciuta \n",
    "\n",
    "# Evaluate performance\n",
    "from sklearn.metrics import accuracy_score, classification_report, confusion_matrix\n",
    "\n",
    "print(f\"Test accuracy: {accuracy_score(y_test, y_pred)}\")\n",
    "print(\"\\nClassification Report:\")\n",
    "print(classification_report(y_test, y_pred))"
   ]
  },
  {
   "cell_type": "code",
   "execution_count": 361,
   "metadata": {},
   "outputs": [
    {
     "name": "stdout",
     "output_type": "stream",
     "text": [
      "Train accuracy: 1.0000\n",
      "Test accuracy: 0.8260\n"
     ]
    }
   ],
   "source": [
    "# Calculate test accuracy (what you already have)\n",
    "test_accuracy = accuracy_score(y_test, y_pred)\n",
    "\n",
    "# Calculate training accuracy\n",
    "y_pred = clf.predict(X_train_standardsc)\n",
    "train_accuracy = accuracy_score(y_train, y_pred)\n",
    "\n",
    "# Print both for comparison\n",
    "print(f\"Train accuracy: {train_accuracy:.4f}\")\n",
    "print(f\"Test accuracy: {test_accuracy:.4f}\")"
   ]
  },
  {
   "cell_type": "code",
   "execution_count": 362,
   "metadata": {},
   "outputs": [
    {
     "ename": "ValueError",
     "evalue": "Found input variables with inconsistent numbers of samples: [5478, 16431]",
     "output_type": "error",
     "traceback": [
      "\u001b[1;31m---------------------------------------------------------------------------\u001b[0m",
      "\u001b[1;31mValueError\u001b[0m                                Traceback (most recent call last)",
      "Cell \u001b[1;32mIn[362], line 1\u001b[0m\n\u001b[1;32m----> 1\u001b[0m cf \u001b[38;5;241m=\u001b[39m \u001b[43mconfusion_matrix\u001b[49m\u001b[43m(\u001b[49m\u001b[43my_test\u001b[49m\u001b[43m,\u001b[49m\u001b[43m \u001b[49m\u001b[43my_pred\u001b[49m\u001b[43m)\u001b[49m\n\u001b[0;32m      2\u001b[0m sns\u001b[38;5;241m.\u001b[39mheatmap(cf, annot\u001b[38;5;241m=\u001b[39m\u001b[38;5;28;01mTrue\u001b[39;00m, cmap\u001b[38;5;241m=\u001b[39m\u001b[38;5;124m\"\u001b[39m\u001b[38;5;124mGreens\u001b[39m\u001b[38;5;124m\"\u001b[39m)\n\u001b[0;32m      3\u001b[0m plt\u001b[38;5;241m.\u001b[39mxlabel(\u001b[38;5;124m\"\u001b[39m\u001b[38;5;124mTrue\u001b[39m\u001b[38;5;124m\"\u001b[39m)\n",
      "File \u001b[1;32m~\\AppData\\Roaming\\Python\\Python38\\site-packages\\sklearn\\utils\\_param_validation.py:214\u001b[0m, in \u001b[0;36mvalidate_params.<locals>.decorator.<locals>.wrapper\u001b[1;34m(*args, **kwargs)\u001b[0m\n\u001b[0;32m    208\u001b[0m \u001b[38;5;28;01mtry\u001b[39;00m:\n\u001b[0;32m    209\u001b[0m     \u001b[38;5;28;01mwith\u001b[39;00m config_context(\n\u001b[0;32m    210\u001b[0m         skip_parameter_validation\u001b[38;5;241m=\u001b[39m(\n\u001b[0;32m    211\u001b[0m             prefer_skip_nested_validation \u001b[38;5;129;01mor\u001b[39;00m global_skip_validation\n\u001b[0;32m    212\u001b[0m         )\n\u001b[0;32m    213\u001b[0m     ):\n\u001b[1;32m--> 214\u001b[0m         \u001b[38;5;28;01mreturn\u001b[39;00m \u001b[43mfunc\u001b[49m\u001b[43m(\u001b[49m\u001b[38;5;241;43m*\u001b[39;49m\u001b[43margs\u001b[49m\u001b[43m,\u001b[49m\u001b[43m \u001b[49m\u001b[38;5;241;43m*\u001b[39;49m\u001b[38;5;241;43m*\u001b[39;49m\u001b[43mkwargs\u001b[49m\u001b[43m)\u001b[49m\n\u001b[0;32m    215\u001b[0m \u001b[38;5;28;01mexcept\u001b[39;00m InvalidParameterError \u001b[38;5;28;01mas\u001b[39;00m e:\n\u001b[0;32m    216\u001b[0m     \u001b[38;5;66;03m# When the function is just a wrapper around an estimator, we allow\u001b[39;00m\n\u001b[0;32m    217\u001b[0m     \u001b[38;5;66;03m# the function to delegate validation to the estimator, but we replace\u001b[39;00m\n\u001b[0;32m    218\u001b[0m     \u001b[38;5;66;03m# the name of the estimator by the name of the function in the error\u001b[39;00m\n\u001b[0;32m    219\u001b[0m     \u001b[38;5;66;03m# message to avoid confusion.\u001b[39;00m\n\u001b[0;32m    220\u001b[0m     msg \u001b[38;5;241m=\u001b[39m re\u001b[38;5;241m.\u001b[39msub(\n\u001b[0;32m    221\u001b[0m         \u001b[38;5;124mr\u001b[39m\u001b[38;5;124m\"\u001b[39m\u001b[38;5;124mparameter of \u001b[39m\u001b[38;5;124m\\\u001b[39m\u001b[38;5;124mw+ must be\u001b[39m\u001b[38;5;124m\"\u001b[39m,\n\u001b[0;32m    222\u001b[0m         \u001b[38;5;124mf\u001b[39m\u001b[38;5;124m\"\u001b[39m\u001b[38;5;124mparameter of \u001b[39m\u001b[38;5;132;01m{\u001b[39;00mfunc\u001b[38;5;241m.\u001b[39m\u001b[38;5;18m__qualname__\u001b[39m\u001b[38;5;132;01m}\u001b[39;00m\u001b[38;5;124m must be\u001b[39m\u001b[38;5;124m\"\u001b[39m,\n\u001b[0;32m    223\u001b[0m         \u001b[38;5;28mstr\u001b[39m(e),\n\u001b[0;32m    224\u001b[0m     )\n",
      "File \u001b[1;32m~\\AppData\\Roaming\\Python\\Python38\\site-packages\\sklearn\\metrics\\_classification.py:326\u001b[0m, in \u001b[0;36mconfusion_matrix\u001b[1;34m(y_true, y_pred, labels, sample_weight, normalize)\u001b[0m\n\u001b[0;32m    231\u001b[0m \u001b[38;5;129m@validate_params\u001b[39m(\n\u001b[0;32m    232\u001b[0m     {\n\u001b[0;32m    233\u001b[0m         \u001b[38;5;124m\"\u001b[39m\u001b[38;5;124my_true\u001b[39m\u001b[38;5;124m\"\u001b[39m: [\u001b[38;5;124m\"\u001b[39m\u001b[38;5;124marray-like\u001b[39m\u001b[38;5;124m\"\u001b[39m],\n\u001b[1;32m   (...)\u001b[0m\n\u001b[0;32m    242\u001b[0m     y_true, y_pred, \u001b[38;5;241m*\u001b[39m, labels\u001b[38;5;241m=\u001b[39m\u001b[38;5;28;01mNone\u001b[39;00m, sample_weight\u001b[38;5;241m=\u001b[39m\u001b[38;5;28;01mNone\u001b[39;00m, normalize\u001b[38;5;241m=\u001b[39m\u001b[38;5;28;01mNone\u001b[39;00m\n\u001b[0;32m    243\u001b[0m ):\n\u001b[0;32m    244\u001b[0m \u001b[38;5;250m    \u001b[39m\u001b[38;5;124;03m\"\"\"Compute confusion matrix to evaluate the accuracy of a classification.\u001b[39;00m\n\u001b[0;32m    245\u001b[0m \n\u001b[0;32m    246\u001b[0m \u001b[38;5;124;03m    By definition a confusion matrix :math:`C` is such that :math:`C_{i, j}`\u001b[39;00m\n\u001b[1;32m   (...)\u001b[0m\n\u001b[0;32m    324\u001b[0m \u001b[38;5;124;03m    (0, 2, 1, 1)\u001b[39;00m\n\u001b[0;32m    325\u001b[0m \u001b[38;5;124;03m    \"\"\"\u001b[39;00m\n\u001b[1;32m--> 326\u001b[0m     y_type, y_true, y_pred \u001b[38;5;241m=\u001b[39m \u001b[43m_check_targets\u001b[49m\u001b[43m(\u001b[49m\u001b[43my_true\u001b[49m\u001b[43m,\u001b[49m\u001b[43m \u001b[49m\u001b[43my_pred\u001b[49m\u001b[43m)\u001b[49m\n\u001b[0;32m    327\u001b[0m     \u001b[38;5;28;01mif\u001b[39;00m y_type \u001b[38;5;129;01mnot\u001b[39;00m \u001b[38;5;129;01min\u001b[39;00m (\u001b[38;5;124m\"\u001b[39m\u001b[38;5;124mbinary\u001b[39m\u001b[38;5;124m\"\u001b[39m, \u001b[38;5;124m\"\u001b[39m\u001b[38;5;124mmulticlass\u001b[39m\u001b[38;5;124m\"\u001b[39m):\n\u001b[0;32m    328\u001b[0m         \u001b[38;5;28;01mraise\u001b[39;00m \u001b[38;5;167;01mValueError\u001b[39;00m(\u001b[38;5;124m\"\u001b[39m\u001b[38;5;132;01m%s\u001b[39;00m\u001b[38;5;124m is not supported\u001b[39m\u001b[38;5;124m\"\u001b[39m \u001b[38;5;241m%\u001b[39m y_type)\n",
      "File \u001b[1;32m~\\AppData\\Roaming\\Python\\Python38\\site-packages\\sklearn\\metrics\\_classification.py:84\u001b[0m, in \u001b[0;36m_check_targets\u001b[1;34m(y_true, y_pred)\u001b[0m\n\u001b[0;32m     57\u001b[0m \u001b[38;5;28;01mdef\u001b[39;00m \u001b[38;5;21m_check_targets\u001b[39m(y_true, y_pred):\n\u001b[0;32m     58\u001b[0m \u001b[38;5;250m    \u001b[39m\u001b[38;5;124;03m\"\"\"Check that y_true and y_pred belong to the same classification task.\u001b[39;00m\n\u001b[0;32m     59\u001b[0m \n\u001b[0;32m     60\u001b[0m \u001b[38;5;124;03m    This converts multiclass or binary types to a common shape, and raises a\u001b[39;00m\n\u001b[1;32m   (...)\u001b[0m\n\u001b[0;32m     82\u001b[0m \u001b[38;5;124;03m    y_pred : array or indicator matrix\u001b[39;00m\n\u001b[0;32m     83\u001b[0m \u001b[38;5;124;03m    \"\"\"\u001b[39;00m\n\u001b[1;32m---> 84\u001b[0m     \u001b[43mcheck_consistent_length\u001b[49m\u001b[43m(\u001b[49m\u001b[43my_true\u001b[49m\u001b[43m,\u001b[49m\u001b[43m \u001b[49m\u001b[43my_pred\u001b[49m\u001b[43m)\u001b[49m\n\u001b[0;32m     85\u001b[0m     type_true \u001b[38;5;241m=\u001b[39m type_of_target(y_true, input_name\u001b[38;5;241m=\u001b[39m\u001b[38;5;124m\"\u001b[39m\u001b[38;5;124my_true\u001b[39m\u001b[38;5;124m\"\u001b[39m)\n\u001b[0;32m     86\u001b[0m     type_pred \u001b[38;5;241m=\u001b[39m type_of_target(y_pred, input_name\u001b[38;5;241m=\u001b[39m\u001b[38;5;124m\"\u001b[39m\u001b[38;5;124my_pred\u001b[39m\u001b[38;5;124m\"\u001b[39m)\n",
      "File \u001b[1;32m~\\AppData\\Roaming\\Python\\Python38\\site-packages\\sklearn\\utils\\validation.py:407\u001b[0m, in \u001b[0;36mcheck_consistent_length\u001b[1;34m(*arrays)\u001b[0m\n\u001b[0;32m    405\u001b[0m uniques \u001b[38;5;241m=\u001b[39m np\u001b[38;5;241m.\u001b[39munique(lengths)\n\u001b[0;32m    406\u001b[0m \u001b[38;5;28;01mif\u001b[39;00m \u001b[38;5;28mlen\u001b[39m(uniques) \u001b[38;5;241m>\u001b[39m \u001b[38;5;241m1\u001b[39m:\n\u001b[1;32m--> 407\u001b[0m     \u001b[38;5;28;01mraise\u001b[39;00m \u001b[38;5;167;01mValueError\u001b[39;00m(\n\u001b[0;32m    408\u001b[0m         \u001b[38;5;124m\"\u001b[39m\u001b[38;5;124mFound input variables with inconsistent numbers of samples: \u001b[39m\u001b[38;5;132;01m%r\u001b[39;00m\u001b[38;5;124m\"\u001b[39m\n\u001b[0;32m    409\u001b[0m         \u001b[38;5;241m%\u001b[39m [\u001b[38;5;28mint\u001b[39m(l) \u001b[38;5;28;01mfor\u001b[39;00m l \u001b[38;5;129;01min\u001b[39;00m lengths]\n\u001b[0;32m    410\u001b[0m     )\n",
      "\u001b[1;31mValueError\u001b[0m: Found input variables with inconsistent numbers of samples: [5478, 16431]"
     ]
    }
   ],
   "source": [
    "cf = confusion_matrix(y_test, y_pred)\n",
    "sns.heatmap(cf, annot=True, cmap=\"Greens\")\n",
    "plt.xlabel(\"True\")\n",
    "plt.ylabel(\"Predicted\")\n",
    "plt.show()"
   ]
  },
  {
   "cell_type": "markdown",
   "metadata": {},
   "source": [
    "### Checking the distribution of the variables btw train and test"
   ]
  },
  {
   "cell_type": "code",
   "execution_count": null,
   "metadata": {},
   "outputs": [
    {
     "name": "stdout",
     "output_type": "stream",
     "text": [
      "   Train Count    Train %  Test Count     Test %\n",
      "0         4698  28.592295        1599  29.189485\n",
      "1          259   1.576289          94   1.715955\n",
      "2         5535  33.686325        1877  34.264330\n",
      "3         1375   8.368328         447   8.159912\n",
      "4          792   4.820157         250   4.563709\n",
      "5          224   1.363277          81   1.478642\n",
      "6         2474  15.056905         766  13.983206\n",
      "7          868   5.282697         299   5.458196\n",
      "8          166   1.010285          49   0.894487\n",
      "9           40   0.243442          16   0.292077\n"
     ]
    }
   ],
   "source": [
    "# For training set\n",
    "train_distribution = pd.Series(y_train).value_counts().sort_index()\n",
    "train_percentages = 100 * train_distribution / len(y_train)\n",
    "\n",
    "# For test set\n",
    "test_distribution = pd.Series(y_test).value_counts().sort_index()\n",
    "test_percentages = 100 * test_distribution / len(y_test)\n",
    "\n",
    "# Display side by side\n",
    "comparison = pd.DataFrame({\n",
    "    'Train Count': train_distribution,\n",
    "    'Train %': train_percentages,\n",
    "    'Test Count': test_distribution,\n",
    "    'Test %': test_percentages\n",
    "})\n",
    "print(comparison)"
   ]
  },
  {
   "cell_type": "code",
   "execution_count": null,
   "metadata": {},
   "outputs": [
    {
     "data": {
      "image/png": "[encoded data removed]",
      "text/plain": [
       "<Figure size 1500x500 with 2 Axes>"
      ]
     },
     "metadata": {},
     "output_type": "display_data"
    },
    {
     "data": {
      "image/png": "[encoded data removed]",
      "text/plain": [
       "<Figure size 1000x600 with 1 Axes>"
      ]
     },
     "metadata": {},
     "output_type": "display_data"
    }
   ],
   "source": [
    "import matplotlib.pyplot as plt\n",
    "\n",
    "fig, (ax1, ax2) = plt.subplots(1, 2, figsize=(15, 5))\n",
    "\n",
    "# # # Plot training distribution\n",
    "ax1.bar(train_distribution.index, train_distribution.values)\n",
    "ax1.set_title('Training Set Class Distribution')\n",
    "ax1.set_xlabel('Class')\n",
    "ax1.set_ylabel('Count')\n",
    "\n",
    "# # # Plot test distribution\n",
    "ax2.bar(test_distribution.index, test_distribution.values)\n",
    "ax2.set_title('Test Set Class Distribution')\n",
    "ax2.set_xlabel('Class')\n",
    "ax2.set_ylabel('Count')\n",
    "\n",
    "plt.tight_layout()\n",
    "plt.show()\n",
    "\n",
    "# # Or plot percentages\n",
    "plt.figure(figsize=(10, 6))\n",
    "plt.bar(train_percentages.index, train_percentages.values, alpha=0.5, label='Train')\n",
    "plt.bar(test_percentages.index, test_percentages.values, alpha=0.5, label='Test')\n",
    "plt.xlabel('Class')\n",
    "plt.ylabel('Percentage')\n",
    "plt.title('Class Distribution Comparison (Training vs Test)')\n",
    "plt.legend()\n",
    "plt.show()"
   ]
  },
  {
   "cell_type": "markdown",
   "metadata": {},
   "source": [
    "##### Da quest'ultimo grafico (e dal report qui sopra) emerge che la distribuzione delle classi tra train e test non ha tutta questa discrepanza quindi potrebbe non essere questa la motivazione delle bad performances sul test"
   ]
  }
 ],
 "metadata": {
  "kernelspec": {
   "display_name": "Python 3",
   "language": "python",
   "name": "python3"
  },
  "language_info": {
   "codemirror_mode": {
    "name": "ipython",
    "version": 3
   },
   "file_extension": ".py",
   "mimetype": "text/x-python",
   "name": "python",
   "nbconvert_exporter": "python",
   "pygments_lexer": "ipython3",
   "version": "3.8.2"
  }
 },
 "nbformat": 4,
 "nbformat_minor": 2
}
