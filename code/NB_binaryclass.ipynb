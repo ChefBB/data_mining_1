{
 "cells": [
  {
   "cell_type": "markdown",
   "id": "7d9de9e1",
   "metadata": {},
   "source": [
    "## NB - binary classification"
   ]
  },
  {
   "cell_type": "markdown",
   "id": "ba6bbaee",
   "metadata": {},
   "source": [
    "#### \"is_from_NorthAmerica\" -> non va molto bene"
   ]
  },
  {
   "cell_type": "code",
   "execution_count": 290,
   "id": "a302730b",
   "metadata": {},
   "outputs": [],
   "source": [
    "import numpy as np\n",
    "import matplotlib.pyplot as plt\n",
    "import seaborn as sns\n",
    "import pandas as pd\n",
    "\n",
    "from sklearn.metrics import (\n",
    "    accuracy_score,\n",
    "    f1_score,\n",
    "    classification_report,\n",
    "    confusion_matrix,\n",
    "    roc_auc_score,\n",
    ")\n",
    "from scikitplot.metrics import plot_roc\n",
    "from scikitplot.metrics import plot_precision_recall\n",
    "\n",
    "from sklearn.preprocessing import StandardScaler\n",
    "from sklearn.preprocessing import MinMaxScaler\n",
    "from sklearn.naive_bayes import GaussianNB, CategoricalNB, ComplementNB\n",
    "from sklearn.model_selection import RandomizedSearchCV\n",
    "from sklearn.model_selection import train_test_split"
   ]
  },
  {
   "cell_type": "code",
   "execution_count": 291,
   "id": "5d837a48",
   "metadata": {},
   "outputs": [],
   "source": [
    "pp_train = pd.read_csv(\"pp_train.csv\")\n",
    "pp_test = pd.read_csv(\"pp_test.csv\")\n",
    "\n",
    "pp_class = pp_train.copy()\n",
    "pp_test_class = pp_test.copy()"
   ]
  },
  {
   "cell_type": "code",
   "execution_count": 292,
   "id": "acec7d8c",
   "metadata": {},
   "outputs": [
    {
     "data": {
      "text/plain": [
       "Index(['originalTitle', 'rating', 'startYear', 'endYear', 'runtimeMinutes',\n",
       "       'awardWins', 'numVotes', 'totalImages', 'totalVideos', 'totalCredits',\n",
       "       'criticReviewsTotal', 'titleType', 'awardNominationsExcludeWins',\n",
       "       'canHaveEpisodes', 'isAdult', 'numRegions', 'userReviewsTotal',\n",
       "       'is_Documentary', 'is_History', 'is_Adventure', 'is_Thriller',\n",
       "       'is_Game-Show', 'is_Comedy', 'is_Sci-Fi', 'is_Romance', 'is_Biography',\n",
       "       'is_Musical', 'is_Western', 'is_Music', 'is_Film-Noir', 'is_Adult',\n",
       "       'is_Reality-TV', 'is_News', 'is_Action', 'is_Crime', 'is_Short',\n",
       "       'is_Fantasy', 'is_Family', 'is_Mystery', 'is_Talk-Show', 'is_Drama',\n",
       "       'is_Sport', 'is_War', 'is_Horror', 'is_Animation',\n",
       "       'fill_runtimeMinutes', 'is_from_Oceania', 'is_from_North America',\n",
       "       'is_from_South America', 'is_from_Asia', 'is_from_Africa',\n",
       "       'is_from_Europe', 'countryOfOrigin', 'countryOfOrigin_freq_enc',\n",
       "       'countryOfOrigin_NA', 'countryOfOrigin_AF', 'countryOfOrigin_AS',\n",
       "       'countryOfOrigin_EU', 'countryOfOrigin_OC', 'countryOfOrigin_SA',\n",
       "       'countryOfOrigin_UNK', 'fill_runtimeMinutes_Bruno'],\n",
       "      dtype='object')"
      ]
     },
     "execution_count": 292,
     "metadata": {},
     "output_type": "execute_result"
    }
   ],
   "source": [
    "pp_class.columns"
   ]
  },
  {
   "cell_type": "markdown",
   "id": "da9f89e5",
   "metadata": {},
   "source": [
    "TRAIN DI PRIMA -> senza features da \"countryofOrigin\" in poi\n",
    "'originalTitle', 'rating', 'startYear', 'endYear', 'runtimeMinutes',\n",
    "       'awardWins', 'numVotes', 'totalImages', 'totalVideos', 'totalCredits',\n",
    "       'criticReviewsTotal', 'titleType', 'awardNominationsExcludeWins',\n",
    "       'canHaveEpisodes', 'isAdult', 'numRegions', 'userReviewsTotal',\n",
    "       'is_Documentary', 'is_History', 'is_Adventure', 'is_Thriller',\n",
    "       'is_Game-Show', 'is_Comedy', 'is_Sci-Fi', 'is_Romance', 'is_Biography',\n",
    "       'is_Musical', 'is_Western', 'is_Music', 'is_Film-Noir', 'is_Adult',\n",
    "       'is_Reality-TV', 'is_News', 'is_Action', 'is_Crime', 'is_Short',\n",
    "       'is_Fantasy', 'is_Family', 'is_Mystery', 'is_Talk-Show', 'is_Drama',\n",
    "       'is_Sport', 'is_War', 'is_Horror', 'is_Animation',\n",
    "       'fill_runtimeMinutes', 'is_from_Oceania', 'is_from_North America',\n",
    "       'is_from_South America', 'is_from_Asia', 'is_from_Africa',\n",
    "       'is_from_Europe'"
   ]
  },
  {
   "cell_type": "code",
   "execution_count": 293,
   "id": "c552460f",
   "metadata": {},
   "outputs": [
    {
     "data": {
      "text/html": [
       "<div>\n",
       "<style scoped>\n",
       "    .dataframe tbody tr th:only-of-type {\n",
       "        vertical-align: middle;\n",
       "    }\n",
       "\n",
       "    .dataframe tbody tr th {\n",
       "        vertical-align: top;\n",
       "    }\n",
       "\n",
       "    .dataframe thead th {\n",
       "        text-align: right;\n",
       "    }\n",
       "</style>\n",
       "<table border=\"1\" class=\"dataframe\">\n",
       "  <thead>\n",
       "    <tr style=\"text-align: right;\">\n",
       "      <th></th>\n",
       "      <th>originalTitle</th>\n",
       "      <th>rating</th>\n",
       "      <th>startYear</th>\n",
       "      <th>endYear</th>\n",
       "      <th>runtimeMinutes</th>\n",
       "      <th>awardWins</th>\n",
       "      <th>numVotes</th>\n",
       "      <th>totalImages</th>\n",
       "      <th>totalVideos</th>\n",
       "      <th>totalCredits</th>\n",
       "      <th>...</th>\n",
       "      <th>countryOfOrigin</th>\n",
       "      <th>countryOfOrigin_freq_enc</th>\n",
       "      <th>countryOfOrigin_NA</th>\n",
       "      <th>countryOfOrigin_AF</th>\n",
       "      <th>countryOfOrigin_AS</th>\n",
       "      <th>countryOfOrigin_EU</th>\n",
       "      <th>countryOfOrigin_OC</th>\n",
       "      <th>countryOfOrigin_SA</th>\n",
       "      <th>countryOfOrigin_UNK</th>\n",
       "      <th>fill_runtimeMinutes_Bruno</th>\n",
       "    </tr>\n",
       "  </thead>\n",
       "  <tbody>\n",
       "    <tr>\n",
       "      <th>0</th>\n",
       "      <td>Neogenic Nightmare Chapter 3: Hydro-Man</td>\n",
       "      <td>8</td>\n",
       "      <td>1995</td>\n",
       "      <td>1995.0</td>\n",
       "      <td>NaN</td>\n",
       "      <td>0.0</td>\n",
       "      <td>779</td>\n",
       "      <td>1</td>\n",
       "      <td>0</td>\n",
       "      <td>21</td>\n",
       "      <td>...</td>\n",
       "      <td>['US']</td>\n",
       "      <td>0.397061</td>\n",
       "      <td>1</td>\n",
       "      <td>0</td>\n",
       "      <td>0</td>\n",
       "      <td>0</td>\n",
       "      <td>0</td>\n",
       "      <td>0</td>\n",
       "      <td>0</td>\n",
       "      <td>29.0</td>\n",
       "    </tr>\n",
       "    <tr>\n",
       "      <th>1</th>\n",
       "      <td>Looping</td>\n",
       "      <td>6</td>\n",
       "      <td>1982</td>\n",
       "      <td>1982.0</td>\n",
       "      <td>NaN</td>\n",
       "      <td>0.0</td>\n",
       "      <td>11</td>\n",
       "      <td>1</td>\n",
       "      <td>0</td>\n",
       "      <td>1</td>\n",
       "      <td>...</td>\n",
       "      <td>['XWG']</td>\n",
       "      <td>0.013525</td>\n",
       "      <td>0</td>\n",
       "      <td>0</td>\n",
       "      <td>0</td>\n",
       "      <td>0</td>\n",
       "      <td>0</td>\n",
       "      <td>0</td>\n",
       "      <td>1</td>\n",
       "      <td>NaN</td>\n",
       "    </tr>\n",
       "    <tr>\n",
       "      <th>2</th>\n",
       "      <td>Idealnaya para</td>\n",
       "      <td>6</td>\n",
       "      <td>1992</td>\n",
       "      <td>1992.0</td>\n",
       "      <td>NaN</td>\n",
       "      <td>0.0</td>\n",
       "      <td>38</td>\n",
       "      <td>1</td>\n",
       "      <td>0</td>\n",
       "      <td>24</td>\n",
       "      <td>...</td>\n",
       "      <td>['RU']</td>\n",
       "      <td>0.007959</td>\n",
       "      <td>0</td>\n",
       "      <td>0</td>\n",
       "      <td>0</td>\n",
       "      <td>1</td>\n",
       "      <td>0</td>\n",
       "      <td>0</td>\n",
       "      <td>0</td>\n",
       "      <td>94.0</td>\n",
       "    </tr>\n",
       "    <tr>\n",
       "      <th>3</th>\n",
       "      <td>MasterChef Celebrity México</td>\n",
       "      <td>6</td>\n",
       "      <td>2021</td>\n",
       "      <td>NaN</td>\n",
       "      <td>NaN</td>\n",
       "      <td>0.0</td>\n",
       "      <td>15</td>\n",
       "      <td>22</td>\n",
       "      <td>0</td>\n",
       "      <td>56</td>\n",
       "      <td>...</td>\n",
       "      <td>['MX']</td>\n",
       "      <td>0.013636</td>\n",
       "      <td>1</td>\n",
       "      <td>0</td>\n",
       "      <td>0</td>\n",
       "      <td>0</td>\n",
       "      <td>0</td>\n",
       "      <td>0</td>\n",
       "      <td>0</td>\n",
       "      <td>30.0</td>\n",
       "    </tr>\n",
       "    <tr>\n",
       "      <th>4</th>\n",
       "      <td>Seutateueob</td>\n",
       "      <td>8</td>\n",
       "      <td>2020</td>\n",
       "      <td>2020.0</td>\n",
       "      <td>80.0</td>\n",
       "      <td>1.0</td>\n",
       "      <td>15718</td>\n",
       "      <td>347</td>\n",
       "      <td>2</td>\n",
       "      <td>47</td>\n",
       "      <td>...</td>\n",
       "      <td>['KR']</td>\n",
       "      <td>0.009184</td>\n",
       "      <td>0</td>\n",
       "      <td>0</td>\n",
       "      <td>1</td>\n",
       "      <td>0</td>\n",
       "      <td>0</td>\n",
       "      <td>0</td>\n",
       "      <td>0</td>\n",
       "      <td>80.0</td>\n",
       "    </tr>\n",
       "  </tbody>\n",
       "</table>\n",
       "<p>5 rows × 62 columns</p>\n",
       "</div>"
      ],
      "text/plain": [
       "                             originalTitle  rating  startYear  endYear  \\\n",
       "0  Neogenic Nightmare Chapter 3: Hydro-Man       8       1995   1995.0   \n",
       "1                                  Looping       6       1982   1982.0   \n",
       "2                           Idealnaya para       6       1992   1992.0   \n",
       "3              MasterChef Celebrity México       6       2021      NaN   \n",
       "4                              Seutateueob       8       2020   2020.0   \n",
       "\n",
       "   runtimeMinutes  awardWins  numVotes  totalImages  totalVideos  \\\n",
       "0             NaN        0.0       779            1            0   \n",
       "1             NaN        0.0        11            1            0   \n",
       "2             NaN        0.0        38            1            0   \n",
       "3             NaN        0.0        15           22            0   \n",
       "4            80.0        1.0     15718          347            2   \n",
       "\n",
       "   totalCredits  ...  countryOfOrigin countryOfOrigin_freq_enc  \\\n",
       "0            21  ...           ['US']                 0.397061   \n",
       "1             1  ...          ['XWG']                 0.013525   \n",
       "2            24  ...           ['RU']                 0.007959   \n",
       "3            56  ...           ['MX']                 0.013636   \n",
       "4            47  ...           ['KR']                 0.009184   \n",
       "\n",
       "   countryOfOrigin_NA  countryOfOrigin_AF  countryOfOrigin_AS  \\\n",
       "0                   1                   0                   0   \n",
       "1                   0                   0                   0   \n",
       "2                   0                   0                   0   \n",
       "3                   1                   0                   0   \n",
       "4                   0                   0                   1   \n",
       "\n",
       "   countryOfOrigin_EU  countryOfOrigin_OC  countryOfOrigin_SA  \\\n",
       "0                   0                   0                   0   \n",
       "1                   0                   0                   0   \n",
       "2                   1                   0                   0   \n",
       "3                   0                   0                   0   \n",
       "4                   0                   0                   0   \n",
       "\n",
       "   countryOfOrigin_UNK  fill_runtimeMinutes_Bruno  \n",
       "0                    0                       29.0  \n",
       "1                    1                        NaN  \n",
       "2                    0                       94.0  \n",
       "3                    0                       30.0  \n",
       "4                    0                       80.0  \n",
       "\n",
       "[5 rows x 62 columns]"
      ]
     },
     "execution_count": 293,
     "metadata": {},
     "output_type": "execute_result"
    }
   ],
   "source": [
    "pp_class.head(\n",
    ")"
   ]
  },
  {
   "cell_type": "markdown",
   "id": "8decf2f2",
   "metadata": {},
   "source": [
    "## Filtro dataset su classi meno rappresentate -> capire se 1,5,6,9 o 7,8,9"
   ]
  },
  {
   "cell_type": "code",
   "execution_count": 294,
   "id": "2283c79c",
   "metadata": {},
   "outputs": [],
   "source": [
    " #pp_class = pp_class[~pp_class['titleType_encoded'].isin([7,8, 9])]\n",
    "## pp_test_class = pp_test_class[~pp_test_class['titleType_encoded'].isin([7,8, 9])]"
   ]
  },
  {
   "cell_type": "markdown",
   "id": "2092cd9f",
   "metadata": {},
   "source": [
    "### Selezione variabile target"
   ]
  },
  {
   "cell_type": "code",
   "execution_count": 295,
   "id": "e804fcb1",
   "metadata": {},
   "outputs": [],
   "source": [
    "y_train = np.array(pp_class['is_from_North America'])  # Il target originale\n",
    "y_test = np.array(pp_test_class[\"is_from_North America\"])"
   ]
  },
  {
   "cell_type": "markdown",
   "id": "199ab508",
   "metadata": {},
   "source": [
    "### preprocessing variabili"
   ]
  },
  {
   "cell_type": "code",
   "execution_count": 296,
   "id": "126a6456",
   "metadata": {},
   "outputs": [],
   "source": [
    "pp_class['canHaveEpisodes'] = pp_class['canHaveEpisodes'].astype(int)\n",
    "##pp_test_class['canHaveEpisodes'] = pp_test_class['canHaveEpisodes'].astype(int)"
   ]
  },
  {
   "cell_type": "code",
   "execution_count": 297,
   "id": "264d8524",
   "metadata": {},
   "outputs": [],
   "source": [
    "column2drop = ['originalTitle', 'runtimeMinutes']\n",
    "pp_class.drop(column2drop, axis=1, inplace=True)\n",
    "##pp_test_class.drop(column2drop, axis=1, inplace=True)"
   ]
  },
  {
   "cell_type": "markdown",
   "id": "815fc5ad",
   "metadata": {},
   "source": [
    "#### endYear da gestire"
   ]
  },
  {
   "cell_type": "code",
   "execution_count": 298,
   "id": "b14ef4dc",
   "metadata": {},
   "outputs": [],
   "source": [
    "pp_class= pp_class.drop([\"endYear\"], axis=1)\n",
    "##pp_test_class= pp_class.drop([\"endYear\"], axis=1)"
   ]
  },
  {
   "cell_type": "markdown",
   "id": "805323ad",
   "metadata": {},
   "source": [
    "#### Binarizzazione da capire"
   ]
  },
  {
   "cell_type": "code",
   "execution_count": 299,
   "id": "922c46a4",
   "metadata": {},
   "outputs": [],
   "source": [
    "\n",
    "#1 binarizzazione (0 / >0) per le variabili con tanti zeri (consigliato per NB)\n",
    "pp_class['awardWins_bin'] = (pp_class['awardWins'] > 0).astype(int)\n",
    "pp_class['totalVideos_bin'] = (pp_class['totalVideos'] > 0).astype(int)\n",
    "pp_class['awardNominationsExcludeWins_bin'] = (pp_class['awardNominationsExcludeWins'] > 0).astype(int)\n",
    "\n",
    "pp_test_class['awardWins_bin'] = (pp_test_class['awardWins'] > 0).astype(int)\n",
    "pp_test_class['totalVideos_bin'] = (pp_test_class['totalVideos'] > 0).astype(int)\n",
    "pp_test_class['awardNominationsExcludeWins_bin'] = (pp_test_class['awardNominationsExcludeWins'] > 0).astype(int)\n"
   ]
  },
  {
   "cell_type": "code",
   "execution_count": 300,
   "id": "5ca46b4f",
   "metadata": {},
   "outputs": [],
   "source": [
    "#2 discretizzazione per fasce -> decise con \n",
    "#pp_class['awardNominationsExcludeWins'].value_counts().sort_index()"
   ]
  },
  {
   "cell_type": "code",
   "execution_count": 301,
   "id": "213dea89",
   "metadata": {},
   "outputs": [],
   "source": [
    "# bins_awards = [0, 1, 10, float('inf')]\n",
    "# labels_awards = [0, 1, 2]  # Mantengo valori numerici per compatibilità con algoritmi\n",
    "# pp_class['awardWins_bin'] = pd.cut(pp_class['awardWins'], bins=bins_awards, labels=labels_awards, right=False)\n",
    "# ## pp_test_class['awardWins_bin'] = pd.cut(pp_test_class['awardWins'], bins=bins_awards, labels=labels_awards, right=False)\n",
    "\n",
    "\n",
    "\n",
    "# bins_videos = [0, 1, 6, float('inf')]\n",
    "# labels_videos = [0, 1, 2]\n",
    "# pp_class['totalVideos_bin'] = pd.cut(pp_class['totalVideos'], bins=bins_videos, labels=labels_videos, right=False)\n",
    "# ## pp_test_class['totalVideos_bin'] = pd.cut(pp_test_class['totalVideos'], bins=bins_videos, labels=labels_videos, right=False)\n",
    "\n",
    "\n",
    "\n",
    "# bins_nom = [0, 1, 5, float('inf')]\n",
    "# labels_nom = [0, 1, 2]\n",
    "# pp_class['awardNominationsExcludeWins_bin'] = pd.cut(pp_class['awardNominationsExcludeWins'], \n",
    "#                                                     bins=bins_nom, \n",
    "#                                                     labels=labels_nom, \n",
    "#                                                     right=False)\n",
    "# ## pp_test_class['awardNominationsExcludeWins_bin'] = pd.cut(pp_train_class['awardNominationsExcludeWins'], \n",
    "# #                                                    bins=bins_nom, \n",
    "# #                                                    labels=labels_nom, \n",
    "# #                                                    right=False)\n",
    "\n",
    "\n",
    "\n",
    "# # Assicurati che le nuove colonne siano di tipo numerico\n",
    "# pp_class['awardWins_bin'] = pp_class['awardWins_bin'].astype(int)\n",
    "# pp_class['totalVideos_bin'] = pp_class['totalVideos_bin'].astype(int)\n",
    "# pp_class['awardNominationsExcludeWins_bin'] = pp_class['awardNominationsExcludeWins_bin'].astype(int)\n",
    "\n",
    "# ## pp_test_class['awardWins_bin'] = pp_test_class['awardWins_bin'].astype(int)\n",
    "# ## pp_test_class['totalVideos_bin'] = pp_test_class['totalVideos_bin'].astype(int)\n",
    "# ## pp_test_class['awardNominationsExcludeWins_bin'] = pp_test_class['awardNominationsExcludeWins_bin'].astype(int)\n"
   ]
  },
  {
   "cell_type": "markdown",
   "id": "cdfe1a6a",
   "metadata": {},
   "source": [
    "## array di valori per selezione feature classificazione"
   ]
  },
  {
   "cell_type": "code",
   "execution_count": 302,
   "id": "a52f8c66",
   "metadata": {},
   "outputs": [],
   "source": [
    "X_train = pp_class[[\n",
    "       'rating',\n",
    "       'startYear',  \n",
    "       'numVotes', \n",
    "       #'totalImages', \n",
    "       'totalCredits', \n",
    "       'criticReviewsTotal',\n",
    "       #'canHaveEpisodes', \n",
    "       #'isAdult', \n",
    "       #'numRegions', \n",
    "       'userReviewsTotal', #lasciare\n",
    "       #'endYear',\n",
    "       'is_Documentary', 'is_History', 'is_Adventure', 'is_Thriller', 'is_Game-Show', 'is_Comedy', 'is_Sci-Fi', 'is_Romance', 'is_Biography', 'is_Musical', 'is_Western', 'is_Music', 'is_Film-Noir', 'is_Adult', 'is_Reality-TV', 'is_News', 'is_Action', 'is_Crime', 'is_Short', 'is_Fantasy', 'is_Family', 'is_Mystery',  'is_Talk-Show', 'is_Drama', 'is_Sport', 'is_War', 'is_Horror','is_Animation', \n",
    "       #'fill_runtimeMinutes', \n",
    "       #'is_from_Oceania','is_from_North America', 'is_from_South America', 'is_from_Asia', 'is_from_Africa', 'is_from_Europe', \n",
    "       'awardWins_bin',  \n",
    "       #'totalVideos_bin', \n",
    "       'awardNominationsExcludeWins_bin', \n",
    "# #AGGIUNTE TRAIN BRUNO\n",
    "#     'countryOfOrigin', \n",
    "       ##'countryOfOrigin_freq_enc', ## -> migliora di troppo\n",
    "#     'countryOfOrigin_NA', 'countryOfOrigin_AF', 'countryOfOrigin_AS', 'countryOfOrigin_EU', 'countryOfOrigin_OC', 'countryOfOrigin_SA','countryOfOrigin_UNK', \n",
    "#     'fill_runtimeMinutes_Bruno'       \n",
    "       ]].values\n",
    "\n",
    "## X_test = pp_test_class[[ ]].values"
   ]
  },
  {
   "cell_type": "markdown",
   "id": "4f1620f9",
   "metadata": {},
   "source": [
    "### Splitting in validation"
   ]
  },
  {
   "cell_type": "code",
   "execution_count": 303,
   "id": "7a5d6852",
   "metadata": {},
   "outputs": [],
   "source": [
    "X_train2, X_val, y_train2, y_val = train_test_split(\n",
    "     X_train, y_train, test_size=0.2, random_state=32)"
   ]
  },
  {
   "cell_type": "code",
   "execution_count": 304,
   "id": "8d27e2d9",
   "metadata": {},
   "outputs": [
    {
     "name": "stdout",
     "output_type": "stream",
     "text": [
      "(13144, 36) (3287, 36) (16431, 36)\n"
     ]
    }
   ],
   "source": [
    "print(X_train2.shape, X_val.shape, X_train.shape,\n",
    "      #, X_test.shape\n",
    "      )"
   ]
  },
  {
   "cell_type": "markdown",
   "id": "fa53640e",
   "metadata": {},
   "source": [
    "Normalizzazione"
   ]
  },
  {
   "cell_type": "code",
   "execution_count": 305,
   "id": "60ed3b6d",
   "metadata": {},
   "outputs": [],
   "source": [
    "X_train2_log = np.log1p(X_train2)\n",
    "X_val_log= np.log1p(X_val)\n",
    "\n",
    "## X_train_log = np.log1p(X_train)\n",
    "## X_test_log = np.log1p(X_test)"
   ]
  },
  {
   "cell_type": "code",
   "execution_count": 306,
   "id": "0167143b",
   "metadata": {},
   "outputs": [],
   "source": [
    "\n",
    "standardsc = StandardScaler()\n",
    "\n",
    "        # # Fitta e trasforma il training set in un solo passaggio\n",
    "X_train2_standardsc = standardsc.fit_transform(X_train2_log)\n",
    "X_val_standardsc = standardsc.fit_transform(X_val_log)\n",
    "\n",
    "## X_train_standardsc = standardsc.fit_transform(X_train_log)\n",
    "        # # Trasforma il test set (senza rifittare!)\n",
    "## X_test_standardsc = standardsc.transform(X_test_log)"
   ]
  },
  {
   "cell_type": "code",
   "execution_count": 307,
   "id": "37b91377",
   "metadata": {},
   "outputs": [],
   "source": [
    "# minmax = MinMaxScaler()\n",
    "\n",
    "        ## Fitta e trasforma il training set in un solo passaggio\n",
    "# X_train2_minmax = minmax.fit_transform(X_train2_log)\n",
    "# X_val_minmax = minmax.fit_transform(X_val_log)\n",
    "\n",
    "## X_train_minmax = minmax.fit_transform(X_train_log)\n",
    "        # # Trasforma il test set (senza rifittare!)\n",
    "# #X_test_minmax = minmax.transform(X_test)"
   ]
  },
  {
   "cell_type": "code",
   "execution_count": 308,
   "id": "fdfe2b9b",
   "metadata": {},
   "outputs": [],
   "source": [
    "X_train2_tr = X_train2_standardsc\n",
    "X_val_tr = X_val_standardsc\n",
    "\n",
    "## X_train_tr = X_train_standardsc\n",
    "## X_test_tr = X_test_standardsc"
   ]
  },
  {
   "cell_type": "markdown",
   "id": "decc1cda",
   "metadata": {},
   "source": [
    "## NAIVE BAYES"
   ]
  },
  {
   "cell_type": "markdown",
   "id": "8975d8b4",
   "metadata": {},
   "source": [
    "### Gaussian"
   ]
  },
  {
   "cell_type": "code",
   "execution_count": 309,
   "id": "15bb0be5",
   "metadata": {},
   "outputs": [
    {
     "data": {
      "text/html": [
       "<style>#sk-container-id-10 {color: black;}#sk-container-id-10 pre{padding: 0;}#sk-container-id-10 div.sk-toggleable {background-color: white;}#sk-container-id-10 label.sk-toggleable__label {cursor: pointer;display: block;width: 100%;margin-bottom: 0;padding: 0.3em;box-sizing: border-box;text-align: center;}#sk-container-id-10 label.sk-toggleable__label-arrow:before {content: \"▸\";float: left;margin-right: 0.25em;color: #696969;}#sk-container-id-10 label.sk-toggleable__label-arrow:hover:before {color: black;}#sk-container-id-10 div.sk-estimator:hover label.sk-toggleable__label-arrow:before {color: black;}#sk-container-id-10 div.sk-toggleable__content {max-height: 0;max-width: 0;overflow: hidden;text-align: left;background-color: #f0f8ff;}#sk-container-id-10 div.sk-toggleable__content pre {margin: 0.2em;color: black;border-radius: 0.25em;background-color: #f0f8ff;}#sk-container-id-10 input.sk-toggleable__control:checked~div.sk-toggleable__content {max-height: 200px;max-width: 100%;overflow: auto;}#sk-container-id-10 input.sk-toggleable__control:checked~label.sk-toggleable__label-arrow:before {content: \"▾\";}#sk-container-id-10 div.sk-estimator input.sk-toggleable__control:checked~label.sk-toggleable__label {background-color: #d4ebff;}#sk-container-id-10 div.sk-label input.sk-toggleable__control:checked~label.sk-toggleable__label {background-color: #d4ebff;}#sk-container-id-10 input.sk-hidden--visually {border: 0;clip: rect(1px 1px 1px 1px);clip: rect(1px, 1px, 1px, 1px);height: 1px;margin: -1px;overflow: hidden;padding: 0;position: absolute;width: 1px;}#sk-container-id-10 div.sk-estimator {font-family: monospace;background-color: #f0f8ff;border: 1px dotted black;border-radius: 0.25em;box-sizing: border-box;margin-bottom: 0.5em;}#sk-container-id-10 div.sk-estimator:hover {background-color: #d4ebff;}#sk-container-id-10 div.sk-parallel-item::after {content: \"\";width: 100%;border-bottom: 1px solid gray;flex-grow: 1;}#sk-container-id-10 div.sk-label:hover label.sk-toggleable__label {background-color: #d4ebff;}#sk-container-id-10 div.sk-serial::before {content: \"\";position: absolute;border-left: 1px solid gray;box-sizing: border-box;top: 0;bottom: 0;left: 50%;z-index: 0;}#sk-container-id-10 div.sk-serial {display: flex;flex-direction: column;align-items: center;background-color: white;padding-right: 0.2em;padding-left: 0.2em;position: relative;}#sk-container-id-10 div.sk-item {position: relative;z-index: 1;}#sk-container-id-10 div.sk-parallel {display: flex;align-items: stretch;justify-content: center;background-color: white;position: relative;}#sk-container-id-10 div.sk-item::before, #sk-container-id-10 div.sk-parallel-item::before {content: \"\";position: absolute;border-left: 1px solid gray;box-sizing: border-box;top: 0;bottom: 0;left: 50%;z-index: -1;}#sk-container-id-10 div.sk-parallel-item {display: flex;flex-direction: column;z-index: 1;position: relative;background-color: white;}#sk-container-id-10 div.sk-parallel-item:first-child::after {align-self: flex-end;width: 50%;}#sk-container-id-10 div.sk-parallel-item:last-child::after {align-self: flex-start;width: 50%;}#sk-container-id-10 div.sk-parallel-item:only-child::after {width: 0;}#sk-container-id-10 div.sk-dashed-wrapped {border: 1px dashed gray;margin: 0 0.4em 0.5em 0.4em;box-sizing: border-box;padding-bottom: 0.4em;background-color: white;}#sk-container-id-10 div.sk-label label {font-family: monospace;font-weight: bold;display: inline-block;line-height: 1.2em;}#sk-container-id-10 div.sk-label-container {text-align: center;}#sk-container-id-10 div.sk-container {/* jupyter's `normalize.less` sets `[hidden] { display: none; }` but bootstrap.min.css set `[hidden] { display: none !important; }` so we also need the `!important` here to be able to override the default hidden behavior on the sphinx rendered scikit-learn.org. See: https://github.com/scikit-learn/scikit-learn/issues/21755 */display: inline-block !important;position: relative;}#sk-container-id-10 div.sk-text-repr-fallback {display: none;}</style><div id=\"sk-container-id-10\" class=\"sk-top-container\"><div class=\"sk-text-repr-fallback\"><pre>GaussianNB()</pre><b>In a Jupyter environment, please rerun this cell to show the HTML representation or trust the notebook. <br />On GitHub, the HTML representation is unable to render, please try loading this page with nbviewer.org.</b></div><div class=\"sk-container\" hidden><div class=\"sk-item\"><div class=\"sk-estimator sk-toggleable\"><input class=\"sk-toggleable__control sk-hidden--visually\" id=\"sk-estimator-id-10\" type=\"checkbox\" checked><label for=\"sk-estimator-id-10\" class=\"sk-toggleable__label sk-toggleable__label-arrow\">GaussianNB</label><div class=\"sk-toggleable__content\"><pre>GaussianNB()</pre></div></div></div></div></div>"
      ],
      "text/plain": [
       "GaussianNB()"
      ]
     },
     "execution_count": 309,
     "metadata": {},
     "output_type": "execute_result"
    }
   ],
   "source": [
    "clf = GaussianNB()\n",
    "#clf = ComplementNB(alpha=1.0) -> non va perchè ci sono valori negativi\n",
    "clf.fit(X_train2_tr, y_train2)"
   ]
  },
  {
   "cell_type": "markdown",
   "id": "ea709ace",
   "metadata": {},
   "source": [
    "Predicting on validation set"
   ]
  },
  {
   "cell_type": "code",
   "execution_count": 310,
   "id": "d4edefc6",
   "metadata": {},
   "outputs": [],
   "source": [
    "y_pred = clf.predict(X_val_tr)"
   ]
  },
  {
   "cell_type": "code",
   "execution_count": 311,
   "id": "55c820c4",
   "metadata": {},
   "outputs": [
    {
     "name": "stdout",
     "output_type": "stream",
     "text": [
      "3287\n",
      "3287\n"
     ]
    }
   ],
   "source": [
    "print(len(y_pred))  # dovrebbe stampare lo stesso numero in entrambi\n",
    "print(len(y_val))  "
   ]
  },
  {
   "cell_type": "code",
   "execution_count": 312,
   "id": "53e3dd79",
   "metadata": {},
   "outputs": [
    {
     "name": "stdout",
     "output_type": "stream",
     "text": [
      "{0, 1}\n",
      "{0, 1}\n"
     ]
    }
   ],
   "source": [
    "print(set(y_val)) \n",
    "print(set(y_pred))  # se qui manca una classe rispetto a sopra vuol dire che non l'ha riconosciuta "
   ]
  },
  {
   "cell_type": "markdown",
   "id": "fc419be1",
   "metadata": {},
   "source": [
    "Classification report"
   ]
  },
  {
   "cell_type": "code",
   "execution_count": 313,
   "id": "118bcb44",
   "metadata": {},
   "outputs": [
    {
     "name": "stdout",
     "output_type": "stream",
     "text": [
      "Test accuracy: 0.6133252205658656\n",
      "\n",
      "Classification Report:\n",
      "              precision    recall  f1-score   support\n",
      "\n",
      "           0       0.59      0.86      0.70      1741\n",
      "           1       0.68      0.34      0.45      1546\n",
      "\n",
      "    accuracy                           0.61      3287\n",
      "   macro avg       0.64      0.60      0.58      3287\n",
      "weighted avg       0.63      0.61      0.58      3287\n",
      "\n"
     ]
    }
   ],
   "source": [
    "print(f\"Test accuracy: {accuracy_score(y_val, y_pred)}\")\n",
    "print(\"\\nClassification Report:\")\n",
    "print(classification_report(y_val, y_pred))"
   ]
  },
  {
   "cell_type": "code",
   "execution_count": 314,
   "id": "f55ac8da",
   "metadata": {},
   "outputs": [
    {
     "data": {
      "text/plain": [
       "array([[4.83205334e-01, 5.16794666e-01],\n",
       "       [9.99112878e-01, 8.87121676e-04],\n",
       "       [9.81852480e-01, 1.81475203e-02],\n",
       "       ...,\n",
       "       [9.98660624e-01, 1.33937636e-03],\n",
       "       [7.47624598e-01, 2.52375402e-01],\n",
       "       [9.97595578e-01, 2.40442198e-03]])"
      ]
     },
     "execution_count": 314,
     "metadata": {},
     "output_type": "execute_result"
    }
   ],
   "source": [
    "clf.predict_proba(X_val_tr)\n",
    "#prob che un record appartenga alle classi"
   ]
  },
  {
   "cell_type": "markdown",
   "id": "ca55053d",
   "metadata": {},
   "source": [
    "overfitting"
   ]
  },
  {
   "cell_type": "code",
   "execution_count": 315,
   "id": "8659d6f8",
   "metadata": {},
   "outputs": [
    {
     "name": "stdout",
     "output_type": "stream",
     "text": [
      "Performance sul Training set:\n",
      "Accuracy: 0.6047\n",
      "F1 Score: 0.5743\n",
      "\n",
      "Performance sul Validation set:\n",
      "Accuracy: 0.6133\n",
      "F1 Score: 0.5843\n"
     ]
    },
    {
     "data": {
      "image/png": "[encoded data removed]",
      "text/plain": [
       "<Figure size 1000x600 with 1 Axes>"
      ]
     },
     "metadata": {},
     "output_type": "display_data"
    }
   ],
   "source": [
    "# Importazioni necessarie (se non già importate)\n",
    "from sklearn.metrics import accuracy_score, f1_score, confusion_matrix\n",
    "import matplotlib.pyplot as plt\n",
    "import numpy as np\n",
    "import seaborn as sns\n",
    "\n",
    "# Valutazione sul training set\n",
    "y_pred_train = clf.predict(X_train2_tr)\n",
    "train_accuracy = accuracy_score(y_train2, y_pred_train)\n",
    "train_f1 = f1_score(y_train2, y_pred_train, average='weighted')\n",
    "\n",
    "# Valutazione sul validation set\n",
    "y_pred_val = clf.predict(X_val_tr)\n",
    "val_accuracy = accuracy_score(y_val, y_pred_val)\n",
    "val_f1 = f1_score(y_val, y_pred_val, average='weighted')\n",
    "\n",
    "# Stampa dei risultati\n",
    "print(f\"Performance sul Training set:\")\n",
    "print(f\"Accuracy: {train_accuracy:.4f}\")\n",
    "print(f\"F1 Score: {train_f1:.4f}\")\n",
    "print(\"\\nPerformance sul Validation set:\")\n",
    "print(f\"Accuracy: {val_accuracy:.4f}\")\n",
    "print(f\"F1 Score: {val_f1:.4f}\")\n",
    "\n",
    "# Visualizzazione grafica del confronto\n",
    "metrics = ['Accuracy', 'F1 Score']\n",
    "train_scores = [train_accuracy, train_f1]\n",
    "val_scores = [val_accuracy, val_f1]\n",
    "\n",
    "x = np.arange(len(metrics))\n",
    "width = 0.35\n",
    "\n",
    "fig, ax = plt.subplots(figsize=(10, 6))\n",
    "rects1 = ax.bar(x - width/2, train_scores, width, label='Training')\n",
    "rects2 = ax.bar(x + width/2, val_scores, width, label='Validation')\n",
    "\n",
    "ax.set_ylabel('Score')\n",
    "ax.set_title('Training vs Validation Performance')\n",
    "ax.set_xticks(x)\n",
    "ax.set_xticklabels(metrics)\n",
    "ax.legend()\n",
    "ax.set_ylim(0, 1)\n",
    "\n",
    "# Aggiungi i valori sopra le barre\n",
    "def autolabel(rects):\n",
    "    for rect in rects:\n",
    "        height = rect.get_height()\n",
    "        ax.annotate(f'{height:.4f}',\n",
    "                    xy=(rect.get_x() + rect.get_width() / 2, height),\n",
    "                    xytext=(0, 3),\n",
    "                    textcoords=\"offset points\",\n",
    "                    ha='center', va='bottom')\n",
    "\n",
    "autolabel(rects1)\n",
    "autolabel(rects2)\n",
    "\n",
    "plt.tight_layout()\n",
    "plt.show()"
   ]
  },
  {
   "cell_type": "markdown",
   "id": "313f0115",
   "metadata": {},
   "source": [
    "ROC curve"
   ]
  },
  {
   "cell_type": "code",
   "execution_count": 316,
   "id": "0840f058",
   "metadata": {},
   "outputs": [
    {
     "name": "stdout",
     "output_type": "stream",
     "text": [
      "y_val shape: (3287,)\n",
      "y_val dtype: int64\n",
      "primi elementi di y_val: [1 0 0 0 0]\n"
     ]
    }
   ],
   "source": [
    "print(\"y_val shape:\", y_val.shape)\n",
    "print(\"y_val dtype:\", y_val.dtype)\n",
    "print(\"primi elementi di y_val:\", y_val[:5])  # Mostra i primi 5 elementi"
   ]
  },
  {
   "cell_type": "code",
   "execution_count": 317,
   "id": "fb34bd01",
   "metadata": {},
   "outputs": [],
   "source": [
    "# plot_roc(y_val, clf.predict_proba(X_val_tr))\n",
    "# plt.show()\n",
    "# print(roc_auc_score(y_val, clf.predict_proba(X_val_tr), multi_class=\"ovr\", average=\"macro\"))"
   ]
  },
  {
   "cell_type": "markdown",
   "id": "7ee7095a",
   "metadata": {},
   "source": [
    "prova 2 roc"
   ]
  },
  {
   "cell_type": "code",
   "execution_count": 318,
   "id": "28cedab6",
   "metadata": {},
   "outputs": [
    {
     "data": {
      "image/png": "[encoded data removed]",
      "text/plain": [
       "<Figure size 640x480 with 1 Axes>"
      ]
     },
     "metadata": {},
     "output_type": "display_data"
    },
    {
     "name": "stdout",
     "output_type": "stream",
     "text": [
      "0.6743655970866247\n"
     ]
    }
   ],
   "source": [
    "import scikitplot as skplt\n",
    "\n",
    "# Ottieni le probabilità di tutte le classi\n",
    "probs = clf.predict_proba(X_val_tr)\n",
    "\n",
    "# Passa l'intero array di probabilità, non solo una colonna\n",
    "skplt.metrics.plot_roc(y_val, probs)\n",
    "plt.show()\n",
    "\n",
    "# Per il calcolo di AUC, se è binario, puoi usare:\n",
    "print(roc_auc_score(y_val, probs[:, 1]))"
   ]
  },
  {
   "cell_type": "markdown",
   "id": "42266691",
   "metadata": {},
   "source": [
    "Confusion matrix"
   ]
  },
  {
   "cell_type": "code",
   "execution_count": 319,
   "id": "edfb99ce",
   "metadata": {},
   "outputs": [
    {
     "data": {
      "image/png": "[encoded data removed]",
      "text/plain": [
       "<Figure size 640x480 with 2 Axes>"
      ]
     },
     "metadata": {},
     "output_type": "display_data"
    }
   ],
   "source": [
    "classes_unique = np.unique(y_val)\n",
    "cm = confusion_matrix(y_val, y_pred)\n",
    "sns.heatmap(cm, annot=True, fmt='d', cmap='Greens', \n",
    "            xticklabels=classes_unique, \n",
    "            yticklabels=classes_unique)\n",
    "plt.xlabel(\"True\")\n",
    "plt.ylabel(\"Predicted\")\n",
    "plt.show()"
   ]
  },
  {
   "cell_type": "markdown",
   "id": "4f894825",
   "metadata": {},
   "source": [
    "Distribuzioni classi nel train2"
   ]
  },
  {
   "cell_type": "code",
   "execution_count": 320,
   "id": "caa799e6",
   "metadata": {},
   "outputs": [
    {
     "name": "stdout",
     "output_type": "stream",
     "text": [
      "Distribuzione delle classi nel training set:\n",
      "0    6834\n",
      "1    6310\n",
      "Name: count, dtype: int64\n"
     ]
    }
   ],
   "source": [
    "class_distribution = pd.Series(y_train2).value_counts().sort_index()\n",
    "\n",
    "# Mostra i conteggi\n",
    "print(\"Distribuzione delle classi nel training set:\")\n",
    "print(class_distribution)"
   ]
  },
  {
   "cell_type": "markdown",
   "id": "8e6982a7",
   "metadata": {},
   "source": [
    "## Proper testing on the test set"
   ]
  },
  {
   "cell_type": "code",
   "execution_count": 321,
   "id": "1439e0e2",
   "metadata": {},
   "outputs": [],
   "source": [
    "#clf = GaussianNB()\n",
    "## clf = ComplementNB()\n",
    "#clf.fit(X_train_tr, y_train)\n",
    "# y_tpred = clf.predict(X_test_tr)\n",
    "# y_tpred"
   ]
  },
  {
   "cell_type": "code",
   "execution_count": 322,
   "id": "2e68ff4d",
   "metadata": {},
   "outputs": [],
   "source": [
    "# # Importazioni necessarie (se non già importate)\n",
    "# from sklearn.metrics import accuracy_score, f1_score, confusion_matrix\n",
    "# import matplotlib.pyplot as plt\n",
    "# import numpy as np\n",
    "# import seaborn as sns\n",
    "\n",
    "# # Valutazione sul training set\n",
    "# y_pred_train = clf.predict(X_train_tr)\n",
    "# train_accuracy = accuracy_score(y_train, y_pred_train)\n",
    "# train_f1 = f1_score(y_train, y_pred_train, average='weighted')\n",
    "\n",
    "# # Valutazione sul test set\n",
    "# y_pred_test = clf.predict(X_test_tr)\n",
    "# test_accuracy = accuracy_score(y_test, y_pred_test)\n",
    "# test_f1 = f1_score(y_test, y_pred_test, average='weighted')\n",
    "#                         ### gaia ha messo y_tpred\n",
    "\n",
    "# # Stampa dei risultati\n",
    "# print(f\"Performance sul Training set:\")\n",
    "# print(f\"Accuracy: {train_accuracy:.4f}\")\n",
    "# print(f\"F1 Score: {train_f1:.4f}\")\n",
    "# print(\"\\nPerformance sul test set:\")\n",
    "# print(f\"Accuracy: {test_accuracy:.4f}\")\n",
    "# print(f\"F1 Score: {test_f1:.4f}\")\n",
    "\n",
    "# # Visualizzazione grafica del confronto\n",
    "# metrics = ['Accuracy', 'F1 Score']\n",
    "# train_scores = [train_accuracy, train_f1]\n",
    "# test_scores = [test_accuracy, test_f1]\n",
    "\n",
    "# x = np.arange(len(metrics))\n",
    "# width = 0.35\n",
    "\n",
    "# fig, ax = plt.subplots(figsize=(10, 6))\n",
    "# rects1 = ax.bar(x - width/2, train_scores, width, label='Training')\n",
    "# rects2 = ax.bar(x + width/2, test_scores, width, label='Validation')\n",
    "\n",
    "# ax.set_ylabel('Score')\n",
    "# ax.set_title('Training vs Validation Performance')\n",
    "# ax.set_xticks(x)\n",
    "# ax.set_xticklabels(metrics)\n",
    "# ax.legend()\n",
    "# ax.set_ylim(0, 1)\n",
    "\n",
    "# # Aggiungi i valori sopra le barre\n",
    "# def autolabel(rects):\n",
    "#     for rect in rects:\n",
    "#         height = rect.get_height()\n",
    "#         ax.annotate(f'{height:.4f}',\n",
    "#                     xy=(rect.get_x() + rect.get_width() / 2, height),\n",
    "#                     xytext=(0, 3),\n",
    "#                     textcoords=\"offset points\",\n",
    "#                     ha='center', va='bottom')\n",
    "\n",
    "# autolabel(rects1)\n",
    "# autolabel(rects2)\n",
    "\n",
    "# plt.tight_layout()\n",
    "# plt.show()"
   ]
  },
  {
   "cell_type": "code",
   "execution_count": 323,
   "id": "6e9c1ec5",
   "metadata": {},
   "outputs": [],
   "source": [
    "# print(f\"Test accuracy: {accuracy_score(y_test, y_pred)}\")\n",
    "# print(\"\\nClassification Report:\")\n",
    "# print(classification_report(y_test, y_pred))"
   ]
  },
  {
   "cell_type": "code",
   "execution_count": 324,
   "id": "8f20f4cf",
   "metadata": {},
   "outputs": [],
   "source": [
    "# classes_unique = np.unique(y_test)\n",
    "# cm = confusion_matrix(y_test, y_pred)\n",
    "# sns.heatmap(cm, annot=True, fmt='d', cmap='Greens', \n",
    "#             xticklabels=classes_unique, \n",
    "#             yticklabels=classes_unique)\n",
    "# plt.xlabel('True')\n",
    "# plt.ylabel('Predicted')\n",
    "# plt.tight_layout()\n",
    "# plt.show()"
   ]
  },
  {
   "cell_type": "markdown",
   "id": "e56db6e3",
   "metadata": {},
   "source": [
    "### devo cambiare qlcs? Dummy classifier"
   ]
  },
  {
   "cell_type": "code",
   "execution_count": 325,
   "id": "d04cac0d",
   "metadata": {},
   "outputs": [],
   "source": [
    "# from sklearn.dummy import DummyClassifier\n",
    "# from sklearn.metrics import classification_report, accuracy_score\n",
    "\n",
    "# # Create dummy classifier (most frequent class strategy)\n",
    "# dummy = DummyClassifier(strategy=\"most_frequent\")\n",
    "# dummy.fit(X_train_tra, y_train)\n",
    "\n",
    "# # Predict and evaluate\n",
    "# y_pred = dummy.predict(X_test_tr)\n",
    "\n",
    "# print(\"Accuracy:\", accuracy_score(y_test, y_pred))\n",
    "# print(\"Classification Report:\\n\", classification_report(y_test, y_pred))"
   ]
  },
  {
   "cell_type": "markdown",
   "id": "3048def1",
   "metadata": {},
   "source": [
    "## \"lowEngagement\""
   ]
  },
  {
   "cell_type": "code",
   "execution_count": 326,
   "id": "827453aa",
   "metadata": {},
   "outputs": [],
   "source": [
    "pp_class[\"lowEngagement\"] = (pp_class[\"numVotes\"]<100).astype(int)\n",
    "pp_test[\"lowEngagement\"] = (pp_test[\"numVotes\"]<100).astype(int)"
   ]
  },
  {
   "cell_type": "code",
   "execution_count": 327,
   "id": "0c7965cc",
   "metadata": {},
   "outputs": [
    {
     "data": {
      "text/plain": [
       "11289"
      ]
     },
     "execution_count": 327,
     "metadata": {},
     "output_type": "execute_result"
    }
   ],
   "source": [
    "x = sum(pp_class[\"lowEngagement\"] == 1)\n",
    "x"
   ]
  },
  {
   "cell_type": "markdown",
   "id": "f344f7f0",
   "metadata": {},
   "source": [
    "Selezione variabile target"
   ]
  },
  {
   "cell_type": "code",
   "execution_count": 328,
   "id": "e3c2a827",
   "metadata": {},
   "outputs": [],
   "source": [
    "y_train = np.array(pp_class[\"lowEngagement\"]) #target originale\n",
    "#y_test = np.array(pp_train[\"lowEngagement\"])"
   ]
  },
  {
   "cell_type": "markdown",
   "id": "a1303abd",
   "metadata": {},
   "source": [
    "Selezione attributi per classificazione"
   ]
  },
  {
   "cell_type": "code",
   "execution_count": 329,
   "id": "9d1242d8",
   "metadata": {},
   "outputs": [],
   "source": [
    "X_train = pp_class[[\n",
    "       'rating',\n",
    "       ## 'startYear',  \n",
    "       #'numVotes', \n",
    "       ##'totalImages', \n",
    "       'totalCredits', \n",
    "       'criticReviewsTotal',\n",
    "       ##'canHaveEpisodes', \n",
    "       ##'isAdult', \n",
    "       'numRegions', \n",
    "       'userReviewsTotal', # lasciare\n",
    "       #'endYear',\n",
    "       #'is_Documentary', 'is_History', 'is_Adventure', 'is_Thriller', 'is_Game-Show', 'is_Comedy', 'is_Sci-Fi', 'is_Romance', 'is_Biography', 'is_Musical', 'is_Western', 'is_Music', 'is_Film-Noir', 'is_Adult', 'is_Reality-TV', 'is_News', 'is_Action', 'is_Crime', 'is_Short', 'is_Fantasy', 'is_Family', 'is_Mystery',  'is_Talk-Show', 'is_Drama', 'is_Sport', 'is_War', 'is_Horror','is_Animation', \n",
    "       'fill_runtimeMinutes',  #lasciare\n",
    "       'is_from_Oceania','is_from_North America', 'is_from_South America', 'is_from_Asia', 'is_from_Africa', 'is_from_Europe', \n",
    "       'awardWins_bin',  \n",
    "       ##'totalVideos_bin', \n",
    "       'awardNominationsExcludeWins_bin', \n",
    "# #AGGIUNTE TRAIN BRUNO\n",
    "#     'countryOfOrigin', \n",
    "       #'countryOfOrigin_freq_enc',\n",
    "       #'countryOfOrigin_NA', 'countryOfOrigin_AF', 'countryOfOrigin_AS', 'countryOfOrigin_EU', 'countryOfOrigin_OC', 'countryOfOrigin_SA','countryOfOrigin_UNK', \n",
    "#     'fill_runtimeMinutes_Bruno'       \n",
    "       ]].values\n",
    "\n",
    "## X_test = pp_test_class[[ ]].values"
   ]
  },
  {
   "cell_type": "markdown",
   "id": "b4e23d7d",
   "metadata": {},
   "source": [
    "Splitting in train-validation"
   ]
  },
  {
   "cell_type": "code",
   "execution_count": 330,
   "id": "04867235",
   "metadata": {},
   "outputs": [],
   "source": [
    "X_train2, X_val, y_train2, y_val = train_test_split(\n",
    "     X_train, y_train, test_size=0.2, random_state=32)"
   ]
  },
  {
   "cell_type": "markdown",
   "id": "0ae8df77",
   "metadata": {},
   "source": [
    "normalizzazione"
   ]
  },
  {
   "cell_type": "code",
   "execution_count": 331,
   "id": "a9abd9a1",
   "metadata": {},
   "outputs": [],
   "source": [
    "X_train2_log = np.log1p(X_train2)\n",
    "X_val_log= np.log1p(X_val)\n",
    "\n",
    "## X_train_log = np.log1p(X_train)\n",
    "## X_test_log = np.log1p(X_test)"
   ]
  },
  {
   "cell_type": "code",
   "execution_count": 332,
   "id": "9e2a486b",
   "metadata": {},
   "outputs": [],
   "source": [
    "\n",
    "standardsc = StandardScaler()\n",
    "\n",
    "        # # Fitta e trasforma il training set in un solo passaggio\n",
    "X_train2_standardsc = standardsc.fit_transform(X_train2_log)\n",
    "X_val_standardsc = standardsc.fit_transform(X_val_log)\n",
    "\n",
    "## X_train_standardsc = standardsc.fit_transform(X_train_log)\n",
    "        # # Trasforma il test set (senza rifittare!)\n",
    "## X_test_standardsc = standardsc.transform(X_test_log)"
   ]
  },
  {
   "cell_type": "code",
   "execution_count": 333,
   "id": "7c6b94b7",
   "metadata": {},
   "outputs": [],
   "source": [
    "# minmax = MinMaxScaler()\n",
    "\n",
    "        ## Fitta e trasforma il training set in un solo passaggio\n",
    "# X_train2_minmax = minmax.fit_transform(X_train2_log)\n",
    "# X_val_minmax = minmax.fit_transform(X_val_log)\n",
    "\n",
    "## X_train_minmax = minmax.fit_transform(X_train_log)\n",
    "        # # Trasforma il test set (senza rifittare!)\n",
    "# #X_test_minmax = minmax.transform(X_test)"
   ]
  },
  {
   "cell_type": "code",
   "execution_count": 334,
   "id": "00fda0f6",
   "metadata": {},
   "outputs": [],
   "source": [
    "X_train2_tr = X_train2_standardsc\n",
    "X_val_tr = X_val_standardsc\n",
    "\n",
    "## X_train_tr = X_train_standardsc\n",
    "## X_test_tr = X_test_standardsc"
   ]
  },
  {
   "cell_type": "markdown",
   "id": "251e0025",
   "metadata": {},
   "source": [
    "## Naive Bayes"
   ]
  },
  {
   "cell_type": "code",
   "execution_count": 335,
   "id": "48307911",
   "metadata": {},
   "outputs": [
    {
     "data": {
      "text/html": [
       "<style>#sk-container-id-11 {color: black;}#sk-container-id-11 pre{padding: 0;}#sk-container-id-11 div.sk-toggleable {background-color: white;}#sk-container-id-11 label.sk-toggleable__label {cursor: pointer;display: block;width: 100%;margin-bottom: 0;padding: 0.3em;box-sizing: border-box;text-align: center;}#sk-container-id-11 label.sk-toggleable__label-arrow:before {content: \"▸\";float: left;margin-right: 0.25em;color: #696969;}#sk-container-id-11 label.sk-toggleable__label-arrow:hover:before {color: black;}#sk-container-id-11 div.sk-estimator:hover label.sk-toggleable__label-arrow:before {color: black;}#sk-container-id-11 div.sk-toggleable__content {max-height: 0;max-width: 0;overflow: hidden;text-align: left;background-color: #f0f8ff;}#sk-container-id-11 div.sk-toggleable__content pre {margin: 0.2em;color: black;border-radius: 0.25em;background-color: #f0f8ff;}#sk-container-id-11 input.sk-toggleable__control:checked~div.sk-toggleable__content {max-height: 200px;max-width: 100%;overflow: auto;}#sk-container-id-11 input.sk-toggleable__control:checked~label.sk-toggleable__label-arrow:before {content: \"▾\";}#sk-container-id-11 div.sk-estimator input.sk-toggleable__control:checked~label.sk-toggleable__label {background-color: #d4ebff;}#sk-container-id-11 div.sk-label input.sk-toggleable__control:checked~label.sk-toggleable__label {background-color: #d4ebff;}#sk-container-id-11 input.sk-hidden--visually {border: 0;clip: rect(1px 1px 1px 1px);clip: rect(1px, 1px, 1px, 1px);height: 1px;margin: -1px;overflow: hidden;padding: 0;position: absolute;width: 1px;}#sk-container-id-11 div.sk-estimator {font-family: monospace;background-color: #f0f8ff;border: 1px dotted black;border-radius: 0.25em;box-sizing: border-box;margin-bottom: 0.5em;}#sk-container-id-11 div.sk-estimator:hover {background-color: #d4ebff;}#sk-container-id-11 div.sk-parallel-item::after {content: \"\";width: 100%;border-bottom: 1px solid gray;flex-grow: 1;}#sk-container-id-11 div.sk-label:hover label.sk-toggleable__label {background-color: #d4ebff;}#sk-container-id-11 div.sk-serial::before {content: \"\";position: absolute;border-left: 1px solid gray;box-sizing: border-box;top: 0;bottom: 0;left: 50%;z-index: 0;}#sk-container-id-11 div.sk-serial {display: flex;flex-direction: column;align-items: center;background-color: white;padding-right: 0.2em;padding-left: 0.2em;position: relative;}#sk-container-id-11 div.sk-item {position: relative;z-index: 1;}#sk-container-id-11 div.sk-parallel {display: flex;align-items: stretch;justify-content: center;background-color: white;position: relative;}#sk-container-id-11 div.sk-item::before, #sk-container-id-11 div.sk-parallel-item::before {content: \"\";position: absolute;border-left: 1px solid gray;box-sizing: border-box;top: 0;bottom: 0;left: 50%;z-index: -1;}#sk-container-id-11 div.sk-parallel-item {display: flex;flex-direction: column;z-index: 1;position: relative;background-color: white;}#sk-container-id-11 div.sk-parallel-item:first-child::after {align-self: flex-end;width: 50%;}#sk-container-id-11 div.sk-parallel-item:last-child::after {align-self: flex-start;width: 50%;}#sk-container-id-11 div.sk-parallel-item:only-child::after {width: 0;}#sk-container-id-11 div.sk-dashed-wrapped {border: 1px dashed gray;margin: 0 0.4em 0.5em 0.4em;box-sizing: border-box;padding-bottom: 0.4em;background-color: white;}#sk-container-id-11 div.sk-label label {font-family: monospace;font-weight: bold;display: inline-block;line-height: 1.2em;}#sk-container-id-11 div.sk-label-container {text-align: center;}#sk-container-id-11 div.sk-container {/* jupyter's `normalize.less` sets `[hidden] { display: none; }` but bootstrap.min.css set `[hidden] { display: none !important; }` so we also need the `!important` here to be able to override the default hidden behavior on the sphinx rendered scikit-learn.org. See: https://github.com/scikit-learn/scikit-learn/issues/21755 */display: inline-block !important;position: relative;}#sk-container-id-11 div.sk-text-repr-fallback {display: none;}</style><div id=\"sk-container-id-11\" class=\"sk-top-container\"><div class=\"sk-text-repr-fallback\"><pre>GaussianNB()</pre><b>In a Jupyter environment, please rerun this cell to show the HTML representation or trust the notebook. <br />On GitHub, the HTML representation is unable to render, please try loading this page with nbviewer.org.</b></div><div class=\"sk-container\" hidden><div class=\"sk-item\"><div class=\"sk-estimator sk-toggleable\"><input class=\"sk-toggleable__control sk-hidden--visually\" id=\"sk-estimator-id-11\" type=\"checkbox\" checked><label for=\"sk-estimator-id-11\" class=\"sk-toggleable__label sk-toggleable__label-arrow\">GaussianNB</label><div class=\"sk-toggleable__content\"><pre>GaussianNB()</pre></div></div></div></div></div>"
      ],
      "text/plain": [
       "GaussianNB()"
      ]
     },
     "execution_count": 335,
     "metadata": {},
     "output_type": "execute_result"
    }
   ],
   "source": [
    "clf = GaussianNB()\n",
    "#clf = ComplementNB(alpha=1.0) #-> non va perchè ci sono valori negativi\n",
    "clf.fit(X_train2_tr, y_train2)"
   ]
  },
  {
   "cell_type": "markdown",
   "id": "92c73949",
   "metadata": {},
   "source": [
    "Prediction on validation set"
   ]
  },
  {
   "cell_type": "code",
   "execution_count": 336,
   "id": "28d688c6",
   "metadata": {},
   "outputs": [],
   "source": [
    "y_pred = clf.predict(X_val_tr)"
   ]
  },
  {
   "cell_type": "code",
   "execution_count": 337,
   "id": "5b9db170",
   "metadata": {},
   "outputs": [
    {
     "name": "stdout",
     "output_type": "stream",
     "text": [
      "3287\n",
      "3287\n"
     ]
    }
   ],
   "source": [
    "print(len(y_pred))  # dovrebbe stampare lo stesso numero in entrambi\n",
    "print(len(y_val))  "
   ]
  },
  {
   "cell_type": "code",
   "execution_count": 338,
   "id": "dad9481a",
   "metadata": {},
   "outputs": [
    {
     "name": "stdout",
     "output_type": "stream",
     "text": [
      "Test accuracy: 0.8220261636750836\n",
      "\n",
      "Classification Report:\n",
      "              precision    recall  f1-score   support\n",
      "\n",
      "           0       0.77      0.65      0.70      1074\n",
      "           1       0.84      0.91      0.87      2213\n",
      "\n",
      "    accuracy                           0.82      3287\n",
      "   macro avg       0.81      0.78      0.79      3287\n",
      "weighted avg       0.82      0.82      0.82      3287\n",
      "\n"
     ]
    }
   ],
   "source": [
    "print(f\"Test accuracy: {accuracy_score(y_val, y_pred)}\")\n",
    "print(\"\\nClassification Report:\")\n",
    "print(classification_report(y_val, y_pred))"
   ]
  },
  {
   "cell_type": "code",
   "execution_count": 339,
   "id": "aeb2fb2f",
   "metadata": {},
   "outputs": [
    {
     "data": {
      "text/plain": [
       "array([[1.00000000e+00, 1.98195904e-25],\n",
       "       [2.82658726e-02, 9.71734127e-01],\n",
       "       [2.69675512e-01, 7.30324488e-01],\n",
       "       ...,\n",
       "       [7.61722016e-03, 9.92382780e-01],\n",
       "       [1.74342357e-02, 9.82565764e-01],\n",
       "       [1.60282338e-01, 8.39717662e-01]])"
      ]
     },
     "execution_count": 339,
     "metadata": {},
     "output_type": "execute_result"
    }
   ],
   "source": [
    "clf.predict_proba(X_val_tr)\n",
    "#prob che un record appartenga alle classi"
   ]
  },
  {
   "cell_type": "code",
   "execution_count": 340,
   "id": "dbf9f736",
   "metadata": {},
   "outputs": [
    {
     "name": "stdout",
     "output_type": "stream",
     "text": [
      "Performance sul Training set:\n",
      "Accuracy: 0.8257\n",
      "F1 Score: 0.8239\n",
      "\n",
      "Performance sul Validation set:\n",
      "Accuracy: 0.8220\n",
      "F1 Score: 0.8177\n"
     ]
    },
    {
     "data": {
      "image/png": "[encoded data removed]",
      "text/plain": [
       "<Figure size 1000x600 with 1 Axes>"
      ]
     },
     "metadata": {},
     "output_type": "display_data"
    }
   ],
   "source": [
    "# Importazioni necessarie (se non già importate)\n",
    "from sklearn.metrics import accuracy_score, f1_score, confusion_matrix\n",
    "import matplotlib.pyplot as plt\n",
    "import numpy as np\n",
    "import seaborn as sns\n",
    "\n",
    "# Valutazione sul training set\n",
    "y_pred_train = clf.predict(X_train2_tr)\n",
    "train_accuracy = accuracy_score(y_train2, y_pred_train)\n",
    "train_f1 = f1_score(y_train2, y_pred_train, average='weighted')\n",
    "\n",
    "# Valutazione sul validation set\n",
    "y_pred_val = clf.predict(X_val_tr)\n",
    "val_accuracy = accuracy_score(y_val, y_pred_val)\n",
    "val_f1 = f1_score(y_val, y_pred_val, average='weighted')\n",
    "\n",
    "# Stampa dei risultati\n",
    "print(f\"Performance sul Training set:\")\n",
    "print(f\"Accuracy: {train_accuracy:.4f}\")\n",
    "print(f\"F1 Score: {train_f1:.4f}\")\n",
    "print(\"\\nPerformance sul Validation set:\")\n",
    "print(f\"Accuracy: {val_accuracy:.4f}\")\n",
    "print(f\"F1 Score: {val_f1:.4f}\")\n",
    "\n",
    "# Visualizzazione grafica del confronto\n",
    "metrics = ['Accuracy', 'F1 Score']\n",
    "train_scores = [train_accuracy, train_f1]\n",
    "val_scores = [val_accuracy, val_f1]\n",
    "\n",
    "x = np.arange(len(metrics))\n",
    "width = 0.35\n",
    "\n",
    "fig, ax = plt.subplots(figsize=(10, 6))\n",
    "rects1 = ax.bar(x - width/2, train_scores, width, label='Training')\n",
    "rects2 = ax.bar(x + width/2, val_scores, width, label='Validation')\n",
    "\n",
    "ax.set_ylabel('Score')\n",
    "ax.set_title('Training vs Validation Performance')\n",
    "ax.set_xticks(x)\n",
    "ax.set_xticklabels(metrics)\n",
    "ax.legend()\n",
    "ax.set_ylim(0, 1)\n",
    "\n",
    "# Aggiungi i valori sopra le barre\n",
    "def autolabel(rects):\n",
    "    for rect in rects:\n",
    "        height = rect.get_height()\n",
    "        ax.annotate(f'{height:.4f}',\n",
    "                    xy=(rect.get_x() + rect.get_width() / 2, height),\n",
    "                    xytext=(0, 3),\n",
    "                    textcoords=\"offset points\",\n",
    "                    ha='center', va='bottom')\n",
    "\n",
    "autolabel(rects1)\n",
    "autolabel(rects2)\n",
    "\n",
    "plt.tight_layout()\n",
    "plt.show()"
   ]
  },
  {
   "cell_type": "markdown",
   "id": "d643ad36",
   "metadata": {},
   "source": [
    "ROC curve"
   ]
  },
  {
   "cell_type": "code",
   "execution_count": 341,
   "id": "523cd642",
   "metadata": {},
   "outputs": [],
   "source": [
    "# plot_roc(y_val, clf.predict_proba(X_val_tr))\n",
    "# plt.show()\n",
    "# print(roc_auc_score(y_val, clf.predict_proba(X_val_tr), multi_class=\"ovr\", average=\"macro\"))"
   ]
  },
  {
   "cell_type": "code",
   "execution_count": 342,
   "id": "fe77e3d0",
   "metadata": {},
   "outputs": [
    {
     "data": {
      "image/png": "[encoded data removed]",
      "text/plain": [
       "<Figure size 640x480 with 1 Axes>"
      ]
     },
     "metadata": {},
     "output_type": "display_data"
    },
    {
     "name": "stdout",
     "output_type": "stream",
     "text": [
      "0.8663627237392721\n"
     ]
    }
   ],
   "source": [
    "import scikitplot as skplt\n",
    "\n",
    "# Ottieni le probabilità di tutte le classi\n",
    "probs = clf.predict_proba(X_val_tr)\n",
    "\n",
    "# Passa l'intero array di probabilità, non solo una colonna\n",
    "skplt.metrics.plot_roc(y_val, probs)\n",
    "plt.show()\n",
    "\n",
    "# Per il calcolo di AUC, se è binario, puoi usare:\n",
    "print(roc_auc_score(y_val, probs[:, 1]))"
   ]
  },
  {
   "cell_type": "markdown",
   "id": "ec12db6e",
   "metadata": {},
   "source": [
    "Confusion matrix"
   ]
  },
  {
   "cell_type": "code",
   "execution_count": 343,
   "id": "03e7d9c7",
   "metadata": {},
   "outputs": [
    {
     "data": {
      "image/png": "[encoded data removed]",
      "text/plain": [
       "<Figure size 640x480 with 2 Axes>"
      ]
     },
     "metadata": {},
     "output_type": "display_data"
    }
   ],
   "source": [
    "classes_unique = np.unique(y_val)\n",
    "cm = confusion_matrix(y_val, y_pred)\n",
    "sns.heatmap(cm, annot=True, fmt='d', cmap='Greens', \n",
    "            xticklabels=classes_unique, \n",
    "            yticklabels=classes_unique)\n",
    "plt.xlabel(\"True\")\n",
    "plt.ylabel(\"Predicted\")\n",
    "plt.show()"
   ]
  },
  {
   "cell_type": "markdown",
   "id": "7e675f1d",
   "metadata": {},
   "source": [
    "### Prediction on the test set"
   ]
  },
  {
   "cell_type": "code",
   "execution_count": 344,
   "id": "d25d752a",
   "metadata": {},
   "outputs": [],
   "source": [
    "#clf = GaussianNB()\n",
    "## clf = ComplementNB()\n",
    "#clf.fit(X_train_tr, y_train)\n",
    "# y_tpred = clf.predict(X_test_tr)\n",
    "# y_tpred"
   ]
  },
  {
   "cell_type": "code",
   "execution_count": 345,
   "id": "7f4b03d1",
   "metadata": {},
   "outputs": [],
   "source": [
    "# # Importazioni necessarie (se non già importate)\n",
    "# from sklearn.metrics import accuracy_score, f1_score, confusion_matrix\n",
    "# import matplotlib.pyplot as plt\n",
    "# import numpy as np\n",
    "# import seaborn as sns\n",
    "\n",
    "# # Valutazione sul training set\n",
    "# y_pred_train = clf.predict(X_train_tr)\n",
    "# train_accuracy = accuracy_score(y_train, y_pred_train)\n",
    "# train_f1 = f1_score(y_train, y_pred_train, average='weighted')\n",
    "\n",
    "# # Valutazione sul test set\n",
    "# y_pred_test = clf.predict(X_test_tr)\n",
    "# test_accuracy = accuracy_score(y_test, y_pred_test)\n",
    "# test_f1 = f1_score(y_test, y_pred_test, average='weighted')\n",
    "#                         ### gaia ha messo y_tpred\n",
    "\n",
    "# # Stampa dei risultati\n",
    "# print(f\"Performance sul Training set:\")\n",
    "# print(f\"Accuracy: {train_accuracy:.4f}\")\n",
    "# print(f\"F1 Score: {train_f1:.4f}\")\n",
    "# print(\"\\nPerformance sul test set:\")\n",
    "# print(f\"Accuracy: {test_accuracy:.4f}\")\n",
    "# print(f\"F1 Score: {test_f1:.4f}\")\n",
    "\n",
    "# # Visualizzazione grafica del confronto\n",
    "# metrics = ['Accuracy', 'F1 Score']\n",
    "# train_scores = [train_accuracy, train_f1]\n",
    "# test_scores = [test_accuracy, test_f1]\n",
    "\n",
    "# x = np.arange(len(metrics))\n",
    "# width = 0.35\n",
    "\n",
    "# fig, ax = plt.subplots(figsize=(10, 6))\n",
    "# rects1 = ax.bar(x - width/2, train_scores, width, label='Training')\n",
    "# rects2 = ax.bar(x + width/2, test_scores, width, label='Validation')\n",
    "\n",
    "# ax.set_ylabel('Score')\n",
    "# ax.set_title('Training vs Validation Performance')\n",
    "# ax.set_xticks(x)\n",
    "# ax.set_xticklabels(metrics)\n",
    "# ax.legend()\n",
    "# ax.set_ylim(0, 1)\n",
    "\n",
    "# # Aggiungi i valori sopra le barre\n",
    "# def autolabel(rects):\n",
    "#     for rect in rects:\n",
    "#         height = rect.get_height()\n",
    "#         ax.annotate(f'{height:.4f}',\n",
    "#                     xy=(rect.get_x() + rect.get_width() / 2, height),\n",
    "#                     xytext=(0, 3),\n",
    "#                     textcoords=\"offset points\",\n",
    "#                     ha='center', va='bottom')\n",
    "\n",
    "# autolabel(rects1)\n",
    "# autolabel(rects2)\n",
    "\n",
    "# plt.tight_layout()\n",
    "# plt.show()"
   ]
  },
  {
   "cell_type": "code",
   "execution_count": 346,
   "id": "376df875",
   "metadata": {},
   "outputs": [],
   "source": [
    "# print(f\"Test accuracy: {accuracy_score(y_test, y_pred)}\")\n",
    "# print(\"\\nClassification Report:\")\n",
    "# print(classification_report(y_test, y_pred))"
   ]
  },
  {
   "cell_type": "code",
   "execution_count": 347,
   "id": "74f48eba",
   "metadata": {},
   "outputs": [],
   "source": [
    "# classes_unique = np.unique(y_test)\n",
    "# cm = confusion_matrix(y_test, y_pred)\n",
    "# sns.heatmap(cm, annot=True, fmt='d', cmap='Greens', \n",
    "#             xticklabels=classes_unique, \n",
    "#             yticklabels=classes_unique)\n",
    "# plt.xlabel('True')\n",
    "# plt.ylabel('Predicted')\n",
    "# plt.tight_layout()\n",
    "# plt.show()"
   ]
  },
  {
   "cell_type": "markdown",
   "id": "bfaefb36",
   "metadata": {},
   "source": [
    "## Dummy classifier -> cambia qlcs?"
   ]
  },
  {
   "cell_type": "code",
   "execution_count": 348,
   "id": "1e98d026",
   "metadata": {},
   "outputs": [],
   "source": [
    "# from sklearn.dummy import DummyClassifier\n",
    "# from sklearn.metrics import classification_report, accuracy_score\n",
    "\n",
    "# # Create dummy classifier (most frequent class strategy)\n",
    "# dummy = DummyClassifier(strategy=\"most_frequent\")\n",
    "# dummy.fit(X_train_tra, y_train)\n",
    "\n",
    "# # Predict and evaluate\n",
    "# y_pred = dummy.predict(X_test_tr)\n",
    "\n",
    "# print(\"Accuracy:\", accuracy_score(y_test, y_pred))\n",
    "# print(\"Classification Report:\\n\", classification_report(y_test, y_pred))"
   ]
  }
 ],
 "metadata": {
  "kernelspec": {
   "display_name": "Python 3",
   "language": "python",
   "name": "python3"
  },
  "language_info": {
   "codemirror_mode": {
    "name": "ipython",
    "version": 3
   },
   "file_extension": ".py",
   "mimetype": "text/x-python",
   "name": "python",
   "nbconvert_exporter": "python",
   "pygments_lexer": "ipython3",
   "version": "3.8.2"
  }
 },
 "nbformat": 4,
 "nbformat_minor": 5
}
