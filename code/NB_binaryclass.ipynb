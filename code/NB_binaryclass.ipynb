{
 "cells": [
  {
   "cell_type": "markdown",
   "id": "7d9de9e1",
   "metadata": {},
   "source": [
    "## NB - binary classification"
   ]
  },
  {
   "cell_type": "markdown",
   "id": "ba6bbaee",
   "metadata": {},
   "source": [
    "#### \"is_from_NorthAmerica\""
   ]
  },
  {
   "cell_type": "code",
   "execution_count": 52,
   "id": "a302730b",
   "metadata": {},
   "outputs": [],
   "source": [
    "import numpy as np\n",
    "import matplotlib.pyplot as plt\n",
    "import seaborn as sns\n",
    "import pandas as pd\n",
    "\n",
    "from sklearn.metrics import (\n",
    "    accuracy_score,\n",
    "    f1_score,\n",
    "    classification_report,\n",
    "    confusion_matrix,\n",
    "    roc_auc_score,\n",
    ")\n",
    "from scikitplot.metrics import plot_roc\n",
    "from scikitplot.metrics import plot_precision_recall\n",
    "\n",
    "from sklearn.preprocessing import StandardScaler\n",
    "from sklearn.preprocessing import MinMaxScaler\n",
    "from sklearn.naive_bayes import GaussianNB, CategoricalNB\n",
    "from sklearn.model_selection import RandomizedSearchCV\n",
    "from sklearn.model_selection import train_test_split"
   ]
  },
  {
   "cell_type": "code",
   "execution_count": 53,
   "id": "5d837a48",
   "metadata": {},
   "outputs": [],
   "source": [
    "pp_train = pd.read_csv(\"pp_train.csv\")\n",
    "pp_test = pd.read_csv(\"pp_test.csv\")\n",
    "\n",
    "pp_class = pp_train.copy()\n",
    "pp_test_class = pp_test.copy()"
   ]
  },
  {
   "cell_type": "code",
   "execution_count": 54,
   "id": "acec7d8c",
   "metadata": {},
   "outputs": [
    {
     "data": {
      "text/plain": [
       "Index(['originalTitle', 'rating', 'startYear', 'endYear', 'runtimeMinutes',\n",
       "       'awardWins', 'numVotes', 'totalImages', 'totalVideos', 'totalCredits',\n",
       "       'criticReviewsTotal', 'titleType', 'awardNominationsExcludeWins',\n",
       "       'canHaveEpisodes', 'isAdult', 'numRegions', 'userReviewsTotal',\n",
       "       'is_Documentary', 'is_History', 'is_Adventure', 'is_Thriller',\n",
       "       'is_Game-Show', 'is_Comedy', 'is_Sci-Fi', 'is_Romance', 'is_Biography',\n",
       "       'is_Musical', 'is_Western', 'is_Music', 'is_Film-Noir', 'is_Adult',\n",
       "       'is_Reality-TV', 'is_News', 'is_Action', 'is_Crime', 'is_Short',\n",
       "       'is_Fantasy', 'is_Family', 'is_Mystery', 'is_Talk-Show', 'is_Drama',\n",
       "       'is_Sport', 'is_War', 'is_Horror', 'is_Animation',\n",
       "       'fill_runtimeMinutes', 'is_from_Oceania', 'is_from_North America',\n",
       "       'is_from_South America', 'is_from_Asia', 'is_from_Africa',\n",
       "       'is_from_Europe', 'countryOfOrigin', 'countryOfOrigin_freq_enc',\n",
       "       'countryOfOrigin_NA', 'countryOfOrigin_AF', 'countryOfOrigin_AS',\n",
       "       'countryOfOrigin_EU', 'countryOfOrigin_OC', 'countryOfOrigin_SA',\n",
       "       'countryOfOrigin_UNK', 'fill_runtimeMinutes_Bruno'],\n",
       "      dtype='object')"
      ]
     },
     "execution_count": 54,
     "metadata": {},
     "output_type": "execute_result"
    }
   ],
   "source": [
    "pp_class.columns"
   ]
  },
  {
   "cell_type": "markdown",
   "id": "da9f89e5",
   "metadata": {},
   "source": [
    "TRAIN DI PRIMA -> senza features da \"countryofOrigin\" in poi\n",
    "'originalTitle', 'rating', 'startYear', 'endYear', 'runtimeMinutes',\n",
    "       'awardWins', 'numVotes', 'totalImages', 'totalVideos', 'totalCredits',\n",
    "       'criticReviewsTotal', 'titleType', 'awardNominationsExcludeWins',\n",
    "       'canHaveEpisodes', 'isAdult', 'numRegions', 'userReviewsTotal',\n",
    "       'is_Documentary', 'is_History', 'is_Adventure', 'is_Thriller',\n",
    "       'is_Game-Show', 'is_Comedy', 'is_Sci-Fi', 'is_Romance', 'is_Biography',\n",
    "       'is_Musical', 'is_Western', 'is_Music', 'is_Film-Noir', 'is_Adult',\n",
    "       'is_Reality-TV', 'is_News', 'is_Action', 'is_Crime', 'is_Short',\n",
    "       'is_Fantasy', 'is_Family', 'is_Mystery', 'is_Talk-Show', 'is_Drama',\n",
    "       'is_Sport', 'is_War', 'is_Horror', 'is_Animation',\n",
    "       'fill_runtimeMinutes', 'is_from_Oceania', 'is_from_North America',\n",
    "       'is_from_South America', 'is_from_Asia', 'is_from_Africa',\n",
    "       'is_from_Europe'"
   ]
  },
  {
   "cell_type": "code",
   "execution_count": 55,
   "id": "c552460f",
   "metadata": {},
   "outputs": [
    {
     "data": {
      "text/html": [
       "<div>\n",
       "<style scoped>\n",
       "    .dataframe tbody tr th:only-of-type {\n",
       "        vertical-align: middle;\n",
       "    }\n",
       "\n",
       "    .dataframe tbody tr th {\n",
       "        vertical-align: top;\n",
       "    }\n",
       "\n",
       "    .dataframe thead th {\n",
       "        text-align: right;\n",
       "    }\n",
       "</style>\n",
       "<table border=\"1\" class=\"dataframe\">\n",
       "  <thead>\n",
       "    <tr style=\"text-align: right;\">\n",
       "      <th></th>\n",
       "      <th>originalTitle</th>\n",
       "      <th>rating</th>\n",
       "      <th>startYear</th>\n",
       "      <th>endYear</th>\n",
       "      <th>runtimeMinutes</th>\n",
       "      <th>awardWins</th>\n",
       "      <th>numVotes</th>\n",
       "      <th>totalImages</th>\n",
       "      <th>totalVideos</th>\n",
       "      <th>totalCredits</th>\n",
       "      <th>...</th>\n",
       "      <th>countryOfOrigin</th>\n",
       "      <th>countryOfOrigin_freq_enc</th>\n",
       "      <th>countryOfOrigin_NA</th>\n",
       "      <th>countryOfOrigin_AF</th>\n",
       "      <th>countryOfOrigin_AS</th>\n",
       "      <th>countryOfOrigin_EU</th>\n",
       "      <th>countryOfOrigin_OC</th>\n",
       "      <th>countryOfOrigin_SA</th>\n",
       "      <th>countryOfOrigin_UNK</th>\n",
       "      <th>fill_runtimeMinutes_Bruno</th>\n",
       "    </tr>\n",
       "  </thead>\n",
       "  <tbody>\n",
       "    <tr>\n",
       "      <th>0</th>\n",
       "      <td>Neogenic Nightmare Chapter 3: Hydro-Man</td>\n",
       "      <td>8</td>\n",
       "      <td>1995</td>\n",
       "      <td>1995.0</td>\n",
       "      <td>NaN</td>\n",
       "      <td>0.0</td>\n",
       "      <td>779</td>\n",
       "      <td>1</td>\n",
       "      <td>0</td>\n",
       "      <td>21</td>\n",
       "      <td>...</td>\n",
       "      <td>['US']</td>\n",
       "      <td>0.397061</td>\n",
       "      <td>1</td>\n",
       "      <td>0</td>\n",
       "      <td>0</td>\n",
       "      <td>0</td>\n",
       "      <td>0</td>\n",
       "      <td>0</td>\n",
       "      <td>0</td>\n",
       "      <td>29.0</td>\n",
       "    </tr>\n",
       "    <tr>\n",
       "      <th>1</th>\n",
       "      <td>Looping</td>\n",
       "      <td>6</td>\n",
       "      <td>1982</td>\n",
       "      <td>1982.0</td>\n",
       "      <td>NaN</td>\n",
       "      <td>0.0</td>\n",
       "      <td>11</td>\n",
       "      <td>1</td>\n",
       "      <td>0</td>\n",
       "      <td>1</td>\n",
       "      <td>...</td>\n",
       "      <td>['XWG']</td>\n",
       "      <td>0.013525</td>\n",
       "      <td>0</td>\n",
       "      <td>0</td>\n",
       "      <td>0</td>\n",
       "      <td>0</td>\n",
       "      <td>0</td>\n",
       "      <td>0</td>\n",
       "      <td>1</td>\n",
       "      <td>NaN</td>\n",
       "    </tr>\n",
       "    <tr>\n",
       "      <th>2</th>\n",
       "      <td>Idealnaya para</td>\n",
       "      <td>6</td>\n",
       "      <td>1992</td>\n",
       "      <td>1992.0</td>\n",
       "      <td>NaN</td>\n",
       "      <td>0.0</td>\n",
       "      <td>38</td>\n",
       "      <td>1</td>\n",
       "      <td>0</td>\n",
       "      <td>24</td>\n",
       "      <td>...</td>\n",
       "      <td>['RU']</td>\n",
       "      <td>0.007959</td>\n",
       "      <td>0</td>\n",
       "      <td>0</td>\n",
       "      <td>0</td>\n",
       "      <td>1</td>\n",
       "      <td>0</td>\n",
       "      <td>0</td>\n",
       "      <td>0</td>\n",
       "      <td>94.0</td>\n",
       "    </tr>\n",
       "    <tr>\n",
       "      <th>3</th>\n",
       "      <td>MasterChef Celebrity México</td>\n",
       "      <td>6</td>\n",
       "      <td>2021</td>\n",
       "      <td>NaN</td>\n",
       "      <td>NaN</td>\n",
       "      <td>0.0</td>\n",
       "      <td>15</td>\n",
       "      <td>22</td>\n",
       "      <td>0</td>\n",
       "      <td>56</td>\n",
       "      <td>...</td>\n",
       "      <td>['MX']</td>\n",
       "      <td>0.013636</td>\n",
       "      <td>1</td>\n",
       "      <td>0</td>\n",
       "      <td>0</td>\n",
       "      <td>0</td>\n",
       "      <td>0</td>\n",
       "      <td>0</td>\n",
       "      <td>0</td>\n",
       "      <td>30.0</td>\n",
       "    </tr>\n",
       "    <tr>\n",
       "      <th>4</th>\n",
       "      <td>Seutateueob</td>\n",
       "      <td>8</td>\n",
       "      <td>2020</td>\n",
       "      <td>2020.0</td>\n",
       "      <td>80.0</td>\n",
       "      <td>1.0</td>\n",
       "      <td>15718</td>\n",
       "      <td>347</td>\n",
       "      <td>2</td>\n",
       "      <td>47</td>\n",
       "      <td>...</td>\n",
       "      <td>['KR']</td>\n",
       "      <td>0.009184</td>\n",
       "      <td>0</td>\n",
       "      <td>0</td>\n",
       "      <td>1</td>\n",
       "      <td>0</td>\n",
       "      <td>0</td>\n",
       "      <td>0</td>\n",
       "      <td>0</td>\n",
       "      <td>80.0</td>\n",
       "    </tr>\n",
       "  </tbody>\n",
       "</table>\n",
       "<p>5 rows × 62 columns</p>\n",
       "</div>"
      ],
      "text/plain": [
       "                             originalTitle  rating  startYear  endYear  \\\n",
       "0  Neogenic Nightmare Chapter 3: Hydro-Man       8       1995   1995.0   \n",
       "1                                  Looping       6       1982   1982.0   \n",
       "2                           Idealnaya para       6       1992   1992.0   \n",
       "3              MasterChef Celebrity México       6       2021      NaN   \n",
       "4                              Seutateueob       8       2020   2020.0   \n",
       "\n",
       "   runtimeMinutes  awardWins  numVotes  totalImages  totalVideos  \\\n",
       "0             NaN        0.0       779            1            0   \n",
       "1             NaN        0.0        11            1            0   \n",
       "2             NaN        0.0        38            1            0   \n",
       "3             NaN        0.0        15           22            0   \n",
       "4            80.0        1.0     15718          347            2   \n",
       "\n",
       "   totalCredits  ...  countryOfOrigin countryOfOrigin_freq_enc  \\\n",
       "0            21  ...           ['US']                 0.397061   \n",
       "1             1  ...          ['XWG']                 0.013525   \n",
       "2            24  ...           ['RU']                 0.007959   \n",
       "3            56  ...           ['MX']                 0.013636   \n",
       "4            47  ...           ['KR']                 0.009184   \n",
       "\n",
       "   countryOfOrigin_NA  countryOfOrigin_AF  countryOfOrigin_AS  \\\n",
       "0                   1                   0                   0   \n",
       "1                   0                   0                   0   \n",
       "2                   0                   0                   0   \n",
       "3                   1                   0                   0   \n",
       "4                   0                   0                   1   \n",
       "\n",
       "   countryOfOrigin_EU  countryOfOrigin_OC  countryOfOrigin_SA  \\\n",
       "0                   0                   0                   0   \n",
       "1                   0                   0                   0   \n",
       "2                   1                   0                   0   \n",
       "3                   0                   0                   0   \n",
       "4                   0                   0                   0   \n",
       "\n",
       "   countryOfOrigin_UNK  fill_runtimeMinutes_Bruno  \n",
       "0                    0                       29.0  \n",
       "1                    1                        NaN  \n",
       "2                    0                       94.0  \n",
       "3                    0                       30.0  \n",
       "4                    0                       80.0  \n",
       "\n",
       "[5 rows x 62 columns]"
      ]
     },
     "execution_count": 55,
     "metadata": {},
     "output_type": "execute_result"
    }
   ],
   "source": [
    "pp_class.head(\n",
    ")"
   ]
  },
  {
   "cell_type": "markdown",
   "id": "8decf2f2",
   "metadata": {},
   "source": [
    "## Filtro dataset su classi meno rappresentate -> capire se 1,5,6,9 o 7,8,9"
   ]
  },
  {
   "cell_type": "code",
   "execution_count": 56,
   "id": "2283c79c",
   "metadata": {},
   "outputs": [],
   "source": [
    " #pp_class = pp_class[~pp_class['titleType_encoded'].isin([7,8, 9])]\n",
    "## pp_test_class = pp_test_class[~pp_test_class['titleType_encoded'].isin([7,8, 9])]"
   ]
  },
  {
   "cell_type": "markdown",
   "id": "2092cd9f",
   "metadata": {},
   "source": [
    "### Selezione variabile target"
   ]
  },
  {
   "cell_type": "code",
   "execution_count": 57,
   "id": "e804fcb1",
   "metadata": {},
   "outputs": [],
   "source": [
    "y_train = np.array(pp_class['is_from_North America'])  # Il target originale\n",
    "y_test = np.array(pp_test_class[\"is_from_North America\"])"
   ]
  },
  {
   "cell_type": "markdown",
   "id": "199ab508",
   "metadata": {},
   "source": [
    "### preprocessing variabili"
   ]
  },
  {
   "cell_type": "code",
   "execution_count": 58,
   "id": "126a6456",
   "metadata": {},
   "outputs": [],
   "source": [
    "pp_class['canHaveEpisodes'] = pp_class['canHaveEpisodes'].astype(int)\n",
    "##pp_test_class['canHaveEpisodes'] = pp_test_class['canHaveEpisodes'].astype(int)"
   ]
  },
  {
   "cell_type": "code",
   "execution_count": 59,
   "id": "264d8524",
   "metadata": {},
   "outputs": [],
   "source": [
    "column2drop = ['originalTitle', 'runtimeMinutes']\n",
    "pp_class.drop(column2drop, axis=1, inplace=True)\n",
    "##pp_test_class.drop(column2drop, axis=1, inplace=True)"
   ]
  },
  {
   "cell_type": "markdown",
   "id": "815fc5ad",
   "metadata": {},
   "source": [
    "#### endYear da gestire"
   ]
  },
  {
   "cell_type": "code",
   "execution_count": 60,
   "id": "b14ef4dc",
   "metadata": {},
   "outputs": [],
   "source": [
    "pp_class= pp_class.drop([\"endYear\"], axis=1)\n",
    "##pp_test_class= pp_class.drop([\"endYear\"], axis=1)"
   ]
  },
  {
   "cell_type": "markdown",
   "id": "805323ad",
   "metadata": {},
   "source": [
    "#### Binarizzazione da capire"
   ]
  },
  {
   "cell_type": "code",
   "execution_count": 61,
   "id": "922c46a4",
   "metadata": {},
   "outputs": [],
   "source": [
    "\n",
    "#1 binarizzazione (0 / >0) per le variabili con tanti zeri (consigliato per NB)\n",
    "pp_class['awardWins_bin'] = (pp_class['awardWins'] > 0).astype(int)\n",
    "pp_class['totalVideos_bin'] = (pp_class['totalVideos'] > 0).astype(int)\n",
    "pp_class['awardNominationsExcludeWins_bin'] = (pp_class['awardNominationsExcludeWins'] > 0).astype(int)\n",
    "\n",
    "# pp_test_class['awardWins_bin'] = (pp_test_class['awardWins'] > 0).astype(int)\n",
    "# pp_test_class['totalVideos_bin'] = (pp_test_class['totalVideos'] > 0).astype(int)\n",
    "# pp_test_class['awardNominationsExcludeWins_bin'] = (pp_test_class['awardNominationsExcludeWins'] > 0).astype(int)\n"
   ]
  },
  {
   "cell_type": "code",
   "execution_count": 62,
   "id": "5ca46b4f",
   "metadata": {},
   "outputs": [],
   "source": [
    "#2 discretizzazione per fasce -> decise con \n",
    "#pp_class['awardNominationsExcludeWins'].value_counts().sort_index()"
   ]
  },
  {
   "cell_type": "code",
   "execution_count": 63,
   "id": "213dea89",
   "metadata": {},
   "outputs": [],
   "source": [
    "# bins_awards = [0, 1, 10, float('inf')]\n",
    "# labels_awards = [0, 1, 2]  # Mantengo valori numerici per compatibilità con algoritmi\n",
    "# pp_class['awardWins_bin'] = pd.cut(pp_class['awardWins'], bins=bins_awards, labels=labels_awards, right=False)\n",
    "# ## pp_test_class['awardWins_bin'] = pd.cut(pp_test_class['awardWins'], bins=bins_awards, labels=labels_awards, right=False)\n",
    "\n",
    "\n",
    "\n",
    "# bins_videos = [0, 1, 6, float('inf')]\n",
    "# labels_videos = [0, 1, 2]\n",
    "# pp_class['totalVideos_bin'] = pd.cut(pp_class['totalVideos'], bins=bins_videos, labels=labels_videos, right=False)\n",
    "# ## pp_test_class['totalVideos_bin'] = pd.cut(pp_test_class['totalVideos'], bins=bins_videos, labels=labels_videos, right=False)\n",
    "\n",
    "\n",
    "\n",
    "# bins_nom = [0, 1, 5, float('inf')]\n",
    "# labels_nom = [0, 1, 2]\n",
    "# pp_class['awardNominationsExcludeWins_bin'] = pd.cut(pp_class['awardNominationsExcludeWins'], \n",
    "#                                                     bins=bins_nom, \n",
    "#                                                     labels=labels_nom, \n",
    "#                                                     right=False)\n",
    "# ## pp_train_class['awardNominationsExcludeWins_bin'] = pd.cut(pp_train_class['awardNominationsExcludeWins'], \n",
    "# #                                                    bins=bins_nom, \n",
    "# #                                                    labels=labels_nom, \n",
    "# #                                                    right=False)\n",
    "\n",
    "\n",
    "\n",
    "# # Assicurati che le nuove colonne siano di tipo numerico\n",
    "# pp_class['awardWins_bin'] = pp_class['awardWins_bin'].astype(int)\n",
    "# pp_class['totalVideos_bin'] = pp_class['totalVideos_bin'].astype(int)\n",
    "# pp_class['awardNominationsExcludeWins_bin'] = pp_class['awardNominationsExcludeWins_bin'].astype(int)\n",
    "\n",
    "# ## pp_test_class['awardWins_bin'] = pp_test_class['awardWins_bin'].astype(int)\n",
    "# ## pp_test_class['totalVideos_bin'] = pp_test_class['totalVideos_bin'].astype(int)\n",
    "# ## pp_test_class['awardNominationsExcludeWins_bin'] = pp_test_class['awardNominationsExcludeWins_bin'].astype(int)\n"
   ]
  },
  {
   "cell_type": "markdown",
   "id": "cdfe1a6a",
   "metadata": {},
   "source": [
    "## array di valori per selezione feature classificazione"
   ]
  },
  {
   "cell_type": "code",
   "execution_count": 64,
   "id": "a52f8c66",
   "metadata": {},
   "outputs": [],
   "source": [
    "X_train = pp_class[[\n",
    "       'rating',\n",
    "       'startYear',  \n",
    "       'numVotes', \n",
    "       'totalImages', \n",
    "       'totalCredits', \n",
    "       'criticReviewsTotal',\n",
    "       'canHaveEpisodes', \n",
    "       'isAdult', \n",
    "       'numRegions', \n",
    "       'userReviewsTotal', \n",
    "       #'endYear',\n",
    "       'is_Documentary', 'is_History', 'is_Adventure', 'is_Thriller', 'is_Game-Show', 'is_Comedy', 'is_Sci-Fi', 'is_Romance', 'is_Biography', 'is_Musical', 'is_Western', 'is_Music', 'is_Film-Noir', 'is_Adult', 'is_Reality-TV', 'is_News', 'is_Action', 'is_Crime', 'is_Short', 'is_Fantasy', 'is_Family', 'is_Mystery',  'is_Talk-Show', 'is_Drama', 'is_Sport', 'is_War', 'is_Horror','is_Animation', \n",
    "       'fill_runtimeMinutes', \n",
    "       'is_from_Oceania','is_from_North America', 'is_from_South America', 'is_from_Asia', 'is_from_Africa', 'is_from_Europe', \n",
    "       'awardWins_bin',  \n",
    "       'totalVideos_bin', \n",
    "       'awardNominationsExcludeWins_bin' \n",
    "# #AGGIUNTE TRAIN BRUNO\n",
    "#     'countryOfOrigin', 'countryOfOrigin_freq_enc',\n",
    "#     'countryOfOrigin_NA', 'countryOfOrigin_AF', 'countryOfOrigin_AS', 'countryOfOrigin_EU', 'countryOfOrigin_OC', 'countryOfOrigin_SA','countryOfOrigin_UNK', \n",
    "#     'fill_runtimeMinutes_Bruno'       \n",
    "       ]].values\n",
    "\n",
    "## X_test = pp_test_class[[ ]].values"
   ]
  },
  {
   "cell_type": "markdown",
   "id": "4f1620f9",
   "metadata": {},
   "source": [
    "### Splitting in validation"
   ]
  },
  {
   "cell_type": "code",
   "execution_count": 65,
   "id": "7a5d6852",
   "metadata": {},
   "outputs": [],
   "source": [
    "X_train2, X_val, y_train2, y_val = train_test_split(\n",
    "     X_train, y_train, test_size=0.2, random_state=32)"
   ]
  },
  {
   "cell_type": "code",
   "execution_count": 66,
   "id": "8d27e2d9",
   "metadata": {},
   "outputs": [
    {
     "name": "stdout",
     "output_type": "stream",
     "text": [
      "(13144, 48) (3287, 48) (16431, 48)\n"
     ]
    }
   ],
   "source": [
    "print(X_train2.shape, X_val.shape, X_train.shape\n",
    "      #, X_test.shape\n",
    "      )"
   ]
  },
  {
   "cell_type": "markdown",
   "id": "fa53640e",
   "metadata": {},
   "source": [
    "Normalizzazione"
   ]
  },
  {
   "cell_type": "code",
   "execution_count": 67,
   "id": "60ed3b6d",
   "metadata": {},
   "outputs": [],
   "source": [
    "X_train2_log = np.log1p(X_train2)\n",
    "X_val_log= np.log1p(X_val)\n",
    "\n",
    "## X_train_log = np.log1p(X_train)\n",
    "## X_test_log = np.log1p(X_test)"
   ]
  },
  {
   "cell_type": "code",
   "execution_count": 68,
   "id": "0167143b",
   "metadata": {},
   "outputs": [],
   "source": [
    "\n",
    "standardsc = StandardScaler()\n",
    "\n",
    "        # # Fitta e trasforma il training set in un solo passaggio\n",
    "X_train2_standardsc = standardsc.fit_transform(X_train2_log)\n",
    "X_val_standardsc = standardsc.fit_transform(X_val_log)\n",
    "\n",
    "## X_train_standardsc = standardsc.fit_transform(X_train_log)\n",
    "        # # Trasforma il test set (senza rifittare!)\n",
    "## X_test_standardsc = standardsc.transform(X_test_log)"
   ]
  },
  {
   "cell_type": "code",
   "execution_count": 69,
   "id": "37b91377",
   "metadata": {},
   "outputs": [],
   "source": [
    "# minmax = MinMaxScaler()\n",
    "\n",
    "        ## Fitta e trasforma il training set in un solo passaggio\n",
    "# X_train2_minmax = minmax.fit_transform(X_train2_log)\n",
    "# X_val_minmax = minmax.fit_transform(X_val_log)\n",
    "\n",
    "## X_train_minmax = minmax.fit_transform(X_train_log)\n",
    "        # # Trasforma il test set (senza rifittare!)\n",
    "# #X_test_minmax = minmax.transform(X_test)"
   ]
  },
  {
   "cell_type": "code",
   "execution_count": 70,
   "id": "fdfe2b9b",
   "metadata": {},
   "outputs": [],
   "source": [
    "X_train2_tr = X_train2_standardsc\n",
    "X_val_tr = X_val_standardsc\n",
    "\n",
    "## X_train_tr = X_train_standardsc\n",
    "## X_test_tr = X_test_standardsc"
   ]
  },
  {
   "cell_type": "markdown",
   "id": "decc1cda",
   "metadata": {},
   "source": [
    "## NAIVE BAYES"
   ]
  },
  {
   "cell_type": "markdown",
   "id": "eac28e43",
   "metadata": {},
   "source": []
  }
 ],
 "metadata": {
  "kernelspec": {
   "display_name": "Python 3",
   "language": "python",
   "name": "python3"
  },
  "language_info": {
   "codemirror_mode": {
    "name": "ipython",
    "version": 3
   },
   "file_extension": ".py",
   "mimetype": "text/x-python",
   "name": "python",
   "nbconvert_exporter": "python",
   "pygments_lexer": "ipython3",
   "version": "3.8.2"
  }
 },
 "nbformat": 4,
 "nbformat_minor": 5
}
