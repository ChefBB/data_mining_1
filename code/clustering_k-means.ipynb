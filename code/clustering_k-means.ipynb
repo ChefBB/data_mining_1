{
 "cells": [
  {
   "cell_type": "markdown",
   "metadata": {},
   "source": [
    "# K-MEANS CLUSTERING"
   ]
  },
  {
   "cell_type": "markdown",
   "metadata": {},
   "source": [
    "### PUNTI DA CHIARIRE:\n",
    "##### - questione variables da mettere negli assi  --> chat dice che bisogna trovare le variabili che sono correlate tra di loro"
   ]
  },
  {
   "cell_type": "code",
   "execution_count": 313,
   "metadata": {},
   "outputs": [],
   "source": [
    "import numpy as np\n",
    "import pandas as pd\n",
    "import matplotlib.pyplot as plt \n",
    "import seaborn as sns"
   ]
  },
  {
   "cell_type": "code",
   "execution_count": 314,
   "metadata": {},
   "outputs": [],
   "source": [
    "#scaling, normalization\n",
    "from sklearn.preprocessing import StandardScaler, MinMaxScaler\n",
    "#kmeans\n",
    "from sklearn.cluster import KMeans\n",
    "#evaluation\n",
    "from sklearn.metrics import silhouette_score"
   ]
  },
  {
   "cell_type": "code",
   "execution_count": 315,
   "metadata": {},
   "outputs": [
    {
     "data": {
      "text/html": [
       "<div>\n",
       "<style scoped>\n",
       "    .dataframe tbody tr th:only-of-type {\n",
       "        vertical-align: middle;\n",
       "    }\n",
       "\n",
       "    .dataframe tbody tr th {\n",
       "        vertical-align: top;\n",
       "    }\n",
       "\n",
       "    .dataframe thead th {\n",
       "        text-align: right;\n",
       "    }\n",
       "</style>\n",
       "<table border=\"1\" class=\"dataframe\">\n",
       "  <thead>\n",
       "    <tr style=\"text-align: right;\">\n",
       "      <th></th>\n",
       "      <th>originalTitle</th>\n",
       "      <th>rating</th>\n",
       "      <th>startYear</th>\n",
       "      <th>endYear</th>\n",
       "      <th>runtimeMinutes</th>\n",
       "      <th>awardWins</th>\n",
       "      <th>numVotes</th>\n",
       "      <th>worstRating</th>\n",
       "      <th>bestRating</th>\n",
       "      <th>totalImages</th>\n",
       "      <th>...</th>\n",
       "      <th>is_War</th>\n",
       "      <th>is_Sci-Fi</th>\n",
       "      <th>is_Talk-Show</th>\n",
       "      <th>is_Adventure</th>\n",
       "      <th>is_Film-Noir</th>\n",
       "      <th>is_Music</th>\n",
       "      <th>is_Western</th>\n",
       "      <th>is_Comedy</th>\n",
       "      <th>is_Drama</th>\n",
       "      <th>fill_runtimeMinutes</th>\n",
       "    </tr>\n",
       "  </thead>\n",
       "  <tbody>\n",
       "    <tr>\n",
       "      <th>0</th>\n",
       "      <td>Neogenic Nightmare Chapter 3: Hydro-Man</td>\n",
       "      <td>8</td>\n",
       "      <td>1995</td>\n",
       "      <td>NaN</td>\n",
       "      <td>NaN</td>\n",
       "      <td>0.0</td>\n",
       "      <td>779</td>\n",
       "      <td>1</td>\n",
       "      <td>10</td>\n",
       "      <td>1</td>\n",
       "      <td>...</td>\n",
       "      <td>0</td>\n",
       "      <td>0</td>\n",
       "      <td>0</td>\n",
       "      <td>1</td>\n",
       "      <td>0</td>\n",
       "      <td>0</td>\n",
       "      <td>0</td>\n",
       "      <td>0</td>\n",
       "      <td>0</td>\n",
       "      <td>40.0</td>\n",
       "    </tr>\n",
       "    <tr>\n",
       "      <th>1</th>\n",
       "      <td>Looping</td>\n",
       "      <td>6</td>\n",
       "      <td>1982</td>\n",
       "      <td>NaN</td>\n",
       "      <td>NaN</td>\n",
       "      <td>0.0</td>\n",
       "      <td>11</td>\n",
       "      <td>1</td>\n",
       "      <td>10</td>\n",
       "      <td>1</td>\n",
       "      <td>...</td>\n",
       "      <td>0</td>\n",
       "      <td>0</td>\n",
       "      <td>0</td>\n",
       "      <td>0</td>\n",
       "      <td>0</td>\n",
       "      <td>0</td>\n",
       "      <td>0</td>\n",
       "      <td>0</td>\n",
       "      <td>0</td>\n",
       "      <td>28.0</td>\n",
       "    </tr>\n",
       "    <tr>\n",
       "      <th>2</th>\n",
       "      <td>Idealnaya para</td>\n",
       "      <td>6</td>\n",
       "      <td>1992</td>\n",
       "      <td>NaN</td>\n",
       "      <td>NaN</td>\n",
       "      <td>0.0</td>\n",
       "      <td>38</td>\n",
       "      <td>1</td>\n",
       "      <td>10</td>\n",
       "      <td>1</td>\n",
       "      <td>...</td>\n",
       "      <td>0</td>\n",
       "      <td>0</td>\n",
       "      <td>0</td>\n",
       "      <td>0</td>\n",
       "      <td>0</td>\n",
       "      <td>0</td>\n",
       "      <td>0</td>\n",
       "      <td>1</td>\n",
       "      <td>0</td>\n",
       "      <td>90.0</td>\n",
       "    </tr>\n",
       "    <tr>\n",
       "      <th>3</th>\n",
       "      <td>MasterChef Celebrity México</td>\n",
       "      <td>6</td>\n",
       "      <td>2021</td>\n",
       "      <td>NaN</td>\n",
       "      <td>NaN</td>\n",
       "      <td>0.0</td>\n",
       "      <td>15</td>\n",
       "      <td>1</td>\n",
       "      <td>10</td>\n",
       "      <td>22</td>\n",
       "      <td>...</td>\n",
       "      <td>0</td>\n",
       "      <td>0</td>\n",
       "      <td>0</td>\n",
       "      <td>0</td>\n",
       "      <td>0</td>\n",
       "      <td>0</td>\n",
       "      <td>0</td>\n",
       "      <td>0</td>\n",
       "      <td>0</td>\n",
       "      <td>31.0</td>\n",
       "    </tr>\n",
       "    <tr>\n",
       "      <th>4</th>\n",
       "      <td>Seutateueob</td>\n",
       "      <td>8</td>\n",
       "      <td>2020</td>\n",
       "      <td>2020.0</td>\n",
       "      <td>80.0</td>\n",
       "      <td>1.0</td>\n",
       "      <td>15718</td>\n",
       "      <td>1</td>\n",
       "      <td>10</td>\n",
       "      <td>347</td>\n",
       "      <td>...</td>\n",
       "      <td>0</td>\n",
       "      <td>0</td>\n",
       "      <td>0</td>\n",
       "      <td>0</td>\n",
       "      <td>0</td>\n",
       "      <td>0</td>\n",
       "      <td>0</td>\n",
       "      <td>1</td>\n",
       "      <td>1</td>\n",
       "      <td>80.0</td>\n",
       "    </tr>\n",
       "  </tbody>\n",
       "</table>\n",
       "<p>5 rows × 51 columns</p>\n",
       "</div>"
      ],
      "text/plain": [
       "                             originalTitle  rating  startYear  endYear  \\\n",
       "0  Neogenic Nightmare Chapter 3: Hydro-Man       8       1995      NaN   \n",
       "1                                  Looping       6       1982      NaN   \n",
       "2                           Idealnaya para       6       1992      NaN   \n",
       "3              MasterChef Celebrity México       6       2021      NaN   \n",
       "4                              Seutateueob       8       2020   2020.0   \n",
       "\n",
       "   runtimeMinutes  awardWins  numVotes  worstRating  bestRating  totalImages  \\\n",
       "0             NaN        0.0       779            1          10            1   \n",
       "1             NaN        0.0        11            1          10            1   \n",
       "2             NaN        0.0        38            1          10            1   \n",
       "3             NaN        0.0        15            1          10           22   \n",
       "4            80.0        1.0     15718            1          10          347   \n",
       "\n",
       "   ...  is_War  is_Sci-Fi  is_Talk-Show is_Adventure  is_Film-Noir  is_Music  \\\n",
       "0  ...       0          0             0            1             0         0   \n",
       "1  ...       0          0             0            0             0         0   \n",
       "2  ...       0          0             0            0             0         0   \n",
       "3  ...       0          0             0            0             0         0   \n",
       "4  ...       0          0             0            0             0         0   \n",
       "\n",
       "   is_Western  is_Comedy  is_Drama  fill_runtimeMinutes  \n",
       "0           0          0         0                 40.0  \n",
       "1           0          0         0                 28.0  \n",
       "2           0          1         0                 90.0  \n",
       "3           0          0         0                 31.0  \n",
       "4           0          1         1                 80.0  \n",
       "\n",
       "[5 rows x 51 columns]"
      ]
     },
     "execution_count": 315,
     "metadata": {},
     "output_type": "execute_result"
    }
   ],
   "source": [
    "df = pd.read_csv(\"pp_train.csv\")\n",
    "df.head()"
   ]
  },
  {
   "cell_type": "code",
   "execution_count": 316,
   "metadata": {},
   "outputs": [
    {
     "data": {
      "text/plain": [
       "Index(['originalTitle', 'rating', 'startYear', 'endYear', 'runtimeMinutes',\n",
       "       'awardWins', 'numVotes', 'worstRating', 'bestRating', 'totalImages',\n",
       "       'totalVideos', 'totalCredits', 'criticReviewsTotal', 'titleType',\n",
       "       'awardNominationsExcludeWins', 'canHaveEpisodes', 'isRatable',\n",
       "       'isAdult', 'numRegions', 'userReviewsTotal', 'ratingCount',\n",
       "       'countryOfOrigin', 'is_Thriller', 'is_Family', 'is_Short', 'is_Sport',\n",
       "       'is_Biography', 'is_Musical', 'is_Game-Show', 'is_Crime', 'is_Mystery',\n",
       "       'is_Horror', 'is_Romance', 'is_Animation', 'is_Fantasy', 'is_Action',\n",
       "       'is_Documentary', 'is_News', 'is_History', 'is_Adult', 'is_Reality-TV',\n",
       "       'is_War', 'is_Sci-Fi', 'is_Talk-Show', 'is_Adventure', 'is_Film-Noir',\n",
       "       'is_Music', 'is_Western', 'is_Comedy', 'is_Drama',\n",
       "       'fill_runtimeMinutes'],\n",
       "      dtype='object')"
      ]
     },
     "execution_count": 316,
     "metadata": {},
     "output_type": "execute_result"
    }
   ],
   "source": [
    "df.columns"
   ]
  },
  {
   "cell_type": "markdown",
   "metadata": {},
   "source": [
    "#### definizione delle feature da usare per clustering"
   ]
  },
  {
   "cell_type": "code",
   "execution_count": 317,
   "metadata": {},
   "outputs": [],
   "source": [
    "#features = df[['fill_runtimeMinutes', \"numVotes\"]]\n",
    "features = df[[\"awardWins\", \"numVotes\", \"worstRating\", \"bestRating\", \"totalImages\", \"totalVideos\", \"totalCredits\", \"criticReviewsTotal\", \"awardNominationsExcludeWins\", \"numRegions\", \"userReviewsTotal\", \"ratingCount\", \"fill_runtimeMinutes\"]]\n",
    "X = features.values"
   ]
  },
  {
   "cell_type": "markdown",
   "metadata": {},
   "source": [
    "#### mapping della variabile target (per noi è titleType) così da confrontarla dopo con gli eventuali cluster/individuare quali cluster contengono un'alta percentuale di quale categoria di titleType"
   ]
  },
  {
   "cell_type": "code",
   "execution_count": 318,
   "metadata": {},
   "outputs": [],
   "source": [
    "y = np.array(df['titleType'])\n",
    "y_map = {\"tvEpisode\": 0, \"videoGame\": 1, \"movie\": 2, \"tvSeries\": 3, \"video\": 4,\n",
    "         \"tvMiniSeries\": 5, \"short\": 6, \"tvMovie\": 7, \"tvSpecial\": 8, \"tvShort\": 9}\n",
    "\n",
    "y_mapped = pd.DataFrame(y).iloc[:,0].map(y_map) #target label"
   ]
  },
  {
   "cell_type": "markdown",
   "metadata": {},
   "source": [
    "### normalizzazione con z-score e minmax"
   ]
  },
  {
   "cell_type": "code",
   "execution_count": 319,
   "metadata": {},
   "outputs": [],
   "source": [
    "scaler = StandardScaler() \n",
    "scaler.fit(X) #x è la numpy matrix of the dataset\n",
    "X_scal = scaler.transform(X)"
   ]
  },
  {
   "cell_type": "code",
   "execution_count": 320,
   "metadata": {},
   "outputs": [],
   "source": [
    "scaler = MinMaxScaler()\n",
    "X_minmax = scaler.fit_transform(X)"
   ]
  },
  {
   "cell_type": "markdown",
   "metadata": {},
   "source": [
    "### inizializzazione modello"
   ]
  },
  {
   "cell_type": "code",
   "execution_count": 321,
   "metadata": {},
   "outputs": [
    {
     "data": {
      "text/html": [
       "<style>#sk-container-id-24 {color: black;}#sk-container-id-24 pre{padding: 0;}#sk-container-id-24 div.sk-toggleable {background-color: white;}#sk-container-id-24 label.sk-toggleable__label {cursor: pointer;display: block;width: 100%;margin-bottom: 0;padding: 0.3em;box-sizing: border-box;text-align: center;}#sk-container-id-24 label.sk-toggleable__label-arrow:before {content: \"▸\";float: left;margin-right: 0.25em;color: #696969;}#sk-container-id-24 label.sk-toggleable__label-arrow:hover:before {color: black;}#sk-container-id-24 div.sk-estimator:hover label.sk-toggleable__label-arrow:before {color: black;}#sk-container-id-24 div.sk-toggleable__content {max-height: 0;max-width: 0;overflow: hidden;text-align: left;background-color: #f0f8ff;}#sk-container-id-24 div.sk-toggleable__content pre {margin: 0.2em;color: black;border-radius: 0.25em;background-color: #f0f8ff;}#sk-container-id-24 input.sk-toggleable__control:checked~div.sk-toggleable__content {max-height: 200px;max-width: 100%;overflow: auto;}#sk-container-id-24 input.sk-toggleable__control:checked~label.sk-toggleable__label-arrow:before {content: \"▾\";}#sk-container-id-24 div.sk-estimator input.sk-toggleable__control:checked~label.sk-toggleable__label {background-color: #d4ebff;}#sk-container-id-24 div.sk-label input.sk-toggleable__control:checked~label.sk-toggleable__label {background-color: #d4ebff;}#sk-container-id-24 input.sk-hidden--visually {border: 0;clip: rect(1px 1px 1px 1px);clip: rect(1px, 1px, 1px, 1px);height: 1px;margin: -1px;overflow: hidden;padding: 0;position: absolute;width: 1px;}#sk-container-id-24 div.sk-estimator {font-family: monospace;background-color: #f0f8ff;border: 1px dotted black;border-radius: 0.25em;box-sizing: border-box;margin-bottom: 0.5em;}#sk-container-id-24 div.sk-estimator:hover {background-color: #d4ebff;}#sk-container-id-24 div.sk-parallel-item::after {content: \"\";width: 100%;border-bottom: 1px solid gray;flex-grow: 1;}#sk-container-id-24 div.sk-label:hover label.sk-toggleable__label {background-color: #d4ebff;}#sk-container-id-24 div.sk-serial::before {content: \"\";position: absolute;border-left: 1px solid gray;box-sizing: border-box;top: 0;bottom: 0;left: 50%;z-index: 0;}#sk-container-id-24 div.sk-serial {display: flex;flex-direction: column;align-items: center;background-color: white;padding-right: 0.2em;padding-left: 0.2em;position: relative;}#sk-container-id-24 div.sk-item {position: relative;z-index: 1;}#sk-container-id-24 div.sk-parallel {display: flex;align-items: stretch;justify-content: center;background-color: white;position: relative;}#sk-container-id-24 div.sk-item::before, #sk-container-id-24 div.sk-parallel-item::before {content: \"\";position: absolute;border-left: 1px solid gray;box-sizing: border-box;top: 0;bottom: 0;left: 50%;z-index: -1;}#sk-container-id-24 div.sk-parallel-item {display: flex;flex-direction: column;z-index: 1;position: relative;background-color: white;}#sk-container-id-24 div.sk-parallel-item:first-child::after {align-self: flex-end;width: 50%;}#sk-container-id-24 div.sk-parallel-item:last-child::after {align-self: flex-start;width: 50%;}#sk-container-id-24 div.sk-parallel-item:only-child::after {width: 0;}#sk-container-id-24 div.sk-dashed-wrapped {border: 1px dashed gray;margin: 0 0.4em 0.5em 0.4em;box-sizing: border-box;padding-bottom: 0.4em;background-color: white;}#sk-container-id-24 div.sk-label label {font-family: monospace;font-weight: bold;display: inline-block;line-height: 1.2em;}#sk-container-id-24 div.sk-label-container {text-align: center;}#sk-container-id-24 div.sk-container {/* jupyter's `normalize.less` sets `[hidden] { display: none; }` but bootstrap.min.css set `[hidden] { display: none !important; }` so we also need the `!important` here to be able to override the default hidden behavior on the sphinx rendered scikit-learn.org. See: https://github.com/scikit-learn/scikit-learn/issues/21755 */display: inline-block !important;position: relative;}#sk-container-id-24 div.sk-text-repr-fallback {display: none;}</style><div id=\"sk-container-id-24\" class=\"sk-top-container\"><div class=\"sk-text-repr-fallback\"><pre>KMeans(max_iter=100, n_clusters=3, n_init=10, random_state=94)</pre><b>In a Jupyter environment, please rerun this cell to show the HTML representation or trust the notebook. <br />On GitHub, the HTML representation is unable to render, please try loading this page with nbviewer.org.</b></div><div class=\"sk-container\" hidden><div class=\"sk-item\"><div class=\"sk-estimator sk-toggleable\"><input class=\"sk-toggleable__control sk-hidden--visually\" id=\"sk-estimator-id-24\" type=\"checkbox\" checked><label for=\"sk-estimator-id-24\" class=\"sk-toggleable__label sk-toggleable__label-arrow\">KMeans</label><div class=\"sk-toggleable__content\"><pre>KMeans(max_iter=100, n_clusters=3, n_init=10, random_state=94)</pre></div></div></div></div></div>"
      ],
      "text/plain": [
       "KMeans(max_iter=100, n_clusters=3, n_init=10, random_state=94)"
      ]
     },
     "execution_count": 321,
     "metadata": {},
     "output_type": "execute_result"
    }
   ],
   "source": [
    "kmeans = KMeans(n_clusters=3, n_init=10, max_iter=100, random_state=94) #inizializziamo algoritmo, fit it per lavorare sull'exact data\n",
    "#iniziamo con 3 cluster, 10 iterations, random_state: allows to have the same result \n",
    "\n",
    "kmeans.fit(X_scal)\n",
    "#kmeans.fit(X_minmax)"
   ]
  },
  {
   "cell_type": "code",
   "execution_count": 322,
   "metadata": {},
   "outputs": [
    {
     "data": {
      "image/png": "[encoded data removed]",
      "text/plain": [
       "<Figure size 640x480 with 1 Axes>"
      ]
     },
     "metadata": {},
     "output_type": "display_data"
    }
   ],
   "source": [
    "sns.scatterplot(data=df, \n",
    "                x=\"totalCredits\",\n",
    "                y=\"awardWins\",\n",
    "                hue=kmeans.labels_,\n",
    "                style=kmeans.labels_, #usiamo labels date da k-means\n",
    "                palette=\"bright\")\n",
    "plt.show()"
   ]
  },
  {
   "cell_type": "markdown",
   "metadata": {},
   "source": [
    "### identificazione dei centroidi"
   ]
  },
  {
   "cell_type": "code",
   "execution_count": 323,
   "metadata": {},
   "outputs": [
    {
     "data": {
      "text/plain": [
       "array([[-0.06182127, -0.06257704,  0.        ,  0.        , -0.06948972,\n",
       "        -0.05221752, -0.05826208, -0.10939638, -0.07339328, -0.13557836,\n",
       "        -0.07356613, -0.06258049, -0.03083587],\n",
       "       [ 7.85816862, 17.00743536,  0.        ,  0.        ,  6.15128467,\n",
       "         6.68932576,  6.74373213, 13.60456862, 11.36239229,  7.71595709,\n",
       "        13.90601087, 17.00746602,  1.04819286],\n",
       "       [ 1.35419758,  0.73913407,  0.        ,  0.        ,  1.70926552,\n",
       "         1.14020602,  1.322421  ,  2.41732697,  1.46582506,  3.6338651 ,\n",
       "         1.2936826 ,  0.73923816,  0.87579033]])"
      ]
     },
     "execution_count": 323,
     "metadata": {},
     "output_type": "execute_result"
    }
   ],
   "source": [
    "kmeans.cluster_centers_ #coordinates with centroids"
   ]
  },
  {
   "cell_type": "code",
   "execution_count": 324,
   "metadata": {},
   "outputs": [
    {
     "data": {
      "text/plain": [
       "array([[-8.96408486e+00, -6.04794658e+04,  1.00000000e+00,\n",
       "         1.00000000e+01, -2.43491978e+02, -1.34721207e+01,\n",
       "        -9.17161686e+02, -5.83082729e+01, -1.44584757e+01,\n",
       "        -8.21932878e+00, -4.21313238e+02, -6.05126533e+04,\n",
       "        -9.25076050e+01],\n",
       "       [ 1.13943445e+03,  1.64387117e+07,  1.00000000e+00,\n",
       "         1.00000000e+01,  2.15541015e+04,  1.72584605e+03,\n",
       "         1.06159831e+05,  7.25123507e+03,  2.23839128e+03,\n",
       "         5.25685082e+02,  7.96397243e+04,  1.64468539e+07,\n",
       "         3.14457858e+03],\n",
       "       [ 1.96358650e+02,  7.14422423e+05,  1.00000000e+00,\n",
       "         1.00000000e+01,  5.98926639e+03,  2.94173152e+02,\n",
       "         2.08175513e+04,  1.28843528e+03,  2.88767537e+02,\n",
       "         2.48102827e+02,  7.40892023e+03,  7.14875652e+05,\n",
       "         2.62737099e+03]])"
      ]
     },
     "execution_count": 324,
     "metadata": {},
     "output_type": "execute_result"
    }
   ],
   "source": [
    "centers = scaler.inverse_transform(kmeans.cluster_centers_) #from normalized to input domain\n",
    "centers"
   ]
  },
  {
   "cell_type": "code",
   "execution_count": 325,
   "metadata": {},
   "outputs": [],
   "source": [
    "df['kmeans_labels'] = kmeans.labels_\n",
    "df['kmeans_labels'] = df['kmeans_labels'].map({0:\"A\", 1: \"B\", 2: \"C\"})"
   ]
  },
  {
   "cell_type": "code",
   "execution_count": null,
   "metadata": {},
   "outputs": [
    {
     "data": {
      "image/png": "[encoded data removed]",
      "text/plain": [
       "<Figure size 640x480 with 1 Axes>"
      ]
     },
     "metadata": {},
     "output_type": "display_data"
    }
   ],
   "source": [
    "sns.scatterplot(data=df, \n",
    "                x=\"totalCredits\", \n",
    "                y=\"awardWins\", \n",
    "                hue='kmeans_labels', \n",
    "                style='kmeans_labels',\n",
    "                palette=\"bright\", \n",
    "                hue_order=[\"A\", \"B\", \"C\"]\n",
    "               )\n",
    "plt.legend()\n",
    "#qui è giusto che centers sia :,1 se in quello di fedele dice [:,2]?\n",
    "plt.scatter(centers[:,0], centers[:,2], c='red', marker='*', s=200) #plotting the centroids\n",
    "plt.show()"
   ]
  },
  {
   "cell_type": "markdown",
   "metadata": {},
   "source": [
    "### conronto con target variable"
   ]
  },
  {
   "cell_type": "code",
   "execution_count": 327,
   "metadata": {},
   "outputs": [
    {
     "data": {
      "text/plain": [
       "0        0\n",
       "1        1\n",
       "2        2\n",
       "3        3\n",
       "4        3\n",
       "        ..\n",
       "16426    2\n",
       "16427    2\n",
       "16428    2\n",
       "16429    2\n",
       "16430    6\n",
       "Name: 0, Length: 16431, dtype: int64"
      ]
     },
     "execution_count": 327,
     "metadata": {},
     "output_type": "execute_result"
    }
   ],
   "source": [
    "y_mapped"
   ]
  },
  {
   "cell_type": "code",
   "execution_count": 328,
   "metadata": {},
   "outputs": [
    {
     "data": {
      "text/plain": [
       "kmeans_labels  0\n",
       "A              0    0.295862\n",
       "               1    0.015996\n",
       "C              1    0.009690\n",
       "B              2    0.805556\n",
       "C              2    0.767442\n",
       "A              2    0.321809\n",
       "B              3    0.194444\n",
       "C              3    0.180233\n",
       "A              3    0.080295\n",
       "               4    0.049373\n",
       "C              4    0.015504\n",
       "A              5    0.013666\n",
       "C              5    0.013566\n",
       "A              6    0.155614\n",
       "C              6    0.005814\n",
       "A              7    0.054411\n",
       "C              7    0.007752\n",
       "A              8    0.010454\n",
       "               9    0.002519\n",
       "Name: proportion, dtype: float64"
      ]
     },
     "execution_count": 328,
     "metadata": {},
     "output_type": "execute_result"
    }
   ],
   "source": [
    "y_mapped.groupby(df['kmeans_labels']).value_counts(normalize=True)"
   ]
  },
  {
   "cell_type": "markdown",
   "metadata": {},
   "source": [
    "### metrics"
   ]
  },
  {
   "cell_type": "code",
   "execution_count": 329,
   "metadata": {},
   "outputs": [
    {
     "name": "stdout",
     "output_type": "stream",
     "text": [
      "SSE 114810.8720081443\n",
      "Silhouette 0.8311440591645148\n"
     ]
    }
   ],
   "source": [
    "print('SSE', kmeans.inertia_)\n",
    "print('Silhouette', silhouette_score(X_minmax, kmeans.labels_))"
   ]
  },
  {
   "cell_type": "code",
   "execution_count": 330,
   "metadata": {},
   "outputs": [
    {
     "name": "stdout",
     "output_type": "stream",
     "text": [
      "CPU times: total: 7.02 s\n",
      "Wall time: 19.9 s\n"
     ]
    }
   ],
   "source": [
    "%%time\n",
    "sse_list = []\n",
    "\n",
    "for k in range(2, 51):\n",
    "    kmeans = KMeans(n_clusters=k, n_init=10, max_iter=100)\n",
    "    kmeans.fit(X_minmax)\n",
    "    sse_list.append(kmeans.inertia_)"
   ]
  },
  {
   "cell_type": "code",
   "execution_count": null,
   "metadata": {},
   "outputs": [],
   "source": [
    "sil_list = []\n",
    "\n",
    "for k in range(2, 51):\n",
    "    kmeans = KMeans(n_clusters=k, n_init=10, max_iter=100)\n",
    "    kmeans.fit(X_minmax)\n",
    "    sil_list.append(silhouette_score(X_minmax, kmeans.labels_))"
   ]
  },
  {
   "cell_type": "code",
   "execution_count": 264,
   "metadata": {},
   "outputs": [
    {
     "data": {
      "image/png": "[encoded data removed]",
      "text/plain": [
       "<Figure size 640x480 with 2 Axes>"
      ]
     },
     "metadata": {},
     "output_type": "display_data"
    }
   ],
   "source": [
    "fig, axs = plt.subplots(2) \n",
    "\n",
    "sns.lineplot(x=range(len(sse_list)), y=sse_list, marker='o', ax=axs[0])\n",
    "axs[0].set(xlabel='k', ylabel='SSE')\n",
    "\n",
    "sns.lineplot(x=range(len(sil_list)), y=sil_list, marker='o', ax=axs[1])\n",
    "axs[1].set(xlabel='k', ylabel='Silhouette')\n",
    "\n",
    "plt.tight_layout()"
   ]
  }
 ],
 "metadata": {
  "kernelspec": {
   "display_name": "Python 3",
   "language": "python",
   "name": "python3"
  },
  "language_info": {
   "codemirror_mode": {
    "name": "ipython",
    "version": 3
   },
   "file_extension": ".py",
   "mimetype": "text/x-python",
   "name": "python",
   "nbconvert_exporter": "python",
   "pygments_lexer": "ipython3",
   "version": "3.8.2"
  }
 },
 "nbformat": 4,
 "nbformat_minor": 2
}
