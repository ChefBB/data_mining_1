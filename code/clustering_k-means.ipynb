{
 "cells": [
  {
   "cell_type": "markdown",
   "metadata": {},
   "source": [
    "# CLUSTERING - K-MEANS"
   ]
  },
  {
   "cell_type": "code",
   "execution_count": 56,
   "metadata": {},
   "outputs": [],
   "source": [
    "import numpy as np\n",
    "import pandas as pd\n",
    "import matplotlib.pyplot as plt \n",
    "import seaborn as sns\n",
    "from sklearn.preprocessing import StandardScaler, MinMaxScaler\n",
    "from sklearn.cluster import KMeans\n",
    "from sklearn.metrics import silhouette_score\n",
    "from scipy.spatial.distance import pdist, squareform"
   ]
  },
  {
   "cell_type": "code",
   "execution_count": 57,
   "metadata": {},
   "outputs": [
    {
     "data": {
      "text/html": [
       "<div>\n",
       "<style scoped>\n",
       "    .dataframe tbody tr th:only-of-type {\n",
       "        vertical-align: middle;\n",
       "    }\n",
       "\n",
       "    .dataframe tbody tr th {\n",
       "        vertical-align: top;\n",
       "    }\n",
       "\n",
       "    .dataframe thead th {\n",
       "        text-align: right;\n",
       "    }\n",
       "</style>\n",
       "<table border=\"1\" class=\"dataframe\">\n",
       "  <thead>\n",
       "    <tr style=\"text-align: right;\">\n",
       "      <th></th>\n",
       "      <th>originalTitle</th>\n",
       "      <th>rating</th>\n",
       "      <th>startYear</th>\n",
       "      <th>endYear</th>\n",
       "      <th>runtimeMinutes</th>\n",
       "      <th>awardWins</th>\n",
       "      <th>numVotes</th>\n",
       "      <th>totalImages</th>\n",
       "      <th>totalVideos</th>\n",
       "      <th>totalCredits</th>\n",
       "      <th>...</th>\n",
       "      <th>is_Fantasy</th>\n",
       "      <th>is_Family</th>\n",
       "      <th>is_Mystery</th>\n",
       "      <th>is_Talk-Show</th>\n",
       "      <th>is_Drama</th>\n",
       "      <th>is_Sport</th>\n",
       "      <th>is_War</th>\n",
       "      <th>is_Horror</th>\n",
       "      <th>is_Animation</th>\n",
       "      <th>fill_runtimeMinutes</th>\n",
       "    </tr>\n",
       "  </thead>\n",
       "  <tbody>\n",
       "    <tr>\n",
       "      <th>0</th>\n",
       "      <td>Neogenic Nightmare Chapter 3: Hydro-Man</td>\n",
       "      <td>8</td>\n",
       "      <td>1995</td>\n",
       "      <td>NaN</td>\n",
       "      <td>NaN</td>\n",
       "      <td>0.0</td>\n",
       "      <td>779</td>\n",
       "      <td>1</td>\n",
       "      <td>0</td>\n",
       "      <td>21</td>\n",
       "      <td>...</td>\n",
       "      <td>0</td>\n",
       "      <td>0</td>\n",
       "      <td>0</td>\n",
       "      <td>0</td>\n",
       "      <td>0</td>\n",
       "      <td>0</td>\n",
       "      <td>0</td>\n",
       "      <td>0</td>\n",
       "      <td>1</td>\n",
       "      <td>40.0</td>\n",
       "    </tr>\n",
       "    <tr>\n",
       "      <th>1</th>\n",
       "      <td>Looping</td>\n",
       "      <td>6</td>\n",
       "      <td>1982</td>\n",
       "      <td>NaN</td>\n",
       "      <td>NaN</td>\n",
       "      <td>0.0</td>\n",
       "      <td>11</td>\n",
       "      <td>1</td>\n",
       "      <td>0</td>\n",
       "      <td>1</td>\n",
       "      <td>...</td>\n",
       "      <td>0</td>\n",
       "      <td>0</td>\n",
       "      <td>0</td>\n",
       "      <td>0</td>\n",
       "      <td>0</td>\n",
       "      <td>0</td>\n",
       "      <td>0</td>\n",
       "      <td>0</td>\n",
       "      <td>0</td>\n",
       "      <td>28.0</td>\n",
       "    </tr>\n",
       "    <tr>\n",
       "      <th>2</th>\n",
       "      <td>Idealnaya para</td>\n",
       "      <td>6</td>\n",
       "      <td>1992</td>\n",
       "      <td>NaN</td>\n",
       "      <td>NaN</td>\n",
       "      <td>0.0</td>\n",
       "      <td>38</td>\n",
       "      <td>1</td>\n",
       "      <td>0</td>\n",
       "      <td>24</td>\n",
       "      <td>...</td>\n",
       "      <td>0</td>\n",
       "      <td>0</td>\n",
       "      <td>0</td>\n",
       "      <td>0</td>\n",
       "      <td>0</td>\n",
       "      <td>0</td>\n",
       "      <td>0</td>\n",
       "      <td>0</td>\n",
       "      <td>0</td>\n",
       "      <td>90.0</td>\n",
       "    </tr>\n",
       "    <tr>\n",
       "      <th>3</th>\n",
       "      <td>MasterChef Celebrity México</td>\n",
       "      <td>6</td>\n",
       "      <td>2021</td>\n",
       "      <td>NaN</td>\n",
       "      <td>NaN</td>\n",
       "      <td>0.0</td>\n",
       "      <td>15</td>\n",
       "      <td>22</td>\n",
       "      <td>0</td>\n",
       "      <td>56</td>\n",
       "      <td>...</td>\n",
       "      <td>0</td>\n",
       "      <td>0</td>\n",
       "      <td>0</td>\n",
       "      <td>0</td>\n",
       "      <td>0</td>\n",
       "      <td>0</td>\n",
       "      <td>0</td>\n",
       "      <td>0</td>\n",
       "      <td>0</td>\n",
       "      <td>31.0</td>\n",
       "    </tr>\n",
       "    <tr>\n",
       "      <th>4</th>\n",
       "      <td>Seutateueob</td>\n",
       "      <td>8</td>\n",
       "      <td>2020</td>\n",
       "      <td>2020.0</td>\n",
       "      <td>80.0</td>\n",
       "      <td>1.0</td>\n",
       "      <td>15718</td>\n",
       "      <td>347</td>\n",
       "      <td>2</td>\n",
       "      <td>47</td>\n",
       "      <td>...</td>\n",
       "      <td>0</td>\n",
       "      <td>0</td>\n",
       "      <td>0</td>\n",
       "      <td>0</td>\n",
       "      <td>1</td>\n",
       "      <td>0</td>\n",
       "      <td>0</td>\n",
       "      <td>0</td>\n",
       "      <td>0</td>\n",
       "      <td>80.0</td>\n",
       "    </tr>\n",
       "  </tbody>\n",
       "</table>\n",
       "<p>5 rows × 47 columns</p>\n",
       "</div>"
      ],
      "text/plain": [
       "                             originalTitle  rating  startYear  endYear  \\\n",
       "0  Neogenic Nightmare Chapter 3: Hydro-Man       8       1995      NaN   \n",
       "1                                  Looping       6       1982      NaN   \n",
       "2                           Idealnaya para       6       1992      NaN   \n",
       "3              MasterChef Celebrity México       6       2021      NaN   \n",
       "4                              Seutateueob       8       2020   2020.0   \n",
       "\n",
       "   runtimeMinutes  awardWins  numVotes  totalImages  totalVideos  \\\n",
       "0             NaN        0.0       779            1            0   \n",
       "1             NaN        0.0        11            1            0   \n",
       "2             NaN        0.0        38            1            0   \n",
       "3             NaN        0.0        15           22            0   \n",
       "4            80.0        1.0     15718          347            2   \n",
       "\n",
       "   totalCredits  ...  is_Fantasy is_Family  is_Mystery  is_Talk-Show  \\\n",
       "0            21  ...           0         0           0             0   \n",
       "1             1  ...           0         0           0             0   \n",
       "2            24  ...           0         0           0             0   \n",
       "3            56  ...           0         0           0             0   \n",
       "4            47  ...           0         0           0             0   \n",
       "\n",
       "   is_Drama  is_Sport  is_War is_Horror  is_Animation  fill_runtimeMinutes  \n",
       "0         0         0       0         0             1                 40.0  \n",
       "1         0         0       0         0             0                 28.0  \n",
       "2         0         0       0         0             0                 90.0  \n",
       "3         0         0       0         0             0                 31.0  \n",
       "4         1         0       0         0             0                 80.0  \n",
       "\n",
       "[5 rows x 47 columns]"
      ]
     },
     "execution_count": 57,
     "metadata": {},
     "output_type": "execute_result"
    }
   ],
   "source": [
    "pp_train = pd.read_csv(\"pp_train.csv\")\n",
    "pp_train.head()"
   ]
  },
  {
   "cell_type": "code",
   "execution_count": 58,
   "metadata": {},
   "outputs": [
    {
     "data": {
      "text/plain": [
       "Index(['originalTitle', 'rating', 'startYear', 'endYear', 'runtimeMinutes',\n",
       "       'awardWins', 'numVotes', 'totalImages', 'totalVideos', 'totalCredits',\n",
       "       'criticReviewsTotal', 'titleType', 'awardNominationsExcludeWins',\n",
       "       'canHaveEpisodes', 'isAdult', 'numRegions', 'userReviewsTotal',\n",
       "       'countryOfOrigin', 'is_Documentary', 'is_History', 'is_Adventure',\n",
       "       'is_Thriller', 'is_Game-Show', 'is_Comedy', 'is_Sci-Fi', 'is_Romance',\n",
       "       'is_Biography', 'is_Musical', 'is_Western', 'is_Music', 'is_Film-Noir',\n",
       "       'is_Adult', 'is_Reality-TV', 'is_News', 'is_Action', 'is_Crime',\n",
       "       'is_Short', 'is_Fantasy', 'is_Family', 'is_Mystery', 'is_Talk-Show',\n",
       "       'is_Drama', 'is_Sport', 'is_War', 'is_Horror', 'is_Animation',\n",
       "       'fill_runtimeMinutes'],\n",
       "      dtype='object')"
      ]
     },
     "execution_count": 58,
     "metadata": {},
     "output_type": "execute_result"
    }
   ],
   "source": [
    "pp_train.columns"
   ]
  },
  {
   "cell_type": "markdown",
   "metadata": {},
   "source": [
    "### Create a copy of the df to avoid changing the original one"
   ]
  },
  {
   "cell_type": "code",
   "execution_count": 59,
   "metadata": {},
   "outputs": [],
   "source": [
    "pp_train_copy = pp_train.copy()"
   ]
  },
  {
   "cell_type": "markdown",
   "metadata": {},
   "source": [
    "### Convert canHaveEpisodes in a binary 0-1 feature for better handling"
   ]
  },
  {
   "cell_type": "code",
   "execution_count": 60,
   "metadata": {},
   "outputs": [],
   "source": [
    "pp_train_copy['canHaveEpisodes'] = pp_train_copy['canHaveEpisodes'].astype(int)"
   ]
  },
  {
   "cell_type": "markdown",
   "metadata": {},
   "source": [
    "### Convert rating.unique values to binary variables "
   ]
  },
  {
   "cell_type": "code",
   "execution_count": 61,
   "metadata": {},
   "outputs": [],
   "source": [
    "# Create binary variables for each rating value\n",
    "for rating_value in pp_train_copy[\"rating\"].unique():\n",
    "    pp_train_copy[f\"rating = {rating_value}\"] = (pp_train_copy[\"rating\"] == rating_value).astype(int)"
   ]
  },
  {
   "cell_type": "markdown",
   "metadata": {},
   "source": [
    "### Checking the results"
   ]
  },
  {
   "cell_type": "code",
   "execution_count": 62,
   "metadata": {},
   "outputs": [
    {
     "data": {
      "text/plain": [
       "Index(['originalTitle', 'rating', 'startYear', 'endYear', 'runtimeMinutes',\n",
       "       'awardWins', 'numVotes', 'totalImages', 'totalVideos', 'totalCredits',\n",
       "       'criticReviewsTotal', 'titleType', 'awardNominationsExcludeWins',\n",
       "       'canHaveEpisodes', 'isAdult', 'numRegions', 'userReviewsTotal',\n",
       "       'countryOfOrigin', 'is_Documentary', 'is_History', 'is_Adventure',\n",
       "       'is_Thriller', 'is_Game-Show', 'is_Comedy', 'is_Sci-Fi', 'is_Romance',\n",
       "       'is_Biography', 'is_Musical', 'is_Western', 'is_Music', 'is_Film-Noir',\n",
       "       'is_Adult', 'is_Reality-TV', 'is_News', 'is_Action', 'is_Crime',\n",
       "       'is_Short', 'is_Fantasy', 'is_Family', 'is_Mystery', 'is_Talk-Show',\n",
       "       'is_Drama', 'is_Sport', 'is_War', 'is_Horror', 'is_Animation',\n",
       "       'fill_runtimeMinutes', 'rating = 8', 'rating = 6', 'rating = 9',\n",
       "       'rating = 7', 'rating = 3', 'rating = 5', 'rating = 10', 'rating = 4',\n",
       "       'rating = 1', 'rating = 2'],\n",
       "      dtype='object')"
      ]
     },
     "execution_count": 62,
     "metadata": {},
     "output_type": "execute_result"
    }
   ],
   "source": [
    "pp_train_copy.columns"
   ]
  },
  {
   "cell_type": "code",
   "execution_count": 63,
   "metadata": {},
   "outputs": [
    {
     "data": {
      "text/plain": [
       "0        0\n",
       "1        0\n",
       "2        0\n",
       "3        1\n",
       "4        1\n",
       "        ..\n",
       "16426    0\n",
       "16427    0\n",
       "16428    0\n",
       "16429    0\n",
       "16430    0\n",
       "Name: canHaveEpisodes, Length: 16431, dtype: int32"
      ]
     },
     "execution_count": 63,
     "metadata": {},
     "output_type": "execute_result"
    }
   ],
   "source": [
    "pp_train_copy[\"canHaveEpisodes\"]"
   ]
  },
  {
   "cell_type": "markdown",
   "metadata": {},
   "source": [
    "### Definizione delle feature numeriche da usare per clustering"
   ]
  },
  {
   "cell_type": "code",
   "execution_count": 64,
   "metadata": {},
   "outputs": [],
   "source": [
    "numeric = pp_train_copy[[\"startYear\", \"awardWins\", \"numVotes\", \"totalImages\", \"totalVideos\", \"totalCredits\", \"criticReviewsTotal\", \n",
    "                    \"awardNominationsExcludeWins\", \"numRegions\", \"userReviewsTotal\", \"fill_runtimeMinutes\"]]"
   ]
  },
  {
   "cell_type": "markdown",
   "metadata": {},
   "source": [
    "### Log-transformation delle variabili numeriche"
   ]
  },
  {
   "cell_type": "code",
   "execution_count": 65,
   "metadata": {},
   "outputs": [],
   "source": [
    "data_log = np.log1p(numeric)\n",
    "X_numeric_log = data_log.values\n",
    "#X = pp_train.iloc[:,:].values ---> questo comodo se nel dataset avessimo solo var numeriche"
   ]
  },
  {
   "cell_type": "markdown",
   "metadata": {},
   "source": [
    "### Normalizzazione con z-score e minmax"
   ]
  },
  {
   "cell_type": "code",
   "execution_count": 66,
   "metadata": {},
   "outputs": [],
   "source": [
    "scaler = StandardScaler() \n",
    "scaler.fit(X_numeric_log) #x è la numpy matrix of the dataset\n",
    "X_scal = scaler.transform(X_numeric_log)"
   ]
  },
  {
   "cell_type": "code",
   "execution_count": 67,
   "metadata": {},
   "outputs": [],
   "source": [
    "scaler = MinMaxScaler()\n",
    "X_minmax = scaler.fit_transform(X_numeric_log)"
   ]
  },
  {
   "cell_type": "markdown",
   "metadata": {},
   "source": [
    "### Include categorial variables to the computation"
   ]
  },
  {
   "cell_type": "code",
   "execution_count": 68,
   "metadata": {},
   "outputs": [],
   "source": [
    "X_cat = pp_train_copy[['canHaveEpisodes', 'isAdult', 'is_Documentary', 'is_History', 'is_Adventure',\n",
    "       'is_Thriller', 'is_Game-Show', 'is_Comedy', 'is_Sci-Fi', 'is_Romance',\n",
    "       'is_Biography', 'is_Musical', 'is_Western', 'is_Music', 'is_Film-Noir',\n",
    "       'is_Adult', 'is_Reality-TV', 'is_News', 'is_Action', 'is_Crime',\n",
    "       'is_Short', 'is_Fantasy', 'is_Family', 'is_Mystery', 'is_Talk-Show',\n",
    "       'is_Drama', 'is_Sport', 'is_War', 'is_Horror', 'is_Animation', 'rating = 8', 'rating = 6', 'rating = 9',\n",
    "       'rating = 7', 'rating = 3', 'rating = 5', 'rating = 10', 'rating = 4',\n",
    "       'rating = 1', 'rating = 2']].values "
   ]
  },
  {
   "cell_type": "markdown",
   "metadata": {},
   "source": [
    "### Concatenation of both numeric log-transformed and scaled with categorial binary ones"
   ]
  },
  {
   "cell_type": "code",
   "execution_count": 69,
   "metadata": {},
   "outputs": [],
   "source": [
    "X = np.concatenate([X_minmax, X_cat], axis=1)\n",
    "#---> to try also with standardscaled"
   ]
  },
  {
   "cell_type": "markdown",
   "metadata": {},
   "source": [
    "### Mixed distances to include both categorical and numerical to the computation (mixed distances)"
   ]
  },
  {
   "cell_type": "code",
   "execution_count": 70,
   "metadata": {},
   "outputs": [],
   "source": [
    "from scipy.spatial.distance import seuclidean, jaccard"
   ]
  },
  {
   "cell_type": "code",
   "execution_count": 71,
   "metadata": {},
   "outputs": [],
   "source": [
    "def mixed(a, b):\n",
    "    index = 4\n",
    "    d_con = seuclidean(a[:index], b[:index], V=np.ones(index))\n",
    "    w_con = index/len(a)\n",
    "    d_cat = jaccard(a[index:], b[index:])\n",
    "    w_cat = (len(a)-index)/len(a)\n",
    "    d = w_con * d_con + w_cat * d_cat\n",
    "    return d"
   ]
  },
  {
   "cell_type": "code",
   "execution_count": 72,
   "metadata": {},
   "outputs": [],
   "source": [
    "D = pdist(X, mixed)\n",
    "D = squareform(D)"
   ]
  },
  {
   "cell_type": "markdown",
   "metadata": {},
   "source": [
    "### Scale again the data after the mixed matrix computation"
   ]
  },
  {
   "cell_type": "code",
   "execution_count": 79,
   "metadata": {},
   "outputs": [],
   "source": [
    "scaler = MinMaxScaler()\n",
    "D_scaled = scaler.fit_transform(D)"
   ]
  },
  {
   "cell_type": "markdown",
   "metadata": {},
   "source": [
    "### Choice of the optimal number of clusters"
   ]
  },
  {
   "cell_type": "markdown",
   "metadata": {},
   "source": [
    "###### il ciclo for su k permette di identificare il best number of clusters da utilizzare nell'algoritmo; lo si trova vedendo SSE e silhouette"
   ]
  },
  {
   "cell_type": "code",
   "execution_count": null,
   "metadata": {},
   "outputs": [
    {
     "ename": "KeyboardInterrupt",
     "evalue": "",
     "output_type": "error",
     "traceback": [
      "\u001b[1;31m---------------------------------------------------------------------------\u001b[0m",
      "\u001b[1;31mKeyboardInterrupt\u001b[0m                         Traceback (most recent call last)",
      "Cell \u001b[1;32mIn[73], line 5\u001b[0m\n\u001b[0;32m      3\u001b[0m \u001b[38;5;28;01mfor\u001b[39;00m k \u001b[38;5;129;01min\u001b[39;00m \u001b[38;5;28mrange\u001b[39m(\u001b[38;5;241m2\u001b[39m, \u001b[38;5;241m51\u001b[39m):\n\u001b[0;32m      4\u001b[0m     kmeans \u001b[38;5;241m=\u001b[39m KMeans(n_clusters\u001b[38;5;241m=\u001b[39mk, n_init\u001b[38;5;241m=\u001b[39m\u001b[38;5;241m10\u001b[39m, max_iter\u001b[38;5;241m=\u001b[39m\u001b[38;5;241m100\u001b[39m)\n\u001b[1;32m----> 5\u001b[0m     \u001b[43mkmeans\u001b[49m\u001b[38;5;241;43m.\u001b[39;49m\u001b[43mfit\u001b[49m\u001b[43m(\u001b[49m\u001b[43mD\u001b[49m\u001b[43m)\u001b[49m \n\u001b[0;32m      6\u001b[0m     sse_list\u001b[38;5;241m.\u001b[39mappend(kmeans\u001b[38;5;241m.\u001b[39minertia_)\n",
      "File \u001b[1;32m~\\AppData\\Roaming\\Python\\Python38\\site-packages\\sklearn\\base.py:1152\u001b[0m, in \u001b[0;36m_fit_context.<locals>.decorator.<locals>.wrapper\u001b[1;34m(estimator, *args, **kwargs)\u001b[0m\n\u001b[0;32m   1145\u001b[0m     estimator\u001b[38;5;241m.\u001b[39m_validate_params()\n\u001b[0;32m   1147\u001b[0m \u001b[38;5;28;01mwith\u001b[39;00m config_context(\n\u001b[0;32m   1148\u001b[0m     skip_parameter_validation\u001b[38;5;241m=\u001b[39m(\n\u001b[0;32m   1149\u001b[0m         prefer_skip_nested_validation \u001b[38;5;129;01mor\u001b[39;00m global_skip_validation\n\u001b[0;32m   1150\u001b[0m     )\n\u001b[0;32m   1151\u001b[0m ):\n\u001b[1;32m-> 1152\u001b[0m     \u001b[38;5;28;01mreturn\u001b[39;00m \u001b[43mfit_method\u001b[49m\u001b[43m(\u001b[49m\u001b[43mestimator\u001b[49m\u001b[43m,\u001b[49m\u001b[43m \u001b[49m\u001b[38;5;241;43m*\u001b[39;49m\u001b[43margs\u001b[49m\u001b[43m,\u001b[49m\u001b[43m \u001b[49m\u001b[38;5;241;43m*\u001b[39;49m\u001b[38;5;241;43m*\u001b[39;49m\u001b[43mkwargs\u001b[49m\u001b[43m)\u001b[49m\n",
      "File \u001b[1;32m~\\AppData\\Roaming\\Python\\Python38\\site-packages\\sklearn\\cluster\\_kmeans.py:1519\u001b[0m, in \u001b[0;36mKMeans.fit\u001b[1;34m(self, X, y, sample_weight)\u001b[0m\n\u001b[0;32m   1515\u001b[0m best_inertia, best_labels \u001b[38;5;241m=\u001b[39m \u001b[38;5;28;01mNone\u001b[39;00m, \u001b[38;5;28;01mNone\u001b[39;00m\n\u001b[0;32m   1517\u001b[0m \u001b[38;5;28;01mfor\u001b[39;00m i \u001b[38;5;129;01min\u001b[39;00m \u001b[38;5;28mrange\u001b[39m(\u001b[38;5;28mself\u001b[39m\u001b[38;5;241m.\u001b[39m_n_init):\n\u001b[0;32m   1518\u001b[0m     \u001b[38;5;66;03m# Initialize centers\u001b[39;00m\n\u001b[1;32m-> 1519\u001b[0m     centers_init \u001b[38;5;241m=\u001b[39m \u001b[38;5;28;43mself\u001b[39;49m\u001b[38;5;241;43m.\u001b[39;49m\u001b[43m_init_centroids\u001b[49m\u001b[43m(\u001b[49m\n\u001b[0;32m   1520\u001b[0m \u001b[43m        \u001b[49m\u001b[43mX\u001b[49m\u001b[43m,\u001b[49m\n\u001b[0;32m   1521\u001b[0m \u001b[43m        \u001b[49m\u001b[43mx_squared_norms\u001b[49m\u001b[38;5;241;43m=\u001b[39;49m\u001b[43mx_squared_norms\u001b[49m\u001b[43m,\u001b[49m\n\u001b[0;32m   1522\u001b[0m \u001b[43m        \u001b[49m\u001b[43minit\u001b[49m\u001b[38;5;241;43m=\u001b[39;49m\u001b[43minit\u001b[49m\u001b[43m,\u001b[49m\n\u001b[0;32m   1523\u001b[0m \u001b[43m        \u001b[49m\u001b[43mrandom_state\u001b[49m\u001b[38;5;241;43m=\u001b[39;49m\u001b[43mrandom_state\u001b[49m\u001b[43m,\u001b[49m\n\u001b[0;32m   1524\u001b[0m \u001b[43m        \u001b[49m\u001b[43msample_weight\u001b[49m\u001b[38;5;241;43m=\u001b[39;49m\u001b[43msample_weight\u001b[49m\u001b[43m,\u001b[49m\n\u001b[0;32m   1525\u001b[0m \u001b[43m    \u001b[49m\u001b[43m)\u001b[49m\n\u001b[0;32m   1526\u001b[0m     \u001b[38;5;28;01mif\u001b[39;00m \u001b[38;5;28mself\u001b[39m\u001b[38;5;241m.\u001b[39mverbose:\n\u001b[0;32m   1527\u001b[0m         \u001b[38;5;28mprint\u001b[39m(\u001b[38;5;124m\"\u001b[39m\u001b[38;5;124mInitialization complete\u001b[39m\u001b[38;5;124m\"\u001b[39m)\n",
      "File \u001b[1;32m~\\AppData\\Roaming\\Python\\Python38\\site-packages\\sklearn\\cluster\\_kmeans.py:1019\u001b[0m, in \u001b[0;36m_BaseKMeans._init_centroids\u001b[1;34m(self, X, x_squared_norms, init, random_state, sample_weight, init_size, n_centroids)\u001b[0m\n\u001b[0;32m   1016\u001b[0m     sample_weight \u001b[38;5;241m=\u001b[39m sample_weight[init_indices]\n\u001b[0;32m   1018\u001b[0m \u001b[38;5;28;01mif\u001b[39;00m \u001b[38;5;28misinstance\u001b[39m(init, \u001b[38;5;28mstr\u001b[39m) \u001b[38;5;129;01mand\u001b[39;00m init \u001b[38;5;241m==\u001b[39m \u001b[38;5;124m\"\u001b[39m\u001b[38;5;124mk-means++\u001b[39m\u001b[38;5;124m\"\u001b[39m:\n\u001b[1;32m-> 1019\u001b[0m     centers, _ \u001b[38;5;241m=\u001b[39m \u001b[43m_kmeans_plusplus\u001b[49m\u001b[43m(\u001b[49m\n\u001b[0;32m   1020\u001b[0m \u001b[43m        \u001b[49m\u001b[43mX\u001b[49m\u001b[43m,\u001b[49m\n\u001b[0;32m   1021\u001b[0m \u001b[43m        \u001b[49m\u001b[43mn_clusters\u001b[49m\u001b[43m,\u001b[49m\n\u001b[0;32m   1022\u001b[0m \u001b[43m        \u001b[49m\u001b[43mrandom_state\u001b[49m\u001b[38;5;241;43m=\u001b[39;49m\u001b[43mrandom_state\u001b[49m\u001b[43m,\u001b[49m\n\u001b[0;32m   1023\u001b[0m \u001b[43m        \u001b[49m\u001b[43mx_squared_norms\u001b[49m\u001b[38;5;241;43m=\u001b[39;49m\u001b[43mx_squared_norms\u001b[49m\u001b[43m,\u001b[49m\n\u001b[0;32m   1024\u001b[0m \u001b[43m        \u001b[49m\u001b[43msample_weight\u001b[49m\u001b[38;5;241;43m=\u001b[39;49m\u001b[43msample_weight\u001b[49m\u001b[43m,\u001b[49m\n\u001b[0;32m   1025\u001b[0m \u001b[43m    \u001b[49m\u001b[43m)\u001b[49m\n\u001b[0;32m   1026\u001b[0m \u001b[38;5;28;01melif\u001b[39;00m \u001b[38;5;28misinstance\u001b[39m(init, \u001b[38;5;28mstr\u001b[39m) \u001b[38;5;129;01mand\u001b[39;00m init \u001b[38;5;241m==\u001b[39m \u001b[38;5;124m\"\u001b[39m\u001b[38;5;124mrandom\u001b[39m\u001b[38;5;124m\"\u001b[39m:\n\u001b[0;32m   1027\u001b[0m     seeds \u001b[38;5;241m=\u001b[39m random_state\u001b[38;5;241m.\u001b[39mchoice(\n\u001b[0;32m   1028\u001b[0m         n_samples,\n\u001b[0;32m   1029\u001b[0m         size\u001b[38;5;241m=\u001b[39mn_clusters,\n\u001b[0;32m   1030\u001b[0m         replace\u001b[38;5;241m=\u001b[39m\u001b[38;5;28;01mFalse\u001b[39;00m,\n\u001b[0;32m   1031\u001b[0m         p\u001b[38;5;241m=\u001b[39msample_weight \u001b[38;5;241m/\u001b[39m sample_weight\u001b[38;5;241m.\u001b[39msum(),\n\u001b[0;32m   1032\u001b[0m     )\n",
      "File \u001b[1;32m~\\AppData\\Roaming\\Python\\Python38\\site-packages\\sklearn\\cluster\\_kmeans.py:255\u001b[0m, in \u001b[0;36m_kmeans_plusplus\u001b[1;34m(X, n_clusters, x_squared_norms, sample_weight, random_state, n_local_trials)\u001b[0m\n\u001b[0;32m    252\u001b[0m np\u001b[38;5;241m.\u001b[39mclip(candidate_ids, \u001b[38;5;28;01mNone\u001b[39;00m, closest_dist_sq\u001b[38;5;241m.\u001b[39msize \u001b[38;5;241m-\u001b[39m \u001b[38;5;241m1\u001b[39m, out\u001b[38;5;241m=\u001b[39mcandidate_ids)\n\u001b[0;32m    254\u001b[0m \u001b[38;5;66;03m# Compute distances to center candidates\u001b[39;00m\n\u001b[1;32m--> 255\u001b[0m distance_to_candidates \u001b[38;5;241m=\u001b[39m \u001b[43m_euclidean_distances\u001b[49m\u001b[43m(\u001b[49m\n\u001b[0;32m    256\u001b[0m \u001b[43m    \u001b[49m\u001b[43mX\u001b[49m\u001b[43m[\u001b[49m\u001b[43mcandidate_ids\u001b[49m\u001b[43m]\u001b[49m\u001b[43m,\u001b[49m\u001b[43m \u001b[49m\u001b[43mX\u001b[49m\u001b[43m,\u001b[49m\u001b[43m \u001b[49m\u001b[43mY_norm_squared\u001b[49m\u001b[38;5;241;43m=\u001b[39;49m\u001b[43mx_squared_norms\u001b[49m\u001b[43m,\u001b[49m\u001b[43m \u001b[49m\u001b[43msquared\u001b[49m\u001b[38;5;241;43m=\u001b[39;49m\u001b[38;5;28;43;01mTrue\u001b[39;49;00m\n\u001b[0;32m    257\u001b[0m \u001b[43m\u001b[49m\u001b[43m)\u001b[49m\n\u001b[0;32m    259\u001b[0m \u001b[38;5;66;03m# update closest distances squared and potential for each candidate\u001b[39;00m\n\u001b[0;32m    260\u001b[0m np\u001b[38;5;241m.\u001b[39mminimum(closest_dist_sq, distance_to_candidates, out\u001b[38;5;241m=\u001b[39mdistance_to_candidates)\n",
      "File \u001b[1;32m~\\AppData\\Roaming\\Python\\Python38\\site-packages\\sklearn\\metrics\\pairwise.py:379\u001b[0m, in \u001b[0;36m_euclidean_distances\u001b[1;34m(X, Y, X_norm_squared, Y_norm_squared, squared)\u001b[0m\n\u001b[0;32m    376\u001b[0m     distances \u001b[38;5;241m=\u001b[39m _euclidean_distances_upcast(X, XX, Y, YY)\n\u001b[0;32m    377\u001b[0m \u001b[38;5;28;01melse\u001b[39;00m:\n\u001b[0;32m    378\u001b[0m     \u001b[38;5;66;03m# if dtype is already float64, no need to chunk and upcast\u001b[39;00m\n\u001b[1;32m--> 379\u001b[0m     distances \u001b[38;5;241m=\u001b[39m \u001b[38;5;241m-\u001b[39m\u001b[38;5;241m2\u001b[39m \u001b[38;5;241m*\u001b[39m \u001b[43msafe_sparse_dot\u001b[49m\u001b[43m(\u001b[49m\u001b[43mX\u001b[49m\u001b[43m,\u001b[49m\u001b[43m \u001b[49m\u001b[43mY\u001b[49m\u001b[38;5;241;43m.\u001b[39;49m\u001b[43mT\u001b[49m\u001b[43m,\u001b[49m\u001b[43m \u001b[49m\u001b[43mdense_output\u001b[49m\u001b[38;5;241;43m=\u001b[39;49m\u001b[38;5;28;43;01mTrue\u001b[39;49;00m\u001b[43m)\u001b[49m\n\u001b[0;32m    380\u001b[0m     distances \u001b[38;5;241m+\u001b[39m\u001b[38;5;241m=\u001b[39m XX\n\u001b[0;32m    381\u001b[0m     distances \u001b[38;5;241m+\u001b[39m\u001b[38;5;241m=\u001b[39m YY\n",
      "File \u001b[1;32m~\\AppData\\Roaming\\Python\\Python38\\site-packages\\sklearn\\utils\\extmath.py:192\u001b[0m, in \u001b[0;36msafe_sparse_dot\u001b[1;34m(a, b, dense_output)\u001b[0m\n\u001b[0;32m    190\u001b[0m         ret \u001b[38;5;241m=\u001b[39m np\u001b[38;5;241m.\u001b[39mdot(a, b)\n\u001b[0;32m    191\u001b[0m \u001b[38;5;28;01melse\u001b[39;00m:\n\u001b[1;32m--> 192\u001b[0m     ret \u001b[38;5;241m=\u001b[39m \u001b[43ma\u001b[49m\u001b[43m \u001b[49m\u001b[38;5;241;43m@\u001b[39;49m\u001b[43m \u001b[49m\u001b[43mb\u001b[49m\n\u001b[0;32m    194\u001b[0m \u001b[38;5;28;01mif\u001b[39;00m (\n\u001b[0;32m    195\u001b[0m     sparse\u001b[38;5;241m.\u001b[39missparse(a)\n\u001b[0;32m    196\u001b[0m     \u001b[38;5;129;01mand\u001b[39;00m sparse\u001b[38;5;241m.\u001b[39missparse(b)\n\u001b[0;32m    197\u001b[0m     \u001b[38;5;129;01mand\u001b[39;00m dense_output\n\u001b[0;32m    198\u001b[0m     \u001b[38;5;129;01mand\u001b[39;00m \u001b[38;5;28mhasattr\u001b[39m(ret, \u001b[38;5;124m\"\u001b[39m\u001b[38;5;124mtoarray\u001b[39m\u001b[38;5;124m\"\u001b[39m)\n\u001b[0;32m    199\u001b[0m ):\n\u001b[0;32m    200\u001b[0m     \u001b[38;5;28;01mreturn\u001b[39;00m ret\u001b[38;5;241m.\u001b[39mtoarray()\n",
      "\u001b[1;31mKeyboardInterrupt\u001b[0m: "
     ]
    }
   ],
   "source": [
    "sse_list = []\n",
    "\n",
    "for k in range(2, 51):\n",
    "    kmeans = KMeans(n_clusters=k, n_init=10, max_iter=100)\n",
    "    kmeans.fit(D_scaled) \n",
    "    sse_list.append(kmeans.inertia_)"
   ]
  },
  {
   "cell_type": "code",
   "execution_count": null,
   "metadata": {},
   "outputs": [],
   "source": [
    "sil_list = []\n",
    "\n",
    "for k in range(2, 51):\n",
    "    kmeans = KMeans(n_clusters=k, n_init=10, max_iter=100)\n",
    "    kmeans.fit(D_scaled)\n",
    "    sil_list.append(silhouette_score(X_minmax, kmeans.labels_))"
   ]
  },
  {
   "cell_type": "code",
   "execution_count": null,
   "metadata": {},
   "outputs": [
    {
     "data": {
      "image/png": "[encoded data removed]",
      "text/plain": [
       "<Figure size 640x480 with 2 Axes>"
      ]
     },
     "metadata": {},
     "output_type": "display_data"
    }
   ],
   "source": [
    "fig, axs = plt.subplots(2) \n",
    "\n",
    "sns.lineplot(x=range(len(sse_list)), y=sse_list, marker='o', ax=axs[0])\n",
    "axs[0].set(xlabel='k', ylabel='SSE')\n",
    "\n",
    "sns.lineplot(x=range(len(sil_list)), y=sil_list, marker='o', ax=axs[1])\n",
    "axs[1].set(xlabel='k', ylabel='Silhouette')\n",
    "\n",
    "plt.tight_layout()"
   ]
  },
  {
   "cell_type": "markdown",
   "metadata": {},
   "source": [
    "## SULLA BASE DEI VALORI QUI SOPRA INIZIALIZZARE IL MODELLO CON IL NUMERO ADATTO DI K"
   ]
  },
  {
   "cell_type": "markdown",
   "metadata": {},
   "source": [
    "### Inizializzazione modello"
   ]
  },
  {
   "cell_type": "code",
   "execution_count": 83,
   "metadata": {},
   "outputs": [
    {
     "data": {
      "text/html": [
       "<style>#sk-container-id-6 {color: black;}#sk-container-id-6 pre{padding: 0;}#sk-container-id-6 div.sk-toggleable {background-color: white;}#sk-container-id-6 label.sk-toggleable__label {cursor: pointer;display: block;width: 100%;margin-bottom: 0;padding: 0.3em;box-sizing: border-box;text-align: center;}#sk-container-id-6 label.sk-toggleable__label-arrow:before {content: \"▸\";float: left;margin-right: 0.25em;color: #696969;}#sk-container-id-6 label.sk-toggleable__label-arrow:hover:before {color: black;}#sk-container-id-6 div.sk-estimator:hover label.sk-toggleable__label-arrow:before {color: black;}#sk-container-id-6 div.sk-toggleable__content {max-height: 0;max-width: 0;overflow: hidden;text-align: left;background-color: #f0f8ff;}#sk-container-id-6 div.sk-toggleable__content pre {margin: 0.2em;color: black;border-radius: 0.25em;background-color: #f0f8ff;}#sk-container-id-6 input.sk-toggleable__control:checked~div.sk-toggleable__content {max-height: 200px;max-width: 100%;overflow: auto;}#sk-container-id-6 input.sk-toggleable__control:checked~label.sk-toggleable__label-arrow:before {content: \"▾\";}#sk-container-id-6 div.sk-estimator input.sk-toggleable__control:checked~label.sk-toggleable__label {background-color: #d4ebff;}#sk-container-id-6 div.sk-label input.sk-toggleable__control:checked~label.sk-toggleable__label {background-color: #d4ebff;}#sk-container-id-6 input.sk-hidden--visually {border: 0;clip: rect(1px 1px 1px 1px);clip: rect(1px, 1px, 1px, 1px);height: 1px;margin: -1px;overflow: hidden;padding: 0;position: absolute;width: 1px;}#sk-container-id-6 div.sk-estimator {font-family: monospace;background-color: #f0f8ff;border: 1px dotted black;border-radius: 0.25em;box-sizing: border-box;margin-bottom: 0.5em;}#sk-container-id-6 div.sk-estimator:hover {background-color: #d4ebff;}#sk-container-id-6 div.sk-parallel-item::after {content: \"\";width: 100%;border-bottom: 1px solid gray;flex-grow: 1;}#sk-container-id-6 div.sk-label:hover label.sk-toggleable__label {background-color: #d4ebff;}#sk-container-id-6 div.sk-serial::before {content: \"\";position: absolute;border-left: 1px solid gray;box-sizing: border-box;top: 0;bottom: 0;left: 50%;z-index: 0;}#sk-container-id-6 div.sk-serial {display: flex;flex-direction: column;align-items: center;background-color: white;padding-right: 0.2em;padding-left: 0.2em;position: relative;}#sk-container-id-6 div.sk-item {position: relative;z-index: 1;}#sk-container-id-6 div.sk-parallel {display: flex;align-items: stretch;justify-content: center;background-color: white;position: relative;}#sk-container-id-6 div.sk-item::before, #sk-container-id-6 div.sk-parallel-item::before {content: \"\";position: absolute;border-left: 1px solid gray;box-sizing: border-box;top: 0;bottom: 0;left: 50%;z-index: -1;}#sk-container-id-6 div.sk-parallel-item {display: flex;flex-direction: column;z-index: 1;position: relative;background-color: white;}#sk-container-id-6 div.sk-parallel-item:first-child::after {align-self: flex-end;width: 50%;}#sk-container-id-6 div.sk-parallel-item:last-child::after {align-self: flex-start;width: 50%;}#sk-container-id-6 div.sk-parallel-item:only-child::after {width: 0;}#sk-container-id-6 div.sk-dashed-wrapped {border: 1px dashed gray;margin: 0 0.4em 0.5em 0.4em;box-sizing: border-box;padding-bottom: 0.4em;background-color: white;}#sk-container-id-6 div.sk-label label {font-family: monospace;font-weight: bold;display: inline-block;line-height: 1.2em;}#sk-container-id-6 div.sk-label-container {text-align: center;}#sk-container-id-6 div.sk-container {/* jupyter's `normalize.less` sets `[hidden] { display: none; }` but bootstrap.min.css set `[hidden] { display: none !important; }` so we also need the `!important` here to be able to override the default hidden behavior on the sphinx rendered scikit-learn.org. See: https://github.com/scikit-learn/scikit-learn/issues/21755 */display: inline-block !important;position: relative;}#sk-container-id-6 div.sk-text-repr-fallback {display: none;}</style><div id=\"sk-container-id-6\" class=\"sk-top-container\"><div class=\"sk-text-repr-fallback\"><pre>KMeans(max_iter=100, n_clusters=4, n_init=10, random_state=94)</pre><b>In a Jupyter environment, please rerun this cell to show the HTML representation or trust the notebook. <br />On GitHub, the HTML representation is unable to render, please try loading this page with nbviewer.org.</b></div><div class=\"sk-container\" hidden><div class=\"sk-item\"><div class=\"sk-estimator sk-toggleable\"><input class=\"sk-toggleable__control sk-hidden--visually\" id=\"sk-estimator-id-6\" type=\"checkbox\" checked><label for=\"sk-estimator-id-6\" class=\"sk-toggleable__label sk-toggleable__label-arrow\">KMeans</label><div class=\"sk-toggleable__content\"><pre>KMeans(max_iter=100, n_clusters=4, n_init=10, random_state=94)</pre></div></div></div></div></div>"
      ],
      "text/plain": [
       "KMeans(max_iter=100, n_clusters=4, n_init=10, random_state=94)"
      ]
     },
     "execution_count": 83,
     "metadata": {},
     "output_type": "execute_result"
    }
   ],
   "source": [
    "kmeans = KMeans(n_clusters=4, n_init=10, max_iter=100, random_state=94) #inizializziamo algoritmo, fit it per lavorare sull'exact data\n",
    "#iniziamo con 3 cluster, 10 iterations, random_state: allows to have the same result \n",
    "\n",
    "#kmeans.fit(X_scal)\n",
    "#kmeans.fit(X_minmax)\n",
    "kmeans.fit(D_scaled) #---> numpy array di mixed matrix tra distanze di var numeriche e var binarie"
   ]
  },
  {
   "cell_type": "markdown",
   "metadata": {},
   "source": [
    "### Visualizzazione cluster\n",
    "#### ---> per selezionare le feature da mettere sugli assi, chat dice di valutare la correlation matrix"
   ]
  },
  {
   "cell_type": "code",
   "execution_count": 84,
   "metadata": {},
   "outputs": [
    {
     "data": {
      "image/png": "[encoded data removed]",
      "text/plain": [
       "<Figure size 640x480 with 1 Axes>"
      ]
     },
     "metadata": {},
     "output_type": "display_data"
    }
   ],
   "source": [
    "sns.scatterplot(data=pp_train_copy, \n",
    "                x=\"userReviewsTotal\",\n",
    "                y=\"numVotes\",\n",
    "                hue=kmeans.labels_,\n",
    "                style=kmeans.labels_, #usiamo labels date da k-means\n",
    "                palette=\"bright\")\n",
    "plt.show()"
   ]
  },
  {
   "cell_type": "markdown",
   "metadata": {},
   "source": [
    "### SSE e silhouette"
   ]
  },
  {
   "cell_type": "code",
   "execution_count": 32,
   "metadata": {},
   "outputs": [
    {
     "name": "stdout",
     "output_type": "stream",
     "text": [
      "SSE 20744.851480347956\n",
      "Silhouette -0.08007610287110146\n"
     ]
    }
   ],
   "source": [
    "print('SSE', kmeans.inertia_)\n",
    "print('Silhouette', silhouette_score(X_minmax, kmeans.labels_))"
   ]
  },
  {
   "cell_type": "markdown",
   "metadata": {},
   "source": [
    "### Identificazione dei centroidi"
   ]
  },
  {
   "cell_type": "code",
   "execution_count": 33,
   "metadata": {},
   "outputs": [
    {
     "data": {
      "text/plain": [
       "array([[ 1.94073453e-02,  2.07461841e-01,  1.66524144e-01,\n",
       "         1.57420638e-02,  3.80291425e-01,  7.13329471e-02,\n",
       "         2.35017697e-02,  9.54120064e-02,  1.11846610e-02,\n",
       "         1.27994572e-01,  8.65671636e-02,  4.66671891e-01,\n",
       "         3.65213422e-03,  4.56516777e-03,  2.71627482e-02,\n",
       "         8.44556037e-03,  9.81511071e-03,  1.00000000e+00,\n",
       "         2.05432550e-02,  1.18922620e-01,  1.82606711e-03,\n",
       "         1.98584798e-02,  4.56516777e-03,  3.83474093e-02,\n",
       "        -2.88397778e-17,  1.07281443e-02,  6.84775165e-03,\n",
       "         1.84889295e-02,  3.60648254e-02,  5.38689797e-02,\n",
       "         1.12531386e-01,  3.74343757e-02,  1.25085597e-01,\n",
       "         9.13033554e-03,  4.99885871e-02,  2.18443278e-01,\n",
       "         9.58685232e-03,  5.47820132e-03,  2.30540972e-02,\n",
       "         7.76078521e-02],\n",
       "       [ 2.79375055e-02,  1.41073821e-01,  1.10898566e-01,\n",
       "         1.39965943e-02,  2.90992254e-01,  4.65693330e-02,\n",
       "         2.66166558e-02,  9.36288089e-02,  2.21606648e-03,\n",
       "         8.86296728e-02,  4.76991921e-02,  4.76065957e-01,\n",
       "         1.00000000e+00,  6.81440443e-02,  1.60664820e-02,\n",
       "         5.54016620e-04,  2.16066482e-02,  1.93905817e-02,\n",
       "         3.87811634e-03,  5.54016621e-04,  8.25484765e-02,\n",
       "         3.32409972e-03,  4.57966998e-16,  6.03878116e-02,\n",
       "        -2.01661604e-17,  1.66204986e-03,  2.38227147e-02,\n",
       "         1.44044321e-02,  2.77008310e-03,  2.38227147e-02,\n",
       "         2.11634349e-01,  2.77008310e-03,  2.04986150e-02,\n",
       "         3.32409972e-03,  2.77008310e-03,  1.82825485e-02,\n",
       "         1.99445983e-02,  1.44044321e-02,  6.09418283e-03,\n",
       "         6.09418283e-03],\n",
       "       [ 1.81575316e-02,  1.49553637e-01,  1.30963747e-01,\n",
       "         1.32514825e-02,  3.22801282e-01,  5.44917142e-02,\n",
       "         1.81216393e-02,  1.31881576e-01,  8.12331784e-02,\n",
       "         1.04236326e-01,  6.43710760e-02,  4.59827253e-01,\n",
       "         2.19269047e-15,  1.17445559e-02,  2.44678248e-03,\n",
       "         9.64032298e-02,  3.57230242e-02,  2.27595720e-15,\n",
       "         5.18717886e-02,  4.94250061e-02,  6.36163445e-03,\n",
       "         2.07976511e-02,  5.21164668e-02,  4.91803279e-02,\n",
       "         1.22339124e-03,  7.82970394e-02,  6.58184487e-02,\n",
       "         1.27232689e-02,  9.64032298e-02,  6.77758747e-02,\n",
       "         2.66699290e-01,  4.35527282e-02,  6.94886225e-02,\n",
       "         3.98825544e-02,  2.74039638e-02, -1.06581410e-14,\n",
       "         2.91167115e-02,  8.80841693e-03,  9.86053340e-02,\n",
       "         9.54245168e-02],\n",
       "       [ 1.13418313e-02,  2.40249593e-01,  1.96901633e-01,\n",
       "         2.08145454e-02,  3.98178870e-01,  8.93245108e-02,\n",
       "         1.92424063e-02,  7.10659898e-02,  3.62581581e-03,\n",
       "         1.10657052e-01,  8.96501759e-02,  4.55439834e-01,\n",
       "         2.17548949e-03,  7.97679478e-03,  9.12255257e-01,\n",
       "         1.01522843e-02,  1.45032632e-02,  2.45830312e-01,\n",
       "         4.35097897e-02,  4.35097897e-03,  7.25163162e-04,\n",
       "         1.45032632e-03,  1.16026106e-02,  7.25163162e-04,\n",
       "        -1.56125113e-17,  2.90065265e-03,  1.59535896e-02,\n",
       "        -1.40512602e-16,  6.79477883e-01,  8.12182741e-02,\n",
       "         1.45032632e-03,  7.46918057e-02,  9.64467005e-02,\n",
       "         9.42712110e-03,  1.45032632e-03,  9.86221900e-02,\n",
       "         3.62581581e-03,  3.62581581e-03,  1.23277737e-02,\n",
       "         4.85134155e-01],\n",
       "       [ 4.58576184e-02,  2.15403538e-01,  1.85410176e-01,\n",
       "         2.09705748e-02,  3.95632664e-01,  9.56739979e-02,\n",
       "         4.89987860e-02,  7.84682988e-02,  7.53295669e-03,\n",
       "         1.80763515e-01,  1.04060856e-01,  5.06941746e-01,\n",
       "         2.30173677e-03,  3.20150659e-02,  3.80832810e-02,\n",
       "         7.09353421e-02,  4.18497594e-04,  1.46474158e-03,\n",
       "         1.67399037e-02,  1.36639464e-01,  1.94601381e-02,\n",
       "         1.00439422e-02,  1.12994350e-02,  1.56936598e-02,\n",
       "         4.60347353e-03,  7.53295669e-03,  2.09248797e-04,\n",
       "        -2.94902991e-16,  9.43712074e-02,  2.24523959e-01,\n",
       "         1.03996652e-01,  4.05942666e-02,  4.68717305e-02,\n",
       "         8.83029923e-02, -6.10622664e-16,  1.00000000e+00,\n",
       "         5.64971751e-03,  2.51098556e-02,  3.26428123e-02,\n",
       "         1.61121574e-02]])"
      ]
     },
     "execution_count": 33,
     "metadata": {},
     "output_type": "execute_result"
    }
   ],
   "source": [
    "kmeans.cluster_centers_ #coordinates with centroids"
   ]
  },
  {
   "cell_type": "code",
   "execution_count": 34,
   "metadata": {},
   "outputs": [
    {
     "ename": "ValueError",
     "evalue": "operands could not be broadcast together with shapes (5,40) (12,) (5,40) ",
     "output_type": "error",
     "traceback": [
      "\u001b[1;31m---------------------------------------------------------------------------\u001b[0m",
      "\u001b[1;31mValueError\u001b[0m                                Traceback (most recent call last)",
      "Cell \u001b[1;32mIn[34], line 1\u001b[0m\n\u001b[1;32m----> 1\u001b[0m centers \u001b[38;5;241m=\u001b[39m \u001b[43mscaler\u001b[49m\u001b[38;5;241;43m.\u001b[39;49m\u001b[43minverse_transform\u001b[49m\u001b[43m(\u001b[49m\u001b[43mkmeans\u001b[49m\u001b[38;5;241;43m.\u001b[39;49m\u001b[43mcluster_centers_\u001b[49m\u001b[43m)\u001b[49m \u001b[38;5;66;03m#from normalized to input domain\u001b[39;00m\n\u001b[0;32m      2\u001b[0m centers\n",
      "File \u001b[1;32m~\\AppData\\Roaming\\Python\\Python38\\site-packages\\sklearn\\preprocessing\\_data.py:548\u001b[0m, in \u001b[0;36mMinMaxScaler.inverse_transform\u001b[1;34m(self, X)\u001b[0m\n\u001b[0;32m    542\u001b[0m check_is_fitted(\u001b[38;5;28mself\u001b[39m)\n\u001b[0;32m    544\u001b[0m X \u001b[38;5;241m=\u001b[39m check_array(\n\u001b[0;32m    545\u001b[0m     X, copy\u001b[38;5;241m=\u001b[39m\u001b[38;5;28mself\u001b[39m\u001b[38;5;241m.\u001b[39mcopy, dtype\u001b[38;5;241m=\u001b[39mFLOAT_DTYPES, force_all_finite\u001b[38;5;241m=\u001b[39m\u001b[38;5;124m\"\u001b[39m\u001b[38;5;124mallow-nan\u001b[39m\u001b[38;5;124m\"\u001b[39m\n\u001b[0;32m    546\u001b[0m )\n\u001b[1;32m--> 548\u001b[0m X \u001b[38;5;241m-\u001b[39m\u001b[38;5;241m=\u001b[39m \u001b[38;5;28mself\u001b[39m\u001b[38;5;241m.\u001b[39mmin_\n\u001b[0;32m    549\u001b[0m X \u001b[38;5;241m/\u001b[39m\u001b[38;5;241m=\u001b[39m \u001b[38;5;28mself\u001b[39m\u001b[38;5;241m.\u001b[39mscale_\n\u001b[0;32m    550\u001b[0m \u001b[38;5;28;01mreturn\u001b[39;00m X\n",
      "\u001b[1;31mValueError\u001b[0m: operands could not be broadcast together with shapes (5,40) (12,) (5,40) "
     ]
    }
   ],
   "source": [
    "centers = scaler.inverse_transform(kmeans.cluster_centers_) #from normalized to input domain\n",
    "centers"
   ]
  },
  {
   "cell_type": "code",
   "execution_count": 180,
   "metadata": {},
   "outputs": [],
   "source": [
    "pp_train['kmeans_labels'] = kmeans.labels_\n",
    "pp_train['kmeans_labels'] = pp_train['kmeans_labels'].map({0:\"A\", 1: \"B\", 2: \"C\"})"
   ]
  },
  {
   "cell_type": "code",
   "execution_count": 181,
   "metadata": {},
   "outputs": [
    {
     "data": {
      "image/png": "[encoded data removed]",
      "text/plain": [
       "<Figure size 640x480 with 1 Axes>"
      ]
     },
     "metadata": {},
     "output_type": "display_data"
    }
   ],
   "source": [
    "sns.scatterplot(data=pp_train, \n",
    "                x=\"totalCredits\", \n",
    "                y=\"awardWins\", \n",
    "                hue='kmeans_labels', \n",
    "                style='kmeans_labels',\n",
    "                palette=\"bright\", \n",
    "                hue_order=[\"A\", \"B\", \"C\"]\n",
    "               )\n",
    "plt.legend()\n",
    "#qui è giusto che centers sia :,1 se in quello di fedele dice [:,2]?\n",
    "plt.scatter(centers[:,0], centers[:,2], c='red', marker='*', s=200) #plotting the centroids\n",
    "plt.show()"
   ]
  },
  {
   "cell_type": "markdown",
   "metadata": {},
   "source": [
    "#### Mapping della variabile target (per noi è titleType) così da confrontarla dopo con gli eventuali cluster/individuare quali cluster contengono un'alta percentuale di quale categoria di titleType"
   ]
  },
  {
   "cell_type": "code",
   "execution_count": 182,
   "metadata": {},
   "outputs": [],
   "source": [
    "y = np.array(pp_train['titleType'])\n",
    "y_map = {\"tvEpisode\": 0, \"videoGame\": 1, \"movie\": 2, \"tvSeries\": 3, \"video\": 4,\n",
    "         \"tvMiniSeries\": 5, \"short\": 6, \"tvMovie\": 7, \"tvSpecial\": 8, \"tvShort\": 9}\n",
    "\n",
    "y_mapped = pd.DataFrame(y).iloc[:,0].map(y_map) #target label"
   ]
  },
  {
   "cell_type": "markdown",
   "metadata": {},
   "source": [
    "### conronto con target variable"
   ]
  },
  {
   "cell_type": "code",
   "execution_count": 183,
   "metadata": {},
   "outputs": [
    {
     "data": {
      "text/plain": [
       "0        0\n",
       "1        1\n",
       "2        2\n",
       "3        3\n",
       "4        3\n",
       "        ..\n",
       "16426    2\n",
       "16427    2\n",
       "16428    2\n",
       "16429    2\n",
       "16430    6\n",
       "Name: 0, Length: 16431, dtype: int64"
      ]
     },
     "execution_count": 183,
     "metadata": {},
     "output_type": "execute_result"
    }
   ],
   "source": [
    "y_mapped"
   ]
  },
  {
   "cell_type": "code",
   "execution_count": 184,
   "metadata": {},
   "outputs": [
    {
     "data": {
      "text/plain": [
       "kmeans_labels  0\n",
       "A              0    0.286566\n",
       "B              0    0.013752\n",
       "A              1    0.015041\n",
       "B              1    0.006876\n",
       "               2    0.877210\n",
       "A              2    0.546940\n",
       "C              3    0.861021\n",
       "B              3    0.033399\n",
       "A              4    0.021006\n",
       "B              4    0.012770\n",
       "C              5    0.138979\n",
       "B              5    0.002947\n",
       "A              6    0.062241\n",
       "B              6    0.012770\n",
       "A              7    0.061203\n",
       "B              7    0.039293\n",
       "A              8    0.005965\n",
       "B              8    0.000982\n",
       "A              9    0.001037\n",
       "Name: proportion, dtype: float64"
      ]
     },
     "execution_count": 184,
     "metadata": {},
     "output_type": "execute_result"
    }
   ],
   "source": [
    "y_mapped.groupby(pp_train['kmeans_labels']).value_counts(normalize=True)\n",
    "#qui si vede quanta percentuale di titleType (i numeri da 0 a 9) appartiene a quale cluster (A, B, C)"
   ]
  }
 ],
 "metadata": {
  "kernelspec": {
   "display_name": "Python 3",
   "language": "python",
   "name": "python3"
  },
  "language_info": {
   "codemirror_mode": {
    "name": "ipython",
    "version": 3
   },
   "file_extension": ".py",
   "mimetype": "text/x-python",
   "name": "python",
   "nbconvert_exporter": "python",
   "pygments_lexer": "ipython3",
   "version": "3.8.2"
  }
 },
 "nbformat": 4,
 "nbformat_minor": 2
}
