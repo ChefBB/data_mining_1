{
 "cells": [
  {
   "cell_type": "markdown",
   "metadata": {},
   "source": [
    "# K-MEANS CLUSTERING"
   ]
  },
  {
   "cell_type": "markdown",
   "metadata": {},
   "source": [
    "### PUNTI DA CHIARIRE:\n",
    "##### - questione variables da mettere negli assi  --> chat dice che bisogna trovare le variabili che sono correlate tra di loro (vedere correlation matrix su report)"
   ]
  },
  {
   "cell_type": "code",
   "execution_count": 25,
   "metadata": {},
   "outputs": [],
   "source": [
    "import numpy as np\n",
    "import pandas as pd\n",
    "import matplotlib.pyplot as plt \n",
    "import seaborn as sns"
   ]
  },
  {
   "cell_type": "code",
   "execution_count": 26,
   "metadata": {},
   "outputs": [],
   "source": [
    "#scaling, normalization\n",
    "from sklearn.preprocessing import StandardScaler, MinMaxScaler\n",
    "#kmeans\n",
    "from sklearn.cluster import KMeans\n",
    "#evaluation\n",
    "from sklearn.metrics import silhouette_score"
   ]
  },
  {
   "cell_type": "code",
   "execution_count": 27,
   "metadata": {},
   "outputs": [
    {
     "data": {
      "text/html": [
       "<div>\n",
       "<style scoped>\n",
       "    .dataframe tbody tr th:only-of-type {\n",
       "        vertical-align: middle;\n",
       "    }\n",
       "\n",
       "    .dataframe tbody tr th {\n",
       "        vertical-align: top;\n",
       "    }\n",
       "\n",
       "    .dataframe thead th {\n",
       "        text-align: right;\n",
       "    }\n",
       "</style>\n",
       "<table border=\"1\" class=\"dataframe\">\n",
       "  <thead>\n",
       "    <tr style=\"text-align: right;\">\n",
       "      <th></th>\n",
       "      <th>originalTitle</th>\n",
       "      <th>rating</th>\n",
       "      <th>startYear</th>\n",
       "      <th>endYear</th>\n",
       "      <th>runtimeMinutes</th>\n",
       "      <th>awardWins</th>\n",
       "      <th>numVotes</th>\n",
       "      <th>totalImages</th>\n",
       "      <th>totalVideos</th>\n",
       "      <th>totalCredits</th>\n",
       "      <th>...</th>\n",
       "      <th>is_Fantasy</th>\n",
       "      <th>is_Family</th>\n",
       "      <th>is_Mystery</th>\n",
       "      <th>is_Talk-Show</th>\n",
       "      <th>is_Drama</th>\n",
       "      <th>is_Sport</th>\n",
       "      <th>is_War</th>\n",
       "      <th>is_Horror</th>\n",
       "      <th>is_Animation</th>\n",
       "      <th>fill_runtimeMinutes</th>\n",
       "    </tr>\n",
       "  </thead>\n",
       "  <tbody>\n",
       "    <tr>\n",
       "      <th>0</th>\n",
       "      <td>Neogenic Nightmare Chapter 3: Hydro-Man</td>\n",
       "      <td>8</td>\n",
       "      <td>1995</td>\n",
       "      <td>NaN</td>\n",
       "      <td>NaN</td>\n",
       "      <td>0.0</td>\n",
       "      <td>779</td>\n",
       "      <td>1</td>\n",
       "      <td>0</td>\n",
       "      <td>21</td>\n",
       "      <td>...</td>\n",
       "      <td>0</td>\n",
       "      <td>0</td>\n",
       "      <td>0</td>\n",
       "      <td>0</td>\n",
       "      <td>0</td>\n",
       "      <td>0</td>\n",
       "      <td>0</td>\n",
       "      <td>0</td>\n",
       "      <td>1</td>\n",
       "      <td>40.0</td>\n",
       "    </tr>\n",
       "    <tr>\n",
       "      <th>1</th>\n",
       "      <td>Looping</td>\n",
       "      <td>6</td>\n",
       "      <td>1982</td>\n",
       "      <td>NaN</td>\n",
       "      <td>NaN</td>\n",
       "      <td>0.0</td>\n",
       "      <td>11</td>\n",
       "      <td>1</td>\n",
       "      <td>0</td>\n",
       "      <td>1</td>\n",
       "      <td>...</td>\n",
       "      <td>0</td>\n",
       "      <td>0</td>\n",
       "      <td>0</td>\n",
       "      <td>0</td>\n",
       "      <td>0</td>\n",
       "      <td>0</td>\n",
       "      <td>0</td>\n",
       "      <td>0</td>\n",
       "      <td>0</td>\n",
       "      <td>28.0</td>\n",
       "    </tr>\n",
       "    <tr>\n",
       "      <th>2</th>\n",
       "      <td>Idealnaya para</td>\n",
       "      <td>6</td>\n",
       "      <td>1992</td>\n",
       "      <td>NaN</td>\n",
       "      <td>NaN</td>\n",
       "      <td>0.0</td>\n",
       "      <td>38</td>\n",
       "      <td>1</td>\n",
       "      <td>0</td>\n",
       "      <td>24</td>\n",
       "      <td>...</td>\n",
       "      <td>0</td>\n",
       "      <td>0</td>\n",
       "      <td>0</td>\n",
       "      <td>0</td>\n",
       "      <td>0</td>\n",
       "      <td>0</td>\n",
       "      <td>0</td>\n",
       "      <td>0</td>\n",
       "      <td>0</td>\n",
       "      <td>90.0</td>\n",
       "    </tr>\n",
       "    <tr>\n",
       "      <th>3</th>\n",
       "      <td>MasterChef Celebrity México</td>\n",
       "      <td>6</td>\n",
       "      <td>2021</td>\n",
       "      <td>NaN</td>\n",
       "      <td>NaN</td>\n",
       "      <td>0.0</td>\n",
       "      <td>15</td>\n",
       "      <td>22</td>\n",
       "      <td>0</td>\n",
       "      <td>56</td>\n",
       "      <td>...</td>\n",
       "      <td>0</td>\n",
       "      <td>0</td>\n",
       "      <td>0</td>\n",
       "      <td>0</td>\n",
       "      <td>0</td>\n",
       "      <td>0</td>\n",
       "      <td>0</td>\n",
       "      <td>0</td>\n",
       "      <td>0</td>\n",
       "      <td>31.0</td>\n",
       "    </tr>\n",
       "    <tr>\n",
       "      <th>4</th>\n",
       "      <td>Seutateueob</td>\n",
       "      <td>8</td>\n",
       "      <td>2020</td>\n",
       "      <td>2020.0</td>\n",
       "      <td>80.0</td>\n",
       "      <td>1.0</td>\n",
       "      <td>15718</td>\n",
       "      <td>347</td>\n",
       "      <td>2</td>\n",
       "      <td>47</td>\n",
       "      <td>...</td>\n",
       "      <td>0</td>\n",
       "      <td>0</td>\n",
       "      <td>0</td>\n",
       "      <td>0</td>\n",
       "      <td>1</td>\n",
       "      <td>0</td>\n",
       "      <td>0</td>\n",
       "      <td>0</td>\n",
       "      <td>0</td>\n",
       "      <td>80.0</td>\n",
       "    </tr>\n",
       "  </tbody>\n",
       "</table>\n",
       "<p>5 rows × 47 columns</p>\n",
       "</div>"
      ],
      "text/plain": [
       "                             originalTitle  rating  startYear  endYear  \\\n",
       "0  Neogenic Nightmare Chapter 3: Hydro-Man       8       1995      NaN   \n",
       "1                                  Looping       6       1982      NaN   \n",
       "2                           Idealnaya para       6       1992      NaN   \n",
       "3              MasterChef Celebrity México       6       2021      NaN   \n",
       "4                              Seutateueob       8       2020   2020.0   \n",
       "\n",
       "   runtimeMinutes  awardWins  numVotes  totalImages  totalVideos  \\\n",
       "0             NaN        0.0       779            1            0   \n",
       "1             NaN        0.0        11            1            0   \n",
       "2             NaN        0.0        38            1            0   \n",
       "3             NaN        0.0        15           22            0   \n",
       "4            80.0        1.0     15718          347            2   \n",
       "\n",
       "   totalCredits  ...  is_Fantasy is_Family  is_Mystery  is_Talk-Show  \\\n",
       "0            21  ...           0         0           0             0   \n",
       "1             1  ...           0         0           0             0   \n",
       "2            24  ...           0         0           0             0   \n",
       "3            56  ...           0         0           0             0   \n",
       "4            47  ...           0         0           0             0   \n",
       "\n",
       "   is_Drama  is_Sport  is_War is_Horror  is_Animation  fill_runtimeMinutes  \n",
       "0         0         0       0         0             1                 40.0  \n",
       "1         0         0       0         0             0                 28.0  \n",
       "2         0         0       0         0             0                 90.0  \n",
       "3         0         0       0         0             0                 31.0  \n",
       "4         1         0       0         0             0                 80.0  \n",
       "\n",
       "[5 rows x 47 columns]"
      ]
     },
     "execution_count": 27,
     "metadata": {},
     "output_type": "execute_result"
    }
   ],
   "source": [
    "pp_train = pd.read_csv(\"pp_train.csv\")\n",
    "#df = pd.read_csv(\"df_pp_log.csv\")\n",
    "pp_train.head()"
   ]
  },
  {
   "cell_type": "code",
   "execution_count": 28,
   "metadata": {},
   "outputs": [
    {
     "data": {
      "text/plain": [
       "Index(['originalTitle', 'rating', 'startYear', 'endYear', 'runtimeMinutes',\n",
       "       'awardWins', 'numVotes', 'totalImages', 'totalVideos', 'totalCredits',\n",
       "       'criticReviewsTotal', 'titleType', 'awardNominationsExcludeWins',\n",
       "       'canHaveEpisodes', 'isAdult', 'numRegions', 'userReviewsTotal',\n",
       "       'countryOfOrigin', 'is_Documentary', 'is_History', 'is_Adventure',\n",
       "       'is_Thriller', 'is_Game-Show', 'is_Comedy', 'is_Sci-Fi', 'is_Romance',\n",
       "       'is_Biography', 'is_Musical', 'is_Western', 'is_Music', 'is_Film-Noir',\n",
       "       'is_Adult', 'is_Reality-TV', 'is_News', 'is_Action', 'is_Crime',\n",
       "       'is_Short', 'is_Fantasy', 'is_Family', 'is_Mystery', 'is_Talk-Show',\n",
       "       'is_Drama', 'is_Sport', 'is_War', 'is_Horror', 'is_Animation',\n",
       "       'fill_runtimeMinutes'],\n",
       "      dtype='object')"
      ]
     },
     "execution_count": 28,
     "metadata": {},
     "output_type": "execute_result"
    }
   ],
   "source": [
    "pp_train.columns"
   ]
  },
  {
   "cell_type": "markdown",
   "metadata": {},
   "source": [
    "#### definizione delle feature da usare per clustering"
   ]
  },
  {
   "cell_type": "code",
   "execution_count": 29,
   "metadata": {},
   "outputs": [],
   "source": [
    "#features = df[['fill_runtimeMinutes', \"numVotes\"]]\n",
    "features = pp_train[[\"awardWins\", \"numVotes\", \"totalImages\", \"totalVideos\", \"totalCredits\", \"criticReviewsTotal\", \"awardNominationsExcludeWins\", \"numRegions\", \"userReviewsTotal\", \"fill_runtimeMinutes\"]]\n",
    "X = features.values"
   ]
  },
  {
   "cell_type": "markdown",
   "metadata": {},
   "source": [
    "#### mapping della variabile target (per noi è titleType) così da confrontarla dopo con gli eventuali cluster/individuare quali cluster contengono un'alta percentuale di quale categoria di titleType"
   ]
  },
  {
   "cell_type": "code",
   "execution_count": 30,
   "metadata": {},
   "outputs": [],
   "source": [
    "y = np.array(pp_train['titleType'])\n",
    "y_map = {\"tvEpisode\": 0, \"videoGame\": 1, \"movie\": 2, \"tvSeries\": 3, \"video\": 4,\n",
    "         \"tvMiniSeries\": 5, \"short\": 6, \"tvMovie\": 7, \"tvSpecial\": 8, \"tvShort\": 9}\n",
    "\n",
    "y_mapped = pd.DataFrame(y).iloc[:,0].map(y_map) #target label"
   ]
  },
  {
   "cell_type": "markdown",
   "metadata": {},
   "source": [
    "### normalizzazione con z-score e minmax"
   ]
  },
  {
   "cell_type": "code",
   "execution_count": 31,
   "metadata": {},
   "outputs": [],
   "source": [
    "scaler = StandardScaler() \n",
    "scaler.fit(X) #x è la numpy matrix of the dataset\n",
    "X_scal = scaler.transform(X)"
   ]
  },
  {
   "cell_type": "code",
   "execution_count": 32,
   "metadata": {},
   "outputs": [],
   "source": [
    "scaler = MinMaxScaler()\n",
    "X_minmax = scaler.fit_transform(X)"
   ]
  },
  {
   "cell_type": "markdown",
   "metadata": {},
   "source": [
    "### inizializzazione modello"
   ]
  },
  {
   "cell_type": "code",
   "execution_count": 33,
   "metadata": {},
   "outputs": [
    {
     "data": {
      "text/html": [
       "<style>#sk-container-id-2 {color: black;}#sk-container-id-2 pre{padding: 0;}#sk-container-id-2 div.sk-toggleable {background-color: white;}#sk-container-id-2 label.sk-toggleable__label {cursor: pointer;display: block;width: 100%;margin-bottom: 0;padding: 0.3em;box-sizing: border-box;text-align: center;}#sk-container-id-2 label.sk-toggleable__label-arrow:before {content: \"▸\";float: left;margin-right: 0.25em;color: #696969;}#sk-container-id-2 label.sk-toggleable__label-arrow:hover:before {color: black;}#sk-container-id-2 div.sk-estimator:hover label.sk-toggleable__label-arrow:before {color: black;}#sk-container-id-2 div.sk-toggleable__content {max-height: 0;max-width: 0;overflow: hidden;text-align: left;background-color: #f0f8ff;}#sk-container-id-2 div.sk-toggleable__content pre {margin: 0.2em;color: black;border-radius: 0.25em;background-color: #f0f8ff;}#sk-container-id-2 input.sk-toggleable__control:checked~div.sk-toggleable__content {max-height: 200px;max-width: 100%;overflow: auto;}#sk-container-id-2 input.sk-toggleable__control:checked~label.sk-toggleable__label-arrow:before {content: \"▾\";}#sk-container-id-2 div.sk-estimator input.sk-toggleable__control:checked~label.sk-toggleable__label {background-color: #d4ebff;}#sk-container-id-2 div.sk-label input.sk-toggleable__control:checked~label.sk-toggleable__label {background-color: #d4ebff;}#sk-container-id-2 input.sk-hidden--visually {border: 0;clip: rect(1px 1px 1px 1px);clip: rect(1px, 1px, 1px, 1px);height: 1px;margin: -1px;overflow: hidden;padding: 0;position: absolute;width: 1px;}#sk-container-id-2 div.sk-estimator {font-family: monospace;background-color: #f0f8ff;border: 1px dotted black;border-radius: 0.25em;box-sizing: border-box;margin-bottom: 0.5em;}#sk-container-id-2 div.sk-estimator:hover {background-color: #d4ebff;}#sk-container-id-2 div.sk-parallel-item::after {content: \"\";width: 100%;border-bottom: 1px solid gray;flex-grow: 1;}#sk-container-id-2 div.sk-label:hover label.sk-toggleable__label {background-color: #d4ebff;}#sk-container-id-2 div.sk-serial::before {content: \"\";position: absolute;border-left: 1px solid gray;box-sizing: border-box;top: 0;bottom: 0;left: 50%;z-index: 0;}#sk-container-id-2 div.sk-serial {display: flex;flex-direction: column;align-items: center;background-color: white;padding-right: 0.2em;padding-left: 0.2em;position: relative;}#sk-container-id-2 div.sk-item {position: relative;z-index: 1;}#sk-container-id-2 div.sk-parallel {display: flex;align-items: stretch;justify-content: center;background-color: white;position: relative;}#sk-container-id-2 div.sk-item::before, #sk-container-id-2 div.sk-parallel-item::before {content: \"\";position: absolute;border-left: 1px solid gray;box-sizing: border-box;top: 0;bottom: 0;left: 50%;z-index: -1;}#sk-container-id-2 div.sk-parallel-item {display: flex;flex-direction: column;z-index: 1;position: relative;background-color: white;}#sk-container-id-2 div.sk-parallel-item:first-child::after {align-self: flex-end;width: 50%;}#sk-container-id-2 div.sk-parallel-item:last-child::after {align-self: flex-start;width: 50%;}#sk-container-id-2 div.sk-parallel-item:only-child::after {width: 0;}#sk-container-id-2 div.sk-dashed-wrapped {border: 1px dashed gray;margin: 0 0.4em 0.5em 0.4em;box-sizing: border-box;padding-bottom: 0.4em;background-color: white;}#sk-container-id-2 div.sk-label label {font-family: monospace;font-weight: bold;display: inline-block;line-height: 1.2em;}#sk-container-id-2 div.sk-label-container {text-align: center;}#sk-container-id-2 div.sk-container {/* jupyter's `normalize.less` sets `[hidden] { display: none; }` but bootstrap.min.css set `[hidden] { display: none !important; }` so we also need the `!important` here to be able to override the default hidden behavior on the sphinx rendered scikit-learn.org. See: https://github.com/scikit-learn/scikit-learn/issues/21755 */display: inline-block !important;position: relative;}#sk-container-id-2 div.sk-text-repr-fallback {display: none;}</style><div id=\"sk-container-id-2\" class=\"sk-top-container\"><div class=\"sk-text-repr-fallback\"><pre>KMeans(max_iter=100, n_clusters=3, n_init=10, random_state=94)</pre><b>In a Jupyter environment, please rerun this cell to show the HTML representation or trust the notebook. <br />On GitHub, the HTML representation is unable to render, please try loading this page with nbviewer.org.</b></div><div class=\"sk-container\" hidden><div class=\"sk-item\"><div class=\"sk-estimator sk-toggleable\"><input class=\"sk-toggleable__control sk-hidden--visually\" id=\"sk-estimator-id-2\" type=\"checkbox\" checked><label for=\"sk-estimator-id-2\" class=\"sk-toggleable__label sk-toggleable__label-arrow\">KMeans</label><div class=\"sk-toggleable__content\"><pre>KMeans(max_iter=100, n_clusters=3, n_init=10, random_state=94)</pre></div></div></div></div></div>"
      ],
      "text/plain": [
       "KMeans(max_iter=100, n_clusters=3, n_init=10, random_state=94)"
      ]
     },
     "execution_count": 33,
     "metadata": {},
     "output_type": "execute_result"
    }
   ],
   "source": [
    "kmeans = KMeans(n_clusters=3, n_init=10, max_iter=100, random_state=94) #inizializziamo algoritmo, fit it per lavorare sull'exact data\n",
    "#iniziamo con 3 cluster, 10 iterations, random_state: allows to have the same result \n",
    "\n",
    "kmeans.fit(X_scal)\n",
    "#kmeans.fit(X_minmax)"
   ]
  },
  {
   "cell_type": "code",
   "execution_count": 34,
   "metadata": {},
   "outputs": [
    {
     "data": {
      "image/png": "[encoded data removed]",
      "text/plain": [
       "<Figure size 640x480 with 1 Axes>"
      ]
     },
     "metadata": {},
     "output_type": "display_data"
    }
   ],
   "source": [
    "sns.scatterplot(data=df, \n",
    "                x=\"totalCredits\",\n",
    "                y=\"awardWins\",\n",
    "                hue=kmeans.labels_,\n",
    "                style=kmeans.labels_, #usiamo labels date da k-means\n",
    "                palette=\"bright\")\n",
    "plt.show()"
   ]
  },
  {
   "cell_type": "markdown",
   "metadata": {},
   "source": [
    "### identificazione dei centroidi"
   ]
  },
  {
   "cell_type": "code",
   "execution_count": 35,
   "metadata": {},
   "outputs": [
    {
     "data": {
      "text/plain": [
       "array([[-0.06473094, -0.06317497, -0.07285804, -0.05343306, -0.06128853,\n",
       "        -0.11498041, -0.07617796, -0.15502143, -0.07571234, -0.03662892],\n",
       "       [ 7.84655227, 14.21590753,  6.37948653,  8.99230806,  6.5841921 ,\n",
       "        12.07864589, 12.35564685,  7.28351212, 12.58173938,  0.87084588],\n",
       "       [ 1.10913771,  0.64036672,  1.41371015,  0.74598497,  1.10712501,\n",
       "         2.09547026,  1.09483889,  3.43203911,  1.06781328,  0.868244  ]])"
      ]
     },
     "execution_count": 35,
     "metadata": {},
     "output_type": "execute_result"
    }
   ],
   "source": [
    "kmeans.cluster_centers_ #coordinates with centroids"
   ]
  },
  {
   "cell_type": "code",
   "execution_count": 36,
   "metadata": {},
   "outputs": [
    {
     "data": {
      "text/plain": [
       "array([[-9.38598622e+00, -6.10573995e+04, -2.55294572e+02,\n",
       "        -1.37857286e+01, -9.64804028e+02, -6.12845571e+01,\n",
       "        -1.50070591e+01, -9.54145729e+00, -4.33604561e+02,\n",
       "        -1.09886757e+02],\n",
       "       [ 1.13775008e+03,  1.37405326e+07,  2.23537208e+04,\n",
       "         2.32001548e+03,  1.03648352e+05,  6.43791826e+03,\n",
       "         2.43406243e+03,  4.96278824e+02,  7.20556214e+04,\n",
       "         2.61253763e+03],\n",
       "       [ 1.60824969e+02,  6.18957861e+05,  4.95364037e+03,\n",
       "         1.92464122e+02,  1.74283620e+04,  1.11688565e+03,\n",
       "         2.15683261e+02,  2.34378660e+02,  6.11536663e+03,\n",
       "         2.60473200e+03]])"
      ]
     },
     "execution_count": 36,
     "metadata": {},
     "output_type": "execute_result"
    }
   ],
   "source": [
    "centers = scaler.inverse_transform(kmeans.cluster_centers_) #from normalized to input domain\n",
    "centers"
   ]
  },
  {
   "cell_type": "code",
   "execution_count": 37,
   "metadata": {},
   "outputs": [],
   "source": [
    "pp_train['kmeans_labels'] = kmeans.labels_\n",
    "pp_train['kmeans_labels'] = pp_train['kmeans_labels'].map({0:\"A\", 1: \"B\", 2: \"C\"})"
   ]
  },
  {
   "cell_type": "code",
   "execution_count": 38,
   "metadata": {},
   "outputs": [
    {
     "data": {
      "image/png": "[encoded data removed]",
      "text/plain": [
       "<Figure size 640x480 with 1 Axes>"
      ]
     },
     "metadata": {},
     "output_type": "display_data"
    }
   ],
   "source": [
    "sns.scatterplot(data=pp_train, \n",
    "                x=\"totalCredits\", \n",
    "                y=\"awardWins\", \n",
    "                hue='kmeans_labels', \n",
    "                style='kmeans_labels',\n",
    "                palette=\"bright\", \n",
    "                hue_order=[\"A\", \"B\", \"C\"]\n",
    "               )\n",
    "plt.legend()\n",
    "#qui è giusto che centers sia :,1 se in quello di fedele dice [:,2]?\n",
    "plt.scatter(centers[:,0], centers[:,2], c='red', marker='*', s=200) #plotting the centroids\n",
    "plt.show()"
   ]
  },
  {
   "cell_type": "markdown",
   "metadata": {},
   "source": [
    "### conronto con target variable"
   ]
  },
  {
   "cell_type": "code",
   "execution_count": 39,
   "metadata": {},
   "outputs": [
    {
     "data": {
      "text/plain": [
       "0        0\n",
       "1        1\n",
       "2        2\n",
       "3        3\n",
       "4        3\n",
       "        ..\n",
       "16426    2\n",
       "16427    2\n",
       "16428    2\n",
       "16429    2\n",
       "16430    6\n",
       "Name: 0, Length: 16431, dtype: int64"
      ]
     },
     "execution_count": 39,
     "metadata": {},
     "output_type": "execute_result"
    }
   ],
   "source": [
    "y_mapped"
   ]
  },
  {
   "cell_type": "code",
   "execution_count": 40,
   "metadata": {},
   "outputs": [
    {
     "data": {
      "text/plain": [
       "kmeans_labels  0\n",
       "A              0    0.297983\n",
       "               1    0.016111\n",
       "C              1    0.008026\n",
       "               2    0.784912\n",
       "B              2    0.714286\n",
       "A              2    0.318153\n",
       "B              3    0.285714\n",
       "C              3    0.155698\n",
       "A              3    0.080299\n",
       "               4    0.049664\n",
       "C              4    0.014446\n",
       "               5    0.016051\n",
       "A              5    0.013574\n",
       "               6    0.156603\n",
       "C              6    0.008026\n",
       "A              7    0.054611\n",
       "C              7    0.011236\n",
       "A              8    0.010466\n",
       "C              8    0.001605\n",
       "A              9    0.002537\n",
       "Name: proportion, dtype: float64"
      ]
     },
     "execution_count": 40,
     "metadata": {},
     "output_type": "execute_result"
    }
   ],
   "source": [
    "y_mapped.groupby(pp_train['kmeans_labels']).value_counts(normalize=True)"
   ]
  },
  {
   "cell_type": "markdown",
   "metadata": {},
   "source": [
    "### metrics"
   ]
  },
  {
   "cell_type": "code",
   "execution_count": 41,
   "metadata": {},
   "outputs": [
    {
     "name": "stdout",
     "output_type": "stream",
     "text": [
      "SSE 108376.93693784493\n",
      "Silhouette 0.8248071809519472\n"
     ]
    }
   ],
   "source": [
    "print('SSE', kmeans.inertia_)\n",
    "print('Silhouette', silhouette_score(X_minmax, kmeans.labels_))"
   ]
  },
  {
   "cell_type": "code",
   "execution_count": 42,
   "metadata": {},
   "outputs": [
    {
     "name": "stdout",
     "output_type": "stream",
     "text": [
      "CPU times: total: 12 s\n",
      "Wall time: 22.5 s\n"
     ]
    }
   ],
   "source": [
    "%%time\n",
    "sse_list = []\n",
    "\n",
    "for k in range(2, 51):\n",
    "    kmeans = KMeans(n_clusters=k, n_init=10, max_iter=100)\n",
    "    kmeans.fit(X_minmax)\n",
    "    sse_list.append(kmeans.inertia_)"
   ]
  },
  {
   "cell_type": "code",
   "execution_count": 43,
   "metadata": {},
   "outputs": [],
   "source": [
    "sil_list = []\n",
    "\n",
    "for k in range(2, 51):\n",
    "    kmeans = KMeans(n_clusters=k, n_init=10, max_iter=100)\n",
    "    kmeans.fit(X_minmax)\n",
    "    sil_list.append(silhouette_score(X_minmax, kmeans.labels_))"
   ]
  },
  {
   "cell_type": "code",
   "execution_count": 44,
   "metadata": {},
   "outputs": [
    {
     "data": {
      "image/png": "[encoded data removed]",
      "text/plain": [
       "<Figure size 640x480 with 2 Axes>"
      ]
     },
     "metadata": {},
     "output_type": "display_data"
    }
   ],
   "source": [
    "fig, axs = plt.subplots(2) \n",
    "\n",
    "sns.lineplot(x=range(len(sse_list)), y=sse_list, marker='o', ax=axs[0])\n",
    "axs[0].set(xlabel='k', ylabel='SSE')\n",
    "\n",
    "sns.lineplot(x=range(len(sil_list)), y=sil_list, marker='o', ax=axs[1])\n",
    "axs[1].set(xlabel='k', ylabel='Silhouette')\n",
    "\n",
    "plt.tight_layout()"
   ]
  }
 ],
 "metadata": {
  "kernelspec": {
   "display_name": "Python 3",
   "language": "python",
   "name": "python3"
  },
  "language_info": {
   "codemirror_mode": {
    "name": "ipython",
    "version": 3
   },
   "file_extension": ".py",
   "mimetype": "text/x-python",
   "name": "python",
   "nbconvert_exporter": "python",
   "pygments_lexer": "ipython3",
   "version": "3.8.2"
  }
 },
 "nbformat": 4,
 "nbformat_minor": 2
}
