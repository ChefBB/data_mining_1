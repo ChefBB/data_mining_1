{
 "cells": [
  {
   "cell_type": "code",
   "execution_count": 3,
   "id": "738db51d",
   "metadata": {},
   "outputs": [],
   "source": [
    "from support.df_init import init\n",
    "\n",
    "train = init()\n",
    "test = init('pp_test.csv')\n",
    "\n",
    "# train = train[['originalTitle', 'rating', 'startYear', 'endYear', 'runtimeMinutes',\n",
    "#        'awardWins', 'numVotes', 'totalImages', 'totalVideos', 'totalCredits',\n",
    "#        'criticReviewsTotal', 'titleType', 'awardNominationsExcludeWins',\n",
    "#        'canHaveEpisodes', 'numRegions', 'userReviewsTotal',\n",
    "#        'is_Documentary', 'is_History', 'is_Adventure', 'is_Thriller',\n",
    "#        'is_Game-Show', 'is_Comedy', 'is_Sci-Fi', 'is_Romance', 'is_Biography',\n",
    "#        'is_Musical', 'is_Western', 'is_Music', 'is_Film-Noir', 'is_Adult',\n",
    "#        'is_Reality-TV', 'is_News', 'is_Action', 'is_Crime', 'is_Short',\n",
    "#        'is_Fantasy', 'is_Family', 'is_Mystery', 'is_Talk-Show', 'is_Drama',\n",
    "#        'is_Sport', 'is_War', 'is_Horror', 'is_Animation',\n",
    "#        'fill_runtimeMinutes', 'is_from_Oceania', 'is_from_North America',\n",
    "#        'is_from_South America', 'is_from_Asia', 'is_from_Africa',\n",
    "#        'is_from_Europe', 'countryOfOrigin', 'countryOfOrigin_freq_enc',\n",
    "#        'countryOfOrigin_NA', 'countryOfOrigin_AF', 'countryOfOrigin_AS',\n",
    "#        'countryOfOrigin_EU', 'countryOfOrigin_OC', 'countryOfOrigin_SA',\n",
    "#        'countryOfOrigin_UNK', 'fill_runtimeMinutes_Bruno', 'totalNominations',\n",
    "#        'totalMedia', 'runtimeMinutes_notitletype']]\n",
    "\n",
    "# test = test[['originalTitle', 'rating', 'startYear', 'endYear', 'runtimeMinutes',\n",
    "#        'awardWins', 'numVotes', 'totalImages', 'totalVideos', 'totalCredits',\n",
    "#        'criticReviewsTotal', 'titleType', 'awardNominationsExcludeWins',\n",
    "#        'canHaveEpisodes', 'numRegions', 'userReviewsTotal',\n",
    "#        'is_Documentary', 'is_History', 'is_Adventure', 'is_Thriller',\n",
    "#        'is_Game-Show', 'is_Comedy', 'is_Sci-Fi', 'is_Romance', 'is_Biography',\n",
    "#        'is_Musical', 'is_Western', 'is_Music', 'is_Film-Noir', 'is_Adult',\n",
    "#        'is_Reality-TV', 'is_News', 'is_Action', 'is_Crime', 'is_Short',\n",
    "#        'is_Fantasy', 'is_Family', 'is_Mystery', 'is_Talk-Show', 'is_Drama',\n",
    "#        'is_Sport', 'is_War', 'is_Horror', 'is_Animation',\n",
    "#        'fill_runtimeMinutes', 'is_from_Oceania', 'is_from_North America',\n",
    "#        'is_from_South America', 'is_from_Asia', 'is_from_Africa',\n",
    "#        'is_from_Europe', 'countryOfOrigin', 'countryOfOrigin_freq_enc',\n",
    "#        'countryOfOrigin_NA', 'countryOfOrigin_AF', 'countryOfOrigin_AS',\n",
    "#        'countryOfOrigin_EU', 'countryOfOrigin_OC', 'countryOfOrigin_SA',\n",
    "#        'countryOfOrigin_UNK', 'fill_runtimeMinutes_Bruno', 'totalNominations',\n",
    "#        'totalMedia', 'runtimeMinutes_notitletype']\n",
    "# ]\n",
    "# train.columns"
   ]
  },
  {
   "cell_type": "code",
   "execution_count": null,
   "id": "60d19b58",
   "metadata": {},
   "outputs": [],
   "source": [
    "# train.to_csv('train.csv', index=False)\n",
    "# test.to_csv('test.csv', index=False)"
   ]
  },
  {
   "cell_type": "code",
   "execution_count": null,
   "id": "52820825",
   "metadata": {},
   "outputs": [
    {
     "name": "stdout",
     "output_type": "stream",
     "text": [
      "runtimeMinutes_notitletype 3.0 166.0\n"
     ]
    },
    {
     "data": {
      "text/plain": [
       "(0         89.0\n",
       " 1         75.0\n",
       " 2         60.0\n",
       " 3         80.0\n",
       " 4         34.0\n",
       "          ...  \n",
       " 16126     49.0\n",
       " 16127     78.0\n",
       " 16128    140.0\n",
       " 16129     47.0\n",
       " 16130     15.0\n",
       " Name: runtimeMinutes_notitletype_imputed_no_type, Length: 16131, dtype: float64,\n",
       "                                           originalTitle  rating  startYear  \\\n",
       " 0     Geologist of Animal Collective Performs Live a...      10       2015   \n",
       " 1                                         Shan gou 1999       5       1999   \n",
       " 2       The Craftsman: Preserving the Last Higgins Boat       9       2023   \n",
       " 3                                       Week 3: Tuesday       7       2020   \n",
       " 4                                             Traumhaus       6       1999   \n",
       " ...                                                 ...     ...        ...   \n",
       " 5363                             Parasiz yasamak pahali       8       1994   \n",
       " 5364                                 Wedding Bell Blues       7       1994   \n",
       " 5365                    O anthropos pou to 'paize poly!       4       1983   \n",
       " 5366                             Above Average Presents       7       2012   \n",
       " 5367                     Omae wa mada Gunma wo shiranai       5       2017   \n",
       " \n",
       "       endYear  runtimeMinutes  awardWins  numVotes  totalImages  totalVideos  \\\n",
       " 0      2015.0            21.0        0.0        15            7            2   \n",
       " 1      1999.0             NaN        0.0       304           10            0   \n",
       " 2      2023.0             NaN        0.0        10            2            0   \n",
       " 3      2020.0             NaN        0.0        11            0            0   \n",
       " 4      1999.0            90.0        0.0       145            2            0   \n",
       " ...       ...             ...        ...       ...          ...          ...   \n",
       " 5363   1994.0           141.0        0.0        45            1            0   \n",
       " 5364   1994.0            22.0        0.0        19           17            0   \n",
       " 5365   1983.0            85.0        0.0        14            1            0   \n",
       " 5366      NaN             NaN        0.0       111           56            0   \n",
       " 5367   2017.0            30.0        0.0        11            1            0   \n",
       " \n",
       "       totalCredits  ...  countryOfOrigin_EU countryOfOrigin_OC  \\\n",
       " 0               11  ...                   0                  0   \n",
       " 1               40  ...                   0                  0   \n",
       " 2                6  ...                   0                  0   \n",
       " 3               52  ...                   1                  0   \n",
       " 4               44  ...                   1                  0   \n",
       " ...            ...  ...                 ...                ...   \n",
       " 5363            12  ...                   0                  0   \n",
       " 5364            35  ...                   0                  0   \n",
       " 5365            30  ...                   1                  0   \n",
       " 5366           992  ...                   0                  0   \n",
       " 5367            17  ...                   0                  0   \n",
       " \n",
       "       countryOfOrigin_SA  countryOfOrigin_UNK  fill_runtimeMinutes_Bruno  \\\n",
       " 0                      0                    0                       21.0   \n",
       " 1                      0                    0                      100.0   \n",
       " 2                      0                    0                       68.0   \n",
       " 3                      0                    0                       30.0   \n",
       " 4                      0                    0                       90.0   \n",
       " ...                  ...                  ...                        ...   \n",
       " 5363                   0                    0                      141.0   \n",
       " 5364                   0                    0                       22.0   \n",
       " 5365                   0                    0                       85.0   \n",
       " 5366                   0                    0                       30.0   \n",
       " 5367                   0                    0                       30.0   \n",
       " \n",
       "       totalNominations  totalMedia  runtimeMinutes_notitletype  \\\n",
       " 0                  0.0           9                        21.0   \n",
       " 1                  0.0          10                        60.0   \n",
       " 2                  0.0           2                        60.0   \n",
       " 3                  0.0           0                        66.0   \n",
       " 4                  0.0           2                        90.0   \n",
       " ...                ...         ...                         ...   \n",
       " 5363               0.0           1                       141.0   \n",
       " 5364               0.0          17                        22.0   \n",
       " 5365               0.0           1                        85.0   \n",
       " 5366               0.0          56                        30.0   \n",
       " 5367               0.0           1                        30.0   \n",
       " \n",
       "       outlier_no_type  runtimeMinutes_notitletype_imputed_no_type  \n",
       " 0               False                                        21.0  \n",
       " 1               False                                        60.0  \n",
       " 2               False                                        60.0  \n",
       " 3               False                                        66.0  \n",
       " 4               False                                        90.0  \n",
       " ...               ...                                         ...  \n",
       " 5363            False                                       141.0  \n",
       " 5364            False                                        22.0  \n",
       " 5365            False                                        85.0  \n",
       " 5366            False                                        30.0  \n",
       " 5367            False                                        30.0  \n",
       " \n",
       " [5368 rows x 66 columns])"
      ]
     },
     "execution_count": 4,
     "metadata": {},
     "output_type": "execute_result"
    }
   ],
   "source": [
    "from support.outliers import (\n",
    "    detect_outliers_runtime_no_title_type, detect_outliers_runtime)\n",
    "\n",
    "train, test = detect_outliers_runtime_no_title_type(train, test)\n",
    "# train, test = detect_outliers(train, test)"
   ]
  },
  {
   "cell_type": "code",
   "execution_count": 7,
   "id": "b2db4c5d",
   "metadata": {},
   "outputs": [
    {
     "name": "stdout",
     "output_type": "stream",
     "text": [
      "fill_runtimeMinutes_Bruno 3.0 170.0\n"
     ]
    }
   ],
   "source": [
    "train, test = detect_outliers_runtime(train, test)"
   ]
  },
  {
   "cell_type": "code",
   "execution_count": 8,
   "id": "ec5be75b",
   "metadata": {},
   "outputs": [
    {
     "data": {
      "text/plain": [
       "Index(['originalTitle', 'rating', 'startYear', 'endYear', 'runtimeMinutes',\n",
       "       'awardWins', 'numVotes', 'totalImages', 'totalVideos', 'totalCredits',\n",
       "       'criticReviewsTotal', 'titleType', 'awardNominationsExcludeWins',\n",
       "       'canHaveEpisodes', 'numRegions', 'userReviewsTotal', 'is_Documentary',\n",
       "       'is_History', 'is_Adventure', 'is_Thriller', 'is_Game-Show',\n",
       "       'is_Comedy', 'is_Sci-Fi', 'is_Romance', 'is_Biography', 'is_Musical',\n",
       "       'is_Western', 'is_Music', 'is_Film-Noir', 'is_Adult', 'is_Reality-TV',\n",
       "       'is_News', 'is_Action', 'is_Crime', 'is_Short', 'is_Fantasy',\n",
       "       'is_Family', 'is_Mystery', 'is_Talk-Show', 'is_Drama', 'is_Sport',\n",
       "       'is_War', 'is_Horror', 'is_Animation', 'fill_runtimeMinutes',\n",
       "       'is_from_Oceania', 'is_from_North America', 'is_from_South America',\n",
       "       'is_from_Asia', 'is_from_Africa', 'is_from_Europe', 'countryOfOrigin',\n",
       "       'countryOfOrigin_freq_enc', 'countryOfOrigin_NA', 'countryOfOrigin_AF',\n",
       "       'countryOfOrigin_AS', 'countryOfOrigin_EU', 'countryOfOrigin_OC',\n",
       "       'countryOfOrigin_SA', 'countryOfOrigin_UNK',\n",
       "       'fill_runtimeMinutes_Bruno', 'totalNominations', 'totalMedia',\n",
       "       'runtimeMinutes_notitletype', 'outlier_no_type',\n",
       "       'runtimeMinutes_notitletype_imputed_no_type', 'outlier_w_type',\n",
       "       'fill_runtimeMinutes_Bruno_imputed_w_type'],\n",
       "      dtype='object')"
      ]
     },
     "execution_count": 8,
     "metadata": {},
     "output_type": "execute_result"
    }
   ],
   "source": [
    "train.columns"
   ]
  },
  {
   "cell_type": "code",
   "execution_count": null,
   "id": "9edeefa8",
   "metadata": {},
   "outputs": [],
   "source": [
    "# train.to_csv('pp_train.csv', index=False)\n",
    "# test.to_csv('pp_test.csv', index=False)"
   ]
  },
  {
   "cell_type": "code",
   "execution_count": 5,
   "id": "3919d264",
   "metadata": {},
   "outputs": [
    {
     "data": {
      "text/plain": [
       "(outlier_no_type\n",
       " False    15832\n",
       " True       299\n",
       " Name: count, dtype: int64,\n",
       " outlier_no_type\n",
       " False    5272\n",
       " True       96\n",
       " Name: count, dtype: int64)"
      ]
     },
     "execution_count": 5,
     "metadata": {},
     "output_type": "execute_result"
    }
   ],
   "source": [
    "train['outlier_no_type'].value_counts(), test['outlier_no_type'].value_counts()"
   ]
  },
  {
   "cell_type": "code",
   "execution_count": 11,
   "id": "e73f6233",
   "metadata": {},
   "outputs": [
    {
     "data": {
      "text/plain": [
       "Index(['originalTitle', 'rating', 'startYear', 'endYear', 'runtimeMinutes',\n",
       "       'awardWins', 'numVotes', 'totalImages', 'totalVideos', 'totalCredits',\n",
       "       'criticReviewsTotal', 'titleType', 'awardNominationsExcludeWins',\n",
       "       'canHaveEpisodes', 'isAdult', 'numRegions', 'userReviewsTotal',\n",
       "       'is_Documentary', 'is_History', 'is_Adventure', 'is_Thriller',\n",
       "       'is_Game-Show', 'is_Comedy', 'is_Sci-Fi', 'is_Romance', 'is_Biography',\n",
       "       'is_Musical', 'is_Western', 'is_Music', 'is_Film-Noir', 'is_Adult',\n",
       "       'is_Reality-TV', 'is_News', 'is_Action', 'is_Crime', 'is_Short',\n",
       "       'is_Fantasy', 'is_Family', 'is_Mystery', 'is_Talk-Show', 'is_Drama',\n",
       "       'is_Sport', 'is_War', 'is_Horror', 'is_Animation',\n",
       "       'fill_runtimeMinutes', 'is_from_Oceania', 'is_from_North America',\n",
       "       'is_from_South America', 'is_from_Asia', 'is_from_Africa',\n",
       "       'is_from_Europe', 'countryOfOrigin', 'countryOfOrigin_freq_enc',\n",
       "       'countryOfOrigin_NA', 'countryOfOrigin_AF', 'countryOfOrigin_AS',\n",
       "       'countryOfOrigin_EU', 'countryOfOrigin_OC', 'countryOfOrigin_SA',\n",
       "       'countryOfOrigin_UNK', 'fill_runtimeMinutes_Bruno', 'totalNominations',\n",
       "       'totalMedia', 'runtimeMinutes_notitletype', 'outlier',\n",
       "       'startYear_imputed', 'runtimeMinutes_imputed', 'numVotes_imputed',\n",
       "       'totalCredits_imputed', 'criticReviewsTotal_imputed',\n",
       "       'numRegions_imputed', 'userReviewsTotal_imputed',\n",
       "       'fill_runtimeMinutes_Bruno_imputed', 'totalNominations_imputed',\n",
       "       'totalMedia_imputed', 'runtimeMinutes_notitletype_imputed'],\n",
       "      dtype='object')"
      ]
     },
     "execution_count": 11,
     "metadata": {},
     "output_type": "execute_result"
    }
   ],
   "source": [
    "train.columns"
   ]
  },
  {
   "cell_type": "code",
   "execution_count": 12,
   "id": "d77274da",
   "metadata": {},
   "outputs": [
    {
     "data": {
      "text/plain": [
       "outlier\n",
       "False    15132\n",
       "True      1040\n",
       "Name: count, dtype: int64"
      ]
     },
     "execution_count": 12,
     "metadata": {},
     "output_type": "execute_result"
    }
   ],
   "source": [
    "train['outlier'].value_counts()"
   ]
  },
  {
   "cell_type": "code",
   "execution_count": null,
   "id": "8b7b546e",
   "metadata": {},
   "outputs": [],
   "source": [
    "# train.to_csv('pp_train.csv', index=False)\n",
    "# test.to_csv('pp_test.csv', index=False)"
   ]
  },
  {
   "cell_type": "code",
   "execution_count": null,
   "id": "ee3da052",
   "metadata": {},
   "outputs": [],
   "source": []
  }
 ],
 "metadata": {
  "kernelspec": {
   "display_name": "Python 3",
   "language": "python",
   "name": "python3"
  },
  "language_info": {
   "codemirror_mode": {
    "name": "ipython",
    "version": 3
   },
   "file_extension": ".py",
   "mimetype": "text/x-python",
   "name": "python",
   "nbconvert_exporter": "python",
   "pygments_lexer": "ipython3",
   "version": "3.11.1"
  }
 },
 "nbformat": 4,
 "nbformat_minor": 5
}
