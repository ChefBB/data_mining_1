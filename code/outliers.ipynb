{
 "cells": [
  {
   "cell_type": "code",
   "execution_count": 1,
   "id": "738db51d",
   "metadata": {},
   "outputs": [],
   "source": [
    "from support.df_init import init\n",
    "\n",
    "train = init()\n",
    "test = init('pp_test.csv')"
   ]
  },
  {
   "cell_type": "code",
   "execution_count": null,
   "id": "60d19b58",
   "metadata": {},
   "outputs": [],
   "source": [
    "# train.to_csv('train.csv', index=False)\n",
    "# test.to_csv('test.csv', index=False)"
   ]
  },
  {
   "cell_type": "code",
   "execution_count": 3,
   "id": "52820825",
   "metadata": {},
   "outputs": [],
   "source": [
    "from support.outliers import (\n",
    "    detect_outliers_runtime_no_title_type, detect_outliers_runtime)\n",
    "\n",
    "train, test = detect_outliers_runtime_no_title_type(train, test)\n",
    "# train, test = detect_outliers(train, test)"
   ]
  },
  {
   "cell_type": "code",
   "execution_count": 4,
   "id": "b2db4c5d",
   "metadata": {},
   "outputs": [],
   "source": [
    "train, test = detect_outliers_runtime(train, test)"
   ]
  },
  {
   "cell_type": "code",
   "execution_count": 7,
   "id": "ec5be75b",
   "metadata": {},
   "outputs": [
    {
     "data": {
      "text/plain": [
       "Index(['originalTitle', 'rating', 'startYear', 'endYear', 'runtimeMinutes',\n",
       "       'awardWins', 'numVotes', 'totalImages', 'totalVideos', 'totalCredits',\n",
       "       'criticReviewsTotal', 'titleType', 'awardNominationsExcludeWins',\n",
       "       'canHaveEpisodes', 'numRegions', 'userReviewsTotal', 'is_Documentary',\n",
       "       'is_History', 'is_Adventure', 'is_Thriller', 'is_Game-Show',\n",
       "       'is_Comedy', 'is_Sci-Fi', 'is_Romance', 'is_Biography', 'is_Musical',\n",
       "       'is_Western', 'is_Music', 'is_Film-Noir', 'is_Adult', 'is_Reality-TV',\n",
       "       'is_News', 'is_Action', 'is_Crime', 'is_Short', 'is_Fantasy',\n",
       "       'is_Family', 'is_Mystery', 'is_Talk-Show', 'is_Drama', 'is_Sport',\n",
       "       'is_War', 'is_Horror', 'is_Animation', 'fill_runtimeMinutes',\n",
       "       'is_from_Oceania', 'is_from_North America', 'is_from_South America',\n",
       "       'is_from_Asia', 'is_from_Africa', 'is_from_Europe', 'countryOfOrigin',\n",
       "       'countryOfOrigin_freq_enc', 'countryOfOrigin_NA', 'countryOfOrigin_AF',\n",
       "       'countryOfOrigin_AS', 'countryOfOrigin_EU', 'countryOfOrigin_OC',\n",
       "       'countryOfOrigin_SA', 'countryOfOrigin_UNK',\n",
       "       'fill_runtimeMinutes_Bruno', 'totalNominations', 'totalMedia',\n",
       "       'runtimeMinutes_notitletype', 'outlier_no_type', 'outlier_w_type'],\n",
       "      dtype='object')"
      ]
     },
     "execution_count": 7,
     "metadata": {},
     "output_type": "execute_result"
    }
   ],
   "source": [
    "train.columns"
   ]
  },
  {
   "cell_type": "code",
   "execution_count": 6,
   "id": "61213c75",
   "metadata": {},
   "outputs": [],
   "source": [
    "train.drop(columns=['runtimeMinutes_notitletype_imputed_no_type'], inplace=True)\n",
    "test.drop(columns=['runtimeMinutes_notitletype_imputed_no_type'], inplace=True)\n",
    "train.drop(columns=['fill_runtimeMinutes_Bruno_imputed_w_type'], inplace=True)\n",
    "test.drop(columns=['fill_runtimeMinutes_Bruno_imputed_w_type'], inplace=True)"
   ]
  },
  {
   "cell_type": "code",
   "execution_count": null,
   "id": "9edeefa8",
   "metadata": {},
   "outputs": [],
   "source": [
    "# train.to_csv('pp_train.csv', index=False)\n",
    "# test.to_csv('pp_test.csv', index=False)"
   ]
  },
  {
   "cell_type": "code",
   "execution_count": 5,
   "id": "3919d264",
   "metadata": {},
   "outputs": [
    {
     "data": {
      "text/plain": [
       "(outlier_no_type\n",
       " False    15832\n",
       " True       299\n",
       " Name: count, dtype: int64,\n",
       " outlier_no_type\n",
       " False    5272\n",
       " True       96\n",
       " Name: count, dtype: int64)"
      ]
     },
     "execution_count": 5,
     "metadata": {},
     "output_type": "execute_result"
    }
   ],
   "source": [
    "train['outlier_no_type'].value_counts(), test['outlier_no_type'].value_counts()"
   ]
  },
  {
   "cell_type": "code",
   "execution_count": 11,
   "id": "e73f6233",
   "metadata": {},
   "outputs": [
    {
     "data": {
      "text/plain": [
       "Index(['originalTitle', 'rating', 'startYear', 'endYear', 'runtimeMinutes',\n",
       "       'awardWins', 'numVotes', 'totalImages', 'totalVideos', 'totalCredits',\n",
       "       'criticReviewsTotal', 'titleType', 'awardNominationsExcludeWins',\n",
       "       'canHaveEpisodes', 'isAdult', 'numRegions', 'userReviewsTotal',\n",
       "       'is_Documentary', 'is_History', 'is_Adventure', 'is_Thriller',\n",
       "       'is_Game-Show', 'is_Comedy', 'is_Sci-Fi', 'is_Romance', 'is_Biography',\n",
       "       'is_Musical', 'is_Western', 'is_Music', 'is_Film-Noir', 'is_Adult',\n",
       "       'is_Reality-TV', 'is_News', 'is_Action', 'is_Crime', 'is_Short',\n",
       "       'is_Fantasy', 'is_Family', 'is_Mystery', 'is_Talk-Show', 'is_Drama',\n",
       "       'is_Sport', 'is_War', 'is_Horror', 'is_Animation',\n",
       "       'fill_runtimeMinutes', 'is_from_Oceania', 'is_from_North America',\n",
       "       'is_from_South America', 'is_from_Asia', 'is_from_Africa',\n",
       "       'is_from_Europe', 'countryOfOrigin', 'countryOfOrigin_freq_enc',\n",
       "       'countryOfOrigin_NA', 'countryOfOrigin_AF', 'countryOfOrigin_AS',\n",
       "       'countryOfOrigin_EU', 'countryOfOrigin_OC', 'countryOfOrigin_SA',\n",
       "       'countryOfOrigin_UNK', 'fill_runtimeMinutes_Bruno', 'totalNominations',\n",
       "       'totalMedia', 'runtimeMinutes_notitletype', 'outlier',\n",
       "       'startYear_imputed', 'runtimeMinutes_imputed', 'numVotes_imputed',\n",
       "       'totalCredits_imputed', 'criticReviewsTotal_imputed',\n",
       "       'numRegions_imputed', 'userReviewsTotal_imputed',\n",
       "       'fill_runtimeMinutes_Bruno_imputed', 'totalNominations_imputed',\n",
       "       'totalMedia_imputed', 'runtimeMinutes_notitletype_imputed'],\n",
       "      dtype='object')"
      ]
     },
     "execution_count": 11,
     "metadata": {},
     "output_type": "execute_result"
    }
   ],
   "source": [
    "train.columns"
   ]
  },
  {
   "cell_type": "code",
   "execution_count": 12,
   "id": "d77274da",
   "metadata": {},
   "outputs": [
    {
     "data": {
      "text/plain": [
       "outlier\n",
       "False    15132\n",
       "True      1040\n",
       "Name: count, dtype: int64"
      ]
     },
     "execution_count": 12,
     "metadata": {},
     "output_type": "execute_result"
    }
   ],
   "source": [
    "train['outlier'].value_counts()"
   ]
  },
  {
   "cell_type": "code",
   "execution_count": null,
   "id": "8b7b546e",
   "metadata": {},
   "outputs": [],
   "source": [
    "# train.to_csv('pp_train.csv', index=False)\n",
    "# test.to_csv('pp_test.csv', index=False)"
   ]
  },
  {
   "cell_type": "code",
   "execution_count": null,
   "id": "ee3da052",
   "metadata": {},
   "outputs": [],
   "source": []
  }
 ],
 "metadata": {
  "kernelspec": {
   "display_name": "Python 3",
   "language": "python",
   "name": "python3"
  },
  "language_info": {
   "codemirror_mode": {
    "name": "ipython",
    "version": 3
   },
   "file_extension": ".py",
   "mimetype": "text/x-python",
   "name": "python",
   "nbconvert_exporter": "python",
   "pygments_lexer": "ipython3",
   "version": "3.11.1"
  }
 },
 "nbformat": 4,
 "nbformat_minor": 5
}
